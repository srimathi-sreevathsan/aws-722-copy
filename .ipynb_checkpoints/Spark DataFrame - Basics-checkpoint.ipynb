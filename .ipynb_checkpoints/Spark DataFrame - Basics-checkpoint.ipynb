{
 "cells": [
  {
   "cell_type": "markdown",
   "metadata": {},
   "source": [
    "# Spark DataFrame - Basics\n",
    "\n",
    "Let's start off with the fundamentals of Spark DataFrame. \n",
    "\n",
    "Objective: In this exercise, you'll find out how to start a spark session, read in data, explore the data and manipuluate the data (using DataFrame syntax as well as SQL syntax). Let's get started! "
   ]
  },
  {
   "cell_type": "code",
   "execution_count": 17,
   "metadata": {},
   "outputs": [],
   "source": [
    "# Must be included at the beginning of each new notebook. Remember to change the app name.\n",
    "import findspark\n",
    "findspark.init('/home/ubuntu/spark-3.2.1-bin-hadoop2.7')\n",
    "import warnings\n",
    "warnings.simplefilter(action='ignore')\n",
    "import pyspark\n",
    "from pyspark.sql import SparkSession\n",
    "spark = SparkSession.builder.appName('readin').getOrCreate()"
   ]
  },
  {
   "cell_type": "code",
   "execution_count": 3,
   "metadata": {},
   "outputs": [
    {
     "name": "stderr",
     "output_type": "stream",
     "text": [
      "22/10/08 05:24:43 WARN CSVHeaderChecker: CSV header does not conform to the schema.\n",
      " Header: City, Date, PM2.5, PM10, NO, NO2, NOx, NH3, CO, SO2, O3, Benzene, Toluene, Xylene, AQI, AQI_Bucket\n",
      " Schema: City, Date, PM25, PM10, NO, NO2, NOX, NH3, CO, SO2, O3, benzene, toluene, Xylene, AQI, AQIBucket\n",
      "Expected: PM25 but found: PM2.5\n",
      "CSV file: file:///home/ubuntu/722/aws-722-copy/Datasets/city_day.csv\n",
      "\r",
      "[Stage 0:>                                                          (0 + 1) / 1]\r",
      "\r",
      "                                                                                \r"
     ]
    },
    {
     "name": "stdout",
     "output_type": "stream",
     "text": [
      "+---------+----------+----+----+------+-----+------+----+------+-----+------+-------+-------+------+----+---------+\n",
      "|     City|      Date|PM25|PM10|    NO|  NO2|   NOX| NH3|    CO|  SO2|    O3|benzene|toluene|Xylene| AQI|AQIBucket|\n",
      "+---------+----------+----+----+------+-----+------+----+------+-----+------+-------+-------+------+----+---------+\n",
      "|Ahmedabad|2015-01-01|null|null|  0.92|18.22| 17.15|null|  0.92|27.64|133.36|    0.0|   0.02|   0.0|null|     null|\n",
      "|Ahmedabad|2015-01-02|null|null|  0.97|15.69| 16.46|null|  0.97|24.55| 34.06|   3.68|    5.5|  3.77|null|     null|\n",
      "|Ahmedabad|2015-01-03|null|null|  17.4| 19.3|  29.7|null|  17.4|29.07|  30.7|    6.8|   16.4|  2.25|null|     null|\n",
      "|Ahmedabad|2015-01-04|null|null|   1.7|18.48| 17.97|null|   1.7|18.59| 36.08|   4.43|  10.14|   1.0|null|     null|\n",
      "|Ahmedabad|2015-01-05|null|null|  22.1|21.42| 37.76|null|  22.1|39.33| 39.31|   7.01|  18.89|  2.78|null|     null|\n",
      "|Ahmedabad|2015-01-06|null|null| 45.41|38.48|  81.5|null| 45.41|45.76| 46.51|   5.42|  10.83|  1.93|null|     null|\n",
      "|Ahmedabad|2015-01-07|null|null|112.16|40.62|130.77|null|112.16|32.28| 33.47|    0.0|    0.0|   0.0|null|     null|\n",
      "|Ahmedabad|2015-01-08|null|null| 80.87|36.74| 96.75|null| 80.87|38.54| 31.89|    0.0|    0.0|   0.0|null|     null|\n",
      "|Ahmedabad|2015-01-09|null|null| 29.16| 31.0|  48.0|null| 29.16|58.68| 25.75|    0.0|    0.0|   0.0|null|     null|\n",
      "|Ahmedabad|2015-01-10|null|null|  null| 7.04|   0.0|null|  null| 8.29|  4.55|    0.0|    0.0|   0.0|null|     null|\n",
      "|Ahmedabad|2015-01-11|null|null|132.07| 55.8| 24.53|null|132.07|25.03|  6.79|    0.0|    0.0|   0.0|null|     null|\n",
      "|Ahmedabad|2015-01-12|null|null| 52.04|40.67| 90.24|null| 52.04|51.84| 45.89|   2.41|   0.03|  7.88|null|     null|\n",
      "|Ahmedabad|2015-01-13|null|null| 48.82| 44.2| 87.09|null| 48.82|68.21| 35.16|   9.45|  13.35|  12.5|null|     null|\n",
      "|Ahmedabad|2015-01-14|null|null|  19.2|27.86| 33.05|null|  19.2|52.65| 20.96|   2.16|   2.26|  5.19|null|     null|\n",
      "|Ahmedabad|2015-01-15|null|null|   0.6|16.96|  16.6|null|   0.6|28.89| 47.63|   0.14|   0.04|  1.35|null|     null|\n",
      "|Ahmedabad|2015-01-16|null|null|  1.63|21.72| 22.86|null|  1.63|38.27| 46.03|   0.35|   0.05|  2.01|null|     null|\n",
      "|Ahmedabad|2015-01-17|null|null| 11.44|24.73| 34.75|null| 11.44| 49.5| 52.24|   0.68|    0.0|  3.27|null|     null|\n",
      "|Ahmedabad|2015-01-18|null|null|   6.1|25.77| 29.57|null|   6.1|48.43| 53.49|   0.74|   0.21|  2.75|null|     null|\n",
      "|Ahmedabad|2015-01-19|null|null|  2.51|26.88| 27.45|null|  2.51|50.03| 49.48|   0.26|   0.02|   2.8|null|     null|\n",
      "|Ahmedabad|2015-01-20|null|null|  7.92| 26.8|  32.4|null|  7.92|58.87| 56.37|   0.24|   0.01|  3.97|null|     null|\n",
      "+---------+----------+----+----+------+-----+------+----+------+-----+------+-------+-------+------+----+---------+\n",
      "only showing top 20 rows\n",
      "\n"
     ]
    }
   ],
   "source": [
    "# Let's read in the data. Note that it's in the csv\n",
    "\n",
    "#City,Date,PM2.5,PM10,NO,NO2,NOx,NH3,CO,SO2,O3,Benzene,Toluene,Xylene,AQI,AQI_Bucket\n",
    "#define the schema\n",
    "\n",
    "# Let's import in the relevant types.\n",
    "\n",
    "from pyspark.sql.types import *\n",
    "Schema=StructType([\n",
    "  StructField(\"City\",StringType(),nullable=True),\n",
    "  StructField(\"Date\",StringType(),nullable=True),\n",
    "  StructField(\"PM25\",FloatType(),nullable=True),\n",
    "  StructField(\"PM10\",FloatType(),nullable=True),\n",
    "  StructField(\"NO\",FloatType(),nullable=True),\n",
    "  StructField(\"NO2\",FloatType(),nullable=True),\n",
    "  StructField(\"NOX\",FloatType(),nullable=True),\n",
    "  StructField(\"NH3\",FloatType(),nullable=True),\n",
    "  StructField(\"CO\",FloatType(),nullable=True),\n",
    "  StructField(\"SO2\",FloatType(),nullable=True),\n",
    "  StructField(\"O3\",FloatType(),nullable=True),\n",
    "  StructField(\"benzene\",FloatType(),nullable=True),\n",
    "  StructField(\"toluene\",FloatType(),nullable=True),\n",
    "  StructField(\"Xylene\",FloatType(),nullable=True),\n",
    "  StructField(\"AQI\",FloatType(),nullable=True),\n",
    "  StructField(\"AQIBucket\",StringType(),nullable=True)\n",
    "])\n",
    "df = spark.read.option(\"header\",True).schema(Schema).csv(\"Datasets/city_day.csv\")\n",
    "\n",
    "df.show()\n"
   ]
  },
  {
   "cell_type": "markdown",
   "metadata": {},
   "source": [
    "## Data Exploration"
   ]
  },
  {
   "cell_type": "code",
   "execution_count": 4,
   "metadata": {},
   "outputs": [
    {
     "name": "stderr",
     "output_type": "stream",
     "text": [
      "22/10/08 05:24:50 WARN CSVHeaderChecker: CSV header does not conform to the schema.\n",
      " Header: City, Date, PM2.5, PM10, NO, NO2, NOx, NH3, CO, SO2, O3, Benzene, Toluene, Xylene, AQI, AQI_Bucket\n",
      " Schema: City, Date, PM25, PM10, NO, NO2, NOX, NH3, CO, SO2, O3, benzene, toluene, Xylene, AQI, AQIBucket\n",
      "Expected: PM25 but found: PM2.5\n",
      "CSV file: file:///home/ubuntu/722/aws-722-copy/Datasets/city_day.csv\n"
     ]
    },
    {
     "name": "stdout",
     "output_type": "stream",
     "text": [
      "+---------+----------+----+----+------+-----+------+----+------+-----+------+-------+-------+------+----+---------+\n",
      "|     City|      Date|PM25|PM10|    NO|  NO2|   NOX| NH3|    CO|  SO2|    O3|benzene|toluene|Xylene| AQI|AQIBucket|\n",
      "+---------+----------+----+----+------+-----+------+----+------+-----+------+-------+-------+------+----+---------+\n",
      "|Ahmedabad|2015-01-01|null|null|  0.92|18.22| 17.15|null|  0.92|27.64|133.36|    0.0|   0.02|   0.0|null|     null|\n",
      "|Ahmedabad|2015-01-02|null|null|  0.97|15.69| 16.46|null|  0.97|24.55| 34.06|   3.68|    5.5|  3.77|null|     null|\n",
      "|Ahmedabad|2015-01-03|null|null|  17.4| 19.3|  29.7|null|  17.4|29.07|  30.7|    6.8|   16.4|  2.25|null|     null|\n",
      "|Ahmedabad|2015-01-04|null|null|   1.7|18.48| 17.97|null|   1.7|18.59| 36.08|   4.43|  10.14|   1.0|null|     null|\n",
      "|Ahmedabad|2015-01-05|null|null|  22.1|21.42| 37.76|null|  22.1|39.33| 39.31|   7.01|  18.89|  2.78|null|     null|\n",
      "|Ahmedabad|2015-01-06|null|null| 45.41|38.48|  81.5|null| 45.41|45.76| 46.51|   5.42|  10.83|  1.93|null|     null|\n",
      "|Ahmedabad|2015-01-07|null|null|112.16|40.62|130.77|null|112.16|32.28| 33.47|    0.0|    0.0|   0.0|null|     null|\n",
      "|Ahmedabad|2015-01-08|null|null| 80.87|36.74| 96.75|null| 80.87|38.54| 31.89|    0.0|    0.0|   0.0|null|     null|\n",
      "|Ahmedabad|2015-01-09|null|null| 29.16| 31.0|  48.0|null| 29.16|58.68| 25.75|    0.0|    0.0|   0.0|null|     null|\n",
      "|Ahmedabad|2015-01-10|null|null|  null| 7.04|   0.0|null|  null| 8.29|  4.55|    0.0|    0.0|   0.0|null|     null|\n",
      "|Ahmedabad|2015-01-11|null|null|132.07| 55.8| 24.53|null|132.07|25.03|  6.79|    0.0|    0.0|   0.0|null|     null|\n",
      "|Ahmedabad|2015-01-12|null|null| 52.04|40.67| 90.24|null| 52.04|51.84| 45.89|   2.41|   0.03|  7.88|null|     null|\n",
      "|Ahmedabad|2015-01-13|null|null| 48.82| 44.2| 87.09|null| 48.82|68.21| 35.16|   9.45|  13.35|  12.5|null|     null|\n",
      "|Ahmedabad|2015-01-14|null|null|  19.2|27.86| 33.05|null|  19.2|52.65| 20.96|   2.16|   2.26|  5.19|null|     null|\n",
      "|Ahmedabad|2015-01-15|null|null|   0.6|16.96|  16.6|null|   0.6|28.89| 47.63|   0.14|   0.04|  1.35|null|     null|\n",
      "|Ahmedabad|2015-01-16|null|null|  1.63|21.72| 22.86|null|  1.63|38.27| 46.03|   0.35|   0.05|  2.01|null|     null|\n",
      "|Ahmedabad|2015-01-17|null|null| 11.44|24.73| 34.75|null| 11.44| 49.5| 52.24|   0.68|    0.0|  3.27|null|     null|\n",
      "|Ahmedabad|2015-01-18|null|null|   6.1|25.77| 29.57|null|   6.1|48.43| 53.49|   0.74|   0.21|  2.75|null|     null|\n",
      "|Ahmedabad|2015-01-19|null|null|  2.51|26.88| 27.45|null|  2.51|50.03| 49.48|   0.26|   0.02|   2.8|null|     null|\n",
      "|Ahmedabad|2015-01-20|null|null|  7.92| 26.8|  32.4|null|  7.92|58.87| 56.37|   0.24|   0.01|  3.97|null|     null|\n",
      "+---------+----------+----+----+------+-----+------+----+------+-----+------+-------+-------+------+----+---------+\n",
      "only showing top 20 rows\n",
      "\n"
     ]
    },
    {
     "name": "stderr",
     "output_type": "stream",
     "text": [
      "22/10/08 05:24:51 WARN CSVHeaderChecker: CSV header does not conform to the schema.\n",
      " Header: City, Date, PM2.5, PM10, NO, NO2, NOx, NH3, CO, SO2, O3, Benzene, Toluene, Xylene, AQI, AQI_Bucket\n",
      " Schema: City, Date, PM25, PM10, NO, NO2, NOX, NH3, CO, SO2, O3, benzene, toluene, Xylene, AQI, AQIBucket\n",
      "Expected: PM25 but found: PM2.5\n",
      "CSV file: file:///home/ubuntu/722/aws-722-copy/Datasets/city_day.csv\n",
      "                                                                                \r"
     ]
    },
    {
     "data": {
      "text/html": [
       "<div>\n",
       "<style scoped>\n",
       "    .dataframe tbody tr th:only-of-type {\n",
       "        vertical-align: middle;\n",
       "    }\n",
       "\n",
       "    .dataframe tbody tr th {\n",
       "        vertical-align: top;\n",
       "    }\n",
       "\n",
       "    .dataframe thead th {\n",
       "        text-align: right;\n",
       "    }\n",
       "</style>\n",
       "<table border=\"1\" class=\"dataframe\">\n",
       "  <thead>\n",
       "    <tr style=\"text-align: right;\">\n",
       "      <th></th>\n",
       "      <th>summary</th>\n",
       "      <th>City</th>\n",
       "      <th>Date</th>\n",
       "      <th>PM25</th>\n",
       "      <th>PM10</th>\n",
       "      <th>NO</th>\n",
       "      <th>NO2</th>\n",
       "      <th>NOX</th>\n",
       "      <th>NH3</th>\n",
       "      <th>CO</th>\n",
       "      <th>SO2</th>\n",
       "      <th>O3</th>\n",
       "      <th>benzene</th>\n",
       "      <th>toluene</th>\n",
       "      <th>Xylene</th>\n",
       "      <th>AQI</th>\n",
       "      <th>AQIBucket</th>\n",
       "    </tr>\n",
       "  </thead>\n",
       "  <tbody>\n",
       "    <tr>\n",
       "      <th>0</th>\n",
       "      <td>count</td>\n",
       "      <td>29531</td>\n",
       "      <td>29531</td>\n",
       "      <td>24933</td>\n",
       "      <td>18391</td>\n",
       "      <td>25949</td>\n",
       "      <td>25946</td>\n",
       "      <td>25346</td>\n",
       "      <td>19203</td>\n",
       "      <td>27472</td>\n",
       "      <td>25677</td>\n",
       "      <td>25509</td>\n",
       "      <td>23908</td>\n",
       "      <td>21490</td>\n",
       "      <td>11422</td>\n",
       "      <td>24850</td>\n",
       "      <td>24850</td>\n",
       "    </tr>\n",
       "    <tr>\n",
       "      <th>1</th>\n",
       "      <td>mean</td>\n",
       "      <td>None</td>\n",
       "      <td>None</td>\n",
       "      <td>67.45057795305125</td>\n",
       "      <td>118.12710294174458</td>\n",
       "      <td>17.574729666828148</td>\n",
       "      <td>28.560659052670943</td>\n",
       "      <td>32.3091233306691</td>\n",
       "      <td>23.483476022437166</td>\n",
       "      <td>2.248598209145695</td>\n",
       "      <td>14.531977259530647</td>\n",
       "      <td>34.49143047007627</td>\n",
       "      <td>3.280840303665094</td>\n",
       "      <td>8.700972087396305</td>\n",
       "      <td>3.0701278206492613</td>\n",
       "      <td>166.4635814889336</td>\n",
       "      <td>None</td>\n",
       "    </tr>\n",
       "    <tr>\n",
       "      <th>2</th>\n",
       "      <td>stddev</td>\n",
       "      <td>None</td>\n",
       "      <td>None</td>\n",
       "      <td>64.66144940408857</td>\n",
       "      <td>90.60510976469615</td>\n",
       "      <td>22.785846340154315</td>\n",
       "      <td>24.474745771469095</td>\n",
       "      <td>31.646010951236956</td>\n",
       "      <td>25.68427498752751</td>\n",
       "      <td>6.962884271836143</td>\n",
       "      <td>18.13377486834342</td>\n",
       "      <td>21.694928182946093</td>\n",
       "      <td>15.811136401685069</td>\n",
       "      <td>19.969163666257156</td>\n",
       "      <td>6.323247403424576</td>\n",
       "      <td>140.69658509414992</td>\n",
       "      <td>None</td>\n",
       "    </tr>\n",
       "    <tr>\n",
       "      <th>3</th>\n",
       "      <td>min</td>\n",
       "      <td>Ahmedabad</td>\n",
       "      <td>2015-01-01</td>\n",
       "      <td>0.04</td>\n",
       "      <td>0.01</td>\n",
       "      <td>0.02</td>\n",
       "      <td>0.01</td>\n",
       "      <td>0.0</td>\n",
       "      <td>0.01</td>\n",
       "      <td>0.0</td>\n",
       "      <td>0.01</td>\n",
       "      <td>0.01</td>\n",
       "      <td>0.0</td>\n",
       "      <td>0.0</td>\n",
       "      <td>0.0</td>\n",
       "      <td>13.0</td>\n",
       "      <td>Good</td>\n",
       "    </tr>\n",
       "    <tr>\n",
       "      <th>4</th>\n",
       "      <td>max</td>\n",
       "      <td>Visakhapatnam</td>\n",
       "      <td>2020-07-01</td>\n",
       "      <td>949.99</td>\n",
       "      <td>1000.0</td>\n",
       "      <td>390.68</td>\n",
       "      <td>362.21</td>\n",
       "      <td>467.63</td>\n",
       "      <td>352.89</td>\n",
       "      <td>175.81</td>\n",
       "      <td>193.86</td>\n",
       "      <td>257.73</td>\n",
       "      <td>455.03</td>\n",
       "      <td>454.85</td>\n",
       "      <td>170.37</td>\n",
       "      <td>2049.0</td>\n",
       "      <td>Very Poor</td>\n",
       "    </tr>\n",
       "  </tbody>\n",
       "</table>\n",
       "</div>"
      ],
      "text/plain": [
       "  summary           City        Date               PM25                PM10  \\\n",
       "0   count          29531       29531              24933               18391   \n",
       "1    mean           None        None  67.45057795305125  118.12710294174458   \n",
       "2  stddev           None        None  64.66144940408857   90.60510976469615   \n",
       "3     min      Ahmedabad  2015-01-01               0.04                0.01   \n",
       "4     max  Visakhapatnam  2020-07-01             949.99              1000.0   \n",
       "\n",
       "                   NO                 NO2                 NOX  \\\n",
       "0               25949               25946               25346   \n",
       "1  17.574729666828148  28.560659052670943    32.3091233306691   \n",
       "2  22.785846340154315  24.474745771469095  31.646010951236956   \n",
       "3                0.02                0.01                 0.0   \n",
       "4              390.68              362.21              467.63   \n",
       "\n",
       "                  NH3                 CO                 SO2  \\\n",
       "0               19203              27472               25677   \n",
       "1  23.483476022437166  2.248598209145695  14.531977259530647   \n",
       "2   25.68427498752751  6.962884271836143   18.13377486834342   \n",
       "3                0.01                0.0                0.01   \n",
       "4              352.89             175.81              193.86   \n",
       "\n",
       "                   O3             benzene             toluene  \\\n",
       "0               25509               23908               21490   \n",
       "1   34.49143047007627   3.280840303665094   8.700972087396305   \n",
       "2  21.694928182946093  15.811136401685069  19.969163666257156   \n",
       "3                0.01                 0.0                 0.0   \n",
       "4              257.73              455.03              454.85   \n",
       "\n",
       "               Xylene                 AQI  AQIBucket  \n",
       "0               11422               24850      24850  \n",
       "1  3.0701278206492613   166.4635814889336       None  \n",
       "2   6.323247403424576  140.69658509414992       None  \n",
       "3                 0.0                13.0       Good  \n",
       "4              170.37              2049.0  Very Poor  "
      ]
     },
     "execution_count": 4,
     "metadata": {},
     "output_type": "execute_result"
    }
   ],
   "source": [
    "# The show method allows you visualise DataFrames. We can see that there are two columns. \n",
    "df.show()\n",
    "\n",
    "# You could also try this. \n",
    "df.columns\n",
    "\n",
    "df.dtypes\n",
    "\n",
    "df.describe().toPandas()\n"
   ]
  },
  {
   "cell_type": "code",
   "execution_count": null,
   "metadata": {},
   "outputs": [],
   "source": [
    "# We can use the describe method get some general statistics on our data too. Remember to show the DataFrame!\n",
    "# But what about data type?\n",
    "# Then create a variable with the correct structure.\n",
    "df.describe().show()"
   ]
  },
  {
   "cell_type": "code",
   "execution_count": 5,
   "metadata": {},
   "outputs": [
    {
     "name": "stdout",
     "output_type": "stream",
     "text": [
      "root\n",
      " |-- City: string (nullable = true)\n",
      " |-- Date: string (nullable = true)\n",
      " |-- PM25: float (nullable = true)\n",
      " |-- PM10: float (nullable = true)\n",
      " |-- NO: float (nullable = true)\n",
      " |-- NO2: float (nullable = true)\n",
      " |-- NOX: float (nullable = true)\n",
      " |-- NH3: float (nullable = true)\n",
      " |-- CO: float (nullable = true)\n",
      " |-- SO2: float (nullable = true)\n",
      " |-- O3: float (nullable = true)\n",
      " |-- benzene: float (nullable = true)\n",
      " |-- toluene: float (nullable = true)\n",
      " |-- Xylene: float (nullable = true)\n",
      " |-- AQI: float (nullable = true)\n",
      " |-- AQIBucket: string (nullable = true)\n",
      "\n"
     ]
    }
   ],
   "source": [
    "# For type, we can use print schema. \n",
    "# But wait! What if you want to change the format of the data? Maybe change age to an integer instead of long?\n",
    "# And now we can read in the data using that schema. If we print the schema, we can see that age is now an integer.\n",
    "df.printSchema()"
   ]
  },
  {
   "cell_type": "markdown",
   "metadata": {},
   "source": [
    "## Data Manipulation"
   ]
  },
  {
   "cell_type": "code",
   "execution_count": 6,
   "metadata": {},
   "outputs": [
    {
     "name": "stderr",
     "output_type": "stream",
     "text": [
      "22/10/08 05:25:15 WARN CSVHeaderChecker: CSV header does not conform to the schema.\n",
      " Header: City, Date, PM2.5, PM10, NO, NO2, NOx, NH3, CO, SO2, O3, Benzene, Toluene, Xylene, AQI, AQI_Bucket\n",
      " Schema: City, Date, PM25, PM10, NO, NO2, NOX, NH3, CO, SO2, O3, benzene, toluene, Xylene, AQI, AQIBucket\n",
      "Expected: PM25 but found: PM2.5\n",
      "CSV file: file:///home/ubuntu/722/aws-722-copy/Datasets/city_day.csv\n",
      "22/10/08 05:25:16 WARN CSVHeaderChecker: CSV header does not conform to the schema.\n",
      " Header: AQI_Bucket\n",
      " Schema: AQIBucket\n",
      "Expected: AQIBucket but found: AQI_Bucket\n",
      "CSV file: file:///home/ubuntu/722/aws-722-copy/Datasets/city_day.csv\n"
     ]
    },
    {
     "name": "stdout",
     "output_type": "stream",
     "text": [
      "+------------+-----+\n",
      "|   AQIBucket|count|\n",
      "+------------+-----+\n",
      "|        null| 4681|\n",
      "|        Good| 1341|\n",
      "|      Severe| 1338|\n",
      "|   Very Poor| 2337|\n",
      "|Satisfactory| 8224|\n",
      "|        Poor| 2781|\n",
      "|    Moderate| 8829|\n",
      "+------------+-----+\n",
      "\n"
     ]
    }
   ],
   "source": [
    "df.describe().toPandas()\n",
    "\n",
    "df.groupby('AQIBucket').count().show()\n"
   ]
  },
  {
   "cell_type": "code",
   "execution_count": 7,
   "metadata": {},
   "outputs": [
    {
     "name": "stdout",
     "output_type": "stream",
     "text": [
      "+------------------+-----+\n",
      "|              City|count|\n",
      "+------------------+-----+\n",
      "|             Kochi|  162|\n",
      "|             Patna| 1858|\n",
      "|         Ernakulam|  162|\n",
      "|           Chennai| 2009|\n",
      "|           Lucknow| 2009|\n",
      "|            Mumbai| 2009|\n",
      "|            Aizawl|  113|\n",
      "|         Ahmedabad| 2009|\n",
      "|          Gurugram| 1679|\n",
      "|      Brajrajnagar|  938|\n",
      "|           Kolkata|  814|\n",
      "|         Amaravati|  951|\n",
      "|          Amritsar| 1221|\n",
      "|          Shillong|  310|\n",
      "|             Delhi| 2009|\n",
      "|        Chandigarh|  304|\n",
      "|        Coimbatore|  386|\n",
      "|            Bhopal|  289|\n",
      "|Thiruvananthapuram| 1112|\n",
      "|         Bengaluru| 2009|\n",
      "+------------------+-----+\n",
      "only showing top 20 rows\n",
      "\n"
     ]
    }
   ],
   "source": [
    "\n",
    "df.groupby('City').count().show()"
   ]
  },
  {
   "cell_type": "code",
   "execution_count": 8,
   "metadata": {},
   "outputs": [
    {
     "name": "stdout",
     "output_type": "stream",
     "text": [
      "+---------+----------+----+----+------+-----+------+----+------+-----+------+-------+-------+------+----+---------+\n",
      "|     City|      Date|PM25|PM10|    NO|  NO2|   NOX| NH3|    CO|  SO2|    O3|benzene|toluene|Xylene| AQI|AQIBucket|\n",
      "+---------+----------+----+----+------+-----+------+----+------+-----+------+-------+-------+------+----+---------+\n",
      "|Ahmedabad|2015-01-01|null|null|  0.92|18.22| 17.15|null|  0.92|27.64|133.36|    0.0|   0.02|   0.0|null|     null|\n",
      "|Ahmedabad|2015-01-02|null|null|  0.97|15.69| 16.46|null|  0.97|24.55| 34.06|   3.68|    5.5|  3.77|null|     null|\n",
      "|Ahmedabad|2015-01-03|null|null|  17.4| 19.3|  29.7|null|  17.4|29.07|  30.7|    6.8|   16.4|  2.25|null|     null|\n",
      "|Ahmedabad|2015-01-04|null|null|   1.7|18.48| 17.97|null|   1.7|18.59| 36.08|   4.43|  10.14|   1.0|null|     null|\n",
      "|Ahmedabad|2015-01-05|null|null|  22.1|21.42| 37.76|null|  22.1|39.33| 39.31|   7.01|  18.89|  2.78|null|     null|\n",
      "|Ahmedabad|2015-01-06|null|null| 45.41|38.48|  81.5|null| 45.41|45.76| 46.51|   5.42|  10.83|  1.93|null|     null|\n",
      "|Ahmedabad|2015-01-07|null|null|112.16|40.62|130.77|null|112.16|32.28| 33.47|    0.0|    0.0|   0.0|null|     null|\n",
      "|Ahmedabad|2015-01-08|null|null| 80.87|36.74| 96.75|null| 80.87|38.54| 31.89|    0.0|    0.0|   0.0|null|     null|\n",
      "|Ahmedabad|2015-01-09|null|null| 29.16| 31.0|  48.0|null| 29.16|58.68| 25.75|    0.0|    0.0|   0.0|null|     null|\n",
      "|Ahmedabad|2015-01-10|null|null|  null| 7.04|   0.0|null|  null| 8.29|  4.55|    0.0|    0.0|   0.0|null|     null|\n",
      "|Ahmedabad|2015-01-11|null|null|132.07| 55.8| 24.53|null|132.07|25.03|  6.79|    0.0|    0.0|   0.0|null|     null|\n",
      "|Ahmedabad|2015-01-12|null|null| 52.04|40.67| 90.24|null| 52.04|51.84| 45.89|   2.41|   0.03|  7.88|null|     null|\n",
      "|Ahmedabad|2015-01-13|null|null| 48.82| 44.2| 87.09|null| 48.82|68.21| 35.16|   9.45|  13.35|  12.5|null|     null|\n",
      "|Ahmedabad|2015-01-14|null|null|  19.2|27.86| 33.05|null|  19.2|52.65| 20.96|   2.16|   2.26|  5.19|null|     null|\n",
      "|Ahmedabad|2015-01-15|null|null|   0.6|16.96|  16.6|null|   0.6|28.89| 47.63|   0.14|   0.04|  1.35|null|     null|\n",
      "|Ahmedabad|2015-01-16|null|null|  1.63|21.72| 22.86|null|  1.63|38.27| 46.03|   0.35|   0.05|  2.01|null|     null|\n",
      "|Ahmedabad|2015-01-17|null|null| 11.44|24.73| 34.75|null| 11.44| 49.5| 52.24|   0.68|    0.0|  3.27|null|     null|\n",
      "|Ahmedabad|2015-01-18|null|null|   6.1|25.77| 29.57|null|   6.1|48.43| 53.49|   0.74|   0.21|  2.75|null|     null|\n",
      "|Ahmedabad|2015-01-19|null|null|  2.51|26.88| 27.45|null|  2.51|50.03| 49.48|   0.26|   0.02|   2.8|null|     null|\n",
      "|Ahmedabad|2015-01-20|null|null|  7.92| 26.8|  32.4|null|  7.92|58.87| 56.37|   0.24|   0.01|  3.97|null|     null|\n",
      "+---------+----------+----+----+------+-----+------+----+------+-----+------+-------+-------+------+----+---------+\n",
      "only showing top 20 rows\n",
      "\n"
     ]
    },
    {
     "name": "stderr",
     "output_type": "stream",
     "text": [
      "22/10/08 05:25:29 WARN CSVHeaderChecker: CSV header does not conform to the schema.\n",
      " Header: City, Date, PM2.5, PM10, NO, NO2, NOx, NH3, CO, SO2, O3, Benzene, Toluene, Xylene, AQI, AQI_Bucket\n",
      " Schema: City, Date, PM25, PM10, NO, NO2, NOX, NH3, CO, SO2, O3, benzene, toluene, Xylene, AQI, AQIBucket\n",
      "Expected: PM25 but found: PM2.5\n",
      "CSV file: file:///home/ubuntu/722/aws-722-copy/Datasets/city_day.csv\n"
     ]
    }
   ],
   "source": [
    "df.count()\n",
    "# Let's see the data. You'll notice nulls.\n",
    "df.show()"
   ]
  },
  {
   "cell_type": "code",
   "execution_count": 9,
   "metadata": {},
   "outputs": [
    {
     "name": "stdout",
     "output_type": "stream",
     "text": [
      "+---------+----------+----+----+------+-----+------+----+------+-----+------+-------+-------+------+----+---------+\n",
      "|     City|      Date|PM25|PM10|    NO|  NO2|   NOX| NH3|    CO|  SO2|    O3|benzene|toluene|Xylene| AQI|AQIBucket|\n",
      "+---------+----------+----+----+------+-----+------+----+------+-----+------+-------+-------+------+----+---------+\n",
      "|Ahmedabad|2015-01-01|null|null|  0.92|18.22| 17.15|null|  0.92|27.64|133.36|    0.0|   0.02|   0.0|null|     null|\n",
      "|Ahmedabad|2015-01-02|null|null|  0.97|15.69| 16.46|null|  0.97|24.55| 34.06|   3.68|    5.5|  3.77|null|     null|\n",
      "|Ahmedabad|2015-01-03|null|null|  17.4| 19.3|  29.7|null|  17.4|29.07|  30.7|    6.8|   16.4|  2.25|null|     null|\n",
      "|Ahmedabad|2015-01-04|null|null|   1.7|18.48| 17.97|null|   1.7|18.59| 36.08|   4.43|  10.14|   1.0|null|     null|\n",
      "|Ahmedabad|2015-01-05|null|null|  22.1|21.42| 37.76|null|  22.1|39.33| 39.31|   7.01|  18.89|  2.78|null|     null|\n",
      "|Ahmedabad|2015-01-06|null|null| 45.41|38.48|  81.5|null| 45.41|45.76| 46.51|   5.42|  10.83|  1.93|null|     null|\n",
      "|Ahmedabad|2015-01-07|null|null|112.16|40.62|130.77|null|112.16|32.28| 33.47|    0.0|    0.0|   0.0|null|     null|\n",
      "|Ahmedabad|2015-01-08|null|null| 80.87|36.74| 96.75|null| 80.87|38.54| 31.89|    0.0|    0.0|   0.0|null|     null|\n",
      "|Ahmedabad|2015-01-09|null|null| 29.16| 31.0|  48.0|null| 29.16|58.68| 25.75|    0.0|    0.0|   0.0|null|     null|\n",
      "|Ahmedabad|2015-01-10|null|null|  null| 7.04|   0.0|null|  null| 8.29|  4.55|    0.0|    0.0|   0.0|null|     null|\n",
      "|Ahmedabad|2015-01-11|null|null|132.07| 55.8| 24.53|null|132.07|25.03|  6.79|    0.0|    0.0|   0.0|null|     null|\n",
      "|Ahmedabad|2015-01-12|null|null| 52.04|40.67| 90.24|null| 52.04|51.84| 45.89|   2.41|   0.03|  7.88|null|     null|\n",
      "|Ahmedabad|2015-01-13|null|null| 48.82| 44.2| 87.09|null| 48.82|68.21| 35.16|   9.45|  13.35|  12.5|null|     null|\n",
      "|Ahmedabad|2015-01-14|null|null|  19.2|27.86| 33.05|null|  19.2|52.65| 20.96|   2.16|   2.26|  5.19|null|     null|\n",
      "|Ahmedabad|2015-01-15|null|null|   0.6|16.96|  16.6|null|   0.6|28.89| 47.63|   0.14|   0.04|  1.35|null|     null|\n",
      "|Ahmedabad|2015-01-16|null|null|  1.63|21.72| 22.86|null|  1.63|38.27| 46.03|   0.35|   0.05|  2.01|null|     null|\n",
      "|Ahmedabad|2015-01-17|null|null| 11.44|24.73| 34.75|null| 11.44| 49.5| 52.24|   0.68|    0.0|  3.27|null|     null|\n",
      "|Ahmedabad|2015-01-18|null|null|   6.1|25.77| 29.57|null|   6.1|48.43| 53.49|   0.74|   0.21|  2.75|null|     null|\n",
      "|Ahmedabad|2015-01-19|null|null|  2.51|26.88| 27.45|null|  2.51|50.03| 49.48|   0.26|   0.02|   2.8|null|     null|\n",
      "|Ahmedabad|2015-01-20|null|null|  7.92| 26.8|  32.4|null|  7.92|58.87| 56.37|   0.24|   0.01|  3.97|null|     null|\n",
      "+---------+----------+----+----+------+-----+------+----+------+-----+------+-------+-------+------+----+---------+\n",
      "only showing top 20 rows\n",
      "\n"
     ]
    },
    {
     "name": "stderr",
     "output_type": "stream",
     "text": [
      "22/10/08 05:25:32 WARN CSVHeaderChecker: CSV header does not conform to the schema.\n",
      " Header: City, Date, PM2.5, PM10, NO, NO2, NOx, NH3, CO, SO2, O3, Benzene, Toluene, Xylene, AQI, AQI_Bucket\n",
      " Schema: City, Date, PM25, PM10, NO, NO2, NOX, NH3, CO, SO2, O3, benzene, toluene, Xylene, AQI, AQIBucket\n",
      "Expected: PM25 but found: PM2.5\n",
      "CSV file: file:///home/ubuntu/722/aws-722-copy/Datasets/city_day.csv\n"
     ]
    }
   ],
   "source": [
    "# First, we have to register the DataFrame as a SQL temporary view.\n",
    "df.createOrReplaceTempView('pollution')\n",
    "\n",
    "# After that, we can use the SQL programming language for queries. \n",
    "results = spark.sql(\"SELECT * FROM pollution\")\n",
    "results.show()"
   ]
  },
  {
   "cell_type": "code",
   "execution_count": 10,
   "metadata": {},
   "outputs": [
    {
     "name": "stdout",
     "output_type": "stream",
     "text": [
      "+------------------+-----------+\n",
      "|              city|count(City)|\n",
      "+------------------+-----------+\n",
      "|             Kochi|          4|\n",
      "|             Patna|        399|\n",
      "|         Ernakulam|          9|\n",
      "|           Chennai|        125|\n",
      "|           Lucknow|        116|\n",
      "|            Mumbai|       1234|\n",
      "|            Aizawl|          2|\n",
      "|         Ahmedabad|        675|\n",
      "|          Gurugram|        226|\n",
      "|      Brajrajnagar|        225|\n",
      "|           Kolkata|         60|\n",
      "|         Amaravati|        110|\n",
      "|          Amritsar|         95|\n",
      "|          Shillong|        105|\n",
      "|             Delhi|         10|\n",
      "|        Chandigarh|          5|\n",
      "|        Coimbatore|         42|\n",
      "|            Bhopal|         11|\n",
      "|Thiruvananthapuram|         60|\n",
      "|         Bengaluru|         99|\n",
      "+------------------+-----------+\n",
      "only showing top 20 rows\n",
      "\n"
     ]
    }
   ],
   "source": [
    "# After that, we can use the SQL programming language for queries. \n",
    "results1 = spark.sql(\"SELECT city, count(City) FROM pollution where AQI is null group by City\")\n",
    "results1.show()"
   ]
  },
  {
   "cell_type": "code",
   "execution_count": null,
   "metadata": {},
   "outputs": [],
   "source": [
    "# We can rename columns too! \n",
    "df.withColumnRenamed('age', 'my_new_age').show()"
   ]
  },
  {
   "cell_type": "markdown",
   "metadata": {},
   "source": [
    "# Exploring data with SQL"
   ]
  },
  {
   "cell_type": "code",
   "execution_count": 20,
   "metadata": {},
   "outputs": [
    {
     "name": "stderr",
     "output_type": "stream",
     "text": [
      "22/10/08 05:35:55 WARN CSVHeaderChecker: CSV header does not conform to the schema.\n",
      " Header: City, Date, PM2.5, PM10, NO, NO2, NOx, NH3, CO, SO2, O3, Benzene, Toluene, Xylene, AQI, AQI_Bucket\n",
      " Schema: City, Date, PM25, PM10, NO, NO2, NOX, NH3, CO, SO2, O3, benzene, toluene, Xylene, AQI, AQIBucket\n",
      "Expected: PM25 but found: PM2.5\n",
      "CSV file: file:///home/ubuntu/722/aws-722-copy/Datasets/city_day.csv\n",
      "22/10/08 05:35:55 WARN CSVHeaderChecker: CSV header does not conform to the schema.\n",
      " Header: City, Date, PM2.5, PM10, NO, NO2, NOx, NH3, CO, SO2, O3, Benzene, Toluene, Xylene, AQI, AQI_Bucket\n",
      " Schema: City, Date, PM25, PM10, NO, NO2, NOX, NH3, CO, SO2, O3, benzene, toluene, Xylene, AQI, AQIBucket\n",
      "Expected: PM25 but found: PM2.5\n",
      "CSV file: file:///home/ubuntu/722/aws-722-copy/Datasets/city_day.csv\n",
      "22/10/08 05:35:56 WARN CSVHeaderChecker: CSV header does not conform to the schema.\n",
      " Header: City, Date, PM2.5, PM10, NO, NO2, NOx, NH3, CO, SO2, O3, Benzene, Toluene, Xylene, AQI, AQI_Bucket\n",
      " Schema: City, Date, PM25, PM10, NO, NO2, NOX, NH3, CO, SO2, O3, benzene, toluene, Xylene, AQI, AQIBucket\n",
      "Expected: PM25 but found: PM2.5\n",
      "CSV file: file:///home/ubuntu/722/aws-722-copy/Datasets/city_day.csv\n",
      "22/10/08 05:35:56 WARN CSVHeaderChecker: CSV header does not conform to the schema.\n",
      " Header: City, Date, PM2.5, PM10, NO, NO2, NOx, NH3, CO, SO2, O3, Benzene, Toluene, Xylene, AQI, AQI_Bucket\n",
      " Schema: City, Date, PM25, PM10, NO, NO2, NOX, NH3, CO, SO2, O3, benzene, toluene, Xylene, AQI, AQIBucket\n",
      "Expected: PM25 but found: PM2.5\n",
      "CSV file: file:///home/ubuntu/722/aws-722-copy/Datasets/city_day.csv\n",
      "22/10/08 05:35:57 WARN CSVHeaderChecker: CSV header does not conform to the schema.\n",
      " Header: City, Date, PM2.5, PM10, NO, NO2, NOx, NH3, CO, SO2, O3, Benzene, Toluene, Xylene, AQI, AQI_Bucket\n",
      " Schema: City, Date, PM25, PM10, NO, NO2, NOX, NH3, CO, SO2, O3, benzene, toluene, Xylene, AQI, AQIBucket\n",
      "Expected: PM25 but found: PM2.5\n",
      "CSV file: file:///home/ubuntu/722/aws-722-copy/Datasets/city_day.csv\n",
      "22/10/08 05:35:57 WARN CSVHeaderChecker: CSV header does not conform to the schema.\n",
      " Header: City, Date, PM2.5, PM10, NO, NO2, NOx, NH3, CO, SO2, O3, Benzene, Toluene, Xylene, AQI, AQI_Bucket\n",
      " Schema: City, Date, PM25, PM10, NO, NO2, NOX, NH3, CO, SO2, O3, benzene, toluene, Xylene, AQI, AQIBucket\n",
      "Expected: PM25 but found: PM2.5\n",
      "CSV file: file:///home/ubuntu/722/aws-722-copy/Datasets/city_day.csv\n",
      "22/10/08 05:35:57 WARN CSVHeaderChecker: CSV header does not conform to the schema.\n",
      " Header: City, Date, PM2.5, PM10, NO, NO2, NOx, NH3, CO, SO2, O3, Benzene, Toluene, Xylene, AQI, AQI_Bucket\n",
      " Schema: City, Date, PM25, PM10, NO, NO2, NOX, NH3, CO, SO2, O3, benzene, toluene, Xylene, AQI, AQIBucket\n",
      "Expected: PM25 but found: PM2.5\n",
      "CSV file: file:///home/ubuntu/722/aws-722-copy/Datasets/city_day.csv\n",
      "22/10/08 05:35:58 WARN CSVHeaderChecker: CSV header does not conform to the schema.\n",
      " Header: City, Date, PM2.5, PM10, NO, NO2, NOx, NH3, CO, SO2, O3, Benzene, Toluene, Xylene, AQI, AQI_Bucket\n",
      " Schema: City, Date, PM25, PM10, NO, NO2, NOX, NH3, CO, SO2, O3, benzene, toluene, Xylene, AQI, AQIBucket\n",
      "Expected: PM25 but found: PM2.5\n",
      "CSV file: file:///home/ubuntu/722/aws-722-copy/Datasets/city_day.csv\n",
      "22/10/08 05:35:58 WARN CSVHeaderChecker: CSV header does not conform to the schema.\n",
      " Header: City, Date, PM2.5, PM10, NO, NO2, NOx, NH3, CO, SO2, O3, Benzene, Toluene, Xylene, AQI, AQI_Bucket\n",
      " Schema: City, Date, PM25, PM10, NO, NO2, NOX, NH3, CO, SO2, O3, benzene, toluene, Xylene, AQI, AQIBucket\n",
      "Expected: PM25 but found: PM2.5\n",
      "CSV file: file:///home/ubuntu/722/aws-722-copy/Datasets/city_day.csv\n",
      "22/10/08 05:35:59 WARN CSVHeaderChecker: CSV header does not conform to the schema.\n",
      " Header: City, Date, PM2.5, PM10, NO, NO2, NOx, NH3, CO, SO2, O3, Benzene, Toluene, Xylene, AQI, AQI_Bucket\n",
      " Schema: City, Date, PM25, PM10, NO, NO2, NOX, NH3, CO, SO2, O3, benzene, toluene, Xylene, AQI, AQIBucket\n",
      "Expected: PM25 but found: PM2.5\n",
      "CSV file: file:///home/ubuntu/722/aws-722-copy/Datasets/city_day.csv\n",
      "22/10/08 05:35:59 WARN CSVHeaderChecker: CSV header does not conform to the schema.\n",
      " Header: City, Date, PM2.5, PM10, NO, NO2, NOx, NH3, CO, SO2, O3, Benzene, Toluene, Xylene, AQI, AQI_Bucket\n",
      " Schema: City, Date, PM25, PM10, NO, NO2, NOX, NH3, CO, SO2, O3, benzene, toluene, Xylene, AQI, AQIBucket\n",
      "Expected: PM25 but found: PM2.5\n",
      "CSV file: file:///home/ubuntu/722/aws-722-copy/Datasets/city_day.csv\n"
     ]
    },
    {
     "data": {
      "image/png": "[encoded data removed]",
      "text/plain": [
       "<Figure size 1800x936 with 10 Axes>"
      ]
     },
     "metadata": {
      "needs_background": "light"
     },
     "output_type": "display_data"
    }
   ],
   "source": [
    "import matplotlib.pyplot as plt\n",
    "import seaborn as sns\n",
    "import warnings\n",
    "warnings.simplefilter(action='ignore')\n",
    "\n",
    "fig = plt.figure(figsize=(25,13))\n",
    "st = fig.suptitle(\"Distribution of features\",fontsize = 50, verticalalignment=\"center\")\n",
    "for col,num in zip(df.toPandas().describe().columns, range(1,11)):\n",
    "    ax = fig.add_subplot(3,4, num)\n",
    "    ax.hist(df.toPandas()[col])\n",
    "    plt.grid(False)\n",
    "    plt.xticks(rotation=45, fontsize=20)\n",
    "    plt.yticks(fontsize=15)\n",
    "    plt.title(col.upper(), fontsize=20)\n",
    "\n",
    "plt.tight_layout()\n",
    "st.set_y(0.95)\n",
    "fig.subplots_adjust(top=0.85, hspace=0.4)\n",
    "plt.show()"
   ]
  },
  {
   "cell_type": "code",
   "execution_count": null,
   "metadata": {},
   "outputs": [],
   "source": []
  },
  {
   "cell_type": "markdown",
   "metadata": {},
   "source": [
    "Now that we're done with this tutorial, let's move on to Spark DataFrame Operations!"
   ]
  }
 ],
 "metadata": {
  "kernelspec": {
   "display_name": "Python 3 (ipykernel)",
   "language": "python",
   "name": "python3"
  },
  "language_info": {
   "codemirror_mode": {
    "name": "ipython",
    "version": 3
   },
   "file_extension": ".py",
   "mimetype": "text/x-python",
   "name": "python",
   "nbconvert_exporter": "python",
   "pygments_lexer": "ipython3",
   "version": "3.10.4"
  }
 },
 "nbformat": 4,
 "nbformat_minor": 2
}
