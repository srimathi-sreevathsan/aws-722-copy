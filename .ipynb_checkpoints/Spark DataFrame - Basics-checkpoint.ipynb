{
 "cells": [
  {
   "cell_type": "markdown",
   "metadata": {},
   "source": [
    "# Spark data mining"
   ]
  },
  {
   "cell_type": "code",
   "execution_count": 2,
   "metadata": {},
   "outputs": [
    {
     "name": "stderr",
     "output_type": "stream",
     "text": [
      "WARNING: An illegal reflective access operation has occurred\n",
      "WARNING: Illegal reflective access by org.apache.spark.unsafe.Platform (file:/home/ubuntu/spark-3.2.1-bin-hadoop2.7/jars/spark-unsafe_2.12-3.2.1.jar) to constructor java.nio.DirectByteBuffer(long,int)\n",
      "WARNING: Please consider reporting this to the maintainers of org.apache.spark.unsafe.Platform\n",
      "WARNING: Use --illegal-access=warn to enable warnings of further illegal reflective access operations\n",
      "WARNING: All illegal access operations will be denied in a future release\n",
      "Using Spark's default log4j profile: org/apache/spark/log4j-defaults.properties\n",
      "Setting default log level to \"WARN\".\n",
      "To adjust logging level use sc.setLogLevel(newLevel). For SparkR, use setLogLevel(newLevel).\n",
      "22/10/10 20:31:42 WARN NativeCodeLoader: Unable to load native-hadoop library for your platform... using builtin-java classes where applicable\n"
     ]
    }
   ],
   "source": [
    "# Must be included at the beginning of each new notebook. Remember to change the app name.\n",
    "import findspark\n",
    "findspark.init('/home/ubuntu/spark-3.2.1-bin-hadoop2.7')\n",
    "import warnings\n",
    "warnings.simplefilter(action='ignore')\n",
    "import pyspark\n",
    "from pyspark.sql import SparkSession\n",
    "spark = SparkSession.builder.appName('readin').getOrCreate()"
   ]
  },
  {
   "cell_type": "code",
   "execution_count": 3,
   "metadata": {},
   "outputs": [
    {
     "name": "stderr",
     "output_type": "stream",
     "text": [
      "\r",
      "[Stage 0:>                                                          (0 + 1) / 1]\r",
      "\r",
      "                                                                                \r"
     ]
    },
    {
     "name": "stdout",
     "output_type": "stream",
     "text": [
      "+---------+----------+----+----+------+-----+------+----+------+-----+------+-------+-------+------+----+---------+\n",
      "|     City|      Date|PM25|PM10|    NO|  NO2|   NOX| NH3|    CO|  SO2|    O3|benzene|toluene|Xylene| AQI|AQIBucket|\n",
      "+---------+----------+----+----+------+-----+------+----+------+-----+------+-------+-------+------+----+---------+\n",
      "|Ahmedabad|2015-01-01|null|null|  0.92|18.22| 17.15|null|  0.92|27.64|133.36|    0.0|   0.02|   0.0|null|     null|\n",
      "|Ahmedabad|2015-01-02|null|null|  0.97|15.69| 16.46|null|  0.97|24.55| 34.06|   3.68|    5.5|  3.77|null|     null|\n",
      "|Ahmedabad|2015-01-03|null|null|  17.4| 19.3|  29.7|null|  17.4|29.07|  30.7|    6.8|   16.4|  2.25|null|     null|\n",
      "|Ahmedabad|2015-01-04|null|null|   1.7|18.48| 17.97|null|   1.7|18.59| 36.08|   4.43|  10.14|   1.0|null|     null|\n",
      "|Ahmedabad|2015-01-05|null|null|  22.1|21.42| 37.76|null|  22.1|39.33| 39.31|   7.01|  18.89|  2.78|null|     null|\n",
      "|Ahmedabad|2015-01-06|null|null| 45.41|38.48|  81.5|null| 45.41|45.76| 46.51|   5.42|  10.83|  1.93|null|     null|\n",
      "|Ahmedabad|2015-01-07|null|null|112.16|40.62|130.77|null|112.16|32.28| 33.47|    0.0|    0.0|   0.0|null|     null|\n",
      "|Ahmedabad|2015-01-08|null|null| 80.87|36.74| 96.75|null| 80.87|38.54| 31.89|    0.0|    0.0|   0.0|null|     null|\n",
      "|Ahmedabad|2015-01-09|null|null| 29.16| 31.0|  48.0|null| 29.16|58.68| 25.75|    0.0|    0.0|   0.0|null|     null|\n",
      "|Ahmedabad|2015-01-10|null|null|  null| 7.04|   0.0|null|  null| 8.29|  4.55|    0.0|    0.0|   0.0|null|     null|\n",
      "|Ahmedabad|2015-01-11|null|null|132.07| 55.8| 24.53|null|132.07|25.03|  6.79|    0.0|    0.0|   0.0|null|     null|\n",
      "|Ahmedabad|2015-01-12|null|null| 52.04|40.67| 90.24|null| 52.04|51.84| 45.89|   2.41|   0.03|  7.88|null|     null|\n",
      "|Ahmedabad|2015-01-13|null|null| 48.82| 44.2| 87.09|null| 48.82|68.21| 35.16|   9.45|  13.35|  12.5|null|     null|\n",
      "|Ahmedabad|2015-01-14|null|null|  19.2|27.86| 33.05|null|  19.2|52.65| 20.96|   2.16|   2.26|  5.19|null|     null|\n",
      "|Ahmedabad|2015-01-15|null|null|   0.6|16.96|  16.6|null|   0.6|28.89| 47.63|   0.14|   0.04|  1.35|null|     null|\n",
      "|Ahmedabad|2015-01-16|null|null|  1.63|21.72| 22.86|null|  1.63|38.27| 46.03|   0.35|   0.05|  2.01|null|     null|\n",
      "|Ahmedabad|2015-01-17|null|null| 11.44|24.73| 34.75|null| 11.44| 49.5| 52.24|   0.68|    0.0|  3.27|null|     null|\n",
      "|Ahmedabad|2015-01-18|null|null|   6.1|25.77| 29.57|null|   6.1|48.43| 53.49|   0.74|   0.21|  2.75|null|     null|\n",
      "|Ahmedabad|2015-01-19|null|null|  2.51|26.88| 27.45|null|  2.51|50.03| 49.48|   0.26|   0.02|   2.8|null|     null|\n",
      "|Ahmedabad|2015-01-20|null|null|  7.92| 26.8|  32.4|null|  7.92|58.87| 56.37|   0.24|   0.01|  3.97|null|     null|\n",
      "+---------+----------+----+----+------+-----+------+----+------+-----+------+-------+-------+------+----+---------+\n",
      "only showing top 20 rows\n",
      "\n"
     ]
    }
   ],
   "source": [
    "# Let's read in the data. Note that it's in the csv\n",
    "\n",
    "#City,Date,PM2.5,PM10,NO,NO2,NOx,NH3,CO,SO2,O3,Benzene,Toluene,Xylene,AQI,AQI_Bucket\n",
    "#define the schema\n",
    "\n",
    "# Let's import in the relevant types.\n",
    "warnings.filterwarnings('ignore')\n",
    "from pyspark.sql.types import *\n",
    "Schema=StructType([\n",
    "  StructField(\"City\",StringType(),nullable=True),\n",
    "  StructField(\"Date\",StringType(),nullable=True),\n",
    "  StructField(\"PM25\",FloatType(),nullable=True),\n",
    "  StructField(\"PM10\",FloatType(),nullable=True),\n",
    "  StructField(\"NO\",FloatType(),nullable=True),\n",
    "  StructField(\"NO2\",FloatType(),nullable=True),\n",
    "  StructField(\"NOX\",FloatType(),nullable=True),\n",
    "  StructField(\"NH3\",FloatType(),nullable=True),\n",
    "  StructField(\"CO\",FloatType(),nullable=True),\n",
    "  StructField(\"SO2\",FloatType(),nullable=True),\n",
    "  StructField(\"O3\",FloatType(),nullable=True),\n",
    "  StructField(\"benzene\",FloatType(),nullable=True),\n",
    "  StructField(\"toluene\",FloatType(),nullable=True),\n",
    "  StructField(\"Xylene\",FloatType(),nullable=True),\n",
    "  StructField(\"AQI\",FloatType(),nullable=True),\n",
    "  StructField(\"AQIBucket\",StringType(),nullable=True)\n",
    "])\n",
    "df = spark.read.option(\"header\",True).schema(Schema).csv(\"Datasets/city_day.csv\")\n",
    "\n",
    "df.show()\n"
   ]
  },
  {
   "cell_type": "markdown",
   "metadata": {},
   "source": [
    "## Data Exploration"
   ]
  },
  {
   "cell_type": "code",
   "execution_count": 4,
   "metadata": {},
   "outputs": [
    {
     "name": "stdout",
     "output_type": "stream",
     "text": [
      "+---------+----------+----+----+------+-----+------+----+------+-----+------+-------+-------+------+----+---------+\n",
      "|     City|      Date|PM25|PM10|    NO|  NO2|   NOX| NH3|    CO|  SO2|    O3|benzene|toluene|Xylene| AQI|AQIBucket|\n",
      "+---------+----------+----+----+------+-----+------+----+------+-----+------+-------+-------+------+----+---------+\n",
      "|Ahmedabad|2015-01-01|null|null|  0.92|18.22| 17.15|null|  0.92|27.64|133.36|    0.0|   0.02|   0.0|null|     null|\n",
      "|Ahmedabad|2015-01-02|null|null|  0.97|15.69| 16.46|null|  0.97|24.55| 34.06|   3.68|    5.5|  3.77|null|     null|\n",
      "|Ahmedabad|2015-01-03|null|null|  17.4| 19.3|  29.7|null|  17.4|29.07|  30.7|    6.8|   16.4|  2.25|null|     null|\n",
      "|Ahmedabad|2015-01-04|null|null|   1.7|18.48| 17.97|null|   1.7|18.59| 36.08|   4.43|  10.14|   1.0|null|     null|\n",
      "|Ahmedabad|2015-01-05|null|null|  22.1|21.42| 37.76|null|  22.1|39.33| 39.31|   7.01|  18.89|  2.78|null|     null|\n",
      "|Ahmedabad|2015-01-06|null|null| 45.41|38.48|  81.5|null| 45.41|45.76| 46.51|   5.42|  10.83|  1.93|null|     null|\n",
      "|Ahmedabad|2015-01-07|null|null|112.16|40.62|130.77|null|112.16|32.28| 33.47|    0.0|    0.0|   0.0|null|     null|\n",
      "|Ahmedabad|2015-01-08|null|null| 80.87|36.74| 96.75|null| 80.87|38.54| 31.89|    0.0|    0.0|   0.0|null|     null|\n",
      "|Ahmedabad|2015-01-09|null|null| 29.16| 31.0|  48.0|null| 29.16|58.68| 25.75|    0.0|    0.0|   0.0|null|     null|\n",
      "|Ahmedabad|2015-01-10|null|null|  null| 7.04|   0.0|null|  null| 8.29|  4.55|    0.0|    0.0|   0.0|null|     null|\n",
      "|Ahmedabad|2015-01-11|null|null|132.07| 55.8| 24.53|null|132.07|25.03|  6.79|    0.0|    0.0|   0.0|null|     null|\n",
      "|Ahmedabad|2015-01-12|null|null| 52.04|40.67| 90.24|null| 52.04|51.84| 45.89|   2.41|   0.03|  7.88|null|     null|\n",
      "|Ahmedabad|2015-01-13|null|null| 48.82| 44.2| 87.09|null| 48.82|68.21| 35.16|   9.45|  13.35|  12.5|null|     null|\n",
      "|Ahmedabad|2015-01-14|null|null|  19.2|27.86| 33.05|null|  19.2|52.65| 20.96|   2.16|   2.26|  5.19|null|     null|\n",
      "|Ahmedabad|2015-01-15|null|null|   0.6|16.96|  16.6|null|   0.6|28.89| 47.63|   0.14|   0.04|  1.35|null|     null|\n",
      "|Ahmedabad|2015-01-16|null|null|  1.63|21.72| 22.86|null|  1.63|38.27| 46.03|   0.35|   0.05|  2.01|null|     null|\n",
      "|Ahmedabad|2015-01-17|null|null| 11.44|24.73| 34.75|null| 11.44| 49.5| 52.24|   0.68|    0.0|  3.27|null|     null|\n",
      "|Ahmedabad|2015-01-18|null|null|   6.1|25.77| 29.57|null|   6.1|48.43| 53.49|   0.74|   0.21|  2.75|null|     null|\n",
      "|Ahmedabad|2015-01-19|null|null|  2.51|26.88| 27.45|null|  2.51|50.03| 49.48|   0.26|   0.02|   2.8|null|     null|\n",
      "|Ahmedabad|2015-01-20|null|null|  7.92| 26.8|  32.4|null|  7.92|58.87| 56.37|   0.24|   0.01|  3.97|null|     null|\n",
      "+---------+----------+----+----+------+-----+------+----+------+-----+------+-------+-------+------+----+---------+\n",
      "only showing top 20 rows\n",
      "\n"
     ]
    },
    {
     "name": "stderr",
     "output_type": "stream",
     "text": [
      "                                                                                \r"
     ]
    },
    {
     "data": {
      "text/html": [
       "<div>\n",
       "<style scoped>\n",
       "    .dataframe tbody tr th:only-of-type {\n",
       "        vertical-align: middle;\n",
       "    }\n",
       "\n",
       "    .dataframe tbody tr th {\n",
       "        vertical-align: top;\n",
       "    }\n",
       "\n",
       "    .dataframe thead th {\n",
       "        text-align: right;\n",
       "    }\n",
       "</style>\n",
       "<table border=\"1\" class=\"dataframe\">\n",
       "  <thead>\n",
       "    <tr style=\"text-align: right;\">\n",
       "      <th></th>\n",
       "      <th>summary</th>\n",
       "      <th>City</th>\n",
       "      <th>Date</th>\n",
       "      <th>PM25</th>\n",
       "      <th>PM10</th>\n",
       "      <th>NO</th>\n",
       "      <th>NO2</th>\n",
       "      <th>NOX</th>\n",
       "      <th>NH3</th>\n",
       "      <th>CO</th>\n",
       "      <th>SO2</th>\n",
       "      <th>O3</th>\n",
       "      <th>benzene</th>\n",
       "      <th>toluene</th>\n",
       "      <th>Xylene</th>\n",
       "      <th>AQI</th>\n",
       "      <th>AQIBucket</th>\n",
       "    </tr>\n",
       "  </thead>\n",
       "  <tbody>\n",
       "    <tr>\n",
       "      <th>0</th>\n",
       "      <td>count</td>\n",
       "      <td>29531</td>\n",
       "      <td>29531</td>\n",
       "      <td>24933</td>\n",
       "      <td>18391</td>\n",
       "      <td>25949</td>\n",
       "      <td>25946</td>\n",
       "      <td>25346</td>\n",
       "      <td>19203</td>\n",
       "      <td>27472</td>\n",
       "      <td>25677</td>\n",
       "      <td>25509</td>\n",
       "      <td>23908</td>\n",
       "      <td>21490</td>\n",
       "      <td>11422</td>\n",
       "      <td>24850</td>\n",
       "      <td>24850</td>\n",
       "    </tr>\n",
       "    <tr>\n",
       "      <th>1</th>\n",
       "      <td>mean</td>\n",
       "      <td>None</td>\n",
       "      <td>None</td>\n",
       "      <td>67.45057795305125</td>\n",
       "      <td>118.12710294174458</td>\n",
       "      <td>17.574729666828148</td>\n",
       "      <td>28.560659052670943</td>\n",
       "      <td>32.3091233306691</td>\n",
       "      <td>23.483476022437166</td>\n",
       "      <td>2.248598209145695</td>\n",
       "      <td>14.531977259530647</td>\n",
       "      <td>34.49143047007627</td>\n",
       "      <td>3.280840303665094</td>\n",
       "      <td>8.700972087396305</td>\n",
       "      <td>3.0701278206492613</td>\n",
       "      <td>166.4635814889336</td>\n",
       "      <td>None</td>\n",
       "    </tr>\n",
       "    <tr>\n",
       "      <th>2</th>\n",
       "      <td>stddev</td>\n",
       "      <td>None</td>\n",
       "      <td>None</td>\n",
       "      <td>64.66144940408857</td>\n",
       "      <td>90.60510976469615</td>\n",
       "      <td>22.785846340154315</td>\n",
       "      <td>24.474745771469095</td>\n",
       "      <td>31.646010951236956</td>\n",
       "      <td>25.68427498752751</td>\n",
       "      <td>6.962884271836143</td>\n",
       "      <td>18.13377486834342</td>\n",
       "      <td>21.694928182946093</td>\n",
       "      <td>15.811136401685069</td>\n",
       "      <td>19.969163666257156</td>\n",
       "      <td>6.323247403424576</td>\n",
       "      <td>140.69658509414992</td>\n",
       "      <td>None</td>\n",
       "    </tr>\n",
       "    <tr>\n",
       "      <th>3</th>\n",
       "      <td>min</td>\n",
       "      <td>Ahmedabad</td>\n",
       "      <td>2015-01-01</td>\n",
       "      <td>0.04</td>\n",
       "      <td>0.01</td>\n",
       "      <td>0.02</td>\n",
       "      <td>0.01</td>\n",
       "      <td>0.0</td>\n",
       "      <td>0.01</td>\n",
       "      <td>0.0</td>\n",
       "      <td>0.01</td>\n",
       "      <td>0.01</td>\n",
       "      <td>0.0</td>\n",
       "      <td>0.0</td>\n",
       "      <td>0.0</td>\n",
       "      <td>13.0</td>\n",
       "      <td>Good</td>\n",
       "    </tr>\n",
       "    <tr>\n",
       "      <th>4</th>\n",
       "      <td>max</td>\n",
       "      <td>Visakhapatnam</td>\n",
       "      <td>2020-07-01</td>\n",
       "      <td>949.99</td>\n",
       "      <td>1000.0</td>\n",
       "      <td>390.68</td>\n",
       "      <td>362.21</td>\n",
       "      <td>467.63</td>\n",
       "      <td>352.89</td>\n",
       "      <td>175.81</td>\n",
       "      <td>193.86</td>\n",
       "      <td>257.73</td>\n",
       "      <td>455.03</td>\n",
       "      <td>454.85</td>\n",
       "      <td>170.37</td>\n",
       "      <td>2049.0</td>\n",
       "      <td>Very Poor</td>\n",
       "    </tr>\n",
       "  </tbody>\n",
       "</table>\n",
       "</div>"
      ],
      "text/plain": [
       "  summary           City        Date               PM25                PM10  \\\n",
       "0   count          29531       29531              24933               18391   \n",
       "1    mean           None        None  67.45057795305125  118.12710294174458   \n",
       "2  stddev           None        None  64.66144940408857   90.60510976469615   \n",
       "3     min      Ahmedabad  2015-01-01               0.04                0.01   \n",
       "4     max  Visakhapatnam  2020-07-01             949.99              1000.0   \n",
       "\n",
       "                   NO                 NO2                 NOX  \\\n",
       "0               25949               25946               25346   \n",
       "1  17.574729666828148  28.560659052670943    32.3091233306691   \n",
       "2  22.785846340154315  24.474745771469095  31.646010951236956   \n",
       "3                0.02                0.01                 0.0   \n",
       "4              390.68              362.21              467.63   \n",
       "\n",
       "                  NH3                 CO                 SO2  \\\n",
       "0               19203              27472               25677   \n",
       "1  23.483476022437166  2.248598209145695  14.531977259530647   \n",
       "2   25.68427498752751  6.962884271836143   18.13377486834342   \n",
       "3                0.01                0.0                0.01   \n",
       "4              352.89             175.81              193.86   \n",
       "\n",
       "                   O3             benzene             toluene  \\\n",
       "0               25509               23908               21490   \n",
       "1   34.49143047007627   3.280840303665094   8.700972087396305   \n",
       "2  21.694928182946093  15.811136401685069  19.969163666257156   \n",
       "3                0.01                 0.0                 0.0   \n",
       "4              257.73              455.03              454.85   \n",
       "\n",
       "               Xylene                 AQI  AQIBucket  \n",
       "0               11422               24850      24850  \n",
       "1  3.0701278206492613   166.4635814889336       None  \n",
       "2   6.323247403424576  140.69658509414992       None  \n",
       "3                 0.0                13.0       Good  \n",
       "4              170.37              2049.0  Very Poor  "
      ]
     },
     "execution_count": 4,
     "metadata": {},
     "output_type": "execute_result"
    }
   ],
   "source": [
    "# The show method allows you visualise DataFrames. We can see that there are two columns. \n",
    "df.show()\n",
    "\n",
    "# You could also try this. \n",
    "df.columns\n",
    "\n",
    "df.dtypes\n",
    "\n",
    "df.describe().toPandas()\n"
   ]
  },
  {
   "cell_type": "code",
   "execution_count": 5,
   "metadata": {},
   "outputs": [
    {
     "name": "stderr",
     "output_type": "stream",
     "text": [
      "\r",
      "[Stage 5:>                                                          (0 + 1) / 1]\r"
     ]
    },
    {
     "name": "stdout",
     "output_type": "stream",
     "text": [
      "+-------+-------------+----------+-----------------+------------------+------------------+------------------+------------------+------------------+-----------------+------------------+------------------+------------------+------------------+------------------+------------------+---------+\n",
      "|summary|         City|      Date|             PM25|              PM10|                NO|               NO2|               NOX|               NH3|               CO|               SO2|                O3|           benzene|           toluene|            Xylene|               AQI|AQIBucket|\n",
      "+-------+-------------+----------+-----------------+------------------+------------------+------------------+------------------+------------------+-----------------+------------------+------------------+------------------+------------------+------------------+------------------+---------+\n",
      "|  count|        29531|     29531|            24933|             18391|             25949|             25946|             25346|             19203|            27472|             25677|             25509|             23908|             21490|             11422|             24850|    24850|\n",
      "|   mean|         null|      null|67.45057795305125|118.12710294174458|17.574729666828148|28.560659052670943|  32.3091233306691|23.483476022437166|2.248598209145695|14.531977259530647| 34.49143047007627| 3.280840303665094| 8.700972087396305|3.0701278206492613| 166.4635814889336|     null|\n",
      "| stddev|         null|      null|64.66144940408857| 90.60510976469615|22.785846340154315|24.474745771469095|31.646010951236956| 25.68427498752751|6.962884271836143| 18.13377486834342|21.694928182946093|15.811136401685069|19.969163666257156| 6.323247403424576|140.69658509414992|     null|\n",
      "|    min|    Ahmedabad|2015-01-01|             0.04|              0.01|              0.02|              0.01|               0.0|              0.01|              0.0|              0.01|              0.01|               0.0|               0.0|               0.0|              13.0|     Good|\n",
      "|    max|Visakhapatnam|2020-07-01|           949.99|            1000.0|            390.68|            362.21|            467.63|            352.89|           175.81|            193.86|            257.73|            455.03|            454.85|            170.37|            2049.0|Very Poor|\n",
      "+-------+-------------+----------+-----------------+------------------+------------------+------------------+------------------+------------------+-----------------+------------------+------------------+------------------+------------------+------------------+------------------+---------+\n",
      "\n"
     ]
    },
    {
     "name": "stderr",
     "output_type": "stream",
     "text": [
      "\r",
      "                                                                                \r"
     ]
    }
   ],
   "source": [
    "# We can use the describe method get some general statistics on our data too. Remember to show the DataFrame!\n",
    "# But what about data type?\n",
    "# Then create a variable with the correct structure.\n",
    "df.describe().show()"
   ]
  },
  {
   "cell_type": "code",
   "execution_count": 6,
   "metadata": {},
   "outputs": [
    {
     "name": "stdout",
     "output_type": "stream",
     "text": [
      "root\n",
      " |-- City: string (nullable = true)\n",
      " |-- Date: string (nullable = true)\n",
      " |-- PM25: float (nullable = true)\n",
      " |-- PM10: float (nullable = true)\n",
      " |-- NO: float (nullable = true)\n",
      " |-- NO2: float (nullable = true)\n",
      " |-- NOX: float (nullable = true)\n",
      " |-- NH3: float (nullable = true)\n",
      " |-- CO: float (nullable = true)\n",
      " |-- SO2: float (nullable = true)\n",
      " |-- O3: float (nullable = true)\n",
      " |-- benzene: float (nullable = true)\n",
      " |-- toluene: float (nullable = true)\n",
      " |-- Xylene: float (nullable = true)\n",
      " |-- AQI: float (nullable = true)\n",
      " |-- AQIBucket: string (nullable = true)\n",
      "\n"
     ]
    }
   ],
   "source": [
    "# For type, we can use print schema. \n",
    "# But wait! What if you want to change the format of the data? Maybe change age to an integer instead of long?\n",
    "# And now we can read in the data using that schema. If we print the schema, we can see that age is now an integer.\n",
    "df.printSchema()"
   ]
  },
  {
   "cell_type": "markdown",
   "metadata": {},
   "source": [
    "## Data Manipulation"
   ]
  },
  {
   "cell_type": "code",
   "execution_count": 7,
   "metadata": {},
   "outputs": [
    {
     "name": "stderr",
     "output_type": "stream",
     "text": [
      "                                                                                \r"
     ]
    },
    {
     "name": "stdout",
     "output_type": "stream",
     "text": [
      "+------------+-----+\n",
      "|   AQIBucket|count|\n",
      "+------------+-----+\n",
      "|        null| 4681|\n",
      "|        Good| 1341|\n",
      "|      Severe| 1338|\n",
      "|   Very Poor| 2337|\n",
      "|Satisfactory| 8224|\n",
      "|        Poor| 2781|\n",
      "|    Moderate| 8829|\n",
      "+------------+-----+\n",
      "\n"
     ]
    }
   ],
   "source": [
    "df.describe().toPandas()\n",
    "\n",
    "df.groupby('AQIBucket').count().show()\n"
   ]
  },
  {
   "cell_type": "code",
   "execution_count": 8,
   "metadata": {},
   "outputs": [
    {
     "name": "stdout",
     "output_type": "stream",
     "text": [
      "+------------------+-----+\n",
      "|              City|count|\n",
      "+------------------+-----+\n",
      "|             Kochi|  162|\n",
      "|             Patna| 1858|\n",
      "|         Ernakulam|  162|\n",
      "|           Chennai| 2009|\n",
      "|           Lucknow| 2009|\n",
      "|            Mumbai| 2009|\n",
      "|            Aizawl|  113|\n",
      "|         Ahmedabad| 2009|\n",
      "|          Gurugram| 1679|\n",
      "|      Brajrajnagar|  938|\n",
      "|           Kolkata|  814|\n",
      "|         Amaravati|  951|\n",
      "|          Amritsar| 1221|\n",
      "|          Shillong|  310|\n",
      "|             Delhi| 2009|\n",
      "|        Chandigarh|  304|\n",
      "|        Coimbatore|  386|\n",
      "|            Bhopal|  289|\n",
      "|Thiruvananthapuram| 1112|\n",
      "|         Bengaluru| 2009|\n",
      "+------------------+-----+\n",
      "only showing top 20 rows\n",
      "\n"
     ]
    }
   ],
   "source": [
    "\n",
    "df.groupby('City').count().show()"
   ]
  },
  {
   "cell_type": "code",
   "execution_count": 9,
   "metadata": {},
   "outputs": [
    {
     "name": "stdout",
     "output_type": "stream",
     "text": [
      "+---------+----------+----+----+------+-----+------+----+------+-----+------+-------+-------+------+----+---------+\n",
      "|     City|      Date|PM25|PM10|    NO|  NO2|   NOX| NH3|    CO|  SO2|    O3|benzene|toluene|Xylene| AQI|AQIBucket|\n",
      "+---------+----------+----+----+------+-----+------+----+------+-----+------+-------+-------+------+----+---------+\n",
      "|Ahmedabad|2015-01-01|null|null|  0.92|18.22| 17.15|null|  0.92|27.64|133.36|    0.0|   0.02|   0.0|null|     null|\n",
      "|Ahmedabad|2015-01-02|null|null|  0.97|15.69| 16.46|null|  0.97|24.55| 34.06|   3.68|    5.5|  3.77|null|     null|\n",
      "|Ahmedabad|2015-01-03|null|null|  17.4| 19.3|  29.7|null|  17.4|29.07|  30.7|    6.8|   16.4|  2.25|null|     null|\n",
      "|Ahmedabad|2015-01-04|null|null|   1.7|18.48| 17.97|null|   1.7|18.59| 36.08|   4.43|  10.14|   1.0|null|     null|\n",
      "|Ahmedabad|2015-01-05|null|null|  22.1|21.42| 37.76|null|  22.1|39.33| 39.31|   7.01|  18.89|  2.78|null|     null|\n",
      "|Ahmedabad|2015-01-06|null|null| 45.41|38.48|  81.5|null| 45.41|45.76| 46.51|   5.42|  10.83|  1.93|null|     null|\n",
      "|Ahmedabad|2015-01-07|null|null|112.16|40.62|130.77|null|112.16|32.28| 33.47|    0.0|    0.0|   0.0|null|     null|\n",
      "|Ahmedabad|2015-01-08|null|null| 80.87|36.74| 96.75|null| 80.87|38.54| 31.89|    0.0|    0.0|   0.0|null|     null|\n",
      "|Ahmedabad|2015-01-09|null|null| 29.16| 31.0|  48.0|null| 29.16|58.68| 25.75|    0.0|    0.0|   0.0|null|     null|\n",
      "|Ahmedabad|2015-01-10|null|null|  null| 7.04|   0.0|null|  null| 8.29|  4.55|    0.0|    0.0|   0.0|null|     null|\n",
      "|Ahmedabad|2015-01-11|null|null|132.07| 55.8| 24.53|null|132.07|25.03|  6.79|    0.0|    0.0|   0.0|null|     null|\n",
      "|Ahmedabad|2015-01-12|null|null| 52.04|40.67| 90.24|null| 52.04|51.84| 45.89|   2.41|   0.03|  7.88|null|     null|\n",
      "|Ahmedabad|2015-01-13|null|null| 48.82| 44.2| 87.09|null| 48.82|68.21| 35.16|   9.45|  13.35|  12.5|null|     null|\n",
      "|Ahmedabad|2015-01-14|null|null|  19.2|27.86| 33.05|null|  19.2|52.65| 20.96|   2.16|   2.26|  5.19|null|     null|\n",
      "|Ahmedabad|2015-01-15|null|null|   0.6|16.96|  16.6|null|   0.6|28.89| 47.63|   0.14|   0.04|  1.35|null|     null|\n",
      "|Ahmedabad|2015-01-16|null|null|  1.63|21.72| 22.86|null|  1.63|38.27| 46.03|   0.35|   0.05|  2.01|null|     null|\n",
      "|Ahmedabad|2015-01-17|null|null| 11.44|24.73| 34.75|null| 11.44| 49.5| 52.24|   0.68|    0.0|  3.27|null|     null|\n",
      "|Ahmedabad|2015-01-18|null|null|   6.1|25.77| 29.57|null|   6.1|48.43| 53.49|   0.74|   0.21|  2.75|null|     null|\n",
      "|Ahmedabad|2015-01-19|null|null|  2.51|26.88| 27.45|null|  2.51|50.03| 49.48|   0.26|   0.02|   2.8|null|     null|\n",
      "|Ahmedabad|2015-01-20|null|null|  7.92| 26.8|  32.4|null|  7.92|58.87| 56.37|   0.24|   0.01|  3.97|null|     null|\n",
      "+---------+----------+----+----+------+-----+------+----+------+-----+------+-------+-------+------+----+---------+\n",
      "only showing top 20 rows\n",
      "\n"
     ]
    }
   ],
   "source": [
    "df.count()\n",
    "# Let's see the data. You'll notice nulls.\n",
    "df.show()"
   ]
  },
  {
   "cell_type": "code",
   "execution_count": 10,
   "metadata": {},
   "outputs": [
    {
     "name": "stdout",
     "output_type": "stream",
     "text": [
      "+---------+----------+----+----+------+-----+------+----+------+-----+------+-------+-------+------+----+---------+\n",
      "|     City|      Date|PM25|PM10|    NO|  NO2|   NOX| NH3|    CO|  SO2|    O3|benzene|toluene|Xylene| AQI|AQIBucket|\n",
      "+---------+----------+----+----+------+-----+------+----+------+-----+------+-------+-------+------+----+---------+\n",
      "|Ahmedabad|2015-01-01|null|null|  0.92|18.22| 17.15|null|  0.92|27.64|133.36|    0.0|   0.02|   0.0|null|     null|\n",
      "|Ahmedabad|2015-01-02|null|null|  0.97|15.69| 16.46|null|  0.97|24.55| 34.06|   3.68|    5.5|  3.77|null|     null|\n",
      "|Ahmedabad|2015-01-03|null|null|  17.4| 19.3|  29.7|null|  17.4|29.07|  30.7|    6.8|   16.4|  2.25|null|     null|\n",
      "|Ahmedabad|2015-01-04|null|null|   1.7|18.48| 17.97|null|   1.7|18.59| 36.08|   4.43|  10.14|   1.0|null|     null|\n",
      "|Ahmedabad|2015-01-05|null|null|  22.1|21.42| 37.76|null|  22.1|39.33| 39.31|   7.01|  18.89|  2.78|null|     null|\n",
      "|Ahmedabad|2015-01-06|null|null| 45.41|38.48|  81.5|null| 45.41|45.76| 46.51|   5.42|  10.83|  1.93|null|     null|\n",
      "|Ahmedabad|2015-01-07|null|null|112.16|40.62|130.77|null|112.16|32.28| 33.47|    0.0|    0.0|   0.0|null|     null|\n",
      "|Ahmedabad|2015-01-08|null|null| 80.87|36.74| 96.75|null| 80.87|38.54| 31.89|    0.0|    0.0|   0.0|null|     null|\n",
      "|Ahmedabad|2015-01-09|null|null| 29.16| 31.0|  48.0|null| 29.16|58.68| 25.75|    0.0|    0.0|   0.0|null|     null|\n",
      "|Ahmedabad|2015-01-10|null|null|  null| 7.04|   0.0|null|  null| 8.29|  4.55|    0.0|    0.0|   0.0|null|     null|\n",
      "|Ahmedabad|2015-01-11|null|null|132.07| 55.8| 24.53|null|132.07|25.03|  6.79|    0.0|    0.0|   0.0|null|     null|\n",
      "|Ahmedabad|2015-01-12|null|null| 52.04|40.67| 90.24|null| 52.04|51.84| 45.89|   2.41|   0.03|  7.88|null|     null|\n",
      "|Ahmedabad|2015-01-13|null|null| 48.82| 44.2| 87.09|null| 48.82|68.21| 35.16|   9.45|  13.35|  12.5|null|     null|\n",
      "|Ahmedabad|2015-01-14|null|null|  19.2|27.86| 33.05|null|  19.2|52.65| 20.96|   2.16|   2.26|  5.19|null|     null|\n",
      "|Ahmedabad|2015-01-15|null|null|   0.6|16.96|  16.6|null|   0.6|28.89| 47.63|   0.14|   0.04|  1.35|null|     null|\n",
      "|Ahmedabad|2015-01-16|null|null|  1.63|21.72| 22.86|null|  1.63|38.27| 46.03|   0.35|   0.05|  2.01|null|     null|\n",
      "|Ahmedabad|2015-01-17|null|null| 11.44|24.73| 34.75|null| 11.44| 49.5| 52.24|   0.68|    0.0|  3.27|null|     null|\n",
      "|Ahmedabad|2015-01-18|null|null|   6.1|25.77| 29.57|null|   6.1|48.43| 53.49|   0.74|   0.21|  2.75|null|     null|\n",
      "|Ahmedabad|2015-01-19|null|null|  2.51|26.88| 27.45|null|  2.51|50.03| 49.48|   0.26|   0.02|   2.8|null|     null|\n",
      "|Ahmedabad|2015-01-20|null|null|  7.92| 26.8|  32.4|null|  7.92|58.87| 56.37|   0.24|   0.01|  3.97|null|     null|\n",
      "+---------+----------+----+----+------+-----+------+----+------+-----+------+-------+-------+------+----+---------+\n",
      "only showing top 20 rows\n",
      "\n"
     ]
    }
   ],
   "source": [
    "# First, we have to register the DataFrame as a SQL temporary view.\n",
    "df.createOrReplaceTempView('pollution')\n",
    "\n",
    "# After that, we can use the SQL programming language for queries. \n",
    "results = spark.sql(\"SELECT * FROM pollution\")\n",
    "results.show()"
   ]
  },
  {
   "cell_type": "code",
   "execution_count": 11,
   "metadata": {},
   "outputs": [
    {
     "name": "stdout",
     "output_type": "stream",
     "text": [
      "+------------------+-----------+\n",
      "|              city|count(City)|\n",
      "+------------------+-----------+\n",
      "|             Kochi|          4|\n",
      "|             Patna|        399|\n",
      "|         Ernakulam|          9|\n",
      "|           Chennai|        125|\n",
      "|           Lucknow|        116|\n",
      "|            Mumbai|       1234|\n",
      "|            Aizawl|          2|\n",
      "|         Ahmedabad|        675|\n",
      "|          Gurugram|        226|\n",
      "|      Brajrajnagar|        225|\n",
      "|           Kolkata|         60|\n",
      "|         Amaravati|        110|\n",
      "|          Amritsar|         95|\n",
      "|          Shillong|        105|\n",
      "|             Delhi|         10|\n",
      "|        Chandigarh|          5|\n",
      "|        Coimbatore|         42|\n",
      "|            Bhopal|         11|\n",
      "|Thiruvananthapuram|         60|\n",
      "|         Bengaluru|         99|\n",
      "+------------------+-----------+\n",
      "only showing top 20 rows\n",
      "\n"
     ]
    }
   ],
   "source": [
    "# After that, we can use the SQL programming language for queries. \n",
    "results1 = spark.sql(\"SELECT city, count(City) FROM pollution where AQI is null group by City\")\n",
    "results1.show()"
   ]
  },
  {
   "cell_type": "code",
   "execution_count": 12,
   "metadata": {},
   "outputs": [
    {
     "name": "stdout",
     "output_type": "stream",
     "text": [
      "+----+----+----+-----+----+----+----+-----+----+----+----+-------+-------+------+----+---------+\n",
      "|City|Date|PM25| PM10|  NO| NO2| NOX|  NH3|  CO| SO2|  O3|benzene|toluene|Xylene| AQI|AQIBucket|\n",
      "+----+----+----+-----+----+----+----+-----+----+----+----+-------+-------+------+----+---------+\n",
      "|   0|   0|4598|11140|3582|3585|4185|10328|2059|3854|4022|   5623|   8041| 18109|4681|     4681|\n",
      "+----+----+----+-----+----+----+----+-----+----+----+----+-------+-------+------+----+---------+\n",
      "\n"
     ]
    },
    {
     "name": "stderr",
     "output_type": "stream",
     "text": [
      "\r",
      "[Stage 25:>                                                         (0 + 1) / 1]\r",
      "\r",
      "                                                                                \r"
     ]
    }
   ],
   "source": [
    "# Find count for empty, None, Null, Nan with string literals.\n",
    "from pyspark.sql.functions import col,isnan,when,count\n",
    "df2 = df.select([count(when(col(c).contains('None') | \\\n",
    "                            col(c).contains('NULL') | \\\n",
    "                            (col(c) == '' ) | \\\n",
    "                            col(c).isNull() | \\\n",
    "                            isnan(c), c \n",
    "                           )).alias(c)\n",
    "                    for c in df.columns])\n",
    "df2.show()"
   ]
  },
  {
   "cell_type": "code",
   "execution_count": null,
   "metadata": {},
   "outputs": [],
   "source": [
    "\n",
    "\n",
    "\n",
    "\n"
   ]
  },
  {
   "cell_type": "code",
   "execution_count": 13,
   "metadata": {},
   "outputs": [
    {
     "name": "stdout",
     "output_type": "stream",
     "text": [
      "+----+----+----+----+---+---+---+---+---+---+---+-------+-------+------+---+---------+\n",
      "|City|Date|PM25|PM10| NO|NO2|NOX|NH3| CO|SO2| O3|benzene|toluene|Xylene|AQI|AQIBucket|\n",
      "+----+----+----+----+---+---+---+---+---+---+---+-------+-------+------+---+---------+\n",
      "|   0|   0|   0|   0|  0|  0|  0|  0|  0|  0|  0|      0|      0|     0|  0|        0|\n",
      "+----+----+----+----+---+---+---+---+---+---+---+-------+-------+------+---+---------+\n",
      "\n"
     ]
    }
   ],
   "source": [
    "from pyspark.sql.functions import isnan, when, count, col\n",
    "\n",
    "df.select([count(when(isnan(c), c)).alias(c) for c in df.columns]).show()"
   ]
  },
  {
   "cell_type": "markdown",
   "metadata": {},
   "source": [
    "# Exploring data with SQL"
   ]
  },
  {
   "cell_type": "code",
   "execution_count": 14,
   "metadata": {},
   "outputs": [
    {
     "data": {
      "image/png": "[encoded data removed]",
      "text/plain": [
       "<Figure size 1800x936 with 10 Axes>"
      ]
     },
     "metadata": {
      "needs_background": "light"
     },
     "output_type": "display_data"
    }
   ],
   "source": [
    "import matplotlib.pyplot as plt\n",
    "import seaborn as sns\n",
    "import warnings\n",
    "warnings.simplefilter(action='ignore')\n",
    "\n",
    "fig = plt.figure(figsize=(25,13))\n",
    "st = fig.suptitle(\"Distribution of features\",fontsize = 50, verticalalignment=\"center\")\n",
    "for col,num in zip(df.toPandas().describe().columns, range(1,11)):\n",
    "    ax = fig.add_subplot(3,4, num)\n",
    "    ax.hist(df.toPandas()[col])\n",
    "    plt.grid(False)\n",
    "    plt.xticks(rotation=45, fontsize=20)\n",
    "    plt.yticks(fontsize=15)\n",
    "    plt.title(col.upper(), fontsize=20)\n",
    "\n",
    "plt.tight_layout()\n",
    "st.set_y(0.95)\n",
    "fig.subplots_adjust(top=0.85, hspace=0.4)\n",
    "plt.show()"
   ]
  },
  {
   "cell_type": "code",
   "execution_count": 15,
   "metadata": {},
   "outputs": [
    {
     "name": "stdout",
     "output_type": "stream",
     "text": [
      "+------------------+----------------+-----------+\n",
      "|              city|count(AQIBucket)|count(City)|\n",
      "+------------------+----------------+-----------+\n",
      "|         Hyderabad|             141|        141|\n",
      "|           Kolkata|             119|        119|\n",
      "|          Guwahati|             111|        111|\n",
      "|          Gurugram|             454|        454|\n",
      "|             Kochi|              74|         74|\n",
      "|             Kochi|               2|          2|\n",
      "|Thiruvananthapuram|             154|        154|\n",
      "|             Delhi|             542|        542|\n",
      "|     Visakhapatnam|              52|         52|\n",
      "|            Bhopal|             165|        165|\n",
      "|     Visakhapatnam|             580|        580|\n",
      "|          Shillong|              10|         10|\n",
      "|         Ahmedabad|             238|        238|\n",
      "|            Mumbai|              26|         26|\n",
      "|           Lucknow|             473|        473|\n",
      "|          Guwahati|             135|        135|\n",
      "|         Ernakulam|              49|         49|\n",
      "|            Jaipur|             110|        110|\n",
      "|         Ahmedabad|             638|        638|\n",
      "|            Mumbai|              35|         35|\n",
      "+------------------+----------------+-----------+\n",
      "only showing top 20 rows\n",
      "\n"
     ]
    }
   ],
   "source": [
    "#Import all the required functions\n",
    "from pyspark.sql.functions import year \n",
    "df.createOrReplaceTempView('pollution')\n",
    "\n",
    "results1 = spark.sql(\"SELECT city, Count(AQIBucket), count(City) FROM pollution where AQIBucket is not null group by City, AQIBucket\")\n",
    "results1.show()\n"
   ]
  },
  {
   "cell_type": "code",
   "execution_count": 16,
   "metadata": {},
   "outputs": [
    {
     "name": "stdout",
     "output_type": "stream",
     "text": [
      "+---------+----------+----+----+------+-----+------+----+------+-----+------+-------+-------+------+----+---------+\n",
      "|     City|      Date|PM25|PM10|    NO|  NO2|   NOX| NH3|    CO|  SO2|    O3|benzene|toluene|Xylene| AQI|AQIBucket|\n",
      "+---------+----------+----+----+------+-----+------+----+------+-----+------+-------+-------+------+----+---------+\n",
      "|Ahmedabad|2015-01-01|null|null|  0.92|18.22| 17.15|null|  0.92|27.64|133.36|    0.0|   0.02|   0.0|null|     null|\n",
      "|Ahmedabad|2015-01-02|null|null|  0.97|15.69| 16.46|null|  0.97|24.55| 34.06|   3.68|    5.5|  3.77|null|     null|\n",
      "|Ahmedabad|2015-01-03|null|null|  17.4| 19.3|  29.7|null|  17.4|29.07|  30.7|    6.8|   16.4|  2.25|null|     null|\n",
      "|Ahmedabad|2015-01-04|null|null|   1.7|18.48| 17.97|null|   1.7|18.59| 36.08|   4.43|  10.14|   1.0|null|     null|\n",
      "|Ahmedabad|2015-01-05|null|null|  22.1|21.42| 37.76|null|  22.1|39.33| 39.31|   7.01|  18.89|  2.78|null|     null|\n",
      "|Ahmedabad|2015-01-06|null|null| 45.41|38.48|  81.5|null| 45.41|45.76| 46.51|   5.42|  10.83|  1.93|null|     null|\n",
      "|Ahmedabad|2015-01-07|null|null|112.16|40.62|130.77|null|112.16|32.28| 33.47|    0.0|    0.0|   0.0|null|     null|\n",
      "|Ahmedabad|2015-01-08|null|null| 80.87|36.74| 96.75|null| 80.87|38.54| 31.89|    0.0|    0.0|   0.0|null|     null|\n",
      "|Ahmedabad|2015-01-09|null|null| 29.16| 31.0|  48.0|null| 29.16|58.68| 25.75|    0.0|    0.0|   0.0|null|     null|\n",
      "|Ahmedabad|2015-01-10|null|null|  null| 7.04|   0.0|null|  null| 8.29|  4.55|    0.0|    0.0|   0.0|null|     null|\n",
      "|Ahmedabad|2015-01-11|null|null|132.07| 55.8| 24.53|null|132.07|25.03|  6.79|    0.0|    0.0|   0.0|null|     null|\n",
      "|Ahmedabad|2015-01-12|null|null| 52.04|40.67| 90.24|null| 52.04|51.84| 45.89|   2.41|   0.03|  7.88|null|     null|\n",
      "|Ahmedabad|2015-01-13|null|null| 48.82| 44.2| 87.09|null| 48.82|68.21| 35.16|   9.45|  13.35|  12.5|null|     null|\n",
      "|Ahmedabad|2015-01-14|null|null|  19.2|27.86| 33.05|null|  19.2|52.65| 20.96|   2.16|   2.26|  5.19|null|     null|\n",
      "|Ahmedabad|2015-01-15|null|null|   0.6|16.96|  16.6|null|   0.6|28.89| 47.63|   0.14|   0.04|  1.35|null|     null|\n",
      "|Ahmedabad|2015-01-16|null|null|  1.63|21.72| 22.86|null|  1.63|38.27| 46.03|   0.35|   0.05|  2.01|null|     null|\n",
      "|Ahmedabad|2015-01-17|null|null| 11.44|24.73| 34.75|null| 11.44| 49.5| 52.24|   0.68|    0.0|  3.27|null|     null|\n",
      "|Ahmedabad|2015-01-18|null|null|   6.1|25.77| 29.57|null|   6.1|48.43| 53.49|   0.74|   0.21|  2.75|null|     null|\n",
      "|Ahmedabad|2015-01-19|null|null|  2.51|26.88| 27.45|null|  2.51|50.03| 49.48|   0.26|   0.02|   2.8|null|     null|\n",
      "|Ahmedabad|2015-01-20|null|null|  7.92| 26.8|  32.4|null|  7.92|58.87| 56.37|   0.24|   0.01|  3.97|null|     null|\n",
      "+---------+----------+----+----+------+-----+------+----+------+-----+------+-------+-------+------+----+---------+\n",
      "only showing top 20 rows\n",
      "\n"
     ]
    }
   ],
   "source": [
    "# Requires a certain amount of non-null values. Row two was dropped, as there's only one non-null value.\n",
    "df.na.drop(thresh=8).show()"
   ]
  },
  {
   "cell_type": "code",
   "execution_count": 17,
   "metadata": {},
   "outputs": [
    {
     "data": {
      "text/plain": [
       "29531"
      ]
     },
     "execution_count": 17,
     "metadata": {},
     "output_type": "execute_result"
    }
   ],
   "source": [
    "df.count()"
   ]
  },
  {
   "cell_type": "code",
   "execution_count": 18,
   "metadata": {},
   "outputs": [
    {
     "name": "stderr",
     "output_type": "stream",
     "text": [
      "                                                                                \r"
     ]
    },
    {
     "name": "stdout",
     "output_type": "stream",
     "text": [
      "+---------+----------+-----+----+------+-----+------+----+------+-----+------+-------+-------+------+----+---------+\n",
      "|     City|      Date| PM25|PM10|    NO|  NO2|   NOX| NH3|    CO|  SO2|    O3|benzene|toluene|Xylene| AQI|AQIBucket|\n",
      "+---------+----------+-----+----+------+-----+------+----+------+-----+------+-------+-------+------+----+---------+\n",
      "|Ahmedabad|2015-01-01|73.24|null|  0.92|18.22| 17.15|null|  0.92|27.64|133.36|    0.0|   0.02|   0.0|null|     null|\n",
      "|Ahmedabad|2015-01-02|73.24|null|  0.97|15.69| 16.46|null|  0.97|24.55| 34.06|   3.68|    5.5|  3.77|null|     null|\n",
      "|Ahmedabad|2015-01-03|73.24|null|  17.4| 19.3|  29.7|null|  17.4|29.07|  30.7|    6.8|   16.4|  2.25|null|     null|\n",
      "|Ahmedabad|2015-01-04|73.24|null|   1.7|18.48| 17.97|null|   1.7|18.59| 36.08|   4.43|  10.14|   1.0|null|     null|\n",
      "|Ahmedabad|2015-01-05|73.24|null|  22.1|21.42| 37.76|null|  22.1|39.33| 39.31|   7.01|  18.89|  2.78|null|     null|\n",
      "|Ahmedabad|2015-01-06|73.24|null| 45.41|38.48|  81.5|null| 45.41|45.76| 46.51|   5.42|  10.83|  1.93|null|     null|\n",
      "|Ahmedabad|2015-01-07|73.24|null|112.16|40.62|130.77|null|112.16|32.28| 33.47|    0.0|    0.0|   0.0|null|     null|\n",
      "|Ahmedabad|2015-01-08|73.24|null| 80.87|36.74| 96.75|null| 80.87|38.54| 31.89|    0.0|    0.0|   0.0|null|     null|\n",
      "|Ahmedabad|2015-01-09|73.24|null| 29.16| 31.0|  48.0|null| 29.16|58.68| 25.75|    0.0|    0.0|   0.0|null|     null|\n",
      "|Ahmedabad|2015-01-10|73.24|null|  null| 7.04|   0.0|null|  null| 8.29|  4.55|    0.0|    0.0|   0.0|null|     null|\n",
      "+---------+----------+-----+----+------+-----+------+----+------+-----+------+-------+-------+------+----+---------+\n",
      "only showing top 10 rows\n",
      "\n",
      "+---------+----------+-----+----+------+-----+------+----+------+-----+------+-------+-------+------+----+---------+\n",
      "|     City|      Date| PM25|PM10|    NO|  NO2|   NOX| NH3|    CO|  SO2|    O3|benzene|toluene|Xylene| AQI|AQIBucket|\n",
      "+---------+----------+-----+----+------+-----+------+----+------+-----+------+-------+-------+------+----+---------+\n",
      "|Ahmedabad|2015-01-01|73.24|null|  0.92|18.22| 17.15|null|  0.92|27.64|133.36|    0.0|   0.02|   0.0|null|     null|\n",
      "|Ahmedabad|2015-01-02|73.24|null|  0.97|15.69| 16.46|null|  0.97|24.55| 34.06|   3.68|    5.5|  3.77|null|     null|\n",
      "|Ahmedabad|2015-01-03|73.24|null|  17.4| 19.3|  29.7|null|  17.4|29.07|  30.7|    6.8|   16.4|  2.25|null|     null|\n",
      "|Ahmedabad|2015-01-04|73.24|null|   1.7|18.48| 17.97|null|   1.7|18.59| 36.08|   4.43|  10.14|   1.0|null|     null|\n",
      "|Ahmedabad|2015-01-05|73.24|null|  22.1|21.42| 37.76|null|  22.1|39.33| 39.31|   7.01|  18.89|  2.78|null|     null|\n",
      "|Ahmedabad|2015-01-06|73.24|null| 45.41|38.48|  81.5|null| 45.41|45.76| 46.51|   5.42|  10.83|  1.93|null|     null|\n",
      "|Ahmedabad|2015-01-07|73.24|null|112.16|40.62|130.77|null|112.16|32.28| 33.47|    0.0|    0.0|   0.0|null|     null|\n",
      "|Ahmedabad|2015-01-08|73.24|null| 80.87|36.74| 96.75|null| 80.87|38.54| 31.89|    0.0|    0.0|   0.0|null|     null|\n",
      "|Ahmedabad|2015-01-09|73.24|null| 29.16| 31.0|  48.0|null| 29.16|58.68| 25.75|    0.0|    0.0|   0.0|null|     null|\n",
      "|Ahmedabad|2015-01-10|73.24|null|  null| 7.04|   0.0|null|  null| 8.29|  4.55|    0.0|    0.0|   0.0|null|     null|\n",
      "|Ahmedabad|2015-01-11|73.24|null|132.07| 55.8| 24.53|null|132.07|25.03|  6.79|    0.0|    0.0|   0.0|null|     null|\n",
      "|Ahmedabad|2015-01-12|73.24|null| 52.04|40.67| 90.24|null| 52.04|51.84| 45.89|   2.41|   0.03|  7.88|null|     null|\n",
      "|Ahmedabad|2015-01-13|73.24|null| 48.82| 44.2| 87.09|null| 48.82|68.21| 35.16|   9.45|  13.35|  12.5|null|     null|\n",
      "|Ahmedabad|2015-01-14|73.24|null|  19.2|27.86| 33.05|null|  19.2|52.65| 20.96|   2.16|   2.26|  5.19|null|     null|\n",
      "|Ahmedabad|2015-01-15|73.24|null|   0.6|16.96|  16.6|null|   0.6|28.89| 47.63|   0.14|   0.04|  1.35|null|     null|\n",
      "|Ahmedabad|2015-01-16|73.24|null|  1.63|21.72| 22.86|null|  1.63|38.27| 46.03|   0.35|   0.05|  2.01|null|     null|\n",
      "|Ahmedabad|2015-01-17|73.24|null| 11.44|24.73| 34.75|null| 11.44| 49.5| 52.24|   0.68|    0.0|  3.27|null|     null|\n",
      "|Ahmedabad|2015-01-18|73.24|null|   6.1|25.77| 29.57|null|   6.1|48.43| 53.49|   0.74|   0.21|  2.75|null|     null|\n",
      "|Ahmedabad|2015-01-19|73.24|null|  2.51|26.88| 27.45|null|  2.51|50.03| 49.48|   0.26|   0.02|   2.8|null|     null|\n",
      "|Ahmedabad|2015-01-20|73.24|null|  7.92| 26.8|  32.4|null|  7.92|58.87| 56.37|   0.24|   0.01|  3.97|null|     null|\n",
      "+---------+----------+-----+----+------+-----+------+----+------+-----+------+-------+-------+------+----+---------+\n",
      "only showing top 20 rows\n",
      "\n"
     ]
    },
    {
     "name": "stderr",
     "output_type": "stream",
     "text": [
      "                                                                                \r"
     ]
    },
    {
     "name": "stdout",
     "output_type": "stream",
     "text": [
      "+---------+----------+-----+----+------+-----+------+----+------+-----+------+-------+-------+------+----+---------+\n",
      "|     City|      Date| PM25|PM10|    NO|  NO2|   NOX| NH3|    CO|  SO2|    O3|benzene|toluene|Xylene| AQI|AQIBucket|\n",
      "+---------+----------+-----+----+------+-----+------+----+------+-----+------+-------+-------+------+----+---------+\n",
      "|Ahmedabad|2015-01-01|73.24|null|  0.92|18.22| 17.15|null|  0.92|27.64|133.36|    0.0|   0.02|   0.0|null|     null|\n",
      "|Ahmedabad|2015-01-02|73.24|null|  0.97|15.69| 16.46|null|  0.97|24.55| 34.06|   3.68|    5.5|  3.77|null|     null|\n",
      "|Ahmedabad|2015-01-03|73.24|null|  17.4| 19.3|  29.7|null|  17.4|29.07|  30.7|    6.8|   16.4|  2.25|null|     null|\n",
      "|Ahmedabad|2015-01-04|73.24|null|   1.7|18.48| 17.97|null|   1.7|18.59| 36.08|   4.43|  10.14|   1.0|null|     null|\n",
      "|Ahmedabad|2015-01-05|73.24|null|  22.1|21.42| 37.76|null|  22.1|39.33| 39.31|   7.01|  18.89|  2.78|null|     null|\n",
      "|Ahmedabad|2015-01-06|73.24|null| 45.41|38.48|  81.5|null| 45.41|45.76| 46.51|   5.42|  10.83|  1.93|null|     null|\n",
      "|Ahmedabad|2015-01-07|73.24|null|112.16|40.62|130.77|null|112.16|32.28| 33.47|    0.0|    0.0|   0.0|null|     null|\n",
      "|Ahmedabad|2015-01-08|73.24|null| 80.87|36.74| 96.75|null| 80.87|38.54| 31.89|    0.0|    0.0|   0.0|null|     null|\n",
      "|Ahmedabad|2015-01-09|73.24|null| 29.16| 31.0|  48.0|null| 29.16|58.68| 25.75|    0.0|    0.0|   0.0|null|     null|\n",
      "|Ahmedabad|2015-01-10|73.24|null|  null| 7.04|   0.0|null|  null| 8.29|  4.55|    0.0|    0.0|   0.0|null|     null|\n",
      "+---------+----------+-----+----+------+-----+------+----+------+-----+------+-------+-------+------+----+---------+\n",
      "only showing top 10 rows\n",
      "\n",
      "+---------+----------+-----+----+------+-----+------+----+------+-----+------+-------+-------+------+----+---------+\n",
      "|     City|      Date| PM25|PM10|    NO|  NO2|   NOX| NH3|    CO|  SO2|    O3|benzene|toluene|Xylene| AQI|AQIBucket|\n",
      "+---------+----------+-----+----+------+-----+------+----+------+-----+------+-------+-------+------+----+---------+\n",
      "|Ahmedabad|2015-01-01|73.24|null|  0.92|18.22| 17.15|null|  0.92|27.64|133.36|    0.0|   0.02|   0.0|null|     null|\n",
      "|Ahmedabad|2015-01-02|73.24|null|  0.97|15.69| 16.46|null|  0.97|24.55| 34.06|   3.68|    5.5|  3.77|null|     null|\n",
      "|Ahmedabad|2015-01-03|73.24|null|  17.4| 19.3|  29.7|null|  17.4|29.07|  30.7|    6.8|   16.4|  2.25|null|     null|\n",
      "|Ahmedabad|2015-01-04|73.24|null|   1.7|18.48| 17.97|null|   1.7|18.59| 36.08|   4.43|  10.14|   1.0|null|     null|\n",
      "|Ahmedabad|2015-01-05|73.24|null|  22.1|21.42| 37.76|null|  22.1|39.33| 39.31|   7.01|  18.89|  2.78|null|     null|\n",
      "|Ahmedabad|2015-01-06|73.24|null| 45.41|38.48|  81.5|null| 45.41|45.76| 46.51|   5.42|  10.83|  1.93|null|     null|\n",
      "|Ahmedabad|2015-01-07|73.24|null|112.16|40.62|130.77|null|112.16|32.28| 33.47|    0.0|    0.0|   0.0|null|     null|\n",
      "|Ahmedabad|2015-01-08|73.24|null| 80.87|36.74| 96.75|null| 80.87|38.54| 31.89|    0.0|    0.0|   0.0|null|     null|\n",
      "|Ahmedabad|2015-01-09|73.24|null| 29.16| 31.0|  48.0|null| 29.16|58.68| 25.75|    0.0|    0.0|   0.0|null|     null|\n",
      "|Ahmedabad|2015-01-10|73.24|null|  null| 7.04|   0.0|null|  null| 8.29|  4.55|    0.0|    0.0|   0.0|null|     null|\n",
      "|Ahmedabad|2015-01-11|73.24|null|132.07| 55.8| 24.53|null|132.07|25.03|  6.79|    0.0|    0.0|   0.0|null|     null|\n",
      "|Ahmedabad|2015-01-12|73.24|null| 52.04|40.67| 90.24|null| 52.04|51.84| 45.89|   2.41|   0.03|  7.88|null|     null|\n",
      "|Ahmedabad|2015-01-13|73.24|null| 48.82| 44.2| 87.09|null| 48.82|68.21| 35.16|   9.45|  13.35|  12.5|null|     null|\n",
      "|Ahmedabad|2015-01-14|73.24|null|  19.2|27.86| 33.05|null|  19.2|52.65| 20.96|   2.16|   2.26|  5.19|null|     null|\n",
      "|Ahmedabad|2015-01-15|73.24|null|   0.6|16.96|  16.6|null|   0.6|28.89| 47.63|   0.14|   0.04|  1.35|null|     null|\n",
      "|Ahmedabad|2015-01-16|73.24|null|  1.63|21.72| 22.86|null|  1.63|38.27| 46.03|   0.35|   0.05|  2.01|null|     null|\n",
      "|Ahmedabad|2015-01-17|73.24|null| 11.44|24.73| 34.75|null| 11.44| 49.5| 52.24|   0.68|    0.0|  3.27|null|     null|\n",
      "|Ahmedabad|2015-01-18|73.24|null|   6.1|25.77| 29.57|null|   6.1|48.43| 53.49|   0.74|   0.21|  2.75|null|     null|\n",
      "|Ahmedabad|2015-01-19|73.24|null|  2.51|26.88| 27.45|null|  2.51|50.03| 49.48|   0.26|   0.02|   2.8|null|     null|\n",
      "|Ahmedabad|2015-01-20|73.24|null|  7.92| 26.8|  32.4|null|  7.92|58.87| 56.37|   0.24|   0.01|  3.97|null|     null|\n",
      "+---------+----------+-----+----+------+-----+------+----+------+-----+------+-------+-------+------+----+---------+\n",
      "only showing top 20 rows\n",
      "\n"
     ]
    }
   ],
   "source": [
    "import sys\n",
    "###backward fill\n",
    "from pyspark.sql import Window\n",
    "from pyspark.sql.functions import first,last\n",
    "\n",
    "# define the window\n",
    "window = Window.partitionBy('City')\\\n",
    "               .orderBy('Date')\\\n",
    "               .rowsBetween(0, sys.maxsize)\n",
    "\n",
    "# define the forward-filled column\n",
    "filled_column = first(df['PM25'], ignorenulls=True).over(window)\n",
    "\n",
    "# do the fill\n",
    "spark_df_filled = df.withColumn('PM25', filled_column)\n",
    "\n",
    "# show off our glorious achievements\n",
    "spark_df_filled.orderBy('City', 'Date').show(10) \n",
    "spark_df_filled.show()\n",
    "\n",
    "# define the window\n",
    "window = Window.partitionBy('City')\\\n",
    "               .orderBy('Date')\\\n",
    "               .rowsBetween(-sys.maxsize,0)\n",
    "\n",
    "# define the forward-filled column\n",
    "filled_column = last(spark_df_filled['PM25'], ignorenulls=True).over(window)\n",
    "\n",
    "# do the fill\n",
    "spark_df_filled = spark_df_filled.withColumn('PM25', filled_column)\n",
    "# show off our glorious achievements\n",
    "\n",
    "spark_df_filled.orderBy('City', 'Date').show(10) \n",
    "spark_df_filled.show()\n"
   ]
  },
  {
   "cell_type": "code",
   "execution_count": 19,
   "metadata": {},
   "outputs": [
    {
     "name": "stderr",
     "output_type": "stream",
     "text": [
      "\r",
      "[Stage 63:>                                                         (0 + 1) / 1]\r"
     ]
    },
    {
     "name": "stdout",
     "output_type": "stream",
     "text": [
      "+----+----+----+----+---+---+---+---+---+---+---+-------+-------+------+---+---------+\n",
      "|City|Date|PM25|PM10| NO|NO2|NOX|NH3| CO|SO2| O3|benzene|toluene|Xylene|AQI|AQIBucket|\n",
      "+----+----+----+----+---+---+---+---+---+---+---+-------+-------+------+---+---------+\n",
      "+----+----+----+----+---+---+---+---+---+---+---+-------+-------+------+---+---------+\n",
      "\n"
     ]
    },
    {
     "name": "stderr",
     "output_type": "stream",
     "text": [
      "\r",
      "                                                                                \r"
     ]
    }
   ],
   "source": [
    "spark_df_filled.filter(spark_df_filled.PM25.isNull()).show()"
   ]
  },
  {
   "cell_type": "code",
   "execution_count": 20,
   "metadata": {},
   "outputs": [
    {
     "name": "stderr",
     "output_type": "stream",
     "text": [
      "\r",
      "[Stage 66:>                                                         (0 + 1) / 1]\r"
     ]
    },
    {
     "name": "stdout",
     "output_type": "stream",
     "text": [
      "+----+----+----+-----+----+----+----+-----+----+----+----+-------+-------+------+----+---------+\n",
      "|City|Date|PM25| PM10|  NO| NO2| NOX|  NH3|  CO| SO2|  O3|benzene|toluene|Xylene| AQI|AQIBucket|\n",
      "+----+----+----+-----+----+----+----+-----+----+----+----+-------+-------+------+----+---------+\n",
      "|   0|   0|   0|11140|3582|3585|4185|10328|2059|3854|4022|   5623|   8041| 18109|4681|     4681|\n",
      "+----+----+----+-----+----+----+----+-----+----+----+----+-------+-------+------+----+---------+\n",
      "\n"
     ]
    },
    {
     "name": "stderr",
     "output_type": "stream",
     "text": [
      "\r",
      "                                                                                \r"
     ]
    }
   ],
   "source": [
    "# Find count for empty, None, Null, Nan with string literals.\n",
    "from pyspark.sql.functions import col,isnan,when,count\n",
    "df2 = spark_df_filled\n",
    "df2 = df2.select([count(when(col(c).contains('None') | \\\n",
    "                            col(c).contains('NULL') | \\\n",
    "                            (col(c) == '' ) | \\\n",
    "                            col(c).isNull() | \\\n",
    "                            isnan(c), c \n",
    "                           )).alias(c)\n",
    "                    for c in df2.columns])\n",
    "df2.show()"
   ]
  },
  {
   "cell_type": "code",
   "execution_count": 21,
   "metadata": {},
   "outputs": [
    {
     "name": "stderr",
     "output_type": "stream",
     "text": [
      "                                                                                \r"
     ]
    },
    {
     "name": "stdout",
     "output_type": "stream",
     "text": [
      "+---------+----------+-----+----+------+-----+------+----+------+-----+------+-------+-------+------+----+---------+\n",
      "|     City|      Date| PM25|PM10|    NO|  NO2|   NOX| NH3|    CO|  SO2|    O3|benzene|toluene|Xylene| AQI|AQIBucket|\n",
      "+---------+----------+-----+----+------+-----+------+----+------+-----+------+-------+-------+------+----+---------+\n",
      "|Ahmedabad|2015-01-01|73.24|null|  0.92|18.22| 17.15|null|  0.92|27.64|133.36|    0.0|   0.02|   0.0|null|     null|\n",
      "|Ahmedabad|2015-01-02|73.24|null|  0.97|15.69| 16.46|null|  0.97|24.55| 34.06|   3.68|    5.5|  3.77|null|     null|\n",
      "|Ahmedabad|2015-01-03|73.24|null|  17.4| 19.3|  29.7|null|  17.4|29.07|  30.7|    6.8|   16.4|  2.25|null|     null|\n",
      "|Ahmedabad|2015-01-04|73.24|null|   1.7|18.48| 17.97|null|   1.7|18.59| 36.08|   4.43|  10.14|   1.0|null|     null|\n",
      "|Ahmedabad|2015-01-05|73.24|null|  22.1|21.42| 37.76|null|  22.1|39.33| 39.31|   7.01|  18.89|  2.78|null|     null|\n",
      "|Ahmedabad|2015-01-06|73.24|null| 45.41|38.48|  81.5|null| 45.41|45.76| 46.51|   5.42|  10.83|  1.93|null|     null|\n",
      "|Ahmedabad|2015-01-07|73.24|null|112.16|40.62|130.77|null|112.16|32.28| 33.47|    0.0|    0.0|   0.0|null|     null|\n",
      "|Ahmedabad|2015-01-08|73.24|null| 80.87|36.74| 96.75|null| 80.87|38.54| 31.89|    0.0|    0.0|   0.0|null|     null|\n",
      "|Ahmedabad|2015-01-09|73.24|null| 29.16| 31.0|  48.0|null| 29.16|58.68| 25.75|    0.0|    0.0|   0.0|null|     null|\n",
      "|Ahmedabad|2015-01-10|73.24|null|  null| 7.04|   0.0|null|  null| 8.29|  4.55|    0.0|    0.0|   0.0|null|     null|\n",
      "+---------+----------+-----+----+------+-----+------+----+------+-----+------+-------+-------+------+----+---------+\n",
      "only showing top 10 rows\n",
      "\n",
      "+---------+----------+-----+----+------+-----+------+----+------+-----+------+-------+-------+------+----+---------+\n",
      "|     City|      Date| PM25|PM10|    NO|  NO2|   NOX| NH3|    CO|  SO2|    O3|benzene|toluene|Xylene| AQI|AQIBucket|\n",
      "+---------+----------+-----+----+------+-----+------+----+------+-----+------+-------+-------+------+----+---------+\n",
      "|Ahmedabad|2015-01-01|73.24|null|  0.92|18.22| 17.15|null|  0.92|27.64|133.36|    0.0|   0.02|   0.0|null|     null|\n",
      "|Ahmedabad|2015-01-02|73.24|null|  0.97|15.69| 16.46|null|  0.97|24.55| 34.06|   3.68|    5.5|  3.77|null|     null|\n",
      "|Ahmedabad|2015-01-03|73.24|null|  17.4| 19.3|  29.7|null|  17.4|29.07|  30.7|    6.8|   16.4|  2.25|null|     null|\n",
      "|Ahmedabad|2015-01-04|73.24|null|   1.7|18.48| 17.97|null|   1.7|18.59| 36.08|   4.43|  10.14|   1.0|null|     null|\n",
      "|Ahmedabad|2015-01-05|73.24|null|  22.1|21.42| 37.76|null|  22.1|39.33| 39.31|   7.01|  18.89|  2.78|null|     null|\n",
      "|Ahmedabad|2015-01-06|73.24|null| 45.41|38.48|  81.5|null| 45.41|45.76| 46.51|   5.42|  10.83|  1.93|null|     null|\n",
      "|Ahmedabad|2015-01-07|73.24|null|112.16|40.62|130.77|null|112.16|32.28| 33.47|    0.0|    0.0|   0.0|null|     null|\n",
      "|Ahmedabad|2015-01-08|73.24|null| 80.87|36.74| 96.75|null| 80.87|38.54| 31.89|    0.0|    0.0|   0.0|null|     null|\n",
      "|Ahmedabad|2015-01-09|73.24|null| 29.16| 31.0|  48.0|null| 29.16|58.68| 25.75|    0.0|    0.0|   0.0|null|     null|\n",
      "|Ahmedabad|2015-01-10|73.24|null|  null| 7.04|   0.0|null|  null| 8.29|  4.55|    0.0|    0.0|   0.0|null|     null|\n",
      "|Ahmedabad|2015-01-11|73.24|null|132.07| 55.8| 24.53|null|132.07|25.03|  6.79|    0.0|    0.0|   0.0|null|     null|\n",
      "|Ahmedabad|2015-01-12|73.24|null| 52.04|40.67| 90.24|null| 52.04|51.84| 45.89|   2.41|   0.03|  7.88|null|     null|\n",
      "|Ahmedabad|2015-01-13|73.24|null| 48.82| 44.2| 87.09|null| 48.82|68.21| 35.16|   9.45|  13.35|  12.5|null|     null|\n",
      "|Ahmedabad|2015-01-14|73.24|null|  19.2|27.86| 33.05|null|  19.2|52.65| 20.96|   2.16|   2.26|  5.19|null|     null|\n",
      "|Ahmedabad|2015-01-15|73.24|null|   0.6|16.96|  16.6|null|   0.6|28.89| 47.63|   0.14|   0.04|  1.35|null|     null|\n",
      "|Ahmedabad|2015-01-16|73.24|null|  1.63|21.72| 22.86|null|  1.63|38.27| 46.03|   0.35|   0.05|  2.01|null|     null|\n",
      "|Ahmedabad|2015-01-17|73.24|null| 11.44|24.73| 34.75|null| 11.44| 49.5| 52.24|   0.68|    0.0|  3.27|null|     null|\n",
      "|Ahmedabad|2015-01-18|73.24|null|   6.1|25.77| 29.57|null|   6.1|48.43| 53.49|   0.74|   0.21|  2.75|null|     null|\n",
      "|Ahmedabad|2015-01-19|73.24|null|  2.51|26.88| 27.45|null|  2.51|50.03| 49.48|   0.26|   0.02|   2.8|null|     null|\n",
      "|Ahmedabad|2015-01-20|73.24|null|  7.92| 26.8|  32.4|null|  7.92|58.87| 56.37|   0.24|   0.01|  3.97|null|     null|\n",
      "+---------+----------+-----+----+------+-----+------+----+------+-----+------+-------+-------+------+----+---------+\n",
      "only showing top 20 rows\n",
      "\n"
     ]
    },
    {
     "name": "stderr",
     "output_type": "stream",
     "text": [
      "                                                                                \r"
     ]
    },
    {
     "name": "stdout",
     "output_type": "stream",
     "text": [
      "+---------+----------+-----+------+------+-----+------+----+------+-----+------+-------+-------+------+----+---------+\n",
      "|     City|      Date| PM25|  PM10|    NO|  NO2|   NOX| NH3|    CO|  SO2|    O3|benzene|toluene|Xylene| AQI|AQIBucket|\n",
      "+---------+----------+-----+------+------+-----+------+----+------+-----+------+-------+-------+------+----+---------+\n",
      "|Ahmedabad|2015-01-01|73.24|141.54|  0.92|18.22| 17.15|null|  0.92|27.64|133.36|    0.0|   0.02|   0.0|null|     null|\n",
      "|Ahmedabad|2015-01-02|73.24|141.54|  0.97|15.69| 16.46|null|  0.97|24.55| 34.06|   3.68|    5.5|  3.77|null|     null|\n",
      "|Ahmedabad|2015-01-03|73.24|141.54|  17.4| 19.3|  29.7|null|  17.4|29.07|  30.7|    6.8|   16.4|  2.25|null|     null|\n",
      "|Ahmedabad|2015-01-04|73.24|141.54|   1.7|18.48| 17.97|null|   1.7|18.59| 36.08|   4.43|  10.14|   1.0|null|     null|\n",
      "|Ahmedabad|2015-01-05|73.24|141.54|  22.1|21.42| 37.76|null|  22.1|39.33| 39.31|   7.01|  18.89|  2.78|null|     null|\n",
      "|Ahmedabad|2015-01-06|73.24|141.54| 45.41|38.48|  81.5|null| 45.41|45.76| 46.51|   5.42|  10.83|  1.93|null|     null|\n",
      "|Ahmedabad|2015-01-07|73.24|141.54|112.16|40.62|130.77|null|112.16|32.28| 33.47|    0.0|    0.0|   0.0|null|     null|\n",
      "|Ahmedabad|2015-01-08|73.24|141.54| 80.87|36.74| 96.75|null| 80.87|38.54| 31.89|    0.0|    0.0|   0.0|null|     null|\n",
      "|Ahmedabad|2015-01-09|73.24|141.54| 29.16| 31.0|  48.0|null| 29.16|58.68| 25.75|    0.0|    0.0|   0.0|null|     null|\n",
      "|Ahmedabad|2015-01-10|73.24|141.54|  null| 7.04|   0.0|null|  null| 8.29|  4.55|    0.0|    0.0|   0.0|null|     null|\n",
      "+---------+----------+-----+------+------+-----+------+----+------+-----+------+-------+-------+------+----+---------+\n",
      "only showing top 10 rows\n",
      "\n",
      "+---------+----------+-----+------+------+-----+------+----+------+-----+------+-------+-------+------+----+---------+\n",
      "|     City|      Date| PM25|  PM10|    NO|  NO2|   NOX| NH3|    CO|  SO2|    O3|benzene|toluene|Xylene| AQI|AQIBucket|\n",
      "+---------+----------+-----+------+------+-----+------+----+------+-----+------+-------+-------+------+----+---------+\n",
      "|Ahmedabad|2015-01-01|73.24|141.54|  0.92|18.22| 17.15|null|  0.92|27.64|133.36|    0.0|   0.02|   0.0|null|     null|\n",
      "|Ahmedabad|2015-01-02|73.24|141.54|  0.97|15.69| 16.46|null|  0.97|24.55| 34.06|   3.68|    5.5|  3.77|null|     null|\n",
      "|Ahmedabad|2015-01-03|73.24|141.54|  17.4| 19.3|  29.7|null|  17.4|29.07|  30.7|    6.8|   16.4|  2.25|null|     null|\n",
      "|Ahmedabad|2015-01-04|73.24|141.54|   1.7|18.48| 17.97|null|   1.7|18.59| 36.08|   4.43|  10.14|   1.0|null|     null|\n",
      "|Ahmedabad|2015-01-05|73.24|141.54|  22.1|21.42| 37.76|null|  22.1|39.33| 39.31|   7.01|  18.89|  2.78|null|     null|\n",
      "|Ahmedabad|2015-01-06|73.24|141.54| 45.41|38.48|  81.5|null| 45.41|45.76| 46.51|   5.42|  10.83|  1.93|null|     null|\n",
      "|Ahmedabad|2015-01-07|73.24|141.54|112.16|40.62|130.77|null|112.16|32.28| 33.47|    0.0|    0.0|   0.0|null|     null|\n",
      "|Ahmedabad|2015-01-08|73.24|141.54| 80.87|36.74| 96.75|null| 80.87|38.54| 31.89|    0.0|    0.0|   0.0|null|     null|\n",
      "|Ahmedabad|2015-01-09|73.24|141.54| 29.16| 31.0|  48.0|null| 29.16|58.68| 25.75|    0.0|    0.0|   0.0|null|     null|\n",
      "|Ahmedabad|2015-01-10|73.24|141.54|  null| 7.04|   0.0|null|  null| 8.29|  4.55|    0.0|    0.0|   0.0|null|     null|\n",
      "|Ahmedabad|2015-01-11|73.24|141.54|132.07| 55.8| 24.53|null|132.07|25.03|  6.79|    0.0|    0.0|   0.0|null|     null|\n",
      "|Ahmedabad|2015-01-12|73.24|141.54| 52.04|40.67| 90.24|null| 52.04|51.84| 45.89|   2.41|   0.03|  7.88|null|     null|\n",
      "|Ahmedabad|2015-01-13|73.24|141.54| 48.82| 44.2| 87.09|null| 48.82|68.21| 35.16|   9.45|  13.35|  12.5|null|     null|\n",
      "|Ahmedabad|2015-01-14|73.24|141.54|  19.2|27.86| 33.05|null|  19.2|52.65| 20.96|   2.16|   2.26|  5.19|null|     null|\n",
      "|Ahmedabad|2015-01-15|73.24|141.54|   0.6|16.96|  16.6|null|   0.6|28.89| 47.63|   0.14|   0.04|  1.35|null|     null|\n",
      "|Ahmedabad|2015-01-16|73.24|141.54|  1.63|21.72| 22.86|null|  1.63|38.27| 46.03|   0.35|   0.05|  2.01|null|     null|\n",
      "|Ahmedabad|2015-01-17|73.24|141.54| 11.44|24.73| 34.75|null| 11.44| 49.5| 52.24|   0.68|    0.0|  3.27|null|     null|\n",
      "|Ahmedabad|2015-01-18|73.24|141.54|   6.1|25.77| 29.57|null|   6.1|48.43| 53.49|   0.74|   0.21|  2.75|null|     null|\n",
      "|Ahmedabad|2015-01-19|73.24|141.54|  2.51|26.88| 27.45|null|  2.51|50.03| 49.48|   0.26|   0.02|   2.8|null|     null|\n",
      "|Ahmedabad|2015-01-20|73.24|141.54|  7.92| 26.8|  32.4|null|  7.92|58.87| 56.37|   0.24|   0.01|  3.97|null|     null|\n",
      "+---------+----------+-----+------+------+-----+------+----+------+-----+------+-------+-------+------+----+---------+\n",
      "only showing top 20 rows\n",
      "\n"
     ]
    }
   ],
   "source": [
    "import sys\n",
    "###backward fill\n",
    "from pyspark.sql import Window\n",
    "from pyspark.sql.functions import last, first\n",
    "\n",
    "# define the window\n",
    "window = Window.partitionBy('City')\\\n",
    "               .orderBy('Date')\\\n",
    "               .rowsBetween(-sys.maxsize , 0)\n",
    "\n",
    "# define the forward-filled column\n",
    "filled_column = last(spark_df_filled['PM10'], ignorenulls=True).over(window)\n",
    "\n",
    "# do the fill\n",
    "spark_df_filled = spark_df_filled.withColumn('PM10', filled_column)\n",
    "\n",
    "# show off our glorious achievements\n",
    "spark_df_filled.orderBy('City', 'Date').show(10) \n",
    "spark_df_filled.show()\n",
    "\n",
    "\n",
    "\n",
    "# define the window\n",
    "window = Window.partitionBy('City')\\\n",
    "               .orderBy('Date')\\\n",
    "               .rowsBetween(0, sys.maxsize)\n",
    "\n",
    "# define the forward-filled column\n",
    "filled_column= first(spark_df_filled['PM10'], ignorenulls=True).over(window)\n",
    "\n",
    "# do the fill\n",
    "spark_df_filled = spark_df_filled.withColumn('PM10', filled_column)\n",
    "\n",
    "# show off our glorious achievements\n",
    "spark_df_filled.orderBy('City', 'Date').show(10) \n",
    "spark_df_filled.show()"
   ]
  },
  {
   "cell_type": "code",
   "execution_count": 22,
   "metadata": {},
   "outputs": [
    {
     "name": "stderr",
     "output_type": "stream",
     "text": [
      "\r",
      "[Stage 84:>                                                         (0 + 1) / 1]\r"
     ]
    },
    {
     "name": "stdout",
     "output_type": "stream",
     "text": [
      "+-------+----------+------+----+----+-----+----+----+-----+------+-----+-------+-------+------+----+---------+\n",
      "|   City|      Date|  PM25|PM10|  NO|  NO2| NOX| NH3|   CO|   SO2|   O3|benzene|toluene|Xylene| AQI|AQIBucket|\n",
      "+-------+----------+------+----+----+-----+----+----+-----+------+-----+-------+-------+------+----+---------+\n",
      "|Lucknow|2015-01-01|742.67|null|2.11|13.46|4.57|null|12.15|169.57|25.92|   1.35|   3.93|  null|null|     null|\n",
      "|Lucknow|2015-01-02|742.67|null|2.37|10.76| 3.8|null| 14.0|169.46|21.66|   1.97|   5.74|  null|null|     null|\n",
      "|Lucknow|2015-01-03|742.67|null|2.27|12.43|4.22|null|12.78|169.77| 22.4|   1.83|   4.76|  null|null|     null|\n",
      "|Lucknow|2015-01-04|742.67|null|2.24|12.46|4.22|null|11.85|169.56|21.41|   2.27|   4.77|  null|null|     null|\n",
      "|Lucknow|2015-01-05|742.67|null|2.32|12.27|4.22|null|13.34|169.48| 20.6|   2.49|   4.78|  null|null|     null|\n",
      "|Lucknow|2015-01-06|742.67|null|2.33|12.91| 4.3|null|14.21|178.63|21.49|   2.93|    4.6|  null|null|     null|\n",
      "|Lucknow|2015-01-07|742.67|null|2.68|17.12|4.64|null|11.24| 169.0|23.67|   2.92|   3.82|  null|null|     null|\n",
      "|Lucknow|2015-01-08|742.67|null|4.19|24.45|3.97|null|12.68| 169.0|19.69|   3.01|   5.38|  null|null|     null|\n",
      "|Lucknow|2015-01-09|742.67|null|4.27|24.74|3.13|null|13.99|182.39|21.73|   2.52|   4.78|  null|null|     null|\n",
      "|Lucknow|2015-01-10|742.67|null|4.02|20.67|4.05|null|14.06|174.58|27.36|   2.55|   4.98|  null|null|     null|\n",
      "|Lucknow|2015-01-11|742.67|null|3.53|18.77|4.22|null|15.69|178.93|27.51|   2.49|   4.78|  null|null|     null|\n",
      "|Lucknow|2015-01-12|742.67|null|3.09|17.52|4.22|null|16.47|176.44|26.69|   2.52|   4.78|  null|null|     null|\n",
      "|Lucknow|2015-01-13|742.67|null|3.39|15.84|5.15|null|11.81|187.02|30.22|   2.18|   2.62|  null|null|     null|\n",
      "|Lucknow|2015-01-14|742.67|null|2.89|15.26| 4.7|null|12.86| 42.93|34.77|   2.19|   4.77|  null|null|     null|\n",
      "|Lucknow|2015-01-15|742.67|null|2.44| 8.73|5.06|null|11.83|  null|36.26|   1.63|   2.79|  null|null|     null|\n",
      "|Lucknow|2015-01-16|742.67|null|1.78| 8.72|3.47|null|12.02|  null|47.81|   2.33|   5.74|  null|null|     null|\n",
      "|Lucknow|2015-01-17|742.67|null|2.15|  5.4| 4.3|null|10.27| 87.87|34.72|   2.02|   4.54|  null|null|     null|\n",
      "|Lucknow|2015-01-18|742.67|null|1.99| 4.89|4.72|null| 9.54|  null|26.07|   1.92|   4.17|  null|null|     null|\n",
      "|Lucknow|2015-01-19|742.67|null|3.38| 8.14|4.22|null|13.28|  null| 31.2|   2.15|   4.76|  null|null|     null|\n",
      "|Lucknow|2015-01-20|742.67|null|4.07|11.63|4.22|null|14.09|  null|33.76|   2.14|   4.57|  null|null|     null|\n",
      "+-------+----------+------+----+----+-----+----+----+-----+------+-----+-------+-------+------+----+---------+\n",
      "only showing top 20 rows\n",
      "\n"
     ]
    },
    {
     "name": "stderr",
     "output_type": "stream",
     "text": [
      "\r",
      "                                                                                \r"
     ]
    }
   ],
   "source": [
    "# First, we have to register the DataFrame as a SQL temporary view.\n",
    "\n",
    "dff= spark_df_filled\n",
    "dff.createOrReplaceTempView('pollution')\n",
    "\n",
    "results = spark.sql(\"SELECT * FROM pollution where pm10 is null\")\n",
    "results.show()"
   ]
  },
  {
   "cell_type": "code",
   "execution_count": 23,
   "metadata": {},
   "outputs": [
    {
     "name": "stderr",
     "output_type": "stream",
     "text": [
      "\r",
      "[Stage 87:>                                                         (0 + 1) / 1]\r"
     ]
    },
    {
     "name": "stdout",
     "output_type": "stream",
     "text": [
      "+-------+----------+------+----+----+-----+----+----+-----+------+-----+-------+-------+------+----+---------+\n",
      "|   City|      Date|  PM25|PM10|  NO|  NO2| NOX| NH3|   CO|   SO2|   O3|benzene|toluene|Xylene| AQI|AQIBucket|\n",
      "+-------+----------+------+----+----+-----+----+----+-----+------+-----+-------+-------+------+----+---------+\n",
      "|Lucknow|2015-01-01|742.67|null|2.11|13.46|4.57|null|12.15|169.57|25.92|   1.35|   3.93|  null|null|     null|\n",
      "|Lucknow|2015-01-02|742.67|null|2.37|10.76| 3.8|null| 14.0|169.46|21.66|   1.97|   5.74|  null|null|     null|\n",
      "|Lucknow|2015-01-03|742.67|null|2.27|12.43|4.22|null|12.78|169.77| 22.4|   1.83|   4.76|  null|null|     null|\n",
      "|Lucknow|2015-01-04|742.67|null|2.24|12.46|4.22|null|11.85|169.56|21.41|   2.27|   4.77|  null|null|     null|\n",
      "|Lucknow|2015-01-05|742.67|null|2.32|12.27|4.22|null|13.34|169.48| 20.6|   2.49|   4.78|  null|null|     null|\n",
      "|Lucknow|2015-01-06|742.67|null|2.33|12.91| 4.3|null|14.21|178.63|21.49|   2.93|    4.6|  null|null|     null|\n",
      "|Lucknow|2015-01-07|742.67|null|2.68|17.12|4.64|null|11.24| 169.0|23.67|   2.92|   3.82|  null|null|     null|\n",
      "|Lucknow|2015-01-08|742.67|null|4.19|24.45|3.97|null|12.68| 169.0|19.69|   3.01|   5.38|  null|null|     null|\n",
      "|Lucknow|2015-01-09|742.67|null|4.27|24.74|3.13|null|13.99|182.39|21.73|   2.52|   4.78|  null|null|     null|\n",
      "|Lucknow|2015-01-10|742.67|null|4.02|20.67|4.05|null|14.06|174.58|27.36|   2.55|   4.98|  null|null|     null|\n",
      "|Lucknow|2015-01-11|742.67|null|3.53|18.77|4.22|null|15.69|178.93|27.51|   2.49|   4.78|  null|null|     null|\n",
      "|Lucknow|2015-01-12|742.67|null|3.09|17.52|4.22|null|16.47|176.44|26.69|   2.52|   4.78|  null|null|     null|\n",
      "|Lucknow|2015-01-13|742.67|null|3.39|15.84|5.15|null|11.81|187.02|30.22|   2.18|   2.62|  null|null|     null|\n",
      "|Lucknow|2015-01-14|742.67|null|2.89|15.26| 4.7|null|12.86| 42.93|34.77|   2.19|   4.77|  null|null|     null|\n",
      "|Lucknow|2015-01-15|742.67|null|2.44| 8.73|5.06|null|11.83|  null|36.26|   1.63|   2.79|  null|null|     null|\n",
      "|Lucknow|2015-01-16|742.67|null|1.78| 8.72|3.47|null|12.02|  null|47.81|   2.33|   5.74|  null|null|     null|\n",
      "|Lucknow|2015-01-17|742.67|null|2.15|  5.4| 4.3|null|10.27| 87.87|34.72|   2.02|   4.54|  null|null|     null|\n",
      "|Lucknow|2015-01-18|742.67|null|1.99| 4.89|4.72|null| 9.54|  null|26.07|   1.92|   4.17|  null|null|     null|\n",
      "|Lucknow|2015-01-19|742.67|null|3.38| 8.14|4.22|null|13.28|  null| 31.2|   2.15|   4.76|  null|null|     null|\n",
      "|Lucknow|2015-01-20|742.67|null|4.07|11.63|4.22|null|14.09|  null|33.76|   2.14|   4.57|  null|null|     null|\n",
      "+-------+----------+------+----+----+-----+----+----+-----+------+-----+-------+-------+------+----+---------+\n",
      "only showing top 20 rows\n",
      "\n"
     ]
    },
    {
     "name": "stderr",
     "output_type": "stream",
     "text": [
      "\r",
      "                                                                                \r"
     ]
    }
   ],
   "source": [
    "dff.filter(dff.PM10.isNull()).show()"
   ]
  },
  {
   "cell_type": "code",
   "execution_count": 24,
   "metadata": {},
   "outputs": [
    {
     "name": "stderr",
     "output_type": "stream",
     "text": [
      "                                                                                \r"
     ]
    },
    {
     "data": {
      "text/plain": [
       "122.20046297371947"
      ]
     },
     "execution_count": 24,
     "metadata": {},
     "output_type": "execute_result"
    }
   ],
   "source": [
    "from pyspark.sql.functions import mean\n",
    "mean_pm10 = dff.select(mean(dff['PM10'])).collect()\n",
    "mean_pm10[0][0]\n"
   ]
  },
  {
   "cell_type": "code",
   "execution_count": 25,
   "metadata": {},
   "outputs": [
    {
     "name": "stdout",
     "output_type": "stream",
     "text": [
      "+----+----+----+----+---+---+---+---+---+---+---+-------+-------+------+---+---------+\n",
      "|City|Date|PM25|PM10| NO|NO2|NOX|NH3| CO|SO2| O3|benzene|toluene|Xylene|AQI|AQIBucket|\n",
      "+----+----+----+----+---+---+---+---+---+---+---+-------+-------+------+---+---------+\n",
      "+----+----+----+----+---+---+---+---+---+---+---+-------+-------+------+---+---------+\n",
      "\n"
     ]
    }
   ],
   "source": [
    "\n",
    "\n",
    "dff1 = dff.na.fill(mean_pm10[0][0], subset=['PM10'])\n",
    "dff1.filter(dff1.PM10.isNull()).show()"
   ]
  },
  {
   "cell_type": "code",
   "execution_count": 26,
   "metadata": {},
   "outputs": [
    {
     "name": "stdout",
     "output_type": "stream",
     "text": [
      "+---------+----------+-----+------+------+-----+------+----+------+-----+------+-------+-------+------+----+---------+\n",
      "|     City|      Date| PM25|  PM10|    NO|  NO2|   NOX| NH3|    CO|  SO2|    O3|benzene|toluene|Xylene| AQI|AQIBucket|\n",
      "+---------+----------+-----+------+------+-----+------+----+------+-----+------+-------+-------+------+----+---------+\n",
      "|Ahmedabad|2015-01-01|73.24|141.54|  0.92|18.22| 17.15|null|  0.92|27.64|133.36|    0.0|   0.02|   0.0|null|     null|\n",
      "|Ahmedabad|2015-01-02|73.24|141.54|  0.97|15.69| 16.46|null|  0.97|24.55| 34.06|   3.68|    5.5|  3.77|null|     null|\n",
      "|Ahmedabad|2015-01-03|73.24|141.54|  17.4| 19.3|  29.7|null|  17.4|29.07|  30.7|    6.8|   16.4|  2.25|null|     null|\n",
      "|Ahmedabad|2015-01-04|73.24|141.54|   1.7|18.48| 17.97|null|   1.7|18.59| 36.08|   4.43|  10.14|   1.0|null|     null|\n",
      "|Ahmedabad|2015-01-05|73.24|141.54|  22.1|21.42| 37.76|null|  22.1|39.33| 39.31|   7.01|  18.89|  2.78|null|     null|\n",
      "|Ahmedabad|2015-01-06|73.24|141.54| 45.41|38.48|  81.5|null| 45.41|45.76| 46.51|   5.42|  10.83|  1.93|null|     null|\n",
      "|Ahmedabad|2015-01-07|73.24|141.54|112.16|40.62|130.77|null|112.16|32.28| 33.47|    0.0|    0.0|   0.0|null|     null|\n",
      "|Ahmedabad|2015-01-08|73.24|141.54| 80.87|36.74| 96.75|null| 80.87|38.54| 31.89|    0.0|    0.0|   0.0|null|     null|\n",
      "|Ahmedabad|2015-01-09|73.24|141.54| 29.16| 31.0|  48.0|null| 29.16|58.68| 25.75|    0.0|    0.0|   0.0|null|     null|\n",
      "|Ahmedabad|2015-01-10|73.24|141.54|  null| 7.04|   0.0|null|  null| 8.29|  4.55|    0.0|    0.0|   0.0|null|     null|\n",
      "|Ahmedabad|2015-01-11|73.24|141.54|132.07| 55.8| 24.53|null|132.07|25.03|  6.79|    0.0|    0.0|   0.0|null|     null|\n",
      "|Ahmedabad|2015-01-12|73.24|141.54| 52.04|40.67| 90.24|null| 52.04|51.84| 45.89|   2.41|   0.03|  7.88|null|     null|\n",
      "|Ahmedabad|2015-01-13|73.24|141.54| 48.82| 44.2| 87.09|null| 48.82|68.21| 35.16|   9.45|  13.35|  12.5|null|     null|\n",
      "|Ahmedabad|2015-01-14|73.24|141.54|  19.2|27.86| 33.05|null|  19.2|52.65| 20.96|   2.16|   2.26|  5.19|null|     null|\n",
      "|Ahmedabad|2015-01-15|73.24|141.54|   0.6|16.96|  16.6|null|   0.6|28.89| 47.63|   0.14|   0.04|  1.35|null|     null|\n",
      "|Ahmedabad|2015-01-16|73.24|141.54|  1.63|21.72| 22.86|null|  1.63|38.27| 46.03|   0.35|   0.05|  2.01|null|     null|\n",
      "|Ahmedabad|2015-01-17|73.24|141.54| 11.44|24.73| 34.75|null| 11.44| 49.5| 52.24|   0.68|    0.0|  3.27|null|     null|\n",
      "|Ahmedabad|2015-01-18|73.24|141.54|   6.1|25.77| 29.57|null|   6.1|48.43| 53.49|   0.74|   0.21|  2.75|null|     null|\n",
      "|Ahmedabad|2015-01-19|73.24|141.54|  2.51|26.88| 27.45|null|  2.51|50.03| 49.48|   0.26|   0.02|   2.8|null|     null|\n",
      "|Ahmedabad|2015-01-20|73.24|141.54|  7.92| 26.8|  32.4|null|  7.92|58.87| 56.37|   0.24|   0.01|  3.97|null|     null|\n",
      "+---------+----------+-----+------+------+-----+------+----+------+-----+------+-------+-------+------+----+---------+\n",
      "only showing top 20 rows\n",
      "\n"
     ]
    }
   ],
   "source": [
    "dff1.show()"
   ]
  },
  {
   "cell_type": "code",
   "execution_count": 27,
   "metadata": {},
   "outputs": [
    {
     "name": "stderr",
     "output_type": "stream",
     "text": [
      "\r",
      "[Stage 99:>                                                         (0 + 1) / 1]\r"
     ]
    },
    {
     "name": "stdout",
     "output_type": "stream",
     "text": [
      "+----+----+----+----+----+----+----+-----+----+----+----+-------+-------+------+----+---------+\n",
      "|City|Date|PM25|PM10|  NO| NO2| NOX|  NH3|  CO| SO2|  O3|benzene|toluene|Xylene| AQI|AQIBucket|\n",
      "+----+----+----+----+----+----+----+-----+----+----+----+-------+-------+------+----+---------+\n",
      "|   0|   0|   0|   0|3582|3585|4185|10328|2059|3854|4022|   5623|   8041| 18109|4681|     4681|\n",
      "+----+----+----+----+----+----+----+-----+----+----+----+-------+-------+------+----+---------+\n",
      "\n"
     ]
    },
    {
     "name": "stderr",
     "output_type": "stream",
     "text": [
      "\r",
      "                                                                                \r"
     ]
    }
   ],
   "source": [
    "\n",
    "#dff.filter(dff.PM25.isNull()).show()\n",
    "#from pyspark.sql.functions import isnan, when, count, col\n",
    "\n",
    "#dff.select([count(when(isNull(c), c)).alias(c) for c in dff.columns]).show()\n",
    "\n",
    "# Find count for empty, None, Null, Nan with string literals.\n",
    "from pyspark.sql.functions import col,isnan,when,count\n",
    "\n",
    "dffs = dff1.select([count(when(col(c).contains('None') | \\\n",
    "                            col(c).contains('NULL') | \\\n",
    "                            (col(c) == '' ) | \\\n",
    "                            col(c).isNull() | \\\n",
    "                            isnan(c), c \n",
    "                           )).alias(c)\n",
    "                    for c in dff.columns])\n",
    "dffs.show()"
   ]
  },
  {
   "cell_type": "code",
   "execution_count": 28,
   "metadata": {},
   "outputs": [],
   "source": [
    "# To Get Year from date or Time column\n",
    "spark_df_filled = dff1\n",
    "spark_df_filled1 = spark_df_filled.withColumn(\"year\",year(\"Date\"))\n"
   ]
  },
  {
   "cell_type": "code",
   "execution_count": 29,
   "metadata": {},
   "outputs": [
    {
     "name": "stdout",
     "output_type": "stream",
     "text": [
      "+---------+----------+-----+------+------+-----+------+----+------+-----+------+-------+-------+------+----+---------+----+\n",
      "|     City|      Date| PM25|  PM10|    NO|  NO2|   NOX| NH3|    CO|  SO2|    O3|benzene|toluene|Xylene| AQI|AQIBucket|year|\n",
      "+---------+----------+-----+------+------+-----+------+----+------+-----+------+-------+-------+------+----+---------+----+\n",
      "|Ahmedabad|2015-01-01|73.24|141.54|  0.92|18.22| 17.15|null|  0.92|27.64|133.36|    0.0|   0.02|   0.0|null|     null|2015|\n",
      "|Ahmedabad|2015-01-02|73.24|141.54|  0.97|15.69| 16.46|null|  0.97|24.55| 34.06|   3.68|    5.5|  3.77|null|     null|2015|\n",
      "|Ahmedabad|2015-01-03|73.24|141.54|  17.4| 19.3|  29.7|null|  17.4|29.07|  30.7|    6.8|   16.4|  2.25|null|     null|2015|\n",
      "|Ahmedabad|2015-01-04|73.24|141.54|   1.7|18.48| 17.97|null|   1.7|18.59| 36.08|   4.43|  10.14|   1.0|null|     null|2015|\n",
      "|Ahmedabad|2015-01-05|73.24|141.54|  22.1|21.42| 37.76|null|  22.1|39.33| 39.31|   7.01|  18.89|  2.78|null|     null|2015|\n",
      "|Ahmedabad|2015-01-06|73.24|141.54| 45.41|38.48|  81.5|null| 45.41|45.76| 46.51|   5.42|  10.83|  1.93|null|     null|2015|\n",
      "|Ahmedabad|2015-01-07|73.24|141.54|112.16|40.62|130.77|null|112.16|32.28| 33.47|    0.0|    0.0|   0.0|null|     null|2015|\n",
      "|Ahmedabad|2015-01-08|73.24|141.54| 80.87|36.74| 96.75|null| 80.87|38.54| 31.89|    0.0|    0.0|   0.0|null|     null|2015|\n",
      "|Ahmedabad|2015-01-09|73.24|141.54| 29.16| 31.0|  48.0|null| 29.16|58.68| 25.75|    0.0|    0.0|   0.0|null|     null|2015|\n",
      "|Ahmedabad|2015-01-10|73.24|141.54|  null| 7.04|   0.0|null|  null| 8.29|  4.55|    0.0|    0.0|   0.0|null|     null|2015|\n",
      "|Ahmedabad|2015-01-11|73.24|141.54|132.07| 55.8| 24.53|null|132.07|25.03|  6.79|    0.0|    0.0|   0.0|null|     null|2015|\n",
      "|Ahmedabad|2015-01-12|73.24|141.54| 52.04|40.67| 90.24|null| 52.04|51.84| 45.89|   2.41|   0.03|  7.88|null|     null|2015|\n",
      "|Ahmedabad|2015-01-13|73.24|141.54| 48.82| 44.2| 87.09|null| 48.82|68.21| 35.16|   9.45|  13.35|  12.5|null|     null|2015|\n",
      "|Ahmedabad|2015-01-14|73.24|141.54|  19.2|27.86| 33.05|null|  19.2|52.65| 20.96|   2.16|   2.26|  5.19|null|     null|2015|\n",
      "|Ahmedabad|2015-01-15|73.24|141.54|   0.6|16.96|  16.6|null|   0.6|28.89| 47.63|   0.14|   0.04|  1.35|null|     null|2015|\n",
      "|Ahmedabad|2015-01-16|73.24|141.54|  1.63|21.72| 22.86|null|  1.63|38.27| 46.03|   0.35|   0.05|  2.01|null|     null|2015|\n",
      "|Ahmedabad|2015-01-17|73.24|141.54| 11.44|24.73| 34.75|null| 11.44| 49.5| 52.24|   0.68|    0.0|  3.27|null|     null|2015|\n",
      "|Ahmedabad|2015-01-18|73.24|141.54|   6.1|25.77| 29.57|null|   6.1|48.43| 53.49|   0.74|   0.21|  2.75|null|     null|2015|\n",
      "|Ahmedabad|2015-01-19|73.24|141.54|  2.51|26.88| 27.45|null|  2.51|50.03| 49.48|   0.26|   0.02|   2.8|null|     null|2015|\n",
      "|Ahmedabad|2015-01-20|73.24|141.54|  7.92| 26.8|  32.4|null|  7.92|58.87| 56.37|   0.24|   0.01|  3.97|null|     null|2015|\n",
      "+---------+----------+-----+------+------+-----+------+----+------+-----+------+-------+-------+------+----+---------+----+\n",
      "only showing top 20 rows\n",
      "\n"
     ]
    }
   ],
   "source": [
    "dff2= spark_df_filled1\n",
    "dff2.show()\n",
    "\n"
   ]
  },
  {
   "cell_type": "code",
   "execution_count": 30,
   "metadata": {},
   "outputs": [
    {
     "name": "stdout",
     "output_type": "stream",
     "text": [
      "+----+----+----+----+---+---+---+---+---+---+---+-------+-------+------+---+---------+----+\n",
      "|City|Date|PM25|PM10| NO|NO2|NOX|NH3| CO|SO2| O3|benzene|toluene|Xylene|AQI|AQIBucket|year|\n",
      "+----+----+----+----+---+---+---+---+---+---+---+-------+-------+------+---+---------+----+\n",
      "+----+----+----+----+---+---+---+---+---+---+---+-------+-------+------+---+---------+----+\n",
      "\n"
     ]
    }
   ],
   "source": [
    "dff2.createOrReplaceTempView('pollution')\n",
    "\n",
    "results = spark.sql(\"SELECT * FROM pollution where PM10 is null\")\n",
    "results.show()"
   ]
  },
  {
   "cell_type": "code",
   "execution_count": 31,
   "metadata": {},
   "outputs": [
    {
     "name": "stdout",
     "output_type": "stream",
     "text": [
      "+---------+----------+-----+------+------+-----+------+----+------+-----+------+-------+-------+------+----+---------+----+\n",
      "|     City|      Date| PM25|  PM10|    NO|  NO2|   NOX| NH3|    CO|  SO2|    O3|benzene|toluene|Xylene| AQI|AQIBucket|year|\n",
      "+---------+----------+-----+------+------+-----+------+----+------+-----+------+-------+-------+------+----+---------+----+\n",
      "|Ahmedabad|2015-01-01|73.24|141.54|  0.92|18.22| 17.15|null|  0.92|27.64|133.36|    0.0|   0.02|   0.0|null|     null|2015|\n",
      "|Ahmedabad|2015-01-02|73.24|141.54|  0.97|15.69| 16.46|null|  0.97|24.55| 34.06|   3.68|    5.5|  3.77|null|     null|2015|\n",
      "|Ahmedabad|2015-01-03|73.24|141.54|  17.4| 19.3|  29.7|null|  17.4|29.07|  30.7|    6.8|   16.4|  2.25|null|     null|2015|\n",
      "|Ahmedabad|2015-01-04|73.24|141.54|   1.7|18.48| 17.97|null|   1.7|18.59| 36.08|   4.43|  10.14|   1.0|null|     null|2015|\n",
      "|Ahmedabad|2015-01-05|73.24|141.54|  22.1|21.42| 37.76|null|  22.1|39.33| 39.31|   7.01|  18.89|  2.78|null|     null|2015|\n",
      "|Ahmedabad|2015-01-06|73.24|141.54| 45.41|38.48|  81.5|null| 45.41|45.76| 46.51|   5.42|  10.83|  1.93|null|     null|2015|\n",
      "|Ahmedabad|2015-01-07|73.24|141.54|112.16|40.62|130.77|null|112.16|32.28| 33.47|    0.0|    0.0|   0.0|null|     null|2015|\n",
      "|Ahmedabad|2015-01-08|73.24|141.54| 80.87|36.74| 96.75|null| 80.87|38.54| 31.89|    0.0|    0.0|   0.0|null|     null|2015|\n",
      "|Ahmedabad|2015-01-09|73.24|141.54| 29.16| 31.0|  48.0|null| 29.16|58.68| 25.75|    0.0|    0.0|   0.0|null|     null|2015|\n",
      "|Ahmedabad|2015-01-10|73.24|141.54|  null| 7.04|   0.0|null|  null| 8.29|  4.55|    0.0|    0.0|   0.0|null|     null|2015|\n",
      "|Ahmedabad|2015-01-11|73.24|141.54|132.07| 55.8| 24.53|null|132.07|25.03|  6.79|    0.0|    0.0|   0.0|null|     null|2015|\n",
      "|Ahmedabad|2015-01-12|73.24|141.54| 52.04|40.67| 90.24|null| 52.04|51.84| 45.89|   2.41|   0.03|  7.88|null|     null|2015|\n",
      "|Ahmedabad|2015-01-13|73.24|141.54| 48.82| 44.2| 87.09|null| 48.82|68.21| 35.16|   9.45|  13.35|  12.5|null|     null|2015|\n",
      "|Ahmedabad|2015-01-14|73.24|141.54|  19.2|27.86| 33.05|null|  19.2|52.65| 20.96|   2.16|   2.26|  5.19|null|     null|2015|\n",
      "|Ahmedabad|2015-01-15|73.24|141.54|   0.6|16.96|  16.6|null|   0.6|28.89| 47.63|   0.14|   0.04|  1.35|null|     null|2015|\n",
      "|Ahmedabad|2015-01-16|73.24|141.54|  1.63|21.72| 22.86|null|  1.63|38.27| 46.03|   0.35|   0.05|  2.01|null|     null|2015|\n",
      "|Ahmedabad|2015-01-17|73.24|141.54| 11.44|24.73| 34.75|null| 11.44| 49.5| 52.24|   0.68|    0.0|  3.27|null|     null|2015|\n",
      "|Ahmedabad|2015-01-18|73.24|141.54|   6.1|25.77| 29.57|null|   6.1|48.43| 53.49|   0.74|   0.21|  2.75|null|     null|2015|\n",
      "|Ahmedabad|2015-01-19|73.24|141.54|  2.51|26.88| 27.45|null|  2.51|50.03| 49.48|   0.26|   0.02|   2.8|null|     null|2015|\n",
      "|Ahmedabad|2015-01-20|73.24|141.54|  7.92| 26.8|  32.4|null|  7.92|58.87| 56.37|   0.24|   0.01|  3.97|null|     null|2015|\n",
      "+---------+----------+-----+------+------+-----+------+----+------+-----+------+-------+-------+------+----+---------+----+\n",
      "only showing top 20 rows\n",
      "\n"
     ]
    }
   ],
   "source": [
    "dff2.count()\n",
    "dff2.show()"
   ]
  },
  {
   "cell_type": "code",
   "execution_count": null,
   "metadata": {},
   "outputs": [],
   "source": []
  },
  {
   "cell_type": "code",
   "execution_count": 32,
   "metadata": {},
   "outputs": [],
   "source": [
    "#df1.show() dff5.show()"
   ]
  },
  {
   "cell_type": "code",
   "execution_count": 33,
   "metadata": {},
   "outputs": [],
   "source": [
    "# Let's collect the average. You'll notice that the collection returns the average in an interesting format.\n",
    "mean_no2 = dff2.select(mean(dff2['NO2'])).collect()\n",
    "mean_so2 = dff2.select(mean(dff2['SO2'])).collect()\n",
    "mean_o3 = dff2.select(mean(dff2['O3'])).collect()\n",
    "#mean_pm10\n",
    "mean_no2[0][0]\n",
    "dff3 = dff2.na.fill(mean_no2[0][0], subset=['NO2'])\n",
    "mean_so2[0][0]\n",
    "dff4 = dff3.na.fill(mean_so2[0][0], subset=['SO2'])\n",
    "mean_o3[0][0]\n",
    "dff5 = dff4.na.fill(mean_o3[0][0], subset=['O3'])\n",
    "\n"
   ]
  },
  {
   "cell_type": "code",
   "execution_count": 34,
   "metadata": {},
   "outputs": [
    {
     "name": "stderr",
     "output_type": "stream",
     "text": [
      "\r",
      "[Stage 123:>                                                        (0 + 1) / 1]\r"
     ]
    },
    {
     "name": "stdout",
     "output_type": "stream",
     "text": [
      "+----+----+----+----+----+---+----+-----+----+---+---+-------+-------+------+----+---------+----+\n",
      "|City|Date|PM25|PM10|  NO|NO2| NOX|  NH3|  CO|SO2| O3|benzene|toluene|Xylene| AQI|AQIBucket|year|\n",
      "+----+----+----+----+----+---+----+-----+----+---+---+-------+-------+------+----+---------+----+\n",
      "|   0|   0|   0|   0|3582|  0|4185|10328|2059|  0|  0|   5623|   8041| 18109|4681|     4681|   0|\n",
      "+----+----+----+----+----+---+----+-----+----+---+---+-------+-------+------+----+---------+----+\n",
      "\n"
     ]
    },
    {
     "name": "stderr",
     "output_type": "stream",
     "text": [
      "\r",
      "                                                                                \r"
     ]
    }
   ],
   "source": [
    "\n",
    "#df1=df1.drop('date')\n",
    "from pyspark.sql.functions import col,isnan,when,count\n",
    "\n",
    "dff6 = dff5.select([count(when(col(c).contains('None') | \\\n",
    "                            col(c).contains('NULL') | \\\n",
    "                            (col(c) == '' ) | \\\n",
    "                            col(c).isNull() | \\\n",
    "                            isnan(c), c \n",
    "                           )).alias(c)\n",
    "                    for c in dff5.columns])\n",
    "dff6.show()\n"
   ]
  },
  {
   "cell_type": "code",
   "execution_count": 35,
   "metadata": {},
   "outputs": [
    {
     "name": "stdout",
     "output_type": "stream",
     "text": [
      "+---------+----------+-----+------+------+-----+------+----+------+-----+------+-------+-------+------+----+---------+----+\n",
      "|     City|      Date| PM25|  PM10|    NO|  NO2|   NOX| NH3|    CO|  SO2|    O3|benzene|toluene|Xylene| AQI|AQIBucket|year|\n",
      "+---------+----------+-----+------+------+-----+------+----+------+-----+------+-------+-------+------+----+---------+----+\n",
      "|Ahmedabad|2015-01-01|73.24|141.54|  0.92|18.22| 17.15|null|  0.92|27.64|133.36|    0.0|   0.02|   0.0|null|     null|2015|\n",
      "|Ahmedabad|2015-01-02|73.24|141.54|  0.97|15.69| 16.46|null|  0.97|24.55| 34.06|   3.68|    5.5|  3.77|null|     null|2015|\n",
      "|Ahmedabad|2015-01-03|73.24|141.54|  17.4| 19.3|  29.7|null|  17.4|29.07|  30.7|    6.8|   16.4|  2.25|null|     null|2015|\n",
      "|Ahmedabad|2015-01-04|73.24|141.54|   1.7|18.48| 17.97|null|   1.7|18.59| 36.08|   4.43|  10.14|   1.0|null|     null|2015|\n",
      "|Ahmedabad|2015-01-05|73.24|141.54|  22.1|21.42| 37.76|null|  22.1|39.33| 39.31|   7.01|  18.89|  2.78|null|     null|2015|\n",
      "|Ahmedabad|2015-01-06|73.24|141.54| 45.41|38.48|  81.5|null| 45.41|45.76| 46.51|   5.42|  10.83|  1.93|null|     null|2015|\n",
      "|Ahmedabad|2015-01-07|73.24|141.54|112.16|40.62|130.77|null|112.16|32.28| 33.47|    0.0|    0.0|   0.0|null|     null|2015|\n",
      "|Ahmedabad|2015-01-08|73.24|141.54| 80.87|36.74| 96.75|null| 80.87|38.54| 31.89|    0.0|    0.0|   0.0|null|     null|2015|\n",
      "|Ahmedabad|2015-01-09|73.24|141.54| 29.16| 31.0|  48.0|null| 29.16|58.68| 25.75|    0.0|    0.0|   0.0|null|     null|2015|\n",
      "|Ahmedabad|2015-01-10|73.24|141.54|  null| 7.04|   0.0|null|  null| 8.29|  4.55|    0.0|    0.0|   0.0|null|     null|2015|\n",
      "|Ahmedabad|2015-01-11|73.24|141.54|132.07| 55.8| 24.53|null|132.07|25.03|  6.79|    0.0|    0.0|   0.0|null|     null|2015|\n",
      "|Ahmedabad|2015-01-12|73.24|141.54| 52.04|40.67| 90.24|null| 52.04|51.84| 45.89|   2.41|   0.03|  7.88|null|     null|2015|\n",
      "|Ahmedabad|2015-01-13|73.24|141.54| 48.82| 44.2| 87.09|null| 48.82|68.21| 35.16|   9.45|  13.35|  12.5|null|     null|2015|\n",
      "|Ahmedabad|2015-01-14|73.24|141.54|  19.2|27.86| 33.05|null|  19.2|52.65| 20.96|   2.16|   2.26|  5.19|null|     null|2015|\n",
      "|Ahmedabad|2015-01-15|73.24|141.54|   0.6|16.96|  16.6|null|   0.6|28.89| 47.63|   0.14|   0.04|  1.35|null|     null|2015|\n",
      "|Ahmedabad|2015-01-16|73.24|141.54|  1.63|21.72| 22.86|null|  1.63|38.27| 46.03|   0.35|   0.05|  2.01|null|     null|2015|\n",
      "|Ahmedabad|2015-01-17|73.24|141.54| 11.44|24.73| 34.75|null| 11.44| 49.5| 52.24|   0.68|    0.0|  3.27|null|     null|2015|\n",
      "|Ahmedabad|2015-01-18|73.24|141.54|   6.1|25.77| 29.57|null|   6.1|48.43| 53.49|   0.74|   0.21|  2.75|null|     null|2015|\n",
      "|Ahmedabad|2015-01-19|73.24|141.54|  2.51|26.88| 27.45|null|  2.51|50.03| 49.48|   0.26|   0.02|   2.8|null|     null|2015|\n",
      "|Ahmedabad|2015-01-20|73.24|141.54|  7.92| 26.8|  32.4|null|  7.92|58.87| 56.37|   0.24|   0.01|  3.97|null|     null|2015|\n",
      "+---------+----------+-----+------+------+-----+------+----+------+-----+------+-------+-------+------+----+---------+----+\n",
      "only showing top 20 rows\n",
      "\n"
     ]
    }
   ],
   "source": [
    "\n",
    "dff5.show()"
   ]
  },
  {
   "cell_type": "code",
   "execution_count": 36,
   "metadata": {},
   "outputs": [],
   "source": [
    "# Let's collect the average. You'll notice that the collection returns the average in an interesting format.\n",
    "#mean_pm10 = df.select(mean(df['PM10'])).collect()\n",
    "#mean_pm10\n",
    "#mean_pm10[0][0]\n",
    "#df.filter(df.PM10.isNull()).show()\n",
    "#df1 = df1.na.fill(mean_pm10[0][0], subset=['PM10'])\n",
    "#df1.filter(df1.PM10.isNull()).show()"
   ]
  },
  {
   "cell_type": "code",
   "execution_count": 37,
   "metadata": {},
   "outputs": [
    {
     "name": "stdout",
     "output_type": "stream",
     "text": [
      "+---------+----------+-----+------+-----+------+----+------+-----+------+-------+-------+------+----+---------+----+\n",
      "|     City|      Date| PM25|  PM10|  NO2|   NOX| NH3|    CO|  SO2|    O3|benzene|toluene|Xylene| AQI|AQIBucket|year|\n",
      "+---------+----------+-----+------+-----+------+----+------+-----+------+-------+-------+------+----+---------+----+\n",
      "|Ahmedabad|2015-01-01|73.24|141.54|18.22| 17.15|null|  0.92|27.64|133.36|    0.0|   0.02|   0.0|null|     null|2015|\n",
      "|Ahmedabad|2015-01-02|73.24|141.54|15.69| 16.46|null|  0.97|24.55| 34.06|   3.68|    5.5|  3.77|null|     null|2015|\n",
      "|Ahmedabad|2015-01-03|73.24|141.54| 19.3|  29.7|null|  17.4|29.07|  30.7|    6.8|   16.4|  2.25|null|     null|2015|\n",
      "|Ahmedabad|2015-01-04|73.24|141.54|18.48| 17.97|null|   1.7|18.59| 36.08|   4.43|  10.14|   1.0|null|     null|2015|\n",
      "|Ahmedabad|2015-01-05|73.24|141.54|21.42| 37.76|null|  22.1|39.33| 39.31|   7.01|  18.89|  2.78|null|     null|2015|\n",
      "|Ahmedabad|2015-01-06|73.24|141.54|38.48|  81.5|null| 45.41|45.76| 46.51|   5.42|  10.83|  1.93|null|     null|2015|\n",
      "|Ahmedabad|2015-01-07|73.24|141.54|40.62|130.77|null|112.16|32.28| 33.47|    0.0|    0.0|   0.0|null|     null|2015|\n",
      "|Ahmedabad|2015-01-08|73.24|141.54|36.74| 96.75|null| 80.87|38.54| 31.89|    0.0|    0.0|   0.0|null|     null|2015|\n",
      "|Ahmedabad|2015-01-09|73.24|141.54| 31.0|  48.0|null| 29.16|58.68| 25.75|    0.0|    0.0|   0.0|null|     null|2015|\n",
      "|Ahmedabad|2015-01-10|73.24|141.54| 7.04|   0.0|null|  null| 8.29|  4.55|    0.0|    0.0|   0.0|null|     null|2015|\n",
      "|Ahmedabad|2015-01-11|73.24|141.54| 55.8| 24.53|null|132.07|25.03|  6.79|    0.0|    0.0|   0.0|null|     null|2015|\n",
      "|Ahmedabad|2015-01-12|73.24|141.54|40.67| 90.24|null| 52.04|51.84| 45.89|   2.41|   0.03|  7.88|null|     null|2015|\n",
      "|Ahmedabad|2015-01-13|73.24|141.54| 44.2| 87.09|null| 48.82|68.21| 35.16|   9.45|  13.35|  12.5|null|     null|2015|\n",
      "|Ahmedabad|2015-01-14|73.24|141.54|27.86| 33.05|null|  19.2|52.65| 20.96|   2.16|   2.26|  5.19|null|     null|2015|\n",
      "|Ahmedabad|2015-01-15|73.24|141.54|16.96|  16.6|null|   0.6|28.89| 47.63|   0.14|   0.04|  1.35|null|     null|2015|\n",
      "|Ahmedabad|2015-01-16|73.24|141.54|21.72| 22.86|null|  1.63|38.27| 46.03|   0.35|   0.05|  2.01|null|     null|2015|\n",
      "|Ahmedabad|2015-01-17|73.24|141.54|24.73| 34.75|null| 11.44| 49.5| 52.24|   0.68|    0.0|  3.27|null|     null|2015|\n",
      "|Ahmedabad|2015-01-18|73.24|141.54|25.77| 29.57|null|   6.1|48.43| 53.49|   0.74|   0.21|  2.75|null|     null|2015|\n",
      "|Ahmedabad|2015-01-19|73.24|141.54|26.88| 27.45|null|  2.51|50.03| 49.48|   0.26|   0.02|   2.8|null|     null|2015|\n",
      "|Ahmedabad|2015-01-20|73.24|141.54| 26.8|  32.4|null|  7.92|58.87| 56.37|   0.24|   0.01|  3.97|null|     null|2015|\n",
      "+---------+----------+-----+------+-----+------+----+------+-----+------+-------+-------+------+----+---------+----+\n",
      "only showing top 20 rows\n",
      "\n"
     ]
    }
   ],
   "source": [
    "\n",
    "dftr=dff5.drop('NO')\n",
    "dftr.show()"
   ]
  },
  {
   "cell_type": "code",
   "execution_count": 38,
   "metadata": {},
   "outputs": [],
   "source": [
    "\n",
    "\n",
    "dftr=dftr.drop('NOX')\n",
    "dftr=dftr.drop('NH3')\n",
    "dftr=dftr.drop('CO')\n",
    "dftr=dftr.drop('benzene')\n",
    "dftr=dftr.drop('toluene')\n",
    "dftr=dftr.drop('Xylene')"
   ]
  },
  {
   "cell_type": "code",
   "execution_count": 39,
   "metadata": {},
   "outputs": [
    {
     "name": "stdout",
     "output_type": "stream",
     "text": [
      "+---------+----------+-----+------+-----+-----+------+----+---------+----+\n",
      "|     City|      Date| PM25|  PM10|  NO2|  SO2|    O3| AQI|AQIBucket|year|\n",
      "+---------+----------+-----+------+-----+-----+------+----+---------+----+\n",
      "|Ahmedabad|2015-01-01|73.24|141.54|18.22|27.64|133.36|null|     null|2015|\n",
      "|Ahmedabad|2015-01-02|73.24|141.54|15.69|24.55| 34.06|null|     null|2015|\n",
      "|Ahmedabad|2015-01-03|73.24|141.54| 19.3|29.07|  30.7|null|     null|2015|\n",
      "|Ahmedabad|2015-01-04|73.24|141.54|18.48|18.59| 36.08|null|     null|2015|\n",
      "|Ahmedabad|2015-01-05|73.24|141.54|21.42|39.33| 39.31|null|     null|2015|\n",
      "|Ahmedabad|2015-01-06|73.24|141.54|38.48|45.76| 46.51|null|     null|2015|\n",
      "|Ahmedabad|2015-01-07|73.24|141.54|40.62|32.28| 33.47|null|     null|2015|\n",
      "|Ahmedabad|2015-01-08|73.24|141.54|36.74|38.54| 31.89|null|     null|2015|\n",
      "|Ahmedabad|2015-01-09|73.24|141.54| 31.0|58.68| 25.75|null|     null|2015|\n",
      "|Ahmedabad|2015-01-10|73.24|141.54| 7.04| 8.29|  4.55|null|     null|2015|\n",
      "|Ahmedabad|2015-01-11|73.24|141.54| 55.8|25.03|  6.79|null|     null|2015|\n",
      "|Ahmedabad|2015-01-12|73.24|141.54|40.67|51.84| 45.89|null|     null|2015|\n",
      "|Ahmedabad|2015-01-13|73.24|141.54| 44.2|68.21| 35.16|null|     null|2015|\n",
      "|Ahmedabad|2015-01-14|73.24|141.54|27.86|52.65| 20.96|null|     null|2015|\n",
      "|Ahmedabad|2015-01-15|73.24|141.54|16.96|28.89| 47.63|null|     null|2015|\n",
      "|Ahmedabad|2015-01-16|73.24|141.54|21.72|38.27| 46.03|null|     null|2015|\n",
      "|Ahmedabad|2015-01-17|73.24|141.54|24.73| 49.5| 52.24|null|     null|2015|\n",
      "|Ahmedabad|2015-01-18|73.24|141.54|25.77|48.43| 53.49|null|     null|2015|\n",
      "|Ahmedabad|2015-01-19|73.24|141.54|26.88|50.03| 49.48|null|     null|2015|\n",
      "|Ahmedabad|2015-01-20|73.24|141.54| 26.8|58.87| 56.37|null|     null|2015|\n",
      "+---------+----------+-----+------+-----+-----+------+----+---------+----+\n",
      "only showing top 20 rows\n",
      "\n"
     ]
    },
    {
     "name": "stderr",
     "output_type": "stream",
     "text": [
      "\r",
      "[Stage 138:>                                                        (0 + 1) / 1]\r"
     ]
    },
    {
     "name": "stdout",
     "output_type": "stream",
     "text": [
      "+----+----+----+----+---+---+---+----+---------+----+\n",
      "|City|Date|PM25|PM10|NO2|SO2| O3| AQI|AQIBucket|year|\n",
      "+----+----+----+----+---+---+---+----+---------+----+\n",
      "|   0|   0|   0|   0|  0|  0|  0|4681|     4681|   0|\n",
      "+----+----+----+----+---+---+---+----+---------+----+\n",
      "\n"
     ]
    },
    {
     "name": "stderr",
     "output_type": "stream",
     "text": [
      "\r",
      "                                                                                \r"
     ]
    }
   ],
   "source": [
    "dftr.show()\n",
    "#df1=df1.drop('date')\n",
    "from pyspark.sql.functions import col,isnan,when,count\n",
    "\n",
    "dftr1 = dftr.select([count(when(col(c).contains('None') | \\\n",
    "                            col(c).contains('NULL') | \\\n",
    "                            (col(c) == '' ) | \\\n",
    "                            col(c).isNull() | \\\n",
    "                            isnan(c), c \n",
    "                           )).alias(c)\n",
    "                    for c in dftr.columns])\n",
    "dftr1.show()"
   ]
  },
  {
   "cell_type": "code",
   "execution_count": null,
   "metadata": {},
   "outputs": [],
   "source": []
  },
  {
   "cell_type": "code",
   "execution_count": null,
   "metadata": {},
   "outputs": [],
   "source": []
  },
  {
   "cell_type": "code",
   "execution_count": 40,
   "metadata": {},
   "outputs": [],
   "source": [
    "#df1 = df1.na.fill(mean_pm10[0][0], subset=['PM10'])\n",
    "#dftr2.filter(dftr.AQI.isNull()).show()"
   ]
  },
  {
   "cell_type": "code",
   "execution_count": 41,
   "metadata": {},
   "outputs": [],
   "source": [
    "#Replace 0 for null on only population column \n",
    "#df2 = df2.na.fill(value=0,subset=[\"AQI\"]).show()\n"
   ]
  },
  {
   "cell_type": "code",
   "execution_count": 42,
   "metadata": {},
   "outputs": [
    {
     "name": "stdout",
     "output_type": "stream",
     "text": [
      "+---------+----------+-----+------+-----+-----+------+----+---------+----+\n",
      "|     City|      Date| PM25|  PM10|  NO2|  SO2|    O3| AQI|AQIBucket|year|\n",
      "+---------+----------+-----+------+-----+-----+------+----+---------+----+\n",
      "|Ahmedabad|2015-01-01|73.24|141.54|18.22|27.64|133.36|null|     null|2015|\n",
      "|Ahmedabad|2015-01-02|73.24|141.54|15.69|24.55| 34.06|null|     null|2015|\n",
      "|Ahmedabad|2015-01-03|73.24|141.54| 19.3|29.07|  30.7|null|     null|2015|\n",
      "|Ahmedabad|2015-01-04|73.24|141.54|18.48|18.59| 36.08|null|     null|2015|\n",
      "|Ahmedabad|2015-01-05|73.24|141.54|21.42|39.33| 39.31|null|     null|2015|\n",
      "|Ahmedabad|2015-01-06|73.24|141.54|38.48|45.76| 46.51|null|     null|2015|\n",
      "|Ahmedabad|2015-01-07|73.24|141.54|40.62|32.28| 33.47|null|     null|2015|\n",
      "|Ahmedabad|2015-01-08|73.24|141.54|36.74|38.54| 31.89|null|     null|2015|\n",
      "|Ahmedabad|2015-01-09|73.24|141.54| 31.0|58.68| 25.75|null|     null|2015|\n",
      "|Ahmedabad|2015-01-10|73.24|141.54| 7.04| 8.29|  4.55|null|     null|2015|\n",
      "|Ahmedabad|2015-01-11|73.24|141.54| 55.8|25.03|  6.79|null|     null|2015|\n",
      "|Ahmedabad|2015-01-12|73.24|141.54|40.67|51.84| 45.89|null|     null|2015|\n",
      "|Ahmedabad|2015-01-13|73.24|141.54| 44.2|68.21| 35.16|null|     null|2015|\n",
      "|Ahmedabad|2015-01-14|73.24|141.54|27.86|52.65| 20.96|null|     null|2015|\n",
      "|Ahmedabad|2015-01-15|73.24|141.54|16.96|28.89| 47.63|null|     null|2015|\n",
      "|Ahmedabad|2015-01-16|73.24|141.54|21.72|38.27| 46.03|null|     null|2015|\n",
      "|Ahmedabad|2015-01-17|73.24|141.54|24.73| 49.5| 52.24|null|     null|2015|\n",
      "|Ahmedabad|2015-01-18|73.24|141.54|25.77|48.43| 53.49|null|     null|2015|\n",
      "|Ahmedabad|2015-01-19|73.24|141.54|26.88|50.03| 49.48|null|     null|2015|\n",
      "|Ahmedabad|2015-01-20|73.24|141.54| 26.8|58.87| 56.37|null|     null|2015|\n",
      "+---------+----------+-----+------+-----+-----+------+----+---------+----+\n",
      "only showing top 20 rows\n",
      "\n"
     ]
    }
   ],
   "source": [
    "dftr.show()"
   ]
  },
  {
   "cell_type": "code",
   "execution_count": 43,
   "metadata": {},
   "outputs": [
    {
     "name": "stderr",
     "output_type": "stream",
     "text": [
      "\r",
      "[Stage 147:>                                                        (0 + 1) / 1]\r"
     ]
    },
    {
     "name": "stdout",
     "output_type": "stream",
     "text": [
      "+---------+----------+-----+------+-----+-----+------+----+---------+----+----------+\n",
      "|     City|      Date| PM25|  PM10|  NO2|  SO2|    O3| AQI|AQIBucket|year|AQIBucket1|\n",
      "+---------+----------+-----+------+-----+-----+------+----+---------+----+----------+\n",
      "|Ahmedabad|2015-01-01|73.24|141.54|18.22|27.64|133.36|null|     null|2015|      null|\n",
      "|Ahmedabad|2015-01-02|73.24|141.54|15.69|24.55| 34.06|null|     null|2015|      null|\n",
      "|Ahmedabad|2015-01-03|73.24|141.54| 19.3|29.07|  30.7|null|     null|2015|      null|\n",
      "|Ahmedabad|2015-01-04|73.24|141.54|18.48|18.59| 36.08|null|     null|2015|      null|\n",
      "|Ahmedabad|2015-01-05|73.24|141.54|21.42|39.33| 39.31|null|     null|2015|      null|\n",
      "|Ahmedabad|2015-01-06|73.24|141.54|38.48|45.76| 46.51|null|     null|2015|      null|\n",
      "|Ahmedabad|2015-01-07|73.24|141.54|40.62|32.28| 33.47|null|     null|2015|      null|\n",
      "|Ahmedabad|2015-01-08|73.24|141.54|36.74|38.54| 31.89|null|     null|2015|      null|\n",
      "|Ahmedabad|2015-01-09|73.24|141.54| 31.0|58.68| 25.75|null|     null|2015|      null|\n",
      "|Ahmedabad|2015-01-10|73.24|141.54| 7.04| 8.29|  4.55|null|     null|2015|      null|\n",
      "|Ahmedabad|2015-01-11|73.24|141.54| 55.8|25.03|  6.79|null|     null|2015|      null|\n",
      "|Ahmedabad|2015-01-12|73.24|141.54|40.67|51.84| 45.89|null|     null|2015|      null|\n",
      "|Ahmedabad|2015-01-13|73.24|141.54| 44.2|68.21| 35.16|null|     null|2015|      null|\n",
      "|Ahmedabad|2015-01-14|73.24|141.54|27.86|52.65| 20.96|null|     null|2015|      null|\n",
      "|Ahmedabad|2015-01-15|73.24|141.54|16.96|28.89| 47.63|null|     null|2015|      null|\n",
      "|Ahmedabad|2015-01-16|73.24|141.54|21.72|38.27| 46.03|null|     null|2015|      null|\n",
      "|Ahmedabad|2015-01-17|73.24|141.54|24.73| 49.5| 52.24|null|     null|2015|      null|\n",
      "|Ahmedabad|2015-01-18|73.24|141.54|25.77|48.43| 53.49|null|     null|2015|      null|\n",
      "|Ahmedabad|2015-01-19|73.24|141.54|26.88|50.03| 49.48|null|     null|2015|      null|\n",
      "|Ahmedabad|2015-01-20|73.24|141.54| 26.8|58.87| 56.37|null|     null|2015|      null|\n",
      "+---------+----------+-----+------+-----+-----+------+----+---------+----+----------+\n",
      "only showing top 20 rows\n",
      "\n"
     ]
    },
    {
     "name": "stderr",
     "output_type": "stream",
     "text": [
      "\r",
      "                                                                                \r"
     ]
    }
   ],
   "source": [
    "import sys\n",
    "from pyspark.sql.window import Window\n",
    "import pyspark.sql.functions as func\n",
    "dftr.withColumn(\"AQIBucket1\", func.last('AQIBucket', True).over(Window.partitionBy('City').orderBy('year').rowsBetween(-sys.maxsize, 0))).show()\n"
   ]
  },
  {
   "cell_type": "code",
   "execution_count": 44,
   "metadata": {},
   "outputs": [
    {
     "name": "stderr",
     "output_type": "stream",
     "text": [
      "\r",
      "[Stage 150:>                                                        (0 + 1) / 1]\r"
     ]
    },
    {
     "name": "stdout",
     "output_type": "stream",
     "text": [
      "+---------+----------+-----+------+-----+-----+------+----+---------+----+\n",
      "|     City|      Date| PM25|  PM10|  NO2|  SO2|    O3| AQI|AQIBucket|year|\n",
      "+---------+----------+-----+------+-----+-----+------+----+---------+----+\n",
      "|Ahmedabad|2015-01-01|73.24|141.54|18.22|27.64|133.36|null|     Poor|2015|\n",
      "|Ahmedabad|2015-01-02|73.24|141.54|15.69|24.55| 34.06|null|     Poor|2015|\n",
      "|Ahmedabad|2015-01-03|73.24|141.54| 19.3|29.07|  30.7|null|     Poor|2015|\n",
      "|Ahmedabad|2015-01-04|73.24|141.54|18.48|18.59| 36.08|null|     Poor|2015|\n",
      "|Ahmedabad|2015-01-05|73.24|141.54|21.42|39.33| 39.31|null|     Poor|2015|\n",
      "|Ahmedabad|2015-01-06|73.24|141.54|38.48|45.76| 46.51|null|     Poor|2015|\n",
      "|Ahmedabad|2015-01-07|73.24|141.54|40.62|32.28| 33.47|null|     Poor|2015|\n",
      "|Ahmedabad|2015-01-08|73.24|141.54|36.74|38.54| 31.89|null|     Poor|2015|\n",
      "|Ahmedabad|2015-01-09|73.24|141.54| 31.0|58.68| 25.75|null|     Poor|2015|\n",
      "|Ahmedabad|2015-01-10|73.24|141.54| 7.04| 8.29|  4.55|null|     Poor|2015|\n",
      "+---------+----------+-----+------+-----+-----+------+----+---------+----+\n",
      "only showing top 10 rows\n",
      "\n"
     ]
    },
    {
     "name": "stderr",
     "output_type": "stream",
     "text": [
      "\r",
      "                                                                                \r"
     ]
    }
   ],
   "source": [
    "\n",
    "###backward fill\n",
    "from pyspark.sql import Window\n",
    "from pyspark.sql.functions import first\n",
    "\n",
    "# define the window\n",
    "window = Window.partitionBy('City')\\\n",
    "               .orderBy('Date')\\\n",
    "               .rowsBetween(0, sys.maxsize)\n",
    "\n",
    "# define the forward-filled column\n",
    "filled_column = first(dftr['AQIBucket'], ignorenulls=True).over(window)\n",
    "\n",
    "# do the fill\n",
    "spark_df_filled = dftr.withColumn('AQIBucket', filled_column)\n",
    "\n",
    "# show off our glorious achievements\n",
    "spark_df_filled.orderBy('City', 'Date').show(10) "
   ]
  },
  {
   "cell_type": "code",
   "execution_count": 45,
   "metadata": {},
   "outputs": [
    {
     "name": "stdout",
     "output_type": "stream",
     "text": [
      "+---------+----------+-----+------+-----+-----+------+----+---------+----+\n",
      "|     City|      Date| PM25|  PM10|  NO2|  SO2|    O3| AQI|AQIBucket|year|\n",
      "+---------+----------+-----+------+-----+-----+------+----+---------+----+\n",
      "|Ahmedabad|2015-01-01|73.24|141.54|18.22|27.64|133.36|null|     Poor|2015|\n",
      "|Ahmedabad|2015-01-02|73.24|141.54|15.69|24.55| 34.06|null|     Poor|2015|\n",
      "|Ahmedabad|2015-01-03|73.24|141.54| 19.3|29.07|  30.7|null|     Poor|2015|\n",
      "|Ahmedabad|2015-01-04|73.24|141.54|18.48|18.59| 36.08|null|     Poor|2015|\n",
      "|Ahmedabad|2015-01-05|73.24|141.54|21.42|39.33| 39.31|null|     Poor|2015|\n",
      "|Ahmedabad|2015-01-06|73.24|141.54|38.48|45.76| 46.51|null|     Poor|2015|\n",
      "|Ahmedabad|2015-01-07|73.24|141.54|40.62|32.28| 33.47|null|     Poor|2015|\n",
      "|Ahmedabad|2015-01-08|73.24|141.54|36.74|38.54| 31.89|null|     Poor|2015|\n",
      "|Ahmedabad|2015-01-09|73.24|141.54| 31.0|58.68| 25.75|null|     Poor|2015|\n",
      "|Ahmedabad|2015-01-10|73.24|141.54| 7.04| 8.29|  4.55|null|     Poor|2015|\n",
      "|Ahmedabad|2015-01-11|73.24|141.54| 55.8|25.03|  6.79|null|     Poor|2015|\n",
      "|Ahmedabad|2015-01-12|73.24|141.54|40.67|51.84| 45.89|null|     Poor|2015|\n",
      "|Ahmedabad|2015-01-13|73.24|141.54| 44.2|68.21| 35.16|null|     Poor|2015|\n",
      "|Ahmedabad|2015-01-14|73.24|141.54|27.86|52.65| 20.96|null|     Poor|2015|\n",
      "|Ahmedabad|2015-01-15|73.24|141.54|16.96|28.89| 47.63|null|     Poor|2015|\n",
      "|Ahmedabad|2015-01-16|73.24|141.54|21.72|38.27| 46.03|null|     Poor|2015|\n",
      "|Ahmedabad|2015-01-17|73.24|141.54|24.73| 49.5| 52.24|null|     Poor|2015|\n",
      "|Ahmedabad|2015-01-18|73.24|141.54|25.77|48.43| 53.49|null|     Poor|2015|\n",
      "|Ahmedabad|2015-01-19|73.24|141.54|26.88|50.03| 49.48|null|     Poor|2015|\n",
      "|Ahmedabad|2015-01-20|73.24|141.54| 26.8|58.87| 56.37|null|     Poor|2015|\n",
      "+---------+----------+-----+------+-----+-----+------+----+---------+----+\n",
      "only showing top 20 rows\n",
      "\n"
     ]
    }
   ],
   "source": [
    "spark_df_filled.show()"
   ]
  },
  {
   "cell_type": "code",
   "execution_count": 46,
   "metadata": {},
   "outputs": [
    {
     "name": "stderr",
     "output_type": "stream",
     "text": [
      "\r",
      "[Stage 156:>                                                        (0 + 1) / 1]\r"
     ]
    },
    {
     "name": "stdout",
     "output_type": "stream",
     "text": [
      "+------------+----------+------+------+--------+---------+---------+----+---------+----+\n",
      "|        City|      Date|  PM25|  PM10|     NO2|      SO2|       O3| AQI|AQIBucket|year|\n",
      "+------------+----------+------+------+--------+---------+---------+----+---------+----+\n",
      "|Brajrajnagar|2020-06-13| 44.62|182.52|28.56066|     6.94|     14.0|null|     null|2020|\n",
      "|Brajrajnagar|2020-06-14|121.74|158.88|28.56066|     4.38|    20.55|null|     null|2020|\n",
      "|Brajrajnagar|2020-06-15| 40.23|253.14|28.56066|    16.64|34.491432|null|     null|2020|\n",
      "|Brajrajnagar|2020-06-16|  62.9|502.09|28.56066|    24.36|34.491432|null|     null|2020|\n",
      "|Brajrajnagar|2020-06-17|308.79|502.09|28.56066|14.531978|34.491432|null|     null|2020|\n",
      "|Brajrajnagar|2020-06-18|308.79|502.09|28.56066|14.531978|34.491432|null|     null|2020|\n",
      "|Brajrajnagar|2020-06-19|308.79|502.09|28.56066|14.531978|34.491432|null|     null|2020|\n",
      "|Brajrajnagar|2020-06-20|308.79|502.09|28.56066|14.531978|34.491432|null|     null|2020|\n",
      "|Brajrajnagar|2020-06-21|308.79|502.09|28.56066|14.531978|34.491432|null|     null|2020|\n",
      "|Brajrajnagar|2020-06-22|308.79|502.09|28.56066|14.531978|34.491432|null|     null|2020|\n",
      "|Brajrajnagar|2020-06-23|308.79|502.09|28.56066|14.531978|34.491432|null|     null|2020|\n",
      "|Brajrajnagar|2020-06-24|308.79|589.39|28.56066|14.531978|     8.16|null|     null|2020|\n",
      "|Brajrajnagar|2020-06-25|129.63|203.93|   34.04|    10.37|    22.17|null|     null|2020|\n",
      "|Brajrajnagar|2020-06-26| 29.21| 71.31|    3.37|     7.47|    21.95|null|     null|2020|\n",
      "|Brajrajnagar|2020-06-27| 29.21| 71.31|28.56066|14.531978|34.491432|null|     null|2020|\n",
      "|Brajrajnagar|2020-06-28| 29.21| 71.31|28.56066|14.531978|34.491432|null|     null|2020|\n",
      "|Brajrajnagar|2020-06-29| 29.21| 71.31|28.56066|14.531978|34.491432|null|     null|2020|\n",
      "|Brajrajnagar|2020-06-30| 29.21| 71.31|28.56066|14.531978|34.491432|null|     null|2020|\n",
      "|Brajrajnagar|2020-07-01| 29.21| 71.31|28.56066|14.531978|34.491432|null|     null|2020|\n",
      "|  Coimbatore|2020-07-01| 14.21| 15.69|   46.03|     5.73|    10.59|null|     null|2020|\n",
      "+------------+----------+------+------+--------+---------+---------+----+---------+----+\n",
      "\n"
     ]
    },
    {
     "name": "stderr",
     "output_type": "stream",
     "text": [
      "\r",
      "                                                                                \r"
     ]
    }
   ],
   "source": [
    "# First, we have to register the DataFrame as a SQL temporary view.\n",
    "spark_df_filled.createOrReplaceTempView('pollution')\n",
    "\n",
    "results2 = spark.sql(\"SELECT * FROM pollution where AQIBucket is null\")\n",
    "results2.show()"
   ]
  },
  {
   "cell_type": "code",
   "execution_count": 47,
   "metadata": {},
   "outputs": [
    {
     "name": "stderr",
     "output_type": "stream",
     "text": [
      "\r",
      "[Stage 159:>                                                        (0 + 1) / 1]\r"
     ]
    },
    {
     "name": "stdout",
     "output_type": "stream",
     "text": [
      "+---------+----------+-----+------+-----+-----+------+----+---------+----+\n",
      "|     City|      Date| PM25|  PM10|  NO2|  SO2|    O3| AQI|AQIBucket|year|\n",
      "+---------+----------+-----+------+-----+-----+------+----+---------+----+\n",
      "|Ahmedabad|2015-01-01|73.24|141.54|18.22|27.64|133.36|null|     Poor|2015|\n",
      "|Ahmedabad|2015-01-02|73.24|141.54|15.69|24.55| 34.06|null|     Poor|2015|\n",
      "|Ahmedabad|2015-01-03|73.24|141.54| 19.3|29.07|  30.7|null|     Poor|2015|\n",
      "|Ahmedabad|2015-01-04|73.24|141.54|18.48|18.59| 36.08|null|     Poor|2015|\n",
      "|Ahmedabad|2015-01-05|73.24|141.54|21.42|39.33| 39.31|null|     Poor|2015|\n",
      "|Ahmedabad|2015-01-06|73.24|141.54|38.48|45.76| 46.51|null|     Poor|2015|\n",
      "|Ahmedabad|2015-01-07|73.24|141.54|40.62|32.28| 33.47|null|     Poor|2015|\n",
      "|Ahmedabad|2015-01-08|73.24|141.54|36.74|38.54| 31.89|null|     Poor|2015|\n",
      "|Ahmedabad|2015-01-09|73.24|141.54| 31.0|58.68| 25.75|null|     Poor|2015|\n",
      "|Ahmedabad|2015-01-10|73.24|141.54| 7.04| 8.29|  4.55|null|     Poor|2015|\n",
      "+---------+----------+-----+------+-----+-----+------+----+---------+----+\n",
      "only showing top 10 rows\n",
      "\n"
     ]
    },
    {
     "name": "stderr",
     "output_type": "stream",
     "text": [
      "\r",
      "                                                                                \r"
     ]
    }
   ],
   "source": [
    "###backward fill\n",
    "from pyspark.sql import Window\n",
    "from pyspark.sql.functions import last\n",
    "\n",
    "# define the window\n",
    "window = Window.partitionBy('City')\\\n",
    "               .orderBy('Date')\\\n",
    "               .rowsBetween(-sys.maxsize ,0 )\n",
    "\n",
    "# define the forward-filled column\n",
    "filled_column = last(spark_df_filled['AQIBucket'], ignorenulls=True).over(window)\n",
    "\n",
    "# do the fill\n",
    "spark_df_filled2 = spark_df_filled.withColumn('AQIBucket', filled_column)\n",
    "\n",
    "# show off our glorious achievements\n",
    "spark_df_filled2.orderBy('City', 'Date').show(10)"
   ]
  },
  {
   "cell_type": "code",
   "execution_count": 48,
   "metadata": {},
   "outputs": [
    {
     "name": "stderr",
     "output_type": "stream",
     "text": [
      "\r",
      "[Stage 162:>                                                        (0 + 1) / 1]\r"
     ]
    },
    {
     "name": "stdout",
     "output_type": "stream",
     "text": [
      "+----+----+----+----+---+---+---+---+---------+----+\n",
      "|City|Date|PM25|PM10|NO2|SO2| O3|AQI|AQIBucket|year|\n",
      "+----+----+----+----+---+---+---+---+---------+----+\n",
      "+----+----+----+----+---+---+---+---+---------+----+\n",
      "\n"
     ]
    },
    {
     "name": "stderr",
     "output_type": "stream",
     "text": [
      "\r",
      "                                                                                \r"
     ]
    }
   ],
   "source": [
    "# First, we have to register the DataFrame as a SQL temporary view.\n",
    "spark_df_filled2.createOrReplaceTempView('pollution')\n",
    "\n",
    "results3 = spark.sql(\"SELECT * FROM pollution where AQIBucket is null\")\n",
    "results3.show()"
   ]
  },
  {
   "cell_type": "code",
   "execution_count": 49,
   "metadata": {},
   "outputs": [
    {
     "name": "stderr",
     "output_type": "stream",
     "text": [
      "\r",
      "[Stage 165:>                                                        (0 + 1) / 1]\r"
     ]
    },
    {
     "name": "stdout",
     "output_type": "stream",
     "text": [
      "+------------+----------------+---------+----+\n",
      "|   AQIBucket|count(AQIBucket)|     city|year|\n",
      "+------------+----------------+---------+----+\n",
      "|        Poor|             163|Ahmedabad|2015|\n",
      "|   Very Poor|              58|Ahmedabad|2015|\n",
      "|      Severe|              55|Ahmedabad|2015|\n",
      "|    Moderate|              79|Ahmedabad|2015|\n",
      "|Satisfactory|               9|Ahmedabad|2015|\n",
      "|        Good|               1|Ahmedabad|2015|\n",
      "|        Poor|             247|Ahmedabad|2016|\n",
      "|    Moderate|              69|Ahmedabad|2016|\n",
      "|      Severe|              27|Ahmedabad|2016|\n",
      "|Satisfactory|               3|Ahmedabad|2016|\n",
      "|   Very Poor|              20|Ahmedabad|2016|\n",
      "|    Moderate|             293|Ahmedabad|2017|\n",
      "|   Very Poor|              21|Ahmedabad|2017|\n",
      "|Satisfactory|               1|Ahmedabad|2017|\n",
      "|      Severe|              41|Ahmedabad|2017|\n",
      "|        Poor|               9|Ahmedabad|2017|\n",
      "|        Poor|              32|Ahmedabad|2018|\n",
      "|      Severe|             283|Ahmedabad|2018|\n",
      "|   Very Poor|              44|Ahmedabad|2018|\n",
      "|    Moderate|               6|Ahmedabad|2018|\n",
      "+------------+----------------+---------+----+\n",
      "only showing top 20 rows\n",
      "\n"
     ]
    },
    {
     "name": "stderr",
     "output_type": "stream",
     "text": [
      "\r",
      "                                                                                \r"
     ]
    }
   ],
   "source": [
    "# First, we have to register the DataFrame as a SQL temporary view.\n",
    "spark_df_filled2.createOrReplaceTempView('pollution')\n",
    "\n",
    "results4 = spark.sql(\"SELECT AQIBucket, count(AQIBucket),city,year FROM pollution group by AQIbucket,city,year\")\n",
    "results4.show()"
   ]
  },
  {
   "cell_type": "code",
   "execution_count": 50,
   "metadata": {},
   "outputs": [
    {
     "name": "stdout",
     "output_type": "stream",
     "text": [
      "+---------+----------+-----+------+-----+-----+------+----+---------+----+\n",
      "|     City|      Date| PM25|  PM10|  NO2|  SO2|    O3| AQI|AQIBucket|year|\n",
      "+---------+----------+-----+------+-----+-----+------+----+---------+----+\n",
      "|Ahmedabad|2015-01-01|73.24|141.54|18.22|27.64|133.36|null|     Poor|2015|\n",
      "|Ahmedabad|2015-01-02|73.24|141.54|15.69|24.55| 34.06|null|     Poor|2015|\n",
      "|Ahmedabad|2015-01-03|73.24|141.54| 19.3|29.07|  30.7|null|     Poor|2015|\n",
      "|Ahmedabad|2015-01-04|73.24|141.54|18.48|18.59| 36.08|null|     Poor|2015|\n",
      "|Ahmedabad|2015-01-05|73.24|141.54|21.42|39.33| 39.31|null|     Poor|2015|\n",
      "|Ahmedabad|2015-01-06|73.24|141.54|38.48|45.76| 46.51|null|     Poor|2015|\n",
      "|Ahmedabad|2015-01-07|73.24|141.54|40.62|32.28| 33.47|null|     Poor|2015|\n",
      "|Ahmedabad|2015-01-08|73.24|141.54|36.74|38.54| 31.89|null|     Poor|2015|\n",
      "|Ahmedabad|2015-01-09|73.24|141.54| 31.0|58.68| 25.75|null|     Poor|2015|\n",
      "|Ahmedabad|2015-01-10|73.24|141.54| 7.04| 8.29|  4.55|null|     Poor|2015|\n",
      "|Ahmedabad|2015-01-11|73.24|141.54| 55.8|25.03|  6.79|null|     Poor|2015|\n",
      "|Ahmedabad|2015-01-12|73.24|141.54|40.67|51.84| 45.89|null|     Poor|2015|\n",
      "|Ahmedabad|2015-01-13|73.24|141.54| 44.2|68.21| 35.16|null|     Poor|2015|\n",
      "|Ahmedabad|2015-01-14|73.24|141.54|27.86|52.65| 20.96|null|     Poor|2015|\n",
      "|Ahmedabad|2015-01-15|73.24|141.54|16.96|28.89| 47.63|null|     Poor|2015|\n",
      "|Ahmedabad|2015-01-16|73.24|141.54|21.72|38.27| 46.03|null|     Poor|2015|\n",
      "|Ahmedabad|2015-01-17|73.24|141.54|24.73| 49.5| 52.24|null|     Poor|2015|\n",
      "|Ahmedabad|2015-01-18|73.24|141.54|25.77|48.43| 53.49|null|     Poor|2015|\n",
      "|Ahmedabad|2015-01-19|73.24|141.54|26.88|50.03| 49.48|null|     Poor|2015|\n",
      "|Ahmedabad|2015-01-20|73.24|141.54| 26.8|58.87| 56.37|null|     Poor|2015|\n",
      "+---------+----------+-----+------+-----+-----+------+----+---------+----+\n",
      "only showing top 20 rows\n",
      "\n"
     ]
    }
   ],
   "source": [
    "###check the AQI for the rows, and update the nulls\n",
    "\n",
    "spark_df_filled2.filter(spark_df_filled2.AQI.isNull()).show()"
   ]
  },
  {
   "cell_type": "code",
   "execution_count": 51,
   "metadata": {},
   "outputs": [
    {
     "name": "stderr",
     "output_type": "stream",
     "text": [
      "\r",
      "[Stage 171:>                                                        (0 + 1) / 1]\r"
     ]
    },
    {
     "name": "stdout",
     "output_type": "stream",
     "text": [
      "+---------+----------+-----+------+--------+---------+---------+----+------------+----+----+\n",
      "|     City|      Date| PM25|  PM10|     NO2|      SO2|       O3| AQI|   AQIBucket|year|AQII|\n",
      "+---------+----------+-----+------+--------+---------+---------+----+------------+----+----+\n",
      "|Ahmedabad|2015-07-24|29.22|141.54|    9.57|    13.58|     5.08|48.0|        Good|2015|48.0|\n",
      "|Ahmedabad|2015-07-25|29.79|141.54|    8.64|    15.11|     5.34|53.0|Satisfactory|2015|53.0|\n",
      "|Ahmedabad|2015-07-20| 31.3|141.54|     8.1|    10.29|     7.44|60.0|Satisfactory|2015|60.0|\n",
      "|Ahmedabad|2015-07-19|33.56|141.54|    7.89|    11.28|    10.18|67.0|Satisfactory|2015|67.0|\n",
      "|Ahmedabad|2015-07-27| 19.2|141.54|    9.45|    11.23|     4.61|70.0|Satisfactory|2015|70.0|\n",
      "|Ahmedabad|2016-07-15|36.47|141.54|   37.13|    19.01|34.491432|72.0|Satisfactory|2016|72.0|\n",
      "|Ahmedabad|2020-06-29|29.75|127.98|   25.15|     12.1|    34.99|74.0|Satisfactory|2020|74.0|\n",
      "|Ahmedabad|2020-06-22|19.02| 98.37|   16.76|    13.32|    45.85|75.0|Satisfactory|2020|75.0|\n",
      "|Ahmedabad|2015-07-23|34.72|141.54|    9.73|    13.62|     4.87|78.0|Satisfactory|2015|78.0|\n",
      "|Ahmedabad|2017-10-23|51.72|141.54|28.56066|14.531978|    24.71|80.0|Satisfactory|2017|80.0|\n",
      "+---------+----------+-----+------+--------+---------+---------+----+------------+----+----+\n",
      "only showing top 10 rows\n",
      "\n"
     ]
    },
    {
     "name": "stderr",
     "output_type": "stream",
     "text": [
      "\r",
      "                                                                                \r"
     ]
    }
   ],
   "source": [
    "###backward fill\n",
    "from pyspark.sql import Window\n",
    "from pyspark.sql.functions import first\n",
    "\n",
    "# define the window\n",
    "window = Window.partitionBy('City')\\\n",
    "               .orderBy('AQIBucket')\\\n",
    "               .rowsBetween(0, sys.maxsize)\n",
    "\n",
    "# define the forward-filled column\n",
    "filled_column = first(spark_df_filled2['AQI'], ignorenulls=True).over(window)\n",
    "\n",
    "# do the fill\n",
    "spark_df_filled3 = spark_df_filled2.withColumn('AQII', filled_column)\n",
    "\n",
    "# show off our glorious achievements\n",
    "spark_df_filled3.orderBy('City', 'AQII').show(10) "
   ]
  },
  {
   "cell_type": "code",
   "execution_count": 52,
   "metadata": {},
   "outputs": [
    {
     "name": "stderr",
     "output_type": "stream",
     "text": [
      "\r",
      "[Stage 174:>                                                        (0 + 1) / 1]\r"
     ]
    },
    {
     "name": "stdout",
     "output_type": "stream",
     "text": [
      "+----+----+----+----+---+---+---+---+---------+----+----+\n",
      "|City|Date|PM25|PM10|NO2|SO2| O3|AQI|AQIBucket|year|AQII|\n",
      "+----+----+----+----+---+---+---+---+---------+----+----+\n",
      "+----+----+----+----+---+---+---+---+---------+----+----+\n",
      "\n"
     ]
    },
    {
     "name": "stderr",
     "output_type": "stream",
     "text": [
      "\r",
      "                                                                                \r"
     ]
    }
   ],
   "source": [
    "\n",
    "spark_df_filled3.filter(spark_df_filled3.AQII.isNull()).show()"
   ]
  },
  {
   "cell_type": "code",
   "execution_count": 53,
   "metadata": {},
   "outputs": [
    {
     "name": "stderr",
     "output_type": "stream",
     "text": [
      "\r",
      "[Stage 177:>                                                        (0 + 1) / 1]\r"
     ]
    },
    {
     "name": "stdout",
     "output_type": "stream",
     "text": [
      "+----------------+------------+---------+----+\n",
      "|count(AQIBucket)|   AQIBucket|     city|year|\n",
      "+----------------+------------+---------+----+\n",
      "|             163|        Poor|Ahmedabad|2015|\n",
      "|              58|   Very Poor|Ahmedabad|2015|\n",
      "|              55|      Severe|Ahmedabad|2015|\n",
      "|              79|    Moderate|Ahmedabad|2015|\n",
      "|               9|Satisfactory|Ahmedabad|2015|\n",
      "|               1|        Good|Ahmedabad|2015|\n",
      "|             247|        Poor|Ahmedabad|2016|\n",
      "|              69|    Moderate|Ahmedabad|2016|\n",
      "|              27|      Severe|Ahmedabad|2016|\n",
      "|               3|Satisfactory|Ahmedabad|2016|\n",
      "|              20|   Very Poor|Ahmedabad|2016|\n",
      "|             293|    Moderate|Ahmedabad|2017|\n",
      "|              21|   Very Poor|Ahmedabad|2017|\n",
      "|               1|Satisfactory|Ahmedabad|2017|\n",
      "|              41|      Severe|Ahmedabad|2017|\n",
      "|               9|        Poor|Ahmedabad|2017|\n",
      "|              32|        Poor|Ahmedabad|2018|\n",
      "|             283|      Severe|Ahmedabad|2018|\n",
      "|              44|   Very Poor|Ahmedabad|2018|\n",
      "|               6|    Moderate|Ahmedabad|2018|\n",
      "+----------------+------------+---------+----+\n",
      "only showing top 20 rows\n",
      "\n"
     ]
    },
    {
     "name": "stderr",
     "output_type": "stream",
     "text": [
      "\r",
      "                                                                                \r"
     ]
    }
   ],
   "source": [
    "# First, we have to register the DataFrame as a SQL temporary view.\n",
    "spark_df_filled3.createOrReplaceTempView('pollution')\n",
    "\n",
    "results4 = spark.sql(\"SELECT count(AQIBucket),AQIBucket,city,year FROM pollution group by AQIbucket,city,year\")\n",
    "results4.show()"
   ]
  },
  {
   "cell_type": "code",
   "execution_count": 54,
   "metadata": {},
   "outputs": [
    {
     "name": "stderr",
     "output_type": "stream",
     "text": [
      "\r",
      "[Stage 180:>                                                        (0 + 1) / 1]\r"
     ]
    },
    {
     "name": "stdout",
     "output_type": "stream",
     "text": [
      "+---------+----------+------+------+--------+---------+---------+-----+---------+----+-----+\n",
      "|     City|      Date|  PM25|  PM10|     NO2|      SO2|       O3|  AQI|AQIBucket|year| AQII|\n",
      "+---------+----------+------+------+--------+---------+---------+-----+---------+----+-----+\n",
      "|Ahmedabad|2015-07-24| 29.22|141.54|    9.57|    13.58|     5.08| 48.0|     Good|2015| 48.0|\n",
      "|Ahmedabad|2015-02-05| 58.36|141.54|   21.39|    32.66|    53.54|149.0| Moderate|2015|149.0|\n",
      "|Ahmedabad|2015-02-06| 79.29|141.54|   26.94|    67.41|     59.3|190.0| Moderate|2015|190.0|\n",
      "|Ahmedabad|2015-02-26| 61.12|141.54|28.56066|14.531978|34.491432| null| Moderate|2015|189.0|\n",
      "|Ahmedabad|2015-02-27| 61.12|141.54|28.56066|14.531978|34.491432| null| Moderate|2015|189.0|\n",
      "|Ahmedabad|2015-02-28| 61.12|141.54|28.56066|14.531978|34.491432| null| Moderate|2015|189.0|\n",
      "|Ahmedabad|2015-03-01| 61.12|141.54|   16.81|    28.44|    30.48| null| Moderate|2015|189.0|\n",
      "|Ahmedabad|2015-03-02| 60.78|141.54|   18.21|    29.48|    34.75|189.0| Moderate|2015|189.0|\n",
      "|Ahmedabad|2015-03-06|105.45|141.54|28.56066|14.531978|34.491432| null| Moderate|2015|190.0|\n",
      "|Ahmedabad|2015-03-07|105.45|141.54|    16.1|    29.29|     69.9| null| Moderate|2015|190.0|\n",
      "|Ahmedabad|2015-03-08| 71.56|141.54|   16.83|    30.28|    57.16|190.0| Moderate|2015|190.0|\n",
      "|Ahmedabad|2015-03-16| 30.76|141.54|   14.14|    43.62|    54.78|118.0| Moderate|2015|118.0|\n",
      "|Ahmedabad|2015-04-03| 53.07|141.54|   13.82|    40.36|    21.76|169.0| Moderate|2015|169.0|\n",
      "|Ahmedabad|2015-04-10| 134.6|141.54|   26.27|    34.53|      7.0| null| Moderate|2015|126.0|\n",
      "|Ahmedabad|2015-04-11| 61.06|141.54|   14.03|     8.08|    19.54|126.0| Moderate|2015|126.0|\n",
      "|Ahmedabad|2015-04-12| 39.42|141.54|   19.56|    17.66|     31.3|175.0| Moderate|2015|175.0|\n",
      "|Ahmedabad|2015-04-22| 63.38|141.54|   13.28|    24.79|    43.62|189.0| Moderate|2015|189.0|\n",
      "|Ahmedabad|2015-05-06| 65.11|141.54|    4.58|    22.27|    32.26|120.0| Moderate|2015|120.0|\n",
      "|Ahmedabad|2015-05-07| 51.03|141.54|   20.47|     15.5|    31.44|158.0| Moderate|2015|158.0|\n",
      "|Ahmedabad|2015-05-08| 38.73|141.54|   19.28|    20.13|     25.7|177.0| Moderate|2015|177.0|\n",
      "+---------+----------+------+------+--------+---------+---------+-----+---------+----+-----+\n",
      "only showing top 20 rows\n",
      "\n"
     ]
    },
    {
     "name": "stderr",
     "output_type": "stream",
     "text": [
      "\r",
      "                                                                                \r"
     ]
    }
   ],
   "source": [
    "spark_df_filled3.show()"
   ]
  },
  {
   "cell_type": "code",
   "execution_count": 55,
   "metadata": {},
   "outputs": [
    {
     "name": "stderr",
     "output_type": "stream",
     "text": [
      "[Stage 189:>                                                        (0 + 1) / 1]\r"
     ]
    },
    {
     "name": "stdout",
     "output_type": "stream",
     "text": [
      "+---------+----------+------+------+--------+---------+---------+-----+---------+----+-----+----------+\n",
      "|     City|      Date|  PM25|  PM10|     NO2|      SO2|       O3|  AQI|AQIBucket|year| AQII|AQIB_index|\n",
      "+---------+----------+------+------+--------+---------+---------+-----+---------+----+-----+----------+\n",
      "|Ahmedabad|2015-07-24| 29.22|141.54|    9.57|    13.58|     5.08| 48.0|     Good|2015| 48.0|       4.0|\n",
      "|Ahmedabad|2015-02-05| 58.36|141.54|   21.39|    32.66|    53.54|149.0| Moderate|2015|149.0|       0.0|\n",
      "|Ahmedabad|2015-02-06| 79.29|141.54|   26.94|    67.41|     59.3|190.0| Moderate|2015|190.0|       0.0|\n",
      "|Ahmedabad|2015-02-26| 61.12|141.54|28.56066|14.531978|34.491432| null| Moderate|2015|189.0|       0.0|\n",
      "|Ahmedabad|2015-02-27| 61.12|141.54|28.56066|14.531978|34.491432| null| Moderate|2015|189.0|       0.0|\n",
      "|Ahmedabad|2015-02-28| 61.12|141.54|28.56066|14.531978|34.491432| null| Moderate|2015|189.0|       0.0|\n",
      "|Ahmedabad|2015-03-01| 61.12|141.54|   16.81|    28.44|    30.48| null| Moderate|2015|189.0|       0.0|\n",
      "|Ahmedabad|2015-03-02| 60.78|141.54|   18.21|    29.48|    34.75|189.0| Moderate|2015|189.0|       0.0|\n",
      "|Ahmedabad|2015-03-06|105.45|141.54|28.56066|14.531978|34.491432| null| Moderate|2015|190.0|       0.0|\n",
      "|Ahmedabad|2015-03-07|105.45|141.54|    16.1|    29.29|     69.9| null| Moderate|2015|190.0|       0.0|\n",
      "|Ahmedabad|2015-03-08| 71.56|141.54|   16.83|    30.28|    57.16|190.0| Moderate|2015|190.0|       0.0|\n",
      "|Ahmedabad|2015-03-16| 30.76|141.54|   14.14|    43.62|    54.78|118.0| Moderate|2015|118.0|       0.0|\n",
      "|Ahmedabad|2015-04-03| 53.07|141.54|   13.82|    40.36|    21.76|169.0| Moderate|2015|169.0|       0.0|\n",
      "|Ahmedabad|2015-04-10| 134.6|141.54|   26.27|    34.53|      7.0| null| Moderate|2015|126.0|       0.0|\n",
      "|Ahmedabad|2015-04-11| 61.06|141.54|   14.03|     8.08|    19.54|126.0| Moderate|2015|126.0|       0.0|\n",
      "|Ahmedabad|2015-04-12| 39.42|141.54|   19.56|    17.66|     31.3|175.0| Moderate|2015|175.0|       0.0|\n",
      "|Ahmedabad|2015-04-22| 63.38|141.54|   13.28|    24.79|    43.62|189.0| Moderate|2015|189.0|       0.0|\n",
      "|Ahmedabad|2015-05-06| 65.11|141.54|    4.58|    22.27|    32.26|120.0| Moderate|2015|120.0|       0.0|\n",
      "|Ahmedabad|2015-05-07| 51.03|141.54|   20.47|     15.5|    31.44|158.0| Moderate|2015|158.0|       0.0|\n",
      "|Ahmedabad|2015-05-08| 38.73|141.54|   19.28|    20.13|     25.7|177.0| Moderate|2015|177.0|       0.0|\n",
      "+---------+----------+------+------+--------+---------+---------+-----+---------+----+-----+----------+\n",
      "only showing top 20 rows\n",
      "\n"
     ]
    },
    {
     "name": "stderr",
     "output_type": "stream",
     "text": [
      "\r",
      "                                                                                \r"
     ]
    }
   ],
   "source": [
    "##transform with String Indexer and OneHotEncoder\n",
    "\n",
    "from pyspark.ml import Pipeline\n",
    "from pyspark.ml.feature import StringIndexer, OneHotEncoder\n",
    "\n",
    "\n",
    "indexer = StringIndexer(inputCol=\"AQIBucket\", outputCol=\"AQIB_index\").fit(spark_df_filled3)\n",
    "spark_df_ind = indexer.transform(spark_df_filled3)\n",
    "spark_df_ind.show()\n",
    "\n",
    "\n",
    "#df3 = encoded\n"
   ]
  },
  {
   "cell_type": "code",
   "execution_count": 56,
   "metadata": {},
   "outputs": [
    {
     "name": "stderr",
     "output_type": "stream",
     "text": [
      "                                                                                \r"
     ]
    },
    {
     "name": "stdout",
     "output_type": "stream",
     "text": [
      "+------------+----------+-----------------+---------+----+\n",
      "|   AQIBucket|AQIB_index|count(AQIB_index)|     city|year|\n",
      "+------------+----------+-----------------+---------+----+\n",
      "|        Poor|       2.0|              163|Ahmedabad|2015|\n",
      "|   Very Poor|       3.0|               58|Ahmedabad|2015|\n",
      "|      Severe|       5.0|               55|Ahmedabad|2015|\n",
      "|    Moderate|       0.0|               79|Ahmedabad|2015|\n",
      "|Satisfactory|       1.0|                9|Ahmedabad|2015|\n",
      "|        Good|       4.0|                1|Ahmedabad|2015|\n",
      "|        Poor|       2.0|              247|Ahmedabad|2016|\n",
      "|    Moderate|       0.0|               69|Ahmedabad|2016|\n",
      "|      Severe|       5.0|               27|Ahmedabad|2016|\n",
      "|Satisfactory|       1.0|                3|Ahmedabad|2016|\n",
      "|   Very Poor|       3.0|               20|Ahmedabad|2016|\n",
      "|    Moderate|       0.0|              293|Ahmedabad|2017|\n",
      "|   Very Poor|       3.0|               21|Ahmedabad|2017|\n",
      "|Satisfactory|       1.0|                1|Ahmedabad|2017|\n",
      "|      Severe|       5.0|               41|Ahmedabad|2017|\n",
      "|        Poor|       2.0|                9|Ahmedabad|2017|\n",
      "|        Poor|       2.0|               32|Ahmedabad|2018|\n",
      "|      Severe|       5.0|              283|Ahmedabad|2018|\n",
      "|   Very Poor|       3.0|               44|Ahmedabad|2018|\n",
      "|    Moderate|       0.0|                6|Ahmedabad|2018|\n",
      "+------------+----------+-----------------+---------+----+\n",
      "only showing top 20 rows\n",
      "\n"
     ]
    },
    {
     "name": "stderr",
     "output_type": "stream",
     "text": [
      "\r",
      "[Stage 195:>                                                        (0 + 1) / 1]\r"
     ]
    },
    {
     "name": "stdout",
     "output_type": "stream",
     "text": [
      "+---------+----------+------+------+--------+---------+---------+-----+---------+----+-----+----------+\n",
      "|     City|      Date|  PM25|  PM10|     NO2|      SO2|       O3|  AQI|AQIBucket|year| AQII|AQIB_index|\n",
      "+---------+----------+------+------+--------+---------+---------+-----+---------+----+-----+----------+\n",
      "|Ahmedabad|2015-07-24| 29.22|141.54|    9.57|    13.58|     5.08| 48.0|     Good|2015| 48.0|       4.0|\n",
      "|Ahmedabad|2015-02-05| 58.36|141.54|   21.39|    32.66|    53.54|149.0| Moderate|2015|149.0|       0.0|\n",
      "|Ahmedabad|2015-02-06| 79.29|141.54|   26.94|    67.41|     59.3|190.0| Moderate|2015|190.0|       0.0|\n",
      "|Ahmedabad|2015-02-26| 61.12|141.54|28.56066|14.531978|34.491432| null| Moderate|2015|189.0|       0.0|\n",
      "|Ahmedabad|2015-02-27| 61.12|141.54|28.56066|14.531978|34.491432| null| Moderate|2015|189.0|       0.0|\n",
      "|Ahmedabad|2015-02-28| 61.12|141.54|28.56066|14.531978|34.491432| null| Moderate|2015|189.0|       0.0|\n",
      "|Ahmedabad|2015-03-01| 61.12|141.54|   16.81|    28.44|    30.48| null| Moderate|2015|189.0|       0.0|\n",
      "|Ahmedabad|2015-03-02| 60.78|141.54|   18.21|    29.48|    34.75|189.0| Moderate|2015|189.0|       0.0|\n",
      "|Ahmedabad|2015-03-06|105.45|141.54|28.56066|14.531978|34.491432| null| Moderate|2015|190.0|       0.0|\n",
      "|Ahmedabad|2015-03-07|105.45|141.54|    16.1|    29.29|     69.9| null| Moderate|2015|190.0|       0.0|\n",
      "|Ahmedabad|2015-03-08| 71.56|141.54|   16.83|    30.28|    57.16|190.0| Moderate|2015|190.0|       0.0|\n",
      "|Ahmedabad|2015-03-16| 30.76|141.54|   14.14|    43.62|    54.78|118.0| Moderate|2015|118.0|       0.0|\n",
      "|Ahmedabad|2015-04-03| 53.07|141.54|   13.82|    40.36|    21.76|169.0| Moderate|2015|169.0|       0.0|\n",
      "|Ahmedabad|2015-04-10| 134.6|141.54|   26.27|    34.53|      7.0| null| Moderate|2015|126.0|       0.0|\n",
      "|Ahmedabad|2015-04-11| 61.06|141.54|   14.03|     8.08|    19.54|126.0| Moderate|2015|126.0|       0.0|\n",
      "|Ahmedabad|2015-04-12| 39.42|141.54|   19.56|    17.66|     31.3|175.0| Moderate|2015|175.0|       0.0|\n",
      "|Ahmedabad|2015-04-22| 63.38|141.54|   13.28|    24.79|    43.62|189.0| Moderate|2015|189.0|       0.0|\n",
      "|Ahmedabad|2015-05-06| 65.11|141.54|    4.58|    22.27|    32.26|120.0| Moderate|2015|120.0|       0.0|\n",
      "|Ahmedabad|2015-05-07| 51.03|141.54|   20.47|     15.5|    31.44|158.0| Moderate|2015|158.0|       0.0|\n",
      "|Ahmedabad|2015-05-08| 38.73|141.54|   19.28|    20.13|     25.7|177.0| Moderate|2015|177.0|       0.0|\n",
      "+---------+----------+------+------+--------+---------+---------+-----+---------+----+-----+----------+\n",
      "only showing top 20 rows\n",
      "\n"
     ]
    },
    {
     "name": "stderr",
     "output_type": "stream",
     "text": [
      "\r",
      "                                                                                \r"
     ]
    }
   ],
   "source": [
    "# First, we have to register the DataFrame as a SQL temporary view.\n",
    "spark_df_ind.createOrReplaceTempView('pollution')\n",
    "\n",
    "results4 = spark.sql(\"SELECT AQIBucket ,AQIB_index, count(AQIB_index), city,year FROM pollution group by AQIBucket, AQIB_index, city,year\")\n",
    "results4.show()\n",
    "result = spark.sql(\"Select * from pollution\")\n",
    "result.show()"
   ]
  },
  {
   "cell_type": "code",
   "execution_count": 57,
   "metadata": {},
   "outputs": [
    {
     "name": "stderr",
     "output_type": "stream",
     "text": [
      "\r",
      "[Stage 198:>                                                        (0 + 1) / 1]\r"
     ]
    },
    {
     "name": "stdout",
     "output_type": "stream",
     "text": [
      "+---------+----------+------+------+--------+---------+---------+-----+---------+----+-----+----------+-------------+\n",
      "|     City|      Date|  PM25|  PM10|     NO2|      SO2|       O3|  AQI|AQIBucket|year| AQII|AQIB_index|     AQIB_vec|\n",
      "+---------+----------+------+------+--------+---------+---------+-----+---------+----+-----+----------+-------------+\n",
      "|Ahmedabad|2015-07-24| 29.22|141.54|    9.57|    13.58|     5.08| 48.0|     Good|2015| 48.0|       4.0|(5,[4],[1.0])|\n",
      "|Ahmedabad|2015-02-05| 58.36|141.54|   21.39|    32.66|    53.54|149.0| Moderate|2015|149.0|       0.0|(5,[0],[1.0])|\n",
      "|Ahmedabad|2015-02-06| 79.29|141.54|   26.94|    67.41|     59.3|190.0| Moderate|2015|190.0|       0.0|(5,[0],[1.0])|\n",
      "|Ahmedabad|2015-02-26| 61.12|141.54|28.56066|14.531978|34.491432| null| Moderate|2015|189.0|       0.0|(5,[0],[1.0])|\n",
      "|Ahmedabad|2015-02-27| 61.12|141.54|28.56066|14.531978|34.491432| null| Moderate|2015|189.0|       0.0|(5,[0],[1.0])|\n",
      "|Ahmedabad|2015-02-28| 61.12|141.54|28.56066|14.531978|34.491432| null| Moderate|2015|189.0|       0.0|(5,[0],[1.0])|\n",
      "|Ahmedabad|2015-03-01| 61.12|141.54|   16.81|    28.44|    30.48| null| Moderate|2015|189.0|       0.0|(5,[0],[1.0])|\n",
      "|Ahmedabad|2015-03-02| 60.78|141.54|   18.21|    29.48|    34.75|189.0| Moderate|2015|189.0|       0.0|(5,[0],[1.0])|\n",
      "|Ahmedabad|2015-03-06|105.45|141.54|28.56066|14.531978|34.491432| null| Moderate|2015|190.0|       0.0|(5,[0],[1.0])|\n",
      "|Ahmedabad|2015-03-07|105.45|141.54|    16.1|    29.29|     69.9| null| Moderate|2015|190.0|       0.0|(5,[0],[1.0])|\n",
      "|Ahmedabad|2015-03-08| 71.56|141.54|   16.83|    30.28|    57.16|190.0| Moderate|2015|190.0|       0.0|(5,[0],[1.0])|\n",
      "|Ahmedabad|2015-03-16| 30.76|141.54|   14.14|    43.62|    54.78|118.0| Moderate|2015|118.0|       0.0|(5,[0],[1.0])|\n",
      "|Ahmedabad|2015-04-03| 53.07|141.54|   13.82|    40.36|    21.76|169.0| Moderate|2015|169.0|       0.0|(5,[0],[1.0])|\n",
      "|Ahmedabad|2015-04-10| 134.6|141.54|   26.27|    34.53|      7.0| null| Moderate|2015|126.0|       0.0|(5,[0],[1.0])|\n",
      "|Ahmedabad|2015-04-11| 61.06|141.54|   14.03|     8.08|    19.54|126.0| Moderate|2015|126.0|       0.0|(5,[0],[1.0])|\n",
      "|Ahmedabad|2015-04-12| 39.42|141.54|   19.56|    17.66|     31.3|175.0| Moderate|2015|175.0|       0.0|(5,[0],[1.0])|\n",
      "|Ahmedabad|2015-04-22| 63.38|141.54|   13.28|    24.79|    43.62|189.0| Moderate|2015|189.0|       0.0|(5,[0],[1.0])|\n",
      "|Ahmedabad|2015-05-06| 65.11|141.54|    4.58|    22.27|    32.26|120.0| Moderate|2015|120.0|       0.0|(5,[0],[1.0])|\n",
      "|Ahmedabad|2015-05-07| 51.03|141.54|   20.47|     15.5|    31.44|158.0| Moderate|2015|158.0|       0.0|(5,[0],[1.0])|\n",
      "|Ahmedabad|2015-05-08| 38.73|141.54|   19.28|    20.13|     25.7|177.0| Moderate|2015|177.0|       0.0|(5,[0],[1.0])|\n",
      "+---------+----------+------+------+--------+---------+---------+-----+---------+----+-----+----------+-------------+\n",
      "only showing top 20 rows\n",
      "\n"
     ]
    },
    {
     "name": "stderr",
     "output_type": "stream",
     "text": [
      "\r",
      "                                                                                \r"
     ]
    }
   ],
   "source": [
    "###one hot encoder\n",
    "from pyspark.ml import Pipeline\n",
    "from pyspark.ml.feature import StringIndexer, OneHotEncoder\n",
    "\n",
    "encoder = OneHotEncoder(inputCol=\"AQIB_index\", outputCol=\"AQIB_vec\")\n",
    "ohe = encoder.fit(spark_df_ind) # indexer is the existing dataframe, see the question\n",
    "encoded = ohe.transform(spark_df_ind)\n",
    "encoded.show()"
   ]
  },
  {
   "cell_type": "code",
   "execution_count": 58,
   "metadata": {},
   "outputs": [
    {
     "data": {
      "text/plain": [
       "[('City', 'string'),\n",
       " ('Date', 'string'),\n",
       " ('PM25', 'float'),\n",
       " ('PM10', 'float'),\n",
       " ('NO2', 'float'),\n",
       " ('SO2', 'float'),\n",
       " ('O3', 'float'),\n",
       " ('AQI', 'float'),\n",
       " ('AQIBucket', 'string'),\n",
       " ('year', 'int'),\n",
       " ('AQII', 'float')]"
      ]
     },
     "execution_count": 58,
     "metadata": {},
     "output_type": "execute_result"
    }
   ],
   "source": [
    "\n",
    "spark_df_filled3.dtypes\n"
   ]
  },
  {
   "cell_type": "code",
   "execution_count": 59,
   "metadata": {},
   "outputs": [],
   "source": [
    "catCols = ['AQIBucket']\n",
    "numCols = ['PM25','PM10','NO2','SO2','O3']\n",
    "numcolout = ['AQII']"
   ]
  },
  {
   "cell_type": "code",
   "execution_count": null,
   "metadata": {},
   "outputs": [],
   "source": []
  },
  {
   "cell_type": "code",
   "execution_count": 60,
   "metadata": {},
   "outputs": [
    {
     "name": "stdout",
     "output_type": "stream",
     "text": [
      "['PM25', 'PM10', 'NO2', 'SO2', 'O3']\n",
      "['AQIBucket']\n",
      "['AQII']\n"
     ]
    }
   ],
   "source": [
    "print(numCols)\n",
    "print(catCols)\n",
    "print(numcolout)"
   ]
  },
  {
   "cell_type": "code",
   "execution_count": 61,
   "metadata": {},
   "outputs": [
    {
     "name": "stderr",
     "output_type": "stream",
     "text": [
      "\r",
      "[Stage 201:>                                                        (0 + 1) / 1]\r"
     ]
    },
    {
     "name": "stdout",
     "output_type": "stream",
     "text": [
      "+---------+----------+------+------+--------+---------+---------+-----+---------+----+-----+\n",
      "|     City|      Date|  PM25|  PM10|     NO2|      SO2|       O3|  AQI|AQIBucket|year| AQII|\n",
      "+---------+----------+------+------+--------+---------+---------+-----+---------+----+-----+\n",
      "|Ahmedabad|2015-07-24| 29.22|141.54|    9.57|    13.58|     5.08| 48.0|     Good|2015| 48.0|\n",
      "|Ahmedabad|2015-02-05| 58.36|141.54|   21.39|    32.66|    53.54|149.0| Moderate|2015|149.0|\n",
      "|Ahmedabad|2015-02-06| 79.29|141.54|   26.94|    67.41|     59.3|190.0| Moderate|2015|190.0|\n",
      "|Ahmedabad|2015-02-26| 61.12|141.54|28.56066|14.531978|34.491432| null| Moderate|2015|189.0|\n",
      "|Ahmedabad|2015-02-27| 61.12|141.54|28.56066|14.531978|34.491432| null| Moderate|2015|189.0|\n",
      "|Ahmedabad|2015-02-28| 61.12|141.54|28.56066|14.531978|34.491432| null| Moderate|2015|189.0|\n",
      "|Ahmedabad|2015-03-01| 61.12|141.54|   16.81|    28.44|    30.48| null| Moderate|2015|189.0|\n",
      "|Ahmedabad|2015-03-02| 60.78|141.54|   18.21|    29.48|    34.75|189.0| Moderate|2015|189.0|\n",
      "|Ahmedabad|2015-03-06|105.45|141.54|28.56066|14.531978|34.491432| null| Moderate|2015|190.0|\n",
      "|Ahmedabad|2015-03-07|105.45|141.54|    16.1|    29.29|     69.9| null| Moderate|2015|190.0|\n",
      "|Ahmedabad|2015-03-08| 71.56|141.54|   16.83|    30.28|    57.16|190.0| Moderate|2015|190.0|\n",
      "|Ahmedabad|2015-03-16| 30.76|141.54|   14.14|    43.62|    54.78|118.0| Moderate|2015|118.0|\n",
      "|Ahmedabad|2015-04-03| 53.07|141.54|   13.82|    40.36|    21.76|169.0| Moderate|2015|169.0|\n",
      "|Ahmedabad|2015-04-10| 134.6|141.54|   26.27|    34.53|      7.0| null| Moderate|2015|126.0|\n",
      "|Ahmedabad|2015-04-11| 61.06|141.54|   14.03|     8.08|    19.54|126.0| Moderate|2015|126.0|\n",
      "|Ahmedabad|2015-04-12| 39.42|141.54|   19.56|    17.66|     31.3|175.0| Moderate|2015|175.0|\n",
      "|Ahmedabad|2015-04-22| 63.38|141.54|   13.28|    24.79|    43.62|189.0| Moderate|2015|189.0|\n",
      "|Ahmedabad|2015-05-06| 65.11|141.54|    4.58|    22.27|    32.26|120.0| Moderate|2015|120.0|\n",
      "|Ahmedabad|2015-05-07| 51.03|141.54|   20.47|     15.5|    31.44|158.0| Moderate|2015|158.0|\n",
      "|Ahmedabad|2015-05-08| 38.73|141.54|   19.28|    20.13|     25.7|177.0| Moderate|2015|177.0|\n",
      "+---------+----------+------+------+--------+---------+---------+-----+---------+----+-----+\n",
      "only showing top 20 rows\n",
      "\n"
     ]
    },
    {
     "name": "stderr",
     "output_type": "stream",
     "text": [
      "\r",
      "                                                                                \r"
     ]
    }
   ],
   "source": [
    "spark_df_filled3.show()"
   ]
  },
  {
   "cell_type": "code",
   "execution_count": 62,
   "metadata": {},
   "outputs": [],
   "source": [
    "from pyspark.ml.feature import VectorAssembler, StandardScaler\n",
    "\n",
    "va = VectorAssembler(inputCols=numCols, outputCol=\"SS_features\")\n"
   ]
  },
  {
   "cell_type": "code",
   "execution_count": 63,
   "metadata": {},
   "outputs": [
    {
     "name": "stderr",
     "output_type": "stream",
     "text": [
      "\r",
      "[Stage 204:>                                                        (0 + 1) / 1]\r"
     ]
    },
    {
     "name": "stdout",
     "output_type": "stream",
     "text": [
      "+---------+----------+-----+------+-----+-----+-----+-----+---------+----+-----+---------------------------------------------------------------------------------------------+\n",
      "|City     |Date      |PM25 |PM10  |NO2  |SO2  |O3   |AQI  |AQIBucket|year|AQII |SS_features                                                                                  |\n",
      "+---------+----------+-----+------+-----+-----+-----+-----+---------+----+-----+---------------------------------------------------------------------------------------------+\n",
      "|Ahmedabad|2015-07-24|29.22|141.54|9.57 |13.58|5.08 |48.0 |Good     |2015|48.0 |[29.219999313354492,141.5399932861328,9.569999694824219,13.579999923706055,5.079999923706055]|\n",
      "|Ahmedabad|2015-02-05|58.36|141.54|21.39|32.66|53.54|149.0|Moderate |2015|149.0|[58.36000061035156,141.5399932861328,21.389999389648438,32.65999984741211,53.540000915527344]|\n",
      "+---------+----------+-----+------+-----+-----+-----+-----+---------+----+-----+---------------------------------------------------------------------------------------------+\n",
      "only showing top 2 rows\n",
      "\n"
     ]
    },
    {
     "name": "stderr",
     "output_type": "stream",
     "text": [
      "\r",
      "                                                                                \r"
     ]
    }
   ],
   "source": [
    "temp_train = va.transform(spark_df_filled3)\n",
    "\n",
    "temp_train.show(2, truncate=False)\n"
   ]
  },
  {
   "cell_type": "code",
   "execution_count": 64,
   "metadata": {},
   "outputs": [
    {
     "name": "stdout",
     "output_type": "stream",
     "text": [
      "+----------------------------------------------------------------------------------------------+\n",
      "|SS_features                                                                                   |\n",
      "+----------------------------------------------------------------------------------------------+\n",
      "|[73.23999786376953,141.5399932861328,18.219999313354492,27.639999389648438,133.36000061035156]|\n",
      "|[73.23999786376953,141.5399932861328,15.6899995803833,24.549999237060547,34.060001373291016]  |\n",
      "|[73.23999786376953,141.5399932861328,19.299999237060547,29.06999969482422,30.700000762939453] |\n",
      "|[73.23999786376953,141.5399932861328,18.479999542236328,18.59000015258789,36.08000183105469]  |\n",
      "|[73.23999786376953,141.5399932861328,21.420000076293945,39.33000183105469,39.310001373291016] |\n",
      "+----------------------------------------------------------------------------------------------+\n",
      "only showing top 5 rows\n",
      "\n"
     ]
    }
   ],
   "source": [
    "temp_train.select(\"SS_features\").show(5,truncate=False)"
   ]
  },
  {
   "cell_type": "code",
   "execution_count": 65,
   "metadata": {},
   "outputs": [
    {
     "name": "stderr",
     "output_type": "stream",
     "text": [
      "                                                                                \r"
     ]
    },
    {
     "name": "stdout",
     "output_type": "stream",
     "text": [
      "+------------------------------------------------------------------------------------------------+\n",
      "|Scaled                                                                                          |\n",
      "+------------------------------------------------------------------------------------------------+\n",
      "|[0.9840177349045087,1.5543764913423666,0.7942094548562738,1.6346239186491494,6.613949754761367] |\n",
      "|[0.9840177349045087,1.5543764913423666,0.6839268102660075,1.4518819407335726,1.6891956861056292]|\n",
      "|[0.9840177349045087,1.5543764913423666,0.8412866328462154,1.7191938446308173,1.5225574504193302]|\n",
      "|[0.9840177349045087,1.5543764913423666,0.8055428603351312,1.0994088121612657,1.789377010873911] |\n",
      "|[0.9840177349045087,1.5543764913423666,0.9336974327515865,2.325968275441939,1.9495678820682762] |\n",
      "+------------------------------------------------------------------------------------------------+\n",
      "only showing top 5 rows\n",
      "\n"
     ]
    }
   ],
   "source": [
    "ss=StandardScaler(inputCol=\"SS_features\", outputCol=\"Scaled\")\n",
    "train1 = ss.fit(temp_train).transform(temp_train)\n",
    "train1.select(\"Scaled\").show(5,truncate=False)"
   ]
  },
  {
   "cell_type": "code",
   "execution_count": 66,
   "metadata": {},
   "outputs": [
    {
     "name": "stderr",
     "output_type": "stream",
     "text": [
      "\r",
      "[Stage 219:>                                                        (0 + 1) / 1]\r"
     ]
    },
    {
     "name": "stdout",
     "output_type": "stream",
     "text": [
      "+---------+----------+------+------+--------+---------+---------+-----+---------+----+-----+--------------------+--------------------+\n",
      "|     City|      Date|  PM25|  PM10|     NO2|      SO2|       O3|  AQI|AQIBucket|year| AQII|         SS_features|              Scaled|\n",
      "+---------+----------+------+------+--------+---------+---------+-----+---------+----+-----+--------------------+--------------------+\n",
      "|Ahmedabad|2015-07-24| 29.22|141.54|    9.57|    13.58|     5.08| 48.0|     Good|2015| 48.0|[29.2199993133544...|[0.39258599640759...|\n",
      "|Ahmedabad|2015-02-05| 58.36|141.54|   21.39|    32.66|    53.54|149.0| Moderate|2015|149.0|[58.3600006103515...|[0.78409717756193...|\n",
      "|Ahmedabad|2015-02-06| 79.29|141.54|   26.94|    67.41|     59.3|190.0| Moderate|2015|190.0|[79.2900009155273...|[1.06530269493727...|\n",
      "|Ahmedabad|2015-02-26| 61.12|141.54|28.56066|14.531978|34.491432| null| Moderate|2015|189.0|[61.1199989318847...|[0.82117920071746...|\n",
      "|Ahmedabad|2015-02-27| 61.12|141.54|28.56066|14.531978|34.491432| null| Moderate|2015|189.0|[61.1199989318847...|[0.82117920071746...|\n",
      "|Ahmedabad|2015-02-28| 61.12|141.54|28.56066|14.531978|34.491432| null| Moderate|2015|189.0|[61.1199989318847...|[0.82117920071746...|\n",
      "|Ahmedabad|2015-03-01| 61.12|141.54|   16.81|    28.44|    30.48| null| Moderate|2015|189.0|[61.1199989318847...|[0.82117920071746...|\n",
      "|Ahmedabad|2015-03-02| 60.78|141.54|   18.21|    29.48|    34.75|189.0| Moderate|2015|189.0|[60.7799987792968...|[0.81661112057307...|\n",
      "|Ahmedabad|2015-03-06|105.45|141.54|28.56066|14.531978|34.491432| null| Moderate|2015|190.0|[105.449996948242...|[1.41677594441912...|\n",
      "|Ahmedabad|2015-03-07|105.45|141.54|    16.1|    29.29|     69.9| null| Moderate|2015|190.0|[105.449996948242...|[1.41677594441912...|\n",
      "|Ahmedabad|2015-03-08| 71.56|141.54|   16.83|    30.28|    57.16|190.0| Moderate|2015|190.0|[71.5599975585937...|[0.96144605080898...|\n",
      "|Ahmedabad|2015-03-16| 30.76|141.54|   14.14|    43.62|    54.78|118.0| Moderate|2015|118.0|[30.7600002288818...|[0.41327671537057...|\n",
      "|Ahmedabad|2015-04-03| 53.07|141.54|   13.82|    40.36|    21.76|169.0| Moderate|2015|169.0|[53.0699996948242...|[0.71302324432367...|\n",
      "|Ahmedabad|2015-04-10| 134.6|141.54|   26.27|    34.53|      7.0| null| Moderate|2015|126.0|[134.600006103515...|[1.80842158639158...|\n",
      "|Ahmedabad|2015-04-11| 61.06|141.54|   14.03|     8.08|    19.54|126.0| Moderate|2015|126.0|[61.0600013732910...|[0.82037310209063...|\n",
      "|Ahmedabad|2015-04-12| 39.42|141.54|   19.56|    17.66|     31.3|175.0| Moderate|2015|175.0|[39.4199981689453...|[0.52962832386064...|\n",
      "|Ahmedabad|2015-04-22| 63.38|141.54|   13.28|    24.79|    43.62|189.0| Moderate|2015|189.0|[63.3800010681152...|[0.85154351322208...|\n",
      "|Ahmedabad|2015-05-06| 65.11|141.54|    4.58|    22.27|    32.26|120.0| Moderate|2015|120.0|[65.1100006103515...|[0.87478696325745...|\n",
      "|Ahmedabad|2015-05-07| 51.03|141.54|   20.47|     15.5|    31.44|158.0| Moderate|2015|158.0|[51.0299987792968...|[0.68561476345732...|\n",
      "|Ahmedabad|2015-05-08| 38.73|141.54|   19.28|    20.13|     25.7|177.0| Moderate|2015|177.0|[38.7299995422363...|[0.52035783088487...|\n",
      "+---------+----------+------+------+--------+---------+---------+-----+---------+----+-----+--------------------+--------------------+\n",
      "only showing top 20 rows\n",
      "\n"
     ]
    },
    {
     "name": "stderr",
     "output_type": "stream",
     "text": [
      "\r",
      "                                                                                \r"
     ]
    }
   ],
   "source": [
    "train1.show()"
   ]
  },
  {
   "cell_type": "code",
   "execution_count": 67,
   "metadata": {},
   "outputs": [
    {
     "name": "stderr",
     "output_type": "stream",
     "text": [
      "                                                                                \r"
     ]
    },
    {
     "name": "stdout",
     "output_type": "stream",
     "text": [
      "+--------------------+\n",
      "|            MMScaled|\n",
      "+--------------------+\n",
      "|[0.07705668573830...|\n",
      "|[0.07705668573830...|\n",
      "|[0.07705668573830...|\n",
      "|[0.07705668573830...|\n",
      "|[0.07705668573830...|\n",
      "+--------------------+\n",
      "only showing top 5 rows\n",
      "\n"
     ]
    }
   ],
   "source": [
    "from pyspark.ml.feature import MinMaxScaler\n",
    "mms = MinMaxScaler(inputCol=\"SS_features\", outputCol=\"MMScaled\")\n",
    "train = mms.fit(temp_train).transform(temp_train)\n",
    "train.select(\"MMScaled\").show(5)"
   ]
  },
  {
   "cell_type": "code",
   "execution_count": 68,
   "metadata": {},
   "outputs": [
    {
     "name": "stderr",
     "output_type": "stream",
     "text": [
      "\r",
      "[Stage 231:>                                                        (0 + 1) / 1]\r"
     ]
    },
    {
     "name": "stdout",
     "output_type": "stream",
     "text": [
      "+---------+----------+-----+------+-----+-----+-----+-----+---------+----+-----+---------------------------------------------------------------------------------------------+-------------------------------------------------------------------------------------------------------+\n",
      "|City     |Date      |PM25 |PM10  |NO2  |SO2  |O3   |AQI  |AQIBucket|year|AQII |SS_features                                                                                  |MMScaled                                                                                               |\n",
      "+---------+----------+-----+------+-----+-----+-----+-----+---------+----+-----+---------------------------------------------------------------------------------------------+-------------------------------------------------------------------------------------------------------+\n",
      "|Ahmedabad|2015-07-24|29.22|141.54|9.57 |13.58|5.08 |48.0 |Good     |2015|48.0 |[29.219999313354492,141.5399932861328,9.569999694824219,13.579999923706055,5.079999923706055]|[0.030717405773141495,0.14153140860041072,0.026394257097125073,0.07000257870099429,0.01967251167079197]|\n",
      "|Ahmedabad|2015-02-05|58.36|141.54|21.39|32.66|53.54|149.0|Moderate |2015|149.0|[58.36000061035156,141.5399932861328,21.389999389648438,32.65999984741211,53.540000915527344]|[0.061392706153722706,0.14153140860041072,0.05902816094491934,0.16842919651687882,0.20770603225895473] |\n",
      "+---------+----------+-----+------+-----+-----+-----+-----+---------+----+-----+---------------------------------------------------------------------------------------------+-------------------------------------------------------------------------------------------------------+\n",
      "only showing top 2 rows\n",
      "\n"
     ]
    },
    {
     "name": "stderr",
     "output_type": "stream",
     "text": [
      "\r",
      "                                                                                \r"
     ]
    }
   ],
   "source": [
    "train.show(2, truncate=False)"
   ]
  },
  {
   "cell_type": "markdown",
   "metadata": {},
   "source": [
    "# linear regression"
   ]
  },
  {
   "cell_type": "code",
   "execution_count": 69,
   "metadata": {},
   "outputs": [
    {
     "name": "stdout",
     "output_type": "stream",
     "text": [
      "root\n",
      " |-- City: string (nullable = true)\n",
      " |-- Date: string (nullable = true)\n",
      " |-- PM25: float (nullable = true)\n",
      " |-- PM10: float (nullable = false)\n",
      " |-- NO2: float (nullable = false)\n",
      " |-- SO2: float (nullable = false)\n",
      " |-- O3: float (nullable = false)\n",
      " |-- AQI: float (nullable = true)\n",
      " |-- AQIBucket: string (nullable = true)\n",
      " |-- year: integer (nullable = true)\n",
      " |-- AQII: float (nullable = true)\n",
      " |-- features: vector (nullable = true)\n",
      "\n"
     ]
    },
    {
     "name": "stderr",
     "output_type": "stream",
     "text": [
      "                                                                                \r"
     ]
    },
    {
     "data": {
      "text/html": [
       "<div>\n",
       "<style scoped>\n",
       "    .dataframe tbody tr th:only-of-type {\n",
       "        vertical-align: middle;\n",
       "    }\n",
       "\n",
       "    .dataframe tbody tr th {\n",
       "        vertical-align: top;\n",
       "    }\n",
       "\n",
       "    .dataframe thead th {\n",
       "        text-align: right;\n",
       "    }\n",
       "</style>\n",
       "<table border=\"1\" class=\"dataframe\">\n",
       "  <thead>\n",
       "    <tr style=\"text-align: right;\">\n",
       "      <th></th>\n",
       "      <th>features</th>\n",
       "    </tr>\n",
       "  </thead>\n",
       "  <tbody>\n",
       "    <tr>\n",
       "      <th>0</th>\n",
       "      <td>[73.23999786376953, 18.219999313354492, 27.639...</td>\n",
       "    </tr>\n",
       "    <tr>\n",
       "      <th>1</th>\n",
       "      <td>[73.23999786376953, 15.6899995803833, 24.54999...</td>\n",
       "    </tr>\n",
       "    <tr>\n",
       "      <th>2</th>\n",
       "      <td>[73.23999786376953, 19.299999237060547, 29.069...</td>\n",
       "    </tr>\n",
       "    <tr>\n",
       "      <th>3</th>\n",
       "      <td>[73.23999786376953, 18.479999542236328, 18.590...</td>\n",
       "    </tr>\n",
       "    <tr>\n",
       "      <th>4</th>\n",
       "      <td>[73.23999786376953, 21.420000076293945, 39.330...</td>\n",
       "    </tr>\n",
       "  </tbody>\n",
       "</table>\n",
       "</div>"
      ],
      "text/plain": [
       "                                            features\n",
       "0  [73.23999786376953, 18.219999313354492, 27.639...\n",
       "1  [73.23999786376953, 15.6899995803833, 24.54999...\n",
       "2  [73.23999786376953, 19.299999237060547, 29.069...\n",
       "3  [73.23999786376953, 18.479999542236328, 18.590...\n",
       "4  [73.23999786376953, 21.420000076293945, 39.330..."
      ]
     },
     "execution_count": 69,
     "metadata": {},
     "output_type": "execute_result"
    }
   ],
   "source": [
    "from pyspark.ml.feature import VectorAssembler\n",
    "\n",
    "catCols = ['AQIBucket']\n",
    "numCols = ['PM25','PM10','NO2','SO2','O3']\n",
    "numcolout = ['AQII']\n",
    "\n",
    "# The input columns are the feature column names, and the output column is what you'd like the new column to be named. \n",
    "assembler = VectorAssembler(\n",
    "    inputCols=[\"PM25\",\"NO2\",\"SO2\",\"O3\"],\n",
    "    outputCol=\"features\")\n",
    "\n",
    "# Now that we've created the assembler variable, let's actually transform the data.\n",
    "output = assembler.transform(spark_df_filled3)\n",
    "\n",
    "\n",
    "# Using print schema, you see that the features output column has been added. \n",
    "output.printSchema()\n",
    "\n",
    "# You can see that the features column is a dense vector that combines the various features as expected.\n",
    "output.head()\n",
    "\n",
    "output.select(['features']).toPandas().head()\n"
   ]
  },
  {
   "cell_type": "code",
   "execution_count": 70,
   "metadata": {},
   "outputs": [
    {
     "name": "stderr",
     "output_type": "stream",
     "text": [
      "\r",
      "[Stage 240:>                                                        (0 + 1) / 1]\r"
     ]
    },
    {
     "name": "stdout",
     "output_type": "stream",
     "text": [
      "+--------------------+-----+\n",
      "|            features| AQII|\n",
      "+--------------------+-----+\n",
      "|[29.2199993133544...| 48.0|\n",
      "|[58.3600006103515...|149.0|\n",
      "|[79.2900009155273...|190.0|\n",
      "|[61.1199989318847...|189.0|\n",
      "|[61.1199989318847...|189.0|\n",
      "|[61.1199989318847...|189.0|\n",
      "|[61.1199989318847...|189.0|\n",
      "|[60.7799987792968...|189.0|\n",
      "|[105.449996948242...|190.0|\n",
      "|[105.449996948242...|190.0|\n",
      "|[71.5599975585937...|190.0|\n",
      "|[30.7600002288818...|118.0|\n",
      "|[53.0699996948242...|169.0|\n",
      "|[134.600006103515...|126.0|\n",
      "|[61.0600013732910...|126.0|\n",
      "|[39.4199981689453...|175.0|\n",
      "|[63.3800010681152...|189.0|\n",
      "|[65.1100006103515...|120.0|\n",
      "|[51.0299987792968...|158.0|\n",
      "|[38.7299995422363...|177.0|\n",
      "+--------------------+-----+\n",
      "only showing top 20 rows\n",
      "\n"
     ]
    },
    {
     "name": "stderr",
     "output_type": "stream",
     "text": [
      "\r",
      "                                                                                \r"
     ]
    }
   ],
   "source": [
    "# Let's select two columns (the feature and predictor).\n",
    "# This is now in the appropriate format to be processed by Spark.\n",
    "final_data = output.select(\"features\",'AQII')\n",
    "final_data.show()"
   ]
  },
  {
   "cell_type": "code",
   "execution_count": 71,
   "metadata": {},
   "outputs": [],
   "source": [
    "# Let's do a randomised 70/30 split. \n",
    "# Remember, you can use other splits depending on how easy/difficult it is to train your model.\n",
    "train_data,test_data = final_data.randomSplit([0.7,0.3])"
   ]
  },
  {
   "cell_type": "code",
   "execution_count": 72,
   "metadata": {},
   "outputs": [
    {
     "name": "stderr",
     "output_type": "stream",
     "text": [
      "                                                                                \r"
     ]
    },
    {
     "name": "stdout",
     "output_type": "stream",
     "text": [
      "+-------+------------------+\n",
      "|summary|              AQII|\n",
      "+-------+------------------+\n",
      "|  count|             20632|\n",
      "|   mean|163.08569212873206|\n",
      "| stddev|137.57673523336547|\n",
      "|    min|              13.0|\n",
      "|    max|            2049.0|\n",
      "+-------+------------------+\n",
      "\n"
     ]
    },
    {
     "name": "stderr",
     "output_type": "stream",
     "text": [
      "\r",
      "[Stage 249:>                                                        (0 + 1) / 1]\r"
     ]
    },
    {
     "name": "stdout",
     "output_type": "stream",
     "text": [
      "+-------+------------------+\n",
      "|summary|              AQII|\n",
      "+-------+------------------+\n",
      "|  count|              8899|\n",
      "|   mean| 162.7931228227891|\n",
      "| stddev|144.57287139235146|\n",
      "|    min|              14.0|\n",
      "|    max|            1917.0|\n",
      "+-------+------------------+\n",
      "\n"
     ]
    },
    {
     "name": "stderr",
     "output_type": "stream",
     "text": [
      "\r",
      "                                                                                \r"
     ]
    }
   ],
   "source": [
    "# Let's see our training data.\n",
    "train_data.describe().show()\n",
    "\n",
    "# And our testing data.\n",
    "test_data.describe().show()"
   ]
  },
  {
   "cell_type": "code",
   "execution_count": 73,
   "metadata": {},
   "outputs": [
    {
     "name": "stderr",
     "output_type": "stream",
     "text": [
      "22/10/10 20:34:34 WARN Instrumentation: [1cf0746f] regParam is zero, which might cause numerical instability and overfitting.\n",
      "22/10/10 20:34:39 WARN InstanceBuilder$NativeBLAS: Failed to load implementation from:dev.ludovic.netlib.blas.JNIBLAS\n",
      "22/10/10 20:34:39 WARN InstanceBuilder$NativeBLAS: Failed to load implementation from:dev.ludovic.netlib.blas.ForeignLinkerBLAS\n",
      "22/10/10 20:34:39 WARN InstanceBuilder$NativeLAPACK: Failed to load implementation from:dev.ludovic.netlib.lapack.JNILAPACK\n",
      "                                                                                \r"
     ]
    }
   ],
   "source": [
    "#import LinearRegression library\n",
    "from pyspark.ml.regression import LinearRegression\n",
    "\n",
    "lr = LinearRegression(labelCol='AQII')\n",
    "# Fit the model to the data.\n",
    "lrModel = lr.fit(train_data)"
   ]
  },
  {
   "cell_type": "code",
   "execution_count": 74,
   "metadata": {},
   "outputs": [
    {
     "name": "stdout",
     "output_type": "stream",
     "text": [
      "Coefficients: [0.8898279107115158,1.6299339681124778,2.0200504221215794,0.08129726388096958] Intercept: 22.099463056932372\n"
     ]
    }
   ],
   "source": [
    "# Print the coefficients and intercept for linear regression.\n",
    "print(\"Coefficients: {} Intercept: {}\".format(lrModel.coefficients,lrModel.intercept))"
   ]
  },
  {
   "cell_type": "code",
   "execution_count": 75,
   "metadata": {},
   "outputs": [
    {
     "name": "stderr",
     "output_type": "stream",
     "text": [
      "                                                                                \r"
     ]
    }
   ],
   "source": [
    "# Let's evaluate the model against the test data.\n",
    "test_results = lrModel.evaluate(test_data)"
   ]
  },
  {
   "cell_type": "code",
   "execution_count": 76,
   "metadata": {},
   "outputs": [
    {
     "name": "stderr",
     "output_type": "stream",
     "text": [
      "\r",
      "[Stage 265:>                                                        (0 + 1) / 1]\r"
     ]
    },
    {
     "name": "stdout",
     "output_type": "stream",
     "text": [
      "+-------------------+\n",
      "|          residuals|\n",
      "+-------------------+\n",
      "| -5.642458907605246|\n",
      "|-31.973044646079643|\n",
      "| -7.288216667794696|\n",
      "|-34.586327294769276|\n",
      "|-26.729099119124527|\n",
      "|  32.24131709342868|\n",
      "| 19.628625694522647|\n",
      "| 62.358634300834225|\n",
      "|-10.271864999273152|\n",
      "|-25.168882684496054|\n",
      "| 12.962330420409629|\n",
      "|-33.545474399553825|\n",
      "| -9.187564737823507|\n",
      "|-12.728746079762061|\n",
      "| 104.60975158657058|\n",
      "| -21.64705042132568|\n",
      "| 62.918612681385056|\n",
      "|-28.993106725003244|\n",
      "|  10.49876418020142|\n",
      "| -28.95304382127381|\n",
      "+-------------------+\n",
      "only showing top 20 rows\n",
      "\n",
      "RSME: 102.24934796214993\n"
     ]
    },
    {
     "name": "stderr",
     "output_type": "stream",
     "text": [
      "\r",
      "                                                                                \r"
     ]
    }
   ],
   "source": [
    "# Interesting results! This shows the difference between the predicted value and the test data.\n",
    "test_results.residuals.show()\n",
    "\n",
    "# Let's get some evaluation metrics (as discussed in the previous linear regression notebook).\n",
    "print(\"RSME: {}\".format(test_results.rootMeanSquaredError))"
   ]
  },
  {
   "cell_type": "code",
   "execution_count": 77,
   "metadata": {},
   "outputs": [
    {
     "name": "stdout",
     "output_type": "stream",
     "text": [
      "R2: 0.4997394153184267\n"
     ]
    },
    {
     "name": "stderr",
     "output_type": "stream",
     "text": [
      "\r",
      "[Stage 268:>                                                        (0 + 1) / 1]\r"
     ]
    },
    {
     "name": "stdout",
     "output_type": "stream",
     "text": [
      "+-------+------------------+\n",
      "|summary|              AQII|\n",
      "+-------+------------------+\n",
      "|  count|             29531|\n",
      "|   mean|162.99752802140125|\n",
      "| stddev|  139.719466261042|\n",
      "|    min|              13.0|\n",
      "|    max|            2049.0|\n",
      "+-------+------------------+\n",
      "\n"
     ]
    },
    {
     "name": "stderr",
     "output_type": "stream",
     "text": [
      "\r",
      "                                                                                \r"
     ]
    }
   ],
   "source": [
    "# We can also get the R2 value. \n",
    "print(\"R2: {}\".format(test_results.r2))\n",
    "final_data.describe().show()"
   ]
  },
  {
   "cell_type": "code",
   "execution_count": 78,
   "metadata": {},
   "outputs": [
    {
     "name": "stderr",
     "output_type": "stream",
     "text": [
      "\r",
      "[Stage 274:>                                                        (0 + 1) / 1]\r"
     ]
    },
    {
     "name": "stdout",
     "output_type": "stream",
     "text": [
      "+---------+----------+------+------+--------+---------+---------+-----+---------+----+-----+\n",
      "|     City|      Date|  PM25|  PM10|     NO2|      SO2|       O3|  AQI|AQIBucket|year| AQII|\n",
      "+---------+----------+------+------+--------+---------+---------+-----+---------+----+-----+\n",
      "|Ahmedabad|2015-07-24| 29.22|141.54|    9.57|    13.58|     5.08| 48.0|     Good|2015| 48.0|\n",
      "|Ahmedabad|2015-02-05| 58.36|141.54|   21.39|    32.66|    53.54|149.0| Moderate|2015|149.0|\n",
      "|Ahmedabad|2015-02-06| 79.29|141.54|   26.94|    67.41|     59.3|190.0| Moderate|2015|190.0|\n",
      "|Ahmedabad|2015-02-26| 61.12|141.54|28.56066|14.531978|34.491432| null| Moderate|2015|189.0|\n",
      "|Ahmedabad|2015-02-27| 61.12|141.54|28.56066|14.531978|34.491432| null| Moderate|2015|189.0|\n",
      "|Ahmedabad|2015-02-28| 61.12|141.54|28.56066|14.531978|34.491432| null| Moderate|2015|189.0|\n",
      "|Ahmedabad|2015-03-01| 61.12|141.54|   16.81|    28.44|    30.48| null| Moderate|2015|189.0|\n",
      "|Ahmedabad|2015-03-02| 60.78|141.54|   18.21|    29.48|    34.75|189.0| Moderate|2015|189.0|\n",
      "|Ahmedabad|2015-03-06|105.45|141.54|28.56066|14.531978|34.491432| null| Moderate|2015|190.0|\n",
      "|Ahmedabad|2015-03-07|105.45|141.54|    16.1|    29.29|     69.9| null| Moderate|2015|190.0|\n",
      "|Ahmedabad|2015-03-08| 71.56|141.54|   16.83|    30.28|    57.16|190.0| Moderate|2015|190.0|\n",
      "|Ahmedabad|2015-03-16| 30.76|141.54|   14.14|    43.62|    54.78|118.0| Moderate|2015|118.0|\n",
      "|Ahmedabad|2015-04-03| 53.07|141.54|   13.82|    40.36|    21.76|169.0| Moderate|2015|169.0|\n",
      "|Ahmedabad|2015-04-10| 134.6|141.54|   26.27|    34.53|      7.0| null| Moderate|2015|126.0|\n",
      "|Ahmedabad|2015-04-11| 61.06|141.54|   14.03|     8.08|    19.54|126.0| Moderate|2015|126.0|\n",
      "|Ahmedabad|2015-04-12| 39.42|141.54|   19.56|    17.66|     31.3|175.0| Moderate|2015|175.0|\n",
      "|Ahmedabad|2015-04-22| 63.38|141.54|   13.28|    24.79|    43.62|189.0| Moderate|2015|189.0|\n",
      "|Ahmedabad|2015-05-06| 65.11|141.54|    4.58|    22.27|    32.26|120.0| Moderate|2015|120.0|\n",
      "|Ahmedabad|2015-05-07| 51.03|141.54|   20.47|     15.5|    31.44|158.0| Moderate|2015|158.0|\n",
      "|Ahmedabad|2015-05-08| 38.73|141.54|   19.28|    20.13|     25.7|177.0| Moderate|2015|177.0|\n",
      "+---------+----------+------+------+--------+---------+---------+-----+---------+----+-----+\n",
      "only showing top 20 rows\n",
      "\n"
     ]
    },
    {
     "name": "stderr",
     "output_type": "stream",
     "text": [
      "\r",
      "                                                                                \r"
     ]
    }
   ],
   "source": [
    "spark_df_filled3.show()"
   ]
  },
  {
   "cell_type": "code",
   "execution_count": null,
   "metadata": {},
   "outputs": [],
   "source": []
  },
  {
   "cell_type": "code",
   "execution_count": 79,
   "metadata": {},
   "outputs": [
    {
     "name": "stderr",
     "output_type": "stream",
     "text": [
      "                                                                                \r"
     ]
    },
    {
     "name": "stdout",
     "output_type": "stream",
     "text": [
      "+---------+----------+------+------+--------+---------+---------+-----+---------+----+-----+----------+\n",
      "|     City|      Date|  PM25|  PM10|     NO2|      SO2|       O3|  AQI|AQIBucket|year| AQII|City_index|\n",
      "+---------+----------+------+------+--------+---------+---------+-----+---------+----+-----+----------+\n",
      "|Ahmedabad|2015-07-24| 29.22|141.54|    9.57|    13.58|     5.08| 48.0|     Good|2015| 48.0|       0.0|\n",
      "|Ahmedabad|2015-02-05| 58.36|141.54|   21.39|    32.66|    53.54|149.0| Moderate|2015|149.0|       0.0|\n",
      "|Ahmedabad|2015-02-06| 79.29|141.54|   26.94|    67.41|     59.3|190.0| Moderate|2015|190.0|       0.0|\n",
      "|Ahmedabad|2015-02-26| 61.12|141.54|28.56066|14.531978|34.491432| null| Moderate|2015|189.0|       0.0|\n",
      "|Ahmedabad|2015-02-27| 61.12|141.54|28.56066|14.531978|34.491432| null| Moderate|2015|189.0|       0.0|\n",
      "|Ahmedabad|2015-02-28| 61.12|141.54|28.56066|14.531978|34.491432| null| Moderate|2015|189.0|       0.0|\n",
      "|Ahmedabad|2015-03-01| 61.12|141.54|   16.81|    28.44|    30.48| null| Moderate|2015|189.0|       0.0|\n",
      "|Ahmedabad|2015-03-02| 60.78|141.54|   18.21|    29.48|    34.75|189.0| Moderate|2015|189.0|       0.0|\n",
      "|Ahmedabad|2015-03-06|105.45|141.54|28.56066|14.531978|34.491432| null| Moderate|2015|190.0|       0.0|\n",
      "|Ahmedabad|2015-03-07|105.45|141.54|    16.1|    29.29|     69.9| null| Moderate|2015|190.0|       0.0|\n",
      "|Ahmedabad|2015-03-08| 71.56|141.54|   16.83|    30.28|    57.16|190.0| Moderate|2015|190.0|       0.0|\n",
      "|Ahmedabad|2015-03-16| 30.76|141.54|   14.14|    43.62|    54.78|118.0| Moderate|2015|118.0|       0.0|\n",
      "|Ahmedabad|2015-04-03| 53.07|141.54|   13.82|    40.36|    21.76|169.0| Moderate|2015|169.0|       0.0|\n",
      "|Ahmedabad|2015-04-10| 134.6|141.54|   26.27|    34.53|      7.0| null| Moderate|2015|126.0|       0.0|\n",
      "|Ahmedabad|2015-04-11| 61.06|141.54|   14.03|     8.08|    19.54|126.0| Moderate|2015|126.0|       0.0|\n",
      "|Ahmedabad|2015-04-12| 39.42|141.54|   19.56|    17.66|     31.3|175.0| Moderate|2015|175.0|       0.0|\n",
      "|Ahmedabad|2015-04-22| 63.38|141.54|   13.28|    24.79|    43.62|189.0| Moderate|2015|189.0|       0.0|\n",
      "|Ahmedabad|2015-05-06| 65.11|141.54|    4.58|    22.27|    32.26|120.0| Moderate|2015|120.0|       0.0|\n",
      "|Ahmedabad|2015-05-07| 51.03|141.54|   20.47|     15.5|    31.44|158.0| Moderate|2015|158.0|       0.0|\n",
      "|Ahmedabad|2015-05-08| 38.73|141.54|   19.28|    20.13|     25.7|177.0| Moderate|2015|177.0|       0.0|\n",
      "+---------+----------+------+------+--------+---------+---------+-----+---------+----+-----+----------+\n",
      "only showing top 20 rows\n",
      "\n"
     ]
    },
    {
     "name": "stderr",
     "output_type": "stream",
     "text": [
      "\r",
      "[Stage 283:>                                                        (0 + 1) / 1]\r"
     ]
    },
    {
     "name": "stdout",
     "output_type": "stream",
     "text": [
      "+---------+----------+------+------+--------+---------+---------+-----+---------+----+-----+----------+--------------+\n",
      "|     City|      Date|  PM25|  PM10|     NO2|      SO2|       O3|  AQI|AQIBucket|year| AQII|City_index|      City_vec|\n",
      "+---------+----------+------+------+--------+---------+---------+-----+---------+----+-----+----------+--------------+\n",
      "|Ahmedabad|2015-07-24| 29.22|141.54|    9.57|    13.58|     5.08| 48.0|     Good|2015| 48.0|       0.0|(25,[0],[1.0])|\n",
      "|Ahmedabad|2015-02-05| 58.36|141.54|   21.39|    32.66|    53.54|149.0| Moderate|2015|149.0|       0.0|(25,[0],[1.0])|\n",
      "|Ahmedabad|2015-02-06| 79.29|141.54|   26.94|    67.41|     59.3|190.0| Moderate|2015|190.0|       0.0|(25,[0],[1.0])|\n",
      "|Ahmedabad|2015-02-26| 61.12|141.54|28.56066|14.531978|34.491432| null| Moderate|2015|189.0|       0.0|(25,[0],[1.0])|\n",
      "|Ahmedabad|2015-02-27| 61.12|141.54|28.56066|14.531978|34.491432| null| Moderate|2015|189.0|       0.0|(25,[0],[1.0])|\n",
      "|Ahmedabad|2015-02-28| 61.12|141.54|28.56066|14.531978|34.491432| null| Moderate|2015|189.0|       0.0|(25,[0],[1.0])|\n",
      "|Ahmedabad|2015-03-01| 61.12|141.54|   16.81|    28.44|    30.48| null| Moderate|2015|189.0|       0.0|(25,[0],[1.0])|\n",
      "|Ahmedabad|2015-03-02| 60.78|141.54|   18.21|    29.48|    34.75|189.0| Moderate|2015|189.0|       0.0|(25,[0],[1.0])|\n",
      "|Ahmedabad|2015-03-06|105.45|141.54|28.56066|14.531978|34.491432| null| Moderate|2015|190.0|       0.0|(25,[0],[1.0])|\n",
      "|Ahmedabad|2015-03-07|105.45|141.54|    16.1|    29.29|     69.9| null| Moderate|2015|190.0|       0.0|(25,[0],[1.0])|\n",
      "|Ahmedabad|2015-03-08| 71.56|141.54|   16.83|    30.28|    57.16|190.0| Moderate|2015|190.0|       0.0|(25,[0],[1.0])|\n",
      "|Ahmedabad|2015-03-16| 30.76|141.54|   14.14|    43.62|    54.78|118.0| Moderate|2015|118.0|       0.0|(25,[0],[1.0])|\n",
      "|Ahmedabad|2015-04-03| 53.07|141.54|   13.82|    40.36|    21.76|169.0| Moderate|2015|169.0|       0.0|(25,[0],[1.0])|\n",
      "|Ahmedabad|2015-04-10| 134.6|141.54|   26.27|    34.53|      7.0| null| Moderate|2015|126.0|       0.0|(25,[0],[1.0])|\n",
      "|Ahmedabad|2015-04-11| 61.06|141.54|   14.03|     8.08|    19.54|126.0| Moderate|2015|126.0|       0.0|(25,[0],[1.0])|\n",
      "|Ahmedabad|2015-04-12| 39.42|141.54|   19.56|    17.66|     31.3|175.0| Moderate|2015|175.0|       0.0|(25,[0],[1.0])|\n",
      "|Ahmedabad|2015-04-22| 63.38|141.54|   13.28|    24.79|    43.62|189.0| Moderate|2015|189.0|       0.0|(25,[0],[1.0])|\n",
      "|Ahmedabad|2015-05-06| 65.11|141.54|    4.58|    22.27|    32.26|120.0| Moderate|2015|120.0|       0.0|(25,[0],[1.0])|\n",
      "|Ahmedabad|2015-05-07| 51.03|141.54|   20.47|     15.5|    31.44|158.0| Moderate|2015|158.0|       0.0|(25,[0],[1.0])|\n",
      "|Ahmedabad|2015-05-08| 38.73|141.54|   19.28|    20.13|     25.7|177.0| Moderate|2015|177.0|       0.0|(25,[0],[1.0])|\n",
      "+---------+----------+------+------+--------+---------+---------+-----+---------+----+-----+----------+--------------+\n",
      "only showing top 20 rows\n",
      "\n"
     ]
    },
    {
     "name": "stderr",
     "output_type": "stream",
     "text": [
      "\r",
      "                                                                                \r"
     ]
    }
   ],
   "source": [
    "##transform with String Indexer and OneHotEncoder\n",
    "\n",
    "from pyspark.ml import Pipeline\n",
    "from pyspark.ml.feature import StringIndexer, OneHotEncoder\n",
    "\n",
    "\n",
    "indexer0 = StringIndexer(inputCol=\"City\", outputCol=\"City_index\").fit(spark_df_filled3)\n",
    "spark_df = indexer0.transform(spark_df_filled3)\n",
    "spark_df.show()\n",
    "\n",
    "###one hot encoder\n",
    "\n",
    "encoder0 = OneHotEncoder(inputCol=\"City_index\", outputCol=\"City_vec\")\n",
    "ohe = encoder0.fit(spark_df) # indexer is the existing dataframe, see the question\n",
    "encoded0 = ohe.transform(spark_df)\n",
    "encoded0.show()\n",
    "\n",
    "\n",
    "\n"
   ]
  },
  {
   "cell_type": "code",
   "execution_count": 80,
   "metadata": {},
   "outputs": [
    {
     "name": "stderr",
     "output_type": "stream",
     "text": [
      "[Stage 292:>                                                        (0 + 1) / 1]\r"
     ]
    },
    {
     "name": "stdout",
     "output_type": "stream",
     "text": [
      "+---------+----------+------+------+--------+---------+---------+-----+---------+----+-----+----------+--------------+----------+\n",
      "|     City|      Date|  PM25|  PM10|     NO2|      SO2|       O3|  AQI|AQIBucket|year| AQII|City_index|      City_vec|AQIB_index|\n",
      "+---------+----------+------+------+--------+---------+---------+-----+---------+----+-----+----------+--------------+----------+\n",
      "|Ahmedabad|2015-07-24| 29.22|141.54|    9.57|    13.58|     5.08| 48.0|     Good|2015| 48.0|       0.0|(25,[0],[1.0])|       4.0|\n",
      "|Ahmedabad|2015-02-05| 58.36|141.54|   21.39|    32.66|    53.54|149.0| Moderate|2015|149.0|       0.0|(25,[0],[1.0])|       0.0|\n",
      "|Ahmedabad|2015-02-06| 79.29|141.54|   26.94|    67.41|     59.3|190.0| Moderate|2015|190.0|       0.0|(25,[0],[1.0])|       0.0|\n",
      "|Ahmedabad|2015-02-26| 61.12|141.54|28.56066|14.531978|34.491432| null| Moderate|2015|189.0|       0.0|(25,[0],[1.0])|       0.0|\n",
      "|Ahmedabad|2015-02-27| 61.12|141.54|28.56066|14.531978|34.491432| null| Moderate|2015|189.0|       0.0|(25,[0],[1.0])|       0.0|\n",
      "|Ahmedabad|2015-02-28| 61.12|141.54|28.56066|14.531978|34.491432| null| Moderate|2015|189.0|       0.0|(25,[0],[1.0])|       0.0|\n",
      "|Ahmedabad|2015-03-01| 61.12|141.54|   16.81|    28.44|    30.48| null| Moderate|2015|189.0|       0.0|(25,[0],[1.0])|       0.0|\n",
      "|Ahmedabad|2015-03-02| 60.78|141.54|   18.21|    29.48|    34.75|189.0| Moderate|2015|189.0|       0.0|(25,[0],[1.0])|       0.0|\n",
      "|Ahmedabad|2015-03-06|105.45|141.54|28.56066|14.531978|34.491432| null| Moderate|2015|190.0|       0.0|(25,[0],[1.0])|       0.0|\n",
      "|Ahmedabad|2015-03-07|105.45|141.54|    16.1|    29.29|     69.9| null| Moderate|2015|190.0|       0.0|(25,[0],[1.0])|       0.0|\n",
      "|Ahmedabad|2015-03-08| 71.56|141.54|   16.83|    30.28|    57.16|190.0| Moderate|2015|190.0|       0.0|(25,[0],[1.0])|       0.0|\n",
      "|Ahmedabad|2015-03-16| 30.76|141.54|   14.14|    43.62|    54.78|118.0| Moderate|2015|118.0|       0.0|(25,[0],[1.0])|       0.0|\n",
      "|Ahmedabad|2015-04-03| 53.07|141.54|   13.82|    40.36|    21.76|169.0| Moderate|2015|169.0|       0.0|(25,[0],[1.0])|       0.0|\n",
      "|Ahmedabad|2015-04-10| 134.6|141.54|   26.27|    34.53|      7.0| null| Moderate|2015|126.0|       0.0|(25,[0],[1.0])|       0.0|\n",
      "|Ahmedabad|2015-04-11| 61.06|141.54|   14.03|     8.08|    19.54|126.0| Moderate|2015|126.0|       0.0|(25,[0],[1.0])|       0.0|\n",
      "|Ahmedabad|2015-04-12| 39.42|141.54|   19.56|    17.66|     31.3|175.0| Moderate|2015|175.0|       0.0|(25,[0],[1.0])|       0.0|\n",
      "|Ahmedabad|2015-04-22| 63.38|141.54|   13.28|    24.79|    43.62|189.0| Moderate|2015|189.0|       0.0|(25,[0],[1.0])|       0.0|\n",
      "|Ahmedabad|2015-05-06| 65.11|141.54|    4.58|    22.27|    32.26|120.0| Moderate|2015|120.0|       0.0|(25,[0],[1.0])|       0.0|\n",
      "|Ahmedabad|2015-05-07| 51.03|141.54|   20.47|     15.5|    31.44|158.0| Moderate|2015|158.0|       0.0|(25,[0],[1.0])|       0.0|\n",
      "|Ahmedabad|2015-05-08| 38.73|141.54|   19.28|    20.13|     25.7|177.0| Moderate|2015|177.0|       0.0|(25,[0],[1.0])|       0.0|\n",
      "+---------+----------+------+------+--------+---------+---------+-----+---------+----+-----+----------+--------------+----------+\n",
      "only showing top 20 rows\n",
      "\n"
     ]
    },
    {
     "name": "stderr",
     "output_type": "stream",
     "text": [
      "\r",
      "                                                                                \r"
     ]
    }
   ],
   "source": [
    "##transform with String Indexer and OneHotEncoder\n",
    "\n",
    "indexer1 = StringIndexer(inputCol=\"AQIBucket\", outputCol=\"AQIB_index\").fit(encoded0)\n",
    "spark_df_ind1 = indexer1.transform(encoded0)\n",
    "spark_df_ind1.show()\n",
    "\n"
   ]
  },
  {
   "cell_type": "code",
   "execution_count": 81,
   "metadata": {},
   "outputs": [
    {
     "name": "stderr",
     "output_type": "stream",
     "text": [
      "\r",
      "[Stage 295:>                                                        (0 + 1) / 1]\r"
     ]
    },
    {
     "name": "stdout",
     "output_type": "stream",
     "text": [
      "+---------+----------+------+------+--------+---------+---------+-----+---------+----+-----+----------+--------------+----------+-------------+\n",
      "|     City|      Date|  PM25|  PM10|     NO2|      SO2|       O3|  AQI|AQIBucket|year| AQII|City_index|      City_vec|AQIB_index|     AQIB_vec|\n",
      "+---------+----------+------+------+--------+---------+---------+-----+---------+----+-----+----------+--------------+----------+-------------+\n",
      "|Ahmedabad|2015-07-24| 29.22|141.54|    9.57|    13.58|     5.08| 48.0|     Good|2015| 48.0|       0.0|(25,[0],[1.0])|       4.0|(5,[4],[1.0])|\n",
      "|Ahmedabad|2015-02-05| 58.36|141.54|   21.39|    32.66|    53.54|149.0| Moderate|2015|149.0|       0.0|(25,[0],[1.0])|       0.0|(5,[0],[1.0])|\n",
      "|Ahmedabad|2015-02-06| 79.29|141.54|   26.94|    67.41|     59.3|190.0| Moderate|2015|190.0|       0.0|(25,[0],[1.0])|       0.0|(5,[0],[1.0])|\n",
      "|Ahmedabad|2015-02-26| 61.12|141.54|28.56066|14.531978|34.491432| null| Moderate|2015|189.0|       0.0|(25,[0],[1.0])|       0.0|(5,[0],[1.0])|\n",
      "|Ahmedabad|2015-02-27| 61.12|141.54|28.56066|14.531978|34.491432| null| Moderate|2015|189.0|       0.0|(25,[0],[1.0])|       0.0|(5,[0],[1.0])|\n",
      "|Ahmedabad|2015-02-28| 61.12|141.54|28.56066|14.531978|34.491432| null| Moderate|2015|189.0|       0.0|(25,[0],[1.0])|       0.0|(5,[0],[1.0])|\n",
      "|Ahmedabad|2015-03-01| 61.12|141.54|   16.81|    28.44|    30.48| null| Moderate|2015|189.0|       0.0|(25,[0],[1.0])|       0.0|(5,[0],[1.0])|\n",
      "|Ahmedabad|2015-03-02| 60.78|141.54|   18.21|    29.48|    34.75|189.0| Moderate|2015|189.0|       0.0|(25,[0],[1.0])|       0.0|(5,[0],[1.0])|\n",
      "|Ahmedabad|2015-03-06|105.45|141.54|28.56066|14.531978|34.491432| null| Moderate|2015|190.0|       0.0|(25,[0],[1.0])|       0.0|(5,[0],[1.0])|\n",
      "|Ahmedabad|2015-03-07|105.45|141.54|    16.1|    29.29|     69.9| null| Moderate|2015|190.0|       0.0|(25,[0],[1.0])|       0.0|(5,[0],[1.0])|\n",
      "|Ahmedabad|2015-03-08| 71.56|141.54|   16.83|    30.28|    57.16|190.0| Moderate|2015|190.0|       0.0|(25,[0],[1.0])|       0.0|(5,[0],[1.0])|\n",
      "|Ahmedabad|2015-03-16| 30.76|141.54|   14.14|    43.62|    54.78|118.0| Moderate|2015|118.0|       0.0|(25,[0],[1.0])|       0.0|(5,[0],[1.0])|\n",
      "|Ahmedabad|2015-04-03| 53.07|141.54|   13.82|    40.36|    21.76|169.0| Moderate|2015|169.0|       0.0|(25,[0],[1.0])|       0.0|(5,[0],[1.0])|\n",
      "|Ahmedabad|2015-04-10| 134.6|141.54|   26.27|    34.53|      7.0| null| Moderate|2015|126.0|       0.0|(25,[0],[1.0])|       0.0|(5,[0],[1.0])|\n",
      "|Ahmedabad|2015-04-11| 61.06|141.54|   14.03|     8.08|    19.54|126.0| Moderate|2015|126.0|       0.0|(25,[0],[1.0])|       0.0|(5,[0],[1.0])|\n",
      "|Ahmedabad|2015-04-12| 39.42|141.54|   19.56|    17.66|     31.3|175.0| Moderate|2015|175.0|       0.0|(25,[0],[1.0])|       0.0|(5,[0],[1.0])|\n",
      "|Ahmedabad|2015-04-22| 63.38|141.54|   13.28|    24.79|    43.62|189.0| Moderate|2015|189.0|       0.0|(25,[0],[1.0])|       0.0|(5,[0],[1.0])|\n",
      "|Ahmedabad|2015-05-06| 65.11|141.54|    4.58|    22.27|    32.26|120.0| Moderate|2015|120.0|       0.0|(25,[0],[1.0])|       0.0|(5,[0],[1.0])|\n",
      "|Ahmedabad|2015-05-07| 51.03|141.54|   20.47|     15.5|    31.44|158.0| Moderate|2015|158.0|       0.0|(25,[0],[1.0])|       0.0|(5,[0],[1.0])|\n",
      "|Ahmedabad|2015-05-08| 38.73|141.54|   19.28|    20.13|     25.7|177.0| Moderate|2015|177.0|       0.0|(25,[0],[1.0])|       0.0|(5,[0],[1.0])|\n",
      "+---------+----------+------+------+--------+---------+---------+-----+---------+----+-----+----------+--------------+----------+-------------+\n",
      "only showing top 20 rows\n",
      "\n"
     ]
    },
    {
     "name": "stderr",
     "output_type": "stream",
     "text": [
      "\r",
      "                                                                                \r"
     ]
    }
   ],
   "source": [
    "###one hot encoder\n",
    "\n",
    "encoder1 = OneHotEncoder(inputCol=\"AQIB_index\", outputCol=\"AQIB_vec\")\n",
    "ohe1 = encoder1.fit(spark_df_ind1) # indexer is the existing dataframe, see the question\n",
    "encoded1 = ohe1.transform(spark_df_ind1)\n",
    "encoded1.show()"
   ]
  },
  {
   "cell_type": "code",
   "execution_count": 82,
   "metadata": {},
   "outputs": [],
   "source": [
    "# Now we can assemble all of this as one vector in the features column. \n",
    "assembler = VectorAssembler(inputCols=['City_vec','PM25',\n",
    " 'PM10',\n",
    " 'NO2',\n",
    " 'SO2',\n",
    " 'O3'],outputCol='features')\n",
    "\n",
    "\n",
    "from pyspark.ml.classification import LogisticRegression\n",
    "from pyspark.ml import Pipeline\n",
    "# Note that survived is a categorial variable but didn't require any transformation.\n",
    "# That's because it's already in the format of 1's and 0's. \n",
    "log_reg = LogisticRegression(featuresCol='features',labelCol='AQIB_index')\n"
   ]
  },
  {
   "cell_type": "code",
   "execution_count": 83,
   "metadata": {},
   "outputs": [
    {
     "name": "stderr",
     "output_type": "stream",
     "text": [
      "[Stage 507:>                                                        (0 + 1) / 1]\r"
     ]
    },
    {
     "name": "stdout",
     "output_type": "stream",
     "text": [
      "+----------+----------+\n",
      "|AQIB_index|prediction|\n",
      "+----------+----------+\n",
      "|       2.0|       2.0|\n",
      "|       2.0|       2.0|\n",
      "|       2.0|       5.0|\n",
      "|       2.0|       2.0|\n",
      "|       2.0|       2.0|\n",
      "|       2.0|       2.0|\n",
      "|       2.0|       2.0|\n",
      "|       2.0|       2.0|\n",
      "|       2.0|       2.0|\n",
      "|       2.0|       5.0|\n",
      "|       5.0|       5.0|\n",
      "|       0.0|       2.0|\n",
      "|       0.0|       5.0|\n",
      "|       2.0|       5.0|\n",
      "|       2.0|       5.0|\n",
      "|       5.0|       5.0|\n",
      "|       5.0|       5.0|\n",
      "|       5.0|       5.0|\n",
      "|       0.0|       2.0|\n",
      "|       0.0|       2.0|\n",
      "+----------+----------+\n",
      "only showing top 20 rows\n",
      "\n"
     ]
    },
    {
     "name": "stderr",
     "output_type": "stream",
     "text": [
      "\r",
      "                                                                                \r"
     ]
    }
   ],
   "source": [
    "# Lists everything we want to do. Index data, encode data, assemble data and then pass in the actual model.\n",
    "pipeline = Pipeline(stages=[indexer0,indexer1,\n",
    "                           encoder0,encoder1,\n",
    "                           assembler,log_reg ])\n",
    "# Train/test split. \n",
    "train_data1, test_data1 = spark_df_filled3.randomSplit([0.7,.3])\n",
    "\n",
    "# Note pipeline. Call it as you would call a machine learning object.\n",
    "fit_model = pipeline.fit(train_data1)\n",
    "\n",
    "# Transform test data. \n",
    "results = fit_model.transform(test_data1)\n",
    "\n",
    "# Evaluate the model using the binary classifer.\n",
    "from pyspark.ml.evaluation import BinaryClassificationEvaluator\n",
    "\n",
    "my_eval = BinaryClassificationEvaluator(rawPredictionCol='prediction',\n",
    "                                       labelCol='AQIB_index')\n",
    "\n",
    "# If we select the actual and predicted results, we can see that some predictions were correct while others were wrong.\n",
    "results.select('AQIB_index','prediction').show()\n",
    "\n"
   ]
  },
  {
   "cell_type": "code",
   "execution_count": 84,
   "metadata": {},
   "outputs": [
    {
     "name": "stderr",
     "output_type": "stream",
     "text": [
      "                                                                                \r"
     ]
    },
    {
     "data": {
      "text/plain": [
       "0.7842596054424861"
      ]
     },
     "execution_count": 84,
     "metadata": {},
     "output_type": "execute_result"
    }
   ],
   "source": [
    "# We can then evaluate using AUC (area under the curve). AUC is linked to ROC.\n",
    "AUC = my_eval.evaluate(results)\n",
    "\n",
    "AUC"
   ]
  },
  {
   "cell_type": "code",
   "execution_count": 85,
   "metadata": {},
   "outputs": [
    {
     "name": "stderr",
     "output_type": "stream",
     "text": [
      "\r",
      "[Stage 523:>                                                        (0 + 1) / 1]\r"
     ]
    },
    {
     "name": "stdout",
     "output_type": "stream",
     "text": [
      "+---------+----------+------+------+--------+---------+---------+-----+---------+----+-----+--------------------+--------------------+\n",
      "|     City|      Date|  PM25|  PM10|     NO2|      SO2|       O3|  AQI|AQIBucket|year| AQII|         SS_features|              Scaled|\n",
      "+---------+----------+------+------+--------+---------+---------+-----+---------+----+-----+--------------------+--------------------+\n",
      "|Ahmedabad|2015-07-24| 29.22|141.54|    9.57|    13.58|     5.08| 48.0|     Good|2015| 48.0|[29.2199993133544...|[0.39258599640759...|\n",
      "|Ahmedabad|2015-02-05| 58.36|141.54|   21.39|    32.66|    53.54|149.0| Moderate|2015|149.0|[58.3600006103515...|[0.78409717756193...|\n",
      "|Ahmedabad|2015-02-06| 79.29|141.54|   26.94|    67.41|     59.3|190.0| Moderate|2015|190.0|[79.2900009155273...|[1.06530269493727...|\n",
      "|Ahmedabad|2015-02-26| 61.12|141.54|28.56066|14.531978|34.491432| null| Moderate|2015|189.0|[61.1199989318847...|[0.82117920071746...|\n",
      "|Ahmedabad|2015-02-27| 61.12|141.54|28.56066|14.531978|34.491432| null| Moderate|2015|189.0|[61.1199989318847...|[0.82117920071746...|\n",
      "|Ahmedabad|2015-02-28| 61.12|141.54|28.56066|14.531978|34.491432| null| Moderate|2015|189.0|[61.1199989318847...|[0.82117920071746...|\n",
      "|Ahmedabad|2015-03-01| 61.12|141.54|   16.81|    28.44|    30.48| null| Moderate|2015|189.0|[61.1199989318847...|[0.82117920071746...|\n",
      "|Ahmedabad|2015-03-02| 60.78|141.54|   18.21|    29.48|    34.75|189.0| Moderate|2015|189.0|[60.7799987792968...|[0.81661112057307...|\n",
      "|Ahmedabad|2015-03-06|105.45|141.54|28.56066|14.531978|34.491432| null| Moderate|2015|190.0|[105.449996948242...|[1.41677594441912...|\n",
      "|Ahmedabad|2015-03-07|105.45|141.54|    16.1|    29.29|     69.9| null| Moderate|2015|190.0|[105.449996948242...|[1.41677594441912...|\n",
      "|Ahmedabad|2015-03-08| 71.56|141.54|   16.83|    30.28|    57.16|190.0| Moderate|2015|190.0|[71.5599975585937...|[0.96144605080898...|\n",
      "|Ahmedabad|2015-03-16| 30.76|141.54|   14.14|    43.62|    54.78|118.0| Moderate|2015|118.0|[30.7600002288818...|[0.41327671537057...|\n",
      "|Ahmedabad|2015-04-03| 53.07|141.54|   13.82|    40.36|    21.76|169.0| Moderate|2015|169.0|[53.0699996948242...|[0.71302324432367...|\n",
      "|Ahmedabad|2015-04-10| 134.6|141.54|   26.27|    34.53|      7.0| null| Moderate|2015|126.0|[134.600006103515...|[1.80842158639158...|\n",
      "|Ahmedabad|2015-04-11| 61.06|141.54|   14.03|     8.08|    19.54|126.0| Moderate|2015|126.0|[61.0600013732910...|[0.82037310209063...|\n",
      "|Ahmedabad|2015-04-12| 39.42|141.54|   19.56|    17.66|     31.3|175.0| Moderate|2015|175.0|[39.4199981689453...|[0.52962832386064...|\n",
      "|Ahmedabad|2015-04-22| 63.38|141.54|   13.28|    24.79|    43.62|189.0| Moderate|2015|189.0|[63.3800010681152...|[0.85154351322208...|\n",
      "|Ahmedabad|2015-05-06| 65.11|141.54|    4.58|    22.27|    32.26|120.0| Moderate|2015|120.0|[65.1100006103515...|[0.87478696325745...|\n",
      "|Ahmedabad|2015-05-07| 51.03|141.54|   20.47|     15.5|    31.44|158.0| Moderate|2015|158.0|[51.0299987792968...|[0.68561476345732...|\n",
      "|Ahmedabad|2015-05-08| 38.73|141.54|   19.28|    20.13|     25.7|177.0| Moderate|2015|177.0|[38.7299995422363...|[0.52035783088487...|\n",
      "+---------+----------+------+------+--------+---------+---------+-----+---------+----+-----+--------------------+--------------------+\n",
      "only showing top 20 rows\n",
      "\n"
     ]
    },
    {
     "name": "stderr",
     "output_type": "stream",
     "text": [
      "\r",
      "                                                                                \r"
     ]
    }
   ],
   "source": [
    "train1.show()"
   ]
  },
  {
   "cell_type": "code",
   "execution_count": 86,
   "metadata": {},
   "outputs": [
    {
     "name": "stderr",
     "output_type": "stream",
     "text": [
      "                                                                                \r"
     ]
    },
    {
     "data": {
      "image/png": "[encoded data removed]",
      "text/plain": [
       "<Figure size 432x288 with 1 Axes>"
      ]
     },
     "metadata": {
      "needs_background": "light"
     },
     "output_type": "display_data"
    }
   ],
   "source": [
    "# Import the relevant Python libraries.\n",
    "import numpy as np\n",
    "import matplotlib.pyplot as plt\n",
    "%matplotlib inline\n",
    "\n",
    "# Convert sex to an array using Numpy and plot it using pyplot. \n",
    "sexArr = np.array(train1.select('AQIBucket').collect())\n",
    "plt.hist(sexArr)\n",
    "plt.show()\n"
   ]
  },
  {
   "cell_type": "code",
   "execution_count": 87,
   "metadata": {},
   "outputs": [
    {
     "name": "stderr",
     "output_type": "stream",
     "text": [
      "                                                                                \r"
     ]
    },
    {
     "name": "stdout",
     "output_type": "stream",
     "text": [
      "Correct: 9002\n"
     ]
    },
    {
     "name": "stderr",
     "output_type": "stream",
     "text": [
      "\r",
      "[Stage 535:>                                                        (0 + 1) / 1]\r"
     ]
    },
    {
     "name": "stdout",
     "output_type": "stream",
     "text": [
      "Total Correct: 6102\n"
     ]
    },
    {
     "name": "stderr",
     "output_type": "stream",
     "text": [
      "\r",
      "                                                                                \r"
     ]
    }
   ],
   "source": [
    "# Not all interpretation has to be visualisations. You can also gain a lot of information with text.\n",
    "# For example, here we're seeing how much variance our model could account for.\n",
    "# According to this, the model got 164/209 correct. \n",
    "totalResults = results.select('AQIB_index','prediction')\n",
    "\n",
    "\n",
    "correctResults = totalResults.filter(totalResults['AQIB_INDEX'] == totalResults['prediction'])\n",
    "\n",
    "countTR = totalResults.count()\n",
    "print(\"Correct: \" + str(countTR))\n",
    "\n",
    "countTC = correctResults.count()\n",
    "print(\"Total Correct: \" + str(countTC)) "
   ]
  },
  {
   "cell_type": "code",
   "execution_count": 88,
   "metadata": {},
   "outputs": [
    {
     "name": "stderr",
     "output_type": "stream",
     "text": [
      "\r",
      "[Stage 541:>                                                        (0 + 1) / 1]\r"
     ]
    },
    {
     "name": "stdout",
     "output_type": "stream",
     "text": [
      "+---------+----------+------+------+--------+---------+---------+-----+---------+----+-----+\n",
      "|     City|      Date|  PM25|  PM10|     NO2|      SO2|       O3|  AQI|AQIBucket|year| AQII|\n",
      "+---------+----------+------+------+--------+---------+---------+-----+---------+----+-----+\n",
      "|Ahmedabad|2015-07-24| 29.22|141.54|    9.57|    13.58|     5.08| 48.0|     Good|2015| 48.0|\n",
      "|Ahmedabad|2015-02-05| 58.36|141.54|   21.39|    32.66|    53.54|149.0| Moderate|2015|149.0|\n",
      "|Ahmedabad|2015-02-06| 79.29|141.54|   26.94|    67.41|     59.3|190.0| Moderate|2015|190.0|\n",
      "|Ahmedabad|2015-02-26| 61.12|141.54|28.56066|14.531978|34.491432| null| Moderate|2015|189.0|\n",
      "|Ahmedabad|2015-02-27| 61.12|141.54|28.56066|14.531978|34.491432| null| Moderate|2015|189.0|\n",
      "|Ahmedabad|2015-02-28| 61.12|141.54|28.56066|14.531978|34.491432| null| Moderate|2015|189.0|\n",
      "|Ahmedabad|2015-03-01| 61.12|141.54|   16.81|    28.44|    30.48| null| Moderate|2015|189.0|\n",
      "|Ahmedabad|2015-03-02| 60.78|141.54|   18.21|    29.48|    34.75|189.0| Moderate|2015|189.0|\n",
      "|Ahmedabad|2015-03-06|105.45|141.54|28.56066|14.531978|34.491432| null| Moderate|2015|190.0|\n",
      "|Ahmedabad|2015-03-07|105.45|141.54|    16.1|    29.29|     69.9| null| Moderate|2015|190.0|\n",
      "|Ahmedabad|2015-03-08| 71.56|141.54|   16.83|    30.28|    57.16|190.0| Moderate|2015|190.0|\n",
      "|Ahmedabad|2015-03-16| 30.76|141.54|   14.14|    43.62|    54.78|118.0| Moderate|2015|118.0|\n",
      "|Ahmedabad|2015-04-03| 53.07|141.54|   13.82|    40.36|    21.76|169.0| Moderate|2015|169.0|\n",
      "|Ahmedabad|2015-04-10| 134.6|141.54|   26.27|    34.53|      7.0| null| Moderate|2015|126.0|\n",
      "|Ahmedabad|2015-04-11| 61.06|141.54|   14.03|     8.08|    19.54|126.0| Moderate|2015|126.0|\n",
      "|Ahmedabad|2015-04-12| 39.42|141.54|   19.56|    17.66|     31.3|175.0| Moderate|2015|175.0|\n",
      "|Ahmedabad|2015-04-22| 63.38|141.54|   13.28|    24.79|    43.62|189.0| Moderate|2015|189.0|\n",
      "|Ahmedabad|2015-05-06| 65.11|141.54|    4.58|    22.27|    32.26|120.0| Moderate|2015|120.0|\n",
      "|Ahmedabad|2015-05-07| 51.03|141.54|   20.47|     15.5|    31.44|158.0| Moderate|2015|158.0|\n",
      "|Ahmedabad|2015-05-08| 38.73|141.54|   19.28|    20.13|     25.7|177.0| Moderate|2015|177.0|\n",
      "+---------+----------+------+------+--------+---------+---------+-----+---------+----+-----+\n",
      "only showing top 20 rows\n",
      "\n"
     ]
    },
    {
     "name": "stderr",
     "output_type": "stream",
     "text": [
      "\r",
      "                                                                                \r"
     ]
    }
   ],
   "source": [
    "spark_df_filled3.show()"
   ]
  },
  {
   "cell_type": "code",
   "execution_count": 89,
   "metadata": {},
   "outputs": [
    {
     "name": "stdout",
     "output_type": "stream",
     "text": [
      "root\n",
      " |-- label: float (nullable = true)\n",
      " |-- PM25: float (nullable = true)\n",
      " |-- PM10: float (nullable = false)\n",
      " |-- NO2: float (nullable = false)\n",
      " |-- SO2: float (nullable = false)\n",
      " |-- O3: float (nullable = false)\n",
      "\n"
     ]
    }
   ],
   "source": [
    "# prepare the data\n",
    "features = [\"PM25\",\"PM10\",\"NO2\",\"SO2\",\"O3\"]\n",
    "lr_data = spark_df_filled3.select(col(\"AQII\").alias(\"label\"), *features)\n",
    "lr_data.printSchema()\n",
    "\n",
    "# split the dataset into training and test\n",
    "(training, test) = lr_data.randomSplit([.7, .3], seed = 196)\n",
    "\n"
   ]
  },
  {
   "cell_type": "code",
   "execution_count": 90,
   "metadata": {},
   "outputs": [
    {
     "name": "stderr",
     "output_type": "stream",
     "text": [
      "                                                                                \r"
     ]
    }
   ],
   "source": [
    "# creating the pipeline\n",
    "vectorAssembler = VectorAssembler(inputCols=features, outputCol=\"unscaled_features\")\n",
    "standardScaler = StandardScaler(inputCol=\"unscaled_features\", outputCol=\"features\")\n",
    "lr = LinearRegression(maxIter=10, regParam=.01)\n",
    "\n",
    "estimators = [vectorAssembler, standardScaler, lr]\n",
    "\n",
    "\n",
    "# building the model using the pipeline\n",
    "# https://spark.apache.org/docs/latest/api/python/pyspark.ml.html#pyspark.ml.Pipeline\n",
    "pipeline = Pipeline(stages=estimators)\n",
    "\n",
    "model = pipeline.fit(training)\n"
   ]
  },
  {
   "cell_type": "code",
   "execution_count": 91,
   "metadata": {},
   "outputs": [
    {
     "name": "stderr",
     "output_type": "stream",
     "text": [
      "\r",
      "[Stage 557:>                                                        (0 + 1) / 1]\r"
     ]
    },
    {
     "name": "stdout",
     "output_type": "stream",
     "text": [
      "+-----+-----+-----+--------+---------+---------+--------------------+--------------------+------------------+\n",
      "|label| PM25| PM10|     NO2|      SO2|       O3|   unscaled_features|            features|        prediction|\n",
      "+-----+-----+-----+--------+---------+---------+--------------------+--------------------+------------------+\n",
      "| 14.0|10.04|18.31|28.56066|14.531978|34.491432|[10.0399999618530...|[0.13868913291709...| 89.90256045948512|\n",
      "| 14.0|10.04|18.31|28.56066|14.531978|34.491432|[10.0399999618530...|[0.13868913291709...| 89.90256045948512|\n",
      "| 14.0| 11.4| 34.2|28.56066|    14.96|    19.58|[11.3999996185302...|[0.15747570401956...| 96.34530020869393|\n",
      "| 14.0|13.06|15.75|28.56066|14.531978|34.491432|[13.0600004196167...|[0.18040638854338...| 91.37151738879173|\n",
      "| 14.0|13.06|15.75|28.56066|14.531978|34.491432|[13.0600004196167...|[0.18040638854338...| 91.37151738879173|\n",
      "| 14.0|13.06|15.75|28.56066|14.531978|34.491432|[13.0600004196167...|[0.18040638854338...| 91.37151738879173|\n",
      "| 14.0|13.06|15.75|28.56066|14.531978|34.491432|[13.0600004196167...|[0.18040638854338...| 91.37151738879173|\n",
      "| 14.0|13.06|15.75|28.56066|14.531978|34.491432|[13.0600004196167...|[0.18040638854338...| 91.37151738879173|\n",
      "| 14.0|13.06|15.75|28.56066|14.531978|34.491432|[13.0600004196167...|[0.18040638854338...| 91.37151738879173|\n",
      "| 14.0|13.06|15.75|28.56066|14.531978|34.491432|[13.0600004196167...|[0.18040638854338...| 91.37151738879173|\n",
      "| 14.0|13.06|15.75|28.56066|14.531978|34.491432|[13.0600004196167...|[0.18040638854338...| 91.37151738879173|\n",
      "| 14.0|13.06|15.75|28.56066|14.531978|34.491432|[13.0600004196167...|[0.18040638854338...| 91.37151738879173|\n",
      "| 14.0|13.06|15.75|28.56066|14.531978|34.491432|[13.0600004196167...|[0.18040638854338...| 91.37151738879173|\n",
      "| 14.0|79.71| 0.02|  104.97|     3.15|     20.0|[79.7099990844726...|[1.10108672309277...| 223.5921727189622|\n",
      "| 14.0|79.71| 34.2|28.56066|14.531978|    10.62|[79.7099990844726...|[1.10108672309277...|145.17558229898574|\n",
      "| 16.0|79.71| 0.14|   43.88|     0.89|    13.33|[79.7099990844726...|[1.10108672309277...|128.91622536593468|\n",
      "| 17.0| 9.92| 49.2|28.56066|14.531978|34.491432|[9.92000007629394...|[0.13703149545279...| 98.62307301180608|\n",
      "| 17.0| 9.92| 49.2|28.56066|14.531978|34.491432|[9.92000007629394...|[0.13703149545279...| 98.62307301180608|\n",
      "| 17.0| 9.92| 49.2|28.56066|14.531978|34.491432|[9.92000007629394...|[0.13703149545279...| 98.62307301180608|\n",
      "| 17.0| 9.92| 49.2|28.56066|14.531978|34.491432|[9.92000007629394...|[0.13703149545279...| 98.62307301180608|\n",
      "+-----+-----+-----+--------+---------+---------+--------------------+--------------------+------------------+\n",
      "only showing top 20 rows\n",
      "\n"
     ]
    },
    {
     "name": "stderr",
     "output_type": "stream",
     "text": [
      "\r",
      "                                                                                \r"
     ]
    }
   ],
   "source": [
    "# prediction\n",
    "prediction = model.transform(test)\n",
    "\n",
    "prediction.show()\n",
    "\n"
   ]
  },
  {
   "cell_type": "code",
   "execution_count": null,
   "metadata": {},
   "outputs": [],
   "source": []
  },
  {
   "cell_type": "code",
   "execution_count": 92,
   "metadata": {},
   "outputs": [
    {
     "name": "stderr",
     "output_type": "stream",
     "text": [
      "                                                                                \r"
     ]
    },
    {
     "name": "stdout",
     "output_type": "stream",
     "text": [
      "RMSE: 91.995\n"
     ]
    },
    {
     "name": "stderr",
     "output_type": "stream",
     "text": [
      "                                                                                \r"
     ]
    },
    {
     "name": "stdout",
     "output_type": "stream",
     "text": [
      "MSE: 8463.011\n"
     ]
    },
    {
     "name": "stderr",
     "output_type": "stream",
     "text": [
      "                                                                                \r"
     ]
    },
    {
     "name": "stdout",
     "output_type": "stream",
     "text": [
      "MAE: 51.722\n"
     ]
    },
    {
     "name": "stderr",
     "output_type": "stream",
     "text": [
      "\r",
      "[Stage 569:>                                                        (0 + 1) / 1]\r"
     ]
    },
    {
     "name": "stdout",
     "output_type": "stream",
     "text": [
      "r2: 0.553\n"
     ]
    },
    {
     "name": "stderr",
     "output_type": "stream",
     "text": [
      "\r",
      "                                                                                \r"
     ]
    }
   ],
   "source": [
    "# evaluate the model\n",
    "from pyspark.ml.evaluation import RegressionEvaluator\n",
    "eval = RegressionEvaluator(labelCol=\"label\", predictionCol=\"prediction\", metricName=\"rmse\")\n",
    "\n",
    "# Root Mean Square Error\n",
    "\n",
    "rmse = eval.evaluate(prediction)\n",
    "print(\"RMSE: %.3f\" % rmse)\n",
    "\n",
    "# Mean Square Error\n",
    "\n",
    "mse = eval.evaluate(prediction, {eval.metricName: \"mse\"})\n",
    "print(\"MSE: %.3f\" % mse)\n",
    "\n",
    "# Mean Absolute Error\n",
    "\n",
    "mae = eval.evaluate(prediction, {eval.metricName: \"mae\"})\n",
    "print(\"MAE: %.3f\" % mae)\n",
    "\n",
    "# r2 - coefficient of determination\n",
    "\n",
    "r2 = eval.evaluate(prediction, {eval.metricName: \"r2\"})\n",
    "print(\"r2: %.3f\" %r2)"
   ]
  },
  {
   "cell_type": "code",
   "execution_count": 93,
   "metadata": {},
   "outputs": [
    {
     "name": "stderr",
     "output_type": "stream",
     "text": [
      "\r",
      "[Stage 572:>                                                        (0 + 1) / 1]\r"
     ]
    },
    {
     "name": "stdout",
     "output_type": "stream",
     "text": [
      "+---------+----------+------+------+--------+---------+---------+-----+---------+----+-----+\n",
      "|     City|      Date|  PM25|  PM10|     NO2|      SO2|       O3|  AQI|AQIBucket|year| AQII|\n",
      "+---------+----------+------+------+--------+---------+---------+-----+---------+----+-----+\n",
      "|Ahmedabad|2015-07-24| 29.22|141.54|    9.57|    13.58|     5.08| 48.0|     Good|2015| 48.0|\n",
      "|Ahmedabad|2015-02-05| 58.36|141.54|   21.39|    32.66|    53.54|149.0| Moderate|2015|149.0|\n",
      "|Ahmedabad|2015-02-06| 79.29|141.54|   26.94|    67.41|     59.3|190.0| Moderate|2015|190.0|\n",
      "|Ahmedabad|2015-02-26| 61.12|141.54|28.56066|14.531978|34.491432| null| Moderate|2015|189.0|\n",
      "|Ahmedabad|2015-02-27| 61.12|141.54|28.56066|14.531978|34.491432| null| Moderate|2015|189.0|\n",
      "|Ahmedabad|2015-02-28| 61.12|141.54|28.56066|14.531978|34.491432| null| Moderate|2015|189.0|\n",
      "|Ahmedabad|2015-03-01| 61.12|141.54|   16.81|    28.44|    30.48| null| Moderate|2015|189.0|\n",
      "|Ahmedabad|2015-03-02| 60.78|141.54|   18.21|    29.48|    34.75|189.0| Moderate|2015|189.0|\n",
      "|Ahmedabad|2015-03-06|105.45|141.54|28.56066|14.531978|34.491432| null| Moderate|2015|190.0|\n",
      "|Ahmedabad|2015-03-07|105.45|141.54|    16.1|    29.29|     69.9| null| Moderate|2015|190.0|\n",
      "|Ahmedabad|2015-03-08| 71.56|141.54|   16.83|    30.28|    57.16|190.0| Moderate|2015|190.0|\n",
      "|Ahmedabad|2015-03-16| 30.76|141.54|   14.14|    43.62|    54.78|118.0| Moderate|2015|118.0|\n",
      "|Ahmedabad|2015-04-03| 53.07|141.54|   13.82|    40.36|    21.76|169.0| Moderate|2015|169.0|\n",
      "|Ahmedabad|2015-04-10| 134.6|141.54|   26.27|    34.53|      7.0| null| Moderate|2015|126.0|\n",
      "|Ahmedabad|2015-04-11| 61.06|141.54|   14.03|     8.08|    19.54|126.0| Moderate|2015|126.0|\n",
      "|Ahmedabad|2015-04-12| 39.42|141.54|   19.56|    17.66|     31.3|175.0| Moderate|2015|175.0|\n",
      "|Ahmedabad|2015-04-22| 63.38|141.54|   13.28|    24.79|    43.62|189.0| Moderate|2015|189.0|\n",
      "|Ahmedabad|2015-05-06| 65.11|141.54|    4.58|    22.27|    32.26|120.0| Moderate|2015|120.0|\n",
      "|Ahmedabad|2015-05-07| 51.03|141.54|   20.47|     15.5|    31.44|158.0| Moderate|2015|158.0|\n",
      "|Ahmedabad|2015-05-08| 38.73|141.54|   19.28|    20.13|     25.7|177.0| Moderate|2015|177.0|\n",
      "+---------+----------+------+------+--------+---------+---------+-----+---------+----+-----+\n",
      "only showing top 20 rows\n",
      "\n"
     ]
    },
    {
     "name": "stderr",
     "output_type": "stream",
     "text": [
      "\r",
      "                                                                                \r"
     ]
    }
   ],
   "source": [
    "spark_df_filled3.show()"
   ]
  },
  {
   "cell_type": "code",
   "execution_count": 94,
   "metadata": {},
   "outputs": [
    {
     "name": "stderr",
     "output_type": "stream",
     "text": [
      "                                                                                \r"
     ]
    }
   ],
   "source": [
    "assembler = VectorAssembler(inputCols=['PM25',\n",
    " 'PM10',\n",
    " 'NO2',\n",
    " 'SO2',\n",
    " 'O3','AQII'],outputCol=\"features\")\n",
    "\n",
    "# Let's transform the data. \n",
    "output = assembler.transform(spark_df_filled3)\n",
    "\n",
    "# Let's select the two columns we want. Features (which contains vectors), and the predictor.\n",
    "indexer = StringIndexer(inputCol=\"AQIBucket\", outputCol=\"AQIB_index\")\n",
    "output_fixed = indexer.fit(output).transform(output)"
   ]
  },
  {
   "cell_type": "code",
   "execution_count": 95,
   "metadata": {},
   "outputs": [
    {
     "name": "stderr",
     "output_type": "stream",
     "text": [
      "\r",
      "[Stage 581:>                                                        (0 + 1) / 1]\r"
     ]
    },
    {
     "name": "stdout",
     "output_type": "stream",
     "text": [
      "+---------+----------+------+------+--------+---------+---------+-----+---------+----+-----+----------+\n",
      "|     City|      Date|  PM25|  PM10|     NO2|      SO2|       O3|  AQI|AQIBucket|year| AQII|AQIB_index|\n",
      "+---------+----------+------+------+--------+---------+---------+-----+---------+----+-----+----------+\n",
      "|Ahmedabad|2015-07-24| 29.22|141.54|    9.57|    13.58|     5.08| 48.0|     Good|2015| 48.0|       4.0|\n",
      "|Ahmedabad|2015-02-05| 58.36|141.54|   21.39|    32.66|    53.54|149.0| Moderate|2015|149.0|       0.0|\n",
      "|Ahmedabad|2015-02-06| 79.29|141.54|   26.94|    67.41|     59.3|190.0| Moderate|2015|190.0|       0.0|\n",
      "|Ahmedabad|2015-02-26| 61.12|141.54|28.56066|14.531978|34.491432| null| Moderate|2015|189.0|       0.0|\n",
      "|Ahmedabad|2015-02-27| 61.12|141.54|28.56066|14.531978|34.491432| null| Moderate|2015|189.0|       0.0|\n",
      "|Ahmedabad|2015-02-28| 61.12|141.54|28.56066|14.531978|34.491432| null| Moderate|2015|189.0|       0.0|\n",
      "|Ahmedabad|2015-03-01| 61.12|141.54|   16.81|    28.44|    30.48| null| Moderate|2015|189.0|       0.0|\n",
      "|Ahmedabad|2015-03-02| 60.78|141.54|   18.21|    29.48|    34.75|189.0| Moderate|2015|189.0|       0.0|\n",
      "|Ahmedabad|2015-03-06|105.45|141.54|28.56066|14.531978|34.491432| null| Moderate|2015|190.0|       0.0|\n",
      "|Ahmedabad|2015-03-07|105.45|141.54|    16.1|    29.29|     69.9| null| Moderate|2015|190.0|       0.0|\n",
      "|Ahmedabad|2015-03-08| 71.56|141.54|   16.83|    30.28|    57.16|190.0| Moderate|2015|190.0|       0.0|\n",
      "|Ahmedabad|2015-03-16| 30.76|141.54|   14.14|    43.62|    54.78|118.0| Moderate|2015|118.0|       0.0|\n",
      "|Ahmedabad|2015-04-03| 53.07|141.54|   13.82|    40.36|    21.76|169.0| Moderate|2015|169.0|       0.0|\n",
      "|Ahmedabad|2015-04-10| 134.6|141.54|   26.27|    34.53|      7.0| null| Moderate|2015|126.0|       0.0|\n",
      "|Ahmedabad|2015-04-11| 61.06|141.54|   14.03|     8.08|    19.54|126.0| Moderate|2015|126.0|       0.0|\n",
      "|Ahmedabad|2015-04-12| 39.42|141.54|   19.56|    17.66|     31.3|175.0| Moderate|2015|175.0|       0.0|\n",
      "|Ahmedabad|2015-04-22| 63.38|141.54|   13.28|    24.79|    43.62|189.0| Moderate|2015|189.0|       0.0|\n",
      "|Ahmedabad|2015-05-06| 65.11|141.54|    4.58|    22.27|    32.26|120.0| Moderate|2015|120.0|       0.0|\n",
      "|Ahmedabad|2015-05-07| 51.03|141.54|   20.47|     15.5|    31.44|158.0| Moderate|2015|158.0|       0.0|\n",
      "|Ahmedabad|2015-05-08| 38.73|141.54|   19.28|    20.13|     25.7|177.0| Moderate|2015|177.0|       0.0|\n",
      "+---------+----------+------+------+--------+---------+---------+-----+---------+----+-----+----------+\n",
      "only showing top 20 rows\n",
      "\n"
     ]
    },
    {
     "name": "stderr",
     "output_type": "stream",
     "text": [
      "\r",
      "                                                                                \r"
     ]
    }
   ],
   "source": [
    "#output.show()\n",
    "spark_df_ind.show()"
   ]
  },
  {
   "cell_type": "code",
   "execution_count": 96,
   "metadata": {},
   "outputs": [
    {
     "name": "stderr",
     "output_type": "stream",
     "text": [
      "                                                                                \r"
     ]
    }
   ],
   "source": [
    "###AQIB_index\n",
    "\n",
    "# Now we can assemble all of this as one vector in the features column. \n",
    "\n",
    "\n",
    "# Let's select the two columns we want. Features (which contains vectors), and the predictor.\n",
    "\n",
    "final_data = output_fixed.select('features','AQIB_index')\n",
    "\n",
    "# Split the training and testing set.\n",
    "train_data,test_data = final_data.randomSplit([0.7,0.3])\n",
    "\n",
    "# Let's import the relevant classifiers. \n",
    "from pyspark.ml.classification import DecisionTreeClassifier,GBTClassifier,RandomForestClassifier\n",
    "from pyspark.ml import Pipeline\n",
    "\n",
    "# Use defaults to make the comparison \"fair\". This simplifies the comparison process.\n",
    "\n",
    "dtc = DecisionTreeClassifier(labelCol='AQIB_index',featuresCol='features')\n",
    "rfc = RandomForestClassifier(labelCol='AQIB_index',featuresCol='features')\n",
    "gbt = GBTClassifier(labelCol='AQIB_index',featuresCol='features')\n",
    "\n",
    "# Train the models (it's three models, so it might take some time).\n",
    "dtc_model = dtc.fit(train_data)\n",
    "rfc_model = rfc.fit(train_data)\n",
    "#gbt_model = gbt.fit(train_data)\n",
    "\n",
    "dtc_predictions = dtc_model.transform(test_data)\n",
    "rfc_predictions = rfc_model.transform(test_data)\n",
    "#gbt_predictions = gbt_model.transform(test_data)"
   ]
  },
  {
   "cell_type": "code",
   "execution_count": 97,
   "metadata": {},
   "outputs": [
    {
     "name": "stdout",
     "output_type": "stream",
     "text": [
      "DTC\n"
     ]
    },
    {
     "name": "stderr",
     "output_type": "stream",
     "text": [
      "                                                                                \r"
     ]
    },
    {
     "name": "stdout",
     "output_type": "stream",
     "text": [
      "0.9873986405124457\n",
      "RFC\n"
     ]
    },
    {
     "name": "stderr",
     "output_type": "stream",
     "text": [
      "\r",
      "[Stage 646:>                                                        (0 + 1) / 1]\r"
     ]
    },
    {
     "name": "stdout",
     "output_type": "stream",
     "text": [
      "0.9927191853219763\n"
     ]
    },
    {
     "name": "stderr",
     "output_type": "stream",
     "text": [
      "\r",
      "                                                                                \r"
     ]
    }
   ],
   "source": [
    "# Let's start off with binary classification.\n",
    "from pyspark.ml.evaluation import BinaryClassificationEvaluator\n",
    "\n",
    "# Note that the label column isn't named label, it's named PrivateIndex in this case.\n",
    "my_binary_eval = BinaryClassificationEvaluator(rawPredictionCol='prediction',\n",
    "                                       labelCol='AQIB_index')\n",
    "\n",
    "# This is the area under the curve. This indicates that the data is highly seperable.\n",
    "print(\"DTC\")\n",
    "print(my_binary_eval.evaluate(dtc_predictions))\n",
    "\n",
    "# RFC improves accuracy but also model complexity. RFC outperforms DTC in nearly every situation.\n",
    "print(\"RFC\")\n",
    "print(my_binary_eval.evaluate(rfc_predictions))\n"
   ]
  },
  {
   "cell_type": "markdown",
   "metadata": {},
   "source": [
    "# kmeans unsupervised learning"
   ]
  },
  {
   "cell_type": "code",
   "execution_count": 98,
   "metadata": {},
   "outputs": [
    {
     "name": "stderr",
     "output_type": "stream",
     "text": [
      "\r",
      "[Stage 659:>                                                        (0 + 1) / 1]\r"
     ]
    },
    {
     "name": "stdout",
     "output_type": "stream",
     "text": [
      "+---------+----------+-----+------+-----+-----+-----+-----+---------+----+-----+--------------------+\n",
      "|     City|      Date| PM25|  PM10|  NO2|  SO2|   O3|  AQI|AQIBucket|year| AQII|            features|\n",
      "+---------+----------+-----+------+-----+-----+-----+-----+---------+----+-----+--------------------+\n",
      "|Ahmedabad|2015-07-24|29.22|141.54| 9.57|13.58| 5.08| 48.0|     Good|2015| 48.0|[29.2199993133544...|\n",
      "|Ahmedabad|2015-02-05|58.36|141.54|21.39|32.66|53.54|149.0| Moderate|2015|149.0|[58.3600006103515...|\n",
      "+---------+----------+-----+------+-----+-----+-----+-----+---------+----+-----+--------------------+\n",
      "only showing top 2 rows\n",
      "\n"
     ]
    },
    {
     "name": "stderr",
     "output_type": "stream",
     "text": [
      "\r",
      "                                                                                \r"
     ]
    }
   ],
   "source": [
    "import pandas as pd\n",
    "\n",
    "from pyspark.ml.feature import VectorAssembler\n",
    "from pyspark.ml.clustering import KMeans\n",
    "from pyspark.ml import Pipeline\n",
    "\n",
    "assembler = VectorAssembler(inputCols=['PM25',\n",
    " 'PM10',\n",
    " 'NO2',\n",
    " 'SO2',\n",
    " 'O3','AQII'],outputCol=\"features\")\n",
    "\n",
    "spark_df_indk=spark_df_ind\n",
    "spark_df_indk=spark_df_indk.drop(\"AQIB_index\")\n",
    "\n",
    "assembled_data=assembler.transform(spark_df_indk)\n",
    "assembled_data.show(2)\n"
   ]
  },
  {
   "cell_type": "code",
   "execution_count": 99,
   "metadata": {},
   "outputs": [],
   "source": [
    "\n",
    "#from pyspark.ml.feature import StandardScaler\n",
    "#scale=StandardScaler(inputCol='features',outputCol='standardized')\n",
    "#data_scale=scale.fit(assembled_data)\n",
    "#data_scale_output=data_scale.transform(assembled_data)\n",
    "#data_scale_output.show(2)"
   ]
  },
  {
   "cell_type": "code",
   "execution_count": 100,
   "metadata": {},
   "outputs": [
    {
     "name": "stderr",
     "output_type": "stream",
     "text": [
      "                                                                                \r"
     ]
    },
    {
     "name": "stdout",
     "output_type": "stream",
     "text": [
      "Silhouette Score: 0.7417176461544878\n"
     ]
    },
    {
     "name": "stderr",
     "output_type": "stream",
     "text": [
      "                                                                                \r"
     ]
    },
    {
     "name": "stdout",
     "output_type": "stream",
     "text": [
      "Silhouette Score: 0.662418277587624\n"
     ]
    },
    {
     "name": "stderr",
     "output_type": "stream",
     "text": [
      "                                                                                \r"
     ]
    },
    {
     "name": "stdout",
     "output_type": "stream",
     "text": [
      "Silhouette Score: 0.5963458682942219\n"
     ]
    },
    {
     "name": "stderr",
     "output_type": "stream",
     "text": [
      "                                                                                \r"
     ]
    },
    {
     "name": "stdout",
     "output_type": "stream",
     "text": [
      "Silhouette Score: 0.5177992096227876\n"
     ]
    },
    {
     "name": "stderr",
     "output_type": "stream",
     "text": [
      "                                                                                \r"
     ]
    },
    {
     "name": "stdout",
     "output_type": "stream",
     "text": [
      "Silhouette Score: 0.5379994840142674\n"
     ]
    },
    {
     "name": "stderr",
     "output_type": "stream",
     "text": [
      "                                                                                \r"
     ]
    },
    {
     "name": "stdout",
     "output_type": "stream",
     "text": [
      "Silhouette Score: 0.5408080333570792\n"
     ]
    },
    {
     "name": "stderr",
     "output_type": "stream",
     "text": [
      "                                                                                \r"
     ]
    },
    {
     "name": "stdout",
     "output_type": "stream",
     "text": [
      "Silhouette Score: 0.5411449274957548\n"
     ]
    },
    {
     "name": "stderr",
     "output_type": "stream",
     "text": [
      "[Stage 1381:>                                                       (0 + 1) / 1]\r"
     ]
    },
    {
     "name": "stdout",
     "output_type": "stream",
     "text": [
      "Silhouette Score: 0.5082355145056396\n"
     ]
    },
    {
     "name": "stderr",
     "output_type": "stream",
     "text": [
      "\r",
      "                                                                                \r"
     ]
    },
    {
     "data": {
      "text/plain": [
       "Text(0, 0.5, 'cost')"
      ]
     },
     "execution_count": 100,
     "metadata": {},
     "output_type": "execute_result"
    },
    {
     "data": {
      "image/png": "[encoded data removed]",
      "text/plain": [
       "<Figure size 576x432 with 1 Axes>"
      ]
     },
     "metadata": {
      "needs_background": "light"
     },
     "output_type": "display_data"
    }
   ],
   "source": [
    "from pyspark.ml.clustering import KMeans\n",
    "from pyspark.ml.evaluation import ClusteringEvaluator\n",
    "silhouette_score=[]\n",
    "\n",
    "evaluator = ClusteringEvaluator(featuresCol='features', \\\n",
    "metricName='silhouette', distanceMeasure='squaredEuclidean')\n",
    "\n",
    "#evaluator = ClusteringEvaluator( featuresCol='standardized', \\\n",
    "#                                metricName='silhouette', distanceMeasure='squaredEuclidean')\n",
    "for i in range(2,10):\n",
    "    \n",
    "    KMeans_algo=KMeans(featuresCol='features', k=i)\n",
    "    \n",
    "    KMeans_fit=KMeans_algo.fit(assembled_data)\n",
    "    \n",
    "    output=KMeans_fit.transform(assembled_data)\n",
    "    \n",
    "    \n",
    "    \n",
    "    score=evaluator.evaluate(output)\n",
    "    \n",
    "    silhouette_score.append(score)\n",
    "    \n",
    "    print(\"Silhouette Score:\",score)\n",
    "    \n",
    "    \n",
    "#Visualizing the silhouette scores in a plot\n",
    "import matplotlib.pyplot as plt\n",
    "fig, ax = plt.subplots(1,1, figsize =(8,6))\n",
    "ax.plot(range(2,10),silhouette_score)\n",
    "ax.set_xlabel('k')\n",
    "ax.set_ylabel('cost')"
   ]
  },
  {
   "cell_type": "code",
   "execution_count": 101,
   "metadata": {},
   "outputs": [
    {
     "name": "stderr",
     "output_type": "stream",
     "text": [
      "                                                                                \r"
     ]
    },
    {
     "data": {
      "text/plain": [
       "DataFrame[City: string, Date: string, PM25: float, PM10: float, NO2: float, SO2: float, O3: float, AQI: float, AQIBucket: string, year: int, AQII: float, features: vector, prediction: int]"
      ]
     },
     "execution_count": 101,
     "metadata": {},
     "output_type": "execute_result"
    }
   ],
   "source": [
    "KMeans_=KMeans(featuresCol='features', k=5) \n",
    "KMeans_Model=KMeans_.fit(assembled_data)\n",
    "KMeans_Assignments=KMeans_Model.transform(assembled_data)\n",
    "KMeans_Assignments\n",
    "\n"
   ]
  },
  {
   "cell_type": "code",
   "execution_count": null,
   "metadata": {},
   "outputs": [],
   "source": [
    "KMeans_Assignments.groupBy(\"prediction\").count().show()\n",
    "KMeans_Assignments.show()\n",
    "model.predict(df.head().features)"
   ]
  },
  {
   "cell_type": "code",
   "execution_count": 107,
   "metadata": {},
   "outputs": [
    {
     "name": "stderr",
     "output_type": "stream",
     "text": [
      "                                                                                \r"
     ]
    },
    {
     "name": "stdout",
     "output_type": "stream",
     "text": [
      "+----------+-----+\n",
      "|prediction|count|\n",
      "+----------+-----+\n",
      "|         1| 1801|\n",
      "|         3|14769|\n",
      "|         4| 3925|\n",
      "|         2|  234|\n",
      "|         0| 8802|\n",
      "+----------+-----+\n",
      "\n"
     ]
    },
    {
     "name": "stderr",
     "output_type": "stream",
     "text": [
      "\r",
      "[Stage 1511:>                                                       (0 + 1) / 1]\r"
     ]
    },
    {
     "name": "stdout",
     "output_type": "stream",
     "text": [
      "+---------+----------+------+------+--------+---------+---------+-----+---------+----+-----+--------------------+----------+\n",
      "|     City|      Date|  PM25|  PM10|     NO2|      SO2|       O3|  AQI|AQIBucket|year| AQII|            features|prediction|\n",
      "+---------+----------+------+------+--------+---------+---------+-----+---------+----+-----+--------------------+----------+\n",
      "|Ahmedabad|2015-07-24| 29.22|141.54|    9.57|    13.58|     5.08| 48.0|     Good|2015| 48.0|[29.2199993133544...|         3|\n",
      "|Ahmedabad|2015-02-05| 58.36|141.54|   21.39|    32.66|    53.54|149.0| Moderate|2015|149.0|[58.3600006103515...|         0|\n",
      "|Ahmedabad|2015-02-06| 79.29|141.54|   26.94|    67.41|     59.3|190.0| Moderate|2015|190.0|[79.2900009155273...|         0|\n",
      "|Ahmedabad|2015-02-26| 61.12|141.54|28.56066|14.531978|34.491432| null| Moderate|2015|189.0|[61.1199989318847...|         0|\n",
      "|Ahmedabad|2015-02-27| 61.12|141.54|28.56066|14.531978|34.491432| null| Moderate|2015|189.0|[61.1199989318847...|         0|\n",
      "|Ahmedabad|2015-02-28| 61.12|141.54|28.56066|14.531978|34.491432| null| Moderate|2015|189.0|[61.1199989318847...|         0|\n",
      "|Ahmedabad|2015-03-01| 61.12|141.54|   16.81|    28.44|    30.48| null| Moderate|2015|189.0|[61.1199989318847...|         0|\n",
      "|Ahmedabad|2015-03-02| 60.78|141.54|   18.21|    29.48|    34.75|189.0| Moderate|2015|189.0|[60.7799987792968...|         0|\n",
      "|Ahmedabad|2015-03-06|105.45|141.54|28.56066|14.531978|34.491432| null| Moderate|2015|190.0|[105.449996948242...|         0|\n",
      "|Ahmedabad|2015-03-07|105.45|141.54|    16.1|    29.29|     69.9| null| Moderate|2015|190.0|[105.449996948242...|         0|\n",
      "|Ahmedabad|2015-03-08| 71.56|141.54|   16.83|    30.28|    57.16|190.0| Moderate|2015|190.0|[71.5599975585937...|         0|\n",
      "|Ahmedabad|2015-03-16| 30.76|141.54|   14.14|    43.62|    54.78|118.0| Moderate|2015|118.0|[30.7600002288818...|         0|\n",
      "|Ahmedabad|2015-04-03| 53.07|141.54|   13.82|    40.36|    21.76|169.0| Moderate|2015|169.0|[53.0699996948242...|         0|\n",
      "|Ahmedabad|2015-04-10| 134.6|141.54|   26.27|    34.53|      7.0| null| Moderate|2015|126.0|[134.600006103515...|         0|\n",
      "|Ahmedabad|2015-04-11| 61.06|141.54|   14.03|     8.08|    19.54|126.0| Moderate|2015|126.0|[61.0600013732910...|         0|\n",
      "|Ahmedabad|2015-04-12| 39.42|141.54|   19.56|    17.66|     31.3|175.0| Moderate|2015|175.0|[39.4199981689453...|         0|\n",
      "|Ahmedabad|2015-04-22| 63.38|141.54|   13.28|    24.79|    43.62|189.0| Moderate|2015|189.0|[63.3800010681152...|         0|\n",
      "|Ahmedabad|2015-05-06| 65.11|141.54|    4.58|    22.27|    32.26|120.0| Moderate|2015|120.0|[65.1100006103515...|         0|\n",
      "|Ahmedabad|2015-05-07| 51.03|141.54|   20.47|     15.5|    31.44|158.0| Moderate|2015|158.0|[51.0299987792968...|         0|\n",
      "|Ahmedabad|2015-05-08| 38.73|141.54|   19.28|    20.13|     25.7|177.0| Moderate|2015|177.0|[38.7299995422363...|         0|\n",
      "+---------+----------+------+------+--------+---------+---------+-----+---------+----+-----+--------------------+----------+\n",
      "only showing top 20 rows\n",
      "\n"
     ]
    },
    {
     "name": "stderr",
     "output_type": "stream",
     "text": [
      "\r",
      "                                                                                \r"
     ]
    },
    {
     "ename": "Py4JError",
     "evalue": "An error occurred while calling o3943.predict. Trace:\npy4j.Py4JException: Method predict([class org.apache.spark.sql.Dataset]) does not exist\n\tat py4j.reflection.ReflectionEngine.getMethod(ReflectionEngine.java:318)\n\tat py4j.reflection.ReflectionEngine.getMethod(ReflectionEngine.java:326)\n\tat py4j.Gateway.invoke(Gateway.java:274)\n\tat py4j.commands.AbstractCommand.invokeMethod(AbstractCommand.java:132)\n\tat py4j.commands.CallCommand.execute(CallCommand.java:79)\n\tat py4j.ClientServerConnection.waitForCommands(ClientServerConnection.java:182)\n\tat py4j.ClientServerConnection.run(ClientServerConnection.java:106)\n\tat java.base/java.lang.Thread.run(Thread.java:829)\n\n",
     "output_type": "error",
     "traceback": [
      "\u001b[0;31m---------------------------------------------------------------------------\u001b[0m",
      "\u001b[0;31mPy4JError\u001b[0m                                 Traceback (most recent call last)",
      "Input \u001b[0;32mIn [107]\u001b[0m, in \u001b[0;36m<cell line: 5>\u001b[0;34m()\u001b[0m\n\u001b[1;32m      3\u001b[0m KMeans_Assignments\u001b[38;5;241m.\u001b[39mgroupBy(\u001b[38;5;124m\"\u001b[39m\u001b[38;5;124mprediction\u001b[39m\u001b[38;5;124m\"\u001b[39m)\u001b[38;5;241m.\u001b[39mcount()\u001b[38;5;241m.\u001b[39mshow()\n\u001b[1;32m      4\u001b[0m KMeans_Assignments\u001b[38;5;241m.\u001b[39mshow()\n\u001b[0;32m----> 5\u001b[0m y_kmeans \u001b[38;5;241m=\u001b[39m \u001b[43mKMeans_Model\u001b[49m\u001b[38;5;241;43m.\u001b[39;49m\u001b[43mpredict\u001b[49m\u001b[43m(\u001b[49m\u001b[43massembled_data\u001b[49m\u001b[43m)\u001b[49m\n",
      "File \u001b[0;32m~/spark-3.2.1-bin-hadoop2.7/python/pyspark/ml/clustering.py:575\u001b[0m, in \u001b[0;36mKMeansModel.predict\u001b[0;34m(self, value)\u001b[0m\n\u001b[1;32m    570\u001b[0m \u001b[38;5;129m@since\u001b[39m(\u001b[38;5;124m\"\u001b[39m\u001b[38;5;124m3.0.0\u001b[39m\u001b[38;5;124m\"\u001b[39m)\n\u001b[1;32m    571\u001b[0m \u001b[38;5;28;01mdef\u001b[39;00m \u001b[38;5;21mpredict\u001b[39m(\u001b[38;5;28mself\u001b[39m, value):\n\u001b[1;32m    572\u001b[0m     \u001b[38;5;124;03m\"\"\"\u001b[39;00m\n\u001b[1;32m    573\u001b[0m \u001b[38;5;124;03m    Predict label for the given features.\u001b[39;00m\n\u001b[1;32m    574\u001b[0m \u001b[38;5;124;03m    \"\"\"\u001b[39;00m\n\u001b[0;32m--> 575\u001b[0m     \u001b[38;5;28;01mreturn\u001b[39;00m \u001b[38;5;28;43mself\u001b[39;49m\u001b[38;5;241;43m.\u001b[39;49m\u001b[43m_call_java\u001b[49m\u001b[43m(\u001b[49m\u001b[38;5;124;43m\"\u001b[39;49m\u001b[38;5;124;43mpredict\u001b[39;49m\u001b[38;5;124;43m\"\u001b[39;49m\u001b[43m,\u001b[49m\u001b[43m \u001b[49m\u001b[43mvalue\u001b[49m\u001b[43m)\u001b[49m\n",
      "File \u001b[0;32m~/spark-3.2.1-bin-hadoop2.7/python/pyspark/ml/wrapper.py:54\u001b[0m, in \u001b[0;36mJavaWrapper._call_java\u001b[0;34m(self, name, *args)\u001b[0m\n\u001b[1;32m     52\u001b[0m sc \u001b[38;5;241m=\u001b[39m SparkContext\u001b[38;5;241m.\u001b[39m_active_spark_context\n\u001b[1;32m     53\u001b[0m java_args \u001b[38;5;241m=\u001b[39m [_py2java(sc, arg) \u001b[38;5;28;01mfor\u001b[39;00m arg \u001b[38;5;129;01min\u001b[39;00m args]\n\u001b[0;32m---> 54\u001b[0m \u001b[38;5;28;01mreturn\u001b[39;00m _java2py(sc, \u001b[43mm\u001b[49m\u001b[43m(\u001b[49m\u001b[38;5;241;43m*\u001b[39;49m\u001b[43mjava_args\u001b[49m\u001b[43m)\u001b[49m)\n",
      "File \u001b[0;32m~/spark-3.2.1-bin-hadoop2.7/python/lib/py4j-0.10.9.3-src.zip/py4j/java_gateway.py:1321\u001b[0m, in \u001b[0;36mJavaMember.__call__\u001b[0;34m(self, *args)\u001b[0m\n\u001b[1;32m   1315\u001b[0m command \u001b[38;5;241m=\u001b[39m proto\u001b[38;5;241m.\u001b[39mCALL_COMMAND_NAME \u001b[38;5;241m+\u001b[39m\\\n\u001b[1;32m   1316\u001b[0m     \u001b[38;5;28mself\u001b[39m\u001b[38;5;241m.\u001b[39mcommand_header \u001b[38;5;241m+\u001b[39m\\\n\u001b[1;32m   1317\u001b[0m     args_command \u001b[38;5;241m+\u001b[39m\\\n\u001b[1;32m   1318\u001b[0m     proto\u001b[38;5;241m.\u001b[39mEND_COMMAND_PART\n\u001b[1;32m   1320\u001b[0m answer \u001b[38;5;241m=\u001b[39m \u001b[38;5;28mself\u001b[39m\u001b[38;5;241m.\u001b[39mgateway_client\u001b[38;5;241m.\u001b[39msend_command(command)\n\u001b[0;32m-> 1321\u001b[0m return_value \u001b[38;5;241m=\u001b[39m \u001b[43mget_return_value\u001b[49m\u001b[43m(\u001b[49m\n\u001b[1;32m   1322\u001b[0m \u001b[43m    \u001b[49m\u001b[43manswer\u001b[49m\u001b[43m,\u001b[49m\u001b[43m \u001b[49m\u001b[38;5;28;43mself\u001b[39;49m\u001b[38;5;241;43m.\u001b[39;49m\u001b[43mgateway_client\u001b[49m\u001b[43m,\u001b[49m\u001b[43m \u001b[49m\u001b[38;5;28;43mself\u001b[39;49m\u001b[38;5;241;43m.\u001b[39;49m\u001b[43mtarget_id\u001b[49m\u001b[43m,\u001b[49m\u001b[43m \u001b[49m\u001b[38;5;28;43mself\u001b[39;49m\u001b[38;5;241;43m.\u001b[39;49m\u001b[43mname\u001b[49m\u001b[43m)\u001b[49m\n\u001b[1;32m   1324\u001b[0m \u001b[38;5;28;01mfor\u001b[39;00m temp_arg \u001b[38;5;129;01min\u001b[39;00m temp_args:\n\u001b[1;32m   1325\u001b[0m     temp_arg\u001b[38;5;241m.\u001b[39m_detach()\n",
      "File \u001b[0;32m~/spark-3.2.1-bin-hadoop2.7/python/pyspark/sql/utils.py:111\u001b[0m, in \u001b[0;36mcapture_sql_exception.<locals>.deco\u001b[0;34m(*a, **kw)\u001b[0m\n\u001b[1;32m    109\u001b[0m \u001b[38;5;28;01mdef\u001b[39;00m \u001b[38;5;21mdeco\u001b[39m(\u001b[38;5;241m*\u001b[39ma, \u001b[38;5;241m*\u001b[39m\u001b[38;5;241m*\u001b[39mkw):\n\u001b[1;32m    110\u001b[0m     \u001b[38;5;28;01mtry\u001b[39;00m:\n\u001b[0;32m--> 111\u001b[0m         \u001b[38;5;28;01mreturn\u001b[39;00m \u001b[43mf\u001b[49m\u001b[43m(\u001b[49m\u001b[38;5;241;43m*\u001b[39;49m\u001b[43ma\u001b[49m\u001b[43m,\u001b[49m\u001b[43m \u001b[49m\u001b[38;5;241;43m*\u001b[39;49m\u001b[38;5;241;43m*\u001b[39;49m\u001b[43mkw\u001b[49m\u001b[43m)\u001b[49m\n\u001b[1;32m    112\u001b[0m     \u001b[38;5;28;01mexcept\u001b[39;00m py4j\u001b[38;5;241m.\u001b[39mprotocol\u001b[38;5;241m.\u001b[39mPy4JJavaError \u001b[38;5;28;01mas\u001b[39;00m e:\n\u001b[1;32m    113\u001b[0m         converted \u001b[38;5;241m=\u001b[39m convert_exception(e\u001b[38;5;241m.\u001b[39mjava_exception)\n",
      "File \u001b[0;32m~/spark-3.2.1-bin-hadoop2.7/python/lib/py4j-0.10.9.3-src.zip/py4j/protocol.py:330\u001b[0m, in \u001b[0;36mget_return_value\u001b[0;34m(answer, gateway_client, target_id, name)\u001b[0m\n\u001b[1;32m    326\u001b[0m         \u001b[38;5;28;01mraise\u001b[39;00m Py4JJavaError(\n\u001b[1;32m    327\u001b[0m             \u001b[38;5;124m\"\u001b[39m\u001b[38;5;124mAn error occurred while calling \u001b[39m\u001b[38;5;132;01m{0}\u001b[39;00m\u001b[38;5;132;01m{1}\u001b[39;00m\u001b[38;5;132;01m{2}\u001b[39;00m\u001b[38;5;124m.\u001b[39m\u001b[38;5;130;01m\\n\u001b[39;00m\u001b[38;5;124m\"\u001b[39m\u001b[38;5;241m.\u001b[39m\n\u001b[1;32m    328\u001b[0m             \u001b[38;5;28mformat\u001b[39m(target_id, \u001b[38;5;124m\"\u001b[39m\u001b[38;5;124m.\u001b[39m\u001b[38;5;124m\"\u001b[39m, name), value)\n\u001b[1;32m    329\u001b[0m     \u001b[38;5;28;01melse\u001b[39;00m:\n\u001b[0;32m--> 330\u001b[0m         \u001b[38;5;28;01mraise\u001b[39;00m Py4JError(\n\u001b[1;32m    331\u001b[0m             \u001b[38;5;124m\"\u001b[39m\u001b[38;5;124mAn error occurred while calling \u001b[39m\u001b[38;5;132;01m{0}\u001b[39;00m\u001b[38;5;132;01m{1}\u001b[39;00m\u001b[38;5;132;01m{2}\u001b[39;00m\u001b[38;5;124m. Trace:\u001b[39m\u001b[38;5;130;01m\\n\u001b[39;00m\u001b[38;5;132;01m{3}\u001b[39;00m\u001b[38;5;130;01m\\n\u001b[39;00m\u001b[38;5;124m\"\u001b[39m\u001b[38;5;241m.\u001b[39m\n\u001b[1;32m    332\u001b[0m             \u001b[38;5;28mformat\u001b[39m(target_id, \u001b[38;5;124m\"\u001b[39m\u001b[38;5;124m.\u001b[39m\u001b[38;5;124m\"\u001b[39m, name, value))\n\u001b[1;32m    333\u001b[0m \u001b[38;5;28;01melse\u001b[39;00m:\n\u001b[1;32m    334\u001b[0m     \u001b[38;5;28;01mraise\u001b[39;00m Py4JError(\n\u001b[1;32m    335\u001b[0m         \u001b[38;5;124m\"\u001b[39m\u001b[38;5;124mAn error occurred while calling \u001b[39m\u001b[38;5;132;01m{0}\u001b[39;00m\u001b[38;5;132;01m{1}\u001b[39;00m\u001b[38;5;132;01m{2}\u001b[39;00m\u001b[38;5;124m\"\u001b[39m\u001b[38;5;241m.\u001b[39m\n\u001b[1;32m    336\u001b[0m         \u001b[38;5;28mformat\u001b[39m(target_id, \u001b[38;5;124m\"\u001b[39m\u001b[38;5;124m.\u001b[39m\u001b[38;5;124m\"\u001b[39m, name))\n",
      "\u001b[0;31mPy4JError\u001b[0m: An error occurred while calling o3943.predict. Trace:\npy4j.Py4JException: Method predict([class org.apache.spark.sql.Dataset]) does not exist\n\tat py4j.reflection.ReflectionEngine.getMethod(ReflectionEngine.java:318)\n\tat py4j.reflection.ReflectionEngine.getMethod(ReflectionEngine.java:326)\n\tat py4j.Gateway.invoke(Gateway.java:274)\n\tat py4j.commands.AbstractCommand.invokeMethod(AbstractCommand.java:132)\n\tat py4j.commands.CallCommand.execute(CallCommand.java:79)\n\tat py4j.ClientServerConnection.waitForCommands(ClientServerConnection.java:182)\n\tat py4j.ClientServerConnection.run(ClientServerConnection.java:106)\n\tat java.base/java.lang.Thread.run(Thread.java:829)\n\n"
     ]
    }
   ],
   "source": [
    "from pyspark.ml.linalg import Vectors\n",
    "\n",
    "numCols = ['PM25','PM10','NO2','SO2','O3']\n",
    "target = ['AQIB_Index']\n",
    "\n",
    "y_kmeans = KMeans_Model.predict(assembled_data)\n",
    "\n"
   ]
  },
  {
   "cell_type": "code",
   "execution_count": 105,
   "metadata": {},
   "outputs": [
    {
     "name": "stderr",
     "output_type": "stream",
     "text": [
      "\r",
      "[Stage 1490:>                                                       (0 + 1) / 1]\r"
     ]
    },
    {
     "name": "stdout",
     "output_type": "stream",
     "text": [
      "+------------+----------+-----+\n",
      "|   AQIBucket|prediction|count|\n",
      "+------------+----------+-----+\n",
      "|    Moderate|         3| 3737|\n",
      "|Satisfactory|         0|  749|\n",
      "|   Very Poor|         1|  867|\n",
      "|        Poor|         1|  319|\n",
      "|    Moderate|         0| 6513|\n",
      "|      Severe|         2|  234|\n",
      "|Satisfactory|         1|   16|\n",
      "|      Severe|         4|  723|\n",
      "|Satisfactory|         4|   10|\n",
      "|        Poor|         0| 1496|\n",
      "|   Very Poor|         4| 1761|\n",
      "|Satisfactory|         3| 9462|\n",
      "|    Moderate|         4|    1|\n",
      "|        Poor|         4| 1430|\n",
      "|        Good|         3| 1567|\n",
      "|        Good|         0|   44|\n",
      "|      Severe|         1|  555|\n",
      "|    Moderate|         1|   44|\n",
      "|        Poor|         3|    3|\n",
      "+------------+----------+-----+\n",
      "\n"
     ]
    },
    {
     "name": "stderr",
     "output_type": "stream",
     "text": [
      "\r",
      "                                                                                \r"
     ]
    }
   ],
   "source": [
    "KMeans_Assignments.groupBy(\"AQIBucket\",\"prediction\").count().show()"
   ]
  },
  {
   "cell_type": "code",
   "execution_count": null,
   "metadata": {},
   "outputs": [],
   "source": [
    "plt.scatter(assembled_data[:, 0], assembled_data[:, 1], c=y_kmeans, s=50, cmap='viridis')\n",
    "\n",
    "centers = kmeans.cluster_centers_\n",
    "plt.scatter(centers[:, 0], centers[:, 1], c='black', s=200, alpha=0.5)"
   ]
  },
  {
   "cell_type": "code",
   "execution_count": 1,
   "metadata": {},
   "outputs": [
    {
     "ename": "NameError",
     "evalue": "name 'KMeans' is not defined",
     "output_type": "error",
     "traceback": [
      "\u001b[0;31m---------------------------------------------------------------------------\u001b[0m",
      "\u001b[0;31mNameError\u001b[0m                                 Traceback (most recent call last)",
      "Input \u001b[0;32mIn [1]\u001b[0m, in \u001b[0;36m<cell line: 1>\u001b[0;34m()\u001b[0m\n\u001b[0;32m----> 1\u001b[0m KMeans_\u001b[38;5;241m=\u001b[39m\u001b[43mKMeans\u001b[49m(featuresCol\u001b[38;5;241m=\u001b[39m\u001b[38;5;124m'\u001b[39m\u001b[38;5;124mfeatures\u001b[39m\u001b[38;5;124m'\u001b[39m, k\u001b[38;5;241m=\u001b[39m\u001b[38;5;241m5\u001b[39m) \n\u001b[1;32m      2\u001b[0m KMeans_Model\u001b[38;5;241m=\u001b[39mKMeans_\u001b[38;5;241m.\u001b[39mfit(assembled_data)\n\u001b[1;32m      3\u001b[0m KMeans_Assignments\u001b[38;5;241m=\u001b[39mKMeans_Model\u001b[38;5;241m.\u001b[39mtransform(assembled_data)\n",
      "\u001b[0;31mNameError\u001b[0m: name 'KMeans' is not defined"
     ]
    }
   ],
   "source": [
    "KMeans_=KMeans(featuresCol='features', k=5) \n",
    "KMeans_Model=KMeans_.fit(assembled_data)\n",
    "KMeans_Assignments=KMeans_Model.transform(assembled_data)\n",
    "\n",
    "import seaborn as sns\n",
    "import matplotlib.pyplot as plt\n",
    "import pandas as pd\n",
    "\n",
    "from pyspark.ml.feature import PCA as PCAml\n",
    "pca = PCAml(k=5, inputCol=\"features\", outputCol=\"pca\")\n",
    "pca_model = pca.fit(assembled_data)\n",
    "pca_transformed = pca_model.transform(assembled_data)\n",
    "\n",
    "\n",
    "\n",
    "\n",
    "\n"
   ]
  },
  {
   "cell_type": "code",
   "execution_count": null,
   "metadata": {},
   "outputs": [],
   "source": []
  },
  {
   "cell_type": "code",
   "execution_count": 107,
   "metadata": {},
   "outputs": [
    {
     "name": "stderr",
     "output_type": "stream",
     "text": [
      "                                                                                \r"
     ]
    }
   ],
   "source": [
    "import numpy as np\n",
    "x_pca = np.array(pca_transformed.rdd.map(lambda row: row.pca).collect())\n",
    "\n",
    "cluster_assignment = np.array(KMeans_Assignments.rdd.map(lambda row: row.prediction).collect()).reshape(-1,1)\n",
    "\n",
    "\n",
    "\n",
    "\n"
   ]
  },
  {
   "cell_type": "code",
   "execution_count": 109,
   "metadata": {},
   "outputs": [],
   "source": [
    "pca_data = np.hstack((x_pca,cluster_assignment))"
   ]
  },
  {
   "cell_type": "code",
   "execution_count": 112,
   "metadata": {},
   "outputs": [
    {
     "ename": "ValueError",
     "evalue": "Supply a 'c' argument or a 'color' kwarg but not both; they differ but their functionalities overlap.",
     "output_type": "error",
     "traceback": [
      "\u001b[0;31m---------------------------------------------------------------------------\u001b[0m",
      "\u001b[0;31mValueError\u001b[0m                                Traceback (most recent call last)",
      "Input \u001b[0;32mIn [112]\u001b[0m, in \u001b[0;36m<cell line: 7>\u001b[0;34m()\u001b[0m\n\u001b[1;32m      2\u001b[0m \u001b[38;5;28;01mimport\u001b[39;00m \u001b[38;5;21;01mmatplotlib\u001b[39;00m\u001b[38;5;21;01m.\u001b[39;00m\u001b[38;5;21;01mpyplot\u001b[39;00m \u001b[38;5;28;01mas\u001b[39;00m \u001b[38;5;21;01mplt\u001b[39;00m\n\u001b[1;32m      6\u001b[0m pca_df \u001b[38;5;241m=\u001b[39m pd\u001b[38;5;241m.\u001b[39mDataFrame(data\u001b[38;5;241m=\u001b[39mpca_data, columns\u001b[38;5;241m=\u001b[39m(\u001b[38;5;124m\"\u001b[39m\u001b[38;5;124m1\u001b[39m\u001b[38;5;124m\"\u001b[39m, \u001b[38;5;124m\"\u001b[39m\u001b[38;5;124m2\u001b[39m\u001b[38;5;124m\"\u001b[39m,\u001b[38;5;124m\"\u001b[39m\u001b[38;5;124m3\u001b[39m\u001b[38;5;124m\"\u001b[39m,\u001b[38;5;124m\"\u001b[39m\u001b[38;5;124m4\u001b[39m\u001b[38;5;124m\"\u001b[39m,\u001b[38;5;124m\"\u001b[39m\u001b[38;5;124m5\u001b[39m\u001b[38;5;124m\"\u001b[39m,\u001b[38;5;124m\"\u001b[39m\u001b[38;5;124mcluster1\u001b[39m\u001b[38;5;124m\"\u001b[39m))\n\u001b[0;32m----> 7\u001b[0m \u001b[43msns\u001b[49m\u001b[38;5;241;43m.\u001b[39;49m\u001b[43mFacetGrid\u001b[49m\u001b[43m(\u001b[49m\u001b[43mpca_df\u001b[49m\u001b[43m,\u001b[49m\u001b[43mhue\u001b[49m\u001b[38;5;241;43m=\u001b[39;49m\u001b[38;5;124;43m\"\u001b[39;49m\u001b[38;5;124;43mcluster1\u001b[39;49m\u001b[38;5;124;43m\"\u001b[39;49m\u001b[43m,\u001b[49m\u001b[43m \u001b[49m\u001b[43mheight\u001b[49m\u001b[38;5;241;43m=\u001b[39;49m\u001b[38;5;241;43m6\u001b[39;49m\u001b[43m)\u001b[49m\u001b[38;5;241;43m.\u001b[39;49m\u001b[43mmap\u001b[49m\u001b[43m(\u001b[49m\u001b[43mplt\u001b[49m\u001b[38;5;241;43m.\u001b[39;49m\u001b[43mscatter\u001b[49m\u001b[43m,\u001b[49m\u001b[43m \u001b[49m\u001b[38;5;124;43m'\u001b[39;49m\u001b[38;5;124;43m1\u001b[39;49m\u001b[38;5;124;43m'\u001b[39;49m\u001b[43m,\u001b[49m\u001b[43m \u001b[49m\u001b[38;5;124;43m'\u001b[39;49m\u001b[38;5;124;43m2\u001b[39;49m\u001b[38;5;124;43m'\u001b[39;49m\u001b[43m,\u001b[49m\u001b[38;5;124;43m'\u001b[39;49m\u001b[38;5;124;43m3\u001b[39;49m\u001b[38;5;124;43m'\u001b[39;49m\u001b[43m,\u001b[49m\u001b[38;5;124;43m'\u001b[39;49m\u001b[38;5;124;43m4\u001b[39;49m\u001b[38;5;124;43m'\u001b[39;49m\u001b[43m,\u001b[49m\u001b[38;5;124;43m'\u001b[39;49m\u001b[38;5;124;43m5\u001b[39;49m\u001b[38;5;124;43m'\u001b[39;49m\u001b[43m \u001b[49m\u001b[43m)\u001b[49m\u001b[38;5;241m.\u001b[39madd_legend()\n\u001b[1;32m      9\u001b[0m plt\u001b[38;5;241m.\u001b[39mshow()\n",
      "File \u001b[0;32m~/.local/lib/python3.10/site-packages/seaborn/axisgrid.py:710\u001b[0m, in \u001b[0;36mFacetGrid.map\u001b[0;34m(self, func, *args, **kwargs)\u001b[0m\n\u001b[1;32m    707\u001b[0m         plot_args \u001b[38;5;241m=\u001b[39m [v\u001b[38;5;241m.\u001b[39mvalues \u001b[38;5;28;01mfor\u001b[39;00m v \u001b[38;5;129;01min\u001b[39;00m plot_args]\n\u001b[1;32m    709\u001b[0m     \u001b[38;5;66;03m# Draw the plot\u001b[39;00m\n\u001b[0;32m--> 710\u001b[0m     \u001b[38;5;28;43mself\u001b[39;49m\u001b[38;5;241;43m.\u001b[39;49m\u001b[43m_facet_plot\u001b[49m\u001b[43m(\u001b[49m\u001b[43mfunc\u001b[49m\u001b[43m,\u001b[49m\u001b[43m \u001b[49m\u001b[43max\u001b[49m\u001b[43m,\u001b[49m\u001b[43m \u001b[49m\u001b[43mplot_args\u001b[49m\u001b[43m,\u001b[49m\u001b[43m \u001b[49m\u001b[43mkwargs\u001b[49m\u001b[43m)\u001b[49m\n\u001b[1;32m    712\u001b[0m \u001b[38;5;66;03m# Finalize the annotations and layout\u001b[39;00m\n\u001b[1;32m    713\u001b[0m \u001b[38;5;28mself\u001b[39m\u001b[38;5;241m.\u001b[39m_finalize_grid(args[:\u001b[38;5;241m2\u001b[39m])\n",
      "File \u001b[0;32m~/.local/lib/python3.10/site-packages/seaborn/axisgrid.py:806\u001b[0m, in \u001b[0;36mFacetGrid._facet_plot\u001b[0;34m(self, func, ax, plot_args, plot_kwargs)\u001b[0m\n\u001b[1;32m    804\u001b[0m     plot_args \u001b[38;5;241m=\u001b[39m []\n\u001b[1;32m    805\u001b[0m     plot_kwargs[\u001b[38;5;124m\"\u001b[39m\u001b[38;5;124max\u001b[39m\u001b[38;5;124m\"\u001b[39m] \u001b[38;5;241m=\u001b[39m ax\n\u001b[0;32m--> 806\u001b[0m \u001b[43mfunc\u001b[49m\u001b[43m(\u001b[49m\u001b[38;5;241;43m*\u001b[39;49m\u001b[43mplot_args\u001b[49m\u001b[43m,\u001b[49m\u001b[43m \u001b[49m\u001b[38;5;241;43m*\u001b[39;49m\u001b[38;5;241;43m*\u001b[39;49m\u001b[43mplot_kwargs\u001b[49m\u001b[43m)\u001b[49m\n\u001b[1;32m    808\u001b[0m \u001b[38;5;66;03m# Sort out the supporting information\u001b[39;00m\n\u001b[1;32m    809\u001b[0m \u001b[38;5;28mself\u001b[39m\u001b[38;5;241m.\u001b[39m_update_legend_data(ax)\n",
      "File \u001b[0;32m~/.local/lib/python3.10/site-packages/matplotlib/pyplot.py:2819\u001b[0m, in \u001b[0;36mscatter\u001b[0;34m(x, y, s, c, marker, cmap, norm, vmin, vmax, alpha, linewidths, edgecolors, plotnonfinite, data, **kwargs)\u001b[0m\n\u001b[1;32m   2814\u001b[0m \u001b[38;5;129m@_copy_docstring_and_deprecators\u001b[39m(Axes\u001b[38;5;241m.\u001b[39mscatter)\n\u001b[1;32m   2815\u001b[0m \u001b[38;5;28;01mdef\u001b[39;00m \u001b[38;5;21mscatter\u001b[39m(\n\u001b[1;32m   2816\u001b[0m         x, y, s\u001b[38;5;241m=\u001b[39m\u001b[38;5;28;01mNone\u001b[39;00m, c\u001b[38;5;241m=\u001b[39m\u001b[38;5;28;01mNone\u001b[39;00m, marker\u001b[38;5;241m=\u001b[39m\u001b[38;5;28;01mNone\u001b[39;00m, cmap\u001b[38;5;241m=\u001b[39m\u001b[38;5;28;01mNone\u001b[39;00m, norm\u001b[38;5;241m=\u001b[39m\u001b[38;5;28;01mNone\u001b[39;00m,\n\u001b[1;32m   2817\u001b[0m         vmin\u001b[38;5;241m=\u001b[39m\u001b[38;5;28;01mNone\u001b[39;00m, vmax\u001b[38;5;241m=\u001b[39m\u001b[38;5;28;01mNone\u001b[39;00m, alpha\u001b[38;5;241m=\u001b[39m\u001b[38;5;28;01mNone\u001b[39;00m, linewidths\u001b[38;5;241m=\u001b[39m\u001b[38;5;28;01mNone\u001b[39;00m, \u001b[38;5;241m*\u001b[39m,\n\u001b[1;32m   2818\u001b[0m         edgecolors\u001b[38;5;241m=\u001b[39m\u001b[38;5;28;01mNone\u001b[39;00m, plotnonfinite\u001b[38;5;241m=\u001b[39m\u001b[38;5;28;01mFalse\u001b[39;00m, data\u001b[38;5;241m=\u001b[39m\u001b[38;5;28;01mNone\u001b[39;00m, \u001b[38;5;241m*\u001b[39m\u001b[38;5;241m*\u001b[39mkwargs):\n\u001b[0;32m-> 2819\u001b[0m     __ret \u001b[38;5;241m=\u001b[39m \u001b[43mgca\u001b[49m\u001b[43m(\u001b[49m\u001b[43m)\u001b[49m\u001b[38;5;241;43m.\u001b[39;49m\u001b[43mscatter\u001b[49m\u001b[43m(\u001b[49m\n\u001b[1;32m   2820\u001b[0m \u001b[43m        \u001b[49m\u001b[43mx\u001b[49m\u001b[43m,\u001b[49m\u001b[43m \u001b[49m\u001b[43my\u001b[49m\u001b[43m,\u001b[49m\u001b[43m \u001b[49m\u001b[43ms\u001b[49m\u001b[38;5;241;43m=\u001b[39;49m\u001b[43ms\u001b[49m\u001b[43m,\u001b[49m\u001b[43m \u001b[49m\u001b[43mc\u001b[49m\u001b[38;5;241;43m=\u001b[39;49m\u001b[43mc\u001b[49m\u001b[43m,\u001b[49m\u001b[43m \u001b[49m\u001b[43mmarker\u001b[49m\u001b[38;5;241;43m=\u001b[39;49m\u001b[43mmarker\u001b[49m\u001b[43m,\u001b[49m\u001b[43m \u001b[49m\u001b[43mcmap\u001b[49m\u001b[38;5;241;43m=\u001b[39;49m\u001b[43mcmap\u001b[49m\u001b[43m,\u001b[49m\u001b[43m \u001b[49m\u001b[43mnorm\u001b[49m\u001b[38;5;241;43m=\u001b[39;49m\u001b[43mnorm\u001b[49m\u001b[43m,\u001b[49m\n\u001b[1;32m   2821\u001b[0m \u001b[43m        \u001b[49m\u001b[43mvmin\u001b[49m\u001b[38;5;241;43m=\u001b[39;49m\u001b[43mvmin\u001b[49m\u001b[43m,\u001b[49m\u001b[43m \u001b[49m\u001b[43mvmax\u001b[49m\u001b[38;5;241;43m=\u001b[39;49m\u001b[43mvmax\u001b[49m\u001b[43m,\u001b[49m\u001b[43m \u001b[49m\u001b[43malpha\u001b[49m\u001b[38;5;241;43m=\u001b[39;49m\u001b[43malpha\u001b[49m\u001b[43m,\u001b[49m\u001b[43m \u001b[49m\u001b[43mlinewidths\u001b[49m\u001b[38;5;241;43m=\u001b[39;49m\u001b[43mlinewidths\u001b[49m\u001b[43m,\u001b[49m\n\u001b[1;32m   2822\u001b[0m \u001b[43m        \u001b[49m\u001b[43medgecolors\u001b[49m\u001b[38;5;241;43m=\u001b[39;49m\u001b[43medgecolors\u001b[49m\u001b[43m,\u001b[49m\u001b[43m \u001b[49m\u001b[43mplotnonfinite\u001b[49m\u001b[38;5;241;43m=\u001b[39;49m\u001b[43mplotnonfinite\u001b[49m\u001b[43m,\u001b[49m\n\u001b[1;32m   2823\u001b[0m \u001b[43m        \u001b[49m\u001b[38;5;241;43m*\u001b[39;49m\u001b[38;5;241;43m*\u001b[39;49m\u001b[43m(\u001b[49m\u001b[43m{\u001b[49m\u001b[38;5;124;43m\"\u001b[39;49m\u001b[38;5;124;43mdata\u001b[39;49m\u001b[38;5;124;43m\"\u001b[39;49m\u001b[43m:\u001b[49m\u001b[43m \u001b[49m\u001b[43mdata\u001b[49m\u001b[43m}\u001b[49m\u001b[43m \u001b[49m\u001b[38;5;28;43;01mif\u001b[39;49;00m\u001b[43m \u001b[49m\u001b[43mdata\u001b[49m\u001b[43m \u001b[49m\u001b[38;5;129;43;01mis\u001b[39;49;00m\u001b[43m \u001b[49m\u001b[38;5;129;43;01mnot\u001b[39;49;00m\u001b[43m \u001b[49m\u001b[38;5;28;43;01mNone\u001b[39;49;00m\u001b[43m \u001b[49m\u001b[38;5;28;43;01melse\u001b[39;49;00m\u001b[43m \u001b[49m\u001b[43m{\u001b[49m\u001b[43m}\u001b[49m\u001b[43m)\u001b[49m\u001b[43m,\u001b[49m\u001b[43m \u001b[49m\u001b[38;5;241;43m*\u001b[39;49m\u001b[38;5;241;43m*\u001b[39;49m\u001b[43mkwargs\u001b[49m\u001b[43m)\u001b[49m\n\u001b[1;32m   2824\u001b[0m     sci(__ret)\n\u001b[1;32m   2825\u001b[0m     \u001b[38;5;28;01mreturn\u001b[39;00m __ret\n",
      "File \u001b[0;32m~/.local/lib/python3.10/site-packages/matplotlib/__init__.py:1412\u001b[0m, in \u001b[0;36m_preprocess_data.<locals>.inner\u001b[0;34m(ax, data, *args, **kwargs)\u001b[0m\n\u001b[1;32m   1409\u001b[0m \u001b[38;5;129m@functools\u001b[39m\u001b[38;5;241m.\u001b[39mwraps(func)\n\u001b[1;32m   1410\u001b[0m \u001b[38;5;28;01mdef\u001b[39;00m \u001b[38;5;21minner\u001b[39m(ax, \u001b[38;5;241m*\u001b[39margs, data\u001b[38;5;241m=\u001b[39m\u001b[38;5;28;01mNone\u001b[39;00m, \u001b[38;5;241m*\u001b[39m\u001b[38;5;241m*\u001b[39mkwargs):\n\u001b[1;32m   1411\u001b[0m     \u001b[38;5;28;01mif\u001b[39;00m data \u001b[38;5;129;01mis\u001b[39;00m \u001b[38;5;28;01mNone\u001b[39;00m:\n\u001b[0;32m-> 1412\u001b[0m         \u001b[38;5;28;01mreturn\u001b[39;00m \u001b[43mfunc\u001b[49m\u001b[43m(\u001b[49m\u001b[43max\u001b[49m\u001b[43m,\u001b[49m\u001b[43m \u001b[49m\u001b[38;5;241;43m*\u001b[39;49m\u001b[38;5;28;43mmap\u001b[39;49m\u001b[43m(\u001b[49m\u001b[43msanitize_sequence\u001b[49m\u001b[43m,\u001b[49m\u001b[43m \u001b[49m\u001b[43margs\u001b[49m\u001b[43m)\u001b[49m\u001b[43m,\u001b[49m\u001b[43m \u001b[49m\u001b[38;5;241;43m*\u001b[39;49m\u001b[38;5;241;43m*\u001b[39;49m\u001b[43mkwargs\u001b[49m\u001b[43m)\u001b[49m\n\u001b[1;32m   1414\u001b[0m     bound \u001b[38;5;241m=\u001b[39m new_sig\u001b[38;5;241m.\u001b[39mbind(ax, \u001b[38;5;241m*\u001b[39margs, \u001b[38;5;241m*\u001b[39m\u001b[38;5;241m*\u001b[39mkwargs)\n\u001b[1;32m   1415\u001b[0m     auto_label \u001b[38;5;241m=\u001b[39m (bound\u001b[38;5;241m.\u001b[39marguments\u001b[38;5;241m.\u001b[39mget(label_namer)\n\u001b[1;32m   1416\u001b[0m                   \u001b[38;5;129;01mor\u001b[39;00m bound\u001b[38;5;241m.\u001b[39mkwargs\u001b[38;5;241m.\u001b[39mget(label_namer))\n",
      "File \u001b[0;32m~/.local/lib/python3.10/site-packages/matplotlib/axes/_axes.py:4380\u001b[0m, in \u001b[0;36mAxes.scatter\u001b[0;34m(self, x, y, s, c, marker, cmap, norm, vmin, vmax, alpha, linewidths, edgecolors, plotnonfinite, **kwargs)\u001b[0m\n\u001b[1;32m   4377\u001b[0m \u001b[38;5;28;01mif\u001b[39;00m edgecolors \u001b[38;5;129;01mis\u001b[39;00m \u001b[38;5;28;01mNone\u001b[39;00m:\n\u001b[1;32m   4378\u001b[0m     orig_edgecolor \u001b[38;5;241m=\u001b[39m kwargs\u001b[38;5;241m.\u001b[39mget(\u001b[38;5;124m'\u001b[39m\u001b[38;5;124medgecolor\u001b[39m\u001b[38;5;124m'\u001b[39m, \u001b[38;5;28;01mNone\u001b[39;00m)\n\u001b[1;32m   4379\u001b[0m c, colors, edgecolors \u001b[38;5;241m=\u001b[39m \\\n\u001b[0;32m-> 4380\u001b[0m     \u001b[38;5;28;43mself\u001b[39;49m\u001b[38;5;241;43m.\u001b[39;49m\u001b[43m_parse_scatter_color_args\u001b[49m\u001b[43m(\u001b[49m\n\u001b[1;32m   4381\u001b[0m \u001b[43m        \u001b[49m\u001b[43mc\u001b[49m\u001b[43m,\u001b[49m\u001b[43m \u001b[49m\u001b[43medgecolors\u001b[49m\u001b[43m,\u001b[49m\u001b[43m \u001b[49m\u001b[43mkwargs\u001b[49m\u001b[43m,\u001b[49m\u001b[43m \u001b[49m\u001b[43mx\u001b[49m\u001b[38;5;241;43m.\u001b[39;49m\u001b[43msize\u001b[49m\u001b[43m,\u001b[49m\n\u001b[1;32m   4382\u001b[0m \u001b[43m        \u001b[49m\u001b[43mget_next_color_func\u001b[49m\u001b[38;5;241;43m=\u001b[39;49m\u001b[38;5;28;43mself\u001b[39;49m\u001b[38;5;241;43m.\u001b[39;49m\u001b[43m_get_patches_for_fill\u001b[49m\u001b[38;5;241;43m.\u001b[39;49m\u001b[43mget_next_color\u001b[49m\u001b[43m)\u001b[49m\n\u001b[1;32m   4384\u001b[0m \u001b[38;5;28;01mif\u001b[39;00m plotnonfinite \u001b[38;5;129;01mand\u001b[39;00m colors \u001b[38;5;129;01mis\u001b[39;00m \u001b[38;5;28;01mNone\u001b[39;00m:\n\u001b[1;32m   4385\u001b[0m     c \u001b[38;5;241m=\u001b[39m np\u001b[38;5;241m.\u001b[39mma\u001b[38;5;241m.\u001b[39mmasked_invalid(c)\n",
      "File \u001b[0;32m~/.local/lib/python3.10/site-packages/matplotlib/axes/_axes.py:4147\u001b[0m, in \u001b[0;36mAxes._parse_scatter_color_args\u001b[0;34m(c, edgecolors, kwargs, xsize, get_next_color_func)\u001b[0m\n\u001b[1;32m   4144\u001b[0m kwcolor \u001b[38;5;241m=\u001b[39m kwargs\u001b[38;5;241m.\u001b[39mpop(\u001b[38;5;124m'\u001b[39m\u001b[38;5;124mcolor\u001b[39m\u001b[38;5;124m'\u001b[39m, \u001b[38;5;28;01mNone\u001b[39;00m)\n\u001b[1;32m   4146\u001b[0m \u001b[38;5;28;01mif\u001b[39;00m kwcolor \u001b[38;5;129;01mis\u001b[39;00m \u001b[38;5;129;01mnot\u001b[39;00m \u001b[38;5;28;01mNone\u001b[39;00m \u001b[38;5;129;01mand\u001b[39;00m c \u001b[38;5;129;01mis\u001b[39;00m \u001b[38;5;129;01mnot\u001b[39;00m \u001b[38;5;28;01mNone\u001b[39;00m:\n\u001b[0;32m-> 4147\u001b[0m     \u001b[38;5;28;01mraise\u001b[39;00m \u001b[38;5;167;01mValueError\u001b[39;00m(\u001b[38;5;124m\"\u001b[39m\u001b[38;5;124mSupply a \u001b[39m\u001b[38;5;124m'\u001b[39m\u001b[38;5;124mc\u001b[39m\u001b[38;5;124m'\u001b[39m\u001b[38;5;124m argument or a \u001b[39m\u001b[38;5;124m'\u001b[39m\u001b[38;5;124mcolor\u001b[39m\u001b[38;5;124m'\u001b[39m\u001b[38;5;124m\"\u001b[39m\n\u001b[1;32m   4148\u001b[0m                      \u001b[38;5;124m\"\u001b[39m\u001b[38;5;124m kwarg but not both; they differ but\u001b[39m\u001b[38;5;124m\"\u001b[39m\n\u001b[1;32m   4149\u001b[0m                      \u001b[38;5;124m\"\u001b[39m\u001b[38;5;124m their functionalities overlap.\u001b[39m\u001b[38;5;124m\"\u001b[39m)\n\u001b[1;32m   4151\u001b[0m \u001b[38;5;28;01mif\u001b[39;00m kwcolor \u001b[38;5;129;01mis\u001b[39;00m \u001b[38;5;129;01mnot\u001b[39;00m \u001b[38;5;28;01mNone\u001b[39;00m:\n\u001b[1;32m   4152\u001b[0m     \u001b[38;5;28;01mtry\u001b[39;00m:\n",
      "\u001b[0;31mValueError\u001b[0m: Supply a 'c' argument or a 'color' kwarg but not both; they differ but their functionalities overlap."
     ]
    },
    {
     "data": {
      "image/png": "[encoded data removed]",
      "text/plain": [
       "<Figure size 432x432 with 1 Axes>"
      ]
     },
     "metadata": {
      "needs_background": "light"
     },
     "output_type": "display_data"
    }
   ],
   "source": [
    "import seaborn as sns\n",
    "import matplotlib.pyplot as plt\n",
    "\n",
    "\n",
    "\n",
    "pca_df = pd.DataFrame(data=pca_data, columns=(\"1\", \"2\",\"3\",\"4\",\"5\",\"cluster1\"))\n",
    "sns.FacetGrid(pca_df,hue=\"cluster1\", height=6).map(plt.scatter, '1', '2','3','4','5' ).add_legend()\n",
    "\n",
    "plt.show()\n",
    "\n",
    "# Reformat and view results\n",
    "loadings = pandas.DataFrame(pca_data,\n",
    "columns=['PC%s' % _ for _ in range(len(df_normalized.columns))],\n",
    "index=df.columns)\n",
    "print(loadings)\n",
    "\n",
    "plot.plot(pca.explained_variance_ratio_)\n",
    "plot.ylabel('Explained Variance')\n",
    "plot.xlabel('Components')\n",
    "plot.show()\n",
    "\n",
    "\n"
   ]
  },
  {
   "cell_type": "code",
   "execution_count": 110,
   "metadata": {},
   "outputs": [
    {
     "data": {
      "text/plain": [
       "array([[-107.63887621,  103.40503395,   32.35565438,   -5.25450014,\n",
       "           3.8186902 ,    0.        ],\n",
       "       [-206.30646546,   61.04307343,   28.28880436,  -42.11256801,\n",
       "         -25.61568517,    3.        ],\n",
       "       [-250.34367011,   44.45052225,   18.65370352,  -55.04555487,\n",
       "         -20.62821161,    3.        ],\n",
       "       ...,\n",
       "       [-358.0330861 ,   -2.81806213,    4.84781684,  -51.39542837,\n",
       "          16.40874459,    4.        ],\n",
       "       [-380.86561543,   42.14086501,   33.01824176,  -46.00495082,\n",
       "          -2.85215285,    4.        ],\n",
       "       [-472.75461535,  159.45115553,   20.98572926,  -55.80149907,\n",
       "           8.00440226,    2.        ]])"
      ]
     },
     "execution_count": 110,
     "metadata": {},
     "output_type": "execute_result"
    }
   ],
   "source": [
    "pca_data\n"
   ]
  },
  {
   "cell_type": "code",
   "execution_count": 127,
   "metadata": {},
   "outputs": [
    {
     "ename": "ModuleNotFoundError",
     "evalue": "No module named 'sklearn'",
     "output_type": "error",
     "traceback": [
      "\u001b[0;31m---------------------------------------------------------------------------\u001b[0m",
      "\u001b[0;31mModuleNotFoundError\u001b[0m                       Traceback (most recent call last)",
      "Input \u001b[0;32mIn [127]\u001b[0m, in \u001b[0;36m<cell line: 1>\u001b[0;34m()\u001b[0m\n\u001b[0;32m----> 1\u001b[0m \u001b[38;5;28;01mfrom\u001b[39;00m \u001b[38;5;21;01msklearn\u001b[39;00m\u001b[38;5;21;01m.\u001b[39;00m\u001b[38;5;21;01mmanifold\u001b[39;00m \u001b[38;5;28;01mimport\u001b[39;00m TSNE\n\u001b[1;32m      2\u001b[0m tSNE\u001b[38;5;241m=\u001b[39mTSNE(n_components\u001b[38;5;241m=\u001b[39m\u001b[38;5;241m2\u001b[39m)\n\u001b[1;32m      3\u001b[0m tSNE_result\u001b[38;5;241m=\u001b[39mtSNE\u001b[38;5;241m.\u001b[39mfit_transform(assembled_data)\n",
      "\u001b[0;31mModuleNotFoundError\u001b[0m: No module named 'sklearn'"
     ]
    }
   ],
   "source": [
    "\n",
    "\n",
    "from sklearn.manifold import TSNE\n",
    "\n",
    "tSNE=TSNE(n_components=2)\n",
    "tSNE_result=tSNE.fit_transform(assembled_data)\n",
    "\n",
    "x=tSNE_result[:,0]\n",
    "y=tSNE_result[:,1]\n",
    "\n",
    "import pandas as pd\n",
    "import seaborn as sns\n",
    "\n",
    "\n",
    "numCols = ['PM25','PM10','NO2','SO2','O3']\n",
    "target = ['AQIB_Index']\n",
    "\n",
    "\n",
    "df = pd.DataFrame(data=assembled_data,columns=numCols)\n",
    "df['target']=target\n",
    "df['x']=x\n",
    "df['y']=y\n",
    "\n",
    "plt.figure(figsize=(16,7))\n",
    "sns.scatterplot(x='x',y='y',hue='target',palette=sns.color_palette(\"hls\",10),data=df,\n",
    "               legend=\"full\")\n",
    "plt.show()\n",
    "\n"
   ]
  },
  {
   "cell_type": "code",
   "execution_count": 128,
   "metadata": {},
   "outputs": [
    {
     "data": {
      "text/plain": [
       "array([[-107.63887621,  103.40503395,    1.        ],\n",
       "       [-206.30646546,   61.04307343,    4.        ],\n",
       "       [-250.34367011,   44.45052225,    4.        ],\n",
       "       ...,\n",
       "       [-358.0330861 ,   -2.81806213,    2.        ],\n",
       "       [-380.86561543,   42.14086501,    2.        ],\n",
       "       [-472.75461535,  159.45115553,    0.        ]])"
      ]
     },
     "execution_count": 128,
     "metadata": {},
     "output_type": "execute_result"
    }
   ],
   "source": [
    "pca_data"
   ]
  },
  {
   "cell_type": "code",
   "execution_count": 129,
   "metadata": {},
   "outputs": [
    {
     "ename": "TypeError",
     "evalue": "'DataFrame' object is not callable",
     "output_type": "error",
     "traceback": [
      "\u001b[0;31m---------------------------------------------------------------------------\u001b[0m",
      "\u001b[0;31mTypeError\u001b[0m                                 Traceback (most recent call last)",
      "Input \u001b[0;32mIn [129]\u001b[0m, in \u001b[0;36m<cell line: 1>\u001b[0;34m()\u001b[0m\n\u001b[0;32m----> 1\u001b[0m pca_df \u001b[38;5;241m=\u001b[39m \u001b[43mpandasDF\u001b[49m\u001b[43m(\u001b[49m\u001b[43mdata\u001b[49m\u001b[38;5;241;43m=\u001b[39;49m\u001b[43mpca_data\u001b[49m\u001b[43m,\u001b[49m\u001b[43m \u001b[49m\u001b[43mcolumns\u001b[49m\u001b[38;5;241;43m=\u001b[39;49m\u001b[43m(\u001b[49m\u001b[38;5;124;43m\"\u001b[39;49m\u001b[38;5;124;43m1st_principal\u001b[39;49m\u001b[38;5;124;43m\"\u001b[39;49m\u001b[43m,\u001b[49m\u001b[43m \u001b[49m\u001b[38;5;124;43m\"\u001b[39;49m\u001b[38;5;124;43m2nd_principal\u001b[39;49m\u001b[38;5;124;43m\"\u001b[39;49m\u001b[43m,\u001b[49m\u001b[38;5;124;43m\"\u001b[39;49m\u001b[38;5;124;43mcluster_assignment\u001b[39;49m\u001b[38;5;124;43m\"\u001b[39;49m\u001b[43m)\u001b[49m\u001b[43m)\u001b[49m\n\u001b[1;32m      2\u001b[0m sns\u001b[38;5;241m.\u001b[39mFacetGrid(pca_df,hue\u001b[38;5;241m=\u001b[39m\u001b[38;5;124m\"\u001b[39m\u001b[38;5;124mcluster_assignment\u001b[39m\u001b[38;5;124m\"\u001b[39m, height\u001b[38;5;241m=\u001b[39m\u001b[38;5;241m6\u001b[39m)\u001b[38;5;241m.\u001b[39mmap(plt\u001b[38;5;241m.\u001b[39mscatter, \u001b[38;5;124m'\u001b[39m\u001b[38;5;124m1st_principal\u001b[39m\u001b[38;5;124m'\u001b[39m, \u001b[38;5;124m'\u001b[39m\u001b[38;5;124m2nd_principal\u001b[39m\u001b[38;5;124m'\u001b[39m )\u001b[38;5;241m.\u001b[39madd_legend()\n\u001b[1;32m      4\u001b[0m plt\u001b[38;5;241m.\u001b[39mshow()\n",
      "\u001b[0;31mTypeError\u001b[0m: 'DataFrame' object is not callable"
     ]
    }
   ],
   "source": [
    "\n",
    "\n",
    "\n"
   ]
  },
  {
   "cell_type": "code",
   "execution_count": null,
   "metadata": {},
   "outputs": [],
   "source": []
  }
 ],
 "metadata": {
  "kernelspec": {
   "display_name": "Python 3 (ipykernel)",
   "language": "python",
   "name": "python3"
  },
  "language_info": {
   "codemirror_mode": {
    "name": "ipython",
    "version": 3
   },
   "file_extension": ".py",
   "mimetype": "text/x-python",
   "name": "python",
   "nbconvert_exporter": "python",
   "pygments_lexer": "ipython3",
   "version": "3.10.4"
  }
 },
 "nbformat": 4,
 "nbformat_minor": 2
}
