{
 "cells": [
  {
   "cell_type": "markdown",
   "metadata": {},
   "source": [
    "# Spark data mining"
   ]
  },
  {
   "cell_type": "code",
   "execution_count": 1,
   "metadata": {},
   "outputs": [
    {
     "name": "stderr",
     "output_type": "stream",
     "text": [
      "WARNING: An illegal reflective access operation has occurred\n",
      "WARNING: Illegal reflective access by org.apache.spark.unsafe.Platform (file:/home/ubuntu/spark-3.2.1-bin-hadoop2.7/jars/spark-unsafe_2.12-3.2.1.jar) to constructor java.nio.DirectByteBuffer(long,int)\n",
      "WARNING: Please consider reporting this to the maintainers of org.apache.spark.unsafe.Platform\n",
      "WARNING: Use --illegal-access=warn to enable warnings of further illegal reflective access operations\n",
      "WARNING: All illegal access operations will be denied in a future release\n",
      "Using Spark's default log4j profile: org/apache/spark/log4j-defaults.properties\n",
      "Setting default log level to \"WARN\".\n",
      "To adjust logging level use sc.setLogLevel(newLevel). For SparkR, use setLogLevel(newLevel).\n",
      "22/10/14 01:51:53 WARN NativeCodeLoader: Unable to load native-hadoop library for your platform... using builtin-java classes where applicable\n"
     ]
    }
   ],
   "source": [
    "# Must be included at the beginning of each new notebook. Remember to change the app name.\n",
    "import findspark\n",
    "findspark.init('/home/ubuntu/spark-3.2.1-bin-hadoop2.7')\n",
    "import warnings\n",
    "warnings.simplefilter(action='ignore')\n",
    "import pyspark\n",
    "from pyspark.sql import SparkSession\n",
    "spark = SparkSession.builder.appName('readin').getOrCreate()"
   ]
  },
  {
   "cell_type": "code",
   "execution_count": 2,
   "metadata": {},
   "outputs": [
    {
     "name": "stdout",
     "output_type": "stream",
     "text": [
      "+---------+----------+----+----+------+-----+------+----+------+-----+------+-------+-------+------+----+---------+\n",
      "|     City|      Date|PM25|PM10|    NO|  NO2|   NOX| NH3|    CO|  SO2|    O3|benzene|toluene|Xylene| AQI|AQIBucket|\n",
      "+---------+----------+----+----+------+-----+------+----+------+-----+------+-------+-------+------+----+---------+\n",
      "|Ahmedabad|2015-01-01|null|null|  0.92|18.22| 17.15|null|  0.92|27.64|133.36|    0.0|   0.02|   0.0|null|     null|\n",
      "|Ahmedabad|2015-01-02|null|null|  0.97|15.69| 16.46|null|  0.97|24.55| 34.06|   3.68|    5.5|  3.77|null|     null|\n",
      "|Ahmedabad|2015-01-03|null|null|  17.4| 19.3|  29.7|null|  17.4|29.07|  30.7|    6.8|   16.4|  2.25|null|     null|\n",
      "|Ahmedabad|2015-01-04|null|null|   1.7|18.48| 17.97|null|   1.7|18.59| 36.08|   4.43|  10.14|   1.0|null|     null|\n",
      "|Ahmedabad|2015-01-05|null|null|  22.1|21.42| 37.76|null|  22.1|39.33| 39.31|   7.01|  18.89|  2.78|null|     null|\n",
      "|Ahmedabad|2015-01-06|null|null| 45.41|38.48|  81.5|null| 45.41|45.76| 46.51|   5.42|  10.83|  1.93|null|     null|\n",
      "|Ahmedabad|2015-01-07|null|null|112.16|40.62|130.77|null|112.16|32.28| 33.47|    0.0|    0.0|   0.0|null|     null|\n",
      "|Ahmedabad|2015-01-08|null|null| 80.87|36.74| 96.75|null| 80.87|38.54| 31.89|    0.0|    0.0|   0.0|null|     null|\n",
      "|Ahmedabad|2015-01-09|null|null| 29.16| 31.0|  48.0|null| 29.16|58.68| 25.75|    0.0|    0.0|   0.0|null|     null|\n",
      "|Ahmedabad|2015-01-10|null|null|  null| 7.04|   0.0|null|  null| 8.29|  4.55|    0.0|    0.0|   0.0|null|     null|\n",
      "|Ahmedabad|2015-01-11|null|null|132.07| 55.8| 24.53|null|132.07|25.03|  6.79|    0.0|    0.0|   0.0|null|     null|\n",
      "|Ahmedabad|2015-01-12|null|null| 52.04|40.67| 90.24|null| 52.04|51.84| 45.89|   2.41|   0.03|  7.88|null|     null|\n",
      "|Ahmedabad|2015-01-13|null|null| 48.82| 44.2| 87.09|null| 48.82|68.21| 35.16|   9.45|  13.35|  12.5|null|     null|\n",
      "|Ahmedabad|2015-01-14|null|null|  19.2|27.86| 33.05|null|  19.2|52.65| 20.96|   2.16|   2.26|  5.19|null|     null|\n",
      "|Ahmedabad|2015-01-15|null|null|   0.6|16.96|  16.6|null|   0.6|28.89| 47.63|   0.14|   0.04|  1.35|null|     null|\n",
      "|Ahmedabad|2015-01-16|null|null|  1.63|21.72| 22.86|null|  1.63|38.27| 46.03|   0.35|   0.05|  2.01|null|     null|\n",
      "|Ahmedabad|2015-01-17|null|null| 11.44|24.73| 34.75|null| 11.44| 49.5| 52.24|   0.68|    0.0|  3.27|null|     null|\n",
      "|Ahmedabad|2015-01-18|null|null|   6.1|25.77| 29.57|null|   6.1|48.43| 53.49|   0.74|   0.21|  2.75|null|     null|\n",
      "|Ahmedabad|2015-01-19|null|null|  2.51|26.88| 27.45|null|  2.51|50.03| 49.48|   0.26|   0.02|   2.8|null|     null|\n",
      "|Ahmedabad|2015-01-20|null|null|  7.92| 26.8|  32.4|null|  7.92|58.87| 56.37|   0.24|   0.01|  3.97|null|     null|\n",
      "+---------+----------+----+----+------+-----+------+----+------+-----+------+-------+-------+------+----+---------+\n",
      "only showing top 20 rows\n",
      "\n"
     ]
    },
    {
     "name": "stderr",
     "output_type": "stream",
     "text": [
      "\r",
      "[Stage 0:===========================================================(1 + 0) / 1]\r",
      "\r",
      "                                                                                \r"
     ]
    }
   ],
   "source": [
    "# Let's read in the data. Note that it's in the csv\n",
    "\n",
    "#City,Date,PM2.5,PM10,NO,NO2,NOx,NH3,CO,SO2,O3,Benzene,Toluene,Xylene,AQI,AQI_Bucket\n",
    "#define the schema\n",
    "\n",
    "# Let's import in the relevant types.\n",
    "warnings.filterwarnings('ignore')\n",
    "from pyspark.sql.types import *\n",
    "Schema=StructType([\n",
    "  StructField(\"City\",StringType(),nullable=True),\n",
    "  StructField(\"Date\",StringType(),nullable=True),\n",
    "  StructField(\"PM25\",FloatType(),nullable=True),\n",
    "  StructField(\"PM10\",FloatType(),nullable=True),\n",
    "  StructField(\"NO\",FloatType(),nullable=True),\n",
    "  StructField(\"NO2\",FloatType(),nullable=True),\n",
    "  StructField(\"NOX\",FloatType(),nullable=True),\n",
    "  StructField(\"NH3\",FloatType(),nullable=True),\n",
    "  StructField(\"CO\",FloatType(),nullable=True),\n",
    "  StructField(\"SO2\",FloatType(),nullable=True),\n",
    "  StructField(\"O3\",FloatType(),nullable=True),\n",
    "  StructField(\"benzene\",FloatType(),nullable=True),\n",
    "  StructField(\"toluene\",FloatType(),nullable=True),\n",
    "  StructField(\"Xylene\",FloatType(),nullable=True),\n",
    "  StructField(\"AQI\",FloatType(),nullable=True),\n",
    "  StructField(\"AQIBucket\",StringType(),nullable=True)\n",
    "])\n",
    "df = spark.read.option(\"header\",True).schema(Schema).csv(\"Datasets/city_day.csv\")\n",
    "\n",
    "df.show()\n"
   ]
  },
  {
   "cell_type": "markdown",
   "metadata": {},
   "source": [
    "## Data Exploration"
   ]
  },
  {
   "cell_type": "code",
   "execution_count": 3,
   "metadata": {},
   "outputs": [
    {
     "name": "stdout",
     "output_type": "stream",
     "text": [
      "+---------+----------+----+----+------+-----+------+----+------+-----+------+-------+-------+------+----+---------+\n",
      "|     City|      Date|PM25|PM10|    NO|  NO2|   NOX| NH3|    CO|  SO2|    O3|benzene|toluene|Xylene| AQI|AQIBucket|\n",
      "+---------+----------+----+----+------+-----+------+----+------+-----+------+-------+-------+------+----+---------+\n",
      "|Ahmedabad|2015-01-01|null|null|  0.92|18.22| 17.15|null|  0.92|27.64|133.36|    0.0|   0.02|   0.0|null|     null|\n",
      "|Ahmedabad|2015-01-02|null|null|  0.97|15.69| 16.46|null|  0.97|24.55| 34.06|   3.68|    5.5|  3.77|null|     null|\n",
      "|Ahmedabad|2015-01-03|null|null|  17.4| 19.3|  29.7|null|  17.4|29.07|  30.7|    6.8|   16.4|  2.25|null|     null|\n",
      "|Ahmedabad|2015-01-04|null|null|   1.7|18.48| 17.97|null|   1.7|18.59| 36.08|   4.43|  10.14|   1.0|null|     null|\n",
      "|Ahmedabad|2015-01-05|null|null|  22.1|21.42| 37.76|null|  22.1|39.33| 39.31|   7.01|  18.89|  2.78|null|     null|\n",
      "|Ahmedabad|2015-01-06|null|null| 45.41|38.48|  81.5|null| 45.41|45.76| 46.51|   5.42|  10.83|  1.93|null|     null|\n",
      "|Ahmedabad|2015-01-07|null|null|112.16|40.62|130.77|null|112.16|32.28| 33.47|    0.0|    0.0|   0.0|null|     null|\n",
      "|Ahmedabad|2015-01-08|null|null| 80.87|36.74| 96.75|null| 80.87|38.54| 31.89|    0.0|    0.0|   0.0|null|     null|\n",
      "|Ahmedabad|2015-01-09|null|null| 29.16| 31.0|  48.0|null| 29.16|58.68| 25.75|    0.0|    0.0|   0.0|null|     null|\n",
      "|Ahmedabad|2015-01-10|null|null|  null| 7.04|   0.0|null|  null| 8.29|  4.55|    0.0|    0.0|   0.0|null|     null|\n",
      "|Ahmedabad|2015-01-11|null|null|132.07| 55.8| 24.53|null|132.07|25.03|  6.79|    0.0|    0.0|   0.0|null|     null|\n",
      "|Ahmedabad|2015-01-12|null|null| 52.04|40.67| 90.24|null| 52.04|51.84| 45.89|   2.41|   0.03|  7.88|null|     null|\n",
      "|Ahmedabad|2015-01-13|null|null| 48.82| 44.2| 87.09|null| 48.82|68.21| 35.16|   9.45|  13.35|  12.5|null|     null|\n",
      "|Ahmedabad|2015-01-14|null|null|  19.2|27.86| 33.05|null|  19.2|52.65| 20.96|   2.16|   2.26|  5.19|null|     null|\n",
      "|Ahmedabad|2015-01-15|null|null|   0.6|16.96|  16.6|null|   0.6|28.89| 47.63|   0.14|   0.04|  1.35|null|     null|\n",
      "|Ahmedabad|2015-01-16|null|null|  1.63|21.72| 22.86|null|  1.63|38.27| 46.03|   0.35|   0.05|  2.01|null|     null|\n",
      "|Ahmedabad|2015-01-17|null|null| 11.44|24.73| 34.75|null| 11.44| 49.5| 52.24|   0.68|    0.0|  3.27|null|     null|\n",
      "|Ahmedabad|2015-01-18|null|null|   6.1|25.77| 29.57|null|   6.1|48.43| 53.49|   0.74|   0.21|  2.75|null|     null|\n",
      "|Ahmedabad|2015-01-19|null|null|  2.51|26.88| 27.45|null|  2.51|50.03| 49.48|   0.26|   0.02|   2.8|null|     null|\n",
      "|Ahmedabad|2015-01-20|null|null|  7.92| 26.8|  32.4|null|  7.92|58.87| 56.37|   0.24|   0.01|  3.97|null|     null|\n",
      "+---------+----------+----+----+------+-----+------+----+------+-----+------+-------+-------+------+----+---------+\n",
      "only showing top 20 rows\n",
      "\n"
     ]
    },
    {
     "name": "stderr",
     "output_type": "stream",
     "text": [
      "                                                                                \r"
     ]
    },
    {
     "data": {
      "text/html": [
       "<div>\n",
       "<style scoped>\n",
       "    .dataframe tbody tr th:only-of-type {\n",
       "        vertical-align: middle;\n",
       "    }\n",
       "\n",
       "    .dataframe tbody tr th {\n",
       "        vertical-align: top;\n",
       "    }\n",
       "\n",
       "    .dataframe thead th {\n",
       "        text-align: right;\n",
       "    }\n",
       "</style>\n",
       "<table border=\"1\" class=\"dataframe\">\n",
       "  <thead>\n",
       "    <tr style=\"text-align: right;\">\n",
       "      <th></th>\n",
       "      <th>summary</th>\n",
       "      <th>City</th>\n",
       "      <th>Date</th>\n",
       "      <th>PM25</th>\n",
       "      <th>PM10</th>\n",
       "      <th>NO</th>\n",
       "      <th>NO2</th>\n",
       "      <th>NOX</th>\n",
       "      <th>NH3</th>\n",
       "      <th>CO</th>\n",
       "      <th>SO2</th>\n",
       "      <th>O3</th>\n",
       "      <th>benzene</th>\n",
       "      <th>toluene</th>\n",
       "      <th>Xylene</th>\n",
       "      <th>AQI</th>\n",
       "      <th>AQIBucket</th>\n",
       "    </tr>\n",
       "  </thead>\n",
       "  <tbody>\n",
       "    <tr>\n",
       "      <th>0</th>\n",
       "      <td>count</td>\n",
       "      <td>29531</td>\n",
       "      <td>29531</td>\n",
       "      <td>24933</td>\n",
       "      <td>18391</td>\n",
       "      <td>25949</td>\n",
       "      <td>25946</td>\n",
       "      <td>25346</td>\n",
       "      <td>19203</td>\n",
       "      <td>27472</td>\n",
       "      <td>25677</td>\n",
       "      <td>25509</td>\n",
       "      <td>23908</td>\n",
       "      <td>21490</td>\n",
       "      <td>11422</td>\n",
       "      <td>24850</td>\n",
       "      <td>24850</td>\n",
       "    </tr>\n",
       "    <tr>\n",
       "      <th>1</th>\n",
       "      <td>mean</td>\n",
       "      <td>None</td>\n",
       "      <td>None</td>\n",
       "      <td>67.45057795305125</td>\n",
       "      <td>118.12710294174458</td>\n",
       "      <td>17.574729666828148</td>\n",
       "      <td>28.560659052670943</td>\n",
       "      <td>32.3091233306691</td>\n",
       "      <td>23.483476022437166</td>\n",
       "      <td>2.248598209145695</td>\n",
       "      <td>14.531977259530647</td>\n",
       "      <td>34.49143047007627</td>\n",
       "      <td>3.280840303665094</td>\n",
       "      <td>8.700972087396305</td>\n",
       "      <td>3.0701278206492613</td>\n",
       "      <td>166.4635814889336</td>\n",
       "      <td>None</td>\n",
       "    </tr>\n",
       "    <tr>\n",
       "      <th>2</th>\n",
       "      <td>stddev</td>\n",
       "      <td>None</td>\n",
       "      <td>None</td>\n",
       "      <td>64.66144940408857</td>\n",
       "      <td>90.60510976469615</td>\n",
       "      <td>22.785846340154315</td>\n",
       "      <td>24.474745771469095</td>\n",
       "      <td>31.646010951236956</td>\n",
       "      <td>25.68427498752751</td>\n",
       "      <td>6.962884271836143</td>\n",
       "      <td>18.13377486834342</td>\n",
       "      <td>21.694928182946093</td>\n",
       "      <td>15.811136401685069</td>\n",
       "      <td>19.969163666257156</td>\n",
       "      <td>6.323247403424576</td>\n",
       "      <td>140.69658509414992</td>\n",
       "      <td>None</td>\n",
       "    </tr>\n",
       "    <tr>\n",
       "      <th>3</th>\n",
       "      <td>min</td>\n",
       "      <td>Ahmedabad</td>\n",
       "      <td>2015-01-01</td>\n",
       "      <td>0.04</td>\n",
       "      <td>0.01</td>\n",
       "      <td>0.02</td>\n",
       "      <td>0.01</td>\n",
       "      <td>0.0</td>\n",
       "      <td>0.01</td>\n",
       "      <td>0.0</td>\n",
       "      <td>0.01</td>\n",
       "      <td>0.01</td>\n",
       "      <td>0.0</td>\n",
       "      <td>0.0</td>\n",
       "      <td>0.0</td>\n",
       "      <td>13.0</td>\n",
       "      <td>Good</td>\n",
       "    </tr>\n",
       "    <tr>\n",
       "      <th>4</th>\n",
       "      <td>max</td>\n",
       "      <td>Visakhapatnam</td>\n",
       "      <td>2020-07-01</td>\n",
       "      <td>949.99</td>\n",
       "      <td>1000.0</td>\n",
       "      <td>390.68</td>\n",
       "      <td>362.21</td>\n",
       "      <td>467.63</td>\n",
       "      <td>352.89</td>\n",
       "      <td>175.81</td>\n",
       "      <td>193.86</td>\n",
       "      <td>257.73</td>\n",
       "      <td>455.03</td>\n",
       "      <td>454.85</td>\n",
       "      <td>170.37</td>\n",
       "      <td>2049.0</td>\n",
       "      <td>Very Poor</td>\n",
       "    </tr>\n",
       "  </tbody>\n",
       "</table>\n",
       "</div>"
      ],
      "text/plain": [
       "  summary           City        Date               PM25                PM10  \\\n",
       "0   count          29531       29531              24933               18391   \n",
       "1    mean           None        None  67.45057795305125  118.12710294174458   \n",
       "2  stddev           None        None  64.66144940408857   90.60510976469615   \n",
       "3     min      Ahmedabad  2015-01-01               0.04                0.01   \n",
       "4     max  Visakhapatnam  2020-07-01             949.99              1000.0   \n",
       "\n",
       "                   NO                 NO2                 NOX  \\\n",
       "0               25949               25946               25346   \n",
       "1  17.574729666828148  28.560659052670943    32.3091233306691   \n",
       "2  22.785846340154315  24.474745771469095  31.646010951236956   \n",
       "3                0.02                0.01                 0.0   \n",
       "4              390.68              362.21              467.63   \n",
       "\n",
       "                  NH3                 CO                 SO2  \\\n",
       "0               19203              27472               25677   \n",
       "1  23.483476022437166  2.248598209145695  14.531977259530647   \n",
       "2   25.68427498752751  6.962884271836143   18.13377486834342   \n",
       "3                0.01                0.0                0.01   \n",
       "4              352.89             175.81              193.86   \n",
       "\n",
       "                   O3             benzene             toluene  \\\n",
       "0               25509               23908               21490   \n",
       "1   34.49143047007627   3.280840303665094   8.700972087396305   \n",
       "2  21.694928182946093  15.811136401685069  19.969163666257156   \n",
       "3                0.01                 0.0                 0.0   \n",
       "4              257.73              455.03              454.85   \n",
       "\n",
       "               Xylene                 AQI  AQIBucket  \n",
       "0               11422               24850      24850  \n",
       "1  3.0701278206492613   166.4635814889336       None  \n",
       "2   6.323247403424576  140.69658509414992       None  \n",
       "3                 0.0                13.0       Good  \n",
       "4              170.37              2049.0  Very Poor  "
      ]
     },
     "execution_count": 3,
     "metadata": {},
     "output_type": "execute_result"
    }
   ],
   "source": [
    "# The show method allows you visualise DataFrames. We can see that there are two columns. \n",
    "df.show()\n",
    "\n",
    "# You could also try this. \n",
    "df.columns\n",
    "\n",
    "df.dtypes\n",
    "\n",
    "df.describe().toPandas()\n"
   ]
  },
  {
   "cell_type": "code",
   "execution_count": 4,
   "metadata": {},
   "outputs": [],
   "source": [
    "import pyspark.sql.functions as F\n",
    "import pandas as pd\n",
    "\n",
    "dflog=df\n",
    "\n",
    "pd1=dflog.toPandas()\n",
    "pd1['year']=pd.DatetimeIndex(pd1['Date']).year"
   ]
  },
  {
   "cell_type": "code",
   "execution_count": 5,
   "metadata": {},
   "outputs": [
    {
     "name": "stderr",
     "output_type": "stream",
     "text": [
      "                                                                                \r"
     ]
    },
    {
     "data": {
      "text/html": [
       "<div>\n",
       "<style scoped>\n",
       "    .dataframe tbody tr th:only-of-type {\n",
       "        vertical-align: middle;\n",
       "    }\n",
       "\n",
       "    .dataframe tbody tr th {\n",
       "        vertical-align: top;\n",
       "    }\n",
       "\n",
       "    .dataframe thead th {\n",
       "        text-align: right;\n",
       "    }\n",
       "</style>\n",
       "<table border=\"1\" class=\"dataframe\">\n",
       "  <thead>\n",
       "    <tr style=\"text-align: right;\">\n",
       "      <th></th>\n",
       "      <th>summary</th>\n",
       "      <th>City</th>\n",
       "      <th>Date</th>\n",
       "      <th>PM25</th>\n",
       "      <th>PM10</th>\n",
       "      <th>NO2</th>\n",
       "      <th>SO2</th>\n",
       "      <th>O3</th>\n",
       "      <th>AQI</th>\n",
       "      <th>AQIBucket</th>\n",
       "      <th>PM25L</th>\n",
       "      <th>SO2L</th>\n",
       "      <th>NO2L</th>\n",
       "      <th>PM10L</th>\n",
       "      <th>AQIL</th>\n",
       "      <th>O3L</th>\n",
       "    </tr>\n",
       "  </thead>\n",
       "  <tbody>\n",
       "    <tr>\n",
       "      <th>0</th>\n",
       "      <td>count</td>\n",
       "      <td>29531</td>\n",
       "      <td>29531</td>\n",
       "      <td>24933</td>\n",
       "      <td>18391</td>\n",
       "      <td>25946</td>\n",
       "      <td>25677</td>\n",
       "      <td>25509</td>\n",
       "      <td>24850</td>\n",
       "      <td>24850</td>\n",
       "      <td>24933</td>\n",
       "      <td>25677</td>\n",
       "      <td>25946</td>\n",
       "      <td>18391</td>\n",
       "      <td>24850</td>\n",
       "      <td>25509</td>\n",
       "    </tr>\n",
       "    <tr>\n",
       "      <th>1</th>\n",
       "      <td>mean</td>\n",
       "      <td>None</td>\n",
       "      <td>None</td>\n",
       "      <td>67.45057795305125</td>\n",
       "      <td>118.12710294174458</td>\n",
       "      <td>28.560659052670943</td>\n",
       "      <td>14.531977259530647</td>\n",
       "      <td>34.49143047007627</td>\n",
       "      <td>166.4635814889336</td>\n",
       "      <td>None</td>\n",
       "      <td>3.885701913793943</td>\n",
       "      <td>2.2684374470398123</td>\n",
       "      <td>3.0130977074753162</td>\n",
       "      <td>4.504168184546539</td>\n",
       "      <td>4.871043937166995</td>\n",
       "      <td>3.306269545598628</td>\n",
       "    </tr>\n",
       "    <tr>\n",
       "      <th>2</th>\n",
       "      <td>stddev</td>\n",
       "      <td>None</td>\n",
       "      <td>None</td>\n",
       "      <td>64.66144940408857</td>\n",
       "      <td>90.60510976469615</td>\n",
       "      <td>24.474745771469095</td>\n",
       "      <td>18.13377486834342</td>\n",
       "      <td>21.694928182946093</td>\n",
       "      <td>140.69658509414992</td>\n",
       "      <td>None</td>\n",
       "      <td>0.8067401939979603</td>\n",
       "      <td>0.8523813673073461</td>\n",
       "      <td>0.9148984345626866</td>\n",
       "      <td>0.7907660507809209</td>\n",
       "      <td>0.672733062365079</td>\n",
       "      <td>0.7961323984354287</td>\n",
       "    </tr>\n",
       "    <tr>\n",
       "      <th>3</th>\n",
       "      <td>min</td>\n",
       "      <td>Ahmedabad</td>\n",
       "      <td>2015-01-01</td>\n",
       "      <td>0.04</td>\n",
       "      <td>0.01</td>\n",
       "      <td>0.01</td>\n",
       "      <td>0.01</td>\n",
       "      <td>0.01</td>\n",
       "      <td>13.0</td>\n",
       "      <td>Good</td>\n",
       "      <td>-3.218875847219943</td>\n",
       "      <td>-4.605170208339834</td>\n",
       "      <td>-4.605170208339834</td>\n",
       "      <td>-4.605170208339834</td>\n",
       "      <td>2.5649493574615367</td>\n",
       "      <td>-4.605170208339834</td>\n",
       "    </tr>\n",
       "    <tr>\n",
       "      <th>4</th>\n",
       "      <td>max</td>\n",
       "      <td>Visakhapatnam</td>\n",
       "      <td>2020-07-01</td>\n",
       "      <td>949.99</td>\n",
       "      <td>1000.0</td>\n",
       "      <td>362.21</td>\n",
       "      <td>193.86</td>\n",
       "      <td>257.73</td>\n",
       "      <td>2049.0</td>\n",
       "      <td>Very Poor</td>\n",
       "      <td>6.856451447943681</td>\n",
       "      <td>5.267136252212876</td>\n",
       "      <td>5.892224130532889</td>\n",
       "      <td>6.907755278982137</td>\n",
       "      <td>7.6251071482389</td>\n",
       "      <td>5.551912567945351</td>\n",
       "    </tr>\n",
       "  </tbody>\n",
       "</table>\n",
       "</div>"
      ],
      "text/plain": [
       "  summary           City        Date               PM25                PM10  \\\n",
       "0   count          29531       29531              24933               18391   \n",
       "1    mean           None        None  67.45057795305125  118.12710294174458   \n",
       "2  stddev           None        None  64.66144940408857   90.60510976469615   \n",
       "3     min      Ahmedabad  2015-01-01               0.04                0.01   \n",
       "4     max  Visakhapatnam  2020-07-01             949.99              1000.0   \n",
       "\n",
       "                  NO2                 SO2                  O3  \\\n",
       "0               25946               25677               25509   \n",
       "1  28.560659052670943  14.531977259530647   34.49143047007627   \n",
       "2  24.474745771469095   18.13377486834342  21.694928182946093   \n",
       "3                0.01                0.01                0.01   \n",
       "4              362.21              193.86              257.73   \n",
       "\n",
       "                  AQI  AQIBucket               PM25L                SO2L  \\\n",
       "0               24850      24850               24933               25677   \n",
       "1   166.4635814889336       None   3.885701913793943  2.2684374470398123   \n",
       "2  140.69658509414992       None  0.8067401939979603  0.8523813673073461   \n",
       "3                13.0       Good  -3.218875847219943  -4.605170208339834   \n",
       "4              2049.0  Very Poor   6.856451447943681   5.267136252212876   \n",
       "\n",
       "                 NO2L               PM10L                AQIL  \\\n",
       "0               25946               18391               24850   \n",
       "1  3.0130977074753162   4.504168184546539   4.871043937166995   \n",
       "2  0.9148984345626866  0.7907660507809209   0.672733062365079   \n",
       "3  -4.605170208339834  -4.605170208339834  2.5649493574615367   \n",
       "4   5.892224130532889   6.907755278982137     7.6251071482389   \n",
       "\n",
       "                  O3L  \n",
       "0               25509  \n",
       "1   3.306269545598628  \n",
       "2  0.7961323984354287  \n",
       "3  -4.605170208339834  \n",
       "4   5.551912567945351  "
      ]
     },
     "execution_count": 5,
     "metadata": {},
     "output_type": "execute_result"
    }
   ],
   "source": [
    "\n",
    "dflog=dflog.drop('NO')\n",
    "dflog=dflog.drop('NOX')\n",
    "dflog=dflog.drop('NOX')\n",
    "dflog=dflog.drop('NH3')\n",
    "dflog=dflog.drop('CO')\n",
    "\n",
    "dflog=dflog.drop('toluene')\n",
    "dflog=dflog.drop('benzene')\n",
    "dflog=dflog.drop('Xylene')\n",
    "\n",
    "\n",
    "\n",
    "dflog = dflog.withColumn(\"PM25L\", F.log(F.col('PM25')))\n",
    "dflog = dflog.withColumn(\"SO2L\", F.log(F.col('SO2')))\n",
    "dflog = dflog.withColumn(\"NO2L\", F.log(F.col('NO2')))\n",
    "dflog = dflog.withColumn(\"PM10L\", F.log(F.col('PM10')))\n",
    "dflog = dflog.withColumn(\"AQIL\", F.log(F.col('AQI')))\n",
    "dflog = dflog.withColumn(\"O3L\", F.log(F.col('O3')))\n",
    "\n",
    "dflog.describe().toPandas()"
   ]
  },
  {
   "cell_type": "code",
   "execution_count": 6,
   "metadata": {},
   "outputs": [
    {
     "data": {
      "image/png": "[encoded data removed]",
      "text/plain": [
       "<Figure size 1800x936 with 10 Axes>"
      ]
     },
     "metadata": {
      "needs_background": "light"
     },
     "output_type": "display_data"
    }
   ],
   "source": [
    "\n",
    "\n",
    "import matplotlib.pyplot as plt\n",
    "import seaborn as sns\n",
    "import warnings\n",
    "warnings.simplefilter(action='ignore')\n",
    "\n",
    "fig = plt.figure(figsize=(25,13))\n",
    "st = fig.suptitle(\"Distribution of features\",fontsize = 50, verticalalignment=\"center\")\n",
    "for col,num in zip(dflog.toPandas().describe().columns, range(1,11)):\n",
    "    ax = fig.add_subplot(3,4, num)\n",
    "    ax.hist(dflog.toPandas()[col])\n",
    "    plt.grid(False)\n",
    "    plt.xticks(rotation=45, fontsize=20)\n",
    "    plt.yticks(fontsize=15)\n",
    "    plt.title(col.upper(), fontsize=20)\n",
    "\n",
    "plt.tight_layout()\n",
    "st.set_y(0.95)\n",
    "fig.subplots_adjust(top=0.85, hspace=0.4)\n",
    "plt.show()\n"
   ]
  },
  {
   "cell_type": "code",
   "execution_count": 7,
   "metadata": {},
   "outputs": [
    {
     "name": "stderr",
     "output_type": "stream",
     "text": [
      "                                                                                \r"
     ]
    },
    {
     "data": {
      "text/html": [
       "<div>\n",
       "<style scoped>\n",
       "    .dataframe tbody tr th:only-of-type {\n",
       "        vertical-align: middle;\n",
       "    }\n",
       "\n",
       "    .dataframe tbody tr th {\n",
       "        vertical-align: top;\n",
       "    }\n",
       "\n",
       "    .dataframe thead th {\n",
       "        text-align: right;\n",
       "    }\n",
       "</style>\n",
       "<table border=\"1\" class=\"dataframe\">\n",
       "  <thead>\n",
       "    <tr style=\"text-align: right;\">\n",
       "      <th></th>\n",
       "      <th>summary</th>\n",
       "      <th>City</th>\n",
       "      <th>Date</th>\n",
       "      <th>PM25</th>\n",
       "      <th>PM10</th>\n",
       "      <th>NO2</th>\n",
       "      <th>SO2</th>\n",
       "      <th>O3</th>\n",
       "      <th>AQI</th>\n",
       "      <th>AQIBucket</th>\n",
       "      <th>PM25L</th>\n",
       "      <th>SO2L</th>\n",
       "      <th>NO2L</th>\n",
       "      <th>PM10L</th>\n",
       "      <th>AQIL</th>\n",
       "      <th>O3L</th>\n",
       "      <th>year</th>\n",
       "    </tr>\n",
       "  </thead>\n",
       "  <tbody>\n",
       "    <tr>\n",
       "      <th>0</th>\n",
       "      <td>count</td>\n",
       "      <td>29531</td>\n",
       "      <td>29531</td>\n",
       "      <td>24933</td>\n",
       "      <td>18391</td>\n",
       "      <td>25946</td>\n",
       "      <td>25677</td>\n",
       "      <td>25509</td>\n",
       "      <td>24850</td>\n",
       "      <td>24850</td>\n",
       "      <td>24933</td>\n",
       "      <td>25677</td>\n",
       "      <td>25946</td>\n",
       "      <td>18391</td>\n",
       "      <td>24850</td>\n",
       "      <td>25509</td>\n",
       "      <td>29531</td>\n",
       "    </tr>\n",
       "    <tr>\n",
       "      <th>1</th>\n",
       "      <td>mean</td>\n",
       "      <td>None</td>\n",
       "      <td>None</td>\n",
       "      <td>67.45057795305125</td>\n",
       "      <td>118.12710294174458</td>\n",
       "      <td>28.560659052670943</td>\n",
       "      <td>14.531977259530647</td>\n",
       "      <td>34.49143047007627</td>\n",
       "      <td>166.4635814889336</td>\n",
       "      <td>None</td>\n",
       "      <td>3.885701913793943</td>\n",
       "      <td>2.2684374470398123</td>\n",
       "      <td>3.0130977074753162</td>\n",
       "      <td>4.504168184546539</td>\n",
       "      <td>4.871043937166995</td>\n",
       "      <td>3.306269545598628</td>\n",
       "      <td>2017.8879143950426</td>\n",
       "    </tr>\n",
       "    <tr>\n",
       "      <th>2</th>\n",
       "      <td>stddev</td>\n",
       "      <td>None</td>\n",
       "      <td>None</td>\n",
       "      <td>64.66144940408857</td>\n",
       "      <td>90.60510976469615</td>\n",
       "      <td>24.474745771469095</td>\n",
       "      <td>18.13377486834342</td>\n",
       "      <td>21.694928182946093</td>\n",
       "      <td>140.69658509414992</td>\n",
       "      <td>None</td>\n",
       "      <td>0.8067401939979603</td>\n",
       "      <td>0.8523813673073461</td>\n",
       "      <td>0.9148984345626866</td>\n",
       "      <td>0.7907660507809209</td>\n",
       "      <td>0.672733062365079</td>\n",
       "      <td>0.7961323984354287</td>\n",
       "      <td>1.5337825402311294</td>\n",
       "    </tr>\n",
       "    <tr>\n",
       "      <th>3</th>\n",
       "      <td>min</td>\n",
       "      <td>Ahmedabad</td>\n",
       "      <td>2015-01-01</td>\n",
       "      <td>0.04</td>\n",
       "      <td>0.01</td>\n",
       "      <td>0.01</td>\n",
       "      <td>0.01</td>\n",
       "      <td>0.01</td>\n",
       "      <td>13.0</td>\n",
       "      <td>Good</td>\n",
       "      <td>-3.218875847219943</td>\n",
       "      <td>-4.605170208339834</td>\n",
       "      <td>-4.605170208339834</td>\n",
       "      <td>-4.605170208339834</td>\n",
       "      <td>2.5649493574615367</td>\n",
       "      <td>-4.605170208339834</td>\n",
       "      <td>2015</td>\n",
       "    </tr>\n",
       "    <tr>\n",
       "      <th>4</th>\n",
       "      <td>max</td>\n",
       "      <td>Visakhapatnam</td>\n",
       "      <td>2020-07-01</td>\n",
       "      <td>949.99</td>\n",
       "      <td>1000.0</td>\n",
       "      <td>362.21</td>\n",
       "      <td>193.86</td>\n",
       "      <td>257.73</td>\n",
       "      <td>2049.0</td>\n",
       "      <td>Very Poor</td>\n",
       "      <td>6.856451447943681</td>\n",
       "      <td>5.267136252212876</td>\n",
       "      <td>5.892224130532889</td>\n",
       "      <td>6.907755278982137</td>\n",
       "      <td>7.6251071482389</td>\n",
       "      <td>5.551912567945351</td>\n",
       "      <td>2020</td>\n",
       "    </tr>\n",
       "  </tbody>\n",
       "</table>\n",
       "</div>"
      ],
      "text/plain": [
       "  summary           City        Date               PM25                PM10  \\\n",
       "0   count          29531       29531              24933               18391   \n",
       "1    mean           None        None  67.45057795305125  118.12710294174458   \n",
       "2  stddev           None        None  64.66144940408857   90.60510976469615   \n",
       "3     min      Ahmedabad  2015-01-01               0.04                0.01   \n",
       "4     max  Visakhapatnam  2020-07-01             949.99              1000.0   \n",
       "\n",
       "                  NO2                 SO2                  O3  \\\n",
       "0               25946               25677               25509   \n",
       "1  28.560659052670943  14.531977259530647   34.49143047007627   \n",
       "2  24.474745771469095   18.13377486834342  21.694928182946093   \n",
       "3                0.01                0.01                0.01   \n",
       "4              362.21              193.86              257.73   \n",
       "\n",
       "                  AQI  AQIBucket               PM25L                SO2L  \\\n",
       "0               24850      24850               24933               25677   \n",
       "1   166.4635814889336       None   3.885701913793943  2.2684374470398123   \n",
       "2  140.69658509414992       None  0.8067401939979603  0.8523813673073461   \n",
       "3                13.0       Good  -3.218875847219943  -4.605170208339834   \n",
       "4              2049.0  Very Poor   6.856451447943681   5.267136252212876   \n",
       "\n",
       "                 NO2L               PM10L                AQIL  \\\n",
       "0               25946               18391               24850   \n",
       "1  3.0130977074753162   4.504168184546539   4.871043937166995   \n",
       "2  0.9148984345626866  0.7907660507809209   0.672733062365079   \n",
       "3  -4.605170208339834  -4.605170208339834  2.5649493574615367   \n",
       "4   5.892224130532889   6.907755278982137     7.6251071482389   \n",
       "\n",
       "                  O3L                year  \n",
       "0               25509               29531  \n",
       "1   3.306269545598628  2017.8879143950426  \n",
       "2  0.7961323984354287  1.5337825402311294  \n",
       "3  -4.605170208339834                2015  \n",
       "4   5.551912567945351                2020  "
      ]
     },
     "execution_count": 7,
     "metadata": {},
     "output_type": "execute_result"
    }
   ],
   "source": [
    "from pyspark.sql.functions import year \n",
    "\n",
    "dflog = dflog.withColumn(\"year\",year(\"Date\"))\n",
    "\n",
    "\n",
    "numeric_cols = ['AQIL', 'PM10L','SO2L','NO2L','PM25L','O3']\n",
    "mean_std = \\\n",
    "    dflog \\\n",
    "    .groupBy('City', 'year') \\\n",
    "    .agg( \\\n",
    "      *[F.mean(colName).alias('mean_{}'.format(colName)) for colName in numeric_cols],\\\n",
    "      *[F.stddev(colName).alias('stddev_{}'.format(colName)) for colName in numeric_cols])\n",
    "\n",
    "\n",
    "dflog.describe().toPandas()"
   ]
  },
  {
   "cell_type": "code",
   "execution_count": 8,
   "metadata": {},
   "outputs": [],
   "source": [
    "mean_std_min_max = mean_std\n",
    "for colName in numeric_cols:\n",
    "    meanCol = 'mean_{}'.format(colName)\n",
    "    stddevCol = 'stddev_{}'.format(colName)\n",
    "    minCol = 'min_{}'.format(colName)\n",
    "    maxCol = 'max_{}'.format(colName)\n",
    "    mean_std_min_max = mean_std_min_max.withColumn(minCol, F.col(meanCol) - 3 * F.col(stddevCol))\n",
    "    mean_std_min_max = mean_std_min_max.withColumn(maxCol, F.col(meanCol) + 3 * F.col(stddevCol))"
   ]
  },
  {
   "cell_type": "code",
   "execution_count": 9,
   "metadata": {},
   "outputs": [],
   "source": [
    "outliers = dflog.join(mean_std_min_max, how = 'left', on = ['City', 'year'])\n",
    "for colName in numeric_cols:\n",
    "    isOutlierCol = 'is_outlier_{}'.format(colName)\n",
    "    minCol = 'min_{}'.format(colName)\n",
    "    maxCol = 'max_{}'.format(colName)\n",
    "    meanCol = 'mean_{}'.format(colName)\n",
    "    stddevCol = 'stddev_{}'.format(colName)\n",
    "    outliers = outliers.withColumn(isOutlierCol, F.when((F.col(colName) > F.col(maxCol)) | (F.col(colName) < F.col(minCol)), 1).otherwise(0))    \n",
    "    outliers = outliers.drop(minCol,maxCol, meanCol, stddevCol)"
   ]
  },
  {
   "cell_type": "code",
   "execution_count": 10,
   "metadata": {},
   "outputs": [
    {
     "name": "stderr",
     "output_type": "stream",
     "text": [
      "                                                                                \r"
     ]
    },
    {
     "data": {
      "text/html": [
       "<div>\n",
       "<style scoped>\n",
       "    .dataframe tbody tr th:only-of-type {\n",
       "        vertical-align: middle;\n",
       "    }\n",
       "\n",
       "    .dataframe tbody tr th {\n",
       "        vertical-align: top;\n",
       "    }\n",
       "\n",
       "    .dataframe thead th {\n",
       "        text-align: right;\n",
       "    }\n",
       "</style>\n",
       "<table border=\"1\" class=\"dataframe\">\n",
       "  <thead>\n",
       "    <tr style=\"text-align: right;\">\n",
       "      <th></th>\n",
       "      <th>summary</th>\n",
       "      <th>City</th>\n",
       "      <th>Date</th>\n",
       "      <th>PM25</th>\n",
       "      <th>PM10</th>\n",
       "      <th>NO2</th>\n",
       "      <th>SO2</th>\n",
       "      <th>O3</th>\n",
       "      <th>AQI</th>\n",
       "      <th>AQIBucket</th>\n",
       "      <th>PM25L</th>\n",
       "      <th>SO2L</th>\n",
       "      <th>NO2L</th>\n",
       "      <th>PM10L</th>\n",
       "      <th>AQIL</th>\n",
       "      <th>O3L</th>\n",
       "      <th>year</th>\n",
       "    </tr>\n",
       "  </thead>\n",
       "  <tbody>\n",
       "    <tr>\n",
       "      <th>0</th>\n",
       "      <td>count</td>\n",
       "      <td>29531</td>\n",
       "      <td>29531</td>\n",
       "      <td>24933</td>\n",
       "      <td>18391</td>\n",
       "      <td>25946</td>\n",
       "      <td>25677</td>\n",
       "      <td>25509</td>\n",
       "      <td>24850</td>\n",
       "      <td>24850</td>\n",
       "      <td>24933</td>\n",
       "      <td>25677</td>\n",
       "      <td>25946</td>\n",
       "      <td>18391</td>\n",
       "      <td>24850</td>\n",
       "      <td>25509</td>\n",
       "      <td>29531</td>\n",
       "    </tr>\n",
       "    <tr>\n",
       "      <th>1</th>\n",
       "      <td>mean</td>\n",
       "      <td>None</td>\n",
       "      <td>None</td>\n",
       "      <td>67.45057795305125</td>\n",
       "      <td>118.12710294174458</td>\n",
       "      <td>28.560659052670943</td>\n",
       "      <td>14.531977259530647</td>\n",
       "      <td>34.49143047007627</td>\n",
       "      <td>166.4635814889336</td>\n",
       "      <td>None</td>\n",
       "      <td>3.885701913793943</td>\n",
       "      <td>2.2684374470398123</td>\n",
       "      <td>3.0130977074753162</td>\n",
       "      <td>4.504168184546539</td>\n",
       "      <td>4.871043937166995</td>\n",
       "      <td>3.306269545598628</td>\n",
       "      <td>2017.8879143950426</td>\n",
       "    </tr>\n",
       "    <tr>\n",
       "      <th>2</th>\n",
       "      <td>stddev</td>\n",
       "      <td>None</td>\n",
       "      <td>None</td>\n",
       "      <td>64.66144940408857</td>\n",
       "      <td>90.60510976469615</td>\n",
       "      <td>24.474745771469095</td>\n",
       "      <td>18.13377486834342</td>\n",
       "      <td>21.694928182946093</td>\n",
       "      <td>140.69658509414992</td>\n",
       "      <td>None</td>\n",
       "      <td>0.8067401939979603</td>\n",
       "      <td>0.8523813673073461</td>\n",
       "      <td>0.9148984345626866</td>\n",
       "      <td>0.7907660507809209</td>\n",
       "      <td>0.672733062365079</td>\n",
       "      <td>0.7961323984354287</td>\n",
       "      <td>1.5337825402311294</td>\n",
       "    </tr>\n",
       "    <tr>\n",
       "      <th>3</th>\n",
       "      <td>min</td>\n",
       "      <td>Ahmedabad</td>\n",
       "      <td>2015-01-01</td>\n",
       "      <td>0.04</td>\n",
       "      <td>0.01</td>\n",
       "      <td>0.01</td>\n",
       "      <td>0.01</td>\n",
       "      <td>0.01</td>\n",
       "      <td>13.0</td>\n",
       "      <td>Good</td>\n",
       "      <td>-3.218875847219943</td>\n",
       "      <td>-4.605170208339834</td>\n",
       "      <td>-4.605170208339834</td>\n",
       "      <td>-4.605170208339834</td>\n",
       "      <td>2.5649493574615367</td>\n",
       "      <td>-4.605170208339834</td>\n",
       "      <td>2015</td>\n",
       "    </tr>\n",
       "    <tr>\n",
       "      <th>4</th>\n",
       "      <td>max</td>\n",
       "      <td>Visakhapatnam</td>\n",
       "      <td>2020-07-01</td>\n",
       "      <td>949.99</td>\n",
       "      <td>1000.0</td>\n",
       "      <td>362.21</td>\n",
       "      <td>193.86</td>\n",
       "      <td>257.73</td>\n",
       "      <td>2049.0</td>\n",
       "      <td>Very Poor</td>\n",
       "      <td>6.856451447943681</td>\n",
       "      <td>5.267136252212876</td>\n",
       "      <td>5.892224130532889</td>\n",
       "      <td>6.907755278982137</td>\n",
       "      <td>7.6251071482389</td>\n",
       "      <td>5.551912567945351</td>\n",
       "      <td>2020</td>\n",
       "    </tr>\n",
       "  </tbody>\n",
       "</table>\n",
       "</div>"
      ],
      "text/plain": [
       "  summary           City        Date               PM25                PM10  \\\n",
       "0   count          29531       29531              24933               18391   \n",
       "1    mean           None        None  67.45057795305125  118.12710294174458   \n",
       "2  stddev           None        None  64.66144940408857   90.60510976469615   \n",
       "3     min      Ahmedabad  2015-01-01               0.04                0.01   \n",
       "4     max  Visakhapatnam  2020-07-01             949.99              1000.0   \n",
       "\n",
       "                  NO2                 SO2                  O3  \\\n",
       "0               25946               25677               25509   \n",
       "1  28.560659052670943  14.531977259530647   34.49143047007627   \n",
       "2  24.474745771469095   18.13377486834342  21.694928182946093   \n",
       "3                0.01                0.01                0.01   \n",
       "4              362.21              193.86              257.73   \n",
       "\n",
       "                  AQI  AQIBucket               PM25L                SO2L  \\\n",
       "0               24850      24850               24933               25677   \n",
       "1   166.4635814889336       None   3.885701913793943  2.2684374470398123   \n",
       "2  140.69658509414992       None  0.8067401939979603  0.8523813673073461   \n",
       "3                13.0       Good  -3.218875847219943  -4.605170208339834   \n",
       "4              2049.0  Very Poor   6.856451447943681   5.267136252212876   \n",
       "\n",
       "                 NO2L               PM10L                AQIL  \\\n",
       "0               25946               18391               24850   \n",
       "1  3.0130977074753162   4.504168184546539   4.871043937166995   \n",
       "2  0.9148984345626866  0.7907660507809209   0.672733062365079   \n",
       "3  -4.605170208339834  -4.605170208339834  2.5649493574615367   \n",
       "4   5.892224130532889   6.907755278982137     7.6251071482389   \n",
       "\n",
       "                  O3L                year  \n",
       "0               25509               29531  \n",
       "1   3.306269545598628  2017.8879143950426  \n",
       "2  0.7961323984354287  1.5337825402311294  \n",
       "3  -4.605170208339834                2015  \n",
       "4   5.551912567945351                2020  "
      ]
     },
     "execution_count": 10,
     "metadata": {},
     "output_type": "execute_result"
    }
   ],
   "source": [
    "dflog.describe().toPandas()"
   ]
  },
  {
   "cell_type": "code",
   "execution_count": 11,
   "metadata": {},
   "outputs": [
    {
     "name": "stdout",
     "output_type": "stream",
     "text": [
      "root\n",
      " |-- City: string (nullable = true)\n",
      " |-- Date: string (nullable = true)\n",
      " |-- PM25: float (nullable = true)\n",
      " |-- PM10: float (nullable = true)\n",
      " |-- NO: float (nullable = true)\n",
      " |-- NO2: float (nullable = true)\n",
      " |-- NOX: float (nullable = true)\n",
      " |-- NH3: float (nullable = true)\n",
      " |-- CO: float (nullable = true)\n",
      " |-- SO2: float (nullable = true)\n",
      " |-- O3: float (nullable = true)\n",
      " |-- benzene: float (nullable = true)\n",
      " |-- toluene: float (nullable = true)\n",
      " |-- Xylene: float (nullable = true)\n",
      " |-- AQI: float (nullable = true)\n",
      " |-- AQIBucket: string (nullable = true)\n",
      "\n"
     ]
    }
   ],
   "source": [
    "# For type, we can use print schema. \n",
    "# But wait! What if you want to change the format of the data? Maybe change age to an integer instead of long?\n",
    "# And now we can read in the data using that schema. If we print the schema, we can see that age is now an integer.\n",
    "df.printSchema()"
   ]
  },
  {
   "cell_type": "markdown",
   "metadata": {},
   "source": [
    "## Data Manipulation"
   ]
  },
  {
   "cell_type": "code",
   "execution_count": 12,
   "metadata": {},
   "outputs": [
    {
     "name": "stderr",
     "output_type": "stream",
     "text": [
      "                                                                                \r"
     ]
    },
    {
     "name": "stdout",
     "output_type": "stream",
     "text": [
      "+------------+-----+\n",
      "|   AQIBucket|count|\n",
      "+------------+-----+\n",
      "|        null| 4681|\n",
      "|        Good| 1341|\n",
      "|      Severe| 1338|\n",
      "|   Very Poor| 2337|\n",
      "|Satisfactory| 8224|\n",
      "|        Poor| 2781|\n",
      "|    Moderate| 8829|\n",
      "+------------+-----+\n",
      "\n"
     ]
    }
   ],
   "source": [
    "df.describe().toPandas()\n",
    "\n",
    "df.groupby('AQIBucket').count().show()\n"
   ]
  },
  {
   "cell_type": "code",
   "execution_count": 13,
   "metadata": {},
   "outputs": [
    {
     "name": "stdout",
     "output_type": "stream",
     "text": [
      "+------------------+-----+\n",
      "|              City|count|\n",
      "+------------------+-----+\n",
      "|             Kochi|  162|\n",
      "|             Patna| 1858|\n",
      "|         Ernakulam|  162|\n",
      "|           Chennai| 2009|\n",
      "|           Lucknow| 2009|\n",
      "|            Mumbai| 2009|\n",
      "|            Aizawl|  113|\n",
      "|         Ahmedabad| 2009|\n",
      "|          Gurugram| 1679|\n",
      "|      Brajrajnagar|  938|\n",
      "|           Kolkata|  814|\n",
      "|         Amaravati|  951|\n",
      "|          Amritsar| 1221|\n",
      "|          Shillong|  310|\n",
      "|             Delhi| 2009|\n",
      "|        Chandigarh|  304|\n",
      "|        Coimbatore|  386|\n",
      "|            Bhopal|  289|\n",
      "|Thiruvananthapuram| 1112|\n",
      "|         Bengaluru| 2009|\n",
      "+------------------+-----+\n",
      "only showing top 20 rows\n",
      "\n"
     ]
    }
   ],
   "source": [
    "\n",
    "df.groupby('City').count().show()"
   ]
  },
  {
   "cell_type": "code",
   "execution_count": 14,
   "metadata": {},
   "outputs": [
    {
     "name": "stdout",
     "output_type": "stream",
     "text": [
      "+---------+----------+----+----+------+-----+------+----+------+-----+------+-------+-------+------+----+---------+\n",
      "|     City|      Date|PM25|PM10|    NO|  NO2|   NOX| NH3|    CO|  SO2|    O3|benzene|toluene|Xylene| AQI|AQIBucket|\n",
      "+---------+----------+----+----+------+-----+------+----+------+-----+------+-------+-------+------+----+---------+\n",
      "|Ahmedabad|2015-01-01|null|null|  0.92|18.22| 17.15|null|  0.92|27.64|133.36|    0.0|   0.02|   0.0|null|     null|\n",
      "|Ahmedabad|2015-01-02|null|null|  0.97|15.69| 16.46|null|  0.97|24.55| 34.06|   3.68|    5.5|  3.77|null|     null|\n",
      "|Ahmedabad|2015-01-03|null|null|  17.4| 19.3|  29.7|null|  17.4|29.07|  30.7|    6.8|   16.4|  2.25|null|     null|\n",
      "|Ahmedabad|2015-01-04|null|null|   1.7|18.48| 17.97|null|   1.7|18.59| 36.08|   4.43|  10.14|   1.0|null|     null|\n",
      "|Ahmedabad|2015-01-05|null|null|  22.1|21.42| 37.76|null|  22.1|39.33| 39.31|   7.01|  18.89|  2.78|null|     null|\n",
      "|Ahmedabad|2015-01-06|null|null| 45.41|38.48|  81.5|null| 45.41|45.76| 46.51|   5.42|  10.83|  1.93|null|     null|\n",
      "|Ahmedabad|2015-01-07|null|null|112.16|40.62|130.77|null|112.16|32.28| 33.47|    0.0|    0.0|   0.0|null|     null|\n",
      "|Ahmedabad|2015-01-08|null|null| 80.87|36.74| 96.75|null| 80.87|38.54| 31.89|    0.0|    0.0|   0.0|null|     null|\n",
      "|Ahmedabad|2015-01-09|null|null| 29.16| 31.0|  48.0|null| 29.16|58.68| 25.75|    0.0|    0.0|   0.0|null|     null|\n",
      "|Ahmedabad|2015-01-10|null|null|  null| 7.04|   0.0|null|  null| 8.29|  4.55|    0.0|    0.0|   0.0|null|     null|\n",
      "|Ahmedabad|2015-01-11|null|null|132.07| 55.8| 24.53|null|132.07|25.03|  6.79|    0.0|    0.0|   0.0|null|     null|\n",
      "|Ahmedabad|2015-01-12|null|null| 52.04|40.67| 90.24|null| 52.04|51.84| 45.89|   2.41|   0.03|  7.88|null|     null|\n",
      "|Ahmedabad|2015-01-13|null|null| 48.82| 44.2| 87.09|null| 48.82|68.21| 35.16|   9.45|  13.35|  12.5|null|     null|\n",
      "|Ahmedabad|2015-01-14|null|null|  19.2|27.86| 33.05|null|  19.2|52.65| 20.96|   2.16|   2.26|  5.19|null|     null|\n",
      "|Ahmedabad|2015-01-15|null|null|   0.6|16.96|  16.6|null|   0.6|28.89| 47.63|   0.14|   0.04|  1.35|null|     null|\n",
      "|Ahmedabad|2015-01-16|null|null|  1.63|21.72| 22.86|null|  1.63|38.27| 46.03|   0.35|   0.05|  2.01|null|     null|\n",
      "|Ahmedabad|2015-01-17|null|null| 11.44|24.73| 34.75|null| 11.44| 49.5| 52.24|   0.68|    0.0|  3.27|null|     null|\n",
      "|Ahmedabad|2015-01-18|null|null|   6.1|25.77| 29.57|null|   6.1|48.43| 53.49|   0.74|   0.21|  2.75|null|     null|\n",
      "|Ahmedabad|2015-01-19|null|null|  2.51|26.88| 27.45|null|  2.51|50.03| 49.48|   0.26|   0.02|   2.8|null|     null|\n",
      "|Ahmedabad|2015-01-20|null|null|  7.92| 26.8|  32.4|null|  7.92|58.87| 56.37|   0.24|   0.01|  3.97|null|     null|\n",
      "+---------+----------+----+----+------+-----+------+----+------+-----+------+-------+-------+------+----+---------+\n",
      "only showing top 20 rows\n",
      "\n"
     ]
    }
   ],
   "source": [
    "df.count()\n",
    "# Let's see the data. You'll notice nulls.\n",
    "df.show()"
   ]
  },
  {
   "cell_type": "code",
   "execution_count": 15,
   "metadata": {},
   "outputs": [
    {
     "name": "stdout",
     "output_type": "stream",
     "text": [
      "+---------+----------+----+----+------+-----+------+----+------+-----+------+-------+-------+------+----+---------+\n",
      "|     City|      Date|PM25|PM10|    NO|  NO2|   NOX| NH3|    CO|  SO2|    O3|benzene|toluene|Xylene| AQI|AQIBucket|\n",
      "+---------+----------+----+----+------+-----+------+----+------+-----+------+-------+-------+------+----+---------+\n",
      "|Ahmedabad|2015-01-01|null|null|  0.92|18.22| 17.15|null|  0.92|27.64|133.36|    0.0|   0.02|   0.0|null|     null|\n",
      "|Ahmedabad|2015-01-02|null|null|  0.97|15.69| 16.46|null|  0.97|24.55| 34.06|   3.68|    5.5|  3.77|null|     null|\n",
      "|Ahmedabad|2015-01-03|null|null|  17.4| 19.3|  29.7|null|  17.4|29.07|  30.7|    6.8|   16.4|  2.25|null|     null|\n",
      "|Ahmedabad|2015-01-04|null|null|   1.7|18.48| 17.97|null|   1.7|18.59| 36.08|   4.43|  10.14|   1.0|null|     null|\n",
      "|Ahmedabad|2015-01-05|null|null|  22.1|21.42| 37.76|null|  22.1|39.33| 39.31|   7.01|  18.89|  2.78|null|     null|\n",
      "|Ahmedabad|2015-01-06|null|null| 45.41|38.48|  81.5|null| 45.41|45.76| 46.51|   5.42|  10.83|  1.93|null|     null|\n",
      "|Ahmedabad|2015-01-07|null|null|112.16|40.62|130.77|null|112.16|32.28| 33.47|    0.0|    0.0|   0.0|null|     null|\n",
      "|Ahmedabad|2015-01-08|null|null| 80.87|36.74| 96.75|null| 80.87|38.54| 31.89|    0.0|    0.0|   0.0|null|     null|\n",
      "|Ahmedabad|2015-01-09|null|null| 29.16| 31.0|  48.0|null| 29.16|58.68| 25.75|    0.0|    0.0|   0.0|null|     null|\n",
      "|Ahmedabad|2015-01-10|null|null|  null| 7.04|   0.0|null|  null| 8.29|  4.55|    0.0|    0.0|   0.0|null|     null|\n",
      "|Ahmedabad|2015-01-11|null|null|132.07| 55.8| 24.53|null|132.07|25.03|  6.79|    0.0|    0.0|   0.0|null|     null|\n",
      "|Ahmedabad|2015-01-12|null|null| 52.04|40.67| 90.24|null| 52.04|51.84| 45.89|   2.41|   0.03|  7.88|null|     null|\n",
      "|Ahmedabad|2015-01-13|null|null| 48.82| 44.2| 87.09|null| 48.82|68.21| 35.16|   9.45|  13.35|  12.5|null|     null|\n",
      "|Ahmedabad|2015-01-14|null|null|  19.2|27.86| 33.05|null|  19.2|52.65| 20.96|   2.16|   2.26|  5.19|null|     null|\n",
      "|Ahmedabad|2015-01-15|null|null|   0.6|16.96|  16.6|null|   0.6|28.89| 47.63|   0.14|   0.04|  1.35|null|     null|\n",
      "|Ahmedabad|2015-01-16|null|null|  1.63|21.72| 22.86|null|  1.63|38.27| 46.03|   0.35|   0.05|  2.01|null|     null|\n",
      "|Ahmedabad|2015-01-17|null|null| 11.44|24.73| 34.75|null| 11.44| 49.5| 52.24|   0.68|    0.0|  3.27|null|     null|\n",
      "|Ahmedabad|2015-01-18|null|null|   6.1|25.77| 29.57|null|   6.1|48.43| 53.49|   0.74|   0.21|  2.75|null|     null|\n",
      "|Ahmedabad|2015-01-19|null|null|  2.51|26.88| 27.45|null|  2.51|50.03| 49.48|   0.26|   0.02|   2.8|null|     null|\n",
      "|Ahmedabad|2015-01-20|null|null|  7.92| 26.8|  32.4|null|  7.92|58.87| 56.37|   0.24|   0.01|  3.97|null|     null|\n",
      "+---------+----------+----+----+------+-----+------+----+------+-----+------+-------+-------+------+----+---------+\n",
      "only showing top 20 rows\n",
      "\n"
     ]
    }
   ],
   "source": [
    "# First, we have to register the DataFrame as a SQL temporary view.\n",
    "df.createOrReplaceTempView('pollution')\n",
    "\n",
    "# After that, we can use the SQL programming language for queries. \n",
    "results = spark.sql(\"SELECT * FROM pollution\")\n",
    "results.show()"
   ]
  },
  {
   "cell_type": "code",
   "execution_count": 16,
   "metadata": {},
   "outputs": [
    {
     "name": "stdout",
     "output_type": "stream",
     "text": [
      "+------------------+-----------+\n",
      "|              city|count(City)|\n",
      "+------------------+-----------+\n",
      "|             Kochi|          4|\n",
      "|             Patna|        399|\n",
      "|         Ernakulam|          9|\n",
      "|           Chennai|        125|\n",
      "|           Lucknow|        116|\n",
      "|            Mumbai|       1234|\n",
      "|            Aizawl|          2|\n",
      "|         Ahmedabad|        675|\n",
      "|          Gurugram|        226|\n",
      "|      Brajrajnagar|        225|\n",
      "|           Kolkata|         60|\n",
      "|         Amaravati|        110|\n",
      "|          Amritsar|         95|\n",
      "|          Shillong|        105|\n",
      "|             Delhi|         10|\n",
      "|        Chandigarh|          5|\n",
      "|        Coimbatore|         42|\n",
      "|            Bhopal|         11|\n",
      "|Thiruvananthapuram|         60|\n",
      "|         Bengaluru|         99|\n",
      "+------------------+-----------+\n",
      "only showing top 20 rows\n",
      "\n"
     ]
    }
   ],
   "source": [
    "# After that, we can use the SQL programming language for queries. \n",
    "results1 = spark.sql(\"SELECT city, count(City) FROM pollution where AQI is null group by City\")\n",
    "results1.show()"
   ]
  },
  {
   "cell_type": "code",
   "execution_count": 17,
   "metadata": {},
   "outputs": [
    {
     "name": "stdout",
     "output_type": "stream",
     "text": [
      "+----+----+----+-----+----+----+----+-----+----+----+----+-------+-------+------+----+---------+\n",
      "|City|Date|PM25| PM10|  NO| NO2| NOX|  NH3|  CO| SO2|  O3|benzene|toluene|Xylene| AQI|AQIBucket|\n",
      "+----+----+----+-----+----+----+----+-----+----+----+----+-------+-------+------+----+---------+\n",
      "|   0|   0|4598|11140|3582|3585|4185|10328|2059|3854|4022|   5623|   8041| 18109|4681|     4681|\n",
      "+----+----+----+-----+----+----+----+-----+----+----+----+-------+-------+------+----+---------+\n",
      "\n"
     ]
    },
    {
     "name": "stderr",
     "output_type": "stream",
     "text": [
      "\r",
      "[Stage 43:>                                                         (0 + 1) / 1]\r",
      "\r",
      "                                                                                \r"
     ]
    }
   ],
   "source": [
    "# Find count for empty, None, Null, Nan with string literals.\n",
    "from pyspark.sql.functions import col,isnan,when,count\n",
    "df2 = df.select([count(when(col(c).contains('None') | \\\n",
    "                            col(c).contains('NULL') | \\\n",
    "                            (col(c) == '' ) | \\\n",
    "                            col(c).isNull() | \\\n",
    "                            isnan(c), c \n",
    "                           )).alias(c)\n",
    "                    for c in df.columns])\n",
    "df2.show()"
   ]
  },
  {
   "cell_type": "code",
   "execution_count": null,
   "metadata": {},
   "outputs": [],
   "source": [
    "\n",
    "\n",
    "\n",
    "\n"
   ]
  },
  {
   "cell_type": "code",
   "execution_count": 18,
   "metadata": {},
   "outputs": [
    {
     "name": "stdout",
     "output_type": "stream",
     "text": [
      "+----+----+----+----+---+---+---+---+---+---+---+-------+-------+------+---+---------+\n",
      "|City|Date|PM25|PM10| NO|NO2|NOX|NH3| CO|SO2| O3|benzene|toluene|Xylene|AQI|AQIBucket|\n",
      "+----+----+----+----+---+---+---+---+---+---+---+-------+-------+------+---+---------+\n",
      "|   0|   0|   0|   0|  0|  0|  0|  0|  0|  0|  0|      0|      0|     0|  0|        0|\n",
      "+----+----+----+----+---+---+---+---+---+---+---+-------+-------+------+---+---------+\n",
      "\n"
     ]
    }
   ],
   "source": [
    "from pyspark.sql.functions import isnan, when, count, col\n",
    "\n",
    "df.select([count(when(isnan(c), c)).alias(c) for c in df.columns]).show()"
   ]
  },
  {
   "cell_type": "markdown",
   "metadata": {},
   "source": [
    "# Exploring data with SQL"
   ]
  },
  {
   "cell_type": "code",
   "execution_count": 19,
   "metadata": {},
   "outputs": [
    {
     "data": {
      "image/png": "[encoded data removed]",
      "text/plain": [
       "<Figure size 1800x936 with 10 Axes>"
      ]
     },
     "metadata": {
      "needs_background": "light"
     },
     "output_type": "display_data"
    }
   ],
   "source": [
    "import matplotlib.pyplot as plt\n",
    "import seaborn as sns\n",
    "import warnings\n",
    "warnings.simplefilter(action='ignore')\n",
    "\n",
    "fig = plt.figure(figsize=(25,13))\n",
    "st = fig.suptitle(\"Distribution of features\",fontsize = 50, verticalalignment=\"center\")\n",
    "for col,num in zip(df.toPandas().describe().columns, range(1,11)):\n",
    "    ax = fig.add_subplot(3,4, num)\n",
    "    ax.hist(df.toPandas()[col])\n",
    "    plt.grid(False)\n",
    "    plt.xticks(rotation=45, fontsize=20)\n",
    "    plt.yticks(fontsize=15)\n",
    "    plt.title(col.upper(), fontsize=20)\n",
    "\n",
    "plt.tight_layout()\n",
    "st.set_y(0.95)\n",
    "fig.subplots_adjust(top=0.85, hspace=0.4)\n",
    "plt.show()"
   ]
  },
  {
   "cell_type": "code",
   "execution_count": 20,
   "metadata": {},
   "outputs": [
    {
     "name": "stdout",
     "output_type": "stream",
     "text": [
      "+------------------+----------------+-----------+\n",
      "|              city|count(AQIBucket)|count(City)|\n",
      "+------------------+----------------+-----------+\n",
      "|         Hyderabad|             141|        141|\n",
      "|           Kolkata|             119|        119|\n",
      "|          Guwahati|             111|        111|\n",
      "|          Gurugram|             454|        454|\n",
      "|             Kochi|              74|         74|\n",
      "|             Kochi|               2|          2|\n",
      "|Thiruvananthapuram|             154|        154|\n",
      "|             Delhi|             542|        542|\n",
      "|     Visakhapatnam|              52|         52|\n",
      "|            Bhopal|             165|        165|\n",
      "|     Visakhapatnam|             580|        580|\n",
      "|          Shillong|              10|         10|\n",
      "|         Ahmedabad|             238|        238|\n",
      "|            Mumbai|              26|         26|\n",
      "|           Lucknow|             473|        473|\n",
      "|          Guwahati|             135|        135|\n",
      "|         Ernakulam|              49|         49|\n",
      "|            Jaipur|             110|        110|\n",
      "|         Ahmedabad|             638|        638|\n",
      "|            Mumbai|              35|         35|\n",
      "+------------------+----------------+-----------+\n",
      "only showing top 20 rows\n",
      "\n"
     ]
    }
   ],
   "source": [
    "#Import all the required functions\n",
    "from pyspark.sql.functions import year \n",
    "df.createOrReplaceTempView('pollution')\n",
    "\n",
    "results1 = spark.sql(\"SELECT city, Count(AQIBucket), count(City) FROM pollution where AQIBucket is not null group by City, AQIBucket\")\n",
    "results1.show()\n"
   ]
  },
  {
   "cell_type": "code",
   "execution_count": 21,
   "metadata": {},
   "outputs": [
    {
     "name": "stdout",
     "output_type": "stream",
     "text": [
      "+---------+----------+----+----+------+-----+------+----+------+-----+------+-------+-------+------+----+---------+\n",
      "|     City|      Date|PM25|PM10|    NO|  NO2|   NOX| NH3|    CO|  SO2|    O3|benzene|toluene|Xylene| AQI|AQIBucket|\n",
      "+---------+----------+----+----+------+-----+------+----+------+-----+------+-------+-------+------+----+---------+\n",
      "|Ahmedabad|2015-01-01|null|null|  0.92|18.22| 17.15|null|  0.92|27.64|133.36|    0.0|   0.02|   0.0|null|     null|\n",
      "|Ahmedabad|2015-01-02|null|null|  0.97|15.69| 16.46|null|  0.97|24.55| 34.06|   3.68|    5.5|  3.77|null|     null|\n",
      "|Ahmedabad|2015-01-03|null|null|  17.4| 19.3|  29.7|null|  17.4|29.07|  30.7|    6.8|   16.4|  2.25|null|     null|\n",
      "|Ahmedabad|2015-01-04|null|null|   1.7|18.48| 17.97|null|   1.7|18.59| 36.08|   4.43|  10.14|   1.0|null|     null|\n",
      "|Ahmedabad|2015-01-05|null|null|  22.1|21.42| 37.76|null|  22.1|39.33| 39.31|   7.01|  18.89|  2.78|null|     null|\n",
      "|Ahmedabad|2015-01-06|null|null| 45.41|38.48|  81.5|null| 45.41|45.76| 46.51|   5.42|  10.83|  1.93|null|     null|\n",
      "|Ahmedabad|2015-01-07|null|null|112.16|40.62|130.77|null|112.16|32.28| 33.47|    0.0|    0.0|   0.0|null|     null|\n",
      "|Ahmedabad|2015-01-08|null|null| 80.87|36.74| 96.75|null| 80.87|38.54| 31.89|    0.0|    0.0|   0.0|null|     null|\n",
      "|Ahmedabad|2015-01-09|null|null| 29.16| 31.0|  48.0|null| 29.16|58.68| 25.75|    0.0|    0.0|   0.0|null|     null|\n",
      "|Ahmedabad|2015-01-10|null|null|  null| 7.04|   0.0|null|  null| 8.29|  4.55|    0.0|    0.0|   0.0|null|     null|\n",
      "|Ahmedabad|2015-01-11|null|null|132.07| 55.8| 24.53|null|132.07|25.03|  6.79|    0.0|    0.0|   0.0|null|     null|\n",
      "|Ahmedabad|2015-01-12|null|null| 52.04|40.67| 90.24|null| 52.04|51.84| 45.89|   2.41|   0.03|  7.88|null|     null|\n",
      "|Ahmedabad|2015-01-13|null|null| 48.82| 44.2| 87.09|null| 48.82|68.21| 35.16|   9.45|  13.35|  12.5|null|     null|\n",
      "|Ahmedabad|2015-01-14|null|null|  19.2|27.86| 33.05|null|  19.2|52.65| 20.96|   2.16|   2.26|  5.19|null|     null|\n",
      "|Ahmedabad|2015-01-15|null|null|   0.6|16.96|  16.6|null|   0.6|28.89| 47.63|   0.14|   0.04|  1.35|null|     null|\n",
      "|Ahmedabad|2015-01-16|null|null|  1.63|21.72| 22.86|null|  1.63|38.27| 46.03|   0.35|   0.05|  2.01|null|     null|\n",
      "|Ahmedabad|2015-01-17|null|null| 11.44|24.73| 34.75|null| 11.44| 49.5| 52.24|   0.68|    0.0|  3.27|null|     null|\n",
      "|Ahmedabad|2015-01-18|null|null|   6.1|25.77| 29.57|null|   6.1|48.43| 53.49|   0.74|   0.21|  2.75|null|     null|\n",
      "|Ahmedabad|2015-01-19|null|null|  2.51|26.88| 27.45|null|  2.51|50.03| 49.48|   0.26|   0.02|   2.8|null|     null|\n",
      "|Ahmedabad|2015-01-20|null|null|  7.92| 26.8|  32.4|null|  7.92|58.87| 56.37|   0.24|   0.01|  3.97|null|     null|\n",
      "+---------+----------+----+----+------+-----+------+----+------+-----+------+-------+-------+------+----+---------+\n",
      "only showing top 20 rows\n",
      "\n"
     ]
    }
   ],
   "source": [
    "# Requires a certain amount of non-null values. Row two was dropped, as there's only one non-null value.\n",
    "df.na.drop(thresh=8).show()"
   ]
  },
  {
   "cell_type": "code",
   "execution_count": 22,
   "metadata": {},
   "outputs": [
    {
     "name": "stderr",
     "output_type": "stream",
     "text": [
      "                                                                                \r"
     ]
    },
    {
     "data": {
      "text/html": [
       "<div>\n",
       "<style scoped>\n",
       "    .dataframe tbody tr th:only-of-type {\n",
       "        vertical-align: middle;\n",
       "    }\n",
       "\n",
       "    .dataframe tbody tr th {\n",
       "        vertical-align: top;\n",
       "    }\n",
       "\n",
       "    .dataframe thead th {\n",
       "        text-align: right;\n",
       "    }\n",
       "</style>\n",
       "<table border=\"1\" class=\"dataframe\">\n",
       "  <thead>\n",
       "    <tr style=\"text-align: right;\">\n",
       "      <th></th>\n",
       "      <th>summary</th>\n",
       "      <th>City</th>\n",
       "      <th>Date</th>\n",
       "      <th>PM25</th>\n",
       "      <th>PM10</th>\n",
       "      <th>NO2</th>\n",
       "      <th>SO2</th>\n",
       "      <th>O3</th>\n",
       "      <th>AQI</th>\n",
       "      <th>AQIBucket</th>\n",
       "      <th>PM25L</th>\n",
       "      <th>SO2L</th>\n",
       "      <th>NO2L</th>\n",
       "      <th>PM10L</th>\n",
       "      <th>AQIL</th>\n",
       "      <th>O3L</th>\n",
       "      <th>year</th>\n",
       "    </tr>\n",
       "  </thead>\n",
       "  <tbody>\n",
       "    <tr>\n",
       "      <th>0</th>\n",
       "      <td>count</td>\n",
       "      <td>29531</td>\n",
       "      <td>29531</td>\n",
       "      <td>24933</td>\n",
       "      <td>18391</td>\n",
       "      <td>25946</td>\n",
       "      <td>25677</td>\n",
       "      <td>25509</td>\n",
       "      <td>24850</td>\n",
       "      <td>24850</td>\n",
       "      <td>24933</td>\n",
       "      <td>25677</td>\n",
       "      <td>25946</td>\n",
       "      <td>18391</td>\n",
       "      <td>24850</td>\n",
       "      <td>25509</td>\n",
       "      <td>29531</td>\n",
       "    </tr>\n",
       "    <tr>\n",
       "      <th>1</th>\n",
       "      <td>mean</td>\n",
       "      <td>None</td>\n",
       "      <td>None</td>\n",
       "      <td>67.45057795305125</td>\n",
       "      <td>118.12710294174458</td>\n",
       "      <td>28.560659052670943</td>\n",
       "      <td>14.531977259530647</td>\n",
       "      <td>34.49143047007627</td>\n",
       "      <td>166.4635814889336</td>\n",
       "      <td>None</td>\n",
       "      <td>3.885701913793943</td>\n",
       "      <td>2.2684374470398123</td>\n",
       "      <td>3.0130977074753162</td>\n",
       "      <td>4.504168184546539</td>\n",
       "      <td>4.871043937166995</td>\n",
       "      <td>3.306269545598628</td>\n",
       "      <td>2017.8879143950426</td>\n",
       "    </tr>\n",
       "    <tr>\n",
       "      <th>2</th>\n",
       "      <td>stddev</td>\n",
       "      <td>None</td>\n",
       "      <td>None</td>\n",
       "      <td>64.66144940408857</td>\n",
       "      <td>90.60510976469615</td>\n",
       "      <td>24.474745771469095</td>\n",
       "      <td>18.13377486834342</td>\n",
       "      <td>21.694928182946093</td>\n",
       "      <td>140.69658509414992</td>\n",
       "      <td>None</td>\n",
       "      <td>0.8067401939979603</td>\n",
       "      <td>0.8523813673073461</td>\n",
       "      <td>0.9148984345626866</td>\n",
       "      <td>0.7907660507809209</td>\n",
       "      <td>0.672733062365079</td>\n",
       "      <td>0.7961323984354287</td>\n",
       "      <td>1.5337825402311294</td>\n",
       "    </tr>\n",
       "    <tr>\n",
       "      <th>3</th>\n",
       "      <td>min</td>\n",
       "      <td>Ahmedabad</td>\n",
       "      <td>2015-01-01</td>\n",
       "      <td>0.04</td>\n",
       "      <td>0.01</td>\n",
       "      <td>0.01</td>\n",
       "      <td>0.01</td>\n",
       "      <td>0.01</td>\n",
       "      <td>13.0</td>\n",
       "      <td>Good</td>\n",
       "      <td>-3.218875847219943</td>\n",
       "      <td>-4.605170208339834</td>\n",
       "      <td>-4.605170208339834</td>\n",
       "      <td>-4.605170208339834</td>\n",
       "      <td>2.5649493574615367</td>\n",
       "      <td>-4.605170208339834</td>\n",
       "      <td>2015</td>\n",
       "    </tr>\n",
       "    <tr>\n",
       "      <th>4</th>\n",
       "      <td>max</td>\n",
       "      <td>Visakhapatnam</td>\n",
       "      <td>2020-07-01</td>\n",
       "      <td>949.99</td>\n",
       "      <td>1000.0</td>\n",
       "      <td>362.21</td>\n",
       "      <td>193.86</td>\n",
       "      <td>257.73</td>\n",
       "      <td>2049.0</td>\n",
       "      <td>Very Poor</td>\n",
       "      <td>6.856451447943681</td>\n",
       "      <td>5.267136252212876</td>\n",
       "      <td>5.892224130532889</td>\n",
       "      <td>6.907755278982137</td>\n",
       "      <td>7.6251071482389</td>\n",
       "      <td>5.551912567945351</td>\n",
       "      <td>2020</td>\n",
       "    </tr>\n",
       "  </tbody>\n",
       "</table>\n",
       "</div>"
      ],
      "text/plain": [
       "  summary           City        Date               PM25                PM10  \\\n",
       "0   count          29531       29531              24933               18391   \n",
       "1    mean           None        None  67.45057795305125  118.12710294174458   \n",
       "2  stddev           None        None  64.66144940408857   90.60510976469615   \n",
       "3     min      Ahmedabad  2015-01-01               0.04                0.01   \n",
       "4     max  Visakhapatnam  2020-07-01             949.99              1000.0   \n",
       "\n",
       "                  NO2                 SO2                  O3  \\\n",
       "0               25946               25677               25509   \n",
       "1  28.560659052670943  14.531977259530647   34.49143047007627   \n",
       "2  24.474745771469095   18.13377486834342  21.694928182946093   \n",
       "3                0.01                0.01                0.01   \n",
       "4              362.21              193.86              257.73   \n",
       "\n",
       "                  AQI  AQIBucket               PM25L                SO2L  \\\n",
       "0               24850      24850               24933               25677   \n",
       "1   166.4635814889336       None   3.885701913793943  2.2684374470398123   \n",
       "2  140.69658509414992       None  0.8067401939979603  0.8523813673073461   \n",
       "3                13.0       Good  -3.218875847219943  -4.605170208339834   \n",
       "4              2049.0  Very Poor   6.856451447943681   5.267136252212876   \n",
       "\n",
       "                 NO2L               PM10L                AQIL  \\\n",
       "0               25946               18391               24850   \n",
       "1  3.0130977074753162   4.504168184546539   4.871043937166995   \n",
       "2  0.9148984345626866  0.7907660507809209   0.672733062365079   \n",
       "3  -4.605170208339834  -4.605170208339834  2.5649493574615367   \n",
       "4   5.892224130532889   6.907755278982137     7.6251071482389   \n",
       "\n",
       "                  O3L                year  \n",
       "0               25509               29531  \n",
       "1   3.306269545598628  2017.8879143950426  \n",
       "2  0.7961323984354287  1.5337825402311294  \n",
       "3  -4.605170208339834                2015  \n",
       "4   5.551912567945351                2020  "
      ]
     },
     "execution_count": 22,
     "metadata": {},
     "output_type": "execute_result"
    }
   ],
   "source": [
    "dfcache=df\n",
    "dfcache.describe().toPandas()\n",
    "dflog.describe().toPandas()"
   ]
  },
  {
   "cell_type": "code",
   "execution_count": 23,
   "metadata": {},
   "outputs": [
    {
     "name": "stderr",
     "output_type": "stream",
     "text": [
      "                                                                                \r"
     ]
    },
    {
     "data": {
      "text/html": [
       "<div>\n",
       "<style scoped>\n",
       "    .dataframe tbody tr th:only-of-type {\n",
       "        vertical-align: middle;\n",
       "    }\n",
       "\n",
       "    .dataframe tbody tr th {\n",
       "        vertical-align: top;\n",
       "    }\n",
       "\n",
       "    .dataframe thead th {\n",
       "        text-align: right;\n",
       "    }\n",
       "</style>\n",
       "<table border=\"1\" class=\"dataframe\">\n",
       "  <thead>\n",
       "    <tr style=\"text-align: right;\">\n",
       "      <th></th>\n",
       "      <th>summary</th>\n",
       "      <th>City</th>\n",
       "      <th>Date</th>\n",
       "      <th>AQIBucket</th>\n",
       "      <th>PM25L</th>\n",
       "      <th>SO2L</th>\n",
       "      <th>NO2L</th>\n",
       "      <th>PM10L</th>\n",
       "      <th>AQIL</th>\n",
       "      <th>O3L</th>\n",
       "      <th>year</th>\n",
       "    </tr>\n",
       "  </thead>\n",
       "  <tbody>\n",
       "    <tr>\n",
       "      <th>0</th>\n",
       "      <td>count</td>\n",
       "      <td>29531</td>\n",
       "      <td>29531</td>\n",
       "      <td>24850</td>\n",
       "      <td>24933</td>\n",
       "      <td>25677</td>\n",
       "      <td>25946</td>\n",
       "      <td>18391</td>\n",
       "      <td>24850</td>\n",
       "      <td>25509</td>\n",
       "      <td>29531</td>\n",
       "    </tr>\n",
       "    <tr>\n",
       "      <th>1</th>\n",
       "      <td>mean</td>\n",
       "      <td>None</td>\n",
       "      <td>None</td>\n",
       "      <td>None</td>\n",
       "      <td>3.885701913793943</td>\n",
       "      <td>2.2684374470398123</td>\n",
       "      <td>3.0130977074753162</td>\n",
       "      <td>4.504168184546539</td>\n",
       "      <td>4.871043937166995</td>\n",
       "      <td>3.306269545598628</td>\n",
       "      <td>2017.8879143950426</td>\n",
       "    </tr>\n",
       "    <tr>\n",
       "      <th>2</th>\n",
       "      <td>stddev</td>\n",
       "      <td>None</td>\n",
       "      <td>None</td>\n",
       "      <td>None</td>\n",
       "      <td>0.8067401939979603</td>\n",
       "      <td>0.8523813673073461</td>\n",
       "      <td>0.9148984345626866</td>\n",
       "      <td>0.7907660507809209</td>\n",
       "      <td>0.672733062365079</td>\n",
       "      <td>0.7961323984354287</td>\n",
       "      <td>1.5337825402311294</td>\n",
       "    </tr>\n",
       "    <tr>\n",
       "      <th>3</th>\n",
       "      <td>min</td>\n",
       "      <td>Ahmedabad</td>\n",
       "      <td>2015-01-01</td>\n",
       "      <td>Good</td>\n",
       "      <td>-3.218875847219943</td>\n",
       "      <td>-4.605170208339834</td>\n",
       "      <td>-4.605170208339834</td>\n",
       "      <td>-4.605170208339834</td>\n",
       "      <td>2.5649493574615367</td>\n",
       "      <td>-4.605170208339834</td>\n",
       "      <td>2015</td>\n",
       "    </tr>\n",
       "    <tr>\n",
       "      <th>4</th>\n",
       "      <td>max</td>\n",
       "      <td>Visakhapatnam</td>\n",
       "      <td>2020-07-01</td>\n",
       "      <td>Very Poor</td>\n",
       "      <td>6.856451447943681</td>\n",
       "      <td>5.267136252212876</td>\n",
       "      <td>5.892224130532889</td>\n",
       "      <td>6.907755278982137</td>\n",
       "      <td>7.6251071482389</td>\n",
       "      <td>5.551912567945351</td>\n",
       "      <td>2020</td>\n",
       "    </tr>\n",
       "  </tbody>\n",
       "</table>\n",
       "</div>"
      ],
      "text/plain": [
       "  summary           City        Date  AQIBucket               PM25L  \\\n",
       "0   count          29531       29531      24850               24933   \n",
       "1    mean           None        None       None   3.885701913793943   \n",
       "2  stddev           None        None       None  0.8067401939979603   \n",
       "3     min      Ahmedabad  2015-01-01       Good  -3.218875847219943   \n",
       "4     max  Visakhapatnam  2020-07-01  Very Poor   6.856451447943681   \n",
       "\n",
       "                 SO2L                NO2L               PM10L  \\\n",
       "0               25677               25946               18391   \n",
       "1  2.2684374470398123  3.0130977074753162   4.504168184546539   \n",
       "2  0.8523813673073461  0.9148984345626866  0.7907660507809209   \n",
       "3  -4.605170208339834  -4.605170208339834  -4.605170208339834   \n",
       "4   5.267136252212876   5.892224130532889   6.907755278982137   \n",
       "\n",
       "                 AQIL                 O3L                year  \n",
       "0               24850               25509               29531  \n",
       "1   4.871043937166995   3.306269545598628  2017.8879143950426  \n",
       "2   0.672733062365079  0.7961323984354287  1.5337825402311294  \n",
       "3  2.5649493574615367  -4.605170208339834                2015  \n",
       "4     7.6251071482389   5.551912567945351                2020  "
      ]
     },
     "execution_count": 23,
     "metadata": {},
     "output_type": "execute_result"
    }
   ],
   "source": [
    "df1=dflog\n",
    "\n",
    "df1.describe().toPandas()\n",
    "\n",
    "df1= df1.drop('PM25')\n",
    "df1= df1.drop('SO2')\n",
    "df1= df1.drop('NO2')\n",
    "df1=df1.drop('PM10')\n",
    "df1=df1.drop('AQI')\n",
    "df1=df1.drop('O3')\n",
    "df1.describe().toPandas()\n",
    "\n"
   ]
  },
  {
   "cell_type": "code",
   "execution_count": 24,
   "metadata": {},
   "outputs": [
    {
     "name": "stderr",
     "output_type": "stream",
     "text": [
      "                                                                                \r"
     ]
    },
    {
     "data": {
      "text/html": [
       "<div>\n",
       "<style scoped>\n",
       "    .dataframe tbody tr th:only-of-type {\n",
       "        vertical-align: middle;\n",
       "    }\n",
       "\n",
       "    .dataframe tbody tr th {\n",
       "        vertical-align: top;\n",
       "    }\n",
       "\n",
       "    .dataframe thead th {\n",
       "        text-align: right;\n",
       "    }\n",
       "</style>\n",
       "<table border=\"1\" class=\"dataframe\">\n",
       "  <thead>\n",
       "    <tr style=\"text-align: right;\">\n",
       "      <th></th>\n",
       "      <th>summary</th>\n",
       "      <th>City</th>\n",
       "      <th>Date</th>\n",
       "      <th>AQIBucket</th>\n",
       "      <th>PM25</th>\n",
       "      <th>SO2</th>\n",
       "      <th>NO2</th>\n",
       "      <th>PM10</th>\n",
       "      <th>AQI</th>\n",
       "      <th>O3</th>\n",
       "      <th>year</th>\n",
       "    </tr>\n",
       "  </thead>\n",
       "  <tbody>\n",
       "    <tr>\n",
       "      <th>0</th>\n",
       "      <td>count</td>\n",
       "      <td>29531</td>\n",
       "      <td>29531</td>\n",
       "      <td>24850</td>\n",
       "      <td>24933</td>\n",
       "      <td>25677</td>\n",
       "      <td>25946</td>\n",
       "      <td>18391</td>\n",
       "      <td>24850</td>\n",
       "      <td>25509</td>\n",
       "      <td>29531</td>\n",
       "    </tr>\n",
       "    <tr>\n",
       "      <th>1</th>\n",
       "      <td>mean</td>\n",
       "      <td>None</td>\n",
       "      <td>None</td>\n",
       "      <td>None</td>\n",
       "      <td>3.885701913793943</td>\n",
       "      <td>2.2684374470398123</td>\n",
       "      <td>3.0130977074753162</td>\n",
       "      <td>4.504168184546539</td>\n",
       "      <td>4.871043937166995</td>\n",
       "      <td>3.306269545598628</td>\n",
       "      <td>2017.8879143950426</td>\n",
       "    </tr>\n",
       "    <tr>\n",
       "      <th>2</th>\n",
       "      <td>stddev</td>\n",
       "      <td>None</td>\n",
       "      <td>None</td>\n",
       "      <td>None</td>\n",
       "      <td>0.8067401939979603</td>\n",
       "      <td>0.8523813673073461</td>\n",
       "      <td>0.9148984345626866</td>\n",
       "      <td>0.7907660507809209</td>\n",
       "      <td>0.672733062365079</td>\n",
       "      <td>0.7961323984354287</td>\n",
       "      <td>1.5337825402311294</td>\n",
       "    </tr>\n",
       "    <tr>\n",
       "      <th>3</th>\n",
       "      <td>min</td>\n",
       "      <td>Ahmedabad</td>\n",
       "      <td>2015-01-01</td>\n",
       "      <td>Good</td>\n",
       "      <td>-3.218875847219943</td>\n",
       "      <td>-4.605170208339834</td>\n",
       "      <td>-4.605170208339834</td>\n",
       "      <td>-4.605170208339834</td>\n",
       "      <td>2.5649493574615367</td>\n",
       "      <td>-4.605170208339834</td>\n",
       "      <td>2015</td>\n",
       "    </tr>\n",
       "    <tr>\n",
       "      <th>4</th>\n",
       "      <td>max</td>\n",
       "      <td>Visakhapatnam</td>\n",
       "      <td>2020-07-01</td>\n",
       "      <td>Very Poor</td>\n",
       "      <td>6.856451447943681</td>\n",
       "      <td>5.267136252212876</td>\n",
       "      <td>5.892224130532889</td>\n",
       "      <td>6.907755278982137</td>\n",
       "      <td>7.6251071482389</td>\n",
       "      <td>5.551912567945351</td>\n",
       "      <td>2020</td>\n",
       "    </tr>\n",
       "  </tbody>\n",
       "</table>\n",
       "</div>"
      ],
      "text/plain": [
       "  summary           City        Date  AQIBucket                PM25  \\\n",
       "0   count          29531       29531      24850               24933   \n",
       "1    mean           None        None       None   3.885701913793943   \n",
       "2  stddev           None        None       None  0.8067401939979603   \n",
       "3     min      Ahmedabad  2015-01-01       Good  -3.218875847219943   \n",
       "4     max  Visakhapatnam  2020-07-01  Very Poor   6.856451447943681   \n",
       "\n",
       "                  SO2                 NO2                PM10  \\\n",
       "0               25677               25946               18391   \n",
       "1  2.2684374470398123  3.0130977074753162   4.504168184546539   \n",
       "2  0.8523813673073461  0.9148984345626866  0.7907660507809209   \n",
       "3  -4.605170208339834  -4.605170208339834  -4.605170208339834   \n",
       "4   5.267136252212876   5.892224130532889   6.907755278982137   \n",
       "\n",
       "                  AQI                  O3                year  \n",
       "0               24850               25509               29531  \n",
       "1   4.871043937166995   3.306269545598628  2017.8879143950426  \n",
       "2   0.672733062365079  0.7961323984354287  1.5337825402311294  \n",
       "3  2.5649493574615367  -4.605170208339834                2015  \n",
       "4     7.6251071482389   5.551912567945351                2020  "
      ]
     },
     "execution_count": 24,
     "metadata": {},
     "output_type": "execute_result"
    }
   ],
   "source": [
    "from pyspark.sql.functions import year \n",
    "\n",
    "df1 = df1.withColumn(\"year1\",year(\"Date\"))\n",
    "df1=df1.drop('year')\n",
    "df1 = df1.withColumnRenamed('year1', 'year')\n",
    "\n",
    "df1 = df1.withColumnRenamed('PM25L', 'PM25')\n",
    "df1 = df1.withColumnRenamed('PM10L', 'PM10')\n",
    "df1 = df1.withColumnRenamed('AQIL', 'AQI')\n",
    "df1 = df1.withColumnRenamed('SO2L', 'SO2')\n",
    "df1 = df1.withColumnRenamed('NO2L', 'NO2')\n",
    "df1 = df1.withColumnRenamed('O3L', 'O3')\n",
    "df1.describe().toPandas()"
   ]
  },
  {
   "cell_type": "code",
   "execution_count": 25,
   "metadata": {},
   "outputs": [
    {
     "name": "stdout",
     "output_type": "stream",
     "text": [
      "+---------+----------+---------+----+------------------+------------------+----+----+------------------+----+\n",
      "|     City|      Date|AQIBucket|PM25|               SO2|               NO2|PM10| AQI|                O3|year|\n",
      "+---------+----------+---------+----+------------------+------------------+----+----+------------------+----+\n",
      "|Ahmedabad|2015-01-01|     null|null| 3.319263976817285|2.9025198541454498|null|null|  4.89305224301926|2015|\n",
      "|Ahmedabad|2015-01-02|     null|null| 3.200711823163566| 2.753023540000728|null|null| 3.528123715554301|2015|\n",
      "|Ahmedabad|2015-01-03|     null|null|3.3697067040728217|2.9601050563802973|null|null| 3.424262679444599|2015|\n",
      "|Ahmedabad|2015-01-04|     null|null|2.9226238099414155| 2.916689041442776|null|null|3.5857387459442744|2015|\n",
      "|Ahmedabad|2015-01-05|     null|null|   3.6719876329999|3.0643250685814114|null|null|3.6714789743686707|2015|\n",
      "|Ahmedabad|2015-01-06|     null|null|3.8234103103917603|3.6501386139013605|null|null| 3.839667307147706|2015|\n",
      "|Ahmedabad|2015-01-07|     null|null|3.4744478055856653|3.7042605298569344|null|null| 3.510649551694795|2015|\n",
      "|Ahmedabad|2015-01-08|     null|null|  3.65169668674147| 3.603866125471976|null|null|3.4622924618826887|2015|\n",
      "|Ahmedabad|2015-01-09|     null|null|4.0720989584754586|3.4339872044851463|null|null| 3.248434627109745|2015|\n",
      "|Ahmedabad|2015-01-10|     null|null| 2.115049964545639| 1.951608164751347|null|null|1.5151272748826083|2015|\n",
      "|Ahmedabad|2015-01-11|     null|null| 3.220075132876583| 4.021773855714515|null|null|1.9154509359524938|2015|\n",
      "|Ahmedabad|2015-01-12|     null|null|3.9481620549874585|3.7054906748968874|null|null|3.8262472151064246|2015|\n",
      "|Ahmedabad|2015-01-13|     null|null| 4.222591168244441| 3.788724806344726|null|null|3.5599090684771615|2015|\n",
      "|Ahmedabad|2015-01-14|     null|null|  3.96366626756154|3.3271919902594687|null|null|3.0426158157731007|2015|\n",
      "|Ahmedabad|2015-01-15|     null|null|3.3634954933514023|2.8308575763821904|null|null| 3.863462837238031|2015|\n",
      "|Ahmedabad|2015-01-16|     null|null| 3.644666311399034| 3.078233463452221|null|null|3.8292933313094206|2015|\n",
      "|Ahmedabad|2015-01-17|     null|null|3.9019726695746444| 3.208017063022865|null|null| 3.955848517098091|2015|\n",
      "|Ahmedabad|2015-01-18|     null|null|3.8801194627165168|3.2492110424277065|null|null|3.9794947519222346|2015|\n",
      "|Ahmedabad|2015-01-19|     null|null|3.9126228011006905|3.2913824844334676|null|null| 3.901568538272798|2015|\n",
      "|Ahmedabad|2015-01-20|     null|null| 4.075331604896545|3.2884018590489204|null|null| 4.031937083145191|2015|\n",
      "+---------+----------+---------+----+------------------+------------------+----+----+------------------+----+\n",
      "only showing top 20 rows\n",
      "\n"
     ]
    }
   ],
   "source": [
    "df=df1\n",
    "df.show()"
   ]
  },
  {
   "cell_type": "code",
   "execution_count": 26,
   "metadata": {},
   "outputs": [
    {
     "name": "stderr",
     "output_type": "stream",
     "text": [
      "                                                                                \r"
     ]
    },
    {
     "name": "stdout",
     "output_type": "stream",
     "text": [
      "+---------+----------+---------+-----------------+------------------+------------------+----+----+------------------+----+\n",
      "|     City|      Date|AQIBucket|             PM25|               SO2|               NO2|PM10| AQI|                O3|year|\n",
      "+---------+----------+---------+-----------------+------------------+------------------+----+----+------------------+----+\n",
      "|Ahmedabad|2015-01-01|     null|4.293741690638772| 3.319263976817285|2.9025198541454498|null|null|  4.89305224301926|2015|\n",
      "|Ahmedabad|2015-01-02|     null|4.293741690638772| 3.200711823163566| 2.753023540000728|null|null| 3.528123715554301|2015|\n",
      "|Ahmedabad|2015-01-03|     null|4.293741690638772|3.3697067040728217|2.9601050563802973|null|null| 3.424262679444599|2015|\n",
      "|Ahmedabad|2015-01-04|     null|4.293741690638772|2.9226238099414155| 2.916689041442776|null|null|3.5857387459442744|2015|\n",
      "|Ahmedabad|2015-01-05|     null|4.293741690638772|   3.6719876329999|3.0643250685814114|null|null|3.6714789743686707|2015|\n",
      "|Ahmedabad|2015-01-06|     null|4.293741690638772|3.8234103103917603|3.6501386139013605|null|null| 3.839667307147706|2015|\n",
      "|Ahmedabad|2015-01-07|     null|4.293741690638772|3.4744478055856653|3.7042605298569344|null|null| 3.510649551694795|2015|\n",
      "|Ahmedabad|2015-01-08|     null|4.293741690638772|  3.65169668674147| 3.603866125471976|null|null|3.4622924618826887|2015|\n",
      "|Ahmedabad|2015-01-09|     null|4.293741690638772|4.0720989584754586|3.4339872044851463|null|null| 3.248434627109745|2015|\n",
      "|Ahmedabad|2015-01-10|     null|4.293741690638772| 2.115049964545639| 1.951608164751347|null|null|1.5151272748826083|2015|\n",
      "+---------+----------+---------+-----------------+------------------+------------------+----+----+------------------+----+\n",
      "only showing top 10 rows\n",
      "\n",
      "+---------+----------+---------+-----------------+------------------+------------------+----+----+------------------+----+\n",
      "|     City|      Date|AQIBucket|             PM25|               SO2|               NO2|PM10| AQI|                O3|year|\n",
      "+---------+----------+---------+-----------------+------------------+------------------+----+----+------------------+----+\n",
      "|Ahmedabad|2015-01-01|     null|4.293741690638772| 3.319263976817285|2.9025198541454498|null|null|  4.89305224301926|2015|\n",
      "|Ahmedabad|2015-01-02|     null|4.293741690638772| 3.200711823163566| 2.753023540000728|null|null| 3.528123715554301|2015|\n",
      "|Ahmedabad|2015-01-03|     null|4.293741690638772|3.3697067040728217|2.9601050563802973|null|null| 3.424262679444599|2015|\n",
      "|Ahmedabad|2015-01-04|     null|4.293741690638772|2.9226238099414155| 2.916689041442776|null|null|3.5857387459442744|2015|\n",
      "|Ahmedabad|2015-01-05|     null|4.293741690638772|   3.6719876329999|3.0643250685814114|null|null|3.6714789743686707|2015|\n",
      "|Ahmedabad|2015-01-06|     null|4.293741690638772|3.8234103103917603|3.6501386139013605|null|null| 3.839667307147706|2015|\n",
      "|Ahmedabad|2015-01-07|     null|4.293741690638772|3.4744478055856653|3.7042605298569344|null|null| 3.510649551694795|2015|\n",
      "|Ahmedabad|2015-01-08|     null|4.293741690638772|  3.65169668674147| 3.603866125471976|null|null|3.4622924618826887|2015|\n",
      "|Ahmedabad|2015-01-09|     null|4.293741690638772|4.0720989584754586|3.4339872044851463|null|null| 3.248434627109745|2015|\n",
      "|Ahmedabad|2015-01-10|     null|4.293741690638772| 2.115049964545639| 1.951608164751347|null|null|1.5151272748826083|2015|\n",
      "|Ahmedabad|2015-01-11|     null|4.293741690638772| 3.220075132876583| 4.021773855714515|null|null|1.9154509359524938|2015|\n",
      "|Ahmedabad|2015-01-12|     null|4.293741690638772|3.9481620549874585|3.7054906748968874|null|null|3.8262472151064246|2015|\n",
      "|Ahmedabad|2015-01-13|     null|4.293741690638772| 4.222591168244441| 3.788724806344726|null|null|3.5599090684771615|2015|\n",
      "|Ahmedabad|2015-01-14|     null|4.293741690638772|  3.96366626756154|3.3271919902594687|null|null|3.0426158157731007|2015|\n",
      "|Ahmedabad|2015-01-15|     null|4.293741690638772|3.3634954933514023|2.8308575763821904|null|null| 3.863462837238031|2015|\n",
      "|Ahmedabad|2015-01-16|     null|4.293741690638772| 3.644666311399034| 3.078233463452221|null|null|3.8292933313094206|2015|\n",
      "|Ahmedabad|2015-01-17|     null|4.293741690638772|3.9019726695746444| 3.208017063022865|null|null| 3.955848517098091|2015|\n",
      "|Ahmedabad|2015-01-18|     null|4.293741690638772|3.8801194627165168|3.2492110424277065|null|null|3.9794947519222346|2015|\n",
      "|Ahmedabad|2015-01-19|     null|4.293741690638772|3.9126228011006905|3.2913824844334676|null|null| 3.901568538272798|2015|\n",
      "|Ahmedabad|2015-01-20|     null|4.293741690638772| 4.075331604896545|3.2884018590489204|null|null| 4.031937083145191|2015|\n",
      "+---------+----------+---------+-----------------+------------------+------------------+----+----+------------------+----+\n",
      "only showing top 20 rows\n",
      "\n"
     ]
    },
    {
     "name": "stderr",
     "output_type": "stream",
     "text": [
      "                                                                                \r"
     ]
    },
    {
     "name": "stdout",
     "output_type": "stream",
     "text": [
      "+---------+----------+---------+-----------------+------------------+------------------+----+----+------------------+----+\n",
      "|     City|      Date|AQIBucket|             PM25|               SO2|               NO2|PM10| AQI|                O3|year|\n",
      "+---------+----------+---------+-----------------+------------------+------------------+----+----+------------------+----+\n",
      "|Ahmedabad|2015-01-01|     null|4.293741690638772| 3.319263976817285|2.9025198541454498|null|null|  4.89305224301926|2015|\n",
      "|Ahmedabad|2015-01-02|     null|4.293741690638772| 3.200711823163566| 2.753023540000728|null|null| 3.528123715554301|2015|\n",
      "|Ahmedabad|2015-01-03|     null|4.293741690638772|3.3697067040728217|2.9601050563802973|null|null| 3.424262679444599|2015|\n",
      "|Ahmedabad|2015-01-04|     null|4.293741690638772|2.9226238099414155| 2.916689041442776|null|null|3.5857387459442744|2015|\n",
      "|Ahmedabad|2015-01-05|     null|4.293741690638772|   3.6719876329999|3.0643250685814114|null|null|3.6714789743686707|2015|\n",
      "|Ahmedabad|2015-01-06|     null|4.293741690638772|3.8234103103917603|3.6501386139013605|null|null| 3.839667307147706|2015|\n",
      "|Ahmedabad|2015-01-07|     null|4.293741690638772|3.4744478055856653|3.7042605298569344|null|null| 3.510649551694795|2015|\n",
      "|Ahmedabad|2015-01-08|     null|4.293741690638772|  3.65169668674147| 3.603866125471976|null|null|3.4622924618826887|2015|\n",
      "|Ahmedabad|2015-01-09|     null|4.293741690638772|4.0720989584754586|3.4339872044851463|null|null| 3.248434627109745|2015|\n",
      "|Ahmedabad|2015-01-10|     null|4.293741690638772| 2.115049964545639| 1.951608164751347|null|null|1.5151272748826083|2015|\n",
      "+---------+----------+---------+-----------------+------------------+------------------+----+----+------------------+----+\n",
      "only showing top 10 rows\n",
      "\n",
      "+---------+----------+---------+-----------------+------------------+------------------+----+----+------------------+----+\n",
      "|     City|      Date|AQIBucket|             PM25|               SO2|               NO2|PM10| AQI|                O3|year|\n",
      "+---------+----------+---------+-----------------+------------------+------------------+----+----+------------------+----+\n",
      "|Ahmedabad|2015-01-01|     null|4.293741690638772| 3.319263976817285|2.9025198541454498|null|null|  4.89305224301926|2015|\n",
      "|Ahmedabad|2015-01-02|     null|4.293741690638772| 3.200711823163566| 2.753023540000728|null|null| 3.528123715554301|2015|\n",
      "|Ahmedabad|2015-01-03|     null|4.293741690638772|3.3697067040728217|2.9601050563802973|null|null| 3.424262679444599|2015|\n",
      "|Ahmedabad|2015-01-04|     null|4.293741690638772|2.9226238099414155| 2.916689041442776|null|null|3.5857387459442744|2015|\n",
      "|Ahmedabad|2015-01-05|     null|4.293741690638772|   3.6719876329999|3.0643250685814114|null|null|3.6714789743686707|2015|\n",
      "|Ahmedabad|2015-01-06|     null|4.293741690638772|3.8234103103917603|3.6501386139013605|null|null| 3.839667307147706|2015|\n",
      "|Ahmedabad|2015-01-07|     null|4.293741690638772|3.4744478055856653|3.7042605298569344|null|null| 3.510649551694795|2015|\n",
      "|Ahmedabad|2015-01-08|     null|4.293741690638772|  3.65169668674147| 3.603866125471976|null|null|3.4622924618826887|2015|\n",
      "|Ahmedabad|2015-01-09|     null|4.293741690638772|4.0720989584754586|3.4339872044851463|null|null| 3.248434627109745|2015|\n",
      "|Ahmedabad|2015-01-10|     null|4.293741690638772| 2.115049964545639| 1.951608164751347|null|null|1.5151272748826083|2015|\n",
      "|Ahmedabad|2015-01-11|     null|4.293741690638772| 3.220075132876583| 4.021773855714515|null|null|1.9154509359524938|2015|\n",
      "|Ahmedabad|2015-01-12|     null|4.293741690638772|3.9481620549874585|3.7054906748968874|null|null|3.8262472151064246|2015|\n",
      "|Ahmedabad|2015-01-13|     null|4.293741690638772| 4.222591168244441| 3.788724806344726|null|null|3.5599090684771615|2015|\n",
      "|Ahmedabad|2015-01-14|     null|4.293741690638772|  3.96366626756154|3.3271919902594687|null|null|3.0426158157731007|2015|\n",
      "|Ahmedabad|2015-01-15|     null|4.293741690638772|3.3634954933514023|2.8308575763821904|null|null| 3.863462837238031|2015|\n",
      "|Ahmedabad|2015-01-16|     null|4.293741690638772| 3.644666311399034| 3.078233463452221|null|null|3.8292933313094206|2015|\n",
      "|Ahmedabad|2015-01-17|     null|4.293741690638772|3.9019726695746444| 3.208017063022865|null|null| 3.955848517098091|2015|\n",
      "|Ahmedabad|2015-01-18|     null|4.293741690638772|3.8801194627165168|3.2492110424277065|null|null|3.9794947519222346|2015|\n",
      "|Ahmedabad|2015-01-19|     null|4.293741690638772|3.9126228011006905|3.2913824844334676|null|null| 3.901568538272798|2015|\n",
      "|Ahmedabad|2015-01-20|     null|4.293741690638772| 4.075331604896545|3.2884018590489204|null|null| 4.031937083145191|2015|\n",
      "+---------+----------+---------+-----------------+------------------+------------------+----+----+------------------+----+\n",
      "only showing top 20 rows\n",
      "\n"
     ]
    }
   ],
   "source": [
    "import sys\n",
    "###backward fill\n",
    "from pyspark.sql import Window\n",
    "from pyspark.sql.functions import first,last\n",
    "\n",
    "# define the window\n",
    "window = Window.partitionBy('City')\\\n",
    "               .orderBy('Date')\\\n",
    "               .rowsBetween(0, sys.maxsize)\n",
    "\n",
    "# define the forward-filled column\n",
    "filled_column = first(df['PM25'], ignorenulls=True).over(window)\n",
    "\n",
    "# do the fill\n",
    "spark_df_filled = df.withColumn('PM25', filled_column)\n",
    "\n",
    "# show off our glorious achievements\n",
    "spark_df_filled.orderBy('City', 'Date').show(10) \n",
    "spark_df_filled.show()\n",
    "\n",
    "# define the window\n",
    "window = Window.partitionBy('City')\\\n",
    "               .orderBy('Date')\\\n",
    "               .rowsBetween(-sys.maxsize,0)\n",
    "\n",
    "# define the forward-filled column\n",
    "filled_column = last(spark_df_filled['PM25'], ignorenulls=True).over(window)\n",
    "\n",
    "# do the fill\n",
    "spark_df_filled = spark_df_filled.withColumn('PM25', filled_column)\n",
    "# show off our glorious achievements\n",
    "\n",
    "spark_df_filled.orderBy('City', 'Date').show(10) \n",
    "spark_df_filled.show()\n"
   ]
  },
  {
   "cell_type": "code",
   "execution_count": 27,
   "metadata": {},
   "outputs": [
    {
     "name": "stderr",
     "output_type": "stream",
     "text": [
      "\r",
      "[Stage 94:>                                                         (0 + 1) / 1]\r"
     ]
    },
    {
     "name": "stdout",
     "output_type": "stream",
     "text": [
      "+----+----+---------+----+---+---+----+---+---+----+\n",
      "|City|Date|AQIBucket|PM25|SO2|NO2|PM10|AQI| O3|year|\n",
      "+----+----+---------+----+---+---+----+---+---+----+\n",
      "+----+----+---------+----+---+---+----+---+---+----+\n",
      "\n"
     ]
    },
    {
     "name": "stderr",
     "output_type": "stream",
     "text": [
      "\r",
      "                                                                                \r"
     ]
    }
   ],
   "source": [
    "spark_df_filled.filter(spark_df_filled.PM25.isNull()).show()"
   ]
  },
  {
   "cell_type": "code",
   "execution_count": 28,
   "metadata": {},
   "outputs": [
    {
     "name": "stderr",
     "output_type": "stream",
     "text": [
      "\r",
      "[Stage 97:>                                                         (0 + 1) / 1]\r"
     ]
    },
    {
     "name": "stdout",
     "output_type": "stream",
     "text": [
      "+----+----+---------+----+----+----+-----+----+----+----+\n",
      "|City|Date|AQIBucket|PM25| SO2| NO2| PM10| AQI|  O3|year|\n",
      "+----+----+---------+----+----+----+-----+----+----+----+\n",
      "|   0|   0|     4681|   0|3854|3585|11140|4681|4022|   0|\n",
      "+----+----+---------+----+----+----+-----+----+----+----+\n",
      "\n"
     ]
    },
    {
     "name": "stderr",
     "output_type": "stream",
     "text": [
      "\r",
      "                                                                                \r"
     ]
    }
   ],
   "source": [
    "# Find count for empty, None, Null, Nan with string literals.\n",
    "from pyspark.sql.functions import col,isnan,when,count\n",
    "df2 = spark_df_filled\n",
    "df2 = df2.select([count(when(col(c).contains('None') | \\\n",
    "                            col(c).contains('NULL') | \\\n",
    "                            (col(c) == '' ) | \\\n",
    "                            col(c).isNull() | \\\n",
    "                            isnan(c), c \n",
    "                           )).alias(c)\n",
    "                    for c in df2.columns])\n",
    "df2.show()"
   ]
  },
  {
   "cell_type": "code",
   "execution_count": 29,
   "metadata": {},
   "outputs": [
    {
     "name": "stderr",
     "output_type": "stream",
     "text": [
      "                                                                                \r"
     ]
    },
    {
     "name": "stdout",
     "output_type": "stream",
     "text": [
      "+---------+----------+---------+-----------------+------------------+------------------+----+----+------------------+----+\n",
      "|     City|      Date|AQIBucket|             PM25|               SO2|               NO2|PM10| AQI|                O3|year|\n",
      "+---------+----------+---------+-----------------+------------------+------------------+----+----+------------------+----+\n",
      "|Ahmedabad|2015-01-01|     null|4.293741690638772| 3.319263976817285|2.9025198541454498|null|null|  4.89305224301926|2015|\n",
      "|Ahmedabad|2015-01-02|     null|4.293741690638772| 3.200711823163566| 2.753023540000728|null|null| 3.528123715554301|2015|\n",
      "|Ahmedabad|2015-01-03|     null|4.293741690638772|3.3697067040728217|2.9601050563802973|null|null| 3.424262679444599|2015|\n",
      "|Ahmedabad|2015-01-04|     null|4.293741690638772|2.9226238099414155| 2.916689041442776|null|null|3.5857387459442744|2015|\n",
      "|Ahmedabad|2015-01-05|     null|4.293741690638772|   3.6719876329999|3.0643250685814114|null|null|3.6714789743686707|2015|\n",
      "|Ahmedabad|2015-01-06|     null|4.293741690638772|3.8234103103917603|3.6501386139013605|null|null| 3.839667307147706|2015|\n",
      "|Ahmedabad|2015-01-07|     null|4.293741690638772|3.4744478055856653|3.7042605298569344|null|null| 3.510649551694795|2015|\n",
      "|Ahmedabad|2015-01-08|     null|4.293741690638772|  3.65169668674147| 3.603866125471976|null|null|3.4622924618826887|2015|\n",
      "|Ahmedabad|2015-01-09|     null|4.293741690638772|4.0720989584754586|3.4339872044851463|null|null| 3.248434627109745|2015|\n",
      "|Ahmedabad|2015-01-10|     null|4.293741690638772| 2.115049964545639| 1.951608164751347|null|null|1.5151272748826083|2015|\n",
      "+---------+----------+---------+-----------------+------------------+------------------+----+----+------------------+----+\n",
      "only showing top 10 rows\n",
      "\n",
      "+---------+----------+---------+-----------------+------------------+------------------+----+----+------------------+----+\n",
      "|     City|      Date|AQIBucket|             PM25|               SO2|               NO2|PM10| AQI|                O3|year|\n",
      "+---------+----------+---------+-----------------+------------------+------------------+----+----+------------------+----+\n",
      "|Ahmedabad|2015-01-01|     null|4.293741690638772| 3.319263976817285|2.9025198541454498|null|null|  4.89305224301926|2015|\n",
      "|Ahmedabad|2015-01-02|     null|4.293741690638772| 3.200711823163566| 2.753023540000728|null|null| 3.528123715554301|2015|\n",
      "|Ahmedabad|2015-01-03|     null|4.293741690638772|3.3697067040728217|2.9601050563802973|null|null| 3.424262679444599|2015|\n",
      "|Ahmedabad|2015-01-04|     null|4.293741690638772|2.9226238099414155| 2.916689041442776|null|null|3.5857387459442744|2015|\n",
      "|Ahmedabad|2015-01-05|     null|4.293741690638772|   3.6719876329999|3.0643250685814114|null|null|3.6714789743686707|2015|\n",
      "|Ahmedabad|2015-01-06|     null|4.293741690638772|3.8234103103917603|3.6501386139013605|null|null| 3.839667307147706|2015|\n",
      "|Ahmedabad|2015-01-07|     null|4.293741690638772|3.4744478055856653|3.7042605298569344|null|null| 3.510649551694795|2015|\n",
      "|Ahmedabad|2015-01-08|     null|4.293741690638772|  3.65169668674147| 3.603866125471976|null|null|3.4622924618826887|2015|\n",
      "|Ahmedabad|2015-01-09|     null|4.293741690638772|4.0720989584754586|3.4339872044851463|null|null| 3.248434627109745|2015|\n",
      "|Ahmedabad|2015-01-10|     null|4.293741690638772| 2.115049964545639| 1.951608164751347|null|null|1.5151272748826083|2015|\n",
      "|Ahmedabad|2015-01-11|     null|4.293741690638772| 3.220075132876583| 4.021773855714515|null|null|1.9154509359524938|2015|\n",
      "|Ahmedabad|2015-01-12|     null|4.293741690638772|3.9481620549874585|3.7054906748968874|null|null|3.8262472151064246|2015|\n",
      "|Ahmedabad|2015-01-13|     null|4.293741690638772| 4.222591168244441| 3.788724806344726|null|null|3.5599090684771615|2015|\n",
      "|Ahmedabad|2015-01-14|     null|4.293741690638772|  3.96366626756154|3.3271919902594687|null|null|3.0426158157731007|2015|\n",
      "|Ahmedabad|2015-01-15|     null|4.293741690638772|3.3634954933514023|2.8308575763821904|null|null| 3.863462837238031|2015|\n",
      "|Ahmedabad|2015-01-16|     null|4.293741690638772| 3.644666311399034| 3.078233463452221|null|null|3.8292933313094206|2015|\n",
      "|Ahmedabad|2015-01-17|     null|4.293741690638772|3.9019726695746444| 3.208017063022865|null|null| 3.955848517098091|2015|\n",
      "|Ahmedabad|2015-01-18|     null|4.293741690638772|3.8801194627165168|3.2492110424277065|null|null|3.9794947519222346|2015|\n",
      "|Ahmedabad|2015-01-19|     null|4.293741690638772|3.9126228011006905|3.2913824844334676|null|null| 3.901568538272798|2015|\n",
      "|Ahmedabad|2015-01-20|     null|4.293741690638772| 4.075331604896545|3.2884018590489204|null|null| 4.031937083145191|2015|\n",
      "+---------+----------+---------+-----------------+------------------+------------------+----+----+------------------+----+\n",
      "only showing top 20 rows\n",
      "\n"
     ]
    },
    {
     "name": "stderr",
     "output_type": "stream",
     "text": [
      "                                                                                \r"
     ]
    },
    {
     "name": "stdout",
     "output_type": "stream",
     "text": [
      "+---------+----------+---------+-----------------+------------------+------------------+-----------------+----+------------------+----+\n",
      "|     City|      Date|AQIBucket|             PM25|               SO2|               NO2|             PM10| AQI|                O3|year|\n",
      "+---------+----------+---------+-----------------+------------------+------------------+-----------------+----+------------------+----+\n",
      "|Ahmedabad|2015-01-01|     null|4.293741690638772| 3.319263976817285|2.9025198541454498|4.952582315213222|null|  4.89305224301926|2015|\n",
      "|Ahmedabad|2015-01-02|     null|4.293741690638772| 3.200711823163566| 2.753023540000728|4.952582315213222|null| 3.528123715554301|2015|\n",
      "|Ahmedabad|2015-01-03|     null|4.293741690638772|3.3697067040728217|2.9601050563802973|4.952582315213222|null| 3.424262679444599|2015|\n",
      "|Ahmedabad|2015-01-04|     null|4.293741690638772|2.9226238099414155| 2.916689041442776|4.952582315213222|null|3.5857387459442744|2015|\n",
      "|Ahmedabad|2015-01-05|     null|4.293741690638772|   3.6719876329999|3.0643250685814114|4.952582315213222|null|3.6714789743686707|2015|\n",
      "|Ahmedabad|2015-01-06|     null|4.293741690638772|3.8234103103917603|3.6501386139013605|4.952582315213222|null| 3.839667307147706|2015|\n",
      "|Ahmedabad|2015-01-07|     null|4.293741690638772|3.4744478055856653|3.7042605298569344|4.952582315213222|null| 3.510649551694795|2015|\n",
      "|Ahmedabad|2015-01-08|     null|4.293741690638772|  3.65169668674147| 3.603866125471976|4.952582315213222|null|3.4622924618826887|2015|\n",
      "|Ahmedabad|2015-01-09|     null|4.293741690638772|4.0720989584754586|3.4339872044851463|4.952582315213222|null| 3.248434627109745|2015|\n",
      "|Ahmedabad|2015-01-10|     null|4.293741690638772| 2.115049964545639| 1.951608164751347|4.952582315213222|null|1.5151272748826083|2015|\n",
      "+---------+----------+---------+-----------------+------------------+------------------+-----------------+----+------------------+----+\n",
      "only showing top 10 rows\n",
      "\n",
      "+---------+----------+---------+-----------------+------------------+------------------+-----------------+----+------------------+----+\n",
      "|     City|      Date|AQIBucket|             PM25|               SO2|               NO2|             PM10| AQI|                O3|year|\n",
      "+---------+----------+---------+-----------------+------------------+------------------+-----------------+----+------------------+----+\n",
      "|Ahmedabad|2015-01-01|     null|4.293741690638772| 3.319263976817285|2.9025198541454498|4.952582315213222|null|  4.89305224301926|2015|\n",
      "|Ahmedabad|2015-01-02|     null|4.293741690638772| 3.200711823163566| 2.753023540000728|4.952582315213222|null| 3.528123715554301|2015|\n",
      "|Ahmedabad|2015-01-03|     null|4.293741690638772|3.3697067040728217|2.9601050563802973|4.952582315213222|null| 3.424262679444599|2015|\n",
      "|Ahmedabad|2015-01-04|     null|4.293741690638772|2.9226238099414155| 2.916689041442776|4.952582315213222|null|3.5857387459442744|2015|\n",
      "|Ahmedabad|2015-01-05|     null|4.293741690638772|   3.6719876329999|3.0643250685814114|4.952582315213222|null|3.6714789743686707|2015|\n",
      "|Ahmedabad|2015-01-06|     null|4.293741690638772|3.8234103103917603|3.6501386139013605|4.952582315213222|null| 3.839667307147706|2015|\n",
      "|Ahmedabad|2015-01-07|     null|4.293741690638772|3.4744478055856653|3.7042605298569344|4.952582315213222|null| 3.510649551694795|2015|\n",
      "|Ahmedabad|2015-01-08|     null|4.293741690638772|  3.65169668674147| 3.603866125471976|4.952582315213222|null|3.4622924618826887|2015|\n",
      "|Ahmedabad|2015-01-09|     null|4.293741690638772|4.0720989584754586|3.4339872044851463|4.952582315213222|null| 3.248434627109745|2015|\n",
      "|Ahmedabad|2015-01-10|     null|4.293741690638772| 2.115049964545639| 1.951608164751347|4.952582315213222|null|1.5151272748826083|2015|\n",
      "|Ahmedabad|2015-01-11|     null|4.293741690638772| 3.220075132876583| 4.021773855714515|4.952582315213222|null|1.9154509359524938|2015|\n",
      "|Ahmedabad|2015-01-12|     null|4.293741690638772|3.9481620549874585|3.7054906748968874|4.952582315213222|null|3.8262472151064246|2015|\n",
      "|Ahmedabad|2015-01-13|     null|4.293741690638772| 4.222591168244441| 3.788724806344726|4.952582315213222|null|3.5599090684771615|2015|\n",
      "|Ahmedabad|2015-01-14|     null|4.293741690638772|  3.96366626756154|3.3271919902594687|4.952582315213222|null|3.0426158157731007|2015|\n",
      "|Ahmedabad|2015-01-15|     null|4.293741690638772|3.3634954933514023|2.8308575763821904|4.952582315213222|null| 3.863462837238031|2015|\n",
      "|Ahmedabad|2015-01-16|     null|4.293741690638772| 3.644666311399034| 3.078233463452221|4.952582315213222|null|3.8292933313094206|2015|\n",
      "|Ahmedabad|2015-01-17|     null|4.293741690638772|3.9019726695746444| 3.208017063022865|4.952582315213222|null| 3.955848517098091|2015|\n",
      "|Ahmedabad|2015-01-18|     null|4.293741690638772|3.8801194627165168|3.2492110424277065|4.952582315213222|null|3.9794947519222346|2015|\n",
      "|Ahmedabad|2015-01-19|     null|4.293741690638772|3.9126228011006905|3.2913824844334676|4.952582315213222|null| 3.901568538272798|2015|\n",
      "|Ahmedabad|2015-01-20|     null|4.293741690638772| 4.075331604896545|3.2884018590489204|4.952582315213222|null| 4.031937083145191|2015|\n",
      "+---------+----------+---------+-----------------+------------------+------------------+-----------------+----+------------------+----+\n",
      "only showing top 20 rows\n",
      "\n"
     ]
    }
   ],
   "source": [
    "import sys\n",
    "###backward fill\n",
    "from pyspark.sql import Window\n",
    "from pyspark.sql.functions import last, first\n",
    "\n",
    "# define the window\n",
    "window = Window.partitionBy('City')\\\n",
    "               .orderBy('Date')\\\n",
    "               .rowsBetween(-sys.maxsize , 0)\n",
    "\n",
    "# define the forward-filled column\n",
    "filled_column = last(spark_df_filled['PM10'], ignorenulls=True).over(window)\n",
    "\n",
    "# do the fill\n",
    "spark_df_filled = spark_df_filled.withColumn('PM10', filled_column)\n",
    "\n",
    "# show off our glorious achievements\n",
    "spark_df_filled.orderBy('City', 'Date').show(10) \n",
    "spark_df_filled.show()\n",
    "\n",
    "\n",
    "\n",
    "# define the window\n",
    "window = Window.partitionBy('City')\\\n",
    "               .orderBy('Date')\\\n",
    "               .rowsBetween(0, sys.maxsize)\n",
    "\n",
    "# define the forward-filled column\n",
    "filled_column= first(spark_df_filled['PM10'], ignorenulls=True).over(window)\n",
    "\n",
    "# do the fill\n",
    "spark_df_filled = spark_df_filled.withColumn('PM10', filled_column)\n",
    "\n",
    "# show off our glorious achievements\n",
    "spark_df_filled.orderBy('City', 'Date').show(10) \n",
    "spark_df_filled.show()"
   ]
  },
  {
   "cell_type": "code",
   "execution_count": 30,
   "metadata": {},
   "outputs": [
    {
     "name": "stderr",
     "output_type": "stream",
     "text": [
      "\r",
      "[Stage 115:>                                                        (0 + 1) / 1]\r"
     ]
    },
    {
     "name": "stdout",
     "output_type": "stream",
     "text": [
      "+-------+----------+---------+-----------------+------------------+------------------+----+----+------------------+----+\n",
      "|   City|      Date|AQIBucket|             PM25|               SO2|               NO2|PM10| AQI|                O3|year|\n",
      "+-------+----------+---------+-----------------+------------------+------------------+----+----+------------------+----+\n",
      "|Lucknow|2015-01-01|     null|6.610251777687977|5.1332658641119275|2.5997223270506806|null|null| 3.255014874427513|2015|\n",
      "|Lucknow|2015-01-02|     null|6.610251777687977| 5.132616950389503|2.3758355760051844|null|null| 3.075467234528159|2015|\n",
      "|Lucknow|2015-01-03|     null|6.610251777687977| 5.134444604988714|2.5201129300741707|null|null|3.1090609418310953|2015|\n",
      "|Lucknow|2015-01-04|     null|6.610251777687977| 5.133206832085956|2.5225235164208617|null|null|3.0638580954746466|2015|\n",
      "|Lucknow|2015-01-05|     null|6.610251777687977| 5.132734900549124| 2.507157296030372|null|null| 3.025291094313483|2015|\n",
      "|Lucknow|2015-01-06|     null|6.610251777687977| 5.185316654795577|2.5580021930391945|null|null|3.0675877000037985|2015|\n",
      "|Lucknow|2015-01-07|     null|6.610251777687977|5.1298987149230735|2.8402474197342373|null|null| 3.164208426749126|2015|\n",
      "|Lucknow|2015-01-08|     null|6.610251777687977|5.1298987149230735| 3.196630247124948|null|null| 2.980110919774326|2015|\n",
      "|Lucknow|2015-01-09|     null|6.610251777687977| 5.206147248229497|3.2084213577128526|null|null|3.0786937732023616|2015|\n",
      "|Lucknow|2015-01-10|     null|6.610251777687977| 5.162383099795545| 3.028683377384724|null|null|3.3090821150625205|2015|\n",
      "|Lucknow|2015-01-11|     null|6.610251777687977| 5.186994626970339|2.9322598749864657|null|null| 3.314549583256434|2015|\n",
      "|Lucknow|2015-01-12|     null|6.610251777687977| 5.172980889073773|2.8633431116363086|null|null|3.2842889834260847|2015|\n",
      "|Lucknow|2015-01-13|     null|6.610251777687977| 5.231215585852242|2.7625383960193535|null|null|3.4085039341230345|2015|\n",
      "|Lucknow|2015-01-14|     null|6.610251777687977|3.7595708893451527|2.7252350408551207|null|null| 3.548754959185248|2015|\n",
      "|Lucknow|2015-01-15|     null|6.610251777687977|              null| 2.166765317415808|null|null|3.5907151590369413|2015|\n",
      "|Lucknow|2015-01-16|     null|6.610251777687977|              null|2.1656192685434577|null|null|  3.86723485136194|2015|\n",
      "|Lucknow|2015-01-17|     null|6.610251777687977| 4.475858480765086| 1.686398971230864|null|null|3.5473159249506487|2015|\n",
      "|Lucknow|2015-01-18|     null|6.610251777687977|              null|1.5871922761832211|null|null|3.2607852162393964|2015|\n",
      "|Lucknow|2015-01-19|     null|6.610251777687977|              null|2.0967902221916903|null|null| 3.440418119268624|2015|\n",
      "|Lucknow|2015-01-20|     null|6.610251777687977|              null| 2.453587976370721|null|null|3.5192766200101366|2015|\n",
      "+-------+----------+---------+-----------------+------------------+------------------+----+----+------------------+----+\n",
      "only showing top 20 rows\n",
      "\n"
     ]
    },
    {
     "name": "stderr",
     "output_type": "stream",
     "text": [
      "\r",
      "                                                                                \r"
     ]
    }
   ],
   "source": [
    "# First, we have to register the DataFrame as a SQL temporary view.\n",
    "\n",
    "dff= spark_df_filled\n",
    "dff.createOrReplaceTempView('pollution')\n",
    "\n",
    "results = spark.sql(\"SELECT * FROM pollution where pm10 is null\")\n",
    "results.show()"
   ]
  },
  {
   "cell_type": "code",
   "execution_count": 31,
   "metadata": {},
   "outputs": [
    {
     "name": "stderr",
     "output_type": "stream",
     "text": [
      "\r",
      "[Stage 118:>                                                        (0 + 1) / 1]\r"
     ]
    },
    {
     "name": "stdout",
     "output_type": "stream",
     "text": [
      "+-------+----------+---------+-----------------+------------------+------------------+----+----+------------------+----+\n",
      "|   City|      Date|AQIBucket|             PM25|               SO2|               NO2|PM10| AQI|                O3|year|\n",
      "+-------+----------+---------+-----------------+------------------+------------------+----+----+------------------+----+\n",
      "|Lucknow|2015-01-01|     null|6.610251777687977|5.1332658641119275|2.5997223270506806|null|null| 3.255014874427513|2015|\n",
      "|Lucknow|2015-01-02|     null|6.610251777687977| 5.132616950389503|2.3758355760051844|null|null| 3.075467234528159|2015|\n",
      "|Lucknow|2015-01-03|     null|6.610251777687977| 5.134444604988714|2.5201129300741707|null|null|3.1090609418310953|2015|\n",
      "|Lucknow|2015-01-04|     null|6.610251777687977| 5.133206832085956|2.5225235164208617|null|null|3.0638580954746466|2015|\n",
      "|Lucknow|2015-01-05|     null|6.610251777687977| 5.132734900549124| 2.507157296030372|null|null| 3.025291094313483|2015|\n",
      "|Lucknow|2015-01-06|     null|6.610251777687977| 5.185316654795577|2.5580021930391945|null|null|3.0675877000037985|2015|\n",
      "|Lucknow|2015-01-07|     null|6.610251777687977|5.1298987149230735|2.8402474197342373|null|null| 3.164208426749126|2015|\n",
      "|Lucknow|2015-01-08|     null|6.610251777687977|5.1298987149230735| 3.196630247124948|null|null| 2.980110919774326|2015|\n",
      "|Lucknow|2015-01-09|     null|6.610251777687977| 5.206147248229497|3.2084213577128526|null|null|3.0786937732023616|2015|\n",
      "|Lucknow|2015-01-10|     null|6.610251777687977| 5.162383099795545| 3.028683377384724|null|null|3.3090821150625205|2015|\n",
      "|Lucknow|2015-01-11|     null|6.610251777687977| 5.186994626970339|2.9322598749864657|null|null| 3.314549583256434|2015|\n",
      "|Lucknow|2015-01-12|     null|6.610251777687977| 5.172980889073773|2.8633431116363086|null|null|3.2842889834260847|2015|\n",
      "|Lucknow|2015-01-13|     null|6.610251777687977| 5.231215585852242|2.7625383960193535|null|null|3.4085039341230345|2015|\n",
      "|Lucknow|2015-01-14|     null|6.610251777687977|3.7595708893451527|2.7252350408551207|null|null| 3.548754959185248|2015|\n",
      "|Lucknow|2015-01-15|     null|6.610251777687977|              null| 2.166765317415808|null|null|3.5907151590369413|2015|\n",
      "|Lucknow|2015-01-16|     null|6.610251777687977|              null|2.1656192685434577|null|null|  3.86723485136194|2015|\n",
      "|Lucknow|2015-01-17|     null|6.610251777687977| 4.475858480765086| 1.686398971230864|null|null|3.5473159249506487|2015|\n",
      "|Lucknow|2015-01-18|     null|6.610251777687977|              null|1.5871922761832211|null|null|3.2607852162393964|2015|\n",
      "|Lucknow|2015-01-19|     null|6.610251777687977|              null|2.0967902221916903|null|null| 3.440418119268624|2015|\n",
      "|Lucknow|2015-01-20|     null|6.610251777687977|              null| 2.453587976370721|null|null|3.5192766200101366|2015|\n",
      "+-------+----------+---------+-----------------+------------------+------------------+----+----+------------------+----+\n",
      "only showing top 20 rows\n",
      "\n"
     ]
    },
    {
     "name": "stderr",
     "output_type": "stream",
     "text": [
      "\r",
      "                                                                                \r"
     ]
    }
   ],
   "source": [
    "dff.filter(dff.PM10.isNull()).show()"
   ]
  },
  {
   "cell_type": "code",
   "execution_count": 32,
   "metadata": {},
   "outputs": [
    {
     "name": "stderr",
     "output_type": "stream",
     "text": [
      "                                                                                \r"
     ]
    },
    {
     "data": {
      "text/plain": [
       "4.5384633006502515"
      ]
     },
     "execution_count": 32,
     "metadata": {},
     "output_type": "execute_result"
    }
   ],
   "source": [
    "from pyspark.sql.functions import mean\n",
    "mean_pm10 = dff.select(mean(dff['PM10'])).collect()\n",
    "mean_pm10[0][0]\n"
   ]
  },
  {
   "cell_type": "code",
   "execution_count": 33,
   "metadata": {},
   "outputs": [
    {
     "name": "stdout",
     "output_type": "stream",
     "text": [
      "+----+----+---------+----+---+---+----+---+---+----+\n",
      "|City|Date|AQIBucket|PM25|SO2|NO2|PM10|AQI| O3|year|\n",
      "+----+----+---------+----+---+---+----+---+---+----+\n",
      "+----+----+---------+----+---+---+----+---+---+----+\n",
      "\n"
     ]
    }
   ],
   "source": [
    "\n",
    "\n",
    "dff1 = dff.na.fill(mean_pm10[0][0], subset=['PM10'])\n",
    "dff1.filter(dff1.PM10.isNull()).show()"
   ]
  },
  {
   "cell_type": "code",
   "execution_count": 34,
   "metadata": {},
   "outputs": [
    {
     "name": "stdout",
     "output_type": "stream",
     "text": [
      "+---------+----------+---------+-----------------+------------------+------------------+-----------------+----+------------------+----+\n",
      "|     City|      Date|AQIBucket|             PM25|               SO2|               NO2|             PM10| AQI|                O3|year|\n",
      "+---------+----------+---------+-----------------+------------------+------------------+-----------------+----+------------------+----+\n",
      "|Ahmedabad|2015-01-01|     null|4.293741690638772| 3.319263976817285|2.9025198541454498|4.952582315213222|null|  4.89305224301926|2015|\n",
      "|Ahmedabad|2015-01-02|     null|4.293741690638772| 3.200711823163566| 2.753023540000728|4.952582315213222|null| 3.528123715554301|2015|\n",
      "|Ahmedabad|2015-01-03|     null|4.293741690638772|3.3697067040728217|2.9601050563802973|4.952582315213222|null| 3.424262679444599|2015|\n",
      "|Ahmedabad|2015-01-04|     null|4.293741690638772|2.9226238099414155| 2.916689041442776|4.952582315213222|null|3.5857387459442744|2015|\n",
      "|Ahmedabad|2015-01-05|     null|4.293741690638772|   3.6719876329999|3.0643250685814114|4.952582315213222|null|3.6714789743686707|2015|\n",
      "|Ahmedabad|2015-01-06|     null|4.293741690638772|3.8234103103917603|3.6501386139013605|4.952582315213222|null| 3.839667307147706|2015|\n",
      "|Ahmedabad|2015-01-07|     null|4.293741690638772|3.4744478055856653|3.7042605298569344|4.952582315213222|null| 3.510649551694795|2015|\n",
      "|Ahmedabad|2015-01-08|     null|4.293741690638772|  3.65169668674147| 3.603866125471976|4.952582315213222|null|3.4622924618826887|2015|\n",
      "|Ahmedabad|2015-01-09|     null|4.293741690638772|4.0720989584754586|3.4339872044851463|4.952582315213222|null| 3.248434627109745|2015|\n",
      "|Ahmedabad|2015-01-10|     null|4.293741690638772| 2.115049964545639| 1.951608164751347|4.952582315213222|null|1.5151272748826083|2015|\n",
      "|Ahmedabad|2015-01-11|     null|4.293741690638772| 3.220075132876583| 4.021773855714515|4.952582315213222|null|1.9154509359524938|2015|\n",
      "|Ahmedabad|2015-01-12|     null|4.293741690638772|3.9481620549874585|3.7054906748968874|4.952582315213222|null|3.8262472151064246|2015|\n",
      "|Ahmedabad|2015-01-13|     null|4.293741690638772| 4.222591168244441| 3.788724806344726|4.952582315213222|null|3.5599090684771615|2015|\n",
      "|Ahmedabad|2015-01-14|     null|4.293741690638772|  3.96366626756154|3.3271919902594687|4.952582315213222|null|3.0426158157731007|2015|\n",
      "|Ahmedabad|2015-01-15|     null|4.293741690638772|3.3634954933514023|2.8308575763821904|4.952582315213222|null| 3.863462837238031|2015|\n",
      "|Ahmedabad|2015-01-16|     null|4.293741690638772| 3.644666311399034| 3.078233463452221|4.952582315213222|null|3.8292933313094206|2015|\n",
      "|Ahmedabad|2015-01-17|     null|4.293741690638772|3.9019726695746444| 3.208017063022865|4.952582315213222|null| 3.955848517098091|2015|\n",
      "|Ahmedabad|2015-01-18|     null|4.293741690638772|3.8801194627165168|3.2492110424277065|4.952582315213222|null|3.9794947519222346|2015|\n",
      "|Ahmedabad|2015-01-19|     null|4.293741690638772|3.9126228011006905|3.2913824844334676|4.952582315213222|null| 3.901568538272798|2015|\n",
      "|Ahmedabad|2015-01-20|     null|4.293741690638772| 4.075331604896545|3.2884018590489204|4.952582315213222|null| 4.031937083145191|2015|\n",
      "+---------+----------+---------+-----------------+------------------+------------------+-----------------+----+------------------+----+\n",
      "only showing top 20 rows\n",
      "\n"
     ]
    }
   ],
   "source": [
    "dff1.show()"
   ]
  },
  {
   "cell_type": "code",
   "execution_count": 35,
   "metadata": {},
   "outputs": [
    {
     "name": "stderr",
     "output_type": "stream",
     "text": [
      "\r",
      "[Stage 130:>                                                        (0 + 1) / 1]\r"
     ]
    },
    {
     "name": "stdout",
     "output_type": "stream",
     "text": [
      "+----+----+---------+----+----+----+----+----+----+----+\n",
      "|City|Date|AQIBucket|PM25| SO2| NO2|PM10| AQI|  O3|year|\n",
      "+----+----+---------+----+----+----+----+----+----+----+\n",
      "|   0|   0|     4681|   0|3854|3585|   0|4681|4022|   0|\n",
      "+----+----+---------+----+----+----+----+----+----+----+\n",
      "\n"
     ]
    },
    {
     "name": "stderr",
     "output_type": "stream",
     "text": [
      "\r",
      "                                                                                \r"
     ]
    }
   ],
   "source": [
    "\n",
    "#dff.filter(dff.PM25.isNull()).show()\n",
    "#from pyspark.sql.functions import isnan, when, count, col\n",
    "\n",
    "#dff.select([count(when(isNull(c), c)).alias(c) for c in dff.columns]).show()\n",
    "\n",
    "# Find count for empty, None, Null, Nan with string literals.\n",
    "from pyspark.sql.functions import col,isnan,when,count\n",
    "\n",
    "dffs = dff1.select([count(when(col(c).contains('None') | \\\n",
    "                            col(c).contains('NULL') | \\\n",
    "                            (col(c) == '' ) | \\\n",
    "                            col(c).isNull() | \\\n",
    "                            isnan(c), c \n",
    "                           )).alias(c)\n",
    "                    for c in dff.columns])\n",
    "dffs.show()"
   ]
  },
  {
   "cell_type": "code",
   "execution_count": 36,
   "metadata": {},
   "outputs": [],
   "source": [
    "# To Get Year from date or Time column\n",
    "spark_df_filled = dff1\n",
    "spark_df_filled1 = spark_df_filled.withColumn(\"year\",year(\"Date\"))\n"
   ]
  },
  {
   "cell_type": "code",
   "execution_count": 37,
   "metadata": {},
   "outputs": [
    {
     "name": "stdout",
     "output_type": "stream",
     "text": [
      "+---------+----------+---------+-----------------+------------------+------------------+-----------------+----+------------------+----+\n",
      "|     City|      Date|AQIBucket|             PM25|               SO2|               NO2|             PM10| AQI|                O3|year|\n",
      "+---------+----------+---------+-----------------+------------------+------------------+-----------------+----+------------------+----+\n",
      "|Ahmedabad|2015-01-01|     null|4.293741690638772| 3.319263976817285|2.9025198541454498|4.952582315213222|null|  4.89305224301926|2015|\n",
      "|Ahmedabad|2015-01-02|     null|4.293741690638772| 3.200711823163566| 2.753023540000728|4.952582315213222|null| 3.528123715554301|2015|\n",
      "|Ahmedabad|2015-01-03|     null|4.293741690638772|3.3697067040728217|2.9601050563802973|4.952582315213222|null| 3.424262679444599|2015|\n",
      "|Ahmedabad|2015-01-04|     null|4.293741690638772|2.9226238099414155| 2.916689041442776|4.952582315213222|null|3.5857387459442744|2015|\n",
      "|Ahmedabad|2015-01-05|     null|4.293741690638772|   3.6719876329999|3.0643250685814114|4.952582315213222|null|3.6714789743686707|2015|\n",
      "|Ahmedabad|2015-01-06|     null|4.293741690638772|3.8234103103917603|3.6501386139013605|4.952582315213222|null| 3.839667307147706|2015|\n",
      "|Ahmedabad|2015-01-07|     null|4.293741690638772|3.4744478055856653|3.7042605298569344|4.952582315213222|null| 3.510649551694795|2015|\n",
      "|Ahmedabad|2015-01-08|     null|4.293741690638772|  3.65169668674147| 3.603866125471976|4.952582315213222|null|3.4622924618826887|2015|\n",
      "|Ahmedabad|2015-01-09|     null|4.293741690638772|4.0720989584754586|3.4339872044851463|4.952582315213222|null| 3.248434627109745|2015|\n",
      "|Ahmedabad|2015-01-10|     null|4.293741690638772| 2.115049964545639| 1.951608164751347|4.952582315213222|null|1.5151272748826083|2015|\n",
      "|Ahmedabad|2015-01-11|     null|4.293741690638772| 3.220075132876583| 4.021773855714515|4.952582315213222|null|1.9154509359524938|2015|\n",
      "|Ahmedabad|2015-01-12|     null|4.293741690638772|3.9481620549874585|3.7054906748968874|4.952582315213222|null|3.8262472151064246|2015|\n",
      "|Ahmedabad|2015-01-13|     null|4.293741690638772| 4.222591168244441| 3.788724806344726|4.952582315213222|null|3.5599090684771615|2015|\n",
      "|Ahmedabad|2015-01-14|     null|4.293741690638772|  3.96366626756154|3.3271919902594687|4.952582315213222|null|3.0426158157731007|2015|\n",
      "|Ahmedabad|2015-01-15|     null|4.293741690638772|3.3634954933514023|2.8308575763821904|4.952582315213222|null| 3.863462837238031|2015|\n",
      "|Ahmedabad|2015-01-16|     null|4.293741690638772| 3.644666311399034| 3.078233463452221|4.952582315213222|null|3.8292933313094206|2015|\n",
      "|Ahmedabad|2015-01-17|     null|4.293741690638772|3.9019726695746444| 3.208017063022865|4.952582315213222|null| 3.955848517098091|2015|\n",
      "|Ahmedabad|2015-01-18|     null|4.293741690638772|3.8801194627165168|3.2492110424277065|4.952582315213222|null|3.9794947519222346|2015|\n",
      "|Ahmedabad|2015-01-19|     null|4.293741690638772|3.9126228011006905|3.2913824844334676|4.952582315213222|null| 3.901568538272798|2015|\n",
      "|Ahmedabad|2015-01-20|     null|4.293741690638772| 4.075331604896545|3.2884018590489204|4.952582315213222|null| 4.031937083145191|2015|\n",
      "+---------+----------+---------+-----------------+------------------+------------------+-----------------+----+------------------+----+\n",
      "only showing top 20 rows\n",
      "\n"
     ]
    }
   ],
   "source": [
    "dff2= spark_df_filled1\n",
    "dff2.show()\n",
    "\n"
   ]
  },
  {
   "cell_type": "code",
   "execution_count": 38,
   "metadata": {},
   "outputs": [
    {
     "name": "stdout",
     "output_type": "stream",
     "text": [
      "+----+----+---------+----+---+---+----+---+---+----+\n",
      "|City|Date|AQIBucket|PM25|SO2|NO2|PM10|AQI| O3|year|\n",
      "+----+----+---------+----+---+---+----+---+---+----+\n",
      "+----+----+---------+----+---+---+----+---+---+----+\n",
      "\n"
     ]
    }
   ],
   "source": [
    "dff2.createOrReplaceTempView('pollution')\n",
    "\n",
    "results = spark.sql(\"SELECT * FROM pollution where PM10 is null\")\n",
    "results.show()"
   ]
  },
  {
   "cell_type": "code",
   "execution_count": 39,
   "metadata": {},
   "outputs": [
    {
     "name": "stdout",
     "output_type": "stream",
     "text": [
      "+---------+----------+---------+-----------------+------------------+------------------+-----------------+----+------------------+----+\n",
      "|     City|      Date|AQIBucket|             PM25|               SO2|               NO2|             PM10| AQI|                O3|year|\n",
      "+---------+----------+---------+-----------------+------------------+------------------+-----------------+----+------------------+----+\n",
      "|Ahmedabad|2015-01-01|     null|4.293741690638772| 3.319263976817285|2.9025198541454498|4.952582315213222|null|  4.89305224301926|2015|\n",
      "|Ahmedabad|2015-01-02|     null|4.293741690638772| 3.200711823163566| 2.753023540000728|4.952582315213222|null| 3.528123715554301|2015|\n",
      "|Ahmedabad|2015-01-03|     null|4.293741690638772|3.3697067040728217|2.9601050563802973|4.952582315213222|null| 3.424262679444599|2015|\n",
      "|Ahmedabad|2015-01-04|     null|4.293741690638772|2.9226238099414155| 2.916689041442776|4.952582315213222|null|3.5857387459442744|2015|\n",
      "|Ahmedabad|2015-01-05|     null|4.293741690638772|   3.6719876329999|3.0643250685814114|4.952582315213222|null|3.6714789743686707|2015|\n",
      "|Ahmedabad|2015-01-06|     null|4.293741690638772|3.8234103103917603|3.6501386139013605|4.952582315213222|null| 3.839667307147706|2015|\n",
      "|Ahmedabad|2015-01-07|     null|4.293741690638772|3.4744478055856653|3.7042605298569344|4.952582315213222|null| 3.510649551694795|2015|\n",
      "|Ahmedabad|2015-01-08|     null|4.293741690638772|  3.65169668674147| 3.603866125471976|4.952582315213222|null|3.4622924618826887|2015|\n",
      "|Ahmedabad|2015-01-09|     null|4.293741690638772|4.0720989584754586|3.4339872044851463|4.952582315213222|null| 3.248434627109745|2015|\n",
      "|Ahmedabad|2015-01-10|     null|4.293741690638772| 2.115049964545639| 1.951608164751347|4.952582315213222|null|1.5151272748826083|2015|\n",
      "|Ahmedabad|2015-01-11|     null|4.293741690638772| 3.220075132876583| 4.021773855714515|4.952582315213222|null|1.9154509359524938|2015|\n",
      "|Ahmedabad|2015-01-12|     null|4.293741690638772|3.9481620549874585|3.7054906748968874|4.952582315213222|null|3.8262472151064246|2015|\n",
      "|Ahmedabad|2015-01-13|     null|4.293741690638772| 4.222591168244441| 3.788724806344726|4.952582315213222|null|3.5599090684771615|2015|\n",
      "|Ahmedabad|2015-01-14|     null|4.293741690638772|  3.96366626756154|3.3271919902594687|4.952582315213222|null|3.0426158157731007|2015|\n",
      "|Ahmedabad|2015-01-15|     null|4.293741690638772|3.3634954933514023|2.8308575763821904|4.952582315213222|null| 3.863462837238031|2015|\n",
      "|Ahmedabad|2015-01-16|     null|4.293741690638772| 3.644666311399034| 3.078233463452221|4.952582315213222|null|3.8292933313094206|2015|\n",
      "|Ahmedabad|2015-01-17|     null|4.293741690638772|3.9019726695746444| 3.208017063022865|4.952582315213222|null| 3.955848517098091|2015|\n",
      "|Ahmedabad|2015-01-18|     null|4.293741690638772|3.8801194627165168|3.2492110424277065|4.952582315213222|null|3.9794947519222346|2015|\n",
      "|Ahmedabad|2015-01-19|     null|4.293741690638772|3.9126228011006905|3.2913824844334676|4.952582315213222|null| 3.901568538272798|2015|\n",
      "|Ahmedabad|2015-01-20|     null|4.293741690638772| 4.075331604896545|3.2884018590489204|4.952582315213222|null| 4.031937083145191|2015|\n",
      "+---------+----------+---------+-----------------+------------------+------------------+-----------------+----+------------------+----+\n",
      "only showing top 20 rows\n",
      "\n"
     ]
    }
   ],
   "source": [
    "dff2.count()\n",
    "dff2.show()"
   ]
  },
  {
   "cell_type": "code",
   "execution_count": null,
   "metadata": {},
   "outputs": [],
   "source": []
  },
  {
   "cell_type": "code",
   "execution_count": 40,
   "metadata": {},
   "outputs": [],
   "source": [
    "#df1.show() dff5.show()"
   ]
  },
  {
   "cell_type": "code",
   "execution_count": 41,
   "metadata": {},
   "outputs": [],
   "source": [
    "# Let's collect the average. You'll notice that the collection returns the average in an interesting format.\n",
    "mean_no2 = dff2.select(mean(dff2['NO2'])).collect()\n",
    "mean_so2 = dff2.select(mean(dff2['SO2'])).collect()\n",
    "mean_o3 = dff2.select(mean(dff2['O3'])).collect()\n",
    "#mean_pm10\n",
    "mean_no2[0][0]\n",
    "dff3 = dff2.na.fill(mean_no2[0][0], subset=['NO2'])\n",
    "mean_so2[0][0]\n",
    "dff4 = dff3.na.fill(mean_so2[0][0], subset=['SO2'])\n",
    "mean_o3[0][0]\n",
    "dff5 = dff4.na.fill(mean_o3[0][0], subset=['O3'])\n",
    "\n"
   ]
  },
  {
   "cell_type": "code",
   "execution_count": 42,
   "metadata": {},
   "outputs": [
    {
     "name": "stderr",
     "output_type": "stream",
     "text": [
      "\r",
      "[Stage 154:>                                                        (0 + 1) / 1]\r"
     ]
    },
    {
     "name": "stdout",
     "output_type": "stream",
     "text": [
      "+----+----+---------+----+---+---+----+----+---+----+\n",
      "|City|Date|AQIBucket|PM25|SO2|NO2|PM10| AQI| O3|year|\n",
      "+----+----+---------+----+---+---+----+----+---+----+\n",
      "|   0|   0|     4681|   0|  0|  0|   0|4681|  0|   0|\n",
      "+----+----+---------+----+---+---+----+----+---+----+\n",
      "\n"
     ]
    },
    {
     "name": "stderr",
     "output_type": "stream",
     "text": [
      "\r",
      "                                                                                \r"
     ]
    }
   ],
   "source": [
    "\n",
    "#df1=df1.drop('date')\n",
    "from pyspark.sql.functions import col,isnan,when,count\n",
    "\n",
    "dff6 = dff5.select([count(when(col(c).contains('None') | \\\n",
    "                            col(c).contains('NULL') | \\\n",
    "                            (col(c) == '' ) | \\\n",
    "                            col(c).isNull() | \\\n",
    "                            isnan(c), c \n",
    "                           )).alias(c)\n",
    "                    for c in dff5.columns])\n",
    "dff6.show()\n"
   ]
  },
  {
   "cell_type": "code",
   "execution_count": 43,
   "metadata": {},
   "outputs": [
    {
     "name": "stdout",
     "output_type": "stream",
     "text": [
      "+---------+----------+---------+-----------------+------------------+------------------+-----------------+----+------------------+----+\n",
      "|     City|      Date|AQIBucket|             PM25|               SO2|               NO2|             PM10| AQI|                O3|year|\n",
      "+---------+----------+---------+-----------------+------------------+------------------+-----------------+----+------------------+----+\n",
      "|Ahmedabad|2015-01-01|     null|4.293741690638772| 3.319263976817285|2.9025198541454498|4.952582315213222|null|  4.89305224301926|2015|\n",
      "|Ahmedabad|2015-01-02|     null|4.293741690638772| 3.200711823163566| 2.753023540000728|4.952582315213222|null| 3.528123715554301|2015|\n",
      "|Ahmedabad|2015-01-03|     null|4.293741690638772|3.3697067040728217|2.9601050563802973|4.952582315213222|null| 3.424262679444599|2015|\n",
      "|Ahmedabad|2015-01-04|     null|4.293741690638772|2.9226238099414155| 2.916689041442776|4.952582315213222|null|3.5857387459442744|2015|\n",
      "|Ahmedabad|2015-01-05|     null|4.293741690638772|   3.6719876329999|3.0643250685814114|4.952582315213222|null|3.6714789743686707|2015|\n",
      "|Ahmedabad|2015-01-06|     null|4.293741690638772|3.8234103103917603|3.6501386139013605|4.952582315213222|null| 3.839667307147706|2015|\n",
      "|Ahmedabad|2015-01-07|     null|4.293741690638772|3.4744478055856653|3.7042605298569344|4.952582315213222|null| 3.510649551694795|2015|\n",
      "|Ahmedabad|2015-01-08|     null|4.293741690638772|  3.65169668674147| 3.603866125471976|4.952582315213222|null|3.4622924618826887|2015|\n",
      "|Ahmedabad|2015-01-09|     null|4.293741690638772|4.0720989584754586|3.4339872044851463|4.952582315213222|null| 3.248434627109745|2015|\n",
      "|Ahmedabad|2015-01-10|     null|4.293741690638772| 2.115049964545639| 1.951608164751347|4.952582315213222|null|1.5151272748826083|2015|\n",
      "|Ahmedabad|2015-01-11|     null|4.293741690638772| 3.220075132876583| 4.021773855714515|4.952582315213222|null|1.9154509359524938|2015|\n",
      "|Ahmedabad|2015-01-12|     null|4.293741690638772|3.9481620549874585|3.7054906748968874|4.952582315213222|null|3.8262472151064246|2015|\n",
      "|Ahmedabad|2015-01-13|     null|4.293741690638772| 4.222591168244441| 3.788724806344726|4.952582315213222|null|3.5599090684771615|2015|\n",
      "|Ahmedabad|2015-01-14|     null|4.293741690638772|  3.96366626756154|3.3271919902594687|4.952582315213222|null|3.0426158157731007|2015|\n",
      "|Ahmedabad|2015-01-15|     null|4.293741690638772|3.3634954933514023|2.8308575763821904|4.952582315213222|null| 3.863462837238031|2015|\n",
      "|Ahmedabad|2015-01-16|     null|4.293741690638772| 3.644666311399034| 3.078233463452221|4.952582315213222|null|3.8292933313094206|2015|\n",
      "|Ahmedabad|2015-01-17|     null|4.293741690638772|3.9019726695746444| 3.208017063022865|4.952582315213222|null| 3.955848517098091|2015|\n",
      "|Ahmedabad|2015-01-18|     null|4.293741690638772|3.8801194627165168|3.2492110424277065|4.952582315213222|null|3.9794947519222346|2015|\n",
      "|Ahmedabad|2015-01-19|     null|4.293741690638772|3.9126228011006905|3.2913824844334676|4.952582315213222|null| 3.901568538272798|2015|\n",
      "|Ahmedabad|2015-01-20|     null|4.293741690638772| 4.075331604896545|3.2884018590489204|4.952582315213222|null| 4.031937083145191|2015|\n",
      "+---------+----------+---------+-----------------+------------------+------------------+-----------------+----+------------------+----+\n",
      "only showing top 20 rows\n",
      "\n"
     ]
    }
   ],
   "source": [
    "\n",
    "dff5.show()"
   ]
  },
  {
   "cell_type": "code",
   "execution_count": 44,
   "metadata": {},
   "outputs": [],
   "source": [
    "# Let's collect the average. You'll notice that the collection returns the average in an interesting format.\n",
    "#mean_pm10 = df.select(mean(df['PM10'])).collect()\n",
    "#mean_pm10\n",
    "#mean_pm10[0][0]\n",
    "#df.filter(df.PM10.isNull()).show()\n",
    "#df1 = df1.na.fill(mean_pm10[0][0], subset=['PM10'])\n",
    "#df1.filter(df1.PM10.isNull()).show()"
   ]
  },
  {
   "cell_type": "code",
   "execution_count": 45,
   "metadata": {},
   "outputs": [
    {
     "name": "stdout",
     "output_type": "stream",
     "text": [
      "+---------+----------+---------+-----------------+------------------+------------------+-----------------+----+------------------+----+\n",
      "|     City|      Date|AQIBucket|             PM25|               SO2|               NO2|             PM10| AQI|                O3|year|\n",
      "+---------+----------+---------+-----------------+------------------+------------------+-----------------+----+------------------+----+\n",
      "|Ahmedabad|2015-01-01|     null|4.293741690638772| 3.319263976817285|2.9025198541454498|4.952582315213222|null|  4.89305224301926|2015|\n",
      "|Ahmedabad|2015-01-02|     null|4.293741690638772| 3.200711823163566| 2.753023540000728|4.952582315213222|null| 3.528123715554301|2015|\n",
      "|Ahmedabad|2015-01-03|     null|4.293741690638772|3.3697067040728217|2.9601050563802973|4.952582315213222|null| 3.424262679444599|2015|\n",
      "|Ahmedabad|2015-01-04|     null|4.293741690638772|2.9226238099414155| 2.916689041442776|4.952582315213222|null|3.5857387459442744|2015|\n",
      "|Ahmedabad|2015-01-05|     null|4.293741690638772|   3.6719876329999|3.0643250685814114|4.952582315213222|null|3.6714789743686707|2015|\n",
      "|Ahmedabad|2015-01-06|     null|4.293741690638772|3.8234103103917603|3.6501386139013605|4.952582315213222|null| 3.839667307147706|2015|\n",
      "|Ahmedabad|2015-01-07|     null|4.293741690638772|3.4744478055856653|3.7042605298569344|4.952582315213222|null| 3.510649551694795|2015|\n",
      "|Ahmedabad|2015-01-08|     null|4.293741690638772|  3.65169668674147| 3.603866125471976|4.952582315213222|null|3.4622924618826887|2015|\n",
      "|Ahmedabad|2015-01-09|     null|4.293741690638772|4.0720989584754586|3.4339872044851463|4.952582315213222|null| 3.248434627109745|2015|\n",
      "|Ahmedabad|2015-01-10|     null|4.293741690638772| 2.115049964545639| 1.951608164751347|4.952582315213222|null|1.5151272748826083|2015|\n",
      "|Ahmedabad|2015-01-11|     null|4.293741690638772| 3.220075132876583| 4.021773855714515|4.952582315213222|null|1.9154509359524938|2015|\n",
      "|Ahmedabad|2015-01-12|     null|4.293741690638772|3.9481620549874585|3.7054906748968874|4.952582315213222|null|3.8262472151064246|2015|\n",
      "|Ahmedabad|2015-01-13|     null|4.293741690638772| 4.222591168244441| 3.788724806344726|4.952582315213222|null|3.5599090684771615|2015|\n",
      "|Ahmedabad|2015-01-14|     null|4.293741690638772|  3.96366626756154|3.3271919902594687|4.952582315213222|null|3.0426158157731007|2015|\n",
      "|Ahmedabad|2015-01-15|     null|4.293741690638772|3.3634954933514023|2.8308575763821904|4.952582315213222|null| 3.863462837238031|2015|\n",
      "|Ahmedabad|2015-01-16|     null|4.293741690638772| 3.644666311399034| 3.078233463452221|4.952582315213222|null|3.8292933313094206|2015|\n",
      "|Ahmedabad|2015-01-17|     null|4.293741690638772|3.9019726695746444| 3.208017063022865|4.952582315213222|null| 3.955848517098091|2015|\n",
      "|Ahmedabad|2015-01-18|     null|4.293741690638772|3.8801194627165168|3.2492110424277065|4.952582315213222|null|3.9794947519222346|2015|\n",
      "|Ahmedabad|2015-01-19|     null|4.293741690638772|3.9126228011006905|3.2913824844334676|4.952582315213222|null| 3.901568538272798|2015|\n",
      "|Ahmedabad|2015-01-20|     null|4.293741690638772| 4.075331604896545|3.2884018590489204|4.952582315213222|null| 4.031937083145191|2015|\n",
      "+---------+----------+---------+-----------------+------------------+------------------+-----------------+----+------------------+----+\n",
      "only showing top 20 rows\n",
      "\n"
     ]
    }
   ],
   "source": [
    "\n",
    "dftr=dff5.drop('NO')\n",
    "dftr.show()"
   ]
  },
  {
   "cell_type": "code",
   "execution_count": 46,
   "metadata": {},
   "outputs": [],
   "source": [
    "\n",
    "\n",
    "dftr=dftr.drop('NOX')\n",
    "dftr=dftr.drop('NH3')\n",
    "dftr=dftr.drop('CO')\n",
    "dftr=dftr.drop('benzene')\n",
    "dftr=dftr.drop('toluene')\n",
    "dftr=dftr.drop('Xylene')"
   ]
  },
  {
   "cell_type": "code",
   "execution_count": 47,
   "metadata": {},
   "outputs": [
    {
     "name": "stdout",
     "output_type": "stream",
     "text": [
      "+---------+----------+---------+-----------------+------------------+------------------+-----------------+----+------------------+----+\n",
      "|     City|      Date|AQIBucket|             PM25|               SO2|               NO2|             PM10| AQI|                O3|year|\n",
      "+---------+----------+---------+-----------------+------------------+------------------+-----------------+----+------------------+----+\n",
      "|Ahmedabad|2015-01-01|     null|4.293741690638772| 3.319263976817285|2.9025198541454498|4.952582315213222|null|  4.89305224301926|2015|\n",
      "|Ahmedabad|2015-01-02|     null|4.293741690638772| 3.200711823163566| 2.753023540000728|4.952582315213222|null| 3.528123715554301|2015|\n",
      "|Ahmedabad|2015-01-03|     null|4.293741690638772|3.3697067040728217|2.9601050563802973|4.952582315213222|null| 3.424262679444599|2015|\n",
      "|Ahmedabad|2015-01-04|     null|4.293741690638772|2.9226238099414155| 2.916689041442776|4.952582315213222|null|3.5857387459442744|2015|\n",
      "|Ahmedabad|2015-01-05|     null|4.293741690638772|   3.6719876329999|3.0643250685814114|4.952582315213222|null|3.6714789743686707|2015|\n",
      "|Ahmedabad|2015-01-06|     null|4.293741690638772|3.8234103103917603|3.6501386139013605|4.952582315213222|null| 3.839667307147706|2015|\n",
      "|Ahmedabad|2015-01-07|     null|4.293741690638772|3.4744478055856653|3.7042605298569344|4.952582315213222|null| 3.510649551694795|2015|\n",
      "|Ahmedabad|2015-01-08|     null|4.293741690638772|  3.65169668674147| 3.603866125471976|4.952582315213222|null|3.4622924618826887|2015|\n",
      "|Ahmedabad|2015-01-09|     null|4.293741690638772|4.0720989584754586|3.4339872044851463|4.952582315213222|null| 3.248434627109745|2015|\n",
      "|Ahmedabad|2015-01-10|     null|4.293741690638772| 2.115049964545639| 1.951608164751347|4.952582315213222|null|1.5151272748826083|2015|\n",
      "|Ahmedabad|2015-01-11|     null|4.293741690638772| 3.220075132876583| 4.021773855714515|4.952582315213222|null|1.9154509359524938|2015|\n",
      "|Ahmedabad|2015-01-12|     null|4.293741690638772|3.9481620549874585|3.7054906748968874|4.952582315213222|null|3.8262472151064246|2015|\n",
      "|Ahmedabad|2015-01-13|     null|4.293741690638772| 4.222591168244441| 3.788724806344726|4.952582315213222|null|3.5599090684771615|2015|\n",
      "|Ahmedabad|2015-01-14|     null|4.293741690638772|  3.96366626756154|3.3271919902594687|4.952582315213222|null|3.0426158157731007|2015|\n",
      "|Ahmedabad|2015-01-15|     null|4.293741690638772|3.3634954933514023|2.8308575763821904|4.952582315213222|null| 3.863462837238031|2015|\n",
      "|Ahmedabad|2015-01-16|     null|4.293741690638772| 3.644666311399034| 3.078233463452221|4.952582315213222|null|3.8292933313094206|2015|\n",
      "|Ahmedabad|2015-01-17|     null|4.293741690638772|3.9019726695746444| 3.208017063022865|4.952582315213222|null| 3.955848517098091|2015|\n",
      "|Ahmedabad|2015-01-18|     null|4.293741690638772|3.8801194627165168|3.2492110424277065|4.952582315213222|null|3.9794947519222346|2015|\n",
      "|Ahmedabad|2015-01-19|     null|4.293741690638772|3.9126228011006905|3.2913824844334676|4.952582315213222|null| 3.901568538272798|2015|\n",
      "|Ahmedabad|2015-01-20|     null|4.293741690638772| 4.075331604896545|3.2884018590489204|4.952582315213222|null| 4.031937083145191|2015|\n",
      "+---------+----------+---------+-----------------+------------------+------------------+-----------------+----+------------------+----+\n",
      "only showing top 20 rows\n",
      "\n"
     ]
    },
    {
     "name": "stderr",
     "output_type": "stream",
     "text": [
      "\r",
      "[Stage 169:>                                                        (0 + 1) / 1]\r"
     ]
    },
    {
     "name": "stdout",
     "output_type": "stream",
     "text": [
      "+----+----+---------+----+---+---+----+----+---+----+\n",
      "|City|Date|AQIBucket|PM25|SO2|NO2|PM10| AQI| O3|year|\n",
      "+----+----+---------+----+---+---+----+----+---+----+\n",
      "|   0|   0|     4681|   0|  0|  0|   0|4681|  0|   0|\n",
      "+----+----+---------+----+---+---+----+----+---+----+\n",
      "\n"
     ]
    },
    {
     "name": "stderr",
     "output_type": "stream",
     "text": [
      "\r",
      "                                                                                \r"
     ]
    }
   ],
   "source": [
    "dftr.show()\n",
    "#df1=df1.drop('date')\n",
    "from pyspark.sql.functions import col,isnan,when,count\n",
    "\n",
    "dftr1 = dftr.select([count(when(col(c).contains('None') | \\\n",
    "                            col(c).contains('NULL') | \\\n",
    "                            (col(c) == '' ) | \\\n",
    "                            col(c).isNull() | \\\n",
    "                            isnan(c), c \n",
    "                           )).alias(c)\n",
    "                    for c in dftr.columns])\n",
    "dftr1.show()"
   ]
  },
  {
   "cell_type": "code",
   "execution_count": null,
   "metadata": {},
   "outputs": [],
   "source": []
  },
  {
   "cell_type": "code",
   "execution_count": null,
   "metadata": {},
   "outputs": [],
   "source": []
  },
  {
   "cell_type": "code",
   "execution_count": 48,
   "metadata": {},
   "outputs": [],
   "source": [
    "#df1 = df1.na.fill(mean_pm10[0][0], subset=['PM10'])\n",
    "#dftr2.filter(dftr.AQI.isNull()).show()"
   ]
  },
  {
   "cell_type": "code",
   "execution_count": 49,
   "metadata": {},
   "outputs": [],
   "source": [
    "#Replace 0 for null on only population column \n",
    "#df2 = df2.na.fill(value=0,subset=[\"AQI\"]).show()\n"
   ]
  },
  {
   "cell_type": "code",
   "execution_count": 50,
   "metadata": {},
   "outputs": [
    {
     "name": "stdout",
     "output_type": "stream",
     "text": [
      "+---------+----------+---------+-----------------+------------------+------------------+-----------------+----+------------------+----+\n",
      "|     City|      Date|AQIBucket|             PM25|               SO2|               NO2|             PM10| AQI|                O3|year|\n",
      "+---------+----------+---------+-----------------+------------------+------------------+-----------------+----+------------------+----+\n",
      "|Ahmedabad|2015-01-01|     null|4.293741690638772| 3.319263976817285|2.9025198541454498|4.952582315213222|null|  4.89305224301926|2015|\n",
      "|Ahmedabad|2015-01-02|     null|4.293741690638772| 3.200711823163566| 2.753023540000728|4.952582315213222|null| 3.528123715554301|2015|\n",
      "|Ahmedabad|2015-01-03|     null|4.293741690638772|3.3697067040728217|2.9601050563802973|4.952582315213222|null| 3.424262679444599|2015|\n",
      "|Ahmedabad|2015-01-04|     null|4.293741690638772|2.9226238099414155| 2.916689041442776|4.952582315213222|null|3.5857387459442744|2015|\n",
      "|Ahmedabad|2015-01-05|     null|4.293741690638772|   3.6719876329999|3.0643250685814114|4.952582315213222|null|3.6714789743686707|2015|\n",
      "|Ahmedabad|2015-01-06|     null|4.293741690638772|3.8234103103917603|3.6501386139013605|4.952582315213222|null| 3.839667307147706|2015|\n",
      "|Ahmedabad|2015-01-07|     null|4.293741690638772|3.4744478055856653|3.7042605298569344|4.952582315213222|null| 3.510649551694795|2015|\n",
      "|Ahmedabad|2015-01-08|     null|4.293741690638772|  3.65169668674147| 3.603866125471976|4.952582315213222|null|3.4622924618826887|2015|\n",
      "|Ahmedabad|2015-01-09|     null|4.293741690638772|4.0720989584754586|3.4339872044851463|4.952582315213222|null| 3.248434627109745|2015|\n",
      "|Ahmedabad|2015-01-10|     null|4.293741690638772| 2.115049964545639| 1.951608164751347|4.952582315213222|null|1.5151272748826083|2015|\n",
      "|Ahmedabad|2015-01-11|     null|4.293741690638772| 3.220075132876583| 4.021773855714515|4.952582315213222|null|1.9154509359524938|2015|\n",
      "|Ahmedabad|2015-01-12|     null|4.293741690638772|3.9481620549874585|3.7054906748968874|4.952582315213222|null|3.8262472151064246|2015|\n",
      "|Ahmedabad|2015-01-13|     null|4.293741690638772| 4.222591168244441| 3.788724806344726|4.952582315213222|null|3.5599090684771615|2015|\n",
      "|Ahmedabad|2015-01-14|     null|4.293741690638772|  3.96366626756154|3.3271919902594687|4.952582315213222|null|3.0426158157731007|2015|\n",
      "|Ahmedabad|2015-01-15|     null|4.293741690638772|3.3634954933514023|2.8308575763821904|4.952582315213222|null| 3.863462837238031|2015|\n",
      "|Ahmedabad|2015-01-16|     null|4.293741690638772| 3.644666311399034| 3.078233463452221|4.952582315213222|null|3.8292933313094206|2015|\n",
      "|Ahmedabad|2015-01-17|     null|4.293741690638772|3.9019726695746444| 3.208017063022865|4.952582315213222|null| 3.955848517098091|2015|\n",
      "|Ahmedabad|2015-01-18|     null|4.293741690638772|3.8801194627165168|3.2492110424277065|4.952582315213222|null|3.9794947519222346|2015|\n",
      "|Ahmedabad|2015-01-19|     null|4.293741690638772|3.9126228011006905|3.2913824844334676|4.952582315213222|null| 3.901568538272798|2015|\n",
      "|Ahmedabad|2015-01-20|     null|4.293741690638772| 4.075331604896545|3.2884018590489204|4.952582315213222|null| 4.031937083145191|2015|\n",
      "+---------+----------+---------+-----------------+------------------+------------------+-----------------+----+------------------+----+\n",
      "only showing top 20 rows\n",
      "\n"
     ]
    }
   ],
   "source": [
    "dftr.show()"
   ]
  },
  {
   "cell_type": "code",
   "execution_count": 51,
   "metadata": {},
   "outputs": [
    {
     "name": "stderr",
     "output_type": "stream",
     "text": [
      "\r",
      "[Stage 178:>                                                        (0 + 1) / 1]\r"
     ]
    },
    {
     "name": "stdout",
     "output_type": "stream",
     "text": [
      "+---------+----------+---------+-----------------+------------------+------------------+-----------------+----+------------------+----+----------+\n",
      "|     City|      Date|AQIBucket|             PM25|               SO2|               NO2|             PM10| AQI|                O3|year|AQIBucket1|\n",
      "+---------+----------+---------+-----------------+------------------+------------------+-----------------+----+------------------+----+----------+\n",
      "|Ahmedabad|2015-01-01|     null|4.293741690638772| 3.319263976817285|2.9025198541454498|4.952582315213222|null|  4.89305224301926|2015|      null|\n",
      "|Ahmedabad|2015-01-02|     null|4.293741690638772| 3.200711823163566| 2.753023540000728|4.952582315213222|null| 3.528123715554301|2015|      null|\n",
      "|Ahmedabad|2015-01-03|     null|4.293741690638772|3.3697067040728217|2.9601050563802973|4.952582315213222|null| 3.424262679444599|2015|      null|\n",
      "|Ahmedabad|2015-01-04|     null|4.293741690638772|2.9226238099414155| 2.916689041442776|4.952582315213222|null|3.5857387459442744|2015|      null|\n",
      "|Ahmedabad|2015-01-05|     null|4.293741690638772|   3.6719876329999|3.0643250685814114|4.952582315213222|null|3.6714789743686707|2015|      null|\n",
      "|Ahmedabad|2015-01-06|     null|4.293741690638772|3.8234103103917603|3.6501386139013605|4.952582315213222|null| 3.839667307147706|2015|      null|\n",
      "|Ahmedabad|2015-01-07|     null|4.293741690638772|3.4744478055856653|3.7042605298569344|4.952582315213222|null| 3.510649551694795|2015|      null|\n",
      "|Ahmedabad|2015-01-08|     null|4.293741690638772|  3.65169668674147| 3.603866125471976|4.952582315213222|null|3.4622924618826887|2015|      null|\n",
      "|Ahmedabad|2015-01-09|     null|4.293741690638772|4.0720989584754586|3.4339872044851463|4.952582315213222|null| 3.248434627109745|2015|      null|\n",
      "|Ahmedabad|2015-01-10|     null|4.293741690638772| 2.115049964545639| 1.951608164751347|4.952582315213222|null|1.5151272748826083|2015|      null|\n",
      "|Ahmedabad|2015-01-11|     null|4.293741690638772| 3.220075132876583| 4.021773855714515|4.952582315213222|null|1.9154509359524938|2015|      null|\n",
      "|Ahmedabad|2015-01-12|     null|4.293741690638772|3.9481620549874585|3.7054906748968874|4.952582315213222|null|3.8262472151064246|2015|      null|\n",
      "|Ahmedabad|2015-01-13|     null|4.293741690638772| 4.222591168244441| 3.788724806344726|4.952582315213222|null|3.5599090684771615|2015|      null|\n",
      "|Ahmedabad|2015-01-14|     null|4.293741690638772|  3.96366626756154|3.3271919902594687|4.952582315213222|null|3.0426158157731007|2015|      null|\n",
      "|Ahmedabad|2015-01-15|     null|4.293741690638772|3.3634954933514023|2.8308575763821904|4.952582315213222|null| 3.863462837238031|2015|      null|\n",
      "|Ahmedabad|2015-01-16|     null|4.293741690638772| 3.644666311399034| 3.078233463452221|4.952582315213222|null|3.8292933313094206|2015|      null|\n",
      "|Ahmedabad|2015-01-17|     null|4.293741690638772|3.9019726695746444| 3.208017063022865|4.952582315213222|null| 3.955848517098091|2015|      null|\n",
      "|Ahmedabad|2015-01-18|     null|4.293741690638772|3.8801194627165168|3.2492110424277065|4.952582315213222|null|3.9794947519222346|2015|      null|\n",
      "|Ahmedabad|2015-01-19|     null|4.293741690638772|3.9126228011006905|3.2913824844334676|4.952582315213222|null| 3.901568538272798|2015|      null|\n",
      "|Ahmedabad|2015-01-20|     null|4.293741690638772| 4.075331604896545|3.2884018590489204|4.952582315213222|null| 4.031937083145191|2015|      null|\n",
      "+---------+----------+---------+-----------------+------------------+------------------+-----------------+----+------------------+----+----------+\n",
      "only showing top 20 rows\n",
      "\n"
     ]
    },
    {
     "name": "stderr",
     "output_type": "stream",
     "text": [
      "\r",
      "                                                                                \r"
     ]
    }
   ],
   "source": [
    "import sys\n",
    "from pyspark.sql.window import Window\n",
    "import pyspark.sql.functions as func\n",
    "dftr.withColumn(\"AQIBucket1\", func.last('AQIBucket', True).over(Window.partitionBy('City').orderBy('year').rowsBetween(-sys.maxsize, 0))).show()\n"
   ]
  },
  {
   "cell_type": "code",
   "execution_count": 52,
   "metadata": {},
   "outputs": [
    {
     "name": "stderr",
     "output_type": "stream",
     "text": [
      "\r",
      "[Stage 181:>                                                        (0 + 1) / 1]\r"
     ]
    },
    {
     "name": "stdout",
     "output_type": "stream",
     "text": [
      "+---------+----------+---------+-----------------+------------------+------------------+-----------------+----+------------------+----+\n",
      "|     City|      Date|AQIBucket|             PM25|               SO2|               NO2|             PM10| AQI|                O3|year|\n",
      "+---------+----------+---------+-----------------+------------------+------------------+-----------------+----+------------------+----+\n",
      "|Ahmedabad|2015-01-01|     Poor|4.293741690638772| 3.319263976817285|2.9025198541454498|4.952582315213222|null|  4.89305224301926|2015|\n",
      "|Ahmedabad|2015-01-02|     Poor|4.293741690638772| 3.200711823163566| 2.753023540000728|4.952582315213222|null| 3.528123715554301|2015|\n",
      "|Ahmedabad|2015-01-03|     Poor|4.293741690638772|3.3697067040728217|2.9601050563802973|4.952582315213222|null| 3.424262679444599|2015|\n",
      "|Ahmedabad|2015-01-04|     Poor|4.293741690638772|2.9226238099414155| 2.916689041442776|4.952582315213222|null|3.5857387459442744|2015|\n",
      "|Ahmedabad|2015-01-05|     Poor|4.293741690638772|   3.6719876329999|3.0643250685814114|4.952582315213222|null|3.6714789743686707|2015|\n",
      "|Ahmedabad|2015-01-06|     Poor|4.293741690638772|3.8234103103917603|3.6501386139013605|4.952582315213222|null| 3.839667307147706|2015|\n",
      "|Ahmedabad|2015-01-07|     Poor|4.293741690638772|3.4744478055856653|3.7042605298569344|4.952582315213222|null| 3.510649551694795|2015|\n",
      "|Ahmedabad|2015-01-08|     Poor|4.293741690638772|  3.65169668674147| 3.603866125471976|4.952582315213222|null|3.4622924618826887|2015|\n",
      "|Ahmedabad|2015-01-09|     Poor|4.293741690638772|4.0720989584754586|3.4339872044851463|4.952582315213222|null| 3.248434627109745|2015|\n",
      "|Ahmedabad|2015-01-10|     Poor|4.293741690638772| 2.115049964545639| 1.951608164751347|4.952582315213222|null|1.5151272748826083|2015|\n",
      "+---------+----------+---------+-----------------+------------------+------------------+-----------------+----+------------------+----+\n",
      "only showing top 10 rows\n",
      "\n"
     ]
    },
    {
     "name": "stderr",
     "output_type": "stream",
     "text": [
      "\r",
      "                                                                                \r"
     ]
    }
   ],
   "source": [
    "\n",
    "###backward fill\n",
    "from pyspark.sql import Window\n",
    "from pyspark.sql.functions import first\n",
    "\n",
    "# define the window\n",
    "window = Window.partitionBy('City')\\\n",
    "               .orderBy('Date')\\\n",
    "               .rowsBetween(0, sys.maxsize)\n",
    "\n",
    "# define the forward-filled column\n",
    "filled_column = first(dftr['AQIBucket'], ignorenulls=True).over(window)\n",
    "\n",
    "# do the fill\n",
    "spark_df_filled = dftr.withColumn('AQIBucket', filled_column)\n",
    "\n",
    "# show off our glorious achievements\n",
    "spark_df_filled.orderBy('City', 'Date').show(10) "
   ]
  },
  {
   "cell_type": "code",
   "execution_count": 53,
   "metadata": {},
   "outputs": [
    {
     "name": "stdout",
     "output_type": "stream",
     "text": [
      "+---------+----------+---------+-----------------+------------------+------------------+-----------------+----+------------------+----+\n",
      "|     City|      Date|AQIBucket|             PM25|               SO2|               NO2|             PM10| AQI|                O3|year|\n",
      "+---------+----------+---------+-----------------+------------------+------------------+-----------------+----+------------------+----+\n",
      "|Ahmedabad|2015-01-01|     Poor|4.293741690638772| 3.319263976817285|2.9025198541454498|4.952582315213222|null|  4.89305224301926|2015|\n",
      "|Ahmedabad|2015-01-02|     Poor|4.293741690638772| 3.200711823163566| 2.753023540000728|4.952582315213222|null| 3.528123715554301|2015|\n",
      "|Ahmedabad|2015-01-03|     Poor|4.293741690638772|3.3697067040728217|2.9601050563802973|4.952582315213222|null| 3.424262679444599|2015|\n",
      "|Ahmedabad|2015-01-04|     Poor|4.293741690638772|2.9226238099414155| 2.916689041442776|4.952582315213222|null|3.5857387459442744|2015|\n",
      "|Ahmedabad|2015-01-05|     Poor|4.293741690638772|   3.6719876329999|3.0643250685814114|4.952582315213222|null|3.6714789743686707|2015|\n",
      "|Ahmedabad|2015-01-06|     Poor|4.293741690638772|3.8234103103917603|3.6501386139013605|4.952582315213222|null| 3.839667307147706|2015|\n",
      "|Ahmedabad|2015-01-07|     Poor|4.293741690638772|3.4744478055856653|3.7042605298569344|4.952582315213222|null| 3.510649551694795|2015|\n",
      "|Ahmedabad|2015-01-08|     Poor|4.293741690638772|  3.65169668674147| 3.603866125471976|4.952582315213222|null|3.4622924618826887|2015|\n",
      "|Ahmedabad|2015-01-09|     Poor|4.293741690638772|4.0720989584754586|3.4339872044851463|4.952582315213222|null| 3.248434627109745|2015|\n",
      "|Ahmedabad|2015-01-10|     Poor|4.293741690638772| 2.115049964545639| 1.951608164751347|4.952582315213222|null|1.5151272748826083|2015|\n",
      "|Ahmedabad|2015-01-11|     Poor|4.293741690638772| 3.220075132876583| 4.021773855714515|4.952582315213222|null|1.9154509359524938|2015|\n",
      "|Ahmedabad|2015-01-12|     Poor|4.293741690638772|3.9481620549874585|3.7054906748968874|4.952582315213222|null|3.8262472151064246|2015|\n",
      "|Ahmedabad|2015-01-13|     Poor|4.293741690638772| 4.222591168244441| 3.788724806344726|4.952582315213222|null|3.5599090684771615|2015|\n",
      "|Ahmedabad|2015-01-14|     Poor|4.293741690638772|  3.96366626756154|3.3271919902594687|4.952582315213222|null|3.0426158157731007|2015|\n",
      "|Ahmedabad|2015-01-15|     Poor|4.293741690638772|3.3634954933514023|2.8308575763821904|4.952582315213222|null| 3.863462837238031|2015|\n",
      "|Ahmedabad|2015-01-16|     Poor|4.293741690638772| 3.644666311399034| 3.078233463452221|4.952582315213222|null|3.8292933313094206|2015|\n",
      "|Ahmedabad|2015-01-17|     Poor|4.293741690638772|3.9019726695746444| 3.208017063022865|4.952582315213222|null| 3.955848517098091|2015|\n",
      "|Ahmedabad|2015-01-18|     Poor|4.293741690638772|3.8801194627165168|3.2492110424277065|4.952582315213222|null|3.9794947519222346|2015|\n",
      "|Ahmedabad|2015-01-19|     Poor|4.293741690638772|3.9126228011006905|3.2913824844334676|4.952582315213222|null| 3.901568538272798|2015|\n",
      "|Ahmedabad|2015-01-20|     Poor|4.293741690638772| 4.075331604896545|3.2884018590489204|4.952582315213222|null| 4.031937083145191|2015|\n",
      "+---------+----------+---------+-----------------+------------------+------------------+-----------------+----+------------------+----+\n",
      "only showing top 20 rows\n",
      "\n"
     ]
    }
   ],
   "source": [
    "spark_df_filled.show()"
   ]
  },
  {
   "cell_type": "code",
   "execution_count": 54,
   "metadata": {},
   "outputs": [
    {
     "name": "stderr",
     "output_type": "stream",
     "text": [
      "\r",
      "[Stage 187:>                                                        (0 + 1) / 1]\r"
     ]
    },
    {
     "name": "stdout",
     "output_type": "stream",
     "text": [
      "+------------+----------+---------+------------------+------------------+------------------+-----------------+----+------------------+----+\n",
      "|        City|      Date|AQIBucket|              PM25|               SO2|               NO2|             PM10| AQI|                O3|year|\n",
      "+------------+----------+---------+------------------+------------------+------------------+-----------------+----+------------------+----+\n",
      "|Brajrajnagar|2020-06-13|     null|3.7981821650663488| 1.937301782763736|3.0130977074753162|5.206859779467381|null|2.6390573296152584|2020|\n",
      "|Brajrajnagar|2020-06-14|     null| 4.801887605518296|1.4770487505164178|3.0130977074753162|5.068149231029569|null|3.0228609038162353|2020|\n",
      "|Brajrajnagar|2020-06-15|     null|3.6946129745830323|2.8118093987132804|3.0130977074753162| 5.53394269295318|null| 3.306269545598628|2020|\n",
      "|Brajrajnagar|2020-06-16|     null| 4.141546187965201|3.1929424678971787|3.0130977074753162|6.218779379197271|null| 3.306269545598628|2020|\n",
      "|Brajrajnagar|2020-06-17|     null| 5.732661461878853|2.2684374470398123|3.0130977074753162|6.218779379197271|null| 3.306269545598628|2020|\n",
      "|Brajrajnagar|2020-06-18|     null| 5.732661461878853|2.2684374470398123|3.0130977074753162|6.218779379197271|null| 3.306269545598628|2020|\n",
      "|Brajrajnagar|2020-06-19|     null| 5.732661461878853|2.2684374470398123|3.0130977074753162|6.218779379197271|null| 3.306269545598628|2020|\n",
      "|Brajrajnagar|2020-06-20|     null| 5.732661461878853|2.2684374470398123|3.0130977074753162|6.218779379197271|null| 3.306269545598628|2020|\n",
      "|Brajrajnagar|2020-06-21|     null| 5.732661461878853|2.2684374470398123|3.0130977074753162|6.218779379197271|null| 3.306269545598628|2020|\n",
      "|Brajrajnagar|2020-06-22|     null| 5.732661461878853|2.2684374470398123|3.0130977074753162|6.218779379197271|null| 3.306269545598628|2020|\n",
      "|Brajrajnagar|2020-06-23|     null| 5.732661461878853|2.2684374470398123|3.0130977074753162|6.218779379197271|null| 3.306269545598628|2020|\n",
      "|Brajrajnagar|2020-06-24|     null| 5.732661461878853|2.2684374470398123|3.0130977074753162|6.379088128606704|null| 2.099244150276519|2020|\n",
      "|Brajrajnagar|2020-06-25|     null| 4.864684276279254|2.3389170112056674| 3.527536330600806|5.317776761788898|null| 3.098740027069535|2020|\n",
      "|Brajrajnagar|2020-06-26|     null|3.3745110850567066| 2.010894971057932|1.2149127104055404|4.267036535803691|null|3.0887671742792415|2020|\n",
      "|Brajrajnagar|2020-06-27|     null|3.3745110850567066|2.2684374470398123|3.0130977074753162|4.267036535803691|null| 3.306269545598628|2020|\n",
      "|Brajrajnagar|2020-06-28|     null|3.3745110850567066|2.2684374470398123|3.0130977074753162|4.267036535803691|null| 3.306269545598628|2020|\n",
      "|Brajrajnagar|2020-06-29|     null|3.3745110850567066|2.2684374470398123|3.0130977074753162|4.267036535803691|null| 3.306269545598628|2020|\n",
      "|Brajrajnagar|2020-06-30|     null|3.3745110850567066|2.2684374470398123|3.0130977074753162|4.267036535803691|null| 3.306269545598628|2020|\n",
      "|Brajrajnagar|2020-07-01|     null|3.3745110850567066|2.2684374470398123|3.0130977074753162|4.267036535803691|null| 3.306269545598628|2020|\n",
      "|  Coimbatore|2020-07-01|     null|2.6539459447935254|1.7457155340553543|3.8292933313094206|2.753023540000728|null| 2.359910174021992|2020|\n",
      "+------------+----------+---------+------------------+------------------+------------------+-----------------+----+------------------+----+\n",
      "\n"
     ]
    },
    {
     "name": "stderr",
     "output_type": "stream",
     "text": [
      "\r",
      "                                                                                \r"
     ]
    }
   ],
   "source": [
    "# First, we have to register the DataFrame as a SQL temporary view.\n",
    "spark_df_filled.createOrReplaceTempView('pollution')\n",
    "\n",
    "results2 = spark.sql(\"SELECT * FROM pollution where AQIBucket is null\")\n",
    "results2.show()"
   ]
  },
  {
   "cell_type": "code",
   "execution_count": 55,
   "metadata": {},
   "outputs": [
    {
     "name": "stderr",
     "output_type": "stream",
     "text": [
      "\r",
      "[Stage 190:>                                                        (0 + 1) / 1]\r"
     ]
    },
    {
     "name": "stdout",
     "output_type": "stream",
     "text": [
      "+---------+----------+---------+-----------------+------------------+------------------+-----------------+----+------------------+----+\n",
      "|     City|      Date|AQIBucket|             PM25|               SO2|               NO2|             PM10| AQI|                O3|year|\n",
      "+---------+----------+---------+-----------------+------------------+------------------+-----------------+----+------------------+----+\n",
      "|Ahmedabad|2015-01-01|     Poor|4.293741690638772| 3.319263976817285|2.9025198541454498|4.952582315213222|null|  4.89305224301926|2015|\n",
      "|Ahmedabad|2015-01-02|     Poor|4.293741690638772| 3.200711823163566| 2.753023540000728|4.952582315213222|null| 3.528123715554301|2015|\n",
      "|Ahmedabad|2015-01-03|     Poor|4.293741690638772|3.3697067040728217|2.9601050563802973|4.952582315213222|null| 3.424262679444599|2015|\n",
      "|Ahmedabad|2015-01-04|     Poor|4.293741690638772|2.9226238099414155| 2.916689041442776|4.952582315213222|null|3.5857387459442744|2015|\n",
      "|Ahmedabad|2015-01-05|     Poor|4.293741690638772|   3.6719876329999|3.0643250685814114|4.952582315213222|null|3.6714789743686707|2015|\n",
      "|Ahmedabad|2015-01-06|     Poor|4.293741690638772|3.8234103103917603|3.6501386139013605|4.952582315213222|null| 3.839667307147706|2015|\n",
      "|Ahmedabad|2015-01-07|     Poor|4.293741690638772|3.4744478055856653|3.7042605298569344|4.952582315213222|null| 3.510649551694795|2015|\n",
      "|Ahmedabad|2015-01-08|     Poor|4.293741690638772|  3.65169668674147| 3.603866125471976|4.952582315213222|null|3.4622924618826887|2015|\n",
      "|Ahmedabad|2015-01-09|     Poor|4.293741690638772|4.0720989584754586|3.4339872044851463|4.952582315213222|null| 3.248434627109745|2015|\n",
      "|Ahmedabad|2015-01-10|     Poor|4.293741690638772| 2.115049964545639| 1.951608164751347|4.952582315213222|null|1.5151272748826083|2015|\n",
      "+---------+----------+---------+-----------------+------------------+------------------+-----------------+----+------------------+----+\n",
      "only showing top 10 rows\n",
      "\n"
     ]
    },
    {
     "name": "stderr",
     "output_type": "stream",
     "text": [
      "\r",
      "                                                                                \r"
     ]
    }
   ],
   "source": [
    "###backward fill\n",
    "from pyspark.sql import Window\n",
    "from pyspark.sql.functions import last\n",
    "\n",
    "# define the window\n",
    "window = Window.partitionBy('City')\\\n",
    "               .orderBy('Date')\\\n",
    "               .rowsBetween(-sys.maxsize ,0 )\n",
    "\n",
    "# define the forward-filled column\n",
    "filled_column = last(spark_df_filled['AQIBucket'], ignorenulls=True).over(window)\n",
    "\n",
    "# do the fill\n",
    "spark_df_filled2 = spark_df_filled.withColumn('AQIBucket', filled_column)\n",
    "\n",
    "# show off our glorious achievements\n",
    "spark_df_filled2.orderBy('City', 'Date').show(10)"
   ]
  },
  {
   "cell_type": "code",
   "execution_count": 56,
   "metadata": {},
   "outputs": [
    {
     "name": "stderr",
     "output_type": "stream",
     "text": [
      "\r",
      "[Stage 193:>                                                        (0 + 1) / 1]\r"
     ]
    },
    {
     "name": "stdout",
     "output_type": "stream",
     "text": [
      "+----+----+---------+----+---+---+----+---+---+----+\n",
      "|City|Date|AQIBucket|PM25|SO2|NO2|PM10|AQI| O3|year|\n",
      "+----+----+---------+----+---+---+----+---+---+----+\n",
      "+----+----+---------+----+---+---+----+---+---+----+\n",
      "\n"
     ]
    },
    {
     "name": "stderr",
     "output_type": "stream",
     "text": [
      "\r",
      "                                                                                \r"
     ]
    }
   ],
   "source": [
    "# First, we have to register the DataFrame as a SQL temporary view.\n",
    "spark_df_filled2.createOrReplaceTempView('pollution')\n",
    "\n",
    "results3 = spark.sql(\"SELECT * FROM pollution where AQIBucket is null\")\n",
    "results3.show()"
   ]
  },
  {
   "cell_type": "code",
   "execution_count": 57,
   "metadata": {},
   "outputs": [
    {
     "name": "stderr",
     "output_type": "stream",
     "text": [
      "\r",
      "[Stage 196:>                                                        (0 + 1) / 1]\r"
     ]
    },
    {
     "name": "stdout",
     "output_type": "stream",
     "text": [
      "+------------+----------------+---------+----+\n",
      "|   AQIBucket|count(AQIBucket)|     city|year|\n",
      "+------------+----------------+---------+----+\n",
      "|        Poor|             163|Ahmedabad|2015|\n",
      "|   Very Poor|              58|Ahmedabad|2015|\n",
      "|      Severe|              55|Ahmedabad|2015|\n",
      "|    Moderate|              79|Ahmedabad|2015|\n",
      "|Satisfactory|               9|Ahmedabad|2015|\n",
      "|        Good|               1|Ahmedabad|2015|\n",
      "|        Poor|             247|Ahmedabad|2016|\n",
      "|    Moderate|              69|Ahmedabad|2016|\n",
      "|      Severe|              27|Ahmedabad|2016|\n",
      "|Satisfactory|               3|Ahmedabad|2016|\n",
      "|   Very Poor|              20|Ahmedabad|2016|\n",
      "|    Moderate|             293|Ahmedabad|2017|\n",
      "|   Very Poor|              21|Ahmedabad|2017|\n",
      "|Satisfactory|               1|Ahmedabad|2017|\n",
      "|      Severe|              41|Ahmedabad|2017|\n",
      "|        Poor|               9|Ahmedabad|2017|\n",
      "|        Poor|              32|Ahmedabad|2018|\n",
      "|      Severe|             283|Ahmedabad|2018|\n",
      "|   Very Poor|              44|Ahmedabad|2018|\n",
      "|    Moderate|               6|Ahmedabad|2018|\n",
      "+------------+----------------+---------+----+\n",
      "only showing top 20 rows\n",
      "\n"
     ]
    },
    {
     "name": "stderr",
     "output_type": "stream",
     "text": [
      "\r",
      "                                                                                \r"
     ]
    }
   ],
   "source": [
    "# First, we have to register the DataFrame as a SQL temporary view.\n",
    "spark_df_filled2.createOrReplaceTempView('pollution')\n",
    "\n",
    "results4 = spark.sql(\"SELECT AQIBucket, count(AQIBucket),city,year FROM pollution group by AQIbucket,city,year\")\n",
    "results4.show()"
   ]
  },
  {
   "cell_type": "code",
   "execution_count": 58,
   "metadata": {},
   "outputs": [
    {
     "name": "stdout",
     "output_type": "stream",
     "text": [
      "+---------+----------+---------+-----------------+------------------+------------------+-----------------+----+------------------+----+\n",
      "|     City|      Date|AQIBucket|             PM25|               SO2|               NO2|             PM10| AQI|                O3|year|\n",
      "+---------+----------+---------+-----------------+------------------+------------------+-----------------+----+------------------+----+\n",
      "|Ahmedabad|2015-01-01|     Poor|4.293741690638772| 3.319263976817285|2.9025198541454498|4.952582315213222|null|  4.89305224301926|2015|\n",
      "|Ahmedabad|2015-01-02|     Poor|4.293741690638772| 3.200711823163566| 2.753023540000728|4.952582315213222|null| 3.528123715554301|2015|\n",
      "|Ahmedabad|2015-01-03|     Poor|4.293741690638772|3.3697067040728217|2.9601050563802973|4.952582315213222|null| 3.424262679444599|2015|\n",
      "|Ahmedabad|2015-01-04|     Poor|4.293741690638772|2.9226238099414155| 2.916689041442776|4.952582315213222|null|3.5857387459442744|2015|\n",
      "|Ahmedabad|2015-01-05|     Poor|4.293741690638772|   3.6719876329999|3.0643250685814114|4.952582315213222|null|3.6714789743686707|2015|\n",
      "|Ahmedabad|2015-01-06|     Poor|4.293741690638772|3.8234103103917603|3.6501386139013605|4.952582315213222|null| 3.839667307147706|2015|\n",
      "|Ahmedabad|2015-01-07|     Poor|4.293741690638772|3.4744478055856653|3.7042605298569344|4.952582315213222|null| 3.510649551694795|2015|\n",
      "|Ahmedabad|2015-01-08|     Poor|4.293741690638772|  3.65169668674147| 3.603866125471976|4.952582315213222|null|3.4622924618826887|2015|\n",
      "|Ahmedabad|2015-01-09|     Poor|4.293741690638772|4.0720989584754586|3.4339872044851463|4.952582315213222|null| 3.248434627109745|2015|\n",
      "|Ahmedabad|2015-01-10|     Poor|4.293741690638772| 2.115049964545639| 1.951608164751347|4.952582315213222|null|1.5151272748826083|2015|\n",
      "|Ahmedabad|2015-01-11|     Poor|4.293741690638772| 3.220075132876583| 4.021773855714515|4.952582315213222|null|1.9154509359524938|2015|\n",
      "|Ahmedabad|2015-01-12|     Poor|4.293741690638772|3.9481620549874585|3.7054906748968874|4.952582315213222|null|3.8262472151064246|2015|\n",
      "|Ahmedabad|2015-01-13|     Poor|4.293741690638772| 4.222591168244441| 3.788724806344726|4.952582315213222|null|3.5599090684771615|2015|\n",
      "|Ahmedabad|2015-01-14|     Poor|4.293741690638772|  3.96366626756154|3.3271919902594687|4.952582315213222|null|3.0426158157731007|2015|\n",
      "|Ahmedabad|2015-01-15|     Poor|4.293741690638772|3.3634954933514023|2.8308575763821904|4.952582315213222|null| 3.863462837238031|2015|\n",
      "|Ahmedabad|2015-01-16|     Poor|4.293741690638772| 3.644666311399034| 3.078233463452221|4.952582315213222|null|3.8292933313094206|2015|\n",
      "|Ahmedabad|2015-01-17|     Poor|4.293741690638772|3.9019726695746444| 3.208017063022865|4.952582315213222|null| 3.955848517098091|2015|\n",
      "|Ahmedabad|2015-01-18|     Poor|4.293741690638772|3.8801194627165168|3.2492110424277065|4.952582315213222|null|3.9794947519222346|2015|\n",
      "|Ahmedabad|2015-01-19|     Poor|4.293741690638772|3.9126228011006905|3.2913824844334676|4.952582315213222|null| 3.901568538272798|2015|\n",
      "|Ahmedabad|2015-01-20|     Poor|4.293741690638772| 4.075331604896545|3.2884018590489204|4.952582315213222|null| 4.031937083145191|2015|\n",
      "+---------+----------+---------+-----------------+------------------+------------------+-----------------+----+------------------+----+\n",
      "only showing top 20 rows\n",
      "\n"
     ]
    }
   ],
   "source": [
    "###check the AQI for the rows, and update the nulls\n",
    "\n",
    "spark_df_filled2.filter(spark_df_filled2.AQI.isNull()).show()"
   ]
  },
  {
   "cell_type": "code",
   "execution_count": 59,
   "metadata": {},
   "outputs": [
    {
     "name": "stderr",
     "output_type": "stream",
     "text": [
      "\r",
      "[Stage 202:>                                                        (0 + 1) / 1]\r"
     ]
    },
    {
     "name": "stdout",
     "output_type": "stream",
     "text": [
      "+---------+----------+------------+------------------+------------------+------------------+-----------------+------------------+------------------+----+------------------+\n",
      "|     City|      Date|   AQIBucket|              PM25|               SO2|               NO2|             PM10|               AQI|                O3|year|              AQII|\n",
      "+---------+----------+------------+------------------+------------------+------------------+-----------------+------------------+------------------+----+------------------+\n",
      "|Ahmedabad|2015-07-24|        Good|3.3748533828233915| 2.608598116512439| 2.258633173576066|4.952582315213222|3.8712010109078907|1.6253112465718973|2015|3.8712010109078907|\n",
      "|Ahmedabad|2015-07-25|Satisfactory|3.3941727974578977| 2.715356753563089| 2.156402622552393|4.952582315213222| 3.970291913552122|1.6752256815466144|2015| 3.970291913552122|\n",
      "|Ahmedabad|2015-07-20|Satisfactory|3.4436180731710446|2.3311725461387693|2.0918641087734198|4.952582315213222|   4.0943445622221|2.0068708565359223|2015|   4.0943445622221|\n",
      "|Ahmedabad|2015-07-19|Satisfactory| 3.513334922519476| 2.423031222397146| 2.065596117935805|4.952582315213222| 4.204692619390966| 2.320425041100351|2015| 4.204692619390966|\n",
      "|Ahmedabad|2015-07-27|Satisfactory| 2.954910318770165|  2.41858872798778|2.2460147213220676|4.952582315213222| 4.248495242049359|1.5282278859704665|2015| 4.248495242049359|\n",
      "|Ahmedabad|2016-07-15|Satisfactory|3.5964900382920204|2.9449651685404135|3.6144252969558948|4.952582315213222| 4.276666119016055| 3.306269545598628|2016| 4.276666119016055|\n",
      "|Ahmedabad|2020-06-29|Satisfactory| 3.392829131991639|2.4932054841291187| 3.224857881377966|4.851874027941456| 4.304065093204169|3.5550623543494955|2020| 4.304065093204169|\n",
      "|Ahmedabad|2020-06-22|Satisfactory|2.9454910811847346| 2.589266642201148| 2.818995108710371|4.588735907445598|  4.31748811353631|3.8253751654226718|2020|  4.31748811353631|\n",
      "|Ahmedabad|2015-07-23|Satisfactory|3.5473159249506487|2.6115392923189495|2.2752138491512865|4.952582315213222| 4.356708826689592|1.5830939135953364|2015| 4.356708826689592|\n",
      "|Ahmedabad|2017-10-23|Satisfactory| 3.945844577505805|2.2684374470398123|3.0130977074753162|4.952582315213222| 4.382026634673881| 3.207207982949634|2017| 4.382026634673881|\n",
      "+---------+----------+------------+------------------+------------------+------------------+-----------------+------------------+------------------+----+------------------+\n",
      "only showing top 10 rows\n",
      "\n"
     ]
    },
    {
     "name": "stderr",
     "output_type": "stream",
     "text": [
      "\r",
      "                                                                                \r"
     ]
    }
   ],
   "source": [
    "###backward fill\n",
    "from pyspark.sql import Window\n",
    "from pyspark.sql.functions import first\n",
    "\n",
    "# define the window\n",
    "window = Window.partitionBy('City')\\\n",
    "               .orderBy('AQIBucket')\\\n",
    "               .rowsBetween(0, sys.maxsize)\n",
    "\n",
    "# define the forward-filled column\n",
    "filled_column = first(spark_df_filled2['AQI'], ignorenulls=True).over(window)\n",
    "\n",
    "# do the fill\n",
    "spark_df_filled3 = spark_df_filled2.withColumn('AQII', filled_column)\n",
    "\n",
    "# show off our glorious achievements\n",
    "spark_df_filled3.orderBy('City', 'AQII').show(10) "
   ]
  },
  {
   "cell_type": "code",
   "execution_count": 60,
   "metadata": {},
   "outputs": [
    {
     "name": "stderr",
     "output_type": "stream",
     "text": [
      "\r",
      "[Stage 205:>                                                        (0 + 1) / 1]\r"
     ]
    },
    {
     "name": "stdout",
     "output_type": "stream",
     "text": [
      "+----+----+---------+----+---+---+----+---+---+----+----+\n",
      "|City|Date|AQIBucket|PM25|SO2|NO2|PM10|AQI| O3|year|AQII|\n",
      "+----+----+---------+----+---+---+----+---+---+----+----+\n",
      "+----+----+---------+----+---+---+----+---+---+----+----+\n",
      "\n"
     ]
    },
    {
     "name": "stderr",
     "output_type": "stream",
     "text": [
      "\r",
      "                                                                                \r"
     ]
    }
   ],
   "source": [
    "\n",
    "spark_df_filled3.filter(spark_df_filled3.AQII.isNull()).show()"
   ]
  },
  {
   "cell_type": "code",
   "execution_count": 61,
   "metadata": {},
   "outputs": [
    {
     "name": "stderr",
     "output_type": "stream",
     "text": [
      "\r",
      "[Stage 208:>                                                        (0 + 1) / 1]\r"
     ]
    },
    {
     "name": "stdout",
     "output_type": "stream",
     "text": [
      "+----+----+---------+----+---+---+----+----+---+----+----+\n",
      "|City|Date|AQIBucket|PM25|SO2|NO2|PM10| AQI| O3|year|AQII|\n",
      "+----+----+---------+----+---+---+----+----+---+----+----+\n",
      "|   0|   0|        0|   0|  0|  0|   0|4681|  0|   0|   0|\n",
      "+----+----+---------+----+---+---+----+----+---+----+----+\n",
      "\n"
     ]
    },
    {
     "name": "stderr",
     "output_type": "stream",
     "text": [
      "\r",
      "                                                                                \r"
     ]
    }
   ],
   "source": [
    "\n",
    "from pyspark.sql.functions import col,isnan,when,count\n",
    "spark_df_filled4 = spark_df_filled3.select([count(when(col(c).contains('None') | \\\n",
    "                            col(c).contains('NULL') | \\\n",
    "                            (col(c) == '' ) | \\\n",
    "                            col(c).isNull() | \\\n",
    "                            isnan(c), c \n",
    "                           )).alias(c)\n",
    "                    for c in spark_df_filled3.columns])\n",
    "spark_df_filled4.show()"
   ]
  },
  {
   "cell_type": "code",
   "execution_count": 62,
   "metadata": {},
   "outputs": [
    {
     "name": "stderr",
     "output_type": "stream",
     "text": [
      "\r",
      "[Stage 214:>                                                        (0 + 1) / 1]\r"
     ]
    },
    {
     "name": "stdout",
     "output_type": "stream",
     "text": [
      "+----------------+------------+---------+----+\n",
      "|count(AQIBucket)|   AQIBucket|     city|year|\n",
      "+----------------+------------+---------+----+\n",
      "|             163|        Poor|Ahmedabad|2015|\n",
      "|              58|   Very Poor|Ahmedabad|2015|\n",
      "|              55|      Severe|Ahmedabad|2015|\n",
      "|              79|    Moderate|Ahmedabad|2015|\n",
      "|               9|Satisfactory|Ahmedabad|2015|\n",
      "|               1|        Good|Ahmedabad|2015|\n",
      "|             247|        Poor|Ahmedabad|2016|\n",
      "|              69|    Moderate|Ahmedabad|2016|\n",
      "|              27|      Severe|Ahmedabad|2016|\n",
      "|               3|Satisfactory|Ahmedabad|2016|\n",
      "|              20|   Very Poor|Ahmedabad|2016|\n",
      "|             293|    Moderate|Ahmedabad|2017|\n",
      "|              21|   Very Poor|Ahmedabad|2017|\n",
      "|               1|Satisfactory|Ahmedabad|2017|\n",
      "|              41|      Severe|Ahmedabad|2017|\n",
      "|               9|        Poor|Ahmedabad|2017|\n",
      "|              32|        Poor|Ahmedabad|2018|\n",
      "|             283|      Severe|Ahmedabad|2018|\n",
      "|              44|   Very Poor|Ahmedabad|2018|\n",
      "|               6|    Moderate|Ahmedabad|2018|\n",
      "+----------------+------------+---------+----+\n",
      "only showing top 20 rows\n",
      "\n"
     ]
    },
    {
     "name": "stderr",
     "output_type": "stream",
     "text": [
      "\r",
      "                                                                                \r"
     ]
    }
   ],
   "source": [
    "# First, we have to register the DataFrame as a SQL temporary view.\n",
    "spark_df_filled3.createOrReplaceTempView('pollution')\n",
    "\n",
    "results4 = spark.sql(\"SELECT count(AQIBucket),AQIBucket,city,year FROM pollution group by AQIbucket,city,year\")\n",
    "results4.show()\n",
    "\n",
    "results4 = spark.sql(\"SELECT * FROM pollution\")\n"
   ]
  },
  {
   "cell_type": "code",
   "execution_count": 63,
   "metadata": {},
   "outputs": [
    {
     "name": "stderr",
     "output_type": "stream",
     "text": [
      "                                                                                \r"
     ]
    },
    {
     "data": {
      "text/html": [
       "<div>\n",
       "<style scoped>\n",
       "    .dataframe tbody tr th:only-of-type {\n",
       "        vertical-align: middle;\n",
       "    }\n",
       "\n",
       "    .dataframe tbody tr th {\n",
       "        vertical-align: top;\n",
       "    }\n",
       "\n",
       "    .dataframe thead th {\n",
       "        text-align: right;\n",
       "    }\n",
       "</style>\n",
       "<table border=\"1\" class=\"dataframe\">\n",
       "  <thead>\n",
       "    <tr style=\"text-align: right;\">\n",
       "      <th></th>\n",
       "      <th>summary</th>\n",
       "      <th>City</th>\n",
       "      <th>Date</th>\n",
       "      <th>AQIBucket</th>\n",
       "      <th>PM25</th>\n",
       "      <th>SO2</th>\n",
       "      <th>NO2</th>\n",
       "      <th>PM10</th>\n",
       "      <th>AQI</th>\n",
       "      <th>O3</th>\n",
       "      <th>year</th>\n",
       "      <th>AQII</th>\n",
       "    </tr>\n",
       "  </thead>\n",
       "  <tbody>\n",
       "    <tr>\n",
       "      <th>0</th>\n",
       "      <td>count</td>\n",
       "      <td>29531</td>\n",
       "      <td>29531</td>\n",
       "      <td>29531</td>\n",
       "      <td>29531</td>\n",
       "      <td>29531</td>\n",
       "      <td>29531</td>\n",
       "      <td>29531</td>\n",
       "      <td>24850</td>\n",
       "      <td>29531</td>\n",
       "      <td>29531</td>\n",
       "      <td>29531</td>\n",
       "    </tr>\n",
       "    <tr>\n",
       "      <th>1</th>\n",
       "      <td>mean</td>\n",
       "      <td>None</td>\n",
       "      <td>None</td>\n",
       "      <td>None</td>\n",
       "      <td>3.885298540907494</td>\n",
       "      <td>2.268437447039912</td>\n",
       "      <td>3.013097707475154</td>\n",
       "      <td>4.538463300650038</td>\n",
       "      <td>4.8710439371669905</td>\n",
       "      <td>3.3062695455988407</td>\n",
       "      <td>2017.8879143950426</td>\n",
       "      <td>4.849190900839951</td>\n",
       "    </tr>\n",
       "    <tr>\n",
       "      <th>2</th>\n",
       "      <td>stddev</td>\n",
       "      <td>None</td>\n",
       "      <td>None</td>\n",
       "      <td>None</td>\n",
       "      <td>0.8365433148467613</td>\n",
       "      <td>0.7948147310071166</td>\n",
       "      <td>0.8575668774279026</td>\n",
       "      <td>0.7549119614561065</td>\n",
       "      <td>0.6727330623650835</td>\n",
       "      <td>0.7399319467030515</td>\n",
       "      <td>1.533782540230627</td>\n",
       "      <td>0.6724133761478859</td>\n",
       "    </tr>\n",
       "    <tr>\n",
       "      <th>3</th>\n",
       "      <td>min</td>\n",
       "      <td>Ahmedabad</td>\n",
       "      <td>2015-01-01</td>\n",
       "      <td>Good</td>\n",
       "      <td>-3.218875847219943</td>\n",
       "      <td>-4.605170208339834</td>\n",
       "      <td>-4.605170208339834</td>\n",
       "      <td>-4.605170208339834</td>\n",
       "      <td>2.5649493574615367</td>\n",
       "      <td>-4.605170208339834</td>\n",
       "      <td>2015</td>\n",
       "      <td>2.5649493574615367</td>\n",
       "    </tr>\n",
       "    <tr>\n",
       "      <th>4</th>\n",
       "      <td>max</td>\n",
       "      <td>Visakhapatnam</td>\n",
       "      <td>2020-07-01</td>\n",
       "      <td>Very Poor</td>\n",
       "      <td>6.856451447943681</td>\n",
       "      <td>5.267136252212876</td>\n",
       "      <td>5.892224130532889</td>\n",
       "      <td>6.907755278982137</td>\n",
       "      <td>7.6251071482389</td>\n",
       "      <td>5.551912567945351</td>\n",
       "      <td>2020</td>\n",
       "      <td>7.6251071482389</td>\n",
       "    </tr>\n",
       "  </tbody>\n",
       "</table>\n",
       "</div>"
      ],
      "text/plain": [
       "  summary           City        Date  AQIBucket                PM25  \\\n",
       "0   count          29531       29531      29531               29531   \n",
       "1    mean           None        None       None   3.885298540907494   \n",
       "2  stddev           None        None       None  0.8365433148467613   \n",
       "3     min      Ahmedabad  2015-01-01       Good  -3.218875847219943   \n",
       "4     max  Visakhapatnam  2020-07-01  Very Poor   6.856451447943681   \n",
       "\n",
       "                  SO2                 NO2                PM10  \\\n",
       "0               29531               29531               29531   \n",
       "1   2.268437447039912   3.013097707475154   4.538463300650038   \n",
       "2  0.7948147310071166  0.8575668774279026  0.7549119614561065   \n",
       "3  -4.605170208339834  -4.605170208339834  -4.605170208339834   \n",
       "4   5.267136252212876   5.892224130532889   6.907755278982137   \n",
       "\n",
       "                  AQI                  O3                year  \\\n",
       "0               24850               29531               29531   \n",
       "1  4.8710439371669905  3.3062695455988407  2017.8879143950426   \n",
       "2  0.6727330623650835  0.7399319467030515   1.533782540230627   \n",
       "3  2.5649493574615367  -4.605170208339834                2015   \n",
       "4     7.6251071482389   5.551912567945351                2020   \n",
       "\n",
       "                 AQII  \n",
       "0               29531  \n",
       "1   4.849190900839951  \n",
       "2  0.6724133761478859  \n",
       "3  2.5649493574615367  \n",
       "4     7.6251071482389  "
      ]
     },
     "execution_count": 63,
     "metadata": {},
     "output_type": "execute_result"
    }
   ],
   "source": [
    "\n",
    "spark_df_filled3.describe().toPandas()"
   ]
  },
  {
   "cell_type": "code",
   "execution_count": 64,
   "metadata": {},
   "outputs": [
    {
     "name": "stdout",
     "output_type": "stream",
     "text": [
      "root\n",
      " |-- City: string (nullable = true)\n",
      " |-- Date: string (nullable = true)\n",
      " |-- AQIBucket: string (nullable = true)\n",
      " |-- PM25: double (nullable = true)\n",
      " |-- SO2: double (nullable = false)\n",
      " |-- NO2: double (nullable = false)\n",
      " |-- PM10: double (nullable = false)\n",
      " |-- AQI: double (nullable = true)\n",
      " |-- O3: double (nullable = false)\n",
      " |-- year: integer (nullable = true)\n",
      " |-- AQII: double (nullable = true)\n",
      "\n"
     ]
    }
   ],
   "source": [
    "spark_df_filled3.printSchema()\n"
   ]
  },
  {
   "cell_type": "code",
   "execution_count": 65,
   "metadata": {},
   "outputs": [
    {
     "name": "stderr",
     "output_type": "stream",
     "text": [
      "[Stage 229:>                                                        (0 + 1) / 1]\r"
     ]
    },
    {
     "name": "stdout",
     "output_type": "stream",
     "text": [
      "+---------+----------+---------+------------------+------------------+------------------+-----------------+------------------+------------------+----+------------------+----------+\n",
      "|     City|      Date|AQIBucket|              PM25|               SO2|               NO2|             PM10|               AQI|                O3|year|              AQII|AQIB_index|\n",
      "+---------+----------+---------+------------------+------------------+------------------+-----------------+------------------+------------------+----+------------------+----------+\n",
      "|Ahmedabad|2015-07-24|     Good|3.3748533828233915| 2.608598116512439| 2.258633173576066|4.952582315213222|3.8712010109078907|1.6253112465718973|2015|3.8712010109078907|       4.0|\n",
      "|Ahmedabad|2015-02-05| Moderate| 4.066630734112974|3.4861510828703075| 3.062923494559879|4.952582315213222| 5.003946305945459| 3.980429055192082|2015| 5.003946305945459|       0.0|\n",
      "|Ahmedabad|2015-02-06| Moderate| 4.373112028830875| 4.210793429191253| 3.293612190806183|4.952582315213222| 5.247024072160486| 4.082609293137922|2015| 5.247024072160486|       0.0|\n",
      "|Ahmedabad|2015-02-26| Moderate| 4.112839127382558|2.2684374470398123|3.0130977074753162|4.952582315213222|              null| 3.306269545598628|2015| 5.241747015059643|       0.0|\n",
      "|Ahmedabad|2015-02-27| Moderate| 4.112839127382558|2.2684374470398123|3.0130977074753162|4.952582315213222|              null| 3.306269545598628|2015| 5.241747015059643|       0.0|\n",
      "|Ahmedabad|2015-02-28| Moderate| 4.112839127382558|2.2684374470398123|3.0130977074753162|4.952582315213222|              null| 3.306269545598628|2015| 5.241747015059643|       0.0|\n",
      "|Ahmedabad|2015-03-01| Moderate| 4.112839127382558| 3.347796623713437|2.8219739156502905|4.952582315213222|              null| 3.417070715799952|2015| 5.241747015059643|       0.0|\n",
      "|Ahmedabad|2015-03-02| Moderate| 4.107260767404687|3.3837120517931956|2.9019708434634395|4.952582315213222| 5.241747015059643| 3.548179572010801|2015| 5.241747015059643|       0.0|\n",
      "|Ahmedabad|2015-03-06| Moderate| 4.658236877984453|2.2684374470398123|3.0130977074753162|4.952582315213222|              null| 3.306269545598628|2015| 5.247024072160486|       0.0|\n",
      "|Ahmedabad|2015-03-07| Moderate| 4.658236877984453|3.3772461920969765| 2.778819295684189|4.952582315213222|              null| 4.247065671069219|2015| 5.247024072160486|       0.0|\n",
      "|Ahmedabad|2015-03-08| Moderate| 4.270536224523606|3.4104874512457837|2.8231630036695035|4.952582315213222| 5.247024072160486|4.0458543503921796|2015| 5.247024072160486|       0.0|\n",
      "|Ahmedabad|2015-03-16| Moderate|3.4262151520783353|3.7755157362866596| 2.649007684748678|4.952582315213222| 4.770684624465665| 4.003325141551195|2015| 4.770684624465665|       0.0|\n",
      "|Ahmedabad|2015-04-03| Moderate| 3.971611791089365| 3.697839210608093|2.6261167962573397|4.952582315213222|5.1298987149230735|3.0800734325062087|2015|5.1298987149230735|       0.0|\n",
      "|Ahmedabad|2015-04-10| Moderate| 4.902307462556211| 3.541828476049942| 3.268427621122788|4.952582315213222|              null|1.9459101490553132|2015| 4.836281906951478|       0.0|\n",
      "|Ahmedabad|2015-04-11| Moderate| 4.111857009797577| 2.089391863090684|2.6411978750816676|4.952582315213222| 4.836281906951478| 2.972463693468645|2015| 4.836281906951478|       0.0|\n",
      "|Ahmedabad|2015-04-12| Moderate|3.6742732552746826| 2.871302186535503| 2.973486637303112|4.952582315213222|5.1647859739235145|3.4436180731710446|2015|5.1647859739235145|       0.0|\n",
      "|Ahmedabad|2015-04-22| Moderate| 4.149148371115334|3.2104403829784154|2.5862591239406965|4.952582315213222| 5.241747015059643|3.7755157362866596|2015| 5.241747015059643|       0.0|\n",
      "|Ahmedabad|2015-05-06| Moderate| 4.176078156622931|3.1032405018244478|1.5216989814680268|4.952582315213222| 4.787491742782046|3.4738280206677126|2015| 4.787491742782046|       0.0|\n",
      "|Ahmedabad|2015-05-07| Moderate| 3.932413671154596| 2.740840023925201| 3.018960366129206|4.952582315213222| 5.062595033026967| 3.448080984547571|2015| 5.062595033026967|       0.0|\n",
      "|Ahmedabad|2015-05-08| Moderate|3.6566144817073045|3.0022111979610187|2.9590683247967924|4.952582315213222| 5.176149732573829|3.2464910215875338|2015| 5.176149732573829|       0.0|\n",
      "+---------+----------+---------+------------------+------------------+------------------+-----------------+------------------+------------------+----+------------------+----------+\n",
      "only showing top 20 rows\n",
      "\n"
     ]
    },
    {
     "name": "stderr",
     "output_type": "stream",
     "text": [
      "\r",
      "                                                                                \r"
     ]
    }
   ],
   "source": [
    "##transform with String Indexer and OneHotEncoder\n",
    "\n",
    "from pyspark.ml import Pipeline\n",
    "from pyspark.ml.feature import StringIndexer, OneHotEncoder\n",
    "\n",
    "\n",
    "indexer = StringIndexer(inputCol=\"AQIBucket\", outputCol=\"AQIB_index\").fit(spark_df_filled3)\n",
    "spark_df_ind = indexer.transform(spark_df_filled3)\n",
    "spark_df_ind.show()\n",
    "\n",
    "\n",
    "#df3 = encoded\n"
   ]
  },
  {
   "cell_type": "code",
   "execution_count": 66,
   "metadata": {},
   "outputs": [
    {
     "name": "stderr",
     "output_type": "stream",
     "text": [
      "\r",
      "[Stage 232:>                                                        (0 + 1) / 1]\r"
     ]
    },
    {
     "name": "stdout",
     "output_type": "stream",
     "text": [
      "+---------+----------+---------+------------------+------------------+------------------+-----------------+------------------+------------------+----+------------------+----------+\n",
      "|     City|      Date|AQIBucket|              PM25|               SO2|               NO2|             PM10|               AQI|                O3|year|              AQII|AQIB_index|\n",
      "+---------+----------+---------+------------------+------------------+------------------+-----------------+------------------+------------------+----+------------------+----------+\n",
      "|Ahmedabad|2015-07-24|     Good|3.3748533828233915| 2.608598116512439| 2.258633173576066|4.952582315213222|3.8712010109078907|1.6253112465718973|2015|3.8712010109078907|       4.0|\n",
      "|Ahmedabad|2015-02-05| Moderate| 4.066630734112974|3.4861510828703075| 3.062923494559879|4.952582315213222| 5.003946305945459| 3.980429055192082|2015| 5.003946305945459|       0.0|\n",
      "|Ahmedabad|2015-02-06| Moderate| 4.373112028830875| 4.210793429191253| 3.293612190806183|4.952582315213222| 5.247024072160486| 4.082609293137922|2015| 5.247024072160486|       0.0|\n",
      "|Ahmedabad|2015-02-26| Moderate| 4.112839127382558|2.2684374470398123|3.0130977074753162|4.952582315213222|              null| 3.306269545598628|2015| 5.241747015059643|       0.0|\n",
      "|Ahmedabad|2015-02-27| Moderate| 4.112839127382558|2.2684374470398123|3.0130977074753162|4.952582315213222|              null| 3.306269545598628|2015| 5.241747015059643|       0.0|\n",
      "|Ahmedabad|2015-02-28| Moderate| 4.112839127382558|2.2684374470398123|3.0130977074753162|4.952582315213222|              null| 3.306269545598628|2015| 5.241747015059643|       0.0|\n",
      "|Ahmedabad|2015-03-01| Moderate| 4.112839127382558| 3.347796623713437|2.8219739156502905|4.952582315213222|              null| 3.417070715799952|2015| 5.241747015059643|       0.0|\n",
      "|Ahmedabad|2015-03-02| Moderate| 4.107260767404687|3.3837120517931956|2.9019708434634395|4.952582315213222| 5.241747015059643| 3.548179572010801|2015| 5.241747015059643|       0.0|\n",
      "|Ahmedabad|2015-03-06| Moderate| 4.658236877984453|2.2684374470398123|3.0130977074753162|4.952582315213222|              null| 3.306269545598628|2015| 5.247024072160486|       0.0|\n",
      "|Ahmedabad|2015-03-07| Moderate| 4.658236877984453|3.3772461920969765| 2.778819295684189|4.952582315213222|              null| 4.247065671069219|2015| 5.247024072160486|       0.0|\n",
      "|Ahmedabad|2015-03-08| Moderate| 4.270536224523606|3.4104874512457837|2.8231630036695035|4.952582315213222| 5.247024072160486|4.0458543503921796|2015| 5.247024072160486|       0.0|\n",
      "|Ahmedabad|2015-03-16| Moderate|3.4262151520783353|3.7755157362866596| 2.649007684748678|4.952582315213222| 4.770684624465665| 4.003325141551195|2015| 4.770684624465665|       0.0|\n",
      "|Ahmedabad|2015-04-03| Moderate| 3.971611791089365| 3.697839210608093|2.6261167962573397|4.952582315213222|5.1298987149230735|3.0800734325062087|2015|5.1298987149230735|       0.0|\n",
      "|Ahmedabad|2015-04-10| Moderate| 4.902307462556211| 3.541828476049942| 3.268427621122788|4.952582315213222|              null|1.9459101490553132|2015| 4.836281906951478|       0.0|\n",
      "|Ahmedabad|2015-04-11| Moderate| 4.111857009797577| 2.089391863090684|2.6411978750816676|4.952582315213222| 4.836281906951478| 2.972463693468645|2015| 4.836281906951478|       0.0|\n",
      "|Ahmedabad|2015-04-12| Moderate|3.6742732552746826| 2.871302186535503| 2.973486637303112|4.952582315213222|5.1647859739235145|3.4436180731710446|2015|5.1647859739235145|       0.0|\n",
      "|Ahmedabad|2015-04-22| Moderate| 4.149148371115334|3.2104403829784154|2.5862591239406965|4.952582315213222| 5.241747015059643|3.7755157362866596|2015| 5.241747015059643|       0.0|\n",
      "|Ahmedabad|2015-05-06| Moderate| 4.176078156622931|3.1032405018244478|1.5216989814680268|4.952582315213222| 4.787491742782046|3.4738280206677126|2015| 4.787491742782046|       0.0|\n",
      "|Ahmedabad|2015-05-07| Moderate| 3.932413671154596| 2.740840023925201| 3.018960366129206|4.952582315213222| 5.062595033026967| 3.448080984547571|2015| 5.062595033026967|       0.0|\n",
      "|Ahmedabad|2015-05-08| Moderate|3.6566144817073045|3.0022111979610187|2.9590683247967924|4.952582315213222| 5.176149732573829|3.2464910215875338|2015| 5.176149732573829|       0.0|\n",
      "+---------+----------+---------+------------------+------------------+------------------+-----------------+------------------+------------------+----+------------------+----------+\n",
      "only showing top 20 rows\n",
      "\n"
     ]
    },
    {
     "name": "stderr",
     "output_type": "stream",
     "text": [
      "\r",
      "                                                                                \r"
     ]
    }
   ],
   "source": [
    "spark_df_ind.createOrReplaceTempView('pollution')\n",
    "\n",
    "res = spark.sql(\"select * from pollution\")\n",
    "res.show()\n",
    "\n"
   ]
  },
  {
   "cell_type": "code",
   "execution_count": 67,
   "metadata": {},
   "outputs": [
    {
     "name": "stderr",
     "output_type": "stream",
     "text": [
      "                                                                                \r"
     ]
    },
    {
     "name": "stdout",
     "output_type": "stream",
     "text": [
      "+------------+----------+-----------------+---------+----+\n",
      "|   AQIBucket|AQIB_index|count(AQIB_index)|     city|year|\n",
      "+------------+----------+-----------------+---------+----+\n",
      "|        Poor|       2.0|              163|Ahmedabad|2015|\n",
      "|   Very Poor|       3.0|               58|Ahmedabad|2015|\n",
      "|      Severe|       5.0|               55|Ahmedabad|2015|\n",
      "|    Moderate|       0.0|               79|Ahmedabad|2015|\n",
      "|Satisfactory|       1.0|                9|Ahmedabad|2015|\n",
      "|        Good|       4.0|                1|Ahmedabad|2015|\n",
      "|        Poor|       2.0|              247|Ahmedabad|2016|\n",
      "|    Moderate|       0.0|               69|Ahmedabad|2016|\n",
      "|      Severe|       5.0|               27|Ahmedabad|2016|\n",
      "|Satisfactory|       1.0|                3|Ahmedabad|2016|\n",
      "|   Very Poor|       3.0|               20|Ahmedabad|2016|\n",
      "|    Moderate|       0.0|              293|Ahmedabad|2017|\n",
      "|   Very Poor|       3.0|               21|Ahmedabad|2017|\n",
      "|Satisfactory|       1.0|                1|Ahmedabad|2017|\n",
      "|      Severe|       5.0|               41|Ahmedabad|2017|\n",
      "|        Poor|       2.0|                9|Ahmedabad|2017|\n",
      "|        Poor|       2.0|               32|Ahmedabad|2018|\n",
      "|      Severe|       5.0|              283|Ahmedabad|2018|\n",
      "|   Very Poor|       3.0|               44|Ahmedabad|2018|\n",
      "|    Moderate|       0.0|                6|Ahmedabad|2018|\n",
      "+------------+----------+-----------------+---------+----+\n",
      "only showing top 20 rows\n",
      "\n"
     ]
    },
    {
     "name": "stderr",
     "output_type": "stream",
     "text": [
      "\r",
      "[Stage 238:>                                                        (0 + 1) / 1]\r"
     ]
    },
    {
     "name": "stdout",
     "output_type": "stream",
     "text": [
      "+---------+----------+---------+------------------+------------------+------------------+-----------------+------------------+------------------+----+------------------+----------+\n",
      "|     City|      Date|AQIBucket|              PM25|               SO2|               NO2|             PM10|               AQI|                O3|year|              AQII|AQIB_index|\n",
      "+---------+----------+---------+------------------+------------------+------------------+-----------------+------------------+------------------+----+------------------+----------+\n",
      "|Ahmedabad|2015-07-24|     Good|3.3748533828233915| 2.608598116512439| 2.258633173576066|4.952582315213222|3.8712010109078907|1.6253112465718973|2015|3.8712010109078907|       4.0|\n",
      "|Ahmedabad|2015-02-05| Moderate| 4.066630734112974|3.4861510828703075| 3.062923494559879|4.952582315213222| 5.003946305945459| 3.980429055192082|2015| 5.003946305945459|       0.0|\n",
      "|Ahmedabad|2015-02-06| Moderate| 4.373112028830875| 4.210793429191253| 3.293612190806183|4.952582315213222| 5.247024072160486| 4.082609293137922|2015| 5.247024072160486|       0.0|\n",
      "|Ahmedabad|2015-02-26| Moderate| 4.112839127382558|2.2684374470398123|3.0130977074753162|4.952582315213222|              null| 3.306269545598628|2015| 5.241747015059643|       0.0|\n",
      "|Ahmedabad|2015-02-27| Moderate| 4.112839127382558|2.2684374470398123|3.0130977074753162|4.952582315213222|              null| 3.306269545598628|2015| 5.241747015059643|       0.0|\n",
      "|Ahmedabad|2015-02-28| Moderate| 4.112839127382558|2.2684374470398123|3.0130977074753162|4.952582315213222|              null| 3.306269545598628|2015| 5.241747015059643|       0.0|\n",
      "|Ahmedabad|2015-03-01| Moderate| 4.112839127382558| 3.347796623713437|2.8219739156502905|4.952582315213222|              null| 3.417070715799952|2015| 5.241747015059643|       0.0|\n",
      "|Ahmedabad|2015-03-02| Moderate| 4.107260767404687|3.3837120517931956|2.9019708434634395|4.952582315213222| 5.241747015059643| 3.548179572010801|2015| 5.241747015059643|       0.0|\n",
      "|Ahmedabad|2015-03-06| Moderate| 4.658236877984453|2.2684374470398123|3.0130977074753162|4.952582315213222|              null| 3.306269545598628|2015| 5.247024072160486|       0.0|\n",
      "|Ahmedabad|2015-03-07| Moderate| 4.658236877984453|3.3772461920969765| 2.778819295684189|4.952582315213222|              null| 4.247065671069219|2015| 5.247024072160486|       0.0|\n",
      "|Ahmedabad|2015-03-08| Moderate| 4.270536224523606|3.4104874512457837|2.8231630036695035|4.952582315213222| 5.247024072160486|4.0458543503921796|2015| 5.247024072160486|       0.0|\n",
      "|Ahmedabad|2015-03-16| Moderate|3.4262151520783353|3.7755157362866596| 2.649007684748678|4.952582315213222| 4.770684624465665| 4.003325141551195|2015| 4.770684624465665|       0.0|\n",
      "|Ahmedabad|2015-04-03| Moderate| 3.971611791089365| 3.697839210608093|2.6261167962573397|4.952582315213222|5.1298987149230735|3.0800734325062087|2015|5.1298987149230735|       0.0|\n",
      "|Ahmedabad|2015-04-10| Moderate| 4.902307462556211| 3.541828476049942| 3.268427621122788|4.952582315213222|              null|1.9459101490553132|2015| 4.836281906951478|       0.0|\n",
      "|Ahmedabad|2015-04-11| Moderate| 4.111857009797577| 2.089391863090684|2.6411978750816676|4.952582315213222| 4.836281906951478| 2.972463693468645|2015| 4.836281906951478|       0.0|\n",
      "|Ahmedabad|2015-04-12| Moderate|3.6742732552746826| 2.871302186535503| 2.973486637303112|4.952582315213222|5.1647859739235145|3.4436180731710446|2015|5.1647859739235145|       0.0|\n",
      "|Ahmedabad|2015-04-22| Moderate| 4.149148371115334|3.2104403829784154|2.5862591239406965|4.952582315213222| 5.241747015059643|3.7755157362866596|2015| 5.241747015059643|       0.0|\n",
      "|Ahmedabad|2015-05-06| Moderate| 4.176078156622931|3.1032405018244478|1.5216989814680268|4.952582315213222| 4.787491742782046|3.4738280206677126|2015| 4.787491742782046|       0.0|\n",
      "|Ahmedabad|2015-05-07| Moderate| 3.932413671154596| 2.740840023925201| 3.018960366129206|4.952582315213222| 5.062595033026967| 3.448080984547571|2015| 5.062595033026967|       0.0|\n",
      "|Ahmedabad|2015-05-08| Moderate|3.6566144817073045|3.0022111979610187|2.9590683247967924|4.952582315213222| 5.176149732573829|3.2464910215875338|2015| 5.176149732573829|       0.0|\n",
      "+---------+----------+---------+------------------+------------------+------------------+-----------------+------------------+------------------+----+------------------+----------+\n",
      "only showing top 20 rows\n",
      "\n"
     ]
    },
    {
     "name": "stderr",
     "output_type": "stream",
     "text": [
      "\r",
      "                                                                                \r"
     ]
    }
   ],
   "source": [
    "# First, we have to register the DataFrame as a SQL temporary view.\n",
    "spark_df_ind.createOrReplaceTempView('pollution')\n",
    "\n",
    "results4 = spark.sql(\"SELECT AQIBucket ,AQIB_index, count(AQIB_index), city,year FROM pollution group by AQIBucket, AQIB_index, city,year\")\n",
    "results4.show()\n",
    "result = spark.sql(\"Select * from pollution\")\n",
    "result.show()"
   ]
  },
  {
   "cell_type": "code",
   "execution_count": 68,
   "metadata": {},
   "outputs": [
    {
     "name": "stderr",
     "output_type": "stream",
     "text": [
      "\r",
      "[Stage 241:>                                                        (0 + 1) / 1]\r"
     ]
    },
    {
     "name": "stdout",
     "output_type": "stream",
     "text": [
      "+---------+----------+---------+------------------+------------------+------------------+-----------------+------------------+------------------+----+------------------+----------+-------------+\n",
      "|     City|      Date|AQIBucket|              PM25|               SO2|               NO2|             PM10|               AQI|                O3|year|              AQII|AQIB_index|     AQIB_vec|\n",
      "+---------+----------+---------+------------------+------------------+------------------+-----------------+------------------+------------------+----+------------------+----------+-------------+\n",
      "|Ahmedabad|2015-07-24|     Good|3.3748533828233915| 2.608598116512439| 2.258633173576066|4.952582315213222|3.8712010109078907|1.6253112465718973|2015|3.8712010109078907|       4.0|(5,[4],[1.0])|\n",
      "|Ahmedabad|2015-02-05| Moderate| 4.066630734112974|3.4861510828703075| 3.062923494559879|4.952582315213222| 5.003946305945459| 3.980429055192082|2015| 5.003946305945459|       0.0|(5,[0],[1.0])|\n",
      "|Ahmedabad|2015-02-06| Moderate| 4.373112028830875| 4.210793429191253| 3.293612190806183|4.952582315213222| 5.247024072160486| 4.082609293137922|2015| 5.247024072160486|       0.0|(5,[0],[1.0])|\n",
      "|Ahmedabad|2015-02-26| Moderate| 4.112839127382558|2.2684374470398123|3.0130977074753162|4.952582315213222|              null| 3.306269545598628|2015| 5.241747015059643|       0.0|(5,[0],[1.0])|\n",
      "|Ahmedabad|2015-02-27| Moderate| 4.112839127382558|2.2684374470398123|3.0130977074753162|4.952582315213222|              null| 3.306269545598628|2015| 5.241747015059643|       0.0|(5,[0],[1.0])|\n",
      "|Ahmedabad|2015-02-28| Moderate| 4.112839127382558|2.2684374470398123|3.0130977074753162|4.952582315213222|              null| 3.306269545598628|2015| 5.241747015059643|       0.0|(5,[0],[1.0])|\n",
      "|Ahmedabad|2015-03-01| Moderate| 4.112839127382558| 3.347796623713437|2.8219739156502905|4.952582315213222|              null| 3.417070715799952|2015| 5.241747015059643|       0.0|(5,[0],[1.0])|\n",
      "|Ahmedabad|2015-03-02| Moderate| 4.107260767404687|3.3837120517931956|2.9019708434634395|4.952582315213222| 5.241747015059643| 3.548179572010801|2015| 5.241747015059643|       0.0|(5,[0],[1.0])|\n",
      "|Ahmedabad|2015-03-06| Moderate| 4.658236877984453|2.2684374470398123|3.0130977074753162|4.952582315213222|              null| 3.306269545598628|2015| 5.247024072160486|       0.0|(5,[0],[1.0])|\n",
      "|Ahmedabad|2015-03-07| Moderate| 4.658236877984453|3.3772461920969765| 2.778819295684189|4.952582315213222|              null| 4.247065671069219|2015| 5.247024072160486|       0.0|(5,[0],[1.0])|\n",
      "|Ahmedabad|2015-03-08| Moderate| 4.270536224523606|3.4104874512457837|2.8231630036695035|4.952582315213222| 5.247024072160486|4.0458543503921796|2015| 5.247024072160486|       0.0|(5,[0],[1.0])|\n",
      "|Ahmedabad|2015-03-16| Moderate|3.4262151520783353|3.7755157362866596| 2.649007684748678|4.952582315213222| 4.770684624465665| 4.003325141551195|2015| 4.770684624465665|       0.0|(5,[0],[1.0])|\n",
      "|Ahmedabad|2015-04-03| Moderate| 3.971611791089365| 3.697839210608093|2.6261167962573397|4.952582315213222|5.1298987149230735|3.0800734325062087|2015|5.1298987149230735|       0.0|(5,[0],[1.0])|\n",
      "|Ahmedabad|2015-04-10| Moderate| 4.902307462556211| 3.541828476049942| 3.268427621122788|4.952582315213222|              null|1.9459101490553132|2015| 4.836281906951478|       0.0|(5,[0],[1.0])|\n",
      "|Ahmedabad|2015-04-11| Moderate| 4.111857009797577| 2.089391863090684|2.6411978750816676|4.952582315213222| 4.836281906951478| 2.972463693468645|2015| 4.836281906951478|       0.0|(5,[0],[1.0])|\n",
      "|Ahmedabad|2015-04-12| Moderate|3.6742732552746826| 2.871302186535503| 2.973486637303112|4.952582315213222|5.1647859739235145|3.4436180731710446|2015|5.1647859739235145|       0.0|(5,[0],[1.0])|\n",
      "|Ahmedabad|2015-04-22| Moderate| 4.149148371115334|3.2104403829784154|2.5862591239406965|4.952582315213222| 5.241747015059643|3.7755157362866596|2015| 5.241747015059643|       0.0|(5,[0],[1.0])|\n",
      "|Ahmedabad|2015-05-06| Moderate| 4.176078156622931|3.1032405018244478|1.5216989814680268|4.952582315213222| 4.787491742782046|3.4738280206677126|2015| 4.787491742782046|       0.0|(5,[0],[1.0])|\n",
      "|Ahmedabad|2015-05-07| Moderate| 3.932413671154596| 2.740840023925201| 3.018960366129206|4.952582315213222| 5.062595033026967| 3.448080984547571|2015| 5.062595033026967|       0.0|(5,[0],[1.0])|\n",
      "|Ahmedabad|2015-05-08| Moderate|3.6566144817073045|3.0022111979610187|2.9590683247967924|4.952582315213222| 5.176149732573829|3.2464910215875338|2015| 5.176149732573829|       0.0|(5,[0],[1.0])|\n",
      "+---------+----------+---------+------------------+------------------+------------------+-----------------+------------------+------------------+----+------------------+----------+-------------+\n",
      "only showing top 20 rows\n",
      "\n"
     ]
    },
    {
     "name": "stderr",
     "output_type": "stream",
     "text": [
      "\r",
      "                                                                                \r"
     ]
    }
   ],
   "source": [
    "###one hot encoder\n",
    "from pyspark.ml import Pipeline\n",
    "from pyspark.ml.feature import StringIndexer, OneHotEncoder\n",
    "\n",
    "encoder = OneHotEncoder(inputCol=\"AQIB_index\", outputCol=\"AQIB_vec\")\n",
    "ohe = encoder.fit(spark_df_ind) # indexer is the existing dataframe, see the question\n",
    "encoded = ohe.transform(spark_df_ind)\n",
    "encoded.show()"
   ]
  },
  {
   "cell_type": "code",
   "execution_count": null,
   "metadata": {},
   "outputs": [],
   "source": [
    "\n",
    "\n"
   ]
  },
  {
   "cell_type": "code",
   "execution_count": 69,
   "metadata": {},
   "outputs": [],
   "source": [
    "catCols = ['AQIBucket']\n",
    "numCols = ['PM25','PM10','NO2','SO2','O3']\n",
    "numcolout = ['AQII']"
   ]
  },
  {
   "cell_type": "code",
   "execution_count": null,
   "metadata": {},
   "outputs": [],
   "source": []
  },
  {
   "cell_type": "code",
   "execution_count": 70,
   "metadata": {},
   "outputs": [
    {
     "name": "stdout",
     "output_type": "stream",
     "text": [
      "['PM25', 'PM10', 'NO2', 'SO2', 'O3']\n",
      "['AQIBucket']\n",
      "['AQII']\n"
     ]
    }
   ],
   "source": [
    "print(numCols)\n",
    "print(catCols)\n",
    "print(numcolout)"
   ]
  },
  {
   "cell_type": "code",
   "execution_count": 71,
   "metadata": {},
   "outputs": [
    {
     "name": "stderr",
     "output_type": "stream",
     "text": [
      "\r",
      "[Stage 244:>                                                        (0 + 1) / 1]\r"
     ]
    },
    {
     "name": "stdout",
     "output_type": "stream",
     "text": [
      "+---------+----------+---------+------------------+------------------+------------------+-----------------+------------------+------------------+----+------------------+\n",
      "|     City|      Date|AQIBucket|              PM25|               SO2|               NO2|             PM10|               AQI|                O3|year|              AQII|\n",
      "+---------+----------+---------+------------------+------------------+------------------+-----------------+------------------+------------------+----+------------------+\n",
      "|Ahmedabad|2015-07-24|     Good|3.3748533828233915| 2.608598116512439| 2.258633173576066|4.952582315213222|3.8712010109078907|1.6253112465718973|2015|3.8712010109078907|\n",
      "|Ahmedabad|2015-02-05| Moderate| 4.066630734112974|3.4861510828703075| 3.062923494559879|4.952582315213222| 5.003946305945459| 3.980429055192082|2015| 5.003946305945459|\n",
      "|Ahmedabad|2015-02-06| Moderate| 4.373112028830875| 4.210793429191253| 3.293612190806183|4.952582315213222| 5.247024072160486| 4.082609293137922|2015| 5.247024072160486|\n",
      "|Ahmedabad|2015-02-26| Moderate| 4.112839127382558|2.2684374470398123|3.0130977074753162|4.952582315213222|              null| 3.306269545598628|2015| 5.241747015059643|\n",
      "|Ahmedabad|2015-02-27| Moderate| 4.112839127382558|2.2684374470398123|3.0130977074753162|4.952582315213222|              null| 3.306269545598628|2015| 5.241747015059643|\n",
      "|Ahmedabad|2015-02-28| Moderate| 4.112839127382558|2.2684374470398123|3.0130977074753162|4.952582315213222|              null| 3.306269545598628|2015| 5.241747015059643|\n",
      "|Ahmedabad|2015-03-01| Moderate| 4.112839127382558| 3.347796623713437|2.8219739156502905|4.952582315213222|              null| 3.417070715799952|2015| 5.241747015059643|\n",
      "|Ahmedabad|2015-03-02| Moderate| 4.107260767404687|3.3837120517931956|2.9019708434634395|4.952582315213222| 5.241747015059643| 3.548179572010801|2015| 5.241747015059643|\n",
      "|Ahmedabad|2015-03-06| Moderate| 4.658236877984453|2.2684374470398123|3.0130977074753162|4.952582315213222|              null| 3.306269545598628|2015| 5.247024072160486|\n",
      "|Ahmedabad|2015-03-07| Moderate| 4.658236877984453|3.3772461920969765| 2.778819295684189|4.952582315213222|              null| 4.247065671069219|2015| 5.247024072160486|\n",
      "|Ahmedabad|2015-03-08| Moderate| 4.270536224523606|3.4104874512457837|2.8231630036695035|4.952582315213222| 5.247024072160486|4.0458543503921796|2015| 5.247024072160486|\n",
      "|Ahmedabad|2015-03-16| Moderate|3.4262151520783353|3.7755157362866596| 2.649007684748678|4.952582315213222| 4.770684624465665| 4.003325141551195|2015| 4.770684624465665|\n",
      "|Ahmedabad|2015-04-03| Moderate| 3.971611791089365| 3.697839210608093|2.6261167962573397|4.952582315213222|5.1298987149230735|3.0800734325062087|2015|5.1298987149230735|\n",
      "|Ahmedabad|2015-04-10| Moderate| 4.902307462556211| 3.541828476049942| 3.268427621122788|4.952582315213222|              null|1.9459101490553132|2015| 4.836281906951478|\n",
      "|Ahmedabad|2015-04-11| Moderate| 4.111857009797577| 2.089391863090684|2.6411978750816676|4.952582315213222| 4.836281906951478| 2.972463693468645|2015| 4.836281906951478|\n",
      "|Ahmedabad|2015-04-12| Moderate|3.6742732552746826| 2.871302186535503| 2.973486637303112|4.952582315213222|5.1647859739235145|3.4436180731710446|2015|5.1647859739235145|\n",
      "|Ahmedabad|2015-04-22| Moderate| 4.149148371115334|3.2104403829784154|2.5862591239406965|4.952582315213222| 5.241747015059643|3.7755157362866596|2015| 5.241747015059643|\n",
      "|Ahmedabad|2015-05-06| Moderate| 4.176078156622931|3.1032405018244478|1.5216989814680268|4.952582315213222| 4.787491742782046|3.4738280206677126|2015| 4.787491742782046|\n",
      "|Ahmedabad|2015-05-07| Moderate| 3.932413671154596| 2.740840023925201| 3.018960366129206|4.952582315213222| 5.062595033026967| 3.448080984547571|2015| 5.062595033026967|\n",
      "|Ahmedabad|2015-05-08| Moderate|3.6566144817073045|3.0022111979610187|2.9590683247967924|4.952582315213222| 5.176149732573829|3.2464910215875338|2015| 5.176149732573829|\n",
      "+---------+----------+---------+------------------+------------------+------------------+-----------------+------------------+------------------+----+------------------+\n",
      "only showing top 20 rows\n",
      "\n"
     ]
    },
    {
     "name": "stderr",
     "output_type": "stream",
     "text": [
      "\r",
      "                                                                                \r"
     ]
    }
   ],
   "source": [
    "spark_df_filled3.show()"
   ]
  },
  {
   "cell_type": "code",
   "execution_count": 72,
   "metadata": {},
   "outputs": [],
   "source": [
    "from pyspark.ml.feature import VectorAssembler, StandardScaler\n",
    "\n",
    "va = VectorAssembler(inputCols=numCols, outputCol=\"SS_features\")\n"
   ]
  },
  {
   "cell_type": "code",
   "execution_count": 73,
   "metadata": {},
   "outputs": [
    {
     "name": "stderr",
     "output_type": "stream",
     "text": [
      "\r",
      "[Stage 247:>                                                        (0 + 1) / 1]\r"
     ]
    },
    {
     "name": "stdout",
     "output_type": "stream",
     "text": [
      "+---------+----------+---------+------------------+------------------+-----------------+-----------------+------------------+------------------+----+------------------+---------------------------------------------------------------------------------------------+\n",
      "|City     |Date      |AQIBucket|PM25              |SO2               |NO2              |PM10             |AQI               |O3                |year|AQII              |SS_features                                                                                  |\n",
      "+---------+----------+---------+------------------+------------------+-----------------+-----------------+------------------+------------------+----+------------------+---------------------------------------------------------------------------------------------+\n",
      "|Ahmedabad|2015-07-24|Good     |3.3748533828233915|2.608598116512439 |2.258633173576066|4.952582315213222|3.8712010109078907|1.6253112465718973|2015|3.8712010109078907|[3.3748533828233915,4.952582315213222,2.258633173576066,2.608598116512439,1.6253112465718973]|\n",
      "|Ahmedabad|2015-02-05|Moderate |4.066630734112974 |3.4861510828703075|3.062923494559879|4.952582315213222|5.003946305945459 |3.980429055192082 |2015|5.003946305945459 |[4.066630734112974,4.952582315213222,3.062923494559879,3.4861510828703075,3.980429055192082] |\n",
      "+---------+----------+---------+------------------+------------------+-----------------+-----------------+------------------+------------------+----+------------------+---------------------------------------------------------------------------------------------+\n",
      "only showing top 2 rows\n",
      "\n"
     ]
    },
    {
     "name": "stderr",
     "output_type": "stream",
     "text": [
      "\r",
      "                                                                                \r"
     ]
    }
   ],
   "source": [
    "temp_train = va.transform(spark_df_filled3)\n",
    "\n",
    "temp_train.show(2, truncate=False)\n"
   ]
  },
  {
   "cell_type": "code",
   "execution_count": 74,
   "metadata": {},
   "outputs": [
    {
     "name": "stdout",
     "output_type": "stream",
     "text": [
      "+---------------------------------------------------------------------------------------------+\n",
      "|SS_features                                                                                  |\n",
      "+---------------------------------------------------------------------------------------------+\n",
      "|[4.293741690638772,4.952582315213222,2.9025198541454498,3.319263976817285,4.89305224301926]  |\n",
      "|[4.293741690638772,4.952582315213222,2.753023540000728,3.200711823163566,3.528123715554301]  |\n",
      "|[4.293741690638772,4.952582315213222,2.9601050563802973,3.3697067040728217,3.424262679444599]|\n",
      "|[4.293741690638772,4.952582315213222,2.916689041442776,2.9226238099414155,3.5857387459442744]|\n",
      "|[4.293741690638772,4.952582315213222,3.0643250685814114,3.6719876329999,3.6714789743686707]  |\n",
      "+---------------------------------------------------------------------------------------------+\n",
      "only showing top 5 rows\n",
      "\n"
     ]
    }
   ],
   "source": [
    "temp_train.select(\"SS_features\").show(5,truncate=False)"
   ]
  },
  {
   "cell_type": "code",
   "execution_count": 75,
   "metadata": {},
   "outputs": [
    {
     "name": "stderr",
     "output_type": "stream",
     "text": [
      "                                                                                \r"
     ]
    },
    {
     "name": "stdout",
     "output_type": "stream",
     "text": [
      "+---------------------------------------------------------------------------------------------+\n",
      "|Scaled                                                                                       |\n",
      "+---------------------------------------------------------------------------------------------+\n",
      "|[5.132718909391202,6.560476675532454,3.384598834846532,4.1761480346638615,6.612840903574262] |\n",
      "|[5.132718909391202,6.560476675532454,3.2102727057951093,4.026991068859391,4.7681732506276155]|\n",
      "|[5.132718909391202,6.560476675532454,3.4517483525699344,4.239612796057526,4.627807590552414] |\n",
      "|[5.132718909391202,6.560476675532454,3.4011213798168134,3.677113289329839,4.846038560601987] |\n",
      "|[5.132718909391202,6.560476675532454,3.5732782471406073,4.619929009553032,4.96191439054342]  |\n",
      "+---------------------------------------------------------------------------------------------+\n",
      "only showing top 5 rows\n",
      "\n"
     ]
    }
   ],
   "source": [
    "ss=StandardScaler(inputCol=\"SS_features\", outputCol=\"Scaled\")\n",
    "train1 = ss.fit(temp_train).transform(temp_train)\n",
    "train1.select(\"Scaled\").show(5,truncate=False)"
   ]
  },
  {
   "cell_type": "code",
   "execution_count": 76,
   "metadata": {},
   "outputs": [
    {
     "name": "stderr",
     "output_type": "stream",
     "text": [
      "\r",
      "[Stage 262:>                                                        (0 + 1) / 1]\r"
     ]
    },
    {
     "name": "stdout",
     "output_type": "stream",
     "text": [
      "+---------+----------+---------+------------------+------------------+------------------+-----------------+------------------+------------------+----+------------------+--------------------+--------------------+\n",
      "|     City|      Date|AQIBucket|              PM25|               SO2|               NO2|             PM10|               AQI|                O3|year|              AQII|         SS_features|              Scaled|\n",
      "+---------+----------+---------+------------------+------------------+------------------+-----------------+------------------+------------------+----+------------------+--------------------+--------------------+\n",
      "|Ahmedabad|2015-07-24|     Good|3.3748533828233915| 2.608598116512439| 2.258633173576066|4.952582315213222|3.8712010109078907|1.6253112465718973|2015|3.8712010109078907|[3.37485338282339...|[4.03428408658265...|\n",
      "|Ahmedabad|2015-02-05| Moderate| 4.066630734112974|3.4861510828703075| 3.062923494559879|4.952582315213222| 5.003946305945459| 3.980429055192082|2015| 5.003946305945459|[4.06663073411297...|[4.86123152494249...|\n",
      "|Ahmedabad|2015-02-06| Moderate| 4.373112028830875| 4.210793429191253| 3.293612190806183|4.952582315213222| 5.247024072160486| 4.082609293137922|2015| 5.247024072160486|[4.37311202883087...|[5.22759784367166...|\n",
      "|Ahmedabad|2015-02-26| Moderate| 4.112839127382558|2.2684374470398123|3.0130977074753162|4.952582315213222|              null| 3.306269545598628|2015| 5.241747015059643|[4.11283912738255...|[4.91646882401534...|\n",
      "|Ahmedabad|2015-02-27| Moderate| 4.112839127382558|2.2684374470398123|3.0130977074753162|4.952582315213222|              null| 3.306269545598628|2015| 5.241747015059643|[4.11283912738255...|[4.91646882401534...|\n",
      "|Ahmedabad|2015-02-28| Moderate| 4.112839127382558|2.2684374470398123|3.0130977074753162|4.952582315213222|              null| 3.306269545598628|2015| 5.241747015059643|[4.11283912738255...|[4.91646882401534...|\n",
      "|Ahmedabad|2015-03-01| Moderate| 4.112839127382558| 3.347796623713437|2.8219739156502905|4.952582315213222|              null| 3.417070715799952|2015| 5.241747015059643|[4.11283912738255...|[4.91646882401534...|\n",
      "|Ahmedabad|2015-03-02| Moderate| 4.107260767404687|3.3837120517931956|2.9019708434634395|4.952582315213222| 5.241747015059643| 3.548179572010801|2015| 5.241747015059643|[4.10726076740468...|[4.90980047836142...|\n",
      "|Ahmedabad|2015-03-06| Moderate| 4.658236877984453|2.2684374470398123|3.0130977074753162|4.952582315213222|              null| 3.306269545598628|2015| 5.247024072160486|[4.65823687798445...|[5.56843476639072...|\n",
      "|Ahmedabad|2015-03-07| Moderate| 4.658236877984453|3.3772461920969765| 2.778819295684189|4.952582315213222|              null| 4.247065671069219|2015| 5.247024072160486|[4.65823687798445...|[5.56843476639072...|\n",
      "|Ahmedabad|2015-03-08| Moderate| 4.270536224523606|3.4104874512457837|2.8231630036695035|4.952582315213222| 5.247024072160486|4.0458543503921796|2015| 5.247024072160486|[4.27053622452360...|[5.10497920278746...|\n",
      "|Ahmedabad|2015-03-16| Moderate|3.4262151520783353|3.7755157362866596| 2.649007684748678|4.952582315213222| 4.770684624465665| 4.003325141551195|2015| 4.770684624465665|[3.42621515207833...|[4.09568170741517...|\n",
      "|Ahmedabad|2015-04-03| Moderate| 3.971611791089365| 3.697839210608093|2.6261167962573397|4.952582315213222|5.1298987149230735|3.0800734325062087|2015|5.1298987149230735|[3.97161179108936...|[4.74764632099999...|\n",
      "|Ahmedabad|2015-04-10| Moderate| 4.902307462556211| 3.541828476049942| 3.268427621122788|4.952582315213222|              null|1.9459101490553132|2015| 4.836281906951478|[4.90230746255621...|[5.86019561157358...|\n",
      "|Ahmedabad|2015-04-11| Moderate| 4.111857009797577| 2.089391863090684|2.6411978750816676|4.952582315213222| 4.836281906951478| 2.972463693468645|2015| 4.836281906951478|[4.11185700979757...|[4.91529480520777...|\n",
      "|Ahmedabad|2015-04-12| Moderate|3.6742732552746826| 2.871302186535503| 2.973486637303112|4.952582315213222|5.1647859739235145|3.4436180731710446|2015|5.1647859739235145|[3.67427325527468...|[4.39220921387404...|\n",
      "|Ahmedabad|2015-04-22| Moderate| 4.149148371115334|3.2104403829784154|2.5862591239406965|4.952582315213222| 5.241747015059643|3.7755157362866596|2015| 5.241747015059643|[4.14914837111533...|[4.95987272562853...|\n",
      "|Ahmedabad|2015-05-06| Moderate| 4.176078156622931|3.1032405018244478|1.5216989814680268|4.952582315213222| 4.787491742782046|3.4738280206677126|2015| 4.787491742782046|[4.17607815662293...|[4.99206446636646...|\n",
      "|Ahmedabad|2015-05-07| Moderate| 3.932413671154596| 2.740840023925201| 3.018960366129206|4.952582315213222| 5.062595033026967| 3.448080984547571|2015| 5.062595033026967|[3.93241367115459...|[4.70078907016899...|\n",
      "|Ahmedabad|2015-05-08| Moderate|3.6566144817073045|3.0022111979610187|2.9590683247967924|4.952582315213222| 5.176149732573829|3.2464910215875338|2015| 5.176149732573829|[3.65661448170730...|[4.37109999782512...|\n",
      "+---------+----------+---------+------------------+------------------+------------------+-----------------+------------------+------------------+----+------------------+--------------------+--------------------+\n",
      "only showing top 20 rows\n",
      "\n"
     ]
    },
    {
     "name": "stderr",
     "output_type": "stream",
     "text": [
      "\r",
      "                                                                                \r"
     ]
    }
   ],
   "source": [
    "train1.show()"
   ]
  },
  {
   "cell_type": "code",
   "execution_count": 141,
   "metadata": {},
   "outputs": [
    {
     "name": "stderr",
     "output_type": "stream",
     "text": [
      "                                                                                \r"
     ]
    },
    {
     "name": "stdout",
     "output_type": "stream",
     "text": [
      "+--------------------+\n",
      "|            MMScaled|\n",
      "+--------------------+\n",
      "|[0.74564501159827...|\n",
      "|[0.74564501159827...|\n",
      "|[0.74564501159827...|\n",
      "|[0.74564501159827...|\n",
      "|[0.74564501159827...|\n",
      "+--------------------+\n",
      "only showing top 5 rows\n",
      "\n"
     ]
    }
   ],
   "source": [
    "from pyspark.ml.feature import MinMaxScaler\n",
    "mms = MinMaxScaler(inputCol=\"SS_features\", outputCol=\"MMScaled\")\n",
    "train = mms.fit(temp_train).transform(temp_train)\n",
    "train.select(\"MMScaled\").show(5)"
   ]
  },
  {
   "cell_type": "code",
   "execution_count": 142,
   "metadata": {},
   "outputs": [
    {
     "name": "stderr",
     "output_type": "stream",
     "text": [
      "\r",
      "[Stage 1767:>                                                       (0 + 1) / 1]\r"
     ]
    },
    {
     "name": "stdout",
     "output_type": "stream",
     "text": [
      "+---------+----------+---------+------------------+------------------+-----------------+-----------------+------------------+------------------+----+------------------+---------------------------------------------------------------------------------------------+------------------------------------------------------------------------------------------------+\n",
      "|City     |Date      |AQIBucket|PM25              |SO2               |NO2              |PM10             |AQI               |O3                |year|AQII              |SS_features                                                                                  |MMScaled                                                                                        |\n",
      "+---------+----------+---------+------------------+------------------+-----------------+-----------------+------------------+------------------+----+------------------+---------------------------------------------------------------------------------------------+------------------------------------------------------------------------------------------------+\n",
      "|Ahmedabad|2015-07-24|Good     |3.3748533828233915|2.608598116512439 |2.258633173576066|4.952582315213222|3.8712010109078907|1.6253112465718973|2015|3.8712010109078907|[3.3748533828233915,4.952582315213222,2.258633173576066,2.608598116512439,1.6253112465718973]|[0.6544431795489628,0.8301758344634514,0.6538578203639226,0.730707495120487,0.6134124917696541] |\n",
      "|Ahmedabad|2015-02-05|Moderate |4.066630734112974 |3.4861510828703075|3.062923494559879|4.952582315213222|5.003946305945459 |3.980429055192082 |2015|5.003946305945459 |[4.066630734112974,4.952582315213222,3.062923494559879,3.4861510828703075,3.980429055192082] |[0.7231037134476135,0.8301758344634514,0.7304759119607542,0.8195978643431557,0.8452820019915188]|\n",
      "+---------+----------+---------+------------------+------------------+-----------------+-----------------+------------------+------------------+----+------------------+---------------------------------------------------------------------------------------------+------------------------------------------------------------------------------------------------+\n",
      "only showing top 2 rows\n",
      "\n"
     ]
    },
    {
     "name": "stderr",
     "output_type": "stream",
     "text": [
      "\r",
      "                                                                                \r"
     ]
    }
   ],
   "source": [
    "train.show(2, truncate=False)"
   ]
  },
  {
   "cell_type": "markdown",
   "metadata": {},
   "source": [
    "# linear regression"
   ]
  },
  {
   "cell_type": "code",
   "execution_count": 143,
   "metadata": {},
   "outputs": [
    {
     "name": "stdout",
     "output_type": "stream",
     "text": [
      "root\n",
      " |-- City: string (nullable = true)\n",
      " |-- Date: string (nullable = true)\n",
      " |-- AQIBucket: string (nullable = true)\n",
      " |-- PM25: double (nullable = true)\n",
      " |-- SO2: double (nullable = false)\n",
      " |-- NO2: double (nullable = false)\n",
      " |-- PM10: double (nullable = false)\n",
      " |-- AQI: double (nullable = true)\n",
      " |-- O3: double (nullable = false)\n",
      " |-- year: integer (nullable = true)\n",
      " |-- AQII: double (nullable = true)\n",
      " |-- features: vector (nullable = true)\n",
      "\n"
     ]
    },
    {
     "name": "stderr",
     "output_type": "stream",
     "text": [
      "                                                                                \r"
     ]
    },
    {
     "data": {
      "text/html": [
       "<div>\n",
       "<style scoped>\n",
       "    .dataframe tbody tr th:only-of-type {\n",
       "        vertical-align: middle;\n",
       "    }\n",
       "\n",
       "    .dataframe tbody tr th {\n",
       "        vertical-align: top;\n",
       "    }\n",
       "\n",
       "    .dataframe thead th {\n",
       "        text-align: right;\n",
       "    }\n",
       "</style>\n",
       "<table border=\"1\" class=\"dataframe\">\n",
       "  <thead>\n",
       "    <tr style=\"text-align: right;\">\n",
       "      <th></th>\n",
       "      <th>features</th>\n",
       "    </tr>\n",
       "  </thead>\n",
       "  <tbody>\n",
       "    <tr>\n",
       "      <th>0</th>\n",
       "      <td>[4.293741690638772, 2.9025198541454498, 3.3192...</td>\n",
       "    </tr>\n",
       "    <tr>\n",
       "      <th>1</th>\n",
       "      <td>[4.293741690638772, 2.753023540000728, 3.20071...</td>\n",
       "    </tr>\n",
       "    <tr>\n",
       "      <th>2</th>\n",
       "      <td>[4.293741690638772, 2.9601050563802973, 3.3697...</td>\n",
       "    </tr>\n",
       "    <tr>\n",
       "      <th>3</th>\n",
       "      <td>[4.293741690638772, 2.916689041442776, 2.92262...</td>\n",
       "    </tr>\n",
       "    <tr>\n",
       "      <th>4</th>\n",
       "      <td>[4.293741690638772, 3.0643250685814114, 3.6719...</td>\n",
       "    </tr>\n",
       "  </tbody>\n",
       "</table>\n",
       "</div>"
      ],
      "text/plain": [
       "                                            features\n",
       "0  [4.293741690638772, 2.9025198541454498, 3.3192...\n",
       "1  [4.293741690638772, 2.753023540000728, 3.20071...\n",
       "2  [4.293741690638772, 2.9601050563802973, 3.3697...\n",
       "3  [4.293741690638772, 2.916689041442776, 2.92262...\n",
       "4  [4.293741690638772, 3.0643250685814114, 3.6719..."
      ]
     },
     "execution_count": 143,
     "metadata": {},
     "output_type": "execute_result"
    }
   ],
   "source": [
    "from pyspark.ml.feature import VectorAssembler\n",
    "\n",
    "catCols = ['AQIBucket']\n",
    "numCols = ['PM25','PM10','NO2','SO2','O3']\n",
    "numcolout = ['AQII']\n",
    "\n",
    "# The input columns are the feature column names, and the output column is what you'd like the new column to be named. \n",
    "assembler = VectorAssembler(\n",
    "    inputCols=[\"PM25\",\"NO2\",\"SO2\",\"O3\"],\n",
    "    outputCol=\"features\")\n",
    "\n",
    "# Now that we've created the assembler variable, let's actually transform the data.\n",
    "output = assembler.transform(spark_df_filled3)\n",
    "\n",
    "\n",
    "# Using print schema, you see that the features output column has been added. \n",
    "output.printSchema()\n",
    "\n",
    "# You can see that the features column is a dense vector that combines the various features as expected.\n",
    "output.head()\n",
    "\n",
    "output.select(['features']).toPandas().head()\n"
   ]
  },
  {
   "cell_type": "code",
   "execution_count": 144,
   "metadata": {},
   "outputs": [
    {
     "name": "stderr",
     "output_type": "stream",
     "text": [
      "\r",
      "[Stage 1776:>                                                       (0 + 1) / 1]\r"
     ]
    },
    {
     "name": "stdout",
     "output_type": "stream",
     "text": [
      "+--------------------+------------------+\n",
      "|            features|              AQII|\n",
      "+--------------------+------------------+\n",
      "|[3.37485338282339...|3.8712010109078907|\n",
      "|[4.06663073411297...| 5.003946305945459|\n",
      "|[4.37311202883087...| 5.247024072160486|\n",
      "|[4.11283912738255...| 5.241747015059643|\n",
      "|[4.11283912738255...| 5.241747015059643|\n",
      "|[4.11283912738255...| 5.241747015059643|\n",
      "|[4.11283912738255...| 5.241747015059643|\n",
      "|[4.10726076740468...| 5.241747015059643|\n",
      "|[4.65823687798445...| 5.247024072160486|\n",
      "|[4.65823687798445...| 5.247024072160486|\n",
      "|[4.27053622452360...| 5.247024072160486|\n",
      "|[3.42621515207833...| 4.770684624465665|\n",
      "|[3.97161179108936...|5.1298987149230735|\n",
      "|[4.90230746255621...| 4.836281906951478|\n",
      "|[4.11185700979757...| 4.836281906951478|\n",
      "|[3.67427325527468...|5.1647859739235145|\n",
      "|[4.14914837111533...| 5.241747015059643|\n",
      "|[4.17607815662293...| 4.787491742782046|\n",
      "|[3.93241367115459...| 5.062595033026967|\n",
      "|[3.65661448170730...| 5.176149732573829|\n",
      "+--------------------+------------------+\n",
      "only showing top 20 rows\n",
      "\n"
     ]
    },
    {
     "name": "stderr",
     "output_type": "stream",
     "text": [
      "\r",
      "                                                                                \r"
     ]
    }
   ],
   "source": [
    "# Let's select two columns (the feature and predictor).\n",
    "# This is now in the appropriate format to be processed by Spark.\n",
    "final_data = output.select(\"features\",'AQII')\n",
    "final_data.show()"
   ]
  },
  {
   "cell_type": "code",
   "execution_count": 145,
   "metadata": {},
   "outputs": [],
   "source": [
    "# Let's do a randomised 70/30 split. \n",
    "# Remember, you can use other splits depending on how easy/difficult it is to train your model.\n",
    "train_data,test_data = final_data.randomSplit([0.7,0.3])"
   ]
  },
  {
   "cell_type": "code",
   "execution_count": 146,
   "metadata": {},
   "outputs": [
    {
     "name": "stderr",
     "output_type": "stream",
     "text": [
      "                                                                                \r"
     ]
    },
    {
     "name": "stdout",
     "output_type": "stream",
     "text": [
      "+-------+------------------+\n",
      "|summary|              AQII|\n",
      "+-------+------------------+\n",
      "|  count|             20713|\n",
      "|   mean|4.8462772839419594|\n",
      "| stddev|0.6694290906139506|\n",
      "|    min|2.6390573296152584|\n",
      "|    max|   7.6251071482389|\n",
      "+-------+------------------+\n",
      "\n"
     ]
    },
    {
     "name": "stderr",
     "output_type": "stream",
     "text": [
      "\r",
      "[Stage 1785:>                                                       (0 + 1) / 1]\r"
     ]
    },
    {
     "name": "stdout",
     "output_type": "stream",
     "text": [
      "+-------+------------------+\n",
      "|summary|              AQII|\n",
      "+-------+------------------+\n",
      "|  count|              8818|\n",
      "|   mean| 4.856034827672375|\n",
      "| stddev|0.6793607783857731|\n",
      "|    min|2.5649493574615367|\n",
      "|    max| 7.518607216815252|\n",
      "+-------+------------------+\n",
      "\n"
     ]
    },
    {
     "name": "stderr",
     "output_type": "stream",
     "text": [
      "\r",
      "                                                                                \r"
     ]
    }
   ],
   "source": [
    "# Let's see our training data.\n",
    "train_data.describe().show()\n",
    "\n",
    "# And our testing data.\n",
    "test_data.describe().show()"
   ]
  },
  {
   "cell_type": "code",
   "execution_count": 147,
   "metadata": {},
   "outputs": [
    {
     "name": "stderr",
     "output_type": "stream",
     "text": [
      "22/10/14 02:37:55 WARN Instrumentation: [a1d8908e] regParam is zero, which might cause numerical instability and overfitting.\n",
      "                                                                                \r"
     ]
    }
   ],
   "source": [
    "#import LinearRegression library\n",
    "from pyspark.ml.regression import LinearRegression\n",
    "\n",
    "lr = LinearRegression(labelCol='AQII')\n",
    "# Fit the model to the data.\n",
    "lrModel = lr.fit(train_data)"
   ]
  },
  {
   "cell_type": "code",
   "execution_count": 148,
   "metadata": {},
   "outputs": [],
   "source": [
    "test_dt1 = lrModel.transform(train_data)\n",
    "#test_dt1.show(truncate=False)\n",
    "\n"
   ]
  },
  {
   "cell_type": "code",
   "execution_count": 149,
   "metadata": {},
   "outputs": [
    {
     "name": "stderr",
     "output_type": "stream",
     "text": [
      "\r",
      "[Stage 1798:>                                                       (0 + 1) / 1]\r"
     ]
    },
    {
     "name": "stdout",
     "output_type": "stream",
     "text": [
      "+------------------+------------------+\n",
      "|              AQII|        prediction|\n",
      "+------------------+------------------+\n",
      "|2.9444389791664403|0.9142355330489884|\n",
      "|2.9444389791664403|1.1286510319789986|\n",
      "|2.9444389791664403| 2.388278346732215|\n",
      "| 2.995732273553991| 2.188626339950145|\n",
      "| 2.995732273553991|2.4019962853600663|\n",
      "| 3.044522437723423| 2.169121972831458|\n",
      "|2.9444389791664403| 2.352802336024625|\n",
      "|2.9444389791664403|2.5271723972508897|\n",
      "| 3.258096538021482| 2.962521402793805|\n",
      "| 3.970291913552122|2.9717635543840486|\n",
      "| 3.044522437723423| 2.800270480807198|\n",
      "| 4.653960350157523| 3.150826592411086|\n",
      "| 3.912023005428146| 2.622152707481354|\n",
      "|4.3694478524670215|3.1988442526428926|\n",
      "|3.8918202981106265|3.0970571771556545|\n",
      "| 4.007333185232471|3.2484162312633424|\n",
      "| 4.634728988229636| 2.988597399099359|\n",
      "| 4.634728988229636|3.0834025078497236|\n",
      "|2.9444389791664403|2.4709973382975474|\n",
      "| 4.356708826689592|3.3140044942239832|\n",
      "+------------------+------------------+\n",
      "only showing top 20 rows\n",
      "\n"
     ]
    },
    {
     "name": "stderr",
     "output_type": "stream",
     "text": [
      "\r",
      "                                                                                \r"
     ]
    }
   ],
   "source": [
    "test_dt1.select('AQII','prediction').show()"
   ]
  },
  {
   "cell_type": "code",
   "execution_count": 150,
   "metadata": {},
   "outputs": [
    {
     "name": "stderr",
     "output_type": "stream",
     "text": [
      "                                                                                \r"
     ]
    },
    {
     "data": {
      "image/png": "[encoded data removed]",
      "text/plain": [
       "<Figure size 432x288 with 1 Axes>"
      ]
     },
     "metadata": {
      "needs_background": "light"
     },
     "output_type": "display_data"
    }
   ],
   "source": [
    "import numpy as np\n",
    "from numpy import polyfit\n",
    "x1 = test_dt1.toPandas()['AQII'].values.tolist()\n",
    "y1 = test_dt1.toPandas()['prediction'].values.tolist()\n",
    "plt.scatter(x1, y1, color='red', s=30)\n",
    "plt.xlabel('AQII')\n",
    "plt.ylabel('pred')\n",
    "plt.title('Linear Regression')\n",
    "p1 = polyfit(x1, y1, 1)\n",
    "plt.plot(x1, np.polyval(p1,x1), 'g-' )\n",
    "plt.show()"
   ]
  },
  {
   "cell_type": "code",
   "execution_count": 151,
   "metadata": {},
   "outputs": [
    {
     "name": "stdout",
     "output_type": "stream",
     "text": [
      "Coefficients: [0.5271996174464867,0.10293922044405639,0.1410322135071348,0.00880460313253287] Intercept: 2.1410179311795194\n"
     ]
    }
   ],
   "source": [
    "# Print the coefficients and intercept for linear regression.\n",
    "print(\"Coefficients: {} Intercept: {}\".format(lrModel.coefficients,lrModel.intercept))"
   ]
  },
  {
   "cell_type": "code",
   "execution_count": 152,
   "metadata": {},
   "outputs": [
    {
     "name": "stderr",
     "output_type": "stream",
     "text": [
      "                                                                                \r"
     ]
    }
   ],
   "source": [
    "# Let's evaluate the model against the test data.\n",
    "test_results = lrModel.evaluate(test_data)\n",
    "\n"
   ]
  },
  {
   "cell_type": "code",
   "execution_count": 153,
   "metadata": {},
   "outputs": [
    {
     "name": "stderr",
     "output_type": "stream",
     "text": [
      "\r",
      "[Stage 1809:>                                                       (0 + 1) / 1]\r"
     ]
    },
    {
     "name": "stdout",
     "output_type": "stream",
     "text": [
      "+--------------------+\n",
      "|           residuals|\n",
      "+--------------------+\n",
      "|   3.116686208300992|\n",
      "|   1.636435866900984|\n",
      "|  0.7690994750441633|\n",
      "|  0.5906369997742882|\n",
      "|    0.51897475547608|\n",
      "|  0.6707330998463656|\n",
      "|  0.6417227595176778|\n",
      "|  0.3228041983417591|\n",
      "|  0.8379546009414818|\n",
      "|  0.3858895240621836|\n",
      "|  1.0507573302036302|\n",
      "|  1.1344416317756076|\n",
      "|  0.1843381497804124|\n",
      "| 0.17401536264232087|\n",
      "| 0.43686203107856336|\n",
      "|  0.4768033511179093|\n",
      "|  0.9761006185198284|\n",
      "|  0.6580158659317035|\n",
      "|   2.011281188567284|\n",
      "|0.009066092619376409|\n",
      "+--------------------+\n",
      "only showing top 20 rows\n",
      "\n",
      "RSME: 0.42488077170350763\n",
      "R2: 0.6088147526977727\n"
     ]
    },
    {
     "name": "stderr",
     "output_type": "stream",
     "text": [
      "\r",
      "                                                                                \r"
     ]
    }
   ],
   "source": [
    "# Interesting results! This shows the difference between the predicted value and the test data.\n",
    "test_results.residuals.show()\n",
    "\n",
    "# Let's get some evaluation metrics (as discussed in the previous linear regression notebook).\n",
    "print(\"RSME: {}\".format(test_results.rootMeanSquaredError))\n",
    "\n",
    "# We can also get the R2 value. \n",
    "print(\"R2: {}\".format(test_results.r2))\n"
   ]
  },
  {
   "cell_type": "code",
   "execution_count": 154,
   "metadata": {},
   "outputs": [
    {
     "name": "stderr",
     "output_type": "stream",
     "text": [
      "                                                                                \r"
     ]
    },
    {
     "name": "stdout",
     "output_type": "stream",
     "text": [
      "+------------------+------------------+--------------------+\n",
      "|        prediction|              AQII|            features|\n",
      "+------------------+------------------+--------------------+\n",
      "|0.9142355330489884|2.9444389791664403|[-1.8325814861000...|\n",
      "|1.1286510319789986|2.9444389791664403|[-1.4271163779918...|\n",
      "| 2.388278346732215|2.9444389791664403|[-0.0100503262204...|\n",
      "| 2.188626339950145| 2.995732273553991|[0.22314355131420...|\n",
      "|2.4019962853600663| 2.995732273553991|[0.22314355131420...|\n",
      "+------------------+------------------+--------------------+\n",
      "only showing top 5 rows\n",
      "\n"
     ]
    },
    {
     "name": "stderr",
     "output_type": "stream",
     "text": [
      "\r",
      "[Stage 1815:>                                                       (0 + 1) / 1]\r"
     ]
    },
    {
     "name": "stdout",
     "output_type": "stream",
     "text": [
      "Root Mean Squared Error (RMSE) on test data = 0.419289\n"
     ]
    },
    {
     "name": "stderr",
     "output_type": "stream",
     "text": [
      "\r",
      "                                                                                \r"
     ]
    }
   ],
   "source": [
    "# evaluate the model\n",
    "from pyspark.ml.evaluation import RegressionEvaluator\n",
    "evaluator = RegressionEvaluator(\n",
    "    labelCol=\"AQII\", predictionCol=\"prediction\", metricName=\"rmse\")\n",
    "\n",
    "test_dt1.select(\"prediction\",\"AQII\",\"features\").show(5)\n",
    "rmse = evaluator.evaluate(test_dt1)\n",
    "\n",
    "print(\"Root Mean Squared Error (RMSE) on test data = %g\" % rmse)"
   ]
  },
  {
   "cell_type": "code",
   "execution_count": null,
   "metadata": {},
   "outputs": [],
   "source": []
  },
  {
   "cell_type": "code",
   "execution_count": 155,
   "metadata": {},
   "outputs": [
    {
     "name": "stderr",
     "output_type": "stream",
     "text": [
      "                                                                                \r"
     ]
    }
   ],
   "source": [
    "from pyspark.ml.regression import DecisionTreeRegressor\n",
    "dt = DecisionTreeRegressor(labelCol='AQII')\n",
    "model = dt.fit(train_data)\n",
    "test_dt = model.transform(train_data)\n",
    "#test_dt.show(truncate=False)\n",
    "#evaluator = RegressionEvaluator()\n",
    "\n",
    "\n",
    "\n",
    "\n",
    "\n",
    "\n"
   ]
  },
  {
   "cell_type": "code",
   "execution_count": 157,
   "metadata": {},
   "outputs": [
    {
     "name": "stderr",
     "output_type": "stream",
     "text": [
      "                                                                                \r"
     ]
    },
    {
     "data": {
      "image/png": "[encoded data removed]",
      "text/plain": [
       "<Figure size 432x288 with 1 Axes>"
      ]
     },
     "metadata": {
      "needs_background": "light"
     },
     "output_type": "display_data"
    }
   ],
   "source": [
    "import numpy as np\n",
    "from numpy import polyfit\n",
    "x1 = test_dt.toPandas()['AQII'].values.tolist()\n",
    "y1 = test_dt.toPandas()['prediction'].values.tolist()\n",
    "plt.scatter(x1, y1, color='red', s=30)\n",
    "plt.xlabel('AQII')\n",
    "plt.ylabel('pred')\n",
    "plt.title('Decision Tree Regression')\n",
    "p1 = polyfit(x1, y1, 1)\n",
    "plt.plot(x1, np.polyval(p1,x1), 'g-' )\n",
    "plt.show()"
   ]
  },
  {
   "cell_type": "code",
   "execution_count": 158,
   "metadata": {},
   "outputs": [
    {
     "data": {
      "text/plain": [
       "DataFrame[features: vector, AQII: double, prediction: double]"
      ]
     },
     "execution_count": 158,
     "metadata": {},
     "output_type": "execute_result"
    }
   ],
   "source": [
    "test_dt\n",
    "\n",
    "\n"
   ]
  },
  {
   "cell_type": "code",
   "execution_count": 159,
   "metadata": {},
   "outputs": [
    {
     "name": "stderr",
     "output_type": "stream",
     "text": [
      "                                                                                \r"
     ]
    },
    {
     "name": "stdout",
     "output_type": "stream",
     "text": [
      "+------------------+------------------+--------------------+\n",
      "|        prediction|              AQII|            features|\n",
      "+------------------+------------------+--------------------+\n",
      "|3.4038703142535063|2.9444389791664403|[-1.8325814861000...|\n",
      "|3.4038703142535063|2.9444389791664403|[-1.4271163779918...|\n",
      "|3.4038703142535063|2.9444389791664403|[-0.0100503262204...|\n",
      "|3.4038703142535063| 2.995732273553991|[0.22314355131420...|\n",
      "|3.4038703142535063| 2.995732273553991|[0.22314355131420...|\n",
      "+------------------+------------------+--------------------+\n",
      "only showing top 5 rows\n",
      "\n"
     ]
    },
    {
     "name": "stderr",
     "output_type": "stream",
     "text": [
      "\r",
      "[Stage 1853:>                                                       (0 + 1) / 1]\r"
     ]
    },
    {
     "name": "stdout",
     "output_type": "stream",
     "text": [
      "Root Mean Squared Error (RMSE) on test data = 0.366755\n"
     ]
    },
    {
     "name": "stderr",
     "output_type": "stream",
     "text": [
      "\r",
      "                                                                                \r"
     ]
    }
   ],
   "source": [
    "# Let's get some evaluation metrics (as discussed in the previous linear regression notebook).\n",
    "# Select (prediction, true label) and compute test error\n",
    "# evaluate the model\n",
    "from pyspark.ml.evaluation import RegressionEvaluator\n",
    "evaluator = RegressionEvaluator(\n",
    "    labelCol=\"AQII\", predictionCol=\"prediction\", metricName=\"rmse\")\n",
    "\n",
    "test_dt.select(\"prediction\",\"AQII\",\"features\").show(5)\n",
    "rmse = evaluator.evaluate(test_dt)\n",
    "\n",
    "print(\"Root Mean Squared Error (RMSE) on test data = %g\" % rmse)\n"
   ]
  },
  {
   "cell_type": "code",
   "execution_count": 160,
   "metadata": {},
   "outputs": [
    {
     "name": "stderr",
     "output_type": "stream",
     "text": [
      "                                                                                \r"
     ]
    },
    {
     "name": "stdout",
     "output_type": "stream",
     "text": [
      "+------------------+------------------+--------------------+\n",
      "|        prediction|              AQII|            features|\n",
      "+------------------+------------------+--------------------+\n",
      "|3.4038703142535063|2.9444389791664403|[-1.8325814861000...|\n",
      "|3.4038703142535063|2.9444389791664403|[-1.4271163779918...|\n",
      "|3.4038703142535063|2.9444389791664403|[-0.0100503262204...|\n",
      "|3.4038703142535063| 2.995732273553991|[0.22314355131420...|\n",
      "|3.4038703142535063| 2.995732273553991|[0.22314355131420...|\n",
      "+------------------+------------------+--------------------+\n",
      "only showing top 5 rows\n",
      "\n"
     ]
    },
    {
     "name": "stderr",
     "output_type": "stream",
     "text": [
      "\r",
      "[Stage 1859:>                                                       (0 + 1) / 1]\r"
     ]
    },
    {
     "name": "stdout",
     "output_type": "stream",
     "text": [
      "Root Mean Squared Error (RMSE) on test data = 0.366755\n"
     ]
    },
    {
     "name": "stderr",
     "output_type": "stream",
     "text": [
      "\r",
      "                                                                                \r"
     ]
    }
   ],
   "source": [
    "# evaluate the model\n",
    "from pyspark.ml.evaluation import RegressionEvaluator\n",
    "evaluator = RegressionEvaluator(\n",
    "    labelCol=\"AQII\", predictionCol=\"prediction\", metricName=\"rmse\")\n",
    "\n",
    "test_dt.select(\"prediction\",\"AQII\",\"features\").show(5)\n",
    "rmse = evaluator.evaluate(test_dt)\n",
    "\n",
    "print(\"Root Mean Squared Error (RMSE) on test data = %g\" % rmse)"
   ]
  },
  {
   "cell_type": "code",
   "execution_count": 96,
   "metadata": {},
   "outputs": [
    {
     "name": "stdout",
     "output_type": "stream",
     "text": [
      "R2: 0.6078970436952802\n"
     ]
    },
    {
     "name": "stderr",
     "output_type": "stream",
     "text": [
      "\r",
      "[Stage 365:>                                                        (0 + 1) / 1]\r"
     ]
    },
    {
     "name": "stdout",
     "output_type": "stream",
     "text": [
      "+-------+------------------+\n",
      "|summary|              AQII|\n",
      "+-------+------------------+\n",
      "|  count|             29531|\n",
      "|   mean| 4.849190900839951|\n",
      "| stddev|0.6724133761478859|\n",
      "|    min|2.5649493574615367|\n",
      "|    max|   7.6251071482389|\n",
      "+-------+------------------+\n",
      "\n"
     ]
    },
    {
     "name": "stderr",
     "output_type": "stream",
     "text": [
      "\r",
      "                                                                                \r"
     ]
    }
   ],
   "source": [
    "# We can also get the R2 value. \n",
    "print(\"R2: {}\".format(test_results.r2))\n",
    "final_data.describe().show()"
   ]
  },
  {
   "cell_type": "code",
   "execution_count": 97,
   "metadata": {},
   "outputs": [],
   "source": [
    "#spark_df_filled3.show()"
   ]
  },
  {
   "cell_type": "code",
   "execution_count": null,
   "metadata": {},
   "outputs": [],
   "source": []
  },
  {
   "cell_type": "code",
   "execution_count": 98,
   "metadata": {},
   "outputs": [],
   "source": [
    "##transform with String Indexer and OneHotEncoder\n",
    "\n",
    "from pyspark.ml import Pipeline\n",
    "from pyspark.ml.feature import StringIndexer, OneHotEncoder\n",
    "\n",
    "\n",
    "indexer0 = StringIndexer(inputCol=\"City\", outputCol=\"City_index\").fit(spark_df_filled3)\n",
    "spark_df = indexer0.transform(spark_df_filled3)\n",
    "#spark_df.show()\n",
    "\n",
    "###one hot encoder\n",
    "\n",
    "encoder0 = OneHotEncoder(inputCol=\"City_index\", outputCol=\"City_vec\")\n",
    "ohe = encoder0.fit(spark_df) # indexer is the existing dataframe, see the question\n",
    "encoded0 = ohe.transform(spark_df)\n",
    "#encoded0.show()\n",
    "\n",
    "\n",
    "\n"
   ]
  },
  {
   "cell_type": "code",
   "execution_count": 99,
   "metadata": {},
   "outputs": [
    {
     "name": "stderr",
     "output_type": "stream",
     "text": [
      "                                                                                \r"
     ]
    }
   ],
   "source": [
    "##transform with String Indexer and OneHotEncoder\n",
    "\n",
    "indexer1 = StringIndexer(inputCol=\"AQIBucket\", outputCol=\"AQIB_index\").fit(encoded0)\n",
    "spark_df_ind1 = indexer1.transform(encoded0)\n",
    "#spark_df_ind1.show()\n",
    "\n"
   ]
  },
  {
   "cell_type": "code",
   "execution_count": 100,
   "metadata": {},
   "outputs": [],
   "source": [
    "###one hot encoder\n",
    "\n",
    "encoder1 = OneHotEncoder(inputCol=\"AQIB_index\", outputCol=\"AQIB_vec\")\n",
    "ohe1 = encoder1.fit(spark_df_ind1) # indexer is the existing dataframe, see the question\n",
    "encoded1 = ohe1.transform(spark_df_ind1)\n",
    "#encoded1.show()"
   ]
  },
  {
   "cell_type": "code",
   "execution_count": 101,
   "metadata": {},
   "outputs": [],
   "source": [
    "# Now we can assemble all of this as one vector in the features column. \n",
    "assembler = VectorAssembler(inputCols=['City_vec','PM25',\n",
    " 'PM10',\n",
    " 'NO2',\n",
    " 'SO2',\n",
    " 'O3'],outputCol='features')\n",
    "\n",
    "\n",
    "from pyspark.ml.classification import LogisticRegression\n",
    "from pyspark.ml import Pipeline\n",
    "# Note that survived is a categorial variable but didn't require any transformation.\n",
    "# That's because it's already in the format of 1's and 0's. \n",
    "log_reg = LogisticRegression(featuresCol='features',labelCol='AQIB_index')\n"
   ]
  },
  {
   "cell_type": "code",
   "execution_count": 102,
   "metadata": {},
   "outputs": [
    {
     "name": "stderr",
     "output_type": "stream",
     "text": [
      "[Stage 591:>                                                        (0 + 1) / 1]\r"
     ]
    },
    {
     "name": "stdout",
     "output_type": "stream",
     "text": [
      "+----------+----------+\n",
      "|AQIB_index|prediction|\n",
      "+----------+----------+\n",
      "|       2.0|       5.0|\n",
      "|       2.0|       5.0|\n",
      "|       2.0|       5.0|\n",
      "|       2.0|       5.0|\n",
      "|       2.0|       5.0|\n",
      "|       3.0|       5.0|\n",
      "|       5.0|       5.0|\n",
      "|       5.0|       5.0|\n",
      "|       5.0|       5.0|\n",
      "|       2.0|       5.0|\n",
      "|       3.0|       5.0|\n",
      "|       5.0|       5.0|\n",
      "|       5.0|       5.0|\n",
      "|       2.0|       2.0|\n",
      "|       0.0|       2.0|\n",
      "|       0.0|       2.0|\n",
      "|       0.0|       2.0|\n",
      "|       0.0|       2.0|\n",
      "|       0.0|       5.0|\n",
      "|       2.0|       5.0|\n",
      "+----------+----------+\n",
      "only showing top 20 rows\n",
      "\n"
     ]
    },
    {
     "name": "stderr",
     "output_type": "stream",
     "text": [
      "\r",
      "                                                                                \r"
     ]
    }
   ],
   "source": [
    "# Lists everything we want to do. Index data, encode data, assemble data and then pass in the actual model.\n",
    "pipeline = Pipeline(stages=[indexer0,indexer1,\n",
    "                           encoder0,encoder1,\n",
    "                           assembler,log_reg ])\n",
    "# Train/test split. \n",
    "train_data1, test_data1 = spark_df_filled3.randomSplit([0.7,.3])\n",
    "\n",
    "# Note pipeline. Call it as you would call a machine learning object.\n",
    "fit_model = pipeline.fit(train_data1)\n",
    "\n",
    "# Transform test data. \n",
    "results = fit_model.transform(test_data1)\n",
    "\n",
    "# Evaluate the model using the binary classifer.\n",
    "from pyspark.ml.evaluation import BinaryClassificationEvaluator\n",
    "\n",
    "my_eval = BinaryClassificationEvaluator(rawPredictionCol='prediction',\n",
    "                                       labelCol='AQIB_index')\n",
    "\n",
    "# If we select the actual and predicted results, we can see that some predictions were correct while others were wrong.\n",
    "results.select('AQIB_index','prediction').show()\n",
    "\n"
   ]
  },
  {
   "cell_type": "code",
   "execution_count": 103,
   "metadata": {},
   "outputs": [
    {
     "name": "stderr",
     "output_type": "stream",
     "text": [
      "                                                                                \r"
     ]
    },
    {
     "data": {
      "text/plain": [
       "0.7817279574729905"
      ]
     },
     "execution_count": 103,
     "metadata": {},
     "output_type": "execute_result"
    }
   ],
   "source": [
    "# We can then evaluate using AUC (area under the curve). AUC is linked to ROC.\n",
    "AUC = my_eval.evaluate(results)\n",
    "\n",
    "AUC"
   ]
  },
  {
   "cell_type": "code",
   "execution_count": 104,
   "metadata": {},
   "outputs": [],
   "source": [
    "#train1.show()"
   ]
  },
  {
   "cell_type": "code",
   "execution_count": 105,
   "metadata": {},
   "outputs": [
    {
     "name": "stderr",
     "output_type": "stream",
     "text": [
      "                                                                                \r"
     ]
    },
    {
     "data": {
      "image/png": "[encoded data removed]",
      "text/plain": [
       "<Figure size 432x288 with 1 Axes>"
      ]
     },
     "metadata": {
      "needs_background": "light"
     },
     "output_type": "display_data"
    }
   ],
   "source": [
    "import numpy as np\n",
    "from numpy import polyfit\n",
    "test_dt=results\n",
    "x1 = test_dt.toPandas()['AQIB_index'].values.tolist()\n",
    "y1 = test_dt.toPandas()['prediction'].values.tolist()\n",
    "plt.scatter(x1, y1, color='red', s=30)\n",
    "plt.xlabel('AQIB')\n",
    "plt.ylabel('pred')\n",
    "plt.title('logistic Regression')\n",
    "p1 = polyfit(x1, y1, 1)\n",
    "#plt.plot(x1, np.polyval(p1,x1), 'g-' )\n",
    "plt.show()"
   ]
  },
  {
   "cell_type": "code",
   "execution_count": 106,
   "metadata": {},
   "outputs": [
    {
     "name": "stderr",
     "output_type": "stream",
     "text": [
      "                                                                                \r"
     ]
    },
    {
     "data": {
      "image/png": "[encoded data removed]",
      "text/plain": [
       "<Figure size 432x288 with 1 Axes>"
      ]
     },
     "metadata": {
      "needs_background": "light"
     },
     "output_type": "display_data"
    }
   ],
   "source": [
    "# Import the relevant Python libraries.\n",
    "import numpy as np\n",
    "import matplotlib.pyplot as plt\n",
    "%matplotlib inline\n",
    "\n",
    "# Convert using Numpy and plot it using pyplot. \n",
    "sexArr = np.array(train1.select('AQIBucket').collect())\n",
    "plt.hist(sexArr)\n",
    "plt.show()\n"
   ]
  },
  {
   "cell_type": "code",
   "execution_count": 107,
   "metadata": {},
   "outputs": [
    {
     "name": "stderr",
     "output_type": "stream",
     "text": [
      "                                                                                \r"
     ]
    },
    {
     "name": "stdout",
     "output_type": "stream",
     "text": [
      "Correct: 8891\n"
     ]
    },
    {
     "name": "stderr",
     "output_type": "stream",
     "text": [
      "\r",
      "[Stage 621:>                                                        (0 + 1) / 1]\r"
     ]
    },
    {
     "name": "stdout",
     "output_type": "stream",
     "text": [
      "Total Correct: 5963\n"
     ]
    },
    {
     "name": "stderr",
     "output_type": "stream",
     "text": [
      "\r",
      "                                                                                \r"
     ]
    }
   ],
   "source": [
    "# Not all interpretation has to be visualisations. You can also gain a lot of information with text.\n",
    "# For example, here we're seeing how much variance our model could account for.\n",
    "# According to this, the model got 164/209 correct. \n",
    "totalResults = results.select('AQIB_index','prediction')\n",
    "\n",
    "\n",
    "correctResults = totalResults.filter(totalResults['AQIB_INDEX'] == totalResults['prediction'])\n",
    "\n",
    "countTR = totalResults.count()\n",
    "print(\"Correct: \" + str(countTR))\n",
    "\n",
    "countTC = correctResults.count()\n",
    "print(\"Total Correct: \" + str(countTC)) "
   ]
  },
  {
   "cell_type": "code",
   "execution_count": 108,
   "metadata": {},
   "outputs": [
    {
     "name": "stderr",
     "output_type": "stream",
     "text": [
      "\r",
      "[Stage 627:>                                                        (0 + 1) / 1]\r"
     ]
    },
    {
     "name": "stdout",
     "output_type": "stream",
     "text": [
      "+---------+----------+---------+------------------+------------------+------------------+-----------------+------------------+------------------+----+------------------+\n",
      "|     City|      Date|AQIBucket|              PM25|               SO2|               NO2|             PM10|               AQI|                O3|year|              AQII|\n",
      "+---------+----------+---------+------------------+------------------+------------------+-----------------+------------------+------------------+----+------------------+\n",
      "|Ahmedabad|2015-07-24|     Good|3.3748533828233915| 2.608598116512439| 2.258633173576066|4.952582315213222|3.8712010109078907|1.6253112465718973|2015|3.8712010109078907|\n",
      "|Ahmedabad|2015-02-05| Moderate| 4.066630734112974|3.4861510828703075| 3.062923494559879|4.952582315213222| 5.003946305945459| 3.980429055192082|2015| 5.003946305945459|\n",
      "|Ahmedabad|2015-02-06| Moderate| 4.373112028830875| 4.210793429191253| 3.293612190806183|4.952582315213222| 5.247024072160486| 4.082609293137922|2015| 5.247024072160486|\n",
      "|Ahmedabad|2015-02-26| Moderate| 4.112839127382558|2.2684374470398123|3.0130977074753162|4.952582315213222|              null| 3.306269545598628|2015| 5.241747015059643|\n",
      "|Ahmedabad|2015-02-27| Moderate| 4.112839127382558|2.2684374470398123|3.0130977074753162|4.952582315213222|              null| 3.306269545598628|2015| 5.241747015059643|\n",
      "|Ahmedabad|2015-02-28| Moderate| 4.112839127382558|2.2684374470398123|3.0130977074753162|4.952582315213222|              null| 3.306269545598628|2015| 5.241747015059643|\n",
      "|Ahmedabad|2015-03-01| Moderate| 4.112839127382558| 3.347796623713437|2.8219739156502905|4.952582315213222|              null| 3.417070715799952|2015| 5.241747015059643|\n",
      "|Ahmedabad|2015-03-02| Moderate| 4.107260767404687|3.3837120517931956|2.9019708434634395|4.952582315213222| 5.241747015059643| 3.548179572010801|2015| 5.241747015059643|\n",
      "|Ahmedabad|2015-03-06| Moderate| 4.658236877984453|2.2684374470398123|3.0130977074753162|4.952582315213222|              null| 3.306269545598628|2015| 5.247024072160486|\n",
      "|Ahmedabad|2015-03-07| Moderate| 4.658236877984453|3.3772461920969765| 2.778819295684189|4.952582315213222|              null| 4.247065671069219|2015| 5.247024072160486|\n",
      "|Ahmedabad|2015-03-08| Moderate| 4.270536224523606|3.4104874512457837|2.8231630036695035|4.952582315213222| 5.247024072160486|4.0458543503921796|2015| 5.247024072160486|\n",
      "|Ahmedabad|2015-03-16| Moderate|3.4262151520783353|3.7755157362866596| 2.649007684748678|4.952582315213222| 4.770684624465665| 4.003325141551195|2015| 4.770684624465665|\n",
      "|Ahmedabad|2015-04-03| Moderate| 3.971611791089365| 3.697839210608093|2.6261167962573397|4.952582315213222|5.1298987149230735|3.0800734325062087|2015|5.1298987149230735|\n",
      "|Ahmedabad|2015-04-10| Moderate| 4.902307462556211| 3.541828476049942| 3.268427621122788|4.952582315213222|              null|1.9459101490553132|2015| 4.836281906951478|\n",
      "|Ahmedabad|2015-04-11| Moderate| 4.111857009797577| 2.089391863090684|2.6411978750816676|4.952582315213222| 4.836281906951478| 2.972463693468645|2015| 4.836281906951478|\n",
      "|Ahmedabad|2015-04-12| Moderate|3.6742732552746826| 2.871302186535503| 2.973486637303112|4.952582315213222|5.1647859739235145|3.4436180731710446|2015|5.1647859739235145|\n",
      "|Ahmedabad|2015-04-22| Moderate| 4.149148371115334|3.2104403829784154|2.5862591239406965|4.952582315213222| 5.241747015059643|3.7755157362866596|2015| 5.241747015059643|\n",
      "|Ahmedabad|2015-05-06| Moderate| 4.176078156622931|3.1032405018244478|1.5216989814680268|4.952582315213222| 4.787491742782046|3.4738280206677126|2015| 4.787491742782046|\n",
      "|Ahmedabad|2015-05-07| Moderate| 3.932413671154596| 2.740840023925201| 3.018960366129206|4.952582315213222| 5.062595033026967| 3.448080984547571|2015| 5.062595033026967|\n",
      "|Ahmedabad|2015-05-08| Moderate|3.6566144817073045|3.0022111979610187|2.9590683247967924|4.952582315213222| 5.176149732573829|3.2464910215875338|2015| 5.176149732573829|\n",
      "+---------+----------+---------+------------------+------------------+------------------+-----------------+------------------+------------------+----+------------------+\n",
      "only showing top 20 rows\n",
      "\n"
     ]
    },
    {
     "name": "stderr",
     "output_type": "stream",
     "text": [
      "\r",
      "                                                                                \r"
     ]
    }
   ],
   "source": [
    "spark_df_filled3.show()"
   ]
  },
  {
   "cell_type": "code",
   "execution_count": 109,
   "metadata": {},
   "outputs": [
    {
     "name": "stdout",
     "output_type": "stream",
     "text": [
      "root\n",
      " |-- label: double (nullable = true)\n",
      " |-- PM25: double (nullable = true)\n",
      " |-- PM10: double (nullable = false)\n",
      " |-- NO2: double (nullable = false)\n",
      " |-- SO2: double (nullable = false)\n",
      " |-- O3: double (nullable = false)\n",
      "\n"
     ]
    }
   ],
   "source": [
    "# prepare the data\n",
    "features = [\"PM25\",\"PM10\",\"NO2\",\"SO2\",\"O3\"]\n",
    "lr_data = spark_df_filled3.select(col(\"AQII\").alias(\"label\"), *features)\n",
    "lr_data.printSchema()\n",
    "\n",
    "# split the dataset into training and test\n",
    "(training, test) = lr_data.randomSplit([.7, .3], seed = 196)\n",
    "\n"
   ]
  },
  {
   "cell_type": "code",
   "execution_count": 189,
   "metadata": {},
   "outputs": [
    {
     "name": "stderr",
     "output_type": "stream",
     "text": [
      "                                                                                \r"
     ]
    }
   ],
   "source": [
    "# creating the pipeline\n",
    "vectorAssembler = VectorAssembler(inputCols=features, outputCol=\"unscaled_features\")\n",
    "standardScaler = StandardScaler(inputCol=\"unscaled_features\", outputCol=\"features\")\n",
    "lr = LinearRegression(maxIter=10, regParam=.01)\n",
    "\n",
    "estimators = [vectorAssembler, standardScaler, lr]\n",
    "\n",
    "\n",
    "# building the model using the pipeline\n",
    "# https://spark.apache.org/docs/latest/api/python/pyspark.ml.html#pyspark.ml.Pipeline\n",
    "pipeline = Pipeline(stages=estimators)\n",
    "\n",
    "model = pipeline.fit(training)\n"
   ]
  },
  {
   "cell_type": "code",
   "execution_count": 190,
   "metadata": {},
   "outputs": [
    {
     "name": "stderr",
     "output_type": "stream",
     "text": [
      "\r",
      "[Stage 2988:>                                                       (0 + 1) / 1]\r"
     ]
    },
    {
     "name": "stdout",
     "output_type": "stream",
     "text": [
      "+------------------+------------------+-------------------+------------------+-------------------+------------------+--------------------+--------------------+------------------+\n",
      "|             label|              PM25|               PM10|               NO2|                SO2|                O3|   unscaled_features|            features|        prediction|\n",
      "+------------------+------------------+-------------------+------------------+-------------------+------------------+--------------------+--------------------+------------------+\n",
      "|2.6390573296152584| 2.306577110464084|  2.907447329518881|3.0130977074753162| 2.2684374470398123| 3.306269545598628|[2.30657711046408...|[2.75564436758115...|3.8511764138647013|\n",
      "|2.6390573296152584| 2.306577110464084|  2.907447329518881|3.0130977074753162| 2.2684374470398123| 3.306269545598628|[2.30657711046408...|[2.75564436758115...|3.8511764138647013|\n",
      "|2.6390573296152584|2.4336133219381924|   3.53222566637673|3.0130977074753162| 2.7053799750962626|  2.97450863320584|[2.43361332193819...|[2.90741324582040...|  4.09143077939523|\n",
      "|2.6390573296152584|2.5695541559782002| 2.7568403652716422|3.0130977074753162| 2.2684374470398123| 3.306269545598628|[2.56955415597820...|[3.06982038666438...| 3.925388197753147|\n",
      "|2.6390573296152584|2.5695541559782002| 2.7568403652716422|3.0130977074753162| 2.2684374470398123| 3.306269545598628|[2.56955415597820...|[3.06982038666438...| 3.925388197753147|\n",
      "|2.6390573296152584|2.5695541559782002| 2.7568403652716422|3.0130977074753162| 2.2684374470398123| 3.306269545598628|[2.56955415597820...|[3.06982038666438...| 3.925388197753147|\n",
      "|2.6390573296152584|2.5695541559782002| 2.7568403652716422|3.0130977074753162| 2.2684374470398123| 3.306269545598628|[2.56955415597820...|[3.06982038666438...| 3.925388197753147|\n",
      "|2.6390573296152584|2.5695541559782002| 2.7568403652716422|3.0130977074753162| 2.2684374470398123| 3.306269545598628|[2.56955415597820...|[3.06982038666438...| 3.925388197753147|\n",
      "|2.6390573296152584|2.5695541559782002| 2.7568403652716422|3.0130977074753162| 2.2684374470398123| 3.306269545598628|[2.56955415597820...|[3.06982038666438...| 3.925388197753147|\n",
      "|2.6390573296152584|2.5695541559782002| 2.7568403652716422|3.0130977074753162| 2.2684374470398123| 3.306269545598628|[2.56955415597820...|[3.06982038666438...| 3.925388197753147|\n",
      "|2.6390573296152584|2.5695541559782002| 2.7568403652716422|3.0130977074753162| 2.2684374470398123| 3.306269545598628|[2.56955415597820...|[3.06982038666438...| 3.925388197753147|\n",
      "|2.6390573296152584|2.5695541559782002| 2.7568403652716422|3.0130977074753162| 2.2684374470398123| 3.306269545598628|[2.56955415597820...|[3.06982038666438...| 3.925388197753147|\n",
      "|2.6390573296152584|2.5695541559782002| 2.7568403652716422|3.0130977074753162| 2.2684374470398123| 3.306269545598628|[2.56955415597820...|[3.06982038666438...| 3.925388197753147|\n",
      "|2.6390573296152584| 4.378395036954104| -3.912023027779888| 4.653674606676773| 1.1474024831129164| 2.995732273553991|[4.37839503695410...|[5.23082431013992...| 3.212035679888367|\n",
      "|2.6390573296152584| 4.378395036954104|   3.53222566637673|3.0130977074753162| 2.2684374470398123| 2.362739005037812|[4.37839503695410...|[5.23082431013992...| 4.826769083425252|\n",
      "| 2.772588722239781| 4.378395036954104|-1.9661128521153581| 3.781458659748762|-0.1165338323291143|2.5900171284671405|[4.37839503695410...|[5.23082431013992...| 3.404035365522931|\n",
      "| 2.833213344056216| 2.294552928987703| 3.8958936390051617|3.0130977074753162| 2.2684374470398123| 3.306269545598628|[2.29455292898770...|[2.74127919946695...| 4.061193937111164|\n",
      "| 2.833213344056216| 2.294552928987703| 3.8958936390051617|3.0130977074753162| 2.2684374470398123| 3.306269545598628|[2.29455292898770...|[2.74127919946695...| 4.061193937111164|\n",
      "| 2.833213344056216| 2.294552928987703| 3.8958936390051617|3.0130977074753162| 2.2684374470398123| 3.306269545598628|[2.29455292898770...|[2.74127919946695...| 4.061193937111164|\n",
      "| 2.833213344056216| 2.294552928987703| 3.8958936390051617|3.0130977074753162| 2.2684374470398123| 3.306269545598628|[2.29455292898770...|[2.74127919946695...| 4.061193937111164|\n",
      "+------------------+------------------+-------------------+------------------+-------------------+------------------+--------------------+--------------------+------------------+\n",
      "only showing top 20 rows\n",
      "\n"
     ]
    },
    {
     "name": "stderr",
     "output_type": "stream",
     "text": [
      "\r",
      "                                                                                \r"
     ]
    }
   ],
   "source": [
    "# prediction\n",
    "prediction = model.transform(test)\n",
    "\n",
    "prediction.show()\n",
    "\n"
   ]
  },
  {
   "cell_type": "code",
   "execution_count": null,
   "metadata": {},
   "outputs": [],
   "source": []
  },
  {
   "cell_type": "code",
   "execution_count": 191,
   "metadata": {},
   "outputs": [
    {
     "name": "stderr",
     "output_type": "stream",
     "text": [
      "                                                                                \r"
     ]
    },
    {
     "name": "stdout",
     "output_type": "stream",
     "text": [
      "RMSE: 0.396\n"
     ]
    },
    {
     "name": "stderr",
     "output_type": "stream",
     "text": [
      "                                                                                \r"
     ]
    },
    {
     "name": "stdout",
     "output_type": "stream",
     "text": [
      "MSE: 0.157\n"
     ]
    },
    {
     "name": "stderr",
     "output_type": "stream",
     "text": [
      "                                                                                \r"
     ]
    },
    {
     "name": "stdout",
     "output_type": "stream",
     "text": [
      "MAE: 0.291\n"
     ]
    },
    {
     "name": "stderr",
     "output_type": "stream",
     "text": [
      "\r",
      "[Stage 3000:>                                                       (0 + 1) / 1]\r"
     ]
    },
    {
     "name": "stdout",
     "output_type": "stream",
     "text": [
      "r2: 0.650\n"
     ]
    },
    {
     "name": "stderr",
     "output_type": "stream",
     "text": [
      "\r",
      "                                                                                \r"
     ]
    }
   ],
   "source": [
    "# evaluate the model\n",
    "from pyspark.ml.evaluation import RegressionEvaluator\n",
    "\n",
    "eval = RegressionEvaluator(labelCol=\"label\", predictionCol=\"prediction\", metricName=\"rmse\")\n",
    "\n",
    "# Root Mean Square Error\n",
    "\n",
    "rmse = eval.evaluate(prediction)\n",
    "print(\"RMSE: %.3f\" % rmse)\n",
    "\n",
    "# Mean Square Error\n",
    "\n",
    "mse = eval.evaluate(prediction, {eval.metricName: \"mse\"})\n",
    "print(\"MSE: %.3f\" % mse)\n",
    "\n",
    "# Mean Absolute Error\n",
    "\n",
    "mae = eval.evaluate(prediction, {eval.metricName: \"mae\"})\n",
    "print(\"MAE: %.3f\" % mae)\n",
    "\n",
    "# r2 - coefficient of determination\n",
    "\n",
    "r2 = eval.evaluate(prediction, {eval.metricName: \"r2\"})\n",
    "print(\"r2: %.3f\" %r2)"
   ]
  },
  {
   "cell_type": "code",
   "execution_count": null,
   "metadata": {},
   "outputs": [
    {
     "name": "stderr",
     "output_type": "stream",
     "text": [
      "\r",
      "[Stage 3009:>                                                       (0 + 1) / 1]\r"
     ]
    }
   ],
   "source": [
    "import numpy as np\n",
    "from numpy import polyfit\n",
    "x1 = prediction.toPandas()['unscaled_features'].values.tolist()\n",
    "y1 = prediction.toPandas()['prediction'].values.tolist()\n",
    "plt.scatter(x1, y1, color='red', s=30)\n",
    "plt.xlabel('AQII')\n",
    "plt.ylabel('pred')\n",
    "plt.title('Linear Regression-unscaled')\n",
    "p1 = polyfit(x1, y1, 1)\n",
    "plt.plot(x1, np.polyval(p1,x1), 'g-' )\n",
    "plt.show()\n",
    "\n",
    "\n",
    "\n",
    "\n",
    "\n",
    "spark_df_filled3.show()"
   ]
  },
  {
   "cell_type": "code",
   "execution_count": 114,
   "metadata": {},
   "outputs": [
    {
     "name": "stderr",
     "output_type": "stream",
     "text": [
      "                                                                                \r"
     ]
    }
   ],
   "source": [
    "assembler = VectorAssembler(inputCols=['PM25',\n",
    " 'PM10',\n",
    " 'NO2',\n",
    " 'SO2',\n",
    " 'O3','AQII'],outputCol=\"features\")\n",
    "\n",
    "# Let's transform the data. \n",
    "output = assembler.transform(spark_df_filled3)\n",
    "\n",
    "# Let's select the two columns we want. Features (which contains vectors), and the predictor.\n",
    "indexer = StringIndexer(inputCol=\"AQIBucket\", outputCol=\"AQIB_index\")\n",
    "output_fixed = indexer.fit(output).transform(output)"
   ]
  },
  {
   "cell_type": "code",
   "execution_count": 115,
   "metadata": {},
   "outputs": [
    {
     "name": "stderr",
     "output_type": "stream",
     "text": [
      "\r",
      "[Stage 667:>                                                        (0 + 1) / 1]\r"
     ]
    },
    {
     "name": "stdout",
     "output_type": "stream",
     "text": [
      "+---------+----------+---------+------------------+------------------+------------------+-----------------+------------------+------------------+----+------------------+----------+\n",
      "|     City|      Date|AQIBucket|              PM25|               SO2|               NO2|             PM10|               AQI|                O3|year|              AQII|AQIB_index|\n",
      "+---------+----------+---------+------------------+------------------+------------------+-----------------+------------------+------------------+----+------------------+----------+\n",
      "|Ahmedabad|2015-07-24|     Good|3.3748533828233915| 2.608598116512439| 2.258633173576066|4.952582315213222|3.8712010109078907|1.6253112465718973|2015|3.8712010109078907|       4.0|\n",
      "|Ahmedabad|2015-02-05| Moderate| 4.066630734112974|3.4861510828703075| 3.062923494559879|4.952582315213222| 5.003946305945459| 3.980429055192082|2015| 5.003946305945459|       0.0|\n",
      "|Ahmedabad|2015-02-06| Moderate| 4.373112028830875| 4.210793429191253| 3.293612190806183|4.952582315213222| 5.247024072160486| 4.082609293137922|2015| 5.247024072160486|       0.0|\n",
      "|Ahmedabad|2015-02-26| Moderate| 4.112839127382558|2.2684374470398123|3.0130977074753162|4.952582315213222|              null| 3.306269545598628|2015| 5.241747015059643|       0.0|\n",
      "|Ahmedabad|2015-02-27| Moderate| 4.112839127382558|2.2684374470398123|3.0130977074753162|4.952582315213222|              null| 3.306269545598628|2015| 5.241747015059643|       0.0|\n",
      "|Ahmedabad|2015-02-28| Moderate| 4.112839127382558|2.2684374470398123|3.0130977074753162|4.952582315213222|              null| 3.306269545598628|2015| 5.241747015059643|       0.0|\n",
      "|Ahmedabad|2015-03-01| Moderate| 4.112839127382558| 3.347796623713437|2.8219739156502905|4.952582315213222|              null| 3.417070715799952|2015| 5.241747015059643|       0.0|\n",
      "|Ahmedabad|2015-03-02| Moderate| 4.107260767404687|3.3837120517931956|2.9019708434634395|4.952582315213222| 5.241747015059643| 3.548179572010801|2015| 5.241747015059643|       0.0|\n",
      "|Ahmedabad|2015-03-06| Moderate| 4.658236877984453|2.2684374470398123|3.0130977074753162|4.952582315213222|              null| 3.306269545598628|2015| 5.247024072160486|       0.0|\n",
      "|Ahmedabad|2015-03-07| Moderate| 4.658236877984453|3.3772461920969765| 2.778819295684189|4.952582315213222|              null| 4.247065671069219|2015| 5.247024072160486|       0.0|\n",
      "|Ahmedabad|2015-03-08| Moderate| 4.270536224523606|3.4104874512457837|2.8231630036695035|4.952582315213222| 5.247024072160486|4.0458543503921796|2015| 5.247024072160486|       0.0|\n",
      "|Ahmedabad|2015-03-16| Moderate|3.4262151520783353|3.7755157362866596| 2.649007684748678|4.952582315213222| 4.770684624465665| 4.003325141551195|2015| 4.770684624465665|       0.0|\n",
      "|Ahmedabad|2015-04-03| Moderate| 3.971611791089365| 3.697839210608093|2.6261167962573397|4.952582315213222|5.1298987149230735|3.0800734325062087|2015|5.1298987149230735|       0.0|\n",
      "|Ahmedabad|2015-04-10| Moderate| 4.902307462556211| 3.541828476049942| 3.268427621122788|4.952582315213222|              null|1.9459101490553132|2015| 4.836281906951478|       0.0|\n",
      "|Ahmedabad|2015-04-11| Moderate| 4.111857009797577| 2.089391863090684|2.6411978750816676|4.952582315213222| 4.836281906951478| 2.972463693468645|2015| 4.836281906951478|       0.0|\n",
      "|Ahmedabad|2015-04-12| Moderate|3.6742732552746826| 2.871302186535503| 2.973486637303112|4.952582315213222|5.1647859739235145|3.4436180731710446|2015|5.1647859739235145|       0.0|\n",
      "|Ahmedabad|2015-04-22| Moderate| 4.149148371115334|3.2104403829784154|2.5862591239406965|4.952582315213222| 5.241747015059643|3.7755157362866596|2015| 5.241747015059643|       0.0|\n",
      "|Ahmedabad|2015-05-06| Moderate| 4.176078156622931|3.1032405018244478|1.5216989814680268|4.952582315213222| 4.787491742782046|3.4738280206677126|2015| 4.787491742782046|       0.0|\n",
      "|Ahmedabad|2015-05-07| Moderate| 3.932413671154596| 2.740840023925201| 3.018960366129206|4.952582315213222| 5.062595033026967| 3.448080984547571|2015| 5.062595033026967|       0.0|\n",
      "|Ahmedabad|2015-05-08| Moderate|3.6566144817073045|3.0022111979610187|2.9590683247967924|4.952582315213222| 5.176149732573829|3.2464910215875338|2015| 5.176149732573829|       0.0|\n",
      "+---------+----------+---------+------------------+------------------+------------------+-----------------+------------------+------------------+----+------------------+----------+\n",
      "only showing top 20 rows\n",
      "\n"
     ]
    },
    {
     "name": "stderr",
     "output_type": "stream",
     "text": [
      "\r",
      "                                                                                \r"
     ]
    }
   ],
   "source": [
    "#output.show()\n",
    "spark_df_ind.show()"
   ]
  },
  {
   "cell_type": "code",
   "execution_count": 116,
   "metadata": {},
   "outputs": [
    {
     "name": "stderr",
     "output_type": "stream",
     "text": [
      "                                                                                \r"
     ]
    }
   ],
   "source": [
    "###AQIB_index\n",
    "\n",
    "# Now we can assemble all of this as one vector in the features column. \n",
    "\n",
    "\n",
    "# Let's select the two columns we want. Features (which contains vectors), and the predictor.\n",
    "\n",
    "final_data = output_fixed.select('features','AQIB_index')\n",
    "\n",
    "# Split the training and testing set.\n",
    "train_data,test_data = final_data.randomSplit([0.7,0.3])\n",
    "\n",
    "# Let's import the relevant classifiers. \n",
    "from pyspark.ml.classification import DecisionTreeClassifier,GBTClassifier,RandomForestClassifier\n",
    "from pyspark.ml import Pipeline\n",
    "\n",
    "# Use defaults to make the comparison \"fair\". This simplifies the comparison process.\n",
    "\n",
    "dtc = DecisionTreeClassifier(labelCol='AQIB_index',featuresCol='features')\n",
    "rfc = RandomForestClassifier(labelCol='AQIB_index',featuresCol='features')\n",
    "gbt = GBTClassifier(labelCol='AQIB_index',featuresCol='features')\n",
    "\n",
    "# Train the models (it's three models, so it might take some time).\n",
    "dtc_model = dtc.fit(train_data)\n",
    "rfc_model = rfc.fit(train_data)\n",
    "#gbt_model = gbt.fit(train_data)\n",
    "\n",
    "dtc_predictions = dtc_model.transform(test_data)\n",
    "rfc_predictions = rfc_model.transform(test_data)\n",
    "#gbt_predictions = gbt_model.transform(test_data)"
   ]
  },
  {
   "cell_type": "code",
   "execution_count": 117,
   "metadata": {},
   "outputs": [
    {
     "name": "stdout",
     "output_type": "stream",
     "text": [
      "DTC\n"
     ]
    },
    {
     "name": "stderr",
     "output_type": "stream",
     "text": [
      "                                                                                \r"
     ]
    },
    {
     "name": "stdout",
     "output_type": "stream",
     "text": [
      "0.9950318015030919\n",
      "RFC\n"
     ]
    },
    {
     "name": "stderr",
     "output_type": "stream",
     "text": [
      "\r",
      "[Stage 732:>                                                        (0 + 1) / 1]\r"
     ]
    },
    {
     "name": "stdout",
     "output_type": "stream",
     "text": [
      "0.9868607942351019\n"
     ]
    },
    {
     "name": "stderr",
     "output_type": "stream",
     "text": [
      "\r",
      "                                                                                \r"
     ]
    }
   ],
   "source": [
    "# Let's start off with binary classification.\n",
    "from pyspark.ml.evaluation import BinaryClassificationEvaluator\n",
    "\n",
    "# Note that the label column isn't named label, it's named PrivateIndex in this case.\n",
    "my_binary_eval = BinaryClassificationEvaluator(rawPredictionCol='prediction',\n",
    "                                       labelCol='AQIB_index')\n",
    "\n",
    "# This is the area under the curve. This indicates that the data is highly seperable.\n",
    "print(\"DTC\")\n",
    "print(my_binary_eval.evaluate(dtc_predictions))\n",
    "\n",
    "# RFC improves accuracy but also model complexity. RFC outperforms DTC in nearly every situation.\n",
    "print(\"RFC\")\n",
    "print(my_binary_eval.evaluate(rfc_predictions))\n"
   ]
  },
  {
   "cell_type": "code",
   "execution_count": 123,
   "metadata": {},
   "outputs": [
    {
     "name": "stderr",
     "output_type": "stream",
     "text": [
      "\r",
      "[Stage 1516:>                                                       (0 + 1) / 1]\r"
     ]
    },
    {
     "name": "stdout",
     "output_type": "stream",
     "text": [
      "+--------------------+----------+--------------------+--------------------+----------+\n",
      "|            features|AQIB_index|       rawPrediction|         probability|prediction|\n",
      "+--------------------+----------+--------------------+--------------------+----------+\n",
      "|[0.22314355131420...|       4.0|[0.0,0.0,0.0,0.0,...|[0.0,0.0,0.0,0.0,...|       4.0|\n",
      "|[0.33647221959131...|       4.0|[0.0,0.0,0.0,0.0,...|[0.0,0.0,0.0,0.0,...|       4.0|\n",
      "|[0.43178239165477...|       4.0|[0.0,0.0,0.0,0.0,...|[0.0,0.0,0.0,0.0,...|       4.0|\n",
      "|[0.67803355727285...|       4.0|[0.0,0.0,0.0,0.0,...|[0.0,0.0,0.0,0.0,...|       4.0|\n",
      "|[0.69314718055994...|       4.0|[0.0,0.0,0.0,0.0,...|[0.0,0.0,0.0,0.0,...|       4.0|\n",
      "|[0.69314718055994...|       4.0|[0.0,0.0,0.0,0.0,...|[0.0,0.0,0.0,0.0,...|       4.0|\n",
      "|[0.69314718055994...|       0.0|[6961.0,0.0,0.0,0...|[1.0,0.0,0.0,0.0,...|       0.0|\n",
      "|[0.75612203344946...|       1.0|[0.0,6531.0,0.0,0...|[0.0,1.0,0.0,0.0,...|       1.0|\n",
      "|[0.98954121488529...|       4.0|[0.0,65.0,0.0,0.0...|[0.0,0.1884057971...|       4.0|\n",
      "|[1.13462269245989...|       4.0|[0.0,0.0,0.0,0.0,...|[0.0,0.0,0.0,0.0,...|       4.0|\n",
      "|[1.13462269245989...|       4.0|[0.0,0.0,0.0,0.0,...|[0.0,0.0,0.0,0.0,...|       4.0|\n",
      "|[1.23547148801916...|       4.0|[0.0,0.0,0.0,0.0,...|[0.0,0.0,0.0,0.0,...|       4.0|\n",
      "|[1.24126860009476...|       0.0|[6961.0,0.0,0.0,0...|[1.0,0.0,0.0,0.0,...|       0.0|\n",
      "|[1.26976052879077...|       0.0|[79.0,0.0,0.0,0.0...|[1.0,0.0,0.0,0.0,...|       0.0|\n",
      "|[1.26976052879077...|       0.0|[79.0,0.0,0.0,0.0...|[1.0,0.0,0.0,0.0,...|       0.0|\n",
      "|[1.28647399422416...|       4.0|[0.0,0.0,0.0,0.0,...|[0.0,0.0,0.0,0.0,...|       4.0|\n",
      "|[1.36863944286773...|       4.0|[0.0,0.0,0.0,0.0,...|[0.0,0.0,0.0,0.0,...|       4.0|\n",
      "|[1.37624403489946...|       4.0|[0.0,0.0,0.0,0.0,...|[0.0,0.0,0.0,0.0,...|       4.0|\n",
      "|[1.40854500736226...|       4.0|[0.0,65.0,0.0,0.0...|[0.0,0.1884057971...|       4.0|\n",
      "|[1.43508447987625...|       4.0|[0.0,0.0,0.0,0.0,...|[0.0,0.0,0.0,0.0,...|       4.0|\n",
      "+--------------------+----------+--------------------+--------------------+----------+\n",
      "only showing top 20 rows\n",
      "\n"
     ]
    },
    {
     "name": "stderr",
     "output_type": "stream",
     "text": [
      "\r",
      "                                                                                \r"
     ]
    }
   ],
   "source": [
    "dtc_predictions.show()"
   ]
  },
  {
   "cell_type": "code",
   "execution_count": 118,
   "metadata": {},
   "outputs": [
    {
     "name": "stderr",
     "output_type": "stream",
     "text": [
      "                                                                                \r"
     ]
    },
    {
     "name": "stdout",
     "output_type": "stream",
     "text": [
      "+----------+----------+\n",
      "|AQIB_index|prediction|\n",
      "+----------+----------+\n",
      "|       4.0|       4.0|\n",
      "|       4.0|       4.0|\n",
      "|       4.0|       4.0|\n",
      "|       4.0|       4.0|\n",
      "|       4.0|       4.0|\n",
      "|       4.0|       4.0|\n",
      "|       0.0|       0.0|\n",
      "|       1.0|       1.0|\n",
      "|       4.0|       4.0|\n",
      "|       4.0|       4.0|\n",
      "|       4.0|       4.0|\n",
      "|       4.0|       4.0|\n",
      "|       0.0|       0.0|\n",
      "|       0.0|       0.0|\n",
      "|       0.0|       0.0|\n",
      "|       4.0|       4.0|\n",
      "|       4.0|       4.0|\n",
      "|       4.0|       4.0|\n",
      "|       4.0|       4.0|\n",
      "|       4.0|       4.0|\n",
      "+----------+----------+\n",
      "only showing top 20 rows\n",
      "\n"
     ]
    },
    {
     "name": "stderr",
     "output_type": "stream",
     "text": [
      "                                                                                \r"
     ]
    },
    {
     "data": {
      "image/png": "[encoded data removed]",
      "text/plain": [
       "<Figure size 432x288 with 1 Axes>"
      ]
     },
     "metadata": {
      "needs_background": "light"
     },
     "output_type": "display_data"
    },
    {
     "name": "stderr",
     "output_type": "stream",
     "text": [
      "                                                                                \r"
     ]
    },
    {
     "name": "stdout",
     "output_type": "stream",
     "text": [
      "Correct: 8816\n"
     ]
    },
    {
     "name": "stderr",
     "output_type": "stream",
     "text": [
      "\r",
      "[Stage 759:>                                                        (0 + 1) / 1]\r"
     ]
    },
    {
     "name": "stdout",
     "output_type": "stream",
     "text": [
      "Total Correct: 8490\n"
     ]
    },
    {
     "name": "stderr",
     "output_type": "stream",
     "text": [
      "\r",
      "                                                                                \r"
     ]
    }
   ],
   "source": [
    "\n",
    "# If we select the actual and predicted results, we can see that some predictions were correct while others were wrong.\n",
    "dtc_predictions.select('AQIB_index','prediction').show()\n",
    "\n",
    "\n",
    "import numpy as np\n",
    "from numpy import polyfit\n",
    "test_dt=dtc_predictions\n",
    "x1 = test_dt.toPandas()['AQIB_index'].values.tolist()\n",
    "y1 = test_dt.toPandas()['prediction'].values.tolist()\n",
    "plt.scatter(x1, y1, color='red', s=30)\n",
    "plt.xlabel('AQIB')\n",
    "plt.ylabel('pred')\n",
    "plt.title('decisiontree classifier')\n",
    "p1 = polyfit(x1, y1, 1)\n",
    "#plt.plot(x1, np.polyval(p1,x1), 'g-' )\n",
    "plt.show()\n",
    "# Not all interpretation has to be visualisations. You can also gain a lot of information with text.\n",
    "# For example, here we're seeing how much variance our model could account for.\n",
    "# According to this, the model got 164/209 correct. \n",
    "totalResults = dtc_predictions.select('AQIB_index','prediction')\n",
    "\n",
    "\n",
    "correctResults = totalResults.filter(totalResults['AQIB_INDEX'] == totalResults['prediction'])\n",
    "\n",
    "countTR = totalResults.count()\n",
    "print(\"Correct: \" + str(countTR))\n",
    "\n",
    "countTC = correctResults.count()\n",
    "print(\"Total Correct: \" + str(countTC)) "
   ]
  },
  {
   "cell_type": "code",
   "execution_count": 119,
   "metadata": {},
   "outputs": [
    {
     "name": "stderr",
     "output_type": "stream",
     "text": [
      "                                                                                \r"
     ]
    },
    {
     "name": "stdout",
     "output_type": "stream",
     "text": [
      "+----------+----------+\n",
      "|AQIB_index|prediction|\n",
      "+----------+----------+\n",
      "|       4.0|       4.0|\n",
      "|       4.0|       4.0|\n",
      "|       4.0|       4.0|\n",
      "|       4.0|       4.0|\n",
      "|       4.0|       4.0|\n",
      "|       4.0|       4.0|\n",
      "|       0.0|       0.0|\n",
      "|       1.0|       1.0|\n",
      "|       4.0|       4.0|\n",
      "|       4.0|       4.0|\n",
      "|       4.0|       4.0|\n",
      "|       4.0|       4.0|\n",
      "|       0.0|       0.0|\n",
      "|       0.0|       0.0|\n",
      "|       0.0|       0.0|\n",
      "|       4.0|       4.0|\n",
      "|       4.0|       4.0|\n",
      "|       4.0|       4.0|\n",
      "|       4.0|       4.0|\n",
      "|       4.0|       4.0|\n",
      "+----------+----------+\n",
      "only showing top 20 rows\n",
      "\n"
     ]
    },
    {
     "name": "stderr",
     "output_type": "stream",
     "text": [
      "                                                                                \r"
     ]
    },
    {
     "data": {
      "image/png": "[encoded data removed]",
      "text/plain": [
       "<Figure size 432x288 with 1 Axes>"
      ]
     },
     "metadata": {
      "needs_background": "light"
     },
     "output_type": "display_data"
    },
    {
     "name": "stderr",
     "output_type": "stream",
     "text": [
      "                                                                                \r"
     ]
    },
    {
     "name": "stdout",
     "output_type": "stream",
     "text": [
      "Correct: 8816\n"
     ]
    },
    {
     "name": "stderr",
     "output_type": "stream",
     "text": [
      "\r",
      "[Stage 779:>                                                        (0 + 1) / 1]\r"
     ]
    },
    {
     "name": "stdout",
     "output_type": "stream",
     "text": [
      "Total Correct: 8405\n"
     ]
    },
    {
     "name": "stderr",
     "output_type": "stream",
     "text": [
      "\r",
      "                                                                                \r"
     ]
    }
   ],
   "source": [
    "# If we select the actual and predicted results, we can see that some predictions were correct while others were wrong.\n",
    "rfc_predictions.select('AQIB_index','prediction').show()\n",
    "\n",
    "\n",
    "import numpy as np\n",
    "from numpy import polyfit\n",
    "test_dt=rfc_predictions\n",
    "x1 = test_dt.toPandas()['AQIB_index'].values.tolist()\n",
    "y1 = test_dt.toPandas()['prediction'].values.tolist()\n",
    "plt.scatter(x1, y1, color='red', s=30)\n",
    "plt.xlabel('AQIB')\n",
    "plt.ylabel('pred')\n",
    "plt.title('RF classifier')\n",
    "p1 = polyfit(x1, y1, 1)\n",
    "#plt.plot(x1, np.polyval(p1,x1), 'g-' )\n",
    "plt.show()\n",
    "# Not all interpretation has to be visualisations. You can also gain a lot of information with text.\n",
    "# For example, here we're seeing how much variance our model could account for.\n",
    "# According to this, the model got 164/209 correct. \n",
    "totalResults = rfc_predictions.select('AQIB_index','prediction')\n",
    "\n",
    "\n",
    "correctResults = totalResults.filter(totalResults['AQIB_INDEX'] == totalResults['prediction'])\n",
    "\n",
    "countTR = totalResults.count()\n",
    "print(\"Correct: \" + str(countTR))\n",
    "\n",
    "countTC = correctResults.count()\n",
    "print(\"Total Correct: \" + str(countTC)) "
   ]
  },
  {
   "cell_type": "markdown",
   "metadata": {},
   "source": [
    "# kmeans unsupervised learning"
   ]
  },
  {
   "cell_type": "code",
   "execution_count": 161,
   "metadata": {},
   "outputs": [
    {
     "name": "stderr",
     "output_type": "stream",
     "text": [
      "\r",
      "[Stage 1862:>                                                       (0 + 1) / 1]\r"
     ]
    },
    {
     "name": "stdout",
     "output_type": "stream",
     "text": [
      "+---------+----------+---------+------------------+------------------+-----------------+-----------------+------------------+------------------+----+------------------+--------------------+\n",
      "|     City|      Date|AQIBucket|              PM25|               SO2|              NO2|             PM10|               AQI|                O3|year|              AQII|            features|\n",
      "+---------+----------+---------+------------------+------------------+-----------------+-----------------+------------------+------------------+----+------------------+--------------------+\n",
      "|Ahmedabad|2015-07-24|     Good|3.3748533828233915| 2.608598116512439|2.258633173576066|4.952582315213222|3.8712010109078907|1.6253112465718973|2015|3.8712010109078907|[3.37485338282339...|\n",
      "|Ahmedabad|2015-02-05| Moderate| 4.066630734112974|3.4861510828703075|3.062923494559879|4.952582315213222| 5.003946305945459| 3.980429055192082|2015| 5.003946305945459|[4.06663073411297...|\n",
      "+---------+----------+---------+------------------+------------------+-----------------+-----------------+------------------+------------------+----+------------------+--------------------+\n",
      "only showing top 2 rows\n",
      "\n"
     ]
    },
    {
     "name": "stderr",
     "output_type": "stream",
     "text": [
      "\r",
      "                                                                                \r"
     ]
    }
   ],
   "source": [
    "import pandas as pd\n",
    "\n",
    "from pyspark.ml.feature import VectorAssembler\n",
    "from pyspark.ml.clustering import KMeans\n",
    "from pyspark.ml import Pipeline\n",
    "\n",
    "assembler = VectorAssembler(inputCols=['PM25',\n",
    " 'PM10',\n",
    " 'NO2',\n",
    " 'SO2',\n",
    " 'AQII'],outputCol=\"features\")\n",
    "\n",
    "spark_df_indk=spark_df_ind\n",
    "spark_df_indk=spark_df_indk.drop(\"AQIB_index\")\n",
    "\n",
    "assembled_data=assembler.transform(spark_df_indk)\n",
    "assembled_data.show(2)\n"
   ]
  },
  {
   "cell_type": "code",
   "execution_count": 162,
   "metadata": {},
   "outputs": [],
   "source": [
    "\n",
    "#from pyspark.ml.feature import StandardScaler\n",
    "#scale=StandardScaler(inputCol='features',outputCol='standardized')\n",
    "#data_scale=scale.fit(assembled_data)\n",
    "#data_scale_output=data_scale.transform(assembled_data)\n",
    "#data_scale_output.show(2)"
   ]
  },
  {
   "cell_type": "code",
   "execution_count": 163,
   "metadata": {},
   "outputs": [
    {
     "name": "stderr",
     "output_type": "stream",
     "text": [
      "                                                                                \r"
     ]
    },
    {
     "name": "stdout",
     "output_type": "stream",
     "text": [
      "Silhouette Score: 0.47716760017648513\n"
     ]
    },
    {
     "name": "stderr",
     "output_type": "stream",
     "text": [
      "                                                                                \r"
     ]
    },
    {
     "name": "stdout",
     "output_type": "stream",
     "text": [
      "Silhouette Score: 0.35875095264046103\n"
     ]
    },
    {
     "name": "stderr",
     "output_type": "stream",
     "text": [
      "                                                                                \r"
     ]
    },
    {
     "name": "stdout",
     "output_type": "stream",
     "text": [
      "Silhouette Score: 0.3170515053946548\n"
     ]
    },
    {
     "name": "stderr",
     "output_type": "stream",
     "text": [
      "                                                                                \r"
     ]
    },
    {
     "name": "stdout",
     "output_type": "stream",
     "text": [
      "Silhouette Score: 0.3207112162822799\n"
     ]
    },
    {
     "name": "stderr",
     "output_type": "stream",
     "text": [
      "                                                                                \r"
     ]
    },
    {
     "name": "stdout",
     "output_type": "stream",
     "text": [
      "Silhouette Score: 0.3001353156188163\n"
     ]
    },
    {
     "name": "stderr",
     "output_type": "stream",
     "text": [
      "                                                                                \r"
     ]
    },
    {
     "name": "stdout",
     "output_type": "stream",
     "text": [
      "Silhouette Score: 0.26786795577318306\n"
     ]
    },
    {
     "name": "stderr",
     "output_type": "stream",
     "text": [
      "                                                                                \r"
     ]
    },
    {
     "name": "stdout",
     "output_type": "stream",
     "text": [
      "Silhouette Score: 0.30421164356532265\n"
     ]
    },
    {
     "name": "stderr",
     "output_type": "stream",
     "text": [
      "[Stage 2593:>                                                       (0 + 1) / 1]\r"
     ]
    },
    {
     "name": "stdout",
     "output_type": "stream",
     "text": [
      "Silhouette Score: 0.29436149569916037\n"
     ]
    },
    {
     "name": "stderr",
     "output_type": "stream",
     "text": [
      "\r",
      "                                                                                \r"
     ]
    },
    {
     "data": {
      "text/plain": [
       "Text(0, 0.5, 'cost')"
      ]
     },
     "execution_count": 163,
     "metadata": {},
     "output_type": "execute_result"
    },
    {
     "data": {
      "image/png": "[encoded data removed]",
      "text/plain": [
       "<Figure size 576x432 with 1 Axes>"
      ]
     },
     "metadata": {
      "needs_background": "light"
     },
     "output_type": "display_data"
    }
   ],
   "source": [
    "from pyspark.ml.clustering import KMeans\n",
    "from pyspark.ml.evaluation import ClusteringEvaluator\n",
    "silhouette_score=[]\n",
    "\n",
    "evaluator = ClusteringEvaluator(featuresCol='features', \\\n",
    "metricName='silhouette', distanceMeasure='squaredEuclidean')\n",
    "\n",
    "#evaluator = ClusteringEvaluator( featuresCol='standardized', \\\n",
    "#                                metricName='silhouette', distanceMeasure='squaredEuclidean')\n",
    "for i in range(2,10):\n",
    "    \n",
    "    KMeans_algo=KMeans(featuresCol='features', k=i)\n",
    "    \n",
    "    KMeans_fit=KMeans_algo.fit(assembled_data)\n",
    "    \n",
    "    output=KMeans_fit.transform(assembled_data)\n",
    "    \n",
    "    \n",
    "    \n",
    "    score=evaluator.evaluate(output)\n",
    "    \n",
    "    silhouette_score.append(score)\n",
    "    \n",
    "    print(\"Silhouette Score:\",score)\n",
    "    \n",
    "    \n",
    "#Visualizing the silhouette scores in a plot\n",
    "import matplotlib.pyplot as plt\n",
    "fig, ax = plt.subplots(1,1, figsize =(8,6))\n",
    "ax.plot(range(2,10),silhouette_score)\n",
    "ax.set_xlabel('k')\n",
    "ax.set_ylabel('cost')"
   ]
  },
  {
   "cell_type": "code",
   "execution_count": 181,
   "metadata": {},
   "outputs": [
    {
     "name": "stderr",
     "output_type": "stream",
     "text": [
      "                                                                                \r"
     ]
    },
    {
     "data": {
      "text/plain": [
       "DataFrame[City: string, Date: string, AQIBucket: string, PM25: double, SO2: double, NO2: double, PM10: double, AQI: double, O3: double, year: int, AQII: double, features: vector, prediction: int]"
      ]
     },
     "execution_count": 181,
     "metadata": {},
     "output_type": "execute_result"
    }
   ],
   "source": [
    "KMeans_=KMeans(featuresCol='features', k=2) \n",
    "KMeans_Model=KMeans_.fit(assembled_data)\n",
    "KMeans_Assignments=KMeans_Model.transform(assembled_data)\n",
    "KMeans_Assignments\n",
    "\n"
   ]
  },
  {
   "cell_type": "code",
   "execution_count": null,
   "metadata": {},
   "outputs": [],
   "source": []
  },
  {
   "cell_type": "code",
   "execution_count": 182,
   "metadata": {},
   "outputs": [
    {
     "name": "stderr",
     "output_type": "stream",
     "text": [
      "                                                                                \r"
     ]
    },
    {
     "name": "stdout",
     "output_type": "stream",
     "text": [
      "+----------+-----+\n",
      "|prediction|count|\n",
      "+----------+-----+\n",
      "|         1|15440|\n",
      "|         0|14091|\n",
      "+----------+-----+\n",
      "\n"
     ]
    },
    {
     "name": "stderr",
     "output_type": "stream",
     "text": [
      "\r",
      "[Stage 2932:>                                                       (0 + 1) / 1]\r"
     ]
    },
    {
     "name": "stdout",
     "output_type": "stream",
     "text": [
      "+---------+----------+---------+------------------+------------------+------------------+-----------------+------------------+------------------+----+------------------+--------------------+----------+\n",
      "|     City|      Date|AQIBucket|              PM25|               SO2|               NO2|             PM10|               AQI|                O3|year|              AQII|            features|prediction|\n",
      "+---------+----------+---------+------------------+------------------+------------------+-----------------+------------------+------------------+----+------------------+--------------------+----------+\n",
      "|Ahmedabad|2015-07-24|     Good|3.3748533828233915| 2.608598116512439| 2.258633173576066|4.952582315213222|3.8712010109078907|1.6253112465718973|2015|3.8712010109078907|[3.37485338282339...|         1|\n",
      "|Ahmedabad|2015-02-05| Moderate| 4.066630734112974|3.4861510828703075| 3.062923494559879|4.952582315213222| 5.003946305945459| 3.980429055192082|2015| 5.003946305945459|[4.06663073411297...|         0|\n",
      "|Ahmedabad|2015-02-06| Moderate| 4.373112028830875| 4.210793429191253| 3.293612190806183|4.952582315213222| 5.247024072160486| 4.082609293137922|2015| 5.247024072160486|[4.37311202883087...|         0|\n",
      "|Ahmedabad|2015-02-26| Moderate| 4.112839127382558|2.2684374470398123|3.0130977074753162|4.952582315213222|              null| 3.306269545598628|2015| 5.241747015059643|[4.11283912738255...|         0|\n",
      "|Ahmedabad|2015-02-27| Moderate| 4.112839127382558|2.2684374470398123|3.0130977074753162|4.952582315213222|              null| 3.306269545598628|2015| 5.241747015059643|[4.11283912738255...|         0|\n",
      "|Ahmedabad|2015-02-28| Moderate| 4.112839127382558|2.2684374470398123|3.0130977074753162|4.952582315213222|              null| 3.306269545598628|2015| 5.241747015059643|[4.11283912738255...|         0|\n",
      "|Ahmedabad|2015-03-01| Moderate| 4.112839127382558| 3.347796623713437|2.8219739156502905|4.952582315213222|              null| 3.417070715799952|2015| 5.241747015059643|[4.11283912738255...|         0|\n",
      "|Ahmedabad|2015-03-02| Moderate| 4.107260767404687|3.3837120517931956|2.9019708434634395|4.952582315213222| 5.241747015059643| 3.548179572010801|2015| 5.241747015059643|[4.10726076740468...|         0|\n",
      "|Ahmedabad|2015-03-06| Moderate| 4.658236877984453|2.2684374470398123|3.0130977074753162|4.952582315213222|              null| 3.306269545598628|2015| 5.247024072160486|[4.65823687798445...|         0|\n",
      "|Ahmedabad|2015-03-07| Moderate| 4.658236877984453|3.3772461920969765| 2.778819295684189|4.952582315213222|              null| 4.247065671069219|2015| 5.247024072160486|[4.65823687798445...|         0|\n",
      "|Ahmedabad|2015-03-08| Moderate| 4.270536224523606|3.4104874512457837|2.8231630036695035|4.952582315213222| 5.247024072160486|4.0458543503921796|2015| 5.247024072160486|[4.27053622452360...|         0|\n",
      "|Ahmedabad|2015-03-16| Moderate|3.4262151520783353|3.7755157362866596| 2.649007684748678|4.952582315213222| 4.770684624465665| 4.003325141551195|2015| 4.770684624465665|[3.42621515207833...|         0|\n",
      "|Ahmedabad|2015-04-03| Moderate| 3.971611791089365| 3.697839210608093|2.6261167962573397|4.952582315213222|5.1298987149230735|3.0800734325062087|2015|5.1298987149230735|[3.97161179108936...|         0|\n",
      "|Ahmedabad|2015-04-10| Moderate| 4.902307462556211| 3.541828476049942| 3.268427621122788|4.952582315213222|              null|1.9459101490553132|2015| 4.836281906951478|[4.90230746255621...|         0|\n",
      "|Ahmedabad|2015-04-11| Moderate| 4.111857009797577| 2.089391863090684|2.6411978750816676|4.952582315213222| 4.836281906951478| 2.972463693468645|2015| 4.836281906951478|[4.11185700979757...|         0|\n",
      "|Ahmedabad|2015-04-12| Moderate|3.6742732552746826| 2.871302186535503| 2.973486637303112|4.952582315213222|5.1647859739235145|3.4436180731710446|2015|5.1647859739235145|[3.67427325527468...|         0|\n",
      "|Ahmedabad|2015-04-22| Moderate| 4.149148371115334|3.2104403829784154|2.5862591239406965|4.952582315213222| 5.241747015059643|3.7755157362866596|2015| 5.241747015059643|[4.14914837111533...|         0|\n",
      "|Ahmedabad|2015-05-06| Moderate| 4.176078156622931|3.1032405018244478|1.5216989814680268|4.952582315213222| 4.787491742782046|3.4738280206677126|2015| 4.787491742782046|[4.17607815662293...|         0|\n",
      "|Ahmedabad|2015-05-07| Moderate| 3.932413671154596| 2.740840023925201| 3.018960366129206|4.952582315213222| 5.062595033026967| 3.448080984547571|2015| 5.062595033026967|[3.93241367115459...|         0|\n",
      "|Ahmedabad|2015-05-08| Moderate|3.6566144817073045|3.0022111979610187|2.9590683247967924|4.952582315213222| 5.176149732573829|3.2464910215875338|2015| 5.176149732573829|[3.65661448170730...|         0|\n",
      "+---------+----------+---------+------------------+------------------+------------------+-----------------+------------------+------------------+----+------------------+--------------------+----------+\n",
      "only showing top 20 rows\n",
      "\n"
     ]
    },
    {
     "name": "stderr",
     "output_type": "stream",
     "text": [
      "\r",
      "                                                                                \r"
     ]
    }
   ],
   "source": [
    "KMeans_Assignments.groupBy(\"prediction\").count().show()\n",
    "KMeans_Assignments.show()\n"
   ]
  },
  {
   "cell_type": "code",
   "execution_count": 183,
   "metadata": {},
   "outputs": [
    {
     "name": "stdout",
     "output_type": "stream",
     "text": [
      "[3.31272115 4.07234337 2.6510707  1.95408414 4.39491059]\n"
     ]
    },
    {
     "name": "stderr",
     "output_type": "stream",
     "text": [
      "                                                                                \r"
     ]
    },
    {
     "data": {
      "text/html": [
       "<div>\n",
       "<style scoped>\n",
       "    .dataframe tbody tr th:only-of-type {\n",
       "        vertical-align: middle;\n",
       "    }\n",
       "\n",
       "    .dataframe tbody tr th {\n",
       "        vertical-align: top;\n",
       "    }\n",
       "\n",
       "    .dataframe thead th {\n",
       "        text-align: right;\n",
       "    }\n",
       "</style>\n",
       "<table border=\"1\" class=\"dataframe\">\n",
       "  <thead>\n",
       "    <tr style=\"text-align: right;\">\n",
       "      <th></th>\n",
       "      <th>City</th>\n",
       "      <th>Date</th>\n",
       "      <th>AQIBucket</th>\n",
       "      <th>PM25</th>\n",
       "      <th>SO2</th>\n",
       "      <th>NO2</th>\n",
       "      <th>PM10</th>\n",
       "      <th>AQI</th>\n",
       "      <th>O3</th>\n",
       "      <th>year</th>\n",
       "      <th>AQII</th>\n",
       "      <th>features</th>\n",
       "      <th>prediction</th>\n",
       "    </tr>\n",
       "  </thead>\n",
       "  <tbody>\n",
       "    <tr>\n",
       "      <th>0</th>\n",
       "      <td>Ahmedabad</td>\n",
       "      <td>2015-07-24</td>\n",
       "      <td>Good</td>\n",
       "      <td>3.374853</td>\n",
       "      <td>2.608598</td>\n",
       "      <td>2.258633</td>\n",
       "      <td>4.952582</td>\n",
       "      <td>3.871201</td>\n",
       "      <td>1.625311</td>\n",
       "      <td>2015</td>\n",
       "      <td>3.871201</td>\n",
       "      <td>[3.3748533828233915, 4.952582315213222, 2.2586...</td>\n",
       "      <td>1</td>\n",
       "    </tr>\n",
       "    <tr>\n",
       "      <th>1</th>\n",
       "      <td>Ahmedabad</td>\n",
       "      <td>2015-02-05</td>\n",
       "      <td>Moderate</td>\n",
       "      <td>4.066631</td>\n",
       "      <td>3.486151</td>\n",
       "      <td>3.062923</td>\n",
       "      <td>4.952582</td>\n",
       "      <td>5.003946</td>\n",
       "      <td>3.980429</td>\n",
       "      <td>2015</td>\n",
       "      <td>5.003946</td>\n",
       "      <td>[4.066630734112974, 4.952582315213222, 3.06292...</td>\n",
       "      <td>0</td>\n",
       "    </tr>\n",
       "    <tr>\n",
       "      <th>2</th>\n",
       "      <td>Ahmedabad</td>\n",
       "      <td>2015-02-06</td>\n",
       "      <td>Moderate</td>\n",
       "      <td>4.373112</td>\n",
       "      <td>4.210793</td>\n",
       "      <td>3.293612</td>\n",
       "      <td>4.952582</td>\n",
       "      <td>5.247024</td>\n",
       "      <td>4.082609</td>\n",
       "      <td>2015</td>\n",
       "      <td>5.247024</td>\n",
       "      <td>[4.373112028830875, 4.952582315213222, 3.29361...</td>\n",
       "      <td>0</td>\n",
       "    </tr>\n",
       "    <tr>\n",
       "      <th>3</th>\n",
       "      <td>Ahmedabad</td>\n",
       "      <td>2015-02-26</td>\n",
       "      <td>Moderate</td>\n",
       "      <td>4.112839</td>\n",
       "      <td>2.268437</td>\n",
       "      <td>3.013098</td>\n",
       "      <td>4.952582</td>\n",
       "      <td>NaN</td>\n",
       "      <td>3.306270</td>\n",
       "      <td>2015</td>\n",
       "      <td>5.241747</td>\n",
       "      <td>[4.112839127382558, 4.952582315213222, 3.01309...</td>\n",
       "      <td>0</td>\n",
       "    </tr>\n",
       "    <tr>\n",
       "      <th>4</th>\n",
       "      <td>Ahmedabad</td>\n",
       "      <td>2015-02-27</td>\n",
       "      <td>Moderate</td>\n",
       "      <td>4.112839</td>\n",
       "      <td>2.268437</td>\n",
       "      <td>3.013098</td>\n",
       "      <td>4.952582</td>\n",
       "      <td>NaN</td>\n",
       "      <td>3.306270</td>\n",
       "      <td>2015</td>\n",
       "      <td>5.241747</td>\n",
       "      <td>[4.112839127382558, 4.952582315213222, 3.01309...</td>\n",
       "      <td>0</td>\n",
       "    </tr>\n",
       "  </tbody>\n",
       "</table>\n",
       "</div>"
      ],
      "text/plain": [
       "        City        Date AQIBucket      PM25       SO2       NO2      PM10  \\\n",
       "0  Ahmedabad  2015-07-24      Good  3.374853  2.608598  2.258633  4.952582   \n",
       "1  Ahmedabad  2015-02-05  Moderate  4.066631  3.486151  3.062923  4.952582   \n",
       "2  Ahmedabad  2015-02-06  Moderate  4.373112  4.210793  3.293612  4.952582   \n",
       "3  Ahmedabad  2015-02-26  Moderate  4.112839  2.268437  3.013098  4.952582   \n",
       "4  Ahmedabad  2015-02-27  Moderate  4.112839  2.268437  3.013098  4.952582   \n",
       "\n",
       "        AQI        O3  year      AQII  \\\n",
       "0  3.871201  1.625311  2015  3.871201   \n",
       "1  5.003946  3.980429  2015  5.003946   \n",
       "2  5.247024  4.082609  2015  5.247024   \n",
       "3       NaN  3.306270  2015  5.241747   \n",
       "4       NaN  3.306270  2015  5.241747   \n",
       "\n",
       "                                            features  prediction  \n",
       "0  [3.3748533828233915, 4.952582315213222, 2.2586...           1  \n",
       "1  [4.066630734112974, 4.952582315213222, 3.06292...           0  \n",
       "2  [4.373112028830875, 4.952582315213222, 3.29361...           0  \n",
       "3  [4.112839127382558, 4.952582315213222, 3.01309...           0  \n",
       "4  [4.112839127382558, 4.952582315213222, 3.01309...           0  "
      ]
     },
     "execution_count": 183,
     "metadata": {},
     "output_type": "execute_result"
    }
   ],
   "source": [
    "ctr=[]\n",
    "centers = KMeans_Model.clusterCenters()\n",
    "for center in centers:\n",
    "    ctr.append(center)\n",
    "print(center)\n",
    "\n",
    "pandasDF=KMeans_Assignments.toPandas()\n",
    "#centers = pd.DataFrame(ctr,columns=features)\n",
    "\n",
    "pandasDF.head()"
   ]
  },
  {
   "cell_type": "code",
   "execution_count": 184,
   "metadata": {},
   "outputs": [
    {
     "name": "stderr",
     "output_type": "stream",
     "text": [
      "                                                                                \r"
     ]
    },
    {
     "data": {
      "image/png": "[encoded data removed]",
      "text/plain": [
       "<Figure size 432x288 with 1 Axes>"
      ]
     },
     "metadata": {
      "needs_background": "light"
     },
     "output_type": "display_data"
    }
   ],
   "source": [
    "from pyspark.ml.linalg import Vectors\n",
    "\n",
    "numCols = ['PM25','PM10','NO2','SO2','O3']\n",
    "target = ['AQIB_Index']\n",
    "\n",
    "#y_kmeans = KMeans_Model.predict(assembled_data)\n",
    "\n",
    "import numpy as np\n",
    "from numpy import polyfit\n",
    "test_dt=rfc_predictions\n",
    "x1 = KMeans_Assignments.toPandas()['AQIBucket'].values.tolist()\n",
    "y1 = KMeans_Assignments.toPandas()['prediction'].values.tolist()\n",
    "plt.scatter(x1, y1, color='red', s=30)\n",
    "plt.xlabel('AQIB')\n",
    "plt.ylabel('pred')\n",
    "plt.title('kmeans')\n",
    "#p1 = polyfit(x1, y1, 1)\n",
    "#plt.plot(x1, np.polyval(p1,x1), 'g-' )\n",
    "plt.show()"
   ]
  },
  {
   "cell_type": "code",
   "execution_count": 185,
   "metadata": {},
   "outputs": [
    {
     "name": "stderr",
     "output_type": "stream",
     "text": [
      "\r",
      "[Stage 2942:>                                                       (0 + 1) / 1]\r"
     ]
    },
    {
     "name": "stdout",
     "output_type": "stream",
     "text": [
      "+----------+------------+-----------------+------------------+------------------+------------------+------------------+------------------+---------+------------------+---------------+\n",
      "|prediction|        City|        max(PM25)|          max(SO2)|          max(NO2)|         max(PM10)|          max(AQI)|           max(O3)|max(year)|         max(AQII)|max(prediction)|\n",
      "+----------+------------+-----------------+------------------+------------------+------------------+------------------+------------------+---------+------------------+---------------+\n",
      "|         1|   Ahmedabad|5.019925300689506| 3.629660114691086| 3.682861339573413| 4.958850599523206| 5.799092654460526| 4.328494016859682|     2020| 7.518607216815252|              1|\n",
      "|         0|   Ahmedabad|5.944608767219025| 5.226176698610502| 5.676822255451583| 6.373780467631602|   7.6251071482389| 5.090247094639764|     2020|   7.6251071482389|              0|\n",
      "|         1|      Aizawl|4.005513376309271|2.6049094224466427| 1.047318960818302| 4.140910041079119|4.5217885770490405| 3.306269545598628|     2020|4.5217885770490405|              1|\n",
      "|         1|   Amaravati|4.279855518538368|3.7975096220614057|3.8433158139559684|  4.88295345862285|5.2574953720277815| 4.839688797737598|     2020|5.2574953720277815|              1|\n",
      "|         0|   Amaravati|4.937204051042747| 4.195546433537642| 4.942855958611867| 5.439252552023664|5.7430031878094825| 4.928557130055736|     2020|5.7430031878094825|              0|\n",
      "|         1|    Amritsar|4.531846524853179|  3.90015282976946| 5.469198751206183| 5.960102854920055| 5.424950017481403| 4.170996894899356|     2020| 6.137727054086234|              1|\n",
      "|         0|    Amritsar|6.766951763474174| 4.208565738072909| 4.929786750349418| 6.821194728089524| 6.767343125265392| 4.200204907168087|     2020| 6.767343125265392|              0|\n",
      "|         1|   Bengaluru|5.385274567011145| 4.528936919510511| 4.328625809659458| 5.762114239338222| 5.733341276897746| 5.057518860581888|     2020| 5.733341276897746|              1|\n",
      "|         0|   Bengaluru|5.748086388534708|3.8541819766369816| 4.958288856600868|5.8622381881301004| 5.863631175598097|4.7002076124231715|     2020| 5.863631175598097|              0|\n",
      "|         1|      Bhopal|3.870367311069919| 3.122364958097024| 3.652734054938823| 5.042133980869824|  4.90527477843843| 4.642947535629017|     2020|  4.90527477843843|              1|\n",
      "|         0|      Bhopal|4.915738348804386|3.8598872317171127| 4.326381756508535| 5.561719511514534|5.7430031878094825| 4.694370848194355|     2020|5.7430031878094825|              0|\n",
      "|         1|Brajrajnagar|4.881513227659393|3.2176750767928626| 3.199081206878325| 5.541106696442102| 5.293304824724492| 4.575329318823492|     2020| 5.730099782973575|              1|\n",
      "|         0|Brajrajnagar|5.732661461878853|3.1929424678971787| 3.715277920537842| 6.379088128606704| 5.872117789475416| 4.516557490951706|     2020| 5.872117789475416|              0|\n",
      "|         1|  Chandigarh|4.283724512844685|2.8981194110402666|3.9554655866471435|  4.99964175673538| 5.003946305945459| 4.131640327365554|     2020| 5.003946305945459|              1|\n",
      "|         0|  Chandigarh|5.042456945834876|2.6026896854443837| 3.937105794724099| 5.412627718169668| 5.814130531825066| 3.278276194031499|     2020| 5.814130531825066|              0|\n",
      "|         1|     Chennai|5.425698627814845| 3.922171303249575| 4.592793880932654| 5.848546410774335|6.1070228877422545| 4.522223275114224|     2020|6.1070228877422545|              1|\n",
      "|         0|     Chennai|5.681639085009809| 3.875981224589616| 4.721084818737688| 5.487283491323556| 6.104793232414985| 4.655197653462161|     2020| 6.104793232414985|              0|\n",
      "|         1|  Coimbatore|4.124388713184818| 2.794227920674744| 4.355682635835118| 4.530338885231748|  4.77912349311153| 4.280685819676853|     2020|  4.77912349311153|              1|\n",
      "|         0|  Coimbatore|4.144720745365251| 2.649714597130255| 4.419683622177262| 4.663439094112067| 4.787491742782046| 4.340683698969494|     2020| 4.787491742782046|              0|\n",
      "|         1|       Delhi|4.329811867244315| 2.867898923718522| 4.245634053489784| 5.509307344390863|5.5909869805108565| 4.516776045226887|     2020|5.5909869805108565|              1|\n",
      "+----------+------------+-----------------+------------------+------------------+------------------+------------------+------------------+---------+------------------+---------------+\n",
      "only showing top 20 rows\n",
      "\n"
     ]
    },
    {
     "name": "stderr",
     "output_type": "stream",
     "text": [
      "\r",
      "                                                                                \r"
     ]
    }
   ],
   "source": [
    "KMeans_Assignments.groupBy(\"prediction\",'City').max().show()"
   ]
  },
  {
   "cell_type": "code",
   "execution_count": 186,
   "metadata": {},
   "outputs": [
    {
     "name": "stderr",
     "output_type": "stream",
     "text": [
      "                                                                                \r"
     ]
    },
    {
     "name": "stdout",
     "output_type": "stream",
     "text": [
      "+----------+------------+-----------------+------------------+------------------+------------------+------------------+------------------+---------+------------------+---------------+\n",
      "|prediction|        City|        max(PM25)|          max(SO2)|          max(NO2)|         max(PM10)|          max(AQI)|           max(O3)|max(year)|         max(AQII)|max(prediction)|\n",
      "+----------+------------+-----------------+------------------+------------------+------------------+------------------+------------------+---------+------------------+---------------+\n",
      "|         1|   Ahmedabad|5.019925300689506| 3.629660114691086| 3.682861339573413| 4.958850599523206| 5.799092654460526| 4.328494016859682|     2020| 7.518607216815252|              1|\n",
      "|         0|   Ahmedabad|5.944608767219025| 5.226176698610502| 5.676822255451583| 6.373780467631602|   7.6251071482389| 5.090247094639764|     2020|   7.6251071482389|              0|\n",
      "|         1|      Aizawl|4.005513376309271|2.6049094224466427| 1.047318960818302| 4.140910041079119|4.5217885770490405| 3.306269545598628|     2020|4.5217885770490405|              1|\n",
      "|         1|   Amaravati|4.279855518538368|3.7975096220614057|3.8433158139559684|  4.88295345862285|5.2574953720277815| 4.839688797737598|     2020|5.2574953720277815|              1|\n",
      "|         0|   Amaravati|4.937204051042747| 4.195546433537642| 4.942855958611867| 5.439252552023664|5.7430031878094825| 4.928557130055736|     2020|5.7430031878094825|              0|\n",
      "|         1|    Amritsar|4.531846524853179|  3.90015282976946| 5.469198751206183| 5.960102854920055| 5.424950017481403| 4.170996894899356|     2020| 6.137727054086234|              1|\n",
      "|         0|    Amritsar|6.766951763474174| 4.208565738072909| 4.929786750349418| 6.821194728089524| 6.767343125265392| 4.200204907168087|     2020| 6.767343125265392|              0|\n",
      "|         1|   Bengaluru|5.385274567011145| 4.528936919510511| 4.328625809659458| 5.762114239338222| 5.733341276897746| 5.057518860581888|     2020| 5.733341276897746|              1|\n",
      "|         0|   Bengaluru|5.748086388534708|3.8541819766369816| 4.958288856600868|5.8622381881301004| 5.863631175598097|4.7002076124231715|     2020| 5.863631175598097|              0|\n",
      "|         1|      Bhopal|3.870367311069919| 3.122364958097024| 3.652734054938823| 5.042133980869824|  4.90527477843843| 4.642947535629017|     2020|  4.90527477843843|              1|\n",
      "|         0|      Bhopal|4.915738348804386|3.8598872317171127| 4.326381756508535| 5.561719511514534|5.7430031878094825| 4.694370848194355|     2020|5.7430031878094825|              0|\n",
      "|         1|Brajrajnagar|4.881513227659393|3.2176750767928626| 3.199081206878325| 5.541106696442102| 5.293304824724492| 4.575329318823492|     2020| 5.730099782973575|              1|\n",
      "|         0|Brajrajnagar|5.732661461878853|3.1929424678971787| 3.715277920537842| 6.379088128606704| 5.872117789475416| 4.516557490951706|     2020| 5.872117789475416|              0|\n",
      "|         1|  Chandigarh|4.283724512844685|2.8981194110402666|3.9554655866471435|  4.99964175673538| 5.003946305945459| 4.131640327365554|     2020| 5.003946305945459|              1|\n",
      "|         0|  Chandigarh|5.042456945834876|2.6026896854443837| 3.937105794724099| 5.412627718169668| 5.814130531825066| 3.278276194031499|     2020| 5.814130531825066|              0|\n",
      "|         1|     Chennai|5.425698627814845| 3.922171303249575| 4.592793880932654| 5.848546410774335|6.1070228877422545| 4.522223275114224|     2020|6.1070228877422545|              1|\n",
      "|         0|     Chennai|5.681639085009809| 3.875981224589616| 4.721084818737688| 5.487283491323556| 6.104793232414985| 4.655197653462161|     2020| 6.104793232414985|              0|\n",
      "|         1|  Coimbatore|4.124388713184818| 2.794227920674744| 4.355682635835118| 4.530338885231748|  4.77912349311153| 4.280685819676853|     2020|  4.77912349311153|              1|\n",
      "|         0|  Coimbatore|4.144720745365251| 2.649714597130255| 4.419683622177262| 4.663439094112067| 4.787491742782046| 4.340683698969494|     2020| 4.787491742782046|              0|\n",
      "|         1|       Delhi|4.329811867244315| 2.867898923718522| 4.245634053489784| 5.509307344390863|5.5909869805108565| 4.516776045226887|     2020|5.5909869805108565|              1|\n",
      "+----------+------------+-----------------+------------------+------------------+------------------+------------------+------------------+---------+------------------+---------------+\n",
      "only showing top 20 rows\n",
      "\n"
     ]
    },
    {
     "name": "stderr",
     "output_type": "stream",
     "text": [
      "                                                                                \r"
     ]
    },
    {
     "name": "stdout",
     "output_type": "stream",
     "text": [
      "+---------+------------+-----+\n",
      "|     City|   AQIBucket|count|\n",
      "+---------+------------+-----+\n",
      "|Ahmedabad|    Moderate|  470|\n",
      "|Ahmedabad|        Poor|  477|\n",
      "|Ahmedabad|Satisfactory|    7|\n",
      "|Ahmedabad|      Severe|  663|\n",
      "|Ahmedabad|   Very Poor|  227|\n",
      "|Amaravati|    Moderate|  177|\n",
      "|Amaravati|        Poor|   48|\n",
      "|Amaravati|Satisfactory|   15|\n",
      "|Amaravati|   Very Poor|    8|\n",
      "| Amritsar|    Moderate|  239|\n",
      "| Amritsar|        Poor|   74|\n",
      "| Amritsar|Satisfactory|    8|\n",
      "| Amritsar|      Severe|   25|\n",
      "| Amritsar|   Very Poor|   47|\n",
      "|Bengaluru|    Moderate|  262|\n",
      "|Bengaluru|        Poor|    9|\n",
      "|Bengaluru|Satisfactory|   38|\n",
      "|Bengaluru|   Very Poor|    3|\n",
      "|   Bhopal|    Moderate|  118|\n",
      "|   Bhopal|        Poor|   31|\n",
      "+---------+------------+-----+\n",
      "only showing top 20 rows\n",
      "\n"
     ]
    },
    {
     "name": "stderr",
     "output_type": "stream",
     "text": [
      "\r",
      "[Stage 2951:>                                                       (0 + 1) / 1]\r"
     ]
    },
    {
     "name": "stdout",
     "output_type": "stream",
     "text": [
      "+---------+------------+-----+\n",
      "|     City|   AQIBucket|count|\n",
      "+---------+------------+-----+\n",
      "|Ahmedabad|        Good|    1|\n",
      "|Ahmedabad|    Moderate|   77|\n",
      "|Ahmedabad|        Poor|   42|\n",
      "|Ahmedabad|Satisfactory|   37|\n",
      "|Ahmedabad|      Severe|    4|\n",
      "|Ahmedabad|   Very Poor|    4|\n",
      "|   Aizawl|        Good|   84|\n",
      "|   Aizawl|Satisfactory|   29|\n",
      "|Amaravati|        Good|  202|\n",
      "|Amaravati|    Moderate|   66|\n",
      "|Amaravati|Satisfactory|  435|\n",
      "| Amritsar|        Good|  102|\n",
      "| Amritsar|    Moderate|  243|\n",
      "| Amritsar|        Poor|    2|\n",
      "| Amritsar|Satisfactory|  480|\n",
      "| Amritsar|      Severe|    1|\n",
      "|Bengaluru|        Good|  127|\n",
      "|Bengaluru|    Moderate|  371|\n",
      "|Bengaluru|        Poor|   27|\n",
      "|Bengaluru|Satisfactory| 1170|\n",
      "+---------+------------+-----+\n",
      "only showing top 20 rows\n",
      "\n"
     ]
    },
    {
     "name": "stderr",
     "output_type": "stream",
     "text": [
      "\r",
      "                                                                                \r"
     ]
    },
    {
     "ename": "AttributeError",
     "evalue": "'GroupedData' object has no attribute 'size'",
     "output_type": "error",
     "traceback": [
      "\u001b[0;31m---------------------------------------------------------------------------\u001b[0m",
      "\u001b[0;31mAttributeError\u001b[0m                            Traceback (most recent call last)",
      "Input \u001b[0;32mIn [186]\u001b[0m, in \u001b[0;36m<cell line: 10>\u001b[0;34m()\u001b[0m\n\u001b[1;32m      6\u001b[0m vi\u001b[38;5;241m=\u001b[39mKMeans_Assignments[KMeans_Assignments[\u001b[38;5;124m'\u001b[39m\u001b[38;5;124mprediction\u001b[39m\u001b[38;5;124m'\u001b[39m]\u001b[38;5;241m.\u001b[39misin([\u001b[38;5;241m1\u001b[39m])]\n\u001b[1;32m      7\u001b[0m vi\u001b[38;5;241m.\u001b[39mgroupBy(\u001b[38;5;124m'\u001b[39m\u001b[38;5;124mCity\u001b[39m\u001b[38;5;124m'\u001b[39m,\u001b[38;5;124m'\u001b[39m\u001b[38;5;124mAQIBucket\u001b[39m\u001b[38;5;124m'\u001b[39m)\u001b[38;5;241m.\u001b[39mcount()\u001b[38;5;241m.\u001b[39mshow()\n\u001b[0;32m---> 10\u001b[0m \u001b[43mdf\u001b[49m\u001b[38;5;241;43m.\u001b[39;49m\u001b[43mgroupby\u001b[49m\u001b[43m(\u001b[49m\u001b[43m[\u001b[49m\u001b[38;5;124;43m'\u001b[39;49m\u001b[38;5;124;43mCourses\u001b[39;49m\u001b[38;5;124;43m'\u001b[39;49m\u001b[43m,\u001b[49m\u001b[38;5;124;43m'\u001b[39;49m\u001b[38;5;124;43mDuration\u001b[39;49m\u001b[38;5;124;43m'\u001b[39;49m\u001b[43m]\u001b[49m\u001b[43m)\u001b[49m\u001b[38;5;241;43m.\u001b[39;49m\u001b[43msize\u001b[49m()\u001b[38;5;241m.\u001b[39mgroupby(level\u001b[38;5;241m=\u001b[39m\u001b[38;5;241m0\u001b[39m)\u001b[38;5;241m.\u001b[39mmax()\n",
      "\u001b[0;31mAttributeError\u001b[0m: 'GroupedData' object has no attribute 'size'"
     ]
    }
   ],
   "source": [
    "KMeans_Assignments.groupBy(\"prediction\",'City').max().show()\n",
    "\n",
    "vi=KMeans_Assignments[KMeans_Assignments['prediction'].isin([0])]\n",
    "vi.groupBy('City','AQIBucket').count().show()\n",
    "\n",
    "vi=KMeans_Assignments[KMeans_Assignments['prediction'].isin([1])]\n",
    "vi.groupBy('City','AQIBucket').count().show()\n",
    "\n",
    "\n",
    "#df.groupby(['Courses','Duration']).size().groupby(level=0).max() \n",
    "\n"
   ]
  },
  {
   "cell_type": "code",
   "execution_count": 188,
   "metadata": {},
   "outputs": [
    {
     "name": "stderr",
     "output_type": "stream",
     "text": [
      "                                                                                \r"
     ]
    },
    {
     "name": "stdout",
     "output_type": "stream",
     "text": [
      "+----------+---------+-----+\n",
      "|prediction|AQIBucket|count|\n",
      "+----------+---------+-----+\n",
      "|         1|   Severe|   12|\n",
      "|         1|     Poor|  195|\n",
      "|         1|Very Poor|   28|\n",
      "|         0|   Severe| 1500|\n",
      "|         0|Very Poor| 2600|\n",
      "|         0|     Poor| 3053|\n",
      "+----------+---------+-----+\n",
      "\n"
     ]
    },
    {
     "name": "stderr",
     "output_type": "stream",
     "text": [
      "\r",
      "[Stage 2969:>                                                       (0 + 1) / 1]\r"
     ]
    },
    {
     "name": "stdout",
     "output_type": "stream",
     "text": [
      "+----------+------------+-----+\n",
      "|prediction|   AQIBucket|count|\n",
      "+----------+------------+-----+\n",
      "|         1|    Moderate| 4160|\n",
      "|         0|        Good|   22|\n",
      "|         0|    Moderate| 6135|\n",
      "|         1|Satisfactory| 9456|\n",
      "|         1|        Good| 1589|\n",
      "|         0|Satisfactory|  781|\n",
      "+----------+------------+-----+\n",
      "\n"
     ]
    },
    {
     "name": "stderr",
     "output_type": "stream",
     "text": [
      "\r",
      "                                                                                \r"
     ]
    }
   ],
   "source": [
    "\n",
    "viz1=KMeans_Assignments[KMeans_Assignments['AQIBucket'].isin([\"Poor\", 'Very Poor','Severe'])]\n",
    "viz1.groupBy(\"prediction\",'AQIBucket').count().show()\n",
    "\n",
    "viz=KMeans_Assignments[KMeans_Assignments['AQIBucket'].isin([\"Good\", 'Satisfactory','Moderate'])]\n",
    "\n",
    "#viz=KMeans_Assignments.where(col(\"AQIBucket\")in (\"Good\" or 'Satisfactory' or 'Moderate'))\n",
    "viz.groupBy(\"prediction\",'AQIBucket').count().show()\n",
    "\n",
    "#vi=KMeans_Assignments[KMeans_Assignments['prediction'].isin([3])]\n",
    "#vi.groupBy('City','AQIBucket').count().show()"
   ]
  },
  {
   "cell_type": "code",
   "execution_count": 170,
   "metadata": {},
   "outputs": [],
   "source": [
    "#plt.scatter(assembled_data[:, 0], assembled_data[:, 1], c=y_kmeans, s=50, cmap='viridis')\n",
    "\n",
    "#centers = kmeans.cluster_centers_\n",
    "#plt.scatter(centers[:, 0], centers[:, 1], c='black', s=200, alpha=0.5)"
   ]
  },
  {
   "cell_type": "code",
   "execution_count": null,
   "metadata": {},
   "outputs": [],
   "source": [
    "KMeans_=KMeans(featuresCol='features', k=2) \n",
    "KMeans_Model=KMeans_.fit(assembled_data)\n",
    "KMeans_Assignments=KMeans_Model.transform(assembled_data)\n",
    "\n",
    "import seaborn as sns\n",
    "import matplotlib.pyplot as plt\n",
    "import pandas as pd\n",
    "\n",
    "from pyspark.ml.feature import PCA as PCAml\n",
    "pca = PCAml(k=2, inputCol=\"features\", outputCol=\"pca\")\n",
    "pca_model = pca.fit(assembled_data)\n",
    "pca_transformed = pca_model.transform(assembled_data)\n",
    "\n",
    "\n",
    "\n",
    "\n",
    "\n"
   ]
  },
  {
   "cell_type": "code",
   "execution_count": null,
   "metadata": {},
   "outputs": [],
   "source": [
    "pca_transformed"
   ]
  },
  {
   "cell_type": "code",
   "execution_count": null,
   "metadata": {},
   "outputs": [],
   "source": [
    "import pandas as pd\n",
    "\n",
    "from sklearn.decomposition import PCA\n",
    "from sklearn.datasets import load_boston"
   ]
  },
  {
   "cell_type": "code",
   "execution_count": 174,
   "metadata": {},
   "outputs": [
    {
     "name": "stdout",
     "output_type": "stream",
     "text": [
      "[0.5451820499233894,0.1759999852132125]\n"
     ]
    },
    {
     "data": {
      "text/plain": [
       "Text(0, 0.5, 'cumulative explained variance')"
      ]
     },
     "execution_count": 174,
     "metadata": {},
     "output_type": "execute_result"
    },
    {
     "data": {
      "image/png": "[encoded data removed]",
      "text/plain": [
       "<Figure size 720x576 with 1 Axes>"
      ]
     },
     "metadata": {
      "needs_background": "light"
     },
     "output_type": "display_data"
    }
   ],
   "source": [
    "print(pca_model.explainedVariance)\n",
    "cumValues = pca_model.explainedVariance.cumsum() # get the cumulative values\n",
    "# plot the graph \n",
    "plt.figure(figsize=(10,8))\n",
    "plt.plot(range(1,3), cumValues, marker = 'o', linestyle='--')\n",
    "plt.title('variance by components')\n",
    "plt.xlabel('num of components')\n",
    "plt.ylabel('cumulative explained variance')\n",
    "\n",
    "\n",
    "\n",
    "\n",
    "\n",
    "\n"
   ]
  },
  {
   "cell_type": "code",
   "execution_count": null,
   "metadata": {},
   "outputs": [],
   "source": []
  },
  {
   "cell_type": "code",
   "execution_count": 140,
   "metadata": {},
   "outputs": [
    {
     "name": "stderr",
     "output_type": "stream",
     "text": [
      "\r",
      "[Stage 1755:>                                                       (0 + 1) / 1]\r"
     ]
    },
    {
     "name": "stdout",
     "output_type": "stream",
     "text": [
      "+------------+----------+---------+-----+\n",
      "|   AQIBucket|prediction|     City|count|\n",
      "+------------+----------+---------+-----+\n",
      "|        Good|         2|Ahmedabad|    1|\n",
      "|    Moderate|         0|Ahmedabad|   47|\n",
      "|    Moderate|         1|Ahmedabad|  432|\n",
      "|    Moderate|         3|Ahmedabad|   64|\n",
      "|    Moderate|         2|Ahmedabad|    4|\n",
      "|        Poor|         0|Ahmedabad|  161|\n",
      "|        Poor|         1|Ahmedabad|  344|\n",
      "|        Poor|         2|Ahmedabad|    9|\n",
      "|        Poor|         3|Ahmedabad|    5|\n",
      "|Satisfactory|         1|Ahmedabad|    3|\n",
      "|Satisfactory|         3|Ahmedabad|   31|\n",
      "|Satisfactory|         2|Ahmedabad|    8|\n",
      "|Satisfactory|         0|Ahmedabad|    2|\n",
      "|      Severe|         0|Ahmedabad|  625|\n",
      "|      Severe|         1|Ahmedabad|   42|\n",
      "|   Very Poor|         0|Ahmedabad|  178|\n",
      "|   Very Poor|         1|Ahmedabad|   49|\n",
      "|   Very Poor|         2|Ahmedabad|    1|\n",
      "|   Very Poor|         3|Ahmedabad|    3|\n",
      "|        Good|         2|   Aizawl|   84|\n",
      "+------------+----------+---------+-----+\n",
      "only showing top 20 rows\n",
      "\n"
     ]
    },
    {
     "name": "stderr",
     "output_type": "stream",
     "text": [
      "\r",
      "                                                                                \r"
     ]
    }
   ],
   "source": [
    "\n",
    "\n",
    "\n",
    "KMeans_Assignments.groupBy(\"AQIBucket\",\"prediction\",\"City\").count().show()\n"
   ]
  },
  {
   "cell_type": "code",
   "execution_count": 134,
   "metadata": {},
   "outputs": [
    {
     "ename": "NameError",
     "evalue": "name 'pca_data' is not defined",
     "output_type": "error",
     "traceback": [
      "\u001b[0;31m---------------------------------------------------------------------------\u001b[0m",
      "\u001b[0;31mNameError\u001b[0m                                 Traceback (most recent call last)",
      "Input \u001b[0;32mIn [134]\u001b[0m, in \u001b[0;36m<cell line: 1>\u001b[0;34m()\u001b[0m\n\u001b[0;32m----> 1\u001b[0m \u001b[43mpca_data\u001b[49m\n",
      "\u001b[0;31mNameError\u001b[0m: name 'pca_data' is not defined"
     ]
    }
   ],
   "source": [
    "pca_data\n"
   ]
  },
  {
   "cell_type": "code",
   "execution_count": null,
   "metadata": {},
   "outputs": [],
   "source": []
  },
  {
   "cell_type": "code",
   "execution_count": null,
   "metadata": {},
   "outputs": [],
   "source": [
    "\n",
    "\n"
   ]
  },
  {
   "cell_type": "code",
   "execution_count": null,
   "metadata": {},
   "outputs": [],
   "source": [
    "pca_data"
   ]
  },
  {
   "cell_type": "code",
   "execution_count": null,
   "metadata": {},
   "outputs": [],
   "source": [
    "\n",
    "\n",
    "\n"
   ]
  },
  {
   "cell_type": "code",
   "execution_count": null,
   "metadata": {},
   "outputs": [],
   "source": []
  }
 ],
 "metadata": {
  "kernelspec": {
   "display_name": "Python 3 (ipykernel)",
   "language": "python",
   "name": "python3"
  },
  "language_info": {
   "codemirror_mode": {
    "name": "ipython",
    "version": 3
   },
   "file_extension": ".py",
   "mimetype": "text/x-python",
   "name": "python",
   "nbconvert_exporter": "python",
   "pygments_lexer": "ipython3",
   "version": "3.10.4"
  }
 },
 "nbformat": 4,
 "nbformat_minor": 2
}
