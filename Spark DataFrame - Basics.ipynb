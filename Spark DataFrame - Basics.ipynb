{
 "cells": [
  {
   "cell_type": "markdown",
   "metadata": {},
   "source": [
    "# Spark data mining"
   ]
  },
  {
   "cell_type": "code",
   "execution_count": null,
   "metadata": {},
   "outputs": [],
   "source": [
    "# Must be included at the beginning of each new notebook. Remember to change the app name.\n",
    "import findspark\n",
    "findspark.init('/home/ubuntu/spark-3.2.1-bin-hadoop2.7')\n",
    "import warnings\n",
    "warnings.simplefilter(action='ignore')\n",
    "import pyspark\n",
    "from pyspark.sql import SparkSession\n",
    "spark = SparkSession.builder.appName('readin').getOrCreate()"
   ]
  },
  {
   "cell_type": "code",
   "execution_count": null,
   "metadata": {},
   "outputs": [],
   "source": [
    "# Let's read in the data. Note that it's in the csv\n",
    "\n",
    "#City,Date,PM2.5,PM10,NO,NO2,NOx,NH3,CO,SO2,O3,Benzene,Toluene,Xylene,AQI,AQI_Bucket\n",
    "#define the schema\n",
    "\n",
    "# Let's import in the relevant types.\n",
    "warnings.filterwarnings('ignore')\n",
    "from pyspark.sql.types import *\n",
    "Schema=StructType([\n",
    "  StructField(\"City\",StringType(),nullable=True),\n",
    "  StructField(\"Date\",StringType(),nullable=True),\n",
    "  StructField(\"PM25\",FloatType(),nullable=True),\n",
    "  StructField(\"PM10\",FloatType(),nullable=True),\n",
    "  StructField(\"NO\",FloatType(),nullable=True),\n",
    "  StructField(\"NO2\",FloatType(),nullable=True),\n",
    "  StructField(\"NOX\",FloatType(),nullable=True),\n",
    "  StructField(\"NH3\",FloatType(),nullable=True),\n",
    "  StructField(\"CO\",FloatType(),nullable=True),\n",
    "  StructField(\"SO2\",FloatType(),nullable=True),\n",
    "  StructField(\"O3\",FloatType(),nullable=True),\n",
    "  StructField(\"benzene\",FloatType(),nullable=True),\n",
    "  StructField(\"toluene\",FloatType(),nullable=True),\n",
    "  StructField(\"Xylene\",FloatType(),nullable=True),\n",
    "  StructField(\"AQI\",FloatType(),nullable=True),\n",
    "  StructField(\"AQIBucket\",StringType(),nullable=True)\n",
    "])\n",
    "df = spark.read.option(\"header\",True).schema(Schema).csv(\"Datasets/city_day.csv\")\n",
    "\n",
    "df.show()\n"
   ]
  },
  {
   "cell_type": "markdown",
   "metadata": {},
   "source": [
    "## Data Exploration"
   ]
  },
  {
   "cell_type": "code",
   "execution_count": null,
   "metadata": {},
   "outputs": [],
   "source": [
    "# The show method allows you visualise DataFrames. We can see that there are two columns. \n",
    "df.show()\n",
    "\n",
    "# You could also try this. \n",
    "df.columns\n",
    "\n",
    "df.dtypes\n",
    "\n",
    "df.describe().toPandas()\n"
   ]
  },
  {
   "cell_type": "code",
   "execution_count": null,
   "metadata": {},
   "outputs": [],
   "source": [
    "# We can use the describe method get some general statistics on our data too. Remember to show the DataFrame!\n",
    "# But what about data type?\n",
    "# Then create a variable with the correct structure.\n",
    "df.describe().show()"
   ]
  },
  {
   "cell_type": "code",
   "execution_count": null,
   "metadata": {},
   "outputs": [],
   "source": [
    "# For type, we can use print schema. \n",
    "# But wait! What if you want to change the format of the data? Maybe change age to an integer instead of long?\n",
    "# And now we can read in the data using that schema. If we print the schema, we can see that age is now an integer.\n",
    "df.printSchema()"
   ]
  },
  {
   "cell_type": "markdown",
   "metadata": {},
   "source": [
    "## Data Manipulation"
   ]
  },
  {
   "cell_type": "code",
   "execution_count": null,
   "metadata": {},
   "outputs": [],
   "source": [
    "df.describe().toPandas()\n",
    "\n",
    "df.groupby('AQIBucket').count().show()\n"
   ]
  },
  {
   "cell_type": "code",
   "execution_count": null,
   "metadata": {},
   "outputs": [],
   "source": [
    "\n",
    "df.groupby('City').count().show()"
   ]
  },
  {
   "cell_type": "code",
   "execution_count": null,
   "metadata": {},
   "outputs": [],
   "source": [
    "df.count()\n",
    "# Let's see the data. You'll notice nulls.\n",
    "df.show()"
   ]
  },
  {
   "cell_type": "code",
   "execution_count": null,
   "metadata": {},
   "outputs": [],
   "source": [
    "# First, we have to register the DataFrame as a SQL temporary view.\n",
    "df.createOrReplaceTempView('pollution')\n",
    "\n",
    "# After that, we can use the SQL programming language for queries. \n",
    "results = spark.sql(\"SELECT * FROM pollution\")\n",
    "results.show()"
   ]
  },
  {
   "cell_type": "code",
   "execution_count": null,
   "metadata": {},
   "outputs": [],
   "source": [
    "# After that, we can use the SQL programming language for queries. \n",
    "results1 = spark.sql(\"SELECT city, count(City) FROM pollution where AQI is null group by City\")\n",
    "results1.show()"
   ]
  },
  {
   "cell_type": "code",
   "execution_count": null,
   "metadata": {},
   "outputs": [],
   "source": [
    "# Find count for empty, None, Null, Nan with string literals.\n",
    "from pyspark.sql.functions import col,isnan,when,count\n",
    "df2 = df.select([count(when(col(c).contains('None') | \\\n",
    "                            col(c).contains('NULL') | \\\n",
    "                            (col(c) == '' ) | \\\n",
    "                            col(c).isNull() | \\\n",
    "                            isnan(c), c \n",
    "                           )).alias(c)\n",
    "                    for c in df.columns])\n",
    "df2.show()"
   ]
  },
  {
   "cell_type": "code",
   "execution_count": null,
   "metadata": {},
   "outputs": [],
   "source": [
    "\n",
    "\n",
    "\n",
    "\n"
   ]
  },
  {
   "cell_type": "code",
   "execution_count": null,
   "metadata": {},
   "outputs": [],
   "source": [
    "from pyspark.sql.functions import isnan, when, count, col\n",
    "\n",
    "df.select([count(when(isnan(c), c)).alias(c) for c in df.columns]).show()"
   ]
  },
  {
   "cell_type": "markdown",
   "metadata": {},
   "source": [
    "# Exploring data with SQL"
   ]
  },
  {
   "cell_type": "code",
   "execution_count": null,
   "metadata": {},
   "outputs": [],
   "source": [
    "import matplotlib.pyplot as plt\n",
    "import seaborn as sns\n",
    "import warnings\n",
    "warnings.simplefilter(action='ignore')\n",
    "\n",
    "fig = plt.figure(figsize=(25,13))\n",
    "st = fig.suptitle(\"Distribution of features\",fontsize = 50, verticalalignment=\"center\")\n",
    "for col,num in zip(df.toPandas().describe().columns, range(1,11)):\n",
    "    ax = fig.add_subplot(3,4, num)\n",
    "    ax.hist(df.toPandas()[col])\n",
    "    plt.grid(False)\n",
    "    plt.xticks(rotation=45, fontsize=20)\n",
    "    plt.yticks(fontsize=15)\n",
    "    plt.title(col.upper(), fontsize=20)\n",
    "\n",
    "plt.tight_layout()\n",
    "st.set_y(0.95)\n",
    "fig.subplots_adjust(top=0.85, hspace=0.4)\n",
    "plt.show()"
   ]
  },
  {
   "cell_type": "code",
   "execution_count": null,
   "metadata": {},
   "outputs": [],
   "source": [
    "#Import all the required functions\n",
    "from pyspark.sql.functions import year \n",
    "df.createOrReplaceTempView('pollution')\n",
    "\n",
    "results1 = spark.sql(\"SELECT city, Count(AQIBucket), count(City) FROM pollution where AQIBucket is not null group by City, AQIBucket\")\n",
    "results1.show()\n"
   ]
  },
  {
   "cell_type": "code",
   "execution_count": null,
   "metadata": {},
   "outputs": [],
   "source": [
    "# Requires a certain amount of non-null values. Row two was dropped, as there's only one non-null value.\n",
    "df.na.drop(thresh=8).show()"
   ]
  },
  {
   "cell_type": "code",
   "execution_count": null,
   "metadata": {},
   "outputs": [],
   "source": [
    "df.count()"
   ]
  },
  {
   "cell_type": "code",
   "execution_count": null,
   "metadata": {},
   "outputs": [],
   "source": [
    "import sys\n",
    "###backward fill\n",
    "from pyspark.sql import Window\n",
    "from pyspark.sql.functions import first,last\n",
    "\n",
    "# define the window\n",
    "window = Window.partitionBy('City')\\\n",
    "               .orderBy('Date')\\\n",
    "               .rowsBetween(0, sys.maxsize)\n",
    "\n",
    "# define the forward-filled column\n",
    "filled_column = first(df['PM25'], ignorenulls=True).over(window)\n",
    "\n",
    "# do the fill\n",
    "spark_df_filled = df.withColumn('PM25', filled_column)\n",
    "\n",
    "# show off our glorious achievements\n",
    "spark_df_filled.orderBy('City', 'Date').show(10) \n",
    "spark_df_filled.show()\n",
    "\n",
    "# define the window\n",
    "window = Window.partitionBy('City')\\\n",
    "               .orderBy('Date')\\\n",
    "               .rowsBetween(-sys.maxsize,0)\n",
    "\n",
    "# define the forward-filled column\n",
    "filled_column = last(spark_df_filled['PM25'], ignorenulls=True).over(window)\n",
    "\n",
    "# do the fill\n",
    "spark_df_filled = spark_df_filled.withColumn('PM25', filled_column)\n",
    "# show off our glorious achievements\n",
    "\n",
    "spark_df_filled.orderBy('City', 'Date').show(10) \n",
    "spark_df_filled.show()\n"
   ]
  },
  {
   "cell_type": "code",
   "execution_count": null,
   "metadata": {},
   "outputs": [],
   "source": [
    "spark_df_filled.filter(spark_df_filled.PM25.isNull()).show()"
   ]
  },
  {
   "cell_type": "code",
   "execution_count": null,
   "metadata": {},
   "outputs": [],
   "source": [
    "# Find count for empty, None, Null, Nan with string literals.\n",
    "from pyspark.sql.functions import col,isnan,when,count\n",
    "df2 = spark_df_filled\n",
    "df2 = df2.select([count(when(col(c).contains('None') | \\\n",
    "                            col(c).contains('NULL') | \\\n",
    "                            (col(c) == '' ) | \\\n",
    "                            col(c).isNull() | \\\n",
    "                            isnan(c), c \n",
    "                           )).alias(c)\n",
    "                    for c in df2.columns])\n",
    "df2.show()"
   ]
  },
  {
   "cell_type": "code",
   "execution_count": null,
   "metadata": {},
   "outputs": [],
   "source": [
    "import sys\n",
    "###backward fill\n",
    "from pyspark.sql import Window\n",
    "from pyspark.sql.functions import last, first\n",
    "\n",
    "# define the window\n",
    "window = Window.partitionBy('City')\\\n",
    "               .orderBy('Date')\\\n",
    "               .rowsBetween(-sys.maxsize , 0)\n",
    "\n",
    "# define the forward-filled column\n",
    "filled_column = last(spark_df_filled['PM10'], ignorenulls=True).over(window)\n",
    "\n",
    "# do the fill\n",
    "spark_df_filled = spark_df_filled.withColumn('PM10', filled_column)\n",
    "\n",
    "# show off our glorious achievements\n",
    "spark_df_filled.orderBy('City', 'Date').show(10) \n",
    "spark_df_filled.show()\n",
    "\n",
    "\n",
    "\n",
    "# define the window\n",
    "window = Window.partitionBy('City')\\\n",
    "               .orderBy('Date')\\\n",
    "               .rowsBetween(0, sys.maxsize)\n",
    "\n",
    "# define the forward-filled column\n",
    "filled_column= first(spark_df_filled['PM10'], ignorenulls=True).over(window)\n",
    "\n",
    "# do the fill\n",
    "spark_df_filled = spark_df_filled.withColumn('PM10', filled_column)\n",
    "\n",
    "# show off our glorious achievements\n",
    "spark_df_filled.orderBy('City', 'Date').show(10) \n",
    "spark_df_filled.show()"
   ]
  },
  {
   "cell_type": "code",
   "execution_count": null,
   "metadata": {},
   "outputs": [],
   "source": [
    "# First, we have to register the DataFrame as a SQL temporary view.\n",
    "\n",
    "dff= spark_df_filled\n",
    "dff.createOrReplaceTempView('pollution')\n",
    "\n",
    "results = spark.sql(\"SELECT * FROM pollution where pm10 is null\")\n",
    "results.show()"
   ]
  },
  {
   "cell_type": "code",
   "execution_count": null,
   "metadata": {},
   "outputs": [],
   "source": [
    "dff.filter(dff.PM10.isNull()).show()"
   ]
  },
  {
   "cell_type": "code",
   "execution_count": null,
   "metadata": {},
   "outputs": [],
   "source": [
    "from pyspark.sql.functions import mean\n",
    "mean_pm10 = dff.select(mean(dff['PM10'])).collect()\n",
    "mean_pm10[0][0]\n"
   ]
  },
  {
   "cell_type": "code",
   "execution_count": null,
   "metadata": {},
   "outputs": [],
   "source": [
    "\n",
    "\n",
    "dff1 = dff.na.fill(mean_pm10[0][0], subset=['PM10'])\n",
    "dff1.filter(dff1.PM10.isNull()).show()"
   ]
  },
  {
   "cell_type": "code",
   "execution_count": null,
   "metadata": {},
   "outputs": [],
   "source": [
    "dff1.show()"
   ]
  },
  {
   "cell_type": "code",
   "execution_count": null,
   "metadata": {},
   "outputs": [],
   "source": [
    "\n",
    "#dff.filter(dff.PM25.isNull()).show()\n",
    "#from pyspark.sql.functions import isnan, when, count, col\n",
    "\n",
    "#dff.select([count(when(isNull(c), c)).alias(c) for c in dff.columns]).show()\n",
    "\n",
    "# Find count for empty, None, Null, Nan with string literals.\n",
    "from pyspark.sql.functions import col,isnan,when,count\n",
    "\n",
    "dffs = dff1.select([count(when(col(c).contains('None') | \\\n",
    "                            col(c).contains('NULL') | \\\n",
    "                            (col(c) == '' ) | \\\n",
    "                            col(c).isNull() | \\\n",
    "                            isnan(c), c \n",
    "                           )).alias(c)\n",
    "                    for c in dff.columns])\n",
    "dffs.show()"
   ]
  },
  {
   "cell_type": "code",
   "execution_count": null,
   "metadata": {},
   "outputs": [],
   "source": [
    "# To Get Year from date or Time column\n",
    "spark_df_filled = dff1\n",
    "spark_df_filled1 = spark_df_filled.withColumn(\"year\",year(\"Date\"))\n"
   ]
  },
  {
   "cell_type": "code",
   "execution_count": null,
   "metadata": {},
   "outputs": [],
   "source": [
    "dff2= spark_df_filled1\n",
    "dff2.show()\n",
    "\n"
   ]
  },
  {
   "cell_type": "code",
   "execution_count": null,
   "metadata": {},
   "outputs": [],
   "source": [
    "dff2.createOrReplaceTempView('pollution')\n",
    "\n",
    "results = spark.sql(\"SELECT * FROM pollution where PM10 is null\")\n",
    "results.show()"
   ]
  },
  {
   "cell_type": "code",
   "execution_count": null,
   "metadata": {},
   "outputs": [],
   "source": [
    "dff2.count()\n",
    "dff2.show()"
   ]
  },
  {
   "cell_type": "code",
   "execution_count": null,
   "metadata": {},
   "outputs": [],
   "source": []
  },
  {
   "cell_type": "code",
   "execution_count": null,
   "metadata": {},
   "outputs": [],
   "source": [
    "#df1.show() dff5.show()"
   ]
  },
  {
   "cell_type": "code",
   "execution_count": null,
   "metadata": {},
   "outputs": [],
   "source": [
    "# Let's collect the average. You'll notice that the collection returns the average in an interesting format.\n",
    "mean_no2 = dff2.select(mean(dff2['NO2'])).collect()\n",
    "mean_so2 = dff2.select(mean(dff2['SO2'])).collect()\n",
    "mean_o3 = dff2.select(mean(dff2['O3'])).collect()\n",
    "#mean_pm10\n",
    "mean_no2[0][0]\n",
    "dff3 = dff2.na.fill(mean_no2[0][0], subset=['NO2'])\n",
    "mean_so2[0][0]\n",
    "dff4 = dff3.na.fill(mean_so2[0][0], subset=['SO2'])\n",
    "mean_o3[0][0]\n",
    "dff5 = dff4.na.fill(mean_o3[0][0], subset=['O3'])\n",
    "\n"
   ]
  },
  {
   "cell_type": "code",
   "execution_count": null,
   "metadata": {},
   "outputs": [],
   "source": [
    "\n",
    "#df1=df1.drop('date')\n",
    "from pyspark.sql.functions import col,isnan,when,count\n",
    "\n",
    "dff6 = dff5.select([count(when(col(c).contains('None') | \\\n",
    "                            col(c).contains('NULL') | \\\n",
    "                            (col(c) == '' ) | \\\n",
    "                            col(c).isNull() | \\\n",
    "                            isnan(c), c \n",
    "                           )).alias(c)\n",
    "                    for c in dff5.columns])\n",
    "dff6.show()\n"
   ]
  },
  {
   "cell_type": "code",
   "execution_count": null,
   "metadata": {},
   "outputs": [],
   "source": [
    "\n",
    "dff5.show()"
   ]
  },
  {
   "cell_type": "code",
   "execution_count": null,
   "metadata": {},
   "outputs": [],
   "source": [
    "# Let's collect the average. You'll notice that the collection returns the average in an interesting format.\n",
    "#mean_pm10 = df.select(mean(df['PM10'])).collect()\n",
    "#mean_pm10\n",
    "#mean_pm10[0][0]\n",
    "#df.filter(df.PM10.isNull()).show()\n",
    "#df1 = df1.na.fill(mean_pm10[0][0], subset=['PM10'])\n",
    "#df1.filter(df1.PM10.isNull()).show()"
   ]
  },
  {
   "cell_type": "code",
   "execution_count": null,
   "metadata": {},
   "outputs": [],
   "source": [
    "\n",
    "dftr=dff5.drop('NO')\n",
    "dftr.show()"
   ]
  },
  {
   "cell_type": "code",
   "execution_count": null,
   "metadata": {},
   "outputs": [],
   "source": [
    "\n",
    "\n",
    "dftr=dftr.drop('NOX')\n",
    "dftr=dftr.drop('NH3')\n",
    "dftr=dftr.drop('CO')\n",
    "dftr=dftr.drop('benzene')\n",
    "dftr=dftr.drop('toluene')\n",
    "dftr=dftr.drop('Xylene')"
   ]
  },
  {
   "cell_type": "code",
   "execution_count": null,
   "metadata": {},
   "outputs": [],
   "source": [
    "dftr.show()\n",
    "#df1=df1.drop('date')\n",
    "from pyspark.sql.functions import col,isnan,when,count\n",
    "\n",
    "dftr1 = dftr.select([count(when(col(c).contains('None') | \\\n",
    "                            col(c).contains('NULL') | \\\n",
    "                            (col(c) == '' ) | \\\n",
    "                            col(c).isNull() | \\\n",
    "                            isnan(c), c \n",
    "                           )).alias(c)\n",
    "                    for c in dftr.columns])\n",
    "dftr1.show()"
   ]
  },
  {
   "cell_type": "code",
   "execution_count": null,
   "metadata": {},
   "outputs": [],
   "source": []
  },
  {
   "cell_type": "code",
   "execution_count": null,
   "metadata": {},
   "outputs": [],
   "source": []
  },
  {
   "cell_type": "code",
   "execution_count": null,
   "metadata": {},
   "outputs": [],
   "source": [
    "#df1 = df1.na.fill(mean_pm10[0][0], subset=['PM10'])\n",
    "#dftr2.filter(dftr.AQI.isNull()).show()"
   ]
  },
  {
   "cell_type": "code",
   "execution_count": null,
   "metadata": {},
   "outputs": [],
   "source": [
    "#Replace 0 for null on only population column \n",
    "#df2 = df2.na.fill(value=0,subset=[\"AQI\"]).show()\n"
   ]
  },
  {
   "cell_type": "code",
   "execution_count": null,
   "metadata": {},
   "outputs": [],
   "source": [
    "dftr.show()"
   ]
  },
  {
   "cell_type": "code",
   "execution_count": null,
   "metadata": {},
   "outputs": [],
   "source": [
    "import sys\n",
    "from pyspark.sql.window import Window\n",
    "import pyspark.sql.functions as func\n",
    "dftr.withColumn(\"AQIBucket1\", func.last('AQIBucket', True).over(Window.partitionBy('City').orderBy('year').rowsBetween(-sys.maxsize, 0))).show()\n"
   ]
  },
  {
   "cell_type": "code",
   "execution_count": null,
   "metadata": {},
   "outputs": [],
   "source": [
    "\n",
    "###backward fill\n",
    "from pyspark.sql import Window\n",
    "from pyspark.sql.functions import first\n",
    "\n",
    "# define the window\n",
    "window = Window.partitionBy('City')\\\n",
    "               .orderBy('Date')\\\n",
    "               .rowsBetween(0, sys.maxsize)\n",
    "\n",
    "# define the forward-filled column\n",
    "filled_column = first(dftr['AQIBucket'], ignorenulls=True).over(window)\n",
    "\n",
    "# do the fill\n",
    "spark_df_filled = dftr.withColumn('AQIBucket', filled_column)\n",
    "\n",
    "# show off our glorious achievements\n",
    "spark_df_filled.orderBy('City', 'Date').show(10) "
   ]
  },
  {
   "cell_type": "code",
   "execution_count": null,
   "metadata": {},
   "outputs": [],
   "source": [
    "spark_df_filled.show()"
   ]
  },
  {
   "cell_type": "code",
   "execution_count": null,
   "metadata": {},
   "outputs": [],
   "source": [
    "# First, we have to register the DataFrame as a SQL temporary view.\n",
    "spark_df_filled.createOrReplaceTempView('pollution')\n",
    "\n",
    "results2 = spark.sql(\"SELECT * FROM pollution where AQIBucket is null\")\n",
    "results2.show()"
   ]
  },
  {
   "cell_type": "code",
   "execution_count": null,
   "metadata": {},
   "outputs": [],
   "source": [
    "###backward fill\n",
    "from pyspark.sql import Window\n",
    "from pyspark.sql.functions import last\n",
    "\n",
    "# define the window\n",
    "window = Window.partitionBy('City')\\\n",
    "               .orderBy('Date')\\\n",
    "               .rowsBetween(-sys.maxsize ,0 )\n",
    "\n",
    "# define the forward-filled column\n",
    "filled_column = last(spark_df_filled['AQIBucket'], ignorenulls=True).over(window)\n",
    "\n",
    "# do the fill\n",
    "spark_df_filled2 = spark_df_filled.withColumn('AQIBucket', filled_column)\n",
    "\n",
    "# show off our glorious achievements\n",
    "spark_df_filled2.orderBy('City', 'Date').show(10)"
   ]
  },
  {
   "cell_type": "code",
   "execution_count": null,
   "metadata": {},
   "outputs": [],
   "source": [
    "# First, we have to register the DataFrame as a SQL temporary view.\n",
    "spark_df_filled2.createOrReplaceTempView('pollution')\n",
    "\n",
    "results3 = spark.sql(\"SELECT * FROM pollution where AQIBucket is null\")\n",
    "results3.show()"
   ]
  },
  {
   "cell_type": "code",
   "execution_count": null,
   "metadata": {},
   "outputs": [],
   "source": [
    "# First, we have to register the DataFrame as a SQL temporary view.\n",
    "spark_df_filled2.createOrReplaceTempView('pollution')\n",
    "\n",
    "results4 = spark.sql(\"SELECT AQIBucket, count(AQIBucket),city,year FROM pollution group by AQIbucket,city,year\")\n",
    "results4.show()"
   ]
  },
  {
   "cell_type": "code",
   "execution_count": null,
   "metadata": {},
   "outputs": [],
   "source": [
    "###check the AQI for the rows, and update the nulls\n",
    "\n",
    "spark_df_filled2.filter(spark_df_filled2.AQI.isNull()).show()"
   ]
  },
  {
   "cell_type": "code",
   "execution_count": null,
   "metadata": {},
   "outputs": [],
   "source": [
    "###backward fill\n",
    "from pyspark.sql import Window\n",
    "from pyspark.sql.functions import first\n",
    "\n",
    "# define the window\n",
    "window = Window.partitionBy('City')\\\n",
    "               .orderBy('AQIBucket')\\\n",
    "               .rowsBetween(0, sys.maxsize)\n",
    "\n",
    "# define the forward-filled column\n",
    "filled_column = first(spark_df_filled2['AQI'], ignorenulls=True).over(window)\n",
    "\n",
    "# do the fill\n",
    "spark_df_filled3 = spark_df_filled2.withColumn('AQII', filled_column)\n",
    "\n",
    "# show off our glorious achievements\n",
    "spark_df_filled3.orderBy('City', 'AQII').show(10) "
   ]
  },
  {
   "cell_type": "code",
   "execution_count": null,
   "metadata": {},
   "outputs": [],
   "source": [
    "\n",
    "spark_df_filled3.filter(spark_df_filled3.AQII.isNull()).show()"
   ]
  },
  {
   "cell_type": "code",
   "execution_count": null,
   "metadata": {},
   "outputs": [],
   "source": [
    "# First, we have to register the DataFrame as a SQL temporary view.\n",
    "spark_df_filled3.createOrReplaceTempView('pollution')\n",
    "\n",
    "results4 = spark.sql(\"SELECT count(AQIBucket),AQIBucket,city,year FROM pollution group by AQIbucket,city,year\")\n",
    "results4.show()"
   ]
  },
  {
   "cell_type": "code",
   "execution_count": null,
   "metadata": {},
   "outputs": [],
   "source": [
    "spark_df_filled3.show()"
   ]
  },
  {
   "cell_type": "code",
   "execution_count": null,
   "metadata": {},
   "outputs": [],
   "source": [
    "##transform with String Indexer and OneHotEncoder\n",
    "\n",
    "from pyspark.ml import Pipeline\n",
    "from pyspark.ml.feature import StringIndexer, OneHotEncoder\n",
    "\n",
    "\n",
    "indexer = StringIndexer(inputCol=\"AQIBucket\", outputCol=\"AQIB_index\").fit(spark_df_filled3)\n",
    "spark_df_ind = indexer.transform(spark_df_filled3)\n",
    "spark_df_ind.show()\n",
    "\n",
    "\n",
    "#df3 = encoded\n"
   ]
  },
  {
   "cell_type": "code",
   "execution_count": null,
   "metadata": {},
   "outputs": [],
   "source": [
    "# First, we have to register the DataFrame as a SQL temporary view.\n",
    "spark_df_ind.createOrReplaceTempView('pollution')\n",
    "\n",
    "results4 = spark.sql(\"SELECT AQIBucket ,AQIB_index, count(AQIB_index), city,year FROM pollution group by AQIBucket, AQIB_index, city,year\")\n",
    "results4.show()\n",
    "result = spark.sql(\"Select * from pollution\")\n",
    "result.show()"
   ]
  },
  {
   "cell_type": "code",
   "execution_count": null,
   "metadata": {},
   "outputs": [],
   "source": [
    "###one hot encoder\n",
    "from pyspark.ml import Pipeline\n",
    "from pyspark.ml.feature import StringIndexer, OneHotEncoder\n",
    "\n",
    "encoder = OneHotEncoder(inputCol=\"AQIB_index\", outputCol=\"AQIB_vec\")\n",
    "ohe = encoder.fit(spark_df_ind) # indexer is the existing dataframe, see the question\n",
    "encoded = ohe.transform(spark_df_ind)\n",
    "encoded.show()"
   ]
  },
  {
   "cell_type": "code",
   "execution_count": null,
   "metadata": {},
   "outputs": [],
   "source": [
    "\n",
    "spark_df_filled3.dtypes\n"
   ]
  },
  {
   "cell_type": "code",
   "execution_count": null,
   "metadata": {},
   "outputs": [],
   "source": [
    "catCols = ['AQIBucket']\n",
    "numCols = ['PM25','PM10','NO2','SO2','O3']\n",
    "numcolout = ['AQII']"
   ]
  },
  {
   "cell_type": "code",
   "execution_count": null,
   "metadata": {},
   "outputs": [],
   "source": []
  },
  {
   "cell_type": "code",
   "execution_count": null,
   "metadata": {},
   "outputs": [],
   "source": [
    "print(numCols)\n",
    "print(catCols)\n",
    "print(numcolout)"
   ]
  },
  {
   "cell_type": "code",
   "execution_count": null,
   "metadata": {},
   "outputs": [],
   "source": [
    "spark_df_filled3.show()"
   ]
  },
  {
   "cell_type": "code",
   "execution_count": null,
   "metadata": {},
   "outputs": [],
   "source": [
    "from pyspark.ml.feature import VectorAssembler, StandardScaler\n",
    "\n",
    "va = VectorAssembler(inputCols=numCols, outputCol=\"SS_features\")\n"
   ]
  },
  {
   "cell_type": "code",
   "execution_count": null,
   "metadata": {},
   "outputs": [],
   "source": [
    "temp_train = va.transform(spark_df_filled3)\n",
    "\n",
    "temp_train.show(2, truncate=False)\n"
   ]
  },
  {
   "cell_type": "code",
   "execution_count": null,
   "metadata": {},
   "outputs": [],
   "source": [
    "temp_train.select(\"SS_features\").show(5,truncate=False)"
   ]
  },
  {
   "cell_type": "code",
   "execution_count": null,
   "metadata": {},
   "outputs": [],
   "source": [
    "ss=StandardScaler(inputCol=\"SS_features\", outputCol=\"Scaled\")\n",
    "train1 = ss.fit(temp_train).transform(temp_train)\n",
    "train1.select(\"Scaled\").show(5,truncate=False)"
   ]
  },
  {
   "cell_type": "code",
   "execution_count": null,
   "metadata": {},
   "outputs": [],
   "source": [
    "train1.show()"
   ]
  },
  {
   "cell_type": "code",
   "execution_count": null,
   "metadata": {},
   "outputs": [],
   "source": [
    "from pyspark.ml.feature import MinMaxScaler\n",
    "mms = MinMaxScaler(inputCol=\"SS_features\", outputCol=\"MMScaled\")\n",
    "train = mms.fit(temp_train).transform(temp_train)\n",
    "train.select(\"MMScaled\").show(5)"
   ]
  },
  {
   "cell_type": "code",
   "execution_count": null,
   "metadata": {},
   "outputs": [],
   "source": [
    "train.show(2, truncate=False)"
   ]
  },
  {
   "cell_type": "markdown",
   "metadata": {},
   "source": [
    "# linear regression"
   ]
  },
  {
   "cell_type": "code",
   "execution_count": null,
   "metadata": {},
   "outputs": [],
   "source": [
    "from pyspark.ml.feature import VectorAssembler\n",
    "\n",
    "catCols = ['AQIBucket']\n",
    "numCols = ['PM25','PM10','NO2','SO2','O3']\n",
    "numcolout = ['AQII']\n",
    "\n",
    "# The input columns are the feature column names, and the output column is what you'd like the new column to be named. \n",
    "assembler = VectorAssembler(\n",
    "    inputCols=[\"PM25\",\"NO2\",\"SO2\",\"O3\"],\n",
    "    outputCol=\"features\")\n",
    "\n",
    "# Now that we've created the assembler variable, let's actually transform the data.\n",
    "output = assembler.transform(spark_df_filled3)\n",
    "\n",
    "\n",
    "# Using print schema, you see that the features output column has been added. \n",
    "output.printSchema()\n",
    "\n",
    "# You can see that the features column is a dense vector that combines the various features as expected.\n",
    "output.head()\n",
    "\n",
    "output.select(['features']).toPandas().head()\n"
   ]
  },
  {
   "cell_type": "code",
   "execution_count": null,
   "metadata": {},
   "outputs": [],
   "source": [
    "# Let's select two columns (the feature and predictor).\n",
    "# This is now in the appropriate format to be processed by Spark.\n",
    "final_data = output.select(\"features\",'AQII')\n",
    "final_data.show()"
   ]
  },
  {
   "cell_type": "code",
   "execution_count": null,
   "metadata": {},
   "outputs": [],
   "source": [
    "# Let's do a randomised 70/30 split. \n",
    "# Remember, you can use other splits depending on how easy/difficult it is to train your model.\n",
    "train_data,test_data = final_data.randomSplit([0.7,0.3])"
   ]
  },
  {
   "cell_type": "code",
   "execution_count": null,
   "metadata": {},
   "outputs": [],
   "source": [
    "# Let's see our training data.\n",
    "train_data.describe().show()\n",
    "\n",
    "# And our testing data.\n",
    "test_data.describe().show()"
   ]
  },
  {
   "cell_type": "code",
   "execution_count": null,
   "metadata": {},
   "outputs": [],
   "source": [
    "#import LinearRegression library\n",
    "from pyspark.ml.regression import LinearRegression\n",
    "\n",
    "lr = LinearRegression(labelCol='AQII')\n",
    "# Fit the model to the data.\n",
    "lrModel = lr.fit(train_data)"
   ]
  },
  {
   "cell_type": "code",
   "execution_count": null,
   "metadata": {},
   "outputs": [],
   "source": [
    "# Print the coefficients and intercept for linear regression.\n",
    "print(\"Coefficients: {} Intercept: {}\".format(lrModel.coefficients,lrModel.intercept))"
   ]
  },
  {
   "cell_type": "code",
   "execution_count": null,
   "metadata": {},
   "outputs": [],
   "source": [
    "# Let's evaluate the model against the test data.\n",
    "test_results = lrModel.evaluate(test_data)"
   ]
  },
  {
   "cell_type": "code",
   "execution_count": null,
   "metadata": {},
   "outputs": [],
   "source": [
    "# Interesting results! This shows the difference between the predicted value and the test data.\n",
    "test_results.residuals.show()\n",
    "\n",
    "# Let's get some evaluation metrics (as discussed in the previous linear regression notebook).\n",
    "print(\"RSME: {}\".format(test_results.rootMeanSquaredError))"
   ]
  },
  {
   "cell_type": "code",
   "execution_count": null,
   "metadata": {},
   "outputs": [],
   "source": [
    "# We can also get the R2 value. \n",
    "print(\"R2: {}\".format(test_results.r2))\n",
    "final_data.describe().show()"
   ]
  },
  {
   "cell_type": "code",
   "execution_count": null,
   "metadata": {},
   "outputs": [],
   "source": [
    "spark_df_filled3.show()"
   ]
  },
  {
   "cell_type": "code",
   "execution_count": null,
   "metadata": {},
   "outputs": [],
   "source": []
  },
  {
   "cell_type": "code",
   "execution_count": null,
   "metadata": {},
   "outputs": [],
   "source": [
    "##transform with String Indexer and OneHotEncoder\n",
    "\n",
    "from pyspark.ml import Pipeline\n",
    "from pyspark.ml.feature import StringIndexer, OneHotEncoder\n",
    "\n",
    "\n",
    "indexer0 = StringIndexer(inputCol=\"City\", outputCol=\"City_index\").fit(spark_df_filled3)\n",
    "spark_df = indexer0.transform(spark_df_filled3)\n",
    "spark_df.show()\n",
    "\n",
    "###one hot encoder\n",
    "\n",
    "encoder0 = OneHotEncoder(inputCol=\"City_index\", outputCol=\"City_vec\")\n",
    "ohe = encoder0.fit(spark_df) # indexer is the existing dataframe, see the question\n",
    "encoded0 = ohe.transform(spark_df)\n",
    "encoded0.show()\n",
    "\n",
    "\n",
    "\n"
   ]
  },
  {
   "cell_type": "code",
   "execution_count": null,
   "metadata": {},
   "outputs": [],
   "source": [
    "##transform with String Indexer and OneHotEncoder\n",
    "\n",
    "indexer1 = StringIndexer(inputCol=\"AQIBucket\", outputCol=\"AQIB_index\").fit(encoded0)\n",
    "spark_df_ind1 = indexer1.transform(encoded0)\n",
    "spark_df_ind1.show()\n",
    "\n"
   ]
  },
  {
   "cell_type": "code",
   "execution_count": null,
   "metadata": {},
   "outputs": [],
   "source": [
    "###one hot encoder\n",
    "\n",
    "encoder1 = OneHotEncoder(inputCol=\"AQIB_index\", outputCol=\"AQIB_vec\")\n",
    "ohe1 = encoder1.fit(spark_df_ind1) # indexer is the existing dataframe, see the question\n",
    "encoded1 = ohe1.transform(spark_df_ind1)\n",
    "encoded1.show()"
   ]
  },
  {
   "cell_type": "code",
   "execution_count": null,
   "metadata": {},
   "outputs": [],
   "source": [
    "# Now we can assemble all of this as one vector in the features column. \n",
    "assembler = VectorAssembler(inputCols=['City_vec','PM25',\n",
    " 'PM10',\n",
    " 'NO2',\n",
    " 'SO2',\n",
    " 'O3'],outputCol='features')\n",
    "\n",
    "\n",
    "from pyspark.ml.classification import LogisticRegression\n",
    "from pyspark.ml import Pipeline\n",
    "# Note that survived is a categorial variable but didn't require any transformation.\n",
    "# That's because it's already in the format of 1's and 0's. \n",
    "log_reg = LogisticRegression(featuresCol='features',labelCol='AQIB_index')\n"
   ]
  },
  {
   "cell_type": "code",
   "execution_count": null,
   "metadata": {},
   "outputs": [],
   "source": [
    "# Lists everything we want to do. Index data, encode data, assemble data and then pass in the actual model.\n",
    "pipeline = Pipeline(stages=[indexer0,indexer1,\n",
    "                           encoder0,encoder1,\n",
    "                           assembler,log_reg ])\n",
    "# Train/test split. \n",
    "train_data1, test_data1 = spark_df_filled3.randomSplit([0.7,.3])\n",
    "\n",
    "# Note pipeline. Call it as you would call a machine learning object.\n",
    "fit_model = pipeline.fit(train_data1)\n",
    "\n",
    "# Transform test data. \n",
    "results = fit_model.transform(test_data1)\n",
    "\n",
    "# Evaluate the model using the binary classifer.\n",
    "from pyspark.ml.evaluation import BinaryClassificationEvaluator\n",
    "\n",
    "my_eval = BinaryClassificationEvaluator(rawPredictionCol='prediction',\n",
    "                                       labelCol='AQIB_index')\n",
    "\n",
    "# If we select the actual and predicted results, we can see that some predictions were correct while others were wrong.\n",
    "results.select('AQIB_index','prediction').show()\n",
    "\n"
   ]
  },
  {
   "cell_type": "code",
   "execution_count": null,
   "metadata": {},
   "outputs": [],
   "source": [
    "# We can then evaluate using AUC (area under the curve). AUC is linked to ROC.\n",
    "AUC = my_eval.evaluate(results)\n",
    "\n",
    "AUC"
   ]
  },
  {
   "cell_type": "code",
   "execution_count": null,
   "metadata": {},
   "outputs": [],
   "source": [
    "train1.show()"
   ]
  },
  {
   "cell_type": "code",
   "execution_count": null,
   "metadata": {},
   "outputs": [],
   "source": [
    "# Import the relevant Python libraries.\n",
    "import numpy as np\n",
    "import matplotlib.pyplot as plt\n",
    "%matplotlib inline\n",
    "\n",
    "# Convert sex to an array using Numpy and plot it using pyplot. \n",
    "sexArr = np.array(train1.select('AQIBucket').collect())\n",
    "plt.hist(sexArr)\n",
    "plt.show()\n"
   ]
  },
  {
   "cell_type": "code",
   "execution_count": null,
   "metadata": {},
   "outputs": [],
   "source": [
    "# Not all interpretation has to be visualisations. You can also gain a lot of information with text.\n",
    "# For example, here we're seeing how much variance our model could account for.\n",
    "# According to this, the model got 164/209 correct. \n",
    "totalResults = results.select('AQIB_index','prediction')\n",
    "\n",
    "\n",
    "correctResults = totalResults.filter(totalResults['AQIB_INDEX'] == totalResults['prediction'])\n",
    "\n",
    "countTR = totalResults.count()\n",
    "print(\"Correct: \" + str(countTR))\n",
    "\n",
    "countTC = correctResults.count()\n",
    "print(\"Total Correct: \" + str(countTC)) "
   ]
  },
  {
   "cell_type": "code",
   "execution_count": null,
   "metadata": {},
   "outputs": [],
   "source": [
    "spark_df_filled3.show()"
   ]
  },
  {
   "cell_type": "code",
   "execution_count": null,
   "metadata": {},
   "outputs": [],
   "source": [
    "# prepare the data\n",
    "features = [\"PM25\",\"PM10\",\"NO2\",\"SO2\",\"O3\"]\n",
    "lr_data = spark_df_filled3.select(col(\"AQII\").alias(\"label\"), *features)\n",
    "lr_data.printSchema()\n",
    "\n",
    "# split the dataset into training and test\n",
    "(training, test) = lr_data.randomSplit([.7, .3], seed = 196)\n",
    "\n"
   ]
  },
  {
   "cell_type": "code",
   "execution_count": null,
   "metadata": {},
   "outputs": [],
   "source": [
    "# creating the pipeline\n",
    "vectorAssembler = VectorAssembler(inputCols=features, outputCol=\"unscaled_features\")\n",
    "standardScaler = StandardScaler(inputCol=\"unscaled_features\", outputCol=\"features\")\n",
    "lr = LinearRegression(maxIter=10, regParam=.01)\n",
    "\n",
    "estimators = [vectorAssembler, standardScaler, lr]\n",
    "\n",
    "\n",
    "# building the model using the pipeline\n",
    "# https://spark.apache.org/docs/latest/api/python/pyspark.ml.html#pyspark.ml.Pipeline\n",
    "pipeline = Pipeline(stages=estimators)\n",
    "\n",
    "model = pipeline.fit(training)\n"
   ]
  },
  {
   "cell_type": "code",
   "execution_count": null,
   "metadata": {},
   "outputs": [],
   "source": [
    "# prediction\n",
    "prediction = model.transform(test)\n",
    "\n",
    "prediction.show()\n",
    "\n"
   ]
  },
  {
   "cell_type": "code",
   "execution_count": null,
   "metadata": {},
   "outputs": [],
   "source": []
  },
  {
   "cell_type": "code",
   "execution_count": null,
   "metadata": {},
   "outputs": [],
   "source": [
    "# evaluate the model\n",
    "from pyspark.ml.evaluation import RegressionEvaluator\n",
    "eval = RegressionEvaluator(labelCol=\"label\", predictionCol=\"prediction\", metricName=\"rmse\")\n",
    "\n",
    "# Root Mean Square Error\n",
    "\n",
    "rmse = eval.evaluate(prediction)\n",
    "print(\"RMSE: %.3f\" % rmse)\n",
    "\n",
    "# Mean Square Error\n",
    "\n",
    "mse = eval.evaluate(prediction, {eval.metricName: \"mse\"})\n",
    "print(\"MSE: %.3f\" % mse)\n",
    "\n",
    "# Mean Absolute Error\n",
    "\n",
    "mae = eval.evaluate(prediction, {eval.metricName: \"mae\"})\n",
    "print(\"MAE: %.3f\" % mae)\n",
    "\n",
    "# r2 - coefficient of determination\n",
    "\n",
    "r2 = eval.evaluate(prediction, {eval.metricName: \"r2\"})\n",
    "print(\"r2: %.3f\" %r2)"
   ]
  },
  {
   "cell_type": "code",
   "execution_count": null,
   "metadata": {},
   "outputs": [],
   "source": [
    "spark_df_filled3.show()"
   ]
  },
  {
   "cell_type": "code",
   "execution_count": null,
   "metadata": {},
   "outputs": [],
   "source": [
    "assembler = VectorAssembler(inputCols=['PM25',\n",
    " 'PM10',\n",
    " 'NO2',\n",
    " 'SO2',\n",
    " 'O3','AQII'],outputCol=\"features\")\n",
    "\n",
    "# Let's transform the data. \n",
    "output = assembler.transform(spark_df_filled3)\n",
    "\n",
    "# Let's select the two columns we want. Features (which contains vectors), and the predictor.\n",
    "indexer = StringIndexer(inputCol=\"AQIBucket\", outputCol=\"AQIB_index\")\n",
    "output_fixed = indexer.fit(output).transform(output)"
   ]
  },
  {
   "cell_type": "code",
   "execution_count": 114,
   "metadata": {},
   "outputs": [
    {
     "name": "stderr",
     "output_type": "stream",
     "text": [
      "\r",
      "[Stage 2110:>                                                       (0 + 1) / 1]\r"
     ]
    },
    {
     "name": "stdout",
     "output_type": "stream",
     "text": [
      "+---------+----------+------+------+--------+---------+---------+-----+---------+----+-----+----------+\n",
      "|     City|      Date|  PM25|  PM10|     NO2|      SO2|       O3|  AQI|AQIBucket|year| AQII|AQIB_index|\n",
      "+---------+----------+------+------+--------+---------+---------+-----+---------+----+-----+----------+\n",
      "|Ahmedabad|2015-07-24| 29.22|141.54|    9.57|    13.58|     5.08| 48.0|     Good|2015| 48.0|       4.0|\n",
      "|Ahmedabad|2015-02-05| 58.36|141.54|   21.39|    32.66|    53.54|149.0| Moderate|2015|149.0|       0.0|\n",
      "|Ahmedabad|2015-02-06| 79.29|141.54|   26.94|    67.41|     59.3|190.0| Moderate|2015|190.0|       0.0|\n",
      "|Ahmedabad|2015-02-26| 61.12|141.54|28.56066|14.531978|34.491432| null| Moderate|2015|189.0|       0.0|\n",
      "|Ahmedabad|2015-02-27| 61.12|141.54|28.56066|14.531978|34.491432| null| Moderate|2015|189.0|       0.0|\n",
      "|Ahmedabad|2015-02-28| 61.12|141.54|28.56066|14.531978|34.491432| null| Moderate|2015|189.0|       0.0|\n",
      "|Ahmedabad|2015-03-01| 61.12|141.54|   16.81|    28.44|    30.48| null| Moderate|2015|189.0|       0.0|\n",
      "|Ahmedabad|2015-03-02| 60.78|141.54|   18.21|    29.48|    34.75|189.0| Moderate|2015|189.0|       0.0|\n",
      "|Ahmedabad|2015-03-06|105.45|141.54|28.56066|14.531978|34.491432| null| Moderate|2015|190.0|       0.0|\n",
      "|Ahmedabad|2015-03-07|105.45|141.54|    16.1|    29.29|     69.9| null| Moderate|2015|190.0|       0.0|\n",
      "|Ahmedabad|2015-03-08| 71.56|141.54|   16.83|    30.28|    57.16|190.0| Moderate|2015|190.0|       0.0|\n",
      "|Ahmedabad|2015-03-16| 30.76|141.54|   14.14|    43.62|    54.78|118.0| Moderate|2015|118.0|       0.0|\n",
      "|Ahmedabad|2015-04-03| 53.07|141.54|   13.82|    40.36|    21.76|169.0| Moderate|2015|169.0|       0.0|\n",
      "|Ahmedabad|2015-04-10| 134.6|141.54|   26.27|    34.53|      7.0| null| Moderate|2015|126.0|       0.0|\n",
      "|Ahmedabad|2015-04-11| 61.06|141.54|   14.03|     8.08|    19.54|126.0| Moderate|2015|126.0|       0.0|\n",
      "|Ahmedabad|2015-04-12| 39.42|141.54|   19.56|    17.66|     31.3|175.0| Moderate|2015|175.0|       0.0|\n",
      "|Ahmedabad|2015-04-22| 63.38|141.54|   13.28|    24.79|    43.62|189.0| Moderate|2015|189.0|       0.0|\n",
      "|Ahmedabad|2015-05-06| 65.11|141.54|    4.58|    22.27|    32.26|120.0| Moderate|2015|120.0|       0.0|\n",
      "|Ahmedabad|2015-05-07| 51.03|141.54|   20.47|     15.5|    31.44|158.0| Moderate|2015|158.0|       0.0|\n",
      "|Ahmedabad|2015-05-08| 38.73|141.54|   19.28|    20.13|     25.7|177.0| Moderate|2015|177.0|       0.0|\n",
      "+---------+----------+------+------+--------+---------+---------+-----+---------+----+-----+----------+\n",
      "only showing top 20 rows\n",
      "\n"
     ]
    },
    {
     "name": "stderr",
     "output_type": "stream",
     "text": [
      "\r",
      "                                                                                \r"
     ]
    }
   ],
   "source": [
    "#output.show()\n",
    "spark_df_ind.show()"
   ]
  },
  {
   "cell_type": "code",
   "execution_count": null,
   "metadata": {},
   "outputs": [],
   "source": [
    "###AQIB_index\n",
    "\n",
    "# Now we can assemble all of this as one vector in the features column. \n",
    "\n",
    "\n",
    "# Let's select the two columns we want. Features (which contains vectors), and the predictor.\n",
    "\n",
    "final_data = output_fixed.select('features','AQIB_index')\n",
    "\n",
    "# Split the training and testing set.\n",
    "train_data,test_data = final_data.randomSplit([0.7,0.3])\n",
    "\n",
    "# Let's import the relevant classifiers. \n",
    "from pyspark.ml.classification import DecisionTreeClassifier,GBTClassifier,RandomForestClassifier\n",
    "from pyspark.ml import Pipeline\n",
    "\n",
    "# Use defaults to make the comparison \"fair\". This simplifies the comparison process.\n",
    "\n",
    "dtc = DecisionTreeClassifier(labelCol='AQIB_index',featuresCol='features')\n",
    "rfc = RandomForestClassifier(labelCol='AQIB_index',featuresCol='features')\n",
    "gbt = GBTClassifier(labelCol='AQIB_index',featuresCol='features')\n",
    "\n",
    "# Train the models (it's three models, so it might take some time).\n",
    "dtc_model = dtc.fit(train_data)\n",
    "rfc_model = rfc.fit(train_data)\n",
    "#gbt_model = gbt.fit(train_data)\n",
    "\n",
    "dtc_predictions = dtc_model.transform(test_data)\n",
    "rfc_predictions = rfc_model.transform(test_data)\n",
    "#gbt_predictions = gbt_model.transform(test_data)"
   ]
  },
  {
   "cell_type": "code",
   "execution_count": null,
   "metadata": {},
   "outputs": [],
   "source": [
    "# Let's start off with binary classification.\n",
    "from pyspark.ml.evaluation import BinaryClassificationEvaluator\n",
    "\n",
    "# Note that the label column isn't named label, it's named PrivateIndex in this case.\n",
    "my_binary_eval = BinaryClassificationEvaluator(rawPredictionCol='prediction',\n",
    "                                       labelCol='AQIB_index')\n",
    "\n",
    "# This is the area under the curve. This indicates that the data is highly seperable.\n",
    "print(\"DTC\")\n",
    "print(my_binary_eval.evaluate(dtc_predictions))\n",
    "\n",
    "# RFC improves accuracy but also model complexity. RFC outperforms DTC in nearly every situation.\n",
    "print(\"RFC\")\n",
    "print(my_binary_eval.evaluate(rfc_predictions))\n"
   ]
  },
  {
   "cell_type": "markdown",
   "metadata": {},
   "source": [
    "# kmeans unsupervised learning"
   ]
  },
  {
   "cell_type": "code",
   "execution_count": 120,
   "metadata": {},
   "outputs": [
    {
     "name": "stderr",
     "output_type": "stream",
     "text": [
      "\r",
      "[Stage 2783:>                                                       (0 + 1) / 1]\r"
     ]
    },
    {
     "name": "stdout",
     "output_type": "stream",
     "text": [
      "+---------+----------+-----+------+-----+-----+-----+-----+---------+----+-----+--------------------+\n",
      "|     City|      Date| PM25|  PM10|  NO2|  SO2|   O3|  AQI|AQIBucket|year| AQII|            features|\n",
      "+---------+----------+-----+------+-----+-----+-----+-----+---------+----+-----+--------------------+\n",
      "|Ahmedabad|2015-07-24|29.22|141.54| 9.57|13.58| 5.08| 48.0|     Good|2015| 48.0|[29.2199993133544...|\n",
      "|Ahmedabad|2015-02-05|58.36|141.54|21.39|32.66|53.54|149.0| Moderate|2015|149.0|[58.3600006103515...|\n",
      "+---------+----------+-----+------+-----+-----+-----+-----+---------+----+-----+--------------------+\n",
      "only showing top 2 rows\n",
      "\n"
     ]
    },
    {
     "name": "stderr",
     "output_type": "stream",
     "text": [
      "\r",
      "                                                                                \r"
     ]
    }
   ],
   "source": [
    "import pandas as pd\n",
    "\n",
    "from pyspark.ml.feature import VectorAssembler\n",
    "from pyspark.ml.clustering import KMeans\n",
    "from pyspark.ml import Pipeline\n",
    "\n",
    "assembler = VectorAssembler(inputCols=['PM25',\n",
    " 'PM10',\n",
    " 'NO2',\n",
    " 'SO2',\n",
    " 'O3','AQII'],outputCol=\"features\")\n",
    "\n",
    "spark_df_indk=spark_df_ind\n",
    "spark_df_indk=spark_df_indk.drop(\"AQIB_index\")\n",
    "\n",
    "assembled_data=assembler.transform(spark_df_indk)\n",
    "assembled_data.show(2)\n"
   ]
  },
  {
   "cell_type": "code",
   "execution_count": null,
   "metadata": {},
   "outputs": [],
   "source": [
    "\n",
    "#from pyspark.ml.feature import StandardScaler\n",
    "#scale=StandardScaler(inputCol='features',outputCol='standardized')\n",
    "#data_scale=scale.fit(assembled_data)\n",
    "#data_scale_output=data_scale.transform(assembled_data)\n",
    "#data_scale_output.show(2)"
   ]
  },
  {
   "cell_type": "code",
   "execution_count": 121,
   "metadata": {},
   "outputs": [
    {
     "name": "stderr",
     "output_type": "stream",
     "text": [
      "                                                                                \r"
     ]
    },
    {
     "name": "stdout",
     "output_type": "stream",
     "text": [
      "Silhouette Score: 0.7417176461544878\n"
     ]
    },
    {
     "name": "stderr",
     "output_type": "stream",
     "text": [
      "                                                                                \r"
     ]
    },
    {
     "name": "stdout",
     "output_type": "stream",
     "text": [
      "Silhouette Score: 0.7353202300231542\n"
     ]
    },
    {
     "name": "stderr",
     "output_type": "stream",
     "text": [
      "                                                                                \r"
     ]
    },
    {
     "name": "stdout",
     "output_type": "stream",
     "text": [
      "Silhouette Score: 0.702905586996038\n"
     ]
    },
    {
     "name": "stderr",
     "output_type": "stream",
     "text": [
      "                                                                                \r"
     ]
    },
    {
     "name": "stdout",
     "output_type": "stream",
     "text": [
      "Silhouette Score: 0.5473996797430872\n"
     ]
    },
    {
     "name": "stderr",
     "output_type": "stream",
     "text": [
      "                                                                                \r"
     ]
    },
    {
     "name": "stdout",
     "output_type": "stream",
     "text": [
      "Silhouette Score: 0.5308338119724978\n"
     ]
    },
    {
     "name": "stderr",
     "output_type": "stream",
     "text": [
      "                                                                                \r"
     ]
    },
    {
     "name": "stdout",
     "output_type": "stream",
     "text": [
      "Silhouette Score: 0.48264658535544414\n"
     ]
    },
    {
     "name": "stderr",
     "output_type": "stream",
     "text": [
      "                                                                                \r"
     ]
    },
    {
     "name": "stdout",
     "output_type": "stream",
     "text": [
      "Silhouette Score: 0.49968081941339176\n"
     ]
    },
    {
     "name": "stderr",
     "output_type": "stream",
     "text": [
      "[Stage 3444:>                                                       (0 + 1) / 1]\r"
     ]
    },
    {
     "name": "stdout",
     "output_type": "stream",
     "text": [
      "Silhouette Score: 0.519801966842245\n"
     ]
    },
    {
     "name": "stderr",
     "output_type": "stream",
     "text": [
      "\r",
      "                                                                                \r"
     ]
    },
    {
     "data": {
      "text/plain": [
       "Text(0, 0.5, 'cost')"
      ]
     },
     "execution_count": 121,
     "metadata": {},
     "output_type": "execute_result"
    },
    {
     "data": {
      "image/png": "[encoded data removed]",
      "text/plain": [
       "<Figure size 576x432 with 1 Axes>"
      ]
     },
     "metadata": {
      "needs_background": "light"
     },
     "output_type": "display_data"
    }
   ],
   "source": [
    "from pyspark.ml.clustering import KMeans\n",
    "from pyspark.ml.evaluation import ClusteringEvaluator\n",
    "silhouette_score=[]\n",
    "\n",
    "evaluator = ClusteringEvaluator(featuresCol='features', \\\n",
    "metricName='silhouette', distanceMeasure='squaredEuclidean')\n",
    "\n",
    "#evaluator = ClusteringEvaluator( featuresCol='standardized', \\\n",
    "#                                metricName='silhouette', distanceMeasure='squaredEuclidean')\n",
    "for i in range(2,10):\n",
    "    \n",
    "    KMeans_algo=KMeans(featuresCol='features', k=i)\n",
    "    \n",
    "    KMeans_fit=KMeans_algo.fit(data_scale_output)\n",
    "    \n",
    "    output=KMeans_fit.transform(data_scale_output)\n",
    "    \n",
    "    \n",
    "    \n",
    "    score=evaluator.evaluate(output)\n",
    "    \n",
    "    silhouette_score.append(score)\n",
    "    \n",
    "    print(\"Silhouette Score:\",score)\n",
    "    \n",
    "    \n",
    "#Visualizing the silhouette scores in a plot\n",
    "import matplotlib.pyplot as plt\n",
    "fig, ax = plt.subplots(1,1, figsize =(8,6))\n",
    "ax.plot(range(2,10),silhouette_score)\n",
    "ax.set_xlabel('k')\n",
    "ax.set_ylabel('cost')"
   ]
  },
  {
   "cell_type": "code",
   "execution_count": 135,
   "metadata": {},
   "outputs": [
    {
     "name": "stderr",
     "output_type": "stream",
     "text": [
      "                                                                                \r"
     ]
    }
   ],
   "source": [
    "KMeans_=KMeans(featuresCol='features', k=2) \n",
    "KMeans_Model=KMeans_.fit(assembled_data)\n",
    "KMeans_Assignments=KMeans_Model.transform(assembled_data)\n",
    "\n",
    "import seaborn as sns\n",
    "import matplotlib.pyplot as plt\n",
    "import pandas as pd\n",
    "\n",
    "from pyspark.ml.feature import PCA as PCAml\n",
    "pca = PCAml(k=2, inputCol=\"features\", outputCol=\"pca\")\n",
    "pca_model = pca.fit(assembled_data)\n",
    "pca_transformed = pca_model.transform(assembled_data)\n",
    "\n",
    "\n",
    "\n",
    "\n",
    "\n"
   ]
  },
  {
   "cell_type": "code",
   "execution_count": 136,
   "metadata": {},
   "outputs": [
    {
     "name": "stderr",
     "output_type": "stream",
     "text": [
      "                                                                                \r"
     ]
    },
    {
     "data": {
      "image/png": "[encoded data removed]",
      "text/plain": [
       "<Figure size 537.375x432 with 1 Axes>"
      ]
     },
     "metadata": {
      "needs_background": "light"
     },
     "output_type": "display_data"
    }
   ],
   "source": [
    "import numpy as np\n",
    "x_pca = np.array(pca_transformed.rdd.map(lambda row: row.pca).collect())\n",
    "\n",
    "cluster_assignment = np.array(KMeans_Assignments.rdd.map(lambda row: row.prediction).collect()).reshape(-1,1)\n",
    "\n",
    "\n",
    "\n",
    "import seaborn as sns\n",
    "import matplotlib.pyplot as plt\n",
    "\n",
    "pca_data = np.hstack((x_pca,cluster_assignment))\n",
    "\n",
    "pca_df = pd.DataFrame(data=pca_data, columns=(\"1st_principal\", \"2nd_principal\",\"cluster_assignment\"))\n",
    "sns.FacetGrid(pca_df,hue=\"cluster_assignment\", height=6).map(plt.scatter, '1st_principal', '2nd_principal' ).add_legend()\n",
    "\n",
    "plt.show()\n",
    "\n",
    "\n",
    "\n",
    "\n"
   ]
  },
  {
   "cell_type": "code",
   "execution_count": 127,
   "metadata": {},
   "outputs": [
    {
     "name": "stdout",
     "output_type": "stream",
     "text": [
      "root\n",
      " |-- City: string (nullable = true)\n",
      " |-- Date: string (nullable = true)\n",
      " |-- PM25: float (nullable = true)\n",
      " |-- PM10: float (nullable = false)\n",
      " |-- NO2: float (nullable = false)\n",
      " |-- SO2: float (nullable = false)\n",
      " |-- O3: float (nullable = false)\n",
      " |-- AQI: float (nullable = true)\n",
      " |-- AQIBucket: string (nullable = true)\n",
      " |-- year: integer (nullable = true)\n",
      " |-- AQII: float (nullable = true)\n",
      "\n"
     ]
    },
    {
     "name": "stderr",
     "output_type": "stream",
     "text": [
      "\r",
      "[Stage 3567:>                                                       (0 + 1) / 1]\r"
     ]
    },
    {
     "name": "stdout",
     "output_type": "stream",
     "text": [
      "+---------+----------+------+------+--------+---------+---------+-----+---------+----+-----+\n",
      "|City     |Date      |PM25  |PM10  |NO2     |SO2      |O3       |AQI  |AQIBucket|year|AQII |\n",
      "+---------+----------+------+------+--------+---------+---------+-----+---------+----+-----+\n",
      "|Ahmedabad|2015-07-24|29.22 |141.54|9.57    |13.58    |5.08     |48.0 |Good     |2015|48.0 |\n",
      "|Ahmedabad|2015-02-05|58.36 |141.54|21.39   |32.66    |53.54    |149.0|Moderate |2015|149.0|\n",
      "|Ahmedabad|2015-02-06|79.29 |141.54|26.94   |67.41    |59.3     |190.0|Moderate |2015|190.0|\n",
      "|Ahmedabad|2015-02-26|61.12 |141.54|28.56066|14.531978|34.491432|null |Moderate |2015|189.0|\n",
      "|Ahmedabad|2015-02-27|61.12 |141.54|28.56066|14.531978|34.491432|null |Moderate |2015|189.0|\n",
      "|Ahmedabad|2015-02-28|61.12 |141.54|28.56066|14.531978|34.491432|null |Moderate |2015|189.0|\n",
      "|Ahmedabad|2015-03-01|61.12 |141.54|16.81   |28.44    |30.48    |null |Moderate |2015|189.0|\n",
      "|Ahmedabad|2015-03-02|60.78 |141.54|18.21   |29.48    |34.75    |189.0|Moderate |2015|189.0|\n",
      "|Ahmedabad|2015-03-06|105.45|141.54|28.56066|14.531978|34.491432|null |Moderate |2015|190.0|\n",
      "|Ahmedabad|2015-03-07|105.45|141.54|16.1    |29.29    |69.9     |null |Moderate |2015|190.0|\n",
      "|Ahmedabad|2015-03-08|71.56 |141.54|16.83   |30.28    |57.16    |190.0|Moderate |2015|190.0|\n",
      "|Ahmedabad|2015-03-16|30.76 |141.54|14.14   |43.62    |54.78    |118.0|Moderate |2015|118.0|\n",
      "|Ahmedabad|2015-04-03|53.07 |141.54|13.82   |40.36    |21.76    |169.0|Moderate |2015|169.0|\n",
      "|Ahmedabad|2015-04-10|134.6 |141.54|26.27   |34.53    |7.0      |null |Moderate |2015|126.0|\n",
      "|Ahmedabad|2015-04-11|61.06 |141.54|14.03   |8.08     |19.54    |126.0|Moderate |2015|126.0|\n",
      "|Ahmedabad|2015-04-12|39.42 |141.54|19.56   |17.66    |31.3     |175.0|Moderate |2015|175.0|\n",
      "|Ahmedabad|2015-04-22|63.38 |141.54|13.28   |24.79    |43.62    |189.0|Moderate |2015|189.0|\n",
      "|Ahmedabad|2015-05-06|65.11 |141.54|4.58    |22.27    |32.26    |120.0|Moderate |2015|120.0|\n",
      "|Ahmedabad|2015-05-07|51.03 |141.54|20.47   |15.5     |31.44    |158.0|Moderate |2015|158.0|\n",
      "|Ahmedabad|2015-05-08|38.73 |141.54|19.28   |20.13    |25.7     |177.0|Moderate |2015|177.0|\n",
      "+---------+----------+------+------+--------+---------+---------+-----+---------+----+-----+\n",
      "only showing top 20 rows\n",
      "\n"
     ]
    },
    {
     "name": "stderr",
     "output_type": "stream",
     "text": [
      "\r",
      "                                                                                \r"
     ]
    }
   ],
   "source": [
    "spark_df_indk.printSchema()\n",
    "spark_df_indk.show(truncate=False)\n",
    "\n",
    "results = pd.DataFrame(pca_transformed,columns=['pca1','pca2'])\n",
    "sns.scatterplot(x=\"pca1\", y=\"pca2\", hue=kmeans['clusters'], data=results)\n",
    "plt.title('K-means Clustering with 2 dimensions')\n",
    "plt.show()\n"
   ]
  },
  {
   "cell_type": "code",
   "execution_count": 128,
   "metadata": {},
   "outputs": [
    {
     "data": {
      "text/plain": [
       "array([[-107.63887621,  103.40503395,    1.        ],\n",
       "       [-206.30646546,   61.04307343,    4.        ],\n",
       "       [-250.34367011,   44.45052225,    4.        ],\n",
       "       ...,\n",
       "       [-358.0330861 ,   -2.81806213,    2.        ],\n",
       "       [-380.86561543,   42.14086501,    2.        ],\n",
       "       [-472.75461535,  159.45115553,    0.        ]])"
      ]
     },
     "execution_count": 128,
     "metadata": {},
     "output_type": "execute_result"
    }
   ],
   "source": [
    "pca_data"
   ]
  },
  {
   "cell_type": "code",
   "execution_count": 129,
   "metadata": {},
   "outputs": [
    {
     "ename": "TypeError",
     "evalue": "'DataFrame' object is not callable",
     "output_type": "error",
     "traceback": [
      "\u001b[0;31m---------------------------------------------------------------------------\u001b[0m",
      "\u001b[0;31mTypeError\u001b[0m                                 Traceback (most recent call last)",
      "Input \u001b[0;32mIn [129]\u001b[0m, in \u001b[0;36m<cell line: 1>\u001b[0;34m()\u001b[0m\n\u001b[0;32m----> 1\u001b[0m pca_df \u001b[38;5;241m=\u001b[39m \u001b[43mpandasDF\u001b[49m\u001b[43m(\u001b[49m\u001b[43mdata\u001b[49m\u001b[38;5;241;43m=\u001b[39;49m\u001b[43mpca_data\u001b[49m\u001b[43m,\u001b[49m\u001b[43m \u001b[49m\u001b[43mcolumns\u001b[49m\u001b[38;5;241;43m=\u001b[39;49m\u001b[43m(\u001b[49m\u001b[38;5;124;43m\"\u001b[39;49m\u001b[38;5;124;43m1st_principal\u001b[39;49m\u001b[38;5;124;43m\"\u001b[39;49m\u001b[43m,\u001b[49m\u001b[43m \u001b[49m\u001b[38;5;124;43m\"\u001b[39;49m\u001b[38;5;124;43m2nd_principal\u001b[39;49m\u001b[38;5;124;43m\"\u001b[39;49m\u001b[43m,\u001b[49m\u001b[38;5;124;43m\"\u001b[39;49m\u001b[38;5;124;43mcluster_assignment\u001b[39;49m\u001b[38;5;124;43m\"\u001b[39;49m\u001b[43m)\u001b[49m\u001b[43m)\u001b[49m\n\u001b[1;32m      2\u001b[0m sns\u001b[38;5;241m.\u001b[39mFacetGrid(pca_df,hue\u001b[38;5;241m=\u001b[39m\u001b[38;5;124m\"\u001b[39m\u001b[38;5;124mcluster_assignment\u001b[39m\u001b[38;5;124m\"\u001b[39m, height\u001b[38;5;241m=\u001b[39m\u001b[38;5;241m6\u001b[39m)\u001b[38;5;241m.\u001b[39mmap(plt\u001b[38;5;241m.\u001b[39mscatter, \u001b[38;5;124m'\u001b[39m\u001b[38;5;124m1st_principal\u001b[39m\u001b[38;5;124m'\u001b[39m, \u001b[38;5;124m'\u001b[39m\u001b[38;5;124m2nd_principal\u001b[39m\u001b[38;5;124m'\u001b[39m )\u001b[38;5;241m.\u001b[39madd_legend()\n\u001b[1;32m      4\u001b[0m plt\u001b[38;5;241m.\u001b[39mshow()\n",
      "\u001b[0;31mTypeError\u001b[0m: 'DataFrame' object is not callable"
     ]
    }
   ],
   "source": [
    "pca_df = pandasDF(data=pca_data, columns=(\"1st_principal\", \"2nd_principal\",\"cluster_assignment\"))\n",
    "sns.FacetGrid(pca_df,hue=\"cluster_assignment\", height=6).map(plt.scatter, '1st_principal', '2nd_principal' ).add_legend()\n",
    "\n",
    "plt.show()\n",
    "\n",
    "\n",
    "\n",
    "\n",
    "reduced_data = PCA(n_components=2).fit_transform(data)\n",
    "results = pd.DataFrame(reduced_data,columns=['pca1','pca2'])\n",
    "sns.scatterplot(x=\"pca1\", y=\"pca2\", hue=kmeans['clusters'], data=results)\n",
    "plt.title('K-means Clustering with 2 dimensions')\n",
    "plt.show()\n",
    "\n",
    "\n"
   ]
  },
  {
   "cell_type": "code",
   "execution_count": null,
   "metadata": {},
   "outputs": [],
   "source": []
  }
 ],
 "metadata": {
  "kernelspec": {
   "display_name": "Python 3 (ipykernel)",
   "language": "python",
   "name": "python3"
  },
  "language_info": {
   "codemirror_mode": {
    "name": "ipython",
    "version": 3
   },
   "file_extension": ".py",
   "mimetype": "text/x-python",
   "name": "python",
   "nbconvert_exporter": "python",
   "pygments_lexer": "ipython3",
   "version": "3.10.4"
  }
 },
 "nbformat": 4,
 "nbformat_minor": 2
}
